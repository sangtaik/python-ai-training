{
 "cells": [
  {
   "cell_type": "code",
   "execution_count": 8,
   "metadata": {
    "colab": {
     "base_uri": "https://localhost:8080/"
    },
    "id": "P-aqLQ5L9i5w",
    "outputId": "efea29e7-5fbf-4fcb-fdcf-686033407275"
   },
   "outputs": [
    {
     "name": "stdout",
     "output_type": "stream",
     "text": [
      "   pregnant  plasma  pressure  thickness  insulin   BMI  pedigree  age  class\n",
      "0         6     148        72         35        0  33.6     0.627   50      1\n",
      "1         1      85        66         29        0  26.6     0.351   31      0\n",
      "2         8     183        64          0        0  23.3     0.672   32      1\n",
      "3         1      89        66         23       94  28.1     0.167   21      0\n",
      "4         0     137        40         35      168  43.1     2.288   33      1\n"
     ]
    }
   ],
   "source": [
    "import matplotlib.pyplot as plt\n",
    "\n",
    "\n",
    "import numpy as np\n",
    "import pandas as pd\n",
    "\n",
    "\n",
    "\n",
    "\n",
    "# 준비된 수술 환자 데이터를 불러옴, class가 1이면 당뇨\n",
    "# 용어 해석 : diabetes : 당뇨, plasma : 포도당 부하 검사 후 2시간 후 공복 혈당 농도(mm Hg)\n",
    "# pregnant : 과거 임신 횟수, pressure : 확장기 혈압(mm Hg), \n",
    "# thickness : 심두근 피부 주름 두께(mm), BMI : 체질량 지수, pedigree : 당뇨병 가족력 \n",
    "df = pd.read_csv(\"pima-indians-diabetes.csv\", \n",
    "                       names = [\"pregnant\", \"plasma\", \"pressure\", \"thickness\",\n",
    "                                \"insulin\", \"BMI\", \"pedigree\", \"age\", \"class\"])\n",
    "\n",
    "print(df.head(5))"
   ]
  },
  {
   "cell_type": "code",
   "execution_count": 9,
   "metadata": {
    "colab": {
     "base_uri": "https://localhost:8080/"
    },
    "id": "Rfm1beSG--iw",
    "outputId": "7667c73e-d292-435b-9404-9af06e302894"
   },
   "outputs": [
    {
     "name": "stdout",
     "output_type": "stream",
     "text": [
      "<class 'pandas.core.frame.DataFrame'>\n",
      "RangeIndex: 768 entries, 0 to 767\n",
      "Data columns (total 9 columns):\n",
      " #   Column     Non-Null Count  Dtype  \n",
      "---  ------     --------------  -----  \n",
      " 0   pregnant   768 non-null    int64  \n",
      " 1   plasma     768 non-null    int64  \n",
      " 2   pressure   768 non-null    int64  \n",
      " 3   thickness  768 non-null    int64  \n",
      " 4   insulin    768 non-null    int64  \n",
      " 5   BMI        768 non-null    float64\n",
      " 6   pedigree   768 non-null    float64\n",
      " 7   age        768 non-null    int64  \n",
      " 8   class      768 non-null    int64  \n",
      "dtypes: float64(2), int64(7)\n",
      "memory usage: 54.1 KB\n",
      "None\n",
      " \n",
      "         pregnant      plasma    pressure   thickness     insulin         BMI  \\\n",
      "count  768.000000  768.000000  768.000000  768.000000  768.000000  768.000000   \n",
      "mean     3.845052  120.894531   69.105469   20.536458   79.799479   31.992578   \n",
      "std      3.369578   31.972618   19.355807   15.952218  115.244002    7.884160   \n",
      "min      0.000000    0.000000    0.000000    0.000000    0.000000    0.000000   \n",
      "25%      1.000000   99.000000   62.000000    0.000000    0.000000   27.300000   \n",
      "50%      3.000000  117.000000   72.000000   23.000000   30.500000   32.000000   \n",
      "75%      6.000000  140.250000   80.000000   32.000000  127.250000   36.600000   \n",
      "max     17.000000  199.000000  122.000000   99.000000  846.000000   67.100000   \n",
      "\n",
      "         pedigree         age       class  \n",
      "count  768.000000  768.000000  768.000000  \n",
      "mean     0.471876   33.240885    0.348958  \n",
      "std      0.331329   11.760232    0.476951  \n",
      "min      0.078000   21.000000    0.000000  \n",
      "25%      0.243750   24.000000    0.000000  \n",
      "50%      0.372500   29.000000    0.000000  \n",
      "75%      0.626250   41.000000    1.000000  \n",
      "max      2.420000   81.000000    1.000000  \n"
     ]
    }
   ],
   "source": [
    "print(df.info())\n",
    "print(\" \")\n",
    "print(df.describe())"
   ]
  },
  {
   "cell_type": "code",
   "execution_count": 5,
   "metadata": {
    "colab": {
     "base_uri": "https://localhost:8080/"
    },
    "id": "Te5U4n6f_Kje",
    "outputId": "f7c7955f-0cee-4667-fa5a-d97ce5c75bb1"
   },
   "outputs": [
    {
     "name": "stdout",
     "output_type": "stream",
     "text": [
      "     pregnant  class\n",
      "0           6      1\n",
      "1           1      0\n",
      "2           8      1\n",
      "3           1      0\n",
      "4           0      1\n",
      "..        ...    ...\n",
      "763        10      0\n",
      "764         2      0\n",
      "765         5      0\n",
      "766         1      1\n",
      "767         1      0\n",
      "\n",
      "[768 rows x 2 columns]\n"
     ]
    }
   ],
   "source": [
    "print(df[['pregnant', 'class']])"
   ]
  },
  {
   "cell_type": "code",
   "execution_count": 10,
   "metadata": {
    "colab": {
     "base_uri": "https://localhost:8080/"
    },
    "id": "PIsKPTVN_T4P",
    "outputId": "501a3a45-6efd-42ba-acc7-30d366f97339"
   },
   "outputs": [
    {
     "name": "stdout",
     "output_type": "stream",
     "text": [
      "    pregnant     class\n",
      "0          0  0.342342\n",
      "1          1  0.214815\n",
      "2          2  0.184466\n",
      "3          3  0.360000\n",
      "4          4  0.338235\n",
      "5          5  0.368421\n",
      "6          6  0.320000\n",
      "7          7  0.555556\n",
      "8          8  0.578947\n",
      "9          9  0.642857\n",
      "10        10  0.416667\n",
      "11        11  0.636364\n",
      "12        12  0.444444\n",
      "13        13  0.500000\n",
      "14        14  1.000000\n",
      "15        15  1.000000\n",
      "16        17  1.000000\n"
     ]
    }
   ],
   "source": [
    "# pregnant 컬럼으로 group by하고, as_index=False로 새로운 인덱스를 생성한다.\n",
    "# mean으로 평균을 구한 후, 오름차순으로 정렬한다.\n",
    "# 목적 : 임신 횟수와 당뇨병 발병 확률을 구할 수 있다.\n",
    "new_df = df[['pregnant', 'class']].groupby(['pregnant'], as_index=False).mean().sort_values(by='pregnant', ascending=True)\n",
    "print(new_df)\n"
   ]
  },
  {
   "cell_type": "code",
   "execution_count": 11,
   "metadata": {
    "colab": {
     "base_uri": "https://localhost:8080/",
     "height": 283
    },
    "id": "Gs6XsilaIWSn",
    "outputId": "5432916c-957e-477c-dfb9-9957b3c0ee1b"
   },
   "outputs": [
    {
     "name": "stdout",
     "output_type": "stream",
     "text": [
      "0.04315032084767642 0.1759717871470992\n"
     ]
    },
    {
     "data": {
      "image/png": "[encoded data removed]",
      "text/plain": [
       "<Figure size 432x288 with 1 Axes>"
      ]
     },
     "metadata": {
      "needs_background": "light"
     },
     "output_type": "display_data"
    }
   ],
   "source": [
    "import matplotlib.pyplot as plt\n",
    "import seaborn as sns\n",
    "\n",
    "m, b = np.polyfit(new_df['pregnant'], new_df['class'], deg = 1)\n",
    "print(m, b)\n",
    "\n",
    "plt.scatter(new_df['pregnant'], new_df['class'], s=100)\n",
    "plt.plot(np.arange(0, 19), m * np.arange(0, 19) + b, c = 'red')\n",
    "plt.show()"
   ]
  },
  {
   "cell_type": "code",
   "execution_count": 14,
   "metadata": {
    "colab": {
     "base_uri": "https://localhost:8080/",
     "height": 1000
    },
    "id": "cmvJX1s3BSoG",
    "outputId": "7c5fe5d7-5903-416f-88e4-cd53d63657d6"
   },
   "outputs": [
    {
     "data": {
      "text/html": [
       "\n",
       "  <div id=\"df-87bc22bf-b8e5-40d0-9fb7-a07bdd9e07c7\">\n",
       "    <div class=\"colab-df-container\">\n",
       "      <div>\n",
       "<style scoped>\n",
       "    .dataframe tbody tr th:only-of-type {\n",
       "        vertical-align: middle;\n",
       "    }\n",
       "\n",
       "    .dataframe tbody tr th {\n",
       "        vertical-align: top;\n",
       "    }\n",
       "\n",
       "    .dataframe thead th {\n",
       "        text-align: right;\n",
       "    }\n",
       "</style>\n",
       "<table border=\"1\" class=\"dataframe\">\n",
       "  <thead>\n",
       "    <tr style=\"text-align: right;\">\n",
       "      <th></th>\n",
       "      <th>pregnant</th>\n",
       "      <th>plasma</th>\n",
       "      <th>pressure</th>\n",
       "      <th>thickness</th>\n",
       "      <th>insulin</th>\n",
       "      <th>BMI</th>\n",
       "      <th>pedigree</th>\n",
       "      <th>age</th>\n",
       "      <th>class</th>\n",
       "    </tr>\n",
       "  </thead>\n",
       "  <tbody>\n",
       "    <tr>\n",
       "      <th>pregnant</th>\n",
       "      <td>1.000000</td>\n",
       "      <td>0.129459</td>\n",
       "      <td>0.141282</td>\n",
       "      <td>-0.081672</td>\n",
       "      <td>-0.073535</td>\n",
       "      <td>0.017683</td>\n",
       "      <td>-0.033523</td>\n",
       "      <td>0.544341</td>\n",
       "      <td>0.221898</td>\n",
       "    </tr>\n",
       "    <tr>\n",
       "      <th>plasma</th>\n",
       "      <td>0.129459</td>\n",
       "      <td>1.000000</td>\n",
       "      <td>0.152590</td>\n",
       "      <td>0.057328</td>\n",
       "      <td>0.331357</td>\n",
       "      <td>0.221071</td>\n",
       "      <td>0.137337</td>\n",
       "      <td>0.263514</td>\n",
       "      <td>0.466581</td>\n",
       "    </tr>\n",
       "    <tr>\n",
       "      <th>pressure</th>\n",
       "      <td>0.141282</td>\n",
       "      <td>0.152590</td>\n",
       "      <td>1.000000</td>\n",
       "      <td>0.207371</td>\n",
       "      <td>0.088933</td>\n",
       "      <td>0.281805</td>\n",
       "      <td>0.041265</td>\n",
       "      <td>0.239528</td>\n",
       "      <td>0.065068</td>\n",
       "    </tr>\n",
       "    <tr>\n",
       "      <th>thickness</th>\n",
       "      <td>-0.081672</td>\n",
       "      <td>0.057328</td>\n",
       "      <td>0.207371</td>\n",
       "      <td>1.000000</td>\n",
       "      <td>0.436783</td>\n",
       "      <td>0.392573</td>\n",
       "      <td>0.183928</td>\n",
       "      <td>-0.113970</td>\n",
       "      <td>0.074752</td>\n",
       "    </tr>\n",
       "    <tr>\n",
       "      <th>insulin</th>\n",
       "      <td>-0.073535</td>\n",
       "      <td>0.331357</td>\n",
       "      <td>0.088933</td>\n",
       "      <td>0.436783</td>\n",
       "      <td>1.000000</td>\n",
       "      <td>0.197859</td>\n",
       "      <td>0.185071</td>\n",
       "      <td>-0.042163</td>\n",
       "      <td>0.130548</td>\n",
       "    </tr>\n",
       "    <tr>\n",
       "      <th>BMI</th>\n",
       "      <td>0.017683</td>\n",
       "      <td>0.221071</td>\n",
       "      <td>0.281805</td>\n",
       "      <td>0.392573</td>\n",
       "      <td>0.197859</td>\n",
       "      <td>1.000000</td>\n",
       "      <td>0.140647</td>\n",
       "      <td>0.036242</td>\n",
       "      <td>0.292695</td>\n",
       "    </tr>\n",
       "    <tr>\n",
       "      <th>pedigree</th>\n",
       "      <td>-0.033523</td>\n",
       "      <td>0.137337</td>\n",
       "      <td>0.041265</td>\n",
       "      <td>0.183928</td>\n",
       "      <td>0.185071</td>\n",
       "      <td>0.140647</td>\n",
       "      <td>1.000000</td>\n",
       "      <td>0.033561</td>\n",
       "      <td>0.173844</td>\n",
       "    </tr>\n",
       "    <tr>\n",
       "      <th>age</th>\n",
       "      <td>0.544341</td>\n",
       "      <td>0.263514</td>\n",
       "      <td>0.239528</td>\n",
       "      <td>-0.113970</td>\n",
       "      <td>-0.042163</td>\n",
       "      <td>0.036242</td>\n",
       "      <td>0.033561</td>\n",
       "      <td>1.000000</td>\n",
       "      <td>0.238356</td>\n",
       "    </tr>\n",
       "    <tr>\n",
       "      <th>class</th>\n",
       "      <td>0.221898</td>\n",
       "      <td>0.466581</td>\n",
       "      <td>0.065068</td>\n",
       "      <td>0.074752</td>\n",
       "      <td>0.130548</td>\n",
       "      <td>0.292695</td>\n",
       "      <td>0.173844</td>\n",
       "      <td>0.238356</td>\n",
       "      <td>1.000000</td>\n",
       "    </tr>\n",
       "  </tbody>\n",
       "</table>\n",
       "</div>\n",
       "      <button class=\"colab-df-convert\" onclick=\"convertToInteractive('df-87bc22bf-b8e5-40d0-9fb7-a07bdd9e07c7')\"\n",
       "              title=\"Convert this dataframe to an interactive table.\"\n",
       "              style=\"display:none;\">\n",
       "        \n",
       "  <svg xmlns=\"http://www.w3.org/2000/svg\" height=\"24px\"viewBox=\"0 0 24 24\"\n",
       "       width=\"24px\">\n",
       "    <path d=\"M0 0h24v24H0V0z\" fill=\"none\"/>\n",
       "    <path d=\"M18.56 5.44l.94 2.06.94-2.06 2.06-.94-2.06-.94-.94-2.06-.94 2.06-2.06.94zm-11 1L8.5 8.5l.94-2.06 2.06-.94-2.06-.94L8.5 2.5l-.94 2.06-2.06.94zm10 10l.94 2.06.94-2.06 2.06-.94-2.06-.94-.94-2.06-.94 2.06-2.06.94z\"/><path d=\"M17.41 7.96l-1.37-1.37c-.4-.4-.92-.59-1.43-.59-.52 0-1.04.2-1.43.59L10.3 9.45l-7.72 7.72c-.78.78-.78 2.05 0 2.83L4 21.41c.39.39.9.59 1.41.59.51 0 1.02-.2 1.41-.59l7.78-7.78 2.81-2.81c.8-.78.8-2.07 0-2.86zM5.41 20L4 18.59l7.72-7.72 1.47 1.35L5.41 20z\"/>\n",
       "  </svg>\n",
       "      </button>\n",
       "      \n",
       "  <style>\n",
       "    .colab-df-container {\n",
       "      display:flex;\n",
       "      flex-wrap:wrap;\n",
       "      gap: 12px;\n",
       "    }\n",
       "\n",
       "    .colab-df-convert {\n",
       "      background-color: #E8F0FE;\n",
       "      border: none;\n",
       "      border-radius: 50%;\n",
       "      cursor: pointer;\n",
       "      display: none;\n",
       "      fill: #1967D2;\n",
       "      height: 32px;\n",
       "      padding: 0 0 0 0;\n",
       "      width: 32px;\n",
       "    }\n",
       "\n",
       "    .colab-df-convert:hover {\n",
       "      background-color: #E2EBFA;\n",
       "      box-shadow: 0px 1px 2px rgba(60, 64, 67, 0.3), 0px 1px 3px 1px rgba(60, 64, 67, 0.15);\n",
       "      fill: #174EA6;\n",
       "    }\n",
       "\n",
       "    [theme=dark] .colab-df-convert {\n",
       "      background-color: #3B4455;\n",
       "      fill: #D2E3FC;\n",
       "    }\n",
       "\n",
       "    [theme=dark] .colab-df-convert:hover {\n",
       "      background-color: #434B5C;\n",
       "      box-shadow: 0px 1px 3px 1px rgba(0, 0, 0, 0.15);\n",
       "      filter: drop-shadow(0px 1px 2px rgba(0, 0, 0, 0.3));\n",
       "      fill: #FFFFFF;\n",
       "    }\n",
       "  </style>\n",
       "\n",
       "      <script>\n",
       "        const buttonEl =\n",
       "          document.querySelector('#df-87bc22bf-b8e5-40d0-9fb7-a07bdd9e07c7 button.colab-df-convert');\n",
       "        buttonEl.style.display =\n",
       "          google.colab.kernel.accessAllowed ? 'block' : 'none';\n",
       "\n",
       "        async function convertToInteractive(key) {\n",
       "          const element = document.querySelector('#df-87bc22bf-b8e5-40d0-9fb7-a07bdd9e07c7');\n",
       "          const dataTable =\n",
       "            await google.colab.kernel.invokeFunction('convertToInteractive',\n",
       "                                                     [key], {});\n",
       "          if (!dataTable) return;\n",
       "\n",
       "          const docLinkHtml = 'Like what you see? Visit the ' +\n",
       "            '<a target=\"_blank\" href=https://colab.research.google.com/notebooks/data_table.ipynb>data table notebook</a>'\n",
       "            + ' to learn more about interactive tables.';\n",
       "          element.innerHTML = '';\n",
       "          dataTable['output_type'] = 'display_data';\n",
       "          await google.colab.output.renderOutput(dataTable, element);\n",
       "          const docLink = document.createElement('div');\n",
       "          docLink.innerHTML = docLinkHtml;\n",
       "          element.appendChild(docLink);\n",
       "        }\n",
       "      </script>\n",
       "    </div>\n",
       "  </div>\n",
       "  "
      ],
      "text/plain": [
       "           pregnant    plasma  pressure  thickness   insulin       BMI  \\\n",
       "pregnant   1.000000  0.129459  0.141282  -0.081672 -0.073535  0.017683   \n",
       "plasma     0.129459  1.000000  0.152590   0.057328  0.331357  0.221071   \n",
       "pressure   0.141282  0.152590  1.000000   0.207371  0.088933  0.281805   \n",
       "thickness -0.081672  0.057328  0.207371   1.000000  0.436783  0.392573   \n",
       "insulin   -0.073535  0.331357  0.088933   0.436783  1.000000  0.197859   \n",
       "BMI        0.017683  0.221071  0.281805   0.392573  0.197859  1.000000   \n",
       "pedigree  -0.033523  0.137337  0.041265   0.183928  0.185071  0.140647   \n",
       "age        0.544341  0.263514  0.239528  -0.113970 -0.042163  0.036242   \n",
       "class      0.221898  0.466581  0.065068   0.074752  0.130548  0.292695   \n",
       "\n",
       "           pedigree       age     class  \n",
       "pregnant  -0.033523  0.544341  0.221898  \n",
       "plasma     0.137337  0.263514  0.466581  \n",
       "pressure   0.041265  0.239528  0.065068  \n",
       "thickness  0.183928 -0.113970  0.074752  \n",
       "insulin    0.185071 -0.042163  0.130548  \n",
       "BMI        0.140647  0.036242  0.292695  \n",
       "pedigree   1.000000  0.033561  0.173844  \n",
       "age        0.033561  1.000000  0.238356  \n",
       "class      0.173844  0.238356  1.000000  "
      ]
     },
     "metadata": {},
     "output_type": "display_data"
    },
    {
     "data": {
      "image/png": "[encoded data removed]",
      "text/plain": [
       "<Figure size 864x864 with 2 Axes>"
      ]
     },
     "metadata": {
      "needs_background": "light"
     },
     "output_type": "display_data"
    }
   ],
   "source": [
    "# 분석을 위해 A와 B의 관계를 나타내는 콜레이션 매트릭스를 출력해본다.\n",
    "# 1에 가까우면 양의 상관성, -1에 가까우면 음의 상관성이 있다고 한다.\n",
    "display(df.corr())\n",
    "\n",
    "# 히트맵으로 확인해본다.\n",
    "plt.figure(figsize=(12,12))\n",
    "\n",
    "sns.heatmap(df.corr(), linewidths=0.1, vmax=0.5, cmap=plt.cm.gist_heat,\n",
    "            linecolor='white', annot=True)\n",
    "plt.show()"
   ]
  },
  {
   "cell_type": "code",
   "execution_count": 21,
   "metadata": {
    "colab": {
     "base_uri": "https://localhost:8080/",
     "height": 221
    },
    "id": "lHyTlr6DIAws",
    "outputId": "48139220-e37e-400a-d1db-552e92e432aa"
   },
   "outputs": [
    {
     "data": {
      "image/png": "[encoded data removed]",
      "text/plain": [
       "<Figure size 432x216 with 2 Axes>"
      ]
     },
     "metadata": {},
     "output_type": "display_data"
    }
   ],
   "source": [
    "sns.set(color_codes = True)\n",
    "bins = range(0, 200, 10) # 눈금선 \n",
    "grid = sns.FacetGrid(df, col='class')\n",
    "grid.map(plt.hist, 'plasma', bins=bins, color='m', alpha=0.7)# m은 마젠타 색을 의미\n",
    "plt.show()"
   ]
  },
  {
   "cell_type": "code",
   "execution_count": null,
   "metadata": {
    "id": "LTgRWC8yTzk9"
   },
   "outputs": [],
   "source": [
    "from tensorflow.keras.models import Sequential\n",
    "from tensorflow.keras.layers import Dense\n",
    "import tensorflow as tf\n",
    "import random\n",
    "\n",
    "np.random.seed(3)\n",
    "tf.random.set_seed(3)"
   ]
  },
  {
   "cell_type": "code",
   "execution_count": 22,
   "metadata": {
    "colab": {
     "base_uri": "https://localhost:8080/"
    },
    "id": "SOyAOkOMKLLc",
    "outputId": "33fb4d2b-be2c-4707-ef0c-48a4d5322ec3"
   },
   "outputs": [
    {
     "name": "stdout",
     "output_type": "stream",
     "text": [
      "[[  6.    148.     72.    ...  33.6     0.627  50.   ]\n",
      " [  1.     85.     66.    ...  26.6     0.351  31.   ]\n",
      " [  8.    183.     64.    ...  23.3     0.672  32.   ]\n",
      " ...\n",
      " [  5.    121.     72.    ...  26.2     0.245  30.   ]\n",
      " [  1.    126.     60.    ...  30.1     0.349  47.   ]\n",
      " [  1.     93.     70.    ...  30.4     0.315  23.   ]]\n",
      "[1 0 1 0 1 0 1 0 1 1 0 1 0 1 1 1 1 1 0 1 0 0 1 1 1 1 1 0 0 0 0 1 0 0 0 0 0\n",
      " 1 1 1 0 0 0 1 0 1 0 0 1 0 0 0 0 1 0 0 1 0 0 0 0 1 0 0 1 0 1 0 0 0 1 0 1 0\n",
      " 0 0 0 0 1 0 0 0 0 0 1 0 0 0 1 0 0 0 0 1 0 0 0 0 0 1 1 0 0 0 0 0 0 0 0 1 1\n",
      " 1 0 0 1 1 1 0 0 0 1 0 0 0 1 1 0 0 1 1 1 1 1 0 0 0 0 0 0 0 0 0 0 1 0 0 0 0\n",
      " 0 0 0 0 1 0 1 1 0 0 0 1 0 0 0 0 1 1 0 0 0 0 1 1 0 0 0 1 0 1 0 1 0 0 0 0 0\n",
      " 1 1 1 1 1 0 0 1 1 0 1 0 1 1 1 0 0 0 0 0 0 1 1 0 1 0 0 0 1 1 1 1 0 1 1 1 1\n",
      " 0 0 0 0 0 1 0 0 1 1 0 0 0 1 1 1 1 0 0 0 1 1 0 1 0 0 0 0 0 0 0 0 1 1 0 0 0\n",
      " 1 0 1 0 0 1 0 1 0 0 1 1 0 0 0 0 0 1 0 0 0 1 0 0 1 1 0 0 1 0 0 0 1 1 1 0 0\n",
      " 1 0 1 0 1 1 0 1 0 0 1 0 1 1 0 0 1 0 1 0 0 1 0 1 0 1 1 1 0 0 1 0 1 0 0 0 1\n",
      " 0 0 0 0 1 1 1 0 0 0 0 0 0 0 0 0 1 0 0 0 0 0 1 1 1 0 1 1 0 0 1 0 0 1 0 0 1\n",
      " 1 0 0 0 0 1 0 0 1 0 0 0 0 0 0 0 1 1 1 0 0 1 0 0 1 0 0 1 0 1 1 0 1 0 1 0 1\n",
      " 0 1 1 0 0 0 0 1 1 0 1 0 1 0 0 0 0 1 1 0 1 0 1 0 0 0 0 0 1 0 0 0 0 1 0 0 1\n",
      " 1 1 0 0 1 0 0 1 0 0 0 1 0 0 1 0 0 0 0 0 0 0 0 0 1 0 0 0 0 0 0 0 1 0 0 0 1\n",
      " 0 0 0 1 1 0 0 0 0 0 0 0 1 0 0 0 0 1 0 0 0 1 0 0 0 1 0 0 0 1 0 0 0 0 1 1 0\n",
      " 0 0 0 0 0 1 0 0 0 0 0 0 0 0 0 0 0 1 0 0 0 1 1 1 1 0 0 1 1 0 0 0 0 0 0 0 0\n",
      " 0 0 0 0 0 1 1 0 0 0 0 0 0 0 1 0 0 0 0 0 0 0 1 0 1 1 0 0 0 1 0 1 0 1 0 1 0\n",
      " 1 0 0 1 0 0 1 0 0 0 0 1 1 0 1 0 0 0 0 1 1 0 1 0 0 0 1 1 0 0 0 0 0 0 0 0 0\n",
      " 0 1 0 0 0 0 1 0 0 1 0 0 0 1 0 0 0 1 1 1 0 0 0 0 0 0 1 0 0 0 1 0 1 1 1 1 0\n",
      " 1 1 0 0 0 0 0 0 0 1 1 0 1 0 0 1 0 1 0 0 0 0 0 1 0 1 0 1 0 1 1 0 0 0 0 1 1\n",
      " 0 0 0 1 0 1 1 0 0 1 0 0 1 1 0 0 1 0 0 1 0 0 0 0 0 0 0 1 1 1 0 0 0 0 0 0 1\n",
      " 1 0 0 1 0 0 1 0 1 1 1 0 0 1 1 1 0 1 0 1 0 1 0 0 0 0 1 0]\n"
     ]
    }
   ],
   "source": [
    "# dataset = np.loadtxt(\"pima-indians-diabetes.csv\", delimiter=\",\")\n",
    "# X = dataset[:, 0:8]\n",
    "# Y = dataset[:, 8]\n",
    "\n",
    "X = df.iloc[:, 0:8].to_numpy()\n",
    "Y = df.iloc[:, 8].to_numpy()\n",
    "\n",
    "print(X)\n",
    "print(Y)"
   ]
  },
  {
   "cell_type": "code",
   "execution_count": 27,
   "metadata": {
    "colab": {
     "base_uri": "https://localhost:8080/"
    },
    "id": "LOldX0lbUjmx",
    "outputId": "778f512e-4f4f-4e4b-a5c5-9ddc41e52f49"
   },
   "outputs": [
    {
     "name": "stdout",
     "output_type": "stream",
     "text": [
      "Model: \"sequential_2\"\n",
      "_________________________________________________________________\n",
      " Layer (type)                Output Shape              Param #   \n",
      "=================================================================\n",
      " dense_3 (Dense)             (None, 12)                108       \n",
      "                                                                 \n",
      " dense_4 (Dense)             (None, 8)                 104       \n",
      "                                                                 \n",
      " dense_5 (Dense)             (None, 1)                 9         \n",
      "                                                                 \n",
      "=================================================================\n",
      "Total params: 221\n",
      "Trainable params: 221\n",
      "Non-trainable params: 0\n",
      "_________________________________________________________________\n",
      "None\n",
      "Epoch 1/20\n",
      "77/77 [==============================] - 1s 4ms/step - loss: 7.4953 - accuracy: 0.6081\n",
      "Epoch 2/20\n",
      "77/77 [==============================] - 0s 3ms/step - loss: 2.7489 - accuracy: 0.5052\n",
      "Epoch 3/20\n",
      "77/77 [==============================] - 0s 2ms/step - loss: 1.2092 - accuracy: 0.4648\n",
      "Epoch 4/20\n",
      "77/77 [==============================] - 0s 2ms/step - loss: 0.8036 - accuracy: 0.6315\n",
      "Epoch 5/20\n",
      "77/77 [==============================] - 0s 2ms/step - loss: 0.6953 - accuracy: 0.6419\n",
      "Epoch 6/20\n",
      "77/77 [==============================] - 0s 2ms/step - loss: 0.6776 - accuracy: 0.6523\n",
      "Epoch 7/20\n",
      "77/77 [==============================] - 0s 2ms/step - loss: 0.6710 - accuracy: 0.6419\n",
      "Epoch 8/20\n",
      "77/77 [==============================] - 0s 2ms/step - loss: 0.6587 - accuracy: 0.6641\n",
      "Epoch 9/20\n",
      "77/77 [==============================] - 0s 2ms/step - loss: 0.6437 - accuracy: 0.6784\n",
      "Epoch 10/20\n",
      "77/77 [==============================] - 0s 2ms/step - loss: 0.6403 - accuracy: 0.6589\n",
      "Epoch 11/20\n",
      "77/77 [==============================] - 0s 2ms/step - loss: 0.6283 - accuracy: 0.6901\n",
      "Epoch 12/20\n",
      "77/77 [==============================] - 0s 2ms/step - loss: 0.6217 - accuracy: 0.6862\n",
      "Epoch 13/20\n",
      "77/77 [==============================] - 0s 2ms/step - loss: 0.6156 - accuracy: 0.6914\n",
      "Epoch 14/20\n",
      "77/77 [==============================] - 0s 2ms/step - loss: 0.6339 - accuracy: 0.6758\n",
      "Epoch 15/20\n",
      "77/77 [==============================] - 0s 2ms/step - loss: 0.6092 - accuracy: 0.6940\n",
      "Epoch 16/20\n",
      "77/77 [==============================] - 0s 2ms/step - loss: 0.6049 - accuracy: 0.6953\n",
      "Epoch 17/20\n",
      "77/77 [==============================] - 0s 2ms/step - loss: 0.6008 - accuracy: 0.6979\n",
      "Epoch 18/20\n",
      "77/77 [==============================] - 0s 2ms/step - loss: 0.5976 - accuracy: 0.6862\n",
      "Epoch 19/20\n",
      "77/77 [==============================] - 0s 2ms/step - loss: 0.5953 - accuracy: 0.7044\n",
      "Epoch 20/20\n",
      "77/77 [==============================] - 0s 2ms/step - loss: 0.5951 - accuracy: 0.6875\n"
     ]
    },
    {
     "data": {
      "text/plain": [
       "<keras.callbacks.History at 0x7fbf394653d0>"
      ]
     },
     "execution_count": 27,
     "metadata": {},
     "output_type": "execute_result"
    }
   ],
   "source": [
    "\n",
    "model = Sequential()\n",
    "model.add(Dense(12, input_dim=8, activation='relu'))\n",
    "model.add(Dense(8, activation='relu'))\n",
    "model.add(Dense(1, activation='sigmoid'))\n",
    "\n",
    "print(model.summary())\n",
    "\n",
    "# Param 수 계산\n",
    "# 8 * 12 + bias 12 건 = 108건\n",
    "# 12 * 8 + bias 8 건 = 104건\n",
    "# 8 * 1 + bias 1건 = 9건\n",
    "# _________________________________________________________________\n",
    "#  Layer (type)                Output Shape              Param #   \n",
    "# =================================================================\n",
    "#  dense_3 (Dense)             (None, 12)                108       \n",
    "                                                                 \n",
    "#  dense_4 (Dense)             (None, 8)                 104       \n",
    "                                                                 \n",
    "#  dense_5 (Dense)             (None, 1)                 9   \n",
    "\n",
    "#모델 컴파일\n",
    " \n",
    "model.compile(loss='binary_crossentropy',\n",
    "              optimizer='adam',\n",
    "              metrics=['accuracy'])\n",
    "\n",
    "# 모델 실행\n",
    "model.fit(X, Y, epochs=20, batch_size=10)\n",
    "\n"
   ]
  },
  {
   "cell_type": "code",
   "execution_count": 28,
   "metadata": {
    "colab": {
     "base_uri": "https://localhost:8080/"
    },
    "id": "fB_ad1JJLZMM",
    "outputId": "58e28d9b-9541-4454-e615-a316d4b0ac70"
   },
   "outputs": [
    {
     "name": "stdout",
     "output_type": "stream",
     "text": [
      "24/24 [==============================] - 0s 3ms/step - loss: 0.5810 - accuracy: 0.7122\n",
      "/\\ Accuracy: 0.7122\n"
     ]
    }
   ],
   "source": [
    "print(\"/\\ Accuracy: %.4f\" % (model.evaluate(X, Y)[1]))"
   ]
  },
  {
   "cell_type": "code",
   "execution_count": 47,
   "metadata": {
    "colab": {
     "base_uri": "https://localhost:8080/",
     "height": 422
    },
    "id": "Z9Jv3DQwV0tm",
    "outputId": "287eedfb-0252-45b0-f38f-33dc600c7f1a"
   },
   "outputs": [
    {
     "data": {
      "image/png": "[encoded data removed]",
      "text/plain": [
       "<IPython.core.display.Image object>"
      ]
     },
     "execution_count": 47,
     "metadata": {},
     "output_type": "execute_result"
    }
   ],
   "source": [
    "from keras.utils.vis_utils import plot_model\n",
    "plot_model(model, to_file='model_plot.png', show_shapes=True, show_layer_names=True)"
   ]
  },
  {
   "cell_type": "code",
   "execution_count": 51,
   "metadata": {
    "colab": {
     "base_uri": "https://localhost:8080/"
    },
    "id": "FQrOu2YFmve0",
    "outputId": "02ec6483-d124-45f2-f7ec-234ce15efeaa"
   },
   "outputs": [
    {
     "name": "stdout",
     "output_type": "stream",
     "text": [
      "2022-04-18 02:59:04.604233: E tensorflow/stream_executor/cuda/cuda_driver.cc:271] failed call to cuInit: CUDA_ERROR_NO_DEVICE: no CUDA-capable device is detected\n",
      "\n",
      "New experiment created. View your TensorBoard at: https://tensorboard.dev/experiment/0gbJNlW3RmqhbMUQyQwyZQ/\n",
      "\n",
      "\u001b[1m[2022-04-18T02:59:04]\u001b[0m Started scanning logdir.\n",
      "\u001b[1m[2022-04-18T02:59:04]\u001b[0m Done scanning logdir.\n",
      "TensorBoard was run in `one_shot` mode, but did not find any uploadable data in the specified logdir: ./logs\n",
      "An empty experiment was created. To delete the empty experiment you can execute the following\n",
      "\n",
      "    tensorboard dev delete --experiment_id=0gbJNlW3RmqhbMUQyQwyZQ\n",
      "\n",
      "\n",
      "Done.\n"
     ]
    }
   ],
   "source": [
    "!tensorboard dev upload --logdir ./logs \\\n",
    "  --name \"Simple experiment with MNIST\" \\\n",
    "  --description \"Training results from https://colab.sandbox.google.com/github/tensorflow/tensorboard/blob/master/docs/tbdev_getting_started.ipynb\" \\\n",
    "  --one_shot"
   ]
  },
  {
   "cell_type": "code",
   "execution_count": 52,
   "metadata": {
    "colab": {
     "base_uri": "https://localhost:8080/"
    },
    "id": "gGnCeljPijbT",
    "outputId": "b8da5992-ec59-4ac5-9f82-c5354054afd6"
   },
   "outputs": [
    {
     "name": "stdout",
     "output_type": "stream",
     "text": [
      "2022-04-18 02:59:19.064755: E tensorflow/stream_executor/cuda/cuda_driver.cc:271] failed call to cuInit: CUDA_ERROR_NO_DEVICE: no CUDA-capable device is detected\n",
      "https://tensorboard.dev/experiment/0gbJNlW3RmqhbMUQyQwyZQ/\n",
      "\tName                 Simple experiment with MNIST\n",
      "\tDescription          Training results from https://colab.sandbox.google.com/github/tensorflow/tensorboard/blob/master/docs/tbdev_getting_started.ipynb\n",
      "\tId                   0gbJNlW3RmqhbMUQyQwyZQ\n",
      "\tCreated              2022-04-18 02:59:04 (23 seconds ago)\n",
      "\tUpdated              2022-04-18 02:59:04 (23 seconds ago)\n",
      "\tRuns                 0\n",
      "\tTags                 0\n",
      "\tScalars              0\n",
      "\tTensor bytes         0\n",
      "\tBinary object bytes  0\n",
      "Total: 1 experiment(s)\n"
     ]
    }
   ],
   "source": [
    "!tensorboard dev list"
   ]
  },
  {
   "cell_type": "code",
   "execution_count": 54,
   "metadata": {
    "colab": {
     "base_uri": "https://localhost:8080/"
    },
    "id": "67mJ1FoZnihW",
    "outputId": "3b0b9286-7cbd-43ad-ddd8-a9758528ca72"
   },
   "outputs": [
    {
     "name": "stdout",
     "output_type": "stream",
     "text": [
      "Model: \"sequential_4\"\n",
      "_________________________________________________________________\n",
      " Layer (type)                Output Shape              Param #   \n",
      "=================================================================\n",
      " dense_9 (Dense)             (None, 12)                108       \n",
      "                                                                 \n",
      " dense_10 (Dense)            (None, 8)                 104       \n",
      "                                                                 \n",
      " dense_11 (Dense)            (None, 1)                 9         \n",
      "                                                                 \n",
      "=================================================================\n",
      "Total params: 221\n",
      "Trainable params: 221\n",
      "Non-trainable params: 0\n",
      "_________________________________________________________________\n",
      "None\n",
      "Epoch 1/20\n",
      "77/77 [==============================] - 2s 15ms/step - loss: 6.6140 - accuracy: 0.6068\n",
      "Epoch 2/20\n",
      "77/77 [==============================] - 1s 9ms/step - loss: 1.1595 - accuracy: 0.5078\n",
      "Epoch 3/20\n",
      "77/77 [==============================] - 0s 3ms/step - loss: 0.9548 - accuracy: 0.5352\n",
      "Epoch 4/20\n",
      "77/77 [==============================] - 0s 5ms/step - loss: 0.8456 - accuracy: 0.5599\n",
      "Epoch 5/20\n",
      "77/77 [==============================] - 0s 5ms/step - loss: 0.7738 - accuracy: 0.5924\n",
      "Epoch 6/20\n",
      "77/77 [==============================] - 0s 6ms/step - loss: 0.7198 - accuracy: 0.6250\n",
      "Epoch 7/20\n",
      "77/77 [==============================] - 1s 7ms/step - loss: 0.7040 - accuracy: 0.6354\n",
      "Epoch 8/20\n",
      "77/77 [==============================] - 0s 6ms/step - loss: 0.6887 - accuracy: 0.6354\n",
      "Epoch 9/20\n",
      "77/77 [==============================] - 0s 6ms/step - loss: 0.6828 - accuracy: 0.6211\n",
      "Epoch 10/20\n",
      "77/77 [==============================] - 0s 6ms/step - loss: 0.6594 - accuracy: 0.6354\n",
      "Epoch 11/20\n",
      "77/77 [==============================] - 0s 4ms/step - loss: 0.6440 - accuracy: 0.6628\n",
      "Epoch 12/20\n",
      "77/77 [==============================] - 0s 3ms/step - loss: 0.6450 - accuracy: 0.6484\n",
      "Epoch 13/20\n",
      "77/77 [==============================] - 0s 3ms/step - loss: 0.6210 - accuracy: 0.6888\n",
      "Epoch 14/20\n",
      "77/77 [==============================] - 0s 3ms/step - loss: 0.6295 - accuracy: 0.6836\n",
      "Epoch 15/20\n",
      "77/77 [==============================] - 0s 3ms/step - loss: 0.6051 - accuracy: 0.6797\n",
      "Epoch 16/20\n",
      "77/77 [==============================] - 0s 3ms/step - loss: 0.6106 - accuracy: 0.6784\n",
      "Epoch 17/20\n",
      "77/77 [==============================] - 0s 3ms/step - loss: 0.6066 - accuracy: 0.6875\n",
      "Epoch 18/20\n",
      "77/77 [==============================] - 0s 3ms/step - loss: 0.6090 - accuracy: 0.6680\n",
      "Epoch 19/20\n",
      "77/77 [==============================] - 0s 3ms/step - loss: 0.6217 - accuracy: 0.6693\n",
      "Epoch 20/20\n",
      "77/77 [==============================] - 0s 3ms/step - loss: 0.5899 - accuracy: 0.6914\n"
     ]
    },
    {
     "data": {
      "text/plain": [
       "<keras.callbacks.History at 0x7fbf3cd17a50>"
      ]
     },
     "execution_count": 54,
     "metadata": {},
     "output_type": "execute_result"
    }
   ],
   "source": [
    "import datetime\n",
    "from tensorboard.plugins.hparams import api as hp\n",
    "\n",
    "model = Sequential()\n",
    "model.add(Dense(12, input_dim=8, activation='relu'))\n",
    "model.add(Dense(8, activation='relu'))\n",
    "model.add(Dense(1, activation='sigmoid'))\n",
    "\n",
    "print(model.summary())\n",
    "\n",
    "#모델 컴파일\n",
    "model.compile(loss='binary_crossentropy',\n",
    "              optimizer='adam',\n",
    "              metrics=['accuracy'])\n",
    "\n",
    "# 텐서보드 사용할 때 셋팅\n",
    "log_dir=\"logs/fit/\" + datetime.datetime.now().strftime(\"%Y%m%d-%H%M%S\")\n",
    "tensorboard_callback = tf.keras.callbacks.TensorBoard(\n",
    "    log_dir=log_dir, histogram_freq=1)\n",
    "hparams_callback = hp.KerasCallback(log_dir, {\n",
    "    'num_relu_units': 512,\n",
    "    'dropout': 0.2\n",
    "})\n",
    "\n",
    "# 모델 실행\n",
    "model.fit(X, Y, epochs=20, batch_size=10,\n",
    "          callbacks=[tensorboard_callback, hparams_callback])\n"
   ]
  },
  {
   "cell_type": "code",
   "execution_count": 55,
   "metadata": {
    "colab": {
     "base_uri": "https://localhost:8080/"
    },
    "id": "s_JM8q-moSF3",
    "outputId": "ead7dced-ec2c-4030-b01f-b99c1f5e3d03"
   },
   "outputs": [
    {
     "name": "stdout",
     "output_type": "stream",
     "text": [
      "2022-04-18 03:04:48.552671: E tensorflow/stream_executor/cuda/cuda_driver.cc:271] failed call to cuInit: CUDA_ERROR_NO_DEVICE: no CUDA-capable device is detected\n",
      "\n",
      "New experiment created. View your TensorBoard at: https://tensorboard.dev/experiment/Smck7JWdQ9S6RRr6lBFK2w/\n",
      "\n",
      "\u001b[1m[2022-04-18T03:04:49]\u001b[0m Started scanning logdir.\n",
      "\u001b[1m[2022-04-18T03:04:49]\u001b[0m Total uploaded: 40 scalars, 122 tensors (86.1 kB), 1 binary objects (42.9 kB)\n",
      "\u001b[1m[2022-04-18T03:04:49]\u001b[0m Done scanning logdir.\n",
      "\n",
      "\n",
      "Done. View your TensorBoard at https://tensorboard.dev/experiment/Smck7JWdQ9S6RRr6lBFK2w/\n"
     ]
    }
   ],
   "source": [
    "!tensorboard dev upload --logdir ./logs \\\n",
    "  --name \"Simple experiment with MNIST\" \\\n",
    "  --description \"Training results from https://colab.sandbox.google.com/github/tensorflow/tensorboard/blob/master/docs/tbdev_getting_started.ipynb\" \\\n",
    "  --one_shot"
   ]
  },
  {
   "cell_type": "code",
   "execution_count": null,
   "metadata": {
    "id": "h7H9o3E0oW6b"
   },
   "outputs": [],
   "source": []
  }
 ],
 "metadata": {
  "colab": {
   "collapsed_sections": [],
   "name": "Class11_diabetes_model_view.ipynb",
   "provenance": []
  },
  "kernelspec": {
   "display_name": "Python 3 (ipykernel)",
   "language": "python",
   "name": "python3"
  },
  "language_info": {
   "codemirror_mode": {
    "name": "ipython",
    "version": 3
   },
   "file_extension": ".py",
   "mimetype": "text/x-python",
   "name": "python",
   "nbconvert_exporter": "python",
   "pygments_lexer": "ipython3",
   "version": "3.9.7"
  }
 },
 "nbformat": 4,
 "nbformat_minor": 4
}
