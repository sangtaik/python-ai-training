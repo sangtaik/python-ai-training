{
 "cells": [
  {
   "cell_type": "code",
   "execution_count": null,
   "metadata": {
    "colab": {
     "base_uri": "https://localhost:8080/",
     "height": 59,
     "resources": {
      "http://localhost:8080/nbextensions/google.colab/files.js": {
       "data": "Ly8gQ29weXJpZ2h0IDIwMTcgR29vZ2xlIExMQwovLwovLyBMaWNlbnNlZCB1bmRlciB0aGUgQXBhY2hlIExpY2Vuc2UsIFZlcnNpb24gMi4wICh0aGUgIkxpY2Vuc2UiKTsKLy8geW91IG1heSBub3QgdXNlIHRoaXMgZmlsZSBleGNlcHQgaW4gY29tcGxpYW5jZSB3aXRoIHRoZSBMaWNlbnNlLgovLyBZb3UgbWF5IG9idGFpbiBhIGNvcHkgb2YgdGhlIExpY2Vuc2UgYXQKLy8KLy8gICAgICBodHRwOi8vd3d3LmFwYWNoZS5vcmcvbGljZW5zZXMvTElDRU5TRS0yLjAKLy8KLy8gVW5sZXNzIHJlcXVpcmVkIGJ5IGFwcGxpY2FibGUgbGF3IG9yIGFncmVlZCB0byBpbiB3cml0aW5nLCBzb2Z0d2FyZQovLyBkaXN0cmlidXRlZCB1bmRlciB0aGUgTGljZW5zZSBpcyBkaXN0cmlidXRlZCBvbiBhbiAiQVMgSVMiIEJBU0lTLAovLyBXSVRIT1VUIFdBUlJBTlRJRVMgT1IgQ09ORElUSU9OUyBPRiBBTlkgS0lORCwgZWl0aGVyIGV4cHJlc3Mgb3IgaW1wbGllZC4KLy8gU2VlIHRoZSBMaWNlbnNlIGZvciB0aGUgc3BlY2lmaWMgbGFuZ3VhZ2UgZ292ZXJuaW5nIHBlcm1pc3Npb25zIGFuZAovLyBsaW1pdGF0aW9ucyB1bmRlciB0aGUgTGljZW5zZS4KCi8qKgogKiBAZmlsZW92ZXJ2aWV3IEhlbHBlcnMgZm9yIGdvb2dsZS5jb2xhYiBQeXRob24gbW9kdWxlLgogKi8KKGZ1bmN0aW9uKHNjb3BlKSB7CmZ1bmN0aW9uIHNwYW4odGV4dCwgc3R5bGVBdHRyaWJ1dGVzID0ge30pIHsKICBjb25zdCBlbGVtZW50ID0gZG9jdW1lbnQuY3JlYXRlRWxlbWVudCgnc3BhbicpOwogIGVsZW1lbnQudGV4dENvbnRlbnQgPSB0ZXh0OwogIGZvciAoY29uc3Qga2V5IG9mIE9iamVjdC5rZXlzKHN0eWxlQXR0cmlidXRlcykpIHsKICAgIGVsZW1lbnQuc3R5bGVba2V5XSA9IHN0eWxlQXR0cmlidXRlc1trZXldOwogIH0KICByZXR1cm4gZWxlbWVudDsKfQoKLy8gTWF4IG51bWJlciBvZiBieXRlcyB3aGljaCB3aWxsIGJlIHVwbG9hZGVkIGF0IGEgdGltZS4KY29uc3QgTUFYX1BBWUxPQURfU0laRSA9IDEwMCAqIDEwMjQ7CgpmdW5jdGlvbiBfdXBsb2FkRmlsZXMoaW5wdXRJZCwgb3V0cHV0SWQpIHsKICBjb25zdCBzdGVwcyA9IHVwbG9hZEZpbGVzU3RlcChpbnB1dElkLCBvdXRwdXRJZCk7CiAgY29uc3Qgb3V0cHV0RWxlbWVudCA9IGRvY3VtZW50LmdldEVsZW1lbnRCeUlkKG91dHB1dElkKTsKICAvLyBDYWNoZSBzdGVwcyBvbiB0aGUgb3V0cHV0RWxlbWVudCB0byBtYWtlIGl0IGF2YWlsYWJsZSBmb3IgdGhlIG5leHQgY2FsbAogIC8vIHRvIHVwbG9hZEZpbGVzQ29udGludWUgZnJvbSBQeXRob24uCiAgb3V0cHV0RWxlbWVudC5zdGVwcyA9IHN0ZXBzOwoKICByZXR1cm4gX3VwbG9hZEZpbGVzQ29udGludWUob3V0cHV0SWQpOwp9CgovLyBUaGlzIGlzIHJvdWdobHkgYW4gYXN5bmMgZ2VuZXJhdG9yIChub3Qgc3VwcG9ydGVkIGluIHRoZSBicm93c2VyIHlldCksCi8vIHdoZXJlIHRoZXJlIGFyZSBtdWx0aXBsZSBhc3luY2hyb25vdXMgc3RlcHMgYW5kIHRoZSBQeXRob24gc2lkZSBpcyBnb2luZwovLyB0byBwb2xsIGZvciBjb21wbGV0aW9uIG9mIGVhY2ggc3RlcC4KLy8gVGhpcyB1c2VzIGEgUHJvbWlzZSB0byBibG9jayB0aGUgcHl0aG9uIHNpZGUgb24gY29tcGxldGlvbiBvZiBlYWNoIHN0ZXAsCi8vIHRoZW4gcGFzc2VzIHRoZSByZXN1bHQgb2YgdGhlIHByZXZpb3VzIHN0ZXAgYXMgdGhlIGlucHV0IHRvIHRoZSBuZXh0IHN0ZXAuCmZ1bmN0aW9uIF91cGxvYWRGaWxlc0NvbnRpbnVlKG91dHB1dElkKSB7CiAgY29uc3Qgb3V0cHV0RWxlbWVudCA9IGRvY3VtZW50LmdldEVsZW1lbnRCeUlkKG91dHB1dElkKTsKICBjb25zdCBzdGVwcyA9IG91dHB1dEVsZW1lbnQuc3RlcHM7CgogIGNvbnN0IG5leHQgPSBzdGVwcy5uZXh0KG91dHB1dEVsZW1lbnQubGFzdFByb21pc2VWYWx1ZSk7CiAgcmV0dXJuIFByb21pc2UucmVzb2x2ZShuZXh0LnZhbHVlLnByb21pc2UpLnRoZW4oKHZhbHVlKSA9PiB7CiAgICAvLyBDYWNoZSB0aGUgbGFzdCBwcm9taXNlIHZhbHVlIHRvIG1ha2UgaXQgYXZhaWxhYmxlIHRvIHRoZSBuZXh0CiAgICAvLyBzdGVwIG9mIHRoZSBnZW5lcmF0b3IuCiAgICBvdXRwdXRFbGVtZW50Lmxhc3RQcm9taXNlVmFsdWUgPSB2YWx1ZTsKICAgIHJldHVybiBuZXh0LnZhbHVlLnJlc3BvbnNlOwogIH0pOwp9CgovKioKICogR2VuZXJhdG9yIGZ1bmN0aW9uIHdoaWNoIGlzIGNhbGxlZCBiZXR3ZWVuIGVhY2ggYXN5bmMgc3RlcCBvZiB0aGUgdXBsb2FkCiAqIHByb2Nlc3MuCiAqIEBwYXJhbSB7c3RyaW5nfSBpbnB1dElkIEVsZW1lbnQgSUQgb2YgdGhlIGlucHV0IGZpbGUgcGlja2VyIGVsZW1lbnQuCiAqIEBwYXJhbSB7c3RyaW5nfSBvdXRwdXRJZCBFbGVtZW50IElEIG9mIHRoZSBvdXRwdXQgZGlzcGxheS4KICogQHJldHVybiB7IUl0ZXJhYmxlPCFPYmplY3Q+fSBJdGVyYWJsZSBvZiBuZXh0IHN0ZXBzLgogKi8KZnVuY3Rpb24qIHVwbG9hZEZpbGVzU3RlcChpbnB1dElkLCBvdXRwdXRJZCkgewogIGNvbnN0IGlucHV0RWxlbWVudCA9IGRvY3VtZW50LmdldEVsZW1lbnRCeUlkKGlucHV0SWQpOwogIGlucHV0RWxlbWVudC5kaXNhYmxlZCA9IGZhbHNlOwoKICBjb25zdCBvdXRwdXRFbGVtZW50ID0gZG9jdW1lbnQuZ2V0RWxlbWVudEJ5SWQob3V0cHV0SWQpOwogIG91dHB1dEVsZW1lbnQuaW5uZXJIVE1MID0gJyc7CgogIGNvbnN0IHBpY2tlZFByb21pc2UgPSBuZXcgUHJvbWlzZSgocmVzb2x2ZSkgPT4gewogICAgaW5wdXRFbGVtZW50LmFkZEV2ZW50TGlzdGVuZXIoJ2NoYW5nZScsIChlKSA9PiB7CiAgICAgIHJlc29sdmUoZS50YXJnZXQuZmlsZXMpOwogICAgfSk7CiAgfSk7CgogIGNvbnN0IGNhbmNlbCA9IGRvY3VtZW50LmNyZWF0ZUVsZW1lbnQoJ2J1dHRvbicpOwogIGlucHV0RWxlbWVudC5wYXJlbnRFbGVtZW50LmFwcGVuZENoaWxkKGNhbmNlbCk7CiAgY2FuY2VsLnRleHRDb250ZW50ID0gJ0NhbmNlbCB1cGxvYWQnOwogIGNvbnN0IGNhbmNlbFByb21pc2UgPSBuZXcgUHJvbWlzZSgocmVzb2x2ZSkgPT4gewogICAgY2FuY2VsLm9uY2xpY2sgPSAoKSA9PiB7CiAgICAgIHJlc29sdmUobnVsbCk7CiAgICB9OwogIH0pOwoKICAvLyBXYWl0IGZvciB0aGUgdXNlciB0byBwaWNrIHRoZSBmaWxlcy4KICBjb25zdCBmaWxlcyA9IHlpZWxkIHsKICAgIHByb21pc2U6IFByb21pc2UucmFjZShbcGlja2VkUHJvbWlzZSwgY2FuY2VsUHJvbWlzZV0pLAogICAgcmVzcG9uc2U6IHsKICAgICAgYWN0aW9uOiAnc3RhcnRpbmcnLAogICAgfQogIH07CgogIGNhbmNlbC5yZW1vdmUoKTsKCiAgLy8gRGlzYWJsZSB0aGUgaW5wdXQgZWxlbWVudCBzaW5jZSBmdXJ0aGVyIHBpY2tzIGFyZSBub3QgYWxsb3dlZC4KICBpbnB1dEVsZW1lbnQuZGlzYWJsZWQgPSB0cnVlOwoKICBpZiAoIWZpbGVzKSB7CiAgICByZXR1cm4gewogICAgICByZXNwb25zZTogewogICAgICAgIGFjdGlvbjogJ2NvbXBsZXRlJywKICAgICAgfQogICAgfTsKICB9CgogIGZvciAoY29uc3QgZmlsZSBvZiBmaWxlcykgewogICAgY29uc3QgbGkgPSBkb2N1bWVudC5jcmVhdGVFbGVtZW50KCdsaScpOwogICAgbGkuYXBwZW5kKHNwYW4oZmlsZS5uYW1lLCB7Zm9udFdlaWdodDogJ2JvbGQnfSkpOwogICAgbGkuYXBwZW5kKHNwYW4oCiAgICAgICAgYCgke2ZpbGUudHlwZSB8fCAnbi9hJ30pIC0gJHtmaWxlLnNpemV9IGJ5dGVzLCBgICsKICAgICAgICBgbGFzdCBtb2RpZmllZDogJHsKICAgICAgICAgICAgZmlsZS5sYXN0TW9kaWZpZWREYXRlID8gZmlsZS5sYXN0TW9kaWZpZWREYXRlLnRvTG9jYWxlRGF0ZVN0cmluZygpIDoKICAgICAgICAgICAgICAgICAgICAgICAgICAgICAgICAgICAgJ24vYSd9IC0gYCkpOwogICAgY29uc3QgcGVyY2VudCA9IHNwYW4oJzAlIGRvbmUnKTsKICAgIGxpLmFwcGVuZENoaWxkKHBlcmNlbnQpOwoKICAgIG91dHB1dEVsZW1lbnQuYXBwZW5kQ2hpbGQobGkpOwoKICAgIGNvbnN0IGZpbGVEYXRhUHJvbWlzZSA9IG5ldyBQcm9taXNlKChyZXNvbHZlKSA9PiB7CiAgICAgIGNvbnN0IHJlYWRlciA9IG5ldyBGaWxlUmVhZGVyKCk7CiAgICAgIHJlYWRlci5vbmxvYWQgPSAoZSkgPT4gewogICAgICAgIHJlc29sdmUoZS50YXJnZXQucmVzdWx0KTsKICAgICAgfTsKICAgICAgcmVhZGVyLnJlYWRBc0FycmF5QnVmZmVyKGZpbGUpOwogICAgfSk7CiAgICAvLyBXYWl0IGZvciB0aGUgZGF0YSB0byBiZSByZWFkeS4KICAgIGxldCBmaWxlRGF0YSA9IHlpZWxkIHsKICAgICAgcHJvbWlzZTogZmlsZURhdGFQcm9taXNlLAogICAgICByZXNwb25zZTogewogICAgICAgIGFjdGlvbjogJ2NvbnRpbnVlJywKICAgICAgfQogICAgfTsKCiAgICAvLyBVc2UgYSBjaHVua2VkIHNlbmRpbmcgdG8gYXZvaWQgbWVzc2FnZSBzaXplIGxpbWl0cy4gU2VlIGIvNjIxMTU2NjAuCiAgICBsZXQgcG9zaXRpb24gPSAwOwogICAgZG8gewogICAgICBjb25zdCBsZW5ndGggPSBNYXRoLm1pbihmaWxlRGF0YS5ieXRlTGVuZ3RoIC0gcG9zaXRpb24sIE1BWF9QQVlMT0FEX1NJWkUpOwogICAgICBjb25zdCBjaHVuayA9IG5ldyBVaW50OEFycmF5KGZpbGVEYXRhLCBwb3NpdGlvbiwgbGVuZ3RoKTsKICAgICAgcG9zaXRpb24gKz0gbGVuZ3RoOwoKICAgICAgY29uc3QgYmFzZTY0ID0gYnRvYShTdHJpbmcuZnJvbUNoYXJDb2RlLmFwcGx5KG51bGwsIGNodW5rKSk7CiAgICAgIHlpZWxkIHsKICAgICAgICByZXNwb25zZTogewogICAgICAgICAgYWN0aW9uOiAnYXBwZW5kJywKICAgICAgICAgIGZpbGU6IGZpbGUubmFtZSwKICAgICAgICAgIGRhdGE6IGJhc2U2NCwKICAgICAgICB9LAogICAgICB9OwoKICAgICAgbGV0IHBlcmNlbnREb25lID0gZmlsZURhdGEuYnl0ZUxlbmd0aCA9PT0gMCA/CiAgICAgICAgICAxMDAgOgogICAgICAgICAgTWF0aC5yb3VuZCgocG9zaXRpb24gLyBmaWxlRGF0YS5ieXRlTGVuZ3RoKSAqIDEwMCk7CiAgICAgIHBlcmNlbnQudGV4dENvbnRlbnQgPSBgJHtwZXJjZW50RG9uZX0lIGRvbmVgOwoKICAgIH0gd2hpbGUgKHBvc2l0aW9uIDwgZmlsZURhdGEuYnl0ZUxlbmd0aCk7CiAgfQoKICAvLyBBbGwgZG9uZS4KICB5aWVsZCB7CiAgICByZXNwb25zZTogewogICAgICBhY3Rpb246ICdjb21wbGV0ZScsCiAgICB9CiAgfTsKfQoKc2NvcGUuZ29vZ2xlID0gc2NvcGUuZ29vZ2xlIHx8IHt9OwpzY29wZS5nb29nbGUuY29sYWIgPSBzY29wZS5nb29nbGUuY29sYWIgfHwge307CnNjb3BlLmdvb2dsZS5jb2xhYi5fZmlsZXMgPSB7CiAgX3VwbG9hZEZpbGVzLAogIF91cGxvYWRGaWxlc0NvbnRpbnVlLAp9Owp9KShzZWxmKTsK",
       "headers": [
        [
         "content-type",
         "application/javascript"
        ]
       ],
       "ok": true,
       "status": 200,
       "status_text": ""
      }
     }
    },
    "id": "bK8S-8e3Nogm",
    "outputId": "9c116ee8-0bc9-4b18-96bc-afb41722efe6"
   },
   "outputs": [
    {
     "data": {
      "text/html": [
       "\n",
       "     <input type=\"file\" id=\"files-6a6d8831-20aa-4dc3-b195-979ddfc638a1\" name=\"files[]\" multiple disabled\n",
       "        style=\"border:none\" />\n",
       "     <output id=\"result-6a6d8831-20aa-4dc3-b195-979ddfc638a1\">\n",
       "      Upload widget is only available when the cell has been executed in the\n",
       "      current browser session. Please rerun this cell to enable.\n",
       "      </output>\n",
       "      <script src=\"/nbextensions/google.colab/files.js\"></script> "
      ],
      "text/plain": [
       "<IPython.core.display.HTML object>"
      ]
     },
     "metadata": {},
     "output_type": "display_data"
    },
    {
     "data": {
      "text/plain": [
       "numpy.ndarray"
      ]
     },
     "execution_count": 3,
     "metadata": {},
     "output_type": "execute_result"
    }
   ],
   "source": [
    "from tensorflow import keras\n",
    "import numpy as np\n",
    "\n",
    "# 구글  colab에 올리는 경우에는 아래 코드를 사용한다.\n",
    "from google.colab import files\n",
    "upload = files.upload()\n"
   ]
  },
  {
   "cell_type": "code",
   "execution_count": null,
   "metadata": {
    "colab": {
     "base_uri": "https://localhost:8080/"
    },
    "id": "RzJSya_6NrmY",
    "outputId": "e50e5998-3ace-4a1b-db06-f320acff6eff"
   },
   "outputs": [
    {
     "data": {
      "text/plain": [
       "numpy.ndarray"
      ]
     },
     "execution_count": 4,
     "metadata": {},
     "output_type": "execute_result"
    }
   ],
   "source": [
    "data_set = np.loadtxt('ThoraricSurgery.csv', delimiter =',')\n",
    "data_set.shape\n",
    "type(data_set)"
   ]
  },
  {
   "cell_type": "code",
   "execution_count": null,
   "metadata": {
    "colab": {
     "base_uri": "https://localhost:8080/"
    },
    "id": "NcTzyC4QOGse",
    "outputId": "4246d95f-0d4a-4560-8275-66f25d23ca5a"
   },
   "outputs": [
    {
     "data": {
      "text/plain": [
       "array([20.86666667,  4.78      ,  5.42722222,  6.83555556,  5.17166667,\n",
       "        5.47944444,  7.27555556,  7.15333333,  8.21722222, 10.53777778,\n",
       "       11.18888889, 12.60666667, 11.18      , 12.54666667, 16.03333333,\n",
       "       11.99111111, 12.42888889, 13.28444444, 14.29777778, 13.74444444,\n",
       "       13.97333333, 14.17111111, 14.48444444, 14.58666667, 15.70222222,\n",
       "       15.69555556, 15.96666667, 17.01222222, 16.67333333, 19.24      ,\n",
       "       19.71111111, 20.55555556, 21.08666667, 22.00888889, 22.84555556,\n",
       "       27.16333333, 23.72888889, 24.60222222, 23.74      , 22.93333333,\n",
       "       25.74833333, 26.12222222, 27.34944444, 26.9       , 27.48888889,\n",
       "       27.41555556, 27.53111111, 28.31333333, 28.48444444, 29.22666667,\n",
       "       29.29555556, 29.22888889, 30.72222222,  4.12666667,  4.65777778,\n",
       "        4.37333333,  5.68888889,  4.29777778,  5.20222222,  5.65555556,\n",
       "        4.74888889,  5.16      ,  5.31777778,  5.79777778,  6.24222222,\n",
       "        5.82444444,  6.18222222,  6.18666667,  5.33111111,  5.83555556,\n",
       "        5.94444444,  6.12888889,  6.74777778,  6.04722222,  6.31333333,\n",
       "        6.05111111,  6.845     ,  6.27555556,  7.23111111,  6.89555556,\n",
       "        6.51555556,  6.50666667,  7.50111111,  7.23555556,  6.97555556,\n",
       "        7.74666667,  7.98666667,  7.53111111,  7.13777778,  8.41555556,\n",
       "        8.04888889,  8.26222222,  7.93111111,  6.53333333,  8.28888889,\n",
       "        7.86444444,  7.54444444,  9.11555556,  7.92      ,  7.80888889,\n",
       "        7.91555556,  6.90888889,  8.49555556,  9.10444444,  8.12222222,\n",
       "        9.34444444,  8.74666667,  8.60444444,  8.01111111,  9.11777778,\n",
       "        9.20222222,  8.59111111, 10.01111111,  9.08666667,  9.14666667,\n",
       "        9.38222222,  9.34444444,  8.86444444,  9.36      ,  9.17166667,\n",
       "        9.90888889, 14.17944444, 10.36666667,  9.89333333,  9.44444444,\n",
       "       11.40666667,  9.73111111, 13.385     , 10.30666667, 10.89055556,\n",
       "       10.97111111, 10.22166667,  9.92888889, 10.25333333, 10.34444444,\n",
       "       10.67333333, 11.58888889, 10.86666667, 14.26555556, 10.50888889,\n",
       "       10.99111111, 10.83333333, 12.12      , 12.24      , 12.56444444,\n",
       "       12.21055556, 11.84666667, 12.5       , 12.06611111, 11.96888889,\n",
       "       12.07333333, 12.28888889, 11.75555556, 12.14      , 11.99111111,\n",
       "       13.41333333, 11.915     , 12.82888889, 13.33333333, 13.28444444,\n",
       "       13.74444444, 13.39333333, 12.60222222, 13.54      , 13.98666667,\n",
       "       14.30944444, 13.74222222, 13.60666667, 13.86666667, 13.46444444,\n",
       "       13.68888889, 13.27222222, 14.26666667, 13.23555556, 14.19333333,\n",
       "       13.63388889, 15.07166667, 13.63111111, 14.18888889, 14.49555556,\n",
       "       13.99777778, 14.30444444, 15.11333333, 14.21777778, 14.46444444,\n",
       "       14.20222222, 14.74222222, 14.86222222, 14.89777778, 14.97333333,\n",
       "       14.67555556, 14.53333333, 15.19277778, 15.64      , 15.17555556,\n",
       "       15.17111111, 15.01111111, 15.24      , 15.65777778, 16.11555556,\n",
       "       15.59      , 16.29111111, 15.58      , 15.16888889, 16.83444444,\n",
       "       16.11111111, 15.88      , 16.41777778, 16.80222222, 15.90444444,\n",
       "       16.40111111, 16.36444444, 16.58777778, 15.90444444, 17.78444444,\n",
       "       17.44888889, 17.16444444, 16.90055556, 17.20888889, 16.58      ,\n",
       "       17.57777778, 17.50444444, 17.28      , 17.76222222, 17.115     ,\n",
       "       18.00444444, 17.47777778, 18.01222222, 17.98888889, 18.61111111,\n",
       "       18.27111111, 18.05777778, 18.67333333, 18.50444444, 17.51555556,\n",
       "       18.12222222, 18.24777778, 18.18222222, 19.18666667, 19.09      ,\n",
       "       19.57111111, 18.93055556, 18.84888889, 18.94222222, 22.22333333,\n",
       "       18.59333333, 18.45777778, 18.9       , 18.78666667, 19.60055556,\n",
       "       19.72      , 19.09333333, 19.47333333, 19.35777778, 20.20222222,\n",
       "       19.90222222, 20.51333333, 20.36444444, 20.34666667, 20.53722222,\n",
       "       20.11444444, 20.39333333, 20.66666667, 19.95222222, 19.69111111,\n",
       "       20.29777778, 20.41555556, 20.87555556, 20.18      , 21.10444444,\n",
       "       20.78666667, 20.82444444, 21.54888889, 21.23777778, 21.94444444,\n",
       "       21.72222222, 21.59111111, 20.85111111, 21.14444444, 22.39111111,\n",
       "       21.07333333, 21.79333333, 21.29111111, 21.92277778, 22.14444444,\n",
       "       21.46888889, 22.19777778, 21.56222222, 21.73777778, 22.64166667,\n",
       "       22.05777778, 22.09111111, 22.58      , 22.06888889, 23.31111111,\n",
       "       22.46444444, 26.01111111, 22.17333333, 23.69055556, 22.72666667,\n",
       "       23.70666667, 23.46888889, 22.74666667, 23.20222222, 22.86222222,\n",
       "       23.4       , 23.75777778, 23.61555556, 23.44222222, 23.93333333,\n",
       "       24.34      , 23.74444444, 24.09777778, 24.14444444, 24.82222222,\n",
       "       24.63055556, 28.18      , 26.75222222, 24.43333333, 24.21555556,\n",
       "       24.23555556, 24.90888889, 24.69111111, 24.37333333, 24.06888889,\n",
       "       24.82222222, 24.76666667, 24.66888889, 24.99111111, 25.04222222,\n",
       "       25.10888889, 25.05777778, 24.78222222, 24.51777778, 25.47333333,\n",
       "       25.92      , 26.35555556, 25.56222222, 25.61333333, 25.99333333,\n",
       "       25.26444444, 25.38222222, 25.40444444, 25.92444444, 26.74888889,\n",
       "       26.38666667, 26.68666667, 27.17777778, 26.65111111, 24.32444444,\n",
       "       26.89111111, 27.03333333, 26.67111111, 27.35333333, 26.62      ,\n",
       "       26.92222222, 27.02      , 27.35111111, 27.155     , 27.6       ,\n",
       "       27.15777778, 27.97      , 27.71055556, 28.82444444, 27.58      ,\n",
       "       28.54666667, 28.33555556, 27.60611111, 28.08666667, 29.17555556,\n",
       "       28.62444444, 29.38888889, 28.69722222, 28.31333333, 28.95      ,\n",
       "       29.22222222, 28.57555556, 28.55555556, 28.78444444, 27.96      ,\n",
       "       28.72      , 29.46888889, 30.29555556, 31.85888889, 29.36      ,\n",
       "       29.95555556, 29.26222222, 30.55333333, 30.44666667, 30.56444444,\n",
       "       30.33333333, 30.03555556, 30.15333333, 29.31111111, 30.52444444,\n",
       "       30.91111111, 31.1       , 31.62444444, 30.54888889, 30.17333333,\n",
       "       31.70222222, 30.29333333,  5.95333333,  8.57111111,  8.09111111,\n",
       "        8.18888889,  8.61555556,  8.09888889, 10.95777778, 10.64888889,\n",
       "       11.42      , 11.25111111, 11.95111111, 11.05777778, 11.82555556,\n",
       "       13.18388889, 13.04666667, 15.16222222, 15.31333333, 16.39333333,\n",
       "       17.55111111, 17.38444444, 18.99333333, 18.79111111, 19.71777778,\n",
       "       20.72666667, 20.54777778, 21.96222222, 22.69333333, 22.56222222,\n",
       "       25.85166667, 23.71777778, 23.55555556, 23.99111111, 24.60555556,\n",
       "       28.95111111, 24.72      , 26.54222222, 26.47555556, 26.14      ,\n",
       "       27.06444444, 25.8       , 26.98444444, 28.80666667, 28.17333333,\n",
       "       29.74444444, 30.54666667, 30.135     , 30.47777778, 10.07555556,\n",
       "        7.19055556,  7.09888889,  6.65555556, 10.63555556, 10.55944444,\n",
       "       16.22666667, 16.88611111, 17.41111111, 17.74888889, 20.34222222,\n",
       "       22.42777778, 26.83888889, 28.45111111, 33.35944444,  6.45777778,\n",
       "       11.13555556, 26.31111111, 27.62888889,  6.14      , 29.18333333])"
      ]
     },
     "execution_count": 5,
     "metadata": {},
     "output_type": "execute_result"
    }
   ],
   "source": [
    "data_set[0]\n",
    "data_set[2]\n",
    "data_set[0]\n",
    "data_set[0]\n",
    "np.mean(data_set, axis = 1)"
   ]
  },
  {
   "cell_type": "code",
   "execution_count": null,
   "metadata": {
    "colab": {
     "base_uri": "https://localhost:8080/",
     "height": 268
    },
    "id": "cRv5k5WAONnk",
    "outputId": "ef170292-e8e7-4322-c057-eef6bfec2e02"
   },
   "outputs": [
    {
     "data": {
      "image/png": "[encoded data removed]",
      "text/plain": [
       "<Figure size 432x288 with 1 Axes>"
      ]
     },
     "metadata": {
      "needs_background": "light"
     },
     "output_type": "display_data"
    }
   ],
   "source": [
    "import matplotlib.pyplot as plt\n",
    "plt.scatter(data_set[:, 2], data_set[:, -2])\n",
    "plt.show()"
   ]
  },
  {
   "cell_type": "code",
   "execution_count": null,
   "metadata": {
    "colab": {
     "base_uri": "https://localhost:8080/"
    },
    "id": "Rs7yUk_APbsB",
    "outputId": "bcffdea9-a1af-4c71-d708-d9962fb03950"
   },
   "outputs": [
    {
     "data": {
      "text/plain": [
       "array([[293.  ,   1.  ,   3.8 ,   2.8 ,   0.  ,   0.  ],\n",
       "       [  1.  ,   2.  ,   2.88,   2.16,   1.  ,   0.  ],\n",
       "       [  8.  ,   2.  ,   3.19,   2.5 ,   1.  ,   0.  ],\n",
       "       [ 14.  ,   2.  ,   3.98,   3.06,   2.  ,   0.  ],\n",
       "       [ 17.  ,   2.  ,   2.21,   1.88,   0.  ,   0.  ],\n",
       "       [ 18.  ,   2.  ,   2.96,   1.67,   0.  ,   0.  ],\n",
       "       [ 35.  ,   2.  ,   2.76,   2.2 ,   1.  ,   0.  ],\n",
       "       [ 42.  ,   2.  ,   3.24,   2.52,   1.  ,   0.  ],\n",
       "       [ 65.  ,   2.  ,   3.15,   2.76,   1.  ,   0.  ],\n",
       "       [111.  ,   2.  ,   4.48,   4.2 ,   0.  ,   0.  ]])"
      ]
     },
     "execution_count": 11,
     "metadata": {},
     "output_type": "execute_result"
    }
   ],
   "source": [
    "X = data_set[:, :17]\n",
    "Y = data_set[:, 17]\n",
    "Y\n",
    "X[:10, :6]"
   ]
  },
  {
   "cell_type": "code",
   "execution_count": null,
   "metadata": {
    "colab": {
     "base_uri": "https://localhost:8080/"
    },
    "id": "cnJmjhojPc_y",
    "outputId": "830061bf-7e54-42e4-9096-472399131975"
   },
   "outputs": [
    {
     "name": "stdout",
     "output_type": "stream",
     "text": [
      "Model: \"sequential\"\n",
      "_________________________________________________________________\n",
      " Layer (type)                Output Shape              Param #   \n",
      "=================================================================\n",
      " dense (Dense)               (None, 30)                540       \n",
      "                                                                 \n",
      " dense_1 (Dense)             (None, 1)                 31        \n",
      "                                                                 \n",
      "=================================================================\n",
      "Total params: 571\n",
      "Trainable params: 571\n",
      "Non-trainable params: 0\n",
      "_________________________________________________________________\n"
     ]
    }
   ],
   "source": [
    "# 모델 생산\n",
    "model = keras.Sequential()\n",
    "\n",
    "model.add(keras.layers.Dense(30, input_dim = 17, activation = 'relu'))\n",
    "\n",
    "model.add(keras.layers.Dense(1, activation = 'sigmoid'))\n",
    "\n",
    "model.summary()\n"
   ]
  },
  {
   "cell_type": "code",
   "execution_count": null,
   "metadata": {
    "colab": {
     "base_uri": "https://localhost:8080/"
    },
    "id": "h8Bjty-_TXlg",
    "outputId": "8c77eef2-b46b-4eff-f6ff-57d7276baf24"
   },
   "outputs": [
    {
     "name": "stdout",
     "output_type": "stream",
     "text": [
      "Epoch 1/100\n",
      "10/10 [==============================] - 1s 2ms/step - loss: 10.7598 - accuracy: 0.8511\n",
      "Epoch 2/100\n",
      "10/10 [==============================] - 0s 2ms/step - loss: 7.6348 - accuracy: 0.8511\n",
      "Epoch 3/100\n",
      "10/10 [==============================] - 0s 3ms/step - loss: 4.7602 - accuracy: 0.8511\n",
      "Epoch 4/100\n",
      "10/10 [==============================] - 0s 2ms/step - loss: 1.7707 - accuracy: 0.8340\n",
      "Epoch 5/100\n",
      "10/10 [==============================] - 0s 3ms/step - loss: 0.9147 - accuracy: 0.7043\n",
      "Epoch 6/100\n",
      "10/10 [==============================] - 0s 2ms/step - loss: 0.7147 - accuracy: 0.8319\n",
      "Epoch 7/100\n",
      "10/10 [==============================] - 0s 4ms/step - loss: 0.5575 - accuracy: 0.7979\n",
      "Epoch 8/100\n",
      "10/10 [==============================] - 0s 4ms/step - loss: 0.4897 - accuracy: 0.8255\n",
      "Epoch 9/100\n",
      "10/10 [==============================] - 0s 3ms/step - loss: 0.4770 - accuracy: 0.8383\n",
      "Epoch 10/100\n",
      "10/10 [==============================] - 0s 3ms/step - loss: 0.4625 - accuracy: 0.8383\n",
      "Epoch 11/100\n",
      "10/10 [==============================] - 0s 3ms/step - loss: 0.4496 - accuracy: 0.8404\n",
      "Epoch 12/100\n",
      "10/10 [==============================] - 0s 2ms/step - loss: 0.4504 - accuracy: 0.8426\n",
      "Epoch 13/100\n",
      "10/10 [==============================] - 0s 2ms/step - loss: 0.4571 - accuracy: 0.8404\n",
      "Epoch 14/100\n",
      "10/10 [==============================] - 0s 2ms/step - loss: 0.4480 - accuracy: 0.8426\n",
      "Epoch 15/100\n",
      "10/10 [==============================] - 0s 3ms/step - loss: 0.4420 - accuracy: 0.8468\n",
      "Epoch 16/100\n",
      "10/10 [==============================] - 0s 2ms/step - loss: 0.4496 - accuracy: 0.8468\n",
      "Epoch 17/100\n",
      "10/10 [==============================] - 0s 2ms/step - loss: 0.4352 - accuracy: 0.8447\n",
      "Epoch 18/100\n",
      "10/10 [==============================] - 0s 3ms/step - loss: 0.4279 - accuracy: 0.8489\n",
      "Epoch 19/100\n",
      "10/10 [==============================] - 0s 2ms/step - loss: 0.4236 - accuracy: 0.8447\n",
      "Epoch 20/100\n",
      "10/10 [==============================] - 0s 2ms/step - loss: 0.4448 - accuracy: 0.8532\n",
      "Epoch 21/100\n",
      "10/10 [==============================] - 0s 2ms/step - loss: 0.4285 - accuracy: 0.8468\n",
      "Epoch 22/100\n",
      "10/10 [==============================] - 0s 2ms/step - loss: 0.4468 - accuracy: 0.8553\n",
      "Epoch 23/100\n",
      "10/10 [==============================] - 0s 3ms/step - loss: 0.4411 - accuracy: 0.8447\n",
      "Epoch 24/100\n",
      "10/10 [==============================] - 0s 2ms/step - loss: 0.4238 - accuracy: 0.8511\n",
      "Epoch 25/100\n",
      "10/10 [==============================] - 0s 2ms/step - loss: 0.4622 - accuracy: 0.8426\n",
      "Epoch 26/100\n",
      "10/10 [==============================] - 0s 2ms/step - loss: 0.4229 - accuracy: 0.8489\n",
      "Epoch 27/100\n",
      "10/10 [==============================] - 0s 3ms/step - loss: 0.4199 - accuracy: 0.8489\n",
      "Epoch 28/100\n",
      "10/10 [==============================] - 0s 3ms/step - loss: 0.4191 - accuracy: 0.8489\n",
      "Epoch 29/100\n",
      "10/10 [==============================] - 0s 2ms/step - loss: 0.4121 - accuracy: 0.8511\n",
      "Epoch 30/100\n",
      "10/10 [==============================] - 0s 2ms/step - loss: 0.4122 - accuracy: 0.8489\n",
      "Epoch 31/100\n",
      "10/10 [==============================] - 0s 2ms/step - loss: 0.4363 - accuracy: 0.8489\n",
      "Epoch 32/100\n",
      "10/10 [==============================] - 0s 4ms/step - loss: 0.4172 - accuracy: 0.8447\n",
      "Epoch 33/100\n",
      "10/10 [==============================] - 0s 2ms/step - loss: 0.4097 - accuracy: 0.8468\n",
      "Epoch 34/100\n",
      "10/10 [==============================] - 0s 2ms/step - loss: 0.4268 - accuracy: 0.8553\n",
      "Epoch 35/100\n",
      "10/10 [==============================] - 0s 3ms/step - loss: 0.4121 - accuracy: 0.8511\n",
      "Epoch 36/100\n",
      "10/10 [==============================] - 0s 2ms/step - loss: 0.4238 - accuracy: 0.8489\n",
      "Epoch 37/100\n",
      "10/10 [==============================] - 0s 2ms/step - loss: 0.4119 - accuracy: 0.8553\n",
      "Epoch 38/100\n",
      "10/10 [==============================] - 0s 3ms/step - loss: 0.4313 - accuracy: 0.8447\n",
      "Epoch 39/100\n",
      "10/10 [==============================] - 0s 2ms/step - loss: 0.4004 - accuracy: 0.8468\n",
      "Epoch 40/100\n",
      "10/10 [==============================] - 0s 2ms/step - loss: 0.4041 - accuracy: 0.8489\n",
      "Epoch 41/100\n",
      "10/10 [==============================] - 0s 3ms/step - loss: 0.3991 - accuracy: 0.8532\n",
      "Epoch 42/100\n",
      "10/10 [==============================] - 0s 2ms/step - loss: 0.4050 - accuracy: 0.8489\n",
      "Epoch 43/100\n",
      "10/10 [==============================] - 0s 2ms/step - loss: 0.4042 - accuracy: 0.8511\n",
      "Epoch 44/100\n",
      "10/10 [==============================] - 0s 3ms/step - loss: 0.3961 - accuracy: 0.8489\n",
      "Epoch 45/100\n",
      "10/10 [==============================] - 0s 2ms/step - loss: 0.4495 - accuracy: 0.8489\n",
      "Epoch 46/100\n",
      "10/10 [==============================] - 0s 2ms/step - loss: 0.4008 - accuracy: 0.8574\n",
      "Epoch 47/100\n",
      "10/10 [==============================] - 0s 2ms/step - loss: 0.4169 - accuracy: 0.8511\n",
      "Epoch 48/100\n",
      "10/10 [==============================] - 0s 2ms/step - loss: 0.4226 - accuracy: 0.8511\n",
      "Epoch 49/100\n",
      "10/10 [==============================] - 0s 2ms/step - loss: 0.4163 - accuracy: 0.8511\n",
      "Epoch 50/100\n",
      "10/10 [==============================] - 0s 2ms/step - loss: 0.3999 - accuracy: 0.8511\n",
      "Epoch 51/100\n",
      "10/10 [==============================] - 0s 3ms/step - loss: 0.4164 - accuracy: 0.8489\n",
      "Epoch 52/100\n",
      "10/10 [==============================] - 0s 4ms/step - loss: 0.4141 - accuracy: 0.8489\n",
      "Epoch 53/100\n",
      "10/10 [==============================] - 0s 3ms/step - loss: 0.4353 - accuracy: 0.8426\n",
      "Epoch 54/100\n",
      "10/10 [==============================] - 0s 3ms/step - loss: 0.4008 - accuracy: 0.8489\n",
      "Epoch 55/100\n",
      "10/10 [==============================] - 0s 3ms/step - loss: 0.3989 - accuracy: 0.8447\n",
      "Epoch 56/100\n",
      "10/10 [==============================] - 0s 3ms/step - loss: 0.4095 - accuracy: 0.8447\n",
      "Epoch 57/100\n",
      "10/10 [==============================] - 0s 3ms/step - loss: 0.4332 - accuracy: 0.8489\n",
      "Epoch 58/100\n",
      "10/10 [==============================] - 0s 3ms/step - loss: 0.4740 - accuracy: 0.8489\n",
      "Epoch 59/100\n",
      "10/10 [==============================] - 0s 3ms/step - loss: 0.3986 - accuracy: 0.8511\n",
      "Epoch 60/100\n",
      "10/10 [==============================] - 0s 3ms/step - loss: 0.4242 - accuracy: 0.8574\n",
      "Epoch 61/100\n",
      "10/10 [==============================] - 0s 2ms/step - loss: 0.4227 - accuracy: 0.8553\n",
      "Epoch 62/100\n",
      "10/10 [==============================] - 0s 2ms/step - loss: 0.3984 - accuracy: 0.8596\n",
      "Epoch 63/100\n",
      "10/10 [==============================] - 0s 3ms/step - loss: 0.3935 - accuracy: 0.8532\n",
      "Epoch 64/100\n",
      "10/10 [==============================] - 0s 2ms/step - loss: 0.4178 - accuracy: 0.8532\n",
      "Epoch 65/100\n",
      "10/10 [==============================] - 0s 2ms/step - loss: 0.3967 - accuracy: 0.8468\n",
      "Epoch 66/100\n",
      "10/10 [==============================] - 0s 3ms/step - loss: 0.4067 - accuracy: 0.8468\n",
      "Epoch 67/100\n",
      "10/10 [==============================] - 0s 3ms/step - loss: 0.3927 - accuracy: 0.8468\n",
      "Epoch 68/100\n",
      "10/10 [==============================] - 0s 3ms/step - loss: 0.3900 - accuracy: 0.8511\n",
      "Epoch 69/100\n",
      "10/10 [==============================] - 0s 2ms/step - loss: 0.4889 - accuracy: 0.8340\n",
      "Epoch 70/100\n",
      "10/10 [==============================] - 0s 3ms/step - loss: 0.4250 - accuracy: 0.8404\n",
      "Epoch 71/100\n",
      "10/10 [==============================] - 0s 2ms/step - loss: 0.4303 - accuracy: 0.8511\n",
      "Epoch 72/100\n",
      "10/10 [==============================] - 0s 3ms/step - loss: 0.4148 - accuracy: 0.8511\n",
      "Epoch 73/100\n",
      "10/10 [==============================] - 0s 3ms/step - loss: 0.3974 - accuracy: 0.8447\n",
      "Epoch 74/100\n",
      "10/10 [==============================] - 0s 2ms/step - loss: 0.4796 - accuracy: 0.8213\n",
      "Epoch 75/100\n",
      "10/10 [==============================] - 0s 3ms/step - loss: 0.3940 - accuracy: 0.8511\n",
      "Epoch 76/100\n",
      "10/10 [==============================] - 0s 2ms/step - loss: 0.3905 - accuracy: 0.8447\n",
      "Epoch 77/100\n",
      "10/10 [==============================] - 0s 3ms/step - loss: 0.3910 - accuracy: 0.8468\n",
      "Epoch 78/100\n",
      "10/10 [==============================] - 0s 2ms/step - loss: 0.3902 - accuracy: 0.8489\n",
      "Epoch 79/100\n",
      "10/10 [==============================] - 0s 2ms/step - loss: 0.4032 - accuracy: 0.8468\n",
      "Epoch 80/100\n",
      "10/10 [==============================] - 0s 2ms/step - loss: 0.3886 - accuracy: 0.8489\n",
      "Epoch 81/100\n",
      "10/10 [==============================] - 0s 3ms/step - loss: 0.3884 - accuracy: 0.8489\n",
      "Epoch 82/100\n",
      "10/10 [==============================] - 0s 2ms/step - loss: 0.3950 - accuracy: 0.8447\n",
      "Epoch 83/100\n",
      "10/10 [==============================] - 0s 4ms/step - loss: 0.3967 - accuracy: 0.8468\n",
      "Epoch 84/100\n",
      "10/10 [==============================] - 0s 3ms/step - loss: 0.3880 - accuracy: 0.8489\n",
      "Epoch 85/100\n",
      "10/10 [==============================] - 0s 2ms/step - loss: 0.4138 - accuracy: 0.8617\n",
      "Epoch 86/100\n",
      "10/10 [==============================] - 0s 2ms/step - loss: 0.4022 - accuracy: 0.8447\n",
      "Epoch 87/100\n",
      "10/10 [==============================] - 0s 3ms/step - loss: 0.4173 - accuracy: 0.8532\n",
      "Epoch 88/100\n",
      "10/10 [==============================] - 0s 2ms/step - loss: 0.4352 - accuracy: 0.8468\n",
      "Epoch 89/100\n",
      "10/10 [==============================] - 0s 3ms/step - loss: 0.4029 - accuracy: 0.8553\n",
      "Epoch 90/100\n",
      "10/10 [==============================] - 0s 3ms/step - loss: 0.4345 - accuracy: 0.8468\n",
      "Epoch 91/100\n",
      "10/10 [==============================] - 0s 3ms/step - loss: 0.3904 - accuracy: 0.8468\n",
      "Epoch 92/100\n",
      "10/10 [==============================] - 0s 2ms/step - loss: 0.4106 - accuracy: 0.8553\n",
      "Epoch 93/100\n",
      "10/10 [==============================] - 0s 3ms/step - loss: 0.4167 - accuracy: 0.8468\n",
      "Epoch 94/100\n",
      "10/10 [==============================] - 0s 2ms/step - loss: 0.3940 - accuracy: 0.8511\n",
      "Epoch 95/100\n",
      "10/10 [==============================] - 0s 2ms/step - loss: 0.4002 - accuracy: 0.8511\n",
      "Epoch 96/100\n",
      "10/10 [==============================] - 0s 2ms/step - loss: 0.4307 - accuracy: 0.8447\n",
      "Epoch 97/100\n",
      "10/10 [==============================] - 0s 2ms/step - loss: 0.4187 - accuracy: 0.8511\n",
      "Epoch 98/100\n",
      "10/10 [==============================] - 0s 3ms/step - loss: 0.4128 - accuracy: 0.8511\n",
      "Epoch 99/100\n",
      "10/10 [==============================] - 0s 2ms/step - loss: 0.4087 - accuracy: 0.8489\n",
      "Epoch 100/100\n",
      "10/10 [==============================] - 0s 2ms/step - loss: 0.4075 - accuracy: 0.8489\n"
     ]
    },
    {
     "data": {
      "text/plain": [
       "<keras.callbacks.History at 0x7f4126439410>"
      ]
     },
     "execution_count": 14,
     "metadata": {},
     "output_type": "execute_result"
    }
   ],
   "source": [
    "# parameter estimation, w, b\n",
    "model.compile(loss = 'binary_crossentropy',\n",
    "              optimizer = 'adam',\n",
    "              metrics = 'accuracy')\n",
    "\n",
    "model.fit(X, Y, epochs = 100, batch_size = 50)"
   ]
  },
  {
   "cell_type": "code",
   "execution_count": null,
   "metadata": {
    "id": "uIvuyC3gUtCr"
   },
   "outputs": [],
   "source": []
  }
 ],
 "metadata": {
  "colab": {
   "collapsed_sections": [],
   "name": "Class1_20220411.ipynb",
   "provenance": []
  },
  "kernelspec": {
   "display_name": "Python 3 (ipykernel)",
   "language": "python",
   "name": "python3"
  },
  "language_info": {
   "codemirror_mode": {
    "name": "ipython",
    "version": 3
   },
   "file_extension": ".py",
   "mimetype": "text/x-python",
   "name": "python",
   "nbconvert_exporter": "python",
   "pygments_lexer": "ipython3",
   "version": "3.9.11"
  }
 },
 "nbformat": 4,
 "nbformat_minor": 4
}
