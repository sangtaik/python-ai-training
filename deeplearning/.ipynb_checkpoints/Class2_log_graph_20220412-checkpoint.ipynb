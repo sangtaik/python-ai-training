{
  "nbformat": 4,
  "nbformat_minor": 0,
  "metadata": {
    "colab": {
      "name": "class2_log_graph_20220412.ipynb",
      "provenance": [],
      "collapsed_sections": []
    },
    "kernelspec": {
      "name": "python3",
      "display_name": "Python 3"
    },
    "language_info": {
      "name": "python"
    }
  },
  "cells": [
    {
      "cell_type": "code",
      "execution_count": null,
      "metadata": {
        "colab": {
          "resources": {
            "http://localhost:8080/nbextensions/google.colab/files.js": {
              "data": "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",
              "ok": true,
              "headers": [
                [
                  "content-type",
                  "application/javascript"
                ]
              ],
              "status": 200,
              "status_text": ""
            }
          },
          "base_uri": "https://localhost:8080/",
          "height": 77
        },
        "id": "55_PKPoH_ROf",
        "outputId": "7f2eb64f-163d-4fb3-b10f-6df643b379e7"
      },
      "outputs": [
        {
          "output_type": "display_data",
          "data": {
            "text/plain": [
              "<IPython.core.display.HTML object>"
            ],
            "text/html": [
              "\n",
              "     <input type=\"file\" id=\"files-d10f5c38-be48-46ca-9f2f-2592a13e0437\" name=\"files[]\" multiple disabled\n",
              "        style=\"border:none\" />\n",
              "     <output id=\"result-d10f5c38-be48-46ca-9f2f-2592a13e0437\">\n",
              "      Upload widget is only available when the cell has been executed in the\n",
              "      current browser session. Please rerun this cell to enable.\n",
              "      </output>\n",
              "      <script src=\"/nbextensions/google.colab/files.js\"></script> "
            ]
          },
          "metadata": {}
        },
        {
          "output_type": "stream",
          "name": "stdout",
          "text": [
            "Saving ThoraricSurgery.csv to ThoraricSurgery.csv\n"
          ]
        }
      ],
      "source": [
        "from tensorflow import keras\n",
        "import numpy as np\n",
        "import matplotlib.pyplot as plt\n",
        "\n",
        "# 구글  colab에 올리는 경우에는 아래 코드를 사용한다.\n",
        "from google.colab import files\n",
        "upload = files.upload()"
      ]
    },
    {
      "cell_type": "code",
      "source": [
        "data_set = np.loadtxt('ThoraricSurgery.csv', delimiter =',')\n",
        "data_set.shape\n",
        "type(data_set)"
      ],
      "metadata": {
        "colab": {
          "base_uri": "https://localhost:8080/"
        },
        "id": "MRN9ZiF6_hLS",
        "outputId": "ca032888-5a3b-455e-b93f-2f29fffdc6c2"
      },
      "execution_count": null,
      "outputs": [
        {
          "output_type": "execute_result",
          "data": {
            "text/plain": [
              "numpy.ndarray"
            ]
          },
          "metadata": {},
          "execution_count": 5
        }
      ]
    },
    {
      "cell_type": "code",
      "source": [
        "data_set[0]\n",
        "data_set[:5]"
      ],
      "metadata": {
        "colab": {
          "base_uri": "https://localhost:8080/"
        },
        "id": "189gBqRpGQ4Q",
        "outputId": "9a0561e9-b5f5-4999-f18e-4c605a715de1"
      },
      "execution_count": null,
      "outputs": [
        {
          "output_type": "execute_result",
          "data": {
            "text/plain": [
              "array([[293.  ,   1.  ,   3.8 ,   2.8 ,   0.  ,   0.  ,   0.  ,   0.  ,\n",
              "          0.  ,   0.  ,  12.  ,   0.  ,   0.  ,   0.  ,   1.  ,   0.  ,\n",
              "         62.  ,   0.  ],\n",
              "       [  1.  ,   2.  ,   2.88,   2.16,   1.  ,   0.  ,   0.  ,   0.  ,\n",
              "          1.  ,   1.  ,  14.  ,   0.  ,   0.  ,   0.  ,   1.  ,   0.  ,\n",
              "         60.  ,   0.  ],\n",
              "       [  8.  ,   2.  ,   3.19,   2.5 ,   1.  ,   0.  ,   0.  ,   0.  ,\n",
              "          1.  ,   0.  ,  11.  ,   0.  ,   0.  ,   1.  ,   1.  ,   0.  ,\n",
              "         66.  ,   1.  ],\n",
              "       [ 14.  ,   2.  ,   3.98,   3.06,   2.  ,   0.  ,   0.  ,   0.  ,\n",
              "          1.  ,   1.  ,  14.  ,   0.  ,   0.  ,   0.  ,   1.  ,   0.  ,\n",
              "         80.  ,   1.  ],\n",
              "       [ 17.  ,   2.  ,   2.21,   1.88,   0.  ,   0.  ,   1.  ,   0.  ,\n",
              "          0.  ,   0.  ,  12.  ,   0.  ,   0.  ,   0.  ,   1.  ,   0.  ,\n",
              "         56.  ,   0.  ]])"
            ]
          },
          "metadata": {},
          "execution_count": 10
        }
      ]
    },
    {
      "cell_type": "code",
      "source": [
        "# 로그함수 그리기\n",
        "\n",
        "x = np.arange(-2, 2, step = 0.01)\n",
        "y = np.log2(x)\n",
        "\n",
        "print(x)\n",
        "\n",
        "# y값이 nan인 것은 log 값이 음수가 없기 때문에\n",
        "print(y)"
      ],
      "metadata": {
        "colab": {
          "base_uri": "https://localhost:8080/"
        },
        "id": "EUYO97FwGW19",
        "outputId": "580d6d28-6df2-43cc-909a-dd2669135145"
      },
      "execution_count": null,
      "outputs": [
        {
          "output_type": "stream",
          "name": "stdout",
          "text": [
            "[-2.00000000e+00 -1.99000000e+00 -1.98000000e+00 -1.97000000e+00\n",
            " -1.96000000e+00 -1.95000000e+00 -1.94000000e+00 -1.93000000e+00\n",
            " -1.92000000e+00 -1.91000000e+00 -1.90000000e+00 -1.89000000e+00\n",
            " -1.88000000e+00 -1.87000000e+00 -1.86000000e+00 -1.85000000e+00\n",
            " -1.84000000e+00 -1.83000000e+00 -1.82000000e+00 -1.81000000e+00\n",
            " -1.80000000e+00 -1.79000000e+00 -1.78000000e+00 -1.77000000e+00\n",
            " -1.76000000e+00 -1.75000000e+00 -1.74000000e+00 -1.73000000e+00\n",
            " -1.72000000e+00 -1.71000000e+00 -1.70000000e+00 -1.69000000e+00\n",
            " -1.68000000e+00 -1.67000000e+00 -1.66000000e+00 -1.65000000e+00\n",
            " -1.64000000e+00 -1.63000000e+00 -1.62000000e+00 -1.61000000e+00\n",
            " -1.60000000e+00 -1.59000000e+00 -1.58000000e+00 -1.57000000e+00\n",
            " -1.56000000e+00 -1.55000000e+00 -1.54000000e+00 -1.53000000e+00\n",
            " -1.52000000e+00 -1.51000000e+00 -1.50000000e+00 -1.49000000e+00\n",
            " -1.48000000e+00 -1.47000000e+00 -1.46000000e+00 -1.45000000e+00\n",
            " -1.44000000e+00 -1.43000000e+00 -1.42000000e+00 -1.41000000e+00\n",
            " -1.40000000e+00 -1.39000000e+00 -1.38000000e+00 -1.37000000e+00\n",
            " -1.36000000e+00 -1.35000000e+00 -1.34000000e+00 -1.33000000e+00\n",
            " -1.32000000e+00 -1.31000000e+00 -1.30000000e+00 -1.29000000e+00\n",
            " -1.28000000e+00 -1.27000000e+00 -1.26000000e+00 -1.25000000e+00\n",
            " -1.24000000e+00 -1.23000000e+00 -1.22000000e+00 -1.21000000e+00\n",
            " -1.20000000e+00 -1.19000000e+00 -1.18000000e+00 -1.17000000e+00\n",
            " -1.16000000e+00 -1.15000000e+00 -1.14000000e+00 -1.13000000e+00\n",
            " -1.12000000e+00 -1.11000000e+00 -1.10000000e+00 -1.09000000e+00\n",
            " -1.08000000e+00 -1.07000000e+00 -1.06000000e+00 -1.05000000e+00\n",
            " -1.04000000e+00 -1.03000000e+00 -1.02000000e+00 -1.01000000e+00\n",
            " -1.00000000e+00 -9.90000000e-01 -9.80000000e-01 -9.70000000e-01\n",
            " -9.60000000e-01 -9.50000000e-01 -9.40000000e-01 -9.30000000e-01\n",
            " -9.20000000e-01 -9.10000000e-01 -9.00000000e-01 -8.90000000e-01\n",
            " -8.80000000e-01 -8.70000000e-01 -8.60000000e-01 -8.50000000e-01\n",
            " -8.40000000e-01 -8.30000000e-01 -8.20000000e-01 -8.10000000e-01\n",
            " -8.00000000e-01 -7.90000000e-01 -7.80000000e-01 -7.70000000e-01\n",
            " -7.60000000e-01 -7.50000000e-01 -7.40000000e-01 -7.30000000e-01\n",
            " -7.20000000e-01 -7.10000000e-01 -7.00000000e-01 -6.90000000e-01\n",
            " -6.80000000e-01 -6.70000000e-01 -6.60000000e-01 -6.50000000e-01\n",
            " -6.40000000e-01 -6.30000000e-01 -6.20000000e-01 -6.10000000e-01\n",
            " -6.00000000e-01 -5.90000000e-01 -5.80000000e-01 -5.70000000e-01\n",
            " -5.60000000e-01 -5.50000000e-01 -5.40000000e-01 -5.30000000e-01\n",
            " -5.20000000e-01 -5.10000000e-01 -5.00000000e-01 -4.90000000e-01\n",
            " -4.80000000e-01 -4.70000000e-01 -4.60000000e-01 -4.50000000e-01\n",
            " -4.40000000e-01 -4.30000000e-01 -4.20000000e-01 -4.10000000e-01\n",
            " -4.00000000e-01 -3.90000000e-01 -3.80000000e-01 -3.70000000e-01\n",
            " -3.60000000e-01 -3.50000000e-01 -3.40000000e-01 -3.30000000e-01\n",
            " -3.20000000e-01 -3.10000000e-01 -3.00000000e-01 -2.90000000e-01\n",
            " -2.80000000e-01 -2.70000000e-01 -2.60000000e-01 -2.50000000e-01\n",
            " -2.40000000e-01 -2.30000000e-01 -2.20000000e-01 -2.10000000e-01\n",
            " -2.00000000e-01 -1.90000000e-01 -1.80000000e-01 -1.70000000e-01\n",
            " -1.60000000e-01 -1.50000000e-01 -1.40000000e-01 -1.30000000e-01\n",
            " -1.20000000e-01 -1.10000000e-01 -1.00000000e-01 -9.00000000e-02\n",
            " -8.00000000e-02 -7.00000000e-02 -6.00000000e-02 -5.00000000e-02\n",
            " -4.00000000e-02 -3.00000000e-02 -2.00000000e-02 -1.00000000e-02\n",
            "  1.77635684e-15  1.00000000e-02  2.00000000e-02  3.00000000e-02\n",
            "  4.00000000e-02  5.00000000e-02  6.00000000e-02  7.00000000e-02\n",
            "  8.00000000e-02  9.00000000e-02  1.00000000e-01  1.10000000e-01\n",
            "  1.20000000e-01  1.30000000e-01  1.40000000e-01  1.50000000e-01\n",
            "  1.60000000e-01  1.70000000e-01  1.80000000e-01  1.90000000e-01\n",
            "  2.00000000e-01  2.10000000e-01  2.20000000e-01  2.30000000e-01\n",
            "  2.40000000e-01  2.50000000e-01  2.60000000e-01  2.70000000e-01\n",
            "  2.80000000e-01  2.90000000e-01  3.00000000e-01  3.10000000e-01\n",
            "  3.20000000e-01  3.30000000e-01  3.40000000e-01  3.50000000e-01\n",
            "  3.60000000e-01  3.70000000e-01  3.80000000e-01  3.90000000e-01\n",
            "  4.00000000e-01  4.10000000e-01  4.20000000e-01  4.30000000e-01\n",
            "  4.40000000e-01  4.50000000e-01  4.60000000e-01  4.70000000e-01\n",
            "  4.80000000e-01  4.90000000e-01  5.00000000e-01  5.10000000e-01\n",
            "  5.20000000e-01  5.30000000e-01  5.40000000e-01  5.50000000e-01\n",
            "  5.60000000e-01  5.70000000e-01  5.80000000e-01  5.90000000e-01\n",
            "  6.00000000e-01  6.10000000e-01  6.20000000e-01  6.30000000e-01\n",
            "  6.40000000e-01  6.50000000e-01  6.60000000e-01  6.70000000e-01\n",
            "  6.80000000e-01  6.90000000e-01  7.00000000e-01  7.10000000e-01\n",
            "  7.20000000e-01  7.30000000e-01  7.40000000e-01  7.50000000e-01\n",
            "  7.60000000e-01  7.70000000e-01  7.80000000e-01  7.90000000e-01\n",
            "  8.00000000e-01  8.10000000e-01  8.20000000e-01  8.30000000e-01\n",
            "  8.40000000e-01  8.50000000e-01  8.60000000e-01  8.70000000e-01\n",
            "  8.80000000e-01  8.90000000e-01  9.00000000e-01  9.10000000e-01\n",
            "  9.20000000e-01  9.30000000e-01  9.40000000e-01  9.50000000e-01\n",
            "  9.60000000e-01  9.70000000e-01  9.80000000e-01  9.90000000e-01\n",
            "  1.00000000e+00  1.01000000e+00  1.02000000e+00  1.03000000e+00\n",
            "  1.04000000e+00  1.05000000e+00  1.06000000e+00  1.07000000e+00\n",
            "  1.08000000e+00  1.09000000e+00  1.10000000e+00  1.11000000e+00\n",
            "  1.12000000e+00  1.13000000e+00  1.14000000e+00  1.15000000e+00\n",
            "  1.16000000e+00  1.17000000e+00  1.18000000e+00  1.19000000e+00\n",
            "  1.20000000e+00  1.21000000e+00  1.22000000e+00  1.23000000e+00\n",
            "  1.24000000e+00  1.25000000e+00  1.26000000e+00  1.27000000e+00\n",
            "  1.28000000e+00  1.29000000e+00  1.30000000e+00  1.31000000e+00\n",
            "  1.32000000e+00  1.33000000e+00  1.34000000e+00  1.35000000e+00\n",
            "  1.36000000e+00  1.37000000e+00  1.38000000e+00  1.39000000e+00\n",
            "  1.40000000e+00  1.41000000e+00  1.42000000e+00  1.43000000e+00\n",
            "  1.44000000e+00  1.45000000e+00  1.46000000e+00  1.47000000e+00\n",
            "  1.48000000e+00  1.49000000e+00  1.50000000e+00  1.51000000e+00\n",
            "  1.52000000e+00  1.53000000e+00  1.54000000e+00  1.55000000e+00\n",
            "  1.56000000e+00  1.57000000e+00  1.58000000e+00  1.59000000e+00\n",
            "  1.60000000e+00  1.61000000e+00  1.62000000e+00  1.63000000e+00\n",
            "  1.64000000e+00  1.65000000e+00  1.66000000e+00  1.67000000e+00\n",
            "  1.68000000e+00  1.69000000e+00  1.70000000e+00  1.71000000e+00\n",
            "  1.72000000e+00  1.73000000e+00  1.74000000e+00  1.75000000e+00\n",
            "  1.76000000e+00  1.77000000e+00  1.78000000e+00  1.79000000e+00\n",
            "  1.80000000e+00  1.81000000e+00  1.82000000e+00  1.83000000e+00\n",
            "  1.84000000e+00  1.85000000e+00  1.86000000e+00  1.87000000e+00\n",
            "  1.88000000e+00  1.89000000e+00  1.90000000e+00  1.91000000e+00\n",
            "  1.92000000e+00  1.93000000e+00  1.94000000e+00  1.95000000e+00\n",
            "  1.96000000e+00  1.97000000e+00  1.98000000e+00  1.99000000e+00]\n",
            "[            nan             nan             nan             nan\n",
            "             nan             nan             nan             nan\n",
            "             nan             nan             nan             nan\n",
            "             nan             nan             nan             nan\n",
            "             nan             nan             nan             nan\n",
            "             nan             nan             nan             nan\n",
            "             nan             nan             nan             nan\n",
            "             nan             nan             nan             nan\n",
            "             nan             nan             nan             nan\n",
            "             nan             nan             nan             nan\n",
            "             nan             nan             nan             nan\n",
            "             nan             nan             nan             nan\n",
            "             nan             nan             nan             nan\n",
            "             nan             nan             nan             nan\n",
            "             nan             nan             nan             nan\n",
            "             nan             nan             nan             nan\n",
            "             nan             nan             nan             nan\n",
            "             nan             nan             nan             nan\n",
            "             nan             nan             nan             nan\n",
            "             nan             nan             nan             nan\n",
            "             nan             nan             nan             nan\n",
            "             nan             nan             nan             nan\n",
            "             nan             nan             nan             nan\n",
            "             nan             nan             nan             nan\n",
            "             nan             nan             nan             nan\n",
            "             nan             nan             nan             nan\n",
            "             nan             nan             nan             nan\n",
            "             nan             nan             nan             nan\n",
            "             nan             nan             nan             nan\n",
            "             nan             nan             nan             nan\n",
            "             nan             nan             nan             nan\n",
            "             nan             nan             nan             nan\n",
            "             nan             nan             nan             nan\n",
            "             nan             nan             nan             nan\n",
            "             nan             nan             nan             nan\n",
            "             nan             nan             nan             nan\n",
            "             nan             nan             nan             nan\n",
            "             nan             nan             nan             nan\n",
            "             nan             nan             nan             nan\n",
            "             nan             nan             nan             nan\n",
            "             nan             nan             nan             nan\n",
            "             nan             nan             nan             nan\n",
            "             nan             nan             nan             nan\n",
            "             nan             nan             nan             nan\n",
            "             nan             nan             nan             nan\n",
            "             nan             nan             nan             nan\n",
            "             nan             nan             nan             nan\n",
            "             nan             nan             nan             nan\n",
            "             nan             nan             nan             nan\n",
            "             nan             nan             nan             nan\n",
            " -4.90000000e+01 -6.64385619e+00 -5.64385619e+00 -5.05889369e+00\n",
            " -4.64385619e+00 -4.32192809e+00 -4.05889369e+00 -3.83650127e+00\n",
            " -3.64385619e+00 -3.47393119e+00 -3.32192809e+00 -3.18442457e+00\n",
            " -3.05889369e+00 -2.94341647e+00 -2.83650127e+00 -2.73696559e+00\n",
            " -2.64385619e+00 -2.55639335e+00 -2.47393119e+00 -2.39592868e+00\n",
            " -2.32192809e+00 -2.25153877e+00 -2.18442457e+00 -2.12029423e+00\n",
            " -2.05889369e+00 -2.00000000e+00 -1.94341647e+00 -1.88896869e+00\n",
            " -1.83650127e+00 -1.78587519e+00 -1.73696559e+00 -1.68965988e+00\n",
            " -1.64385619e+00 -1.59946207e+00 -1.55639335e+00 -1.51457317e+00\n",
            " -1.47393119e+00 -1.43440282e+00 -1.39592868e+00 -1.35845397e+00\n",
            " -1.32192809e+00 -1.28630419e+00 -1.25153877e+00 -1.21759144e+00\n",
            " -1.18442457e+00 -1.15200309e+00 -1.12029423e+00 -1.08926734e+00\n",
            " -1.05889369e+00 -1.02914635e+00 -1.00000000e+00 -9.71430848e-01\n",
            " -9.43416472e-01 -9.15935735e-01 -8.88968688e-01 -8.62496476e-01\n",
            " -8.36501268e-01 -8.10966176e-01 -7.85875195e-01 -7.61213140e-01\n",
            " -7.36965594e-01 -7.13118852e-01 -6.89659879e-01 -6.66576266e-01\n",
            " -6.43856190e-01 -6.21488377e-01 -5.99462070e-01 -5.77766999e-01\n",
            " -5.56393349e-01 -5.35331733e-01 -5.14573173e-01 -4.94109070e-01\n",
            " -4.73931188e-01 -4.54031631e-01 -4.34402824e-01 -4.15037499e-01\n",
            " -3.95928676e-01 -3.77069649e-01 -3.58453971e-01 -3.40075442e-01\n",
            " -3.21928095e-01 -3.04006187e-01 -2.86304185e-01 -2.68816758e-01\n",
            " -2.51538767e-01 -2.34465254e-01 -2.17591435e-01 -2.00912694e-01\n",
            " -1.84424571e-01 -1.68122759e-01 -1.52003093e-01 -1.36061550e-01\n",
            " -1.20294234e-01 -1.04697379e-01 -8.92673381e-02 -7.40005814e-02\n",
            " -5.88936891e-02 -4.39433476e-02 -2.91463457e-02 -1.44995697e-02\n",
            "  3.84411180e-15  1.43552930e-02  2.85691522e-02  4.26443374e-02\n",
            "  5.65835284e-02  7.03893279e-02  8.40642648e-02  9.76107966e-02\n",
            "  1.11031312e-01  1.24328135e-01  1.37503524e-01  1.50559677e-01\n",
            "  1.63498732e-01  1.76322773e-01  1.89033824e-01  2.01633861e-01\n",
            "  2.14124805e-01  2.26508530e-01  2.38786860e-01  2.50961574e-01\n",
            "  2.63034406e-01  2.75007047e-01  2.86881148e-01  2.98658316e-01\n",
            "  3.10340121e-01  3.21928095e-01  3.33423734e-01  3.44828497e-01\n",
            "  3.56143810e-01  3.67371066e-01  3.78511623e-01  3.89566812e-01\n",
            "  4.00537930e-01  4.11426246e-01  4.22233001e-01  4.32959407e-01\n",
            "  4.43606651e-01  4.54175893e-01  4.64668267e-01  4.75084883e-01\n",
            "  4.85426827e-01  4.95695163e-01  5.05890930e-01  5.16015147e-01\n",
            "  5.26068812e-01  5.36052900e-01  5.45968369e-01  5.55816155e-01\n",
            "  5.65597176e-01  5.75312331e-01  5.84962501e-01  5.94548550e-01\n",
            "  6.04071324e-01  6.13531653e-01  6.22930351e-01  6.32268215e-01\n",
            "  6.41546029e-01  6.50764559e-01  6.59924558e-01  6.69026766e-01\n",
            "  6.78071905e-01  6.87060688e-01  6.95993813e-01  7.04871964e-01\n",
            "  7.13695815e-01  7.22466024e-01  7.31183242e-01  7.39848103e-01\n",
            "  7.48461233e-01  7.57023247e-01  7.65534746e-01  7.73996325e-01\n",
            "  7.82408565e-01  7.90772038e-01  7.99087306e-01  8.07354922e-01\n",
            "  8.15575429e-01  8.23749360e-01  8.31877241e-01  8.39959587e-01\n",
            "  8.47996907e-01  8.55989697e-01  8.63938450e-01  8.71843649e-01\n",
            "  8.79705766e-01  8.87525271e-01  8.95302621e-01  9.03038270e-01\n",
            "  9.10732662e-01  9.18386234e-01  9.25999419e-01  9.33572638e-01\n",
            "  9.41106311e-01  9.48600847e-01  9.56056652e-01  9.63474124e-01\n",
            "  9.70853654e-01  9.78195630e-01  9.85500430e-01  9.92768431e-01]\n"
          ]
        },
        {
          "output_type": "stream",
          "name": "stderr",
          "text": [
            "/usr/local/lib/python3.7/dist-packages/ipykernel_launcher.py:4: RuntimeWarning: invalid value encountered in log2\n",
            "  after removing the cwd from sys.path.\n"
          ]
        }
      ]
    },
    {
      "cell_type": "code",
      "source": [
        "# log2에 대한 그래프\n",
        "plt.figure(figsize  = (6, 6))\n",
        "plt.plot(x, y, label = 'log(x)')\n",
        "plt.ylim(-5, 5)\n",
        "plt.legend()\n",
        "plt.show()"
      ],
      "metadata": {
        "colab": {
          "base_uri": "https://localhost:8080/",
          "height": 374
        },
        "id": "drzPKRG_VMky",
        "outputId": "20aa5bc9-ce91-48c8-c04f-f10d9a3d813a"
      },
      "execution_count": null,
      "outputs": [
        {
          "output_type": "display_data",
          "data": {
            "text/plain": [
              "<Figure size 432x432 with 1 Axes>"
            ],
            "image/png": "[encoded data removed]"
          },
          "metadata": {
            "needs_background": "light"
          }
        }
      ]
    },
    {
      "cell_type": "code",
      "source": [
        "x = np.arange(-2, 2, step = 0.01)\n",
        "y1 = np.log2(x)\n",
        "y2 = -np.log2(x)\n",
        "y3 = np.log2(-x)\n",
        "y4 = -np.log2(-x)\n",
        "y5 = -np.log2(1-x)\n",
        "\n",
        "\n",
        "\n",
        "# log2에 대한 그래프\n",
        "plt.figure(figsize  = (6, 6))\n",
        "plt.plot(x, y1, label = 'log(x)')\n",
        "plt.plot(x, y2, label = '-log(x)')\n",
        "plt.plot(x, y3, label = 'log(-x)')\n",
        "plt.plot(x, y4, label = '-log(-x)')\n",
        "plt.plot(x, y5, label = '-log(1-x)')\n",
        "plt.axhline(0, c = 'k')\n",
        "plt.ylim(-5, 5)\n",
        "plt.legend()\n",
        "plt.show()"
      ],
      "metadata": {
        "colab": {
          "base_uri": "https://localhost:8080/",
          "height": 580
        },
        "id": "1N7626eDWk2x",
        "outputId": "b4561261-887d-4c32-92a1-37838da02f4a"
      },
      "execution_count": null,
      "outputs": [
        {
          "output_type": "stream",
          "name": "stderr",
          "text": [
            "/usr/local/lib/python3.7/dist-packages/ipykernel_launcher.py:2: RuntimeWarning: invalid value encountered in log2\n",
            "  \n",
            "/usr/local/lib/python3.7/dist-packages/ipykernel_launcher.py:3: RuntimeWarning: invalid value encountered in log2\n",
            "  This is separate from the ipykernel package so we can avoid doing imports until\n",
            "/usr/local/lib/python3.7/dist-packages/ipykernel_launcher.py:4: RuntimeWarning: invalid value encountered in log2\n",
            "  after removing the cwd from sys.path.\n",
            "/usr/local/lib/python3.7/dist-packages/ipykernel_launcher.py:5: RuntimeWarning: invalid value encountered in log2\n",
            "  \"\"\"\n",
            "/usr/local/lib/python3.7/dist-packages/ipykernel_launcher.py:6: RuntimeWarning: invalid value encountered in log2\n",
            "  \n"
          ]
        },
        {
          "output_type": "display_data",
          "data": {
            "text/plain": [
              "<Figure size 432x432 with 1 Axes>"
            ],
            "image/png": "[encoded data removed]"
          },
          "metadata": {
            "needs_background": "light"
          }
        }
      ]
    },
    {
      "cell_type": "code",
      "source": [
        "# log2에 대한 그래프\n",
        "plt.figure(figsize  = (6, 6))\n",
        "plt.plot(x, y2, label = '-log(x)')\n",
        "plt.plot(x, y5, label = '-log(1-x)')\n",
        "plt.axhline(0, c = 'k')\n",
        "plt.axhline(1, c = 'k')\n",
        "plt.ylim(-5, 5)\n",
        "plt.legend()\n",
        "plt.show()"
      ],
      "metadata": {
        "colab": {
          "base_uri": "https://localhost:8080/",
          "height": 374
        },
        "id": "pKcgGsTZYCYI",
        "outputId": "fdcf82da-6bb5-45d2-f659-ef7c636ea0d7"
      },
      "execution_count": null,
      "outputs": [
        {
          "output_type": "display_data",
          "data": {
            "text/plain": [
              "<Figure size 432x432 with 1 Axes>"
            ],
            "image/png": "[encoded data removed]"
          },
          "metadata": {
            "needs_background": "light"
          }
        }
      ]
    },
    {
      "cell_type": "code",
      "source": [
        ""
      ],
      "metadata": {
        "id": "6iCBNTEHYZ0p"
      },
      "execution_count": null,
      "outputs": []
    }
  ]
}