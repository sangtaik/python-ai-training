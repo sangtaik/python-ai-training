{
 "cells": [
  {
   "cell_type": "code",
   "execution_count": null,
   "metadata": {
    "id": "m89BOlzo4dqw"
   },
   "outputs": [],
   "source": [
    "# 전이 학습\n",
    "# 다른 모델의 학습한 가중치를 가지고, 추가로 내 모델에 적용할 수 있다."
   ]
  },
  {
   "cell_type": "code",
   "execution_count": 1,
   "metadata": {
    "id": "Em7kGaKRnWhc"
   },
   "outputs": [],
   "source": [
    "import tensorflow as tf\n",
    "from tensorflow import keras\n",
    "\n",
    "import numpy as np\n",
    "import pandas as pd\n",
    "import matplotlib.pyplot as plt\n",
    "import os"
   ]
  },
  {
   "cell_type": "code",
   "execution_count": 2,
   "metadata": {
    "id": "I440Osv6oQXL"
   },
   "outputs": [],
   "source": [
    "np.random.seed(3)\n",
    "tf.random.set_seed(3)"
   ]
  },
  {
   "cell_type": "code",
   "execution_count": 3,
   "metadata": {
    "colab": {
     "base_uri": "https://localhost:8080/"
    },
    "id": "MQikwe_PoWaC",
    "outputId": "e273de47-4575-46ad-cca8-cb8a253d3636"
   },
   "outputs": [
    {
     "name": "stdout",
     "output_type": "stream",
     "text": [
      "Found 157 images belonging to 3 classes.\n"
     ]
    }
   ],
   "source": [
    "train_datagen = keras.preprocessing.image.ImageDataGenerator(rescale = 1./255,\n",
    "                                                             horizontal_flip=True,\n",
    "                                                             width_shift_range = 0.1,\n",
    "                                                             height_shift_range=0.1,\n",
    "                                                             rotation_range=5,\n",
    "                                                             shear_range = 0.7,\n",
    "                                                             zoom_range=[0.9, 2.2],\n",
    "                                                             vertical_flip=True,\n",
    "                                                             fill_mode='nearest')\n",
    "train_generator = train_datagen.flow_from_directory(\n",
    "    directory = 'train/', target_size = (150, 150),\n",
    "    save_to_dir='gen_train/', \n",
    "    batch_size=5, class_mode = 'binary')\n"
   ]
  },
  {
   "cell_type": "code",
   "execution_count": 4,
   "metadata": {
    "colab": {
     "base_uri": "https://localhost:8080/"
    },
    "id": "tczfa6IxqETB",
    "outputId": "bc3c12b3-01d6-40a4-a796-85a4926e246f"
   },
   "outputs": [
    {
     "name": "stdout",
     "output_type": "stream",
     "text": [
      "Found 120 images belonging to 3 classes.\n"
     ]
    }
   ],
   "source": [
    "test_datagen = keras.preprocessing.image.ImageDataGenerator(rescale = 1./255)\n",
    "test_generator = test_datagen.flow_from_directory(\n",
    "    directory = 'test/', target_size = (150, 150),\n",
    "    save_to_dir='gen_test/', \n",
    "    batch_size=5, class_mode = 'binary')"
   ]
  },
  {
   "cell_type": "code",
   "execution_count": 10,
   "metadata": {
    "colab": {
     "base_uri": "https://localhost:8080/"
    },
    "id": "WkBV06jRrhk-",
    "outputId": "056a56f1-ec56-42b5-c167-7907e43a02f7"
   },
   "outputs": [
    {
     "name": "stdout",
     "output_type": "stream",
     "text": [
      "Model: \"vgg16\"\n",
      "_________________________________________________________________\n",
      " Layer (type)                Output Shape              Param #   \n",
      "=================================================================\n",
      " input_2 (InputLayer)        [(None, 150, 150, 3)]     0         \n",
      "                                                                 \n",
      " block1_conv1 (Conv2D)       (None, 150, 150, 64)      1792      \n",
      "                                                                 \n",
      " block1_conv2 (Conv2D)       (None, 150, 150, 64)      36928     \n",
      "                                                                 \n",
      " block1_pool (MaxPooling2D)  (None, 75, 75, 64)        0         \n",
      "                                                                 \n",
      " block2_conv1 (Conv2D)       (None, 75, 75, 128)       73856     \n",
      "                                                                 \n",
      " block2_conv2 (Conv2D)       (None, 75, 75, 128)       147584    \n",
      "                                                                 \n",
      " block2_pool (MaxPooling2D)  (None, 37, 37, 128)       0         \n",
      "                                                                 \n",
      " block3_conv1 (Conv2D)       (None, 37, 37, 256)       295168    \n",
      "                                                                 \n",
      " block3_conv2 (Conv2D)       (None, 37, 37, 256)       590080    \n",
      "                                                                 \n",
      " block3_conv3 (Conv2D)       (None, 37, 37, 256)       590080    \n",
      "                                                                 \n",
      " block3_pool (MaxPooling2D)  (None, 18, 18, 256)       0         \n",
      "                                                                 \n",
      " block4_conv1 (Conv2D)       (None, 18, 18, 512)       1180160   \n",
      "                                                                 \n",
      " block4_conv2 (Conv2D)       (None, 18, 18, 512)       2359808   \n",
      "                                                                 \n",
      " block4_conv3 (Conv2D)       (None, 18, 18, 512)       2359808   \n",
      "                                                                 \n",
      " block4_pool (MaxPooling2D)  (None, 9, 9, 512)         0         \n",
      "                                                                 \n",
      " block5_conv1 (Conv2D)       (None, 9, 9, 512)         2359808   \n",
      "                                                                 \n",
      " block5_conv2 (Conv2D)       (None, 9, 9, 512)         2359808   \n",
      "                                                                 \n",
      " block5_conv3 (Conv2D)       (None, 9, 9, 512)         2359808   \n",
      "                                                                 \n",
      " block5_pool (MaxPooling2D)  (None, 4, 4, 512)         0         \n",
      "                                                                 \n",
      "=================================================================\n",
      "Total params: 14,714,688\n",
      "Trainable params: 0\n",
      "Non-trainable params: 14,714,688\n",
      "_________________________________________________________________\n",
      "Model: \"sequential_1\"\n",
      "_________________________________________________________________\n",
      " Layer (type)                Output Shape              Param #   \n",
      "=================================================================\n",
      " vgg16 (Functional)          (None, 4, 4, 512)         14714688  \n",
      "                                                                 \n",
      " flatten_1 (Flatten)         (None, 8192)              0         \n",
      "                                                                 \n",
      " dense_2 (Dense)             (None, 64)                524352    \n",
      "                                                                 \n",
      " dense_3 (Dense)             (None, 1)                 65        \n",
      "                                                                 \n",
      "=================================================================\n",
      "Total params: 15,239,105\n",
      "Trainable params: 524,417\n",
      "Non-trainable params: 14,714,688\n",
      "_________________________________________________________________\n"
     ]
    }
   ],
   "source": [
    "transfer_model = keras.applications.VGG16(weights = 'imagenet', \n",
    "                                          include_top=False,\n",
    "                                          input_shape=(150, 150, 3)) #이미지는 150, 150 size의 color\n",
    "# 학습된 weight를 변경하지 않는다. trainable = False 설정을 해준다.\n",
    "transfer_model.trainable = False\n",
    "transfer_model.summary()\n",
    "\n",
    "# 뒤에 것은 우리가 만든다고 해서 finetune이라고 한다.\n",
    "finetune_model = keras.Sequential()\n",
    "finetune_model.add(transfer_model)\n",
    "finetune_model.add(keras.layers.Flatten())\n",
    "finetune_model.add(keras.layers.Dense(64, activation='relu'))\n",
    "finetune_model.add(keras.layers.Dense(1, activation = 'sigmoid')) # Dense(2 이면, softmax로 할 것)\n",
    "finetune_model.summary()\n"
   ]
  },
  {
   "cell_type": "code",
   "execution_count": 11,
   "metadata": {
    "id": "nepG5f4QxdI3"
   },
   "outputs": [],
   "source": [
    "finetune_model.compile(loss = 'binary_crossentropy',\n",
    "                       optimizer = keras.optimizers.Adam(learning_rate=0.002),\n",
    "                       metrics=['accuracy'])"
   ]
  },
  {
   "cell_type": "code",
   "execution_count": 12,
   "metadata": {
    "colab": {
     "base_uri": "https://localhost:8080/"
    },
    "id": "Wnfy6Xe7ygej",
    "outputId": "95334f78-a2e4-46f2-931a-85058eca745a"
   },
   "outputs": [
    {
     "name": "stdout",
     "output_type": "stream",
     "text": [
      "Epoch 1/10\n"
     ]
    },
    {
     "name": "stderr",
     "output_type": "stream",
     "text": [
      "/usr/local/lib/python3.7/dist-packages/ipykernel_launcher.py:8: UserWarning: `Model.fit_generator` is deprecated and will be removed in a future version. Please use `Model.fit`, which supports generators.\n",
      "  \n"
     ]
    },
    {
     "name": "stdout",
     "output_type": "stream",
     "text": [
      "10/10 [==============================] - 19s 2s/step - loss: -12.7678 - accuracy: 0.4400 - val_loss: -35.1455 - val_accuracy: 0.4000\n",
      "Epoch 2/10\n",
      "10/10 [==============================] - 20s 2s/step - loss: -62.0542 - accuracy: 0.4043 - val_loss: -76.6691 - val_accuracy: 0.4500\n",
      "Epoch 3/10\n",
      "10/10 [==============================] - 16s 2s/step - loss: -106.4535 - accuracy: 0.4600 - val_loss: -174.8551 - val_accuracy: 0.3000\n",
      "Epoch 4/10\n",
      "10/10 [==============================] - 16s 2s/step - loss: -167.6193 - accuracy: 0.4894 - val_loss: -230.3498 - val_accuracy: 0.4000\n",
      "Epoch 5/10\n",
      "10/10 [==============================] - 16s 2s/step - loss: -293.4502 - accuracy: 0.4000 - val_loss: -223.6511 - val_accuracy: 0.6000\n",
      "Epoch 6/10\n",
      "10/10 [==============================] - 16s 2s/step - loss: -444.8304 - accuracy: 0.3600 - val_loss: -429.7215 - val_accuracy: 0.4500\n",
      "Epoch 7/10\n",
      "10/10 [==============================] - 17s 2s/step - loss: -489.1242 - accuracy: 0.4800 - val_loss: -471.6799 - val_accuracy: 0.5500\n",
      "Epoch 8/10\n",
      "10/10 [==============================] - 16s 2s/step - loss: -599.1870 - accuracy: 0.5200 - val_loss: -777.4736 - val_accuracy: 0.4000\n",
      "Epoch 9/10\n",
      "10/10 [==============================] - 16s 2s/step - loss: -839.2245 - accuracy: 0.4400 - val_loss: -1127.7728 - val_accuracy: 0.3000\n",
      "Epoch 10/10\n",
      "10/10 [==============================] - 16s 2s/step - loss: -935.2211 - accuracy: 0.5000 - val_loss: -793.0350 - val_accuracy: 0.6000\n"
     ]
    }
   ],
   "source": [
    "# steps_per_epoch = len(x_train) 160 / batch_size 5\n",
    "# validation_steps = len(x_test) 120 / batch_size 5 \n",
    "history = finetune_model.fit_generator(\n",
    "    train_generator, \n",
    "    steps_per_epoch = 10,\n",
    "    epochs = 10,\n",
    "    validation_data=test_generator,\n",
    "    validation_steps = 4)\n"
   ]
  },
  {
   "cell_type": "code",
   "execution_count": 14,
   "metadata": {
    "id": "70ThfDcd2B5g"
   },
   "outputs": [],
   "source": [
    "print(history.history.keys())\n",
    "val_acc = history.history['val_accuracy']\n",
    "val_loss = history.history['val_loss']\n",
    "y_acc = history.history['accuracy']\n",
    "y_loss = history.history['loss']"
   ]
  },
  {
   "cell_type": "code",
   "execution_count": 17,
   "metadata": {
    "colab": {
     "base_uri": "https://localhost:8080/",
     "height": 279
    },
    "id": "QJwmFP0CzR9r",
    "outputId": "eab18134-55b0-42f1-efef-740dcc4ebb18"
   },
   "outputs": [
    {
     "data": {
      "image/png": "[encoded data removed]",
      "text/plain": [
       "<Figure size 432x288 with 1 Axes>"
      ]
     },
     "metadata": {
      "needs_background": "light"
     },
     "output_type": "display_data"
    }
   ],
   "source": [
    "x_len = np.arange(len(y_loss))\n",
    "plt.plot(x_len, y_acc, marker = '.', c='red', label='trainset_acc')\n",
    "plt.plot(x_len, val_acc, marker = '.', c='lightcoral', label='testset_acc')\n",
    "plt.plot(x_len, y_loss, marker = '.', c='cornflowerblue', label='trainset_loss')\n",
    "plt.plot(x_len, val_loss, marker = '.', c='blue', label='testset_loss')\n",
    "plt.legend(loc='upper right')\n",
    "plt.grid()\n",
    "plt.xlabel('epoch')\n",
    "plt.ylabel('loss/acc')\n",
    "plt.show()"
   ]
  }
 ],
 "metadata": {
  "colab": {
   "collapsed_sections": [],
   "name": "Class20_전이학습.ipynb",
   "provenance": []
  },
  "kernelspec": {
   "display_name": "Python 3 (ipykernel)",
   "language": "python",
   "name": "python3"
  },
  "language_info": {
   "codemirror_mode": {
    "name": "ipython",
    "version": 3
   },
   "file_extension": ".py",
   "mimetype": "text/x-python",
   "name": "python",
   "nbconvert_exporter": "python",
   "pygments_lexer": "ipython3",
   "version": "3.9.7"
  }
 },
 "nbformat": 4,
 "nbformat_minor": 4
}
