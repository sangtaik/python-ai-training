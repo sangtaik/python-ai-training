{
  "nbformat": 4,
  "nbformat_minor": 0,
  "metadata": {
    "colab": {
      "name": "Class16_MINST_pen.ipynb",
      "provenance": [],
      "collapsed_sections": []
    },
    "kernelspec": {
      "name": "python3",
      "display_name": "Python 3"
    },
    "language_info": {
      "name": "python"
    }
  },
  "cells": [
    {
      "cell_type": "code",
      "execution_count": 1,
      "metadata": {
        "id": "ikN7W980cMwB"
      },
      "outputs": [],
      "source": [
        "import numpy as np\n",
        "import pandas as pd\n",
        "import matplotlib.pyplot as plt\n",
        "\n",
        "from tensorflow import keras"
      ]
    },
    {
      "cell_type": "code",
      "source": [
        "(train_input, train_target), (test_input, test_target) = keras.datasets.fashion_mnist.load_data()\n",
        "\n",
        "train_input.shape\n",
        "train_target.shape"
      ],
      "metadata": {
        "colab": {
          "base_uri": "https://localhost:8080/"
        },
        "id": "4Pw0Lnjkca2K",
        "outputId": "0163dcc0-3714-4f23-bb18-11ad914bc62e"
      },
      "execution_count": 2,
      "outputs": [
        {
          "output_type": "stream",
          "name": "stdout",
          "text": [
            "Downloading data from https://storage.googleapis.com/tensorflow/tf-keras-datasets/train-labels-idx1-ubyte.gz\n",
            "32768/29515 [=================================] - 0s 0us/step\n",
            "40960/29515 [=========================================] - 0s 0us/step\n",
            "Downloading data from https://storage.googleapis.com/tensorflow/tf-keras-datasets/train-images-idx3-ubyte.gz\n",
            "26427392/26421880 [==============================] - 0s 0us/step\n",
            "26435584/26421880 [==============================] - 0s 0us/step\n",
            "Downloading data from https://storage.googleapis.com/tensorflow/tf-keras-datasets/t10k-labels-idx1-ubyte.gz\n",
            "16384/5148 [===============================================================================================] - 0s 0us/step\n",
            "Downloading data from https://storage.googleapis.com/tensorflow/tf-keras-datasets/t10k-images-idx3-ubyte.gz\n",
            "4423680/4422102 [==============================] - 0s 0us/step\n",
            "4431872/4422102 [==============================] - 0s 0us/step\n"
          ]
        },
        {
          "output_type": "execute_result",
          "data": {
            "text/plain": [
              "(60000,)"
            ]
          },
          "metadata": {},
          "execution_count": 2
        }
      ]
    },
    {
      "cell_type": "code",
      "source": [
        "fig, axes = plt.subplots(1, 10, figsize = (10, 10))\n",
        "\n",
        "for i in range(10):\n",
        "    axes[i].imshow(train_input[i], cmap = 'gray')\n",
        "    axes[i].axis('off')\n",
        "plt.show()"
      ],
      "metadata": {
        "colab": {
          "base_uri": "https://localhost:8080/",
          "height": 78
        },
        "id": "GydN1SHJc72L",
        "outputId": "befb0e6d-c11f-41c2-ba1f-54c8bd6789c4"
      },
      "execution_count": 3,
      "outputs": [
        {
          "output_type": "display_data",
          "data": {
            "text/plain": [
              "<Figure size 720x720 with 10 Axes>"
            ],
            "image/png": "[encoded data removed]"
          },
          "metadata": {
            "needs_background": "light"
          }
        }
      ]
    },
    {
      "cell_type": "code",
      "source": [
        "train_target[:10]"
      ],
      "metadata": {
        "colab": {
          "base_uri": "https://localhost:8080/"
        },
        "id": "z7TSw3jjdQyg",
        "outputId": "3262274c-b07c-49a3-d4de-169281d5aff1"
      },
      "execution_count": 4,
      "outputs": [
        {
          "output_type": "execute_result",
          "data": {
            "text/plain": [
              "array([9, 0, 0, 3, 0, 2, 7, 2, 5, 5], dtype=uint8)"
            ]
          },
          "metadata": {},
          "execution_count": 4
        }
      ]
    },
    {
      "cell_type": "code",
      "source": [
        "np.unique(train_target, return_counts=True)"
      ],
      "metadata": {
        "colab": {
          "base_uri": "https://localhost:8080/"
        },
        "id": "p2luMtY6dfEQ",
        "outputId": "3bf9f54b-03cc-4a6c-e1f0-f1892580976d"
      },
      "execution_count": 5,
      "outputs": [
        {
          "output_type": "execute_result",
          "data": {
            "text/plain": [
              "(array([0, 1, 2, 3, 4, 5, 6, 7, 8, 9], dtype=uint8),\n",
              " array([6000, 6000, 6000, 6000, 6000, 6000, 6000, 6000, 6000, 6000]))"
            ]
          },
          "metadata": {},
          "execution_count": 5
        }
      ]
    },
    {
      "cell_type": "code",
      "source": [
        "train_scaled = (train_input/255.0).reshape(-1, 28 * 28)\n",
        "test_scaled = (test_input/255.0).reshape(-1, 28 * 28)\n",
        "\n",
        "train_scaled.shape"
      ],
      "metadata": {
        "colab": {
          "base_uri": "https://localhost:8080/"
        },
        "id": "u49Arc6xdrR7",
        "outputId": "318fc012-3f81-4679-b694-7bc28a0b0c50"
      },
      "execution_count": 6,
      "outputs": [
        {
          "output_type": "execute_result",
          "data": {
            "text/plain": [
              "(60000, 784)"
            ]
          },
          "metadata": {},
          "execution_count": 6
        }
      ]
    },
    {
      "cell_type": "code",
      "source": [
        "from sklearn.model_selection import train_test_split\n",
        "\n",
        "train_scaled, val_scaled, train_target, val_target = train_test_split(\n",
        "    train_scaled, train_target, test_size = 0.2)\n",
        "\n"
      ],
      "metadata": {
        "id": "zr5nUTzNehwC"
      },
      "execution_count": 7,
      "outputs": []
    },
    {
      "cell_type": "code",
      "source": [
        "print(train_scaled.shape)"
      ],
      "metadata": {
        "colab": {
          "base_uri": "https://localhost:8080/"
        },
        "id": "pkMFA-v0e-JY",
        "outputId": "b1de5c61-b53d-4304-c72a-d019c5e676cf"
      },
      "execution_count": 8,
      "outputs": [
        {
          "output_type": "stream",
          "name": "stdout",
          "text": [
            "(48000, 784)\n"
          ]
        }
      ]
    },
    {
      "cell_type": "code",
      "source": [
        "model = keras.Sequential()\n",
        "model.add(keras.layers.Dense(30, input_shape=(784, ), activation='relu'))\n",
        "model.add(keras.layers.Dense(10, activation= 'softmax'))\n",
        "model.summary()"
      ],
      "metadata": {
        "colab": {
          "base_uri": "https://localhost:8080/"
        },
        "id": "45w0f9LcfE3J",
        "outputId": "8d73b0b7-ea49-46c6-a322-acd45b55e6b8"
      },
      "execution_count": 9,
      "outputs": [
        {
          "output_type": "stream",
          "name": "stdout",
          "text": [
            "Model: \"sequential\"\n",
            "_________________________________________________________________\n",
            " Layer (type)                Output Shape              Param #   \n",
            "=================================================================\n",
            " dense (Dense)               (None, 30)                23550     \n",
            "                                                                 \n",
            " dense_1 (Dense)             (None, 10)                310       \n",
            "                                                                 \n",
            "=================================================================\n",
            "Total params: 23,860\n",
            "Trainable params: 23,860\n",
            "Non-trainable params: 0\n",
            "_________________________________________________________________\n"
          ]
        }
      ]
    },
    {
      "cell_type": "code",
      "source": [
        "model.compile(loss= 'sparse_categorical_crossentropy',\n",
        "              metrics='accuracy',\n",
        "              optimizer = 'adam')"
      ],
      "metadata": {
        "id": "FHiqOVdTfqeg"
      },
      "execution_count": 10,
      "outputs": []
    },
    {
      "cell_type": "code",
      "source": [
        "history = model.fit(train_scaled, train_target, epochs = 20, batch_size = 100, validation_data=(val_scaled, val_target))"
      ],
      "metadata": {
        "colab": {
          "base_uri": "https://localhost:8080/"
        },
        "id": "kuN_i3ZPf5iB",
        "outputId": "850e72f4-a0b9-4e64-a43d-e4bfa95d7194"
      },
      "execution_count": 14,
      "outputs": [
        {
          "output_type": "stream",
          "name": "stdout",
          "text": [
            "Epoch 1/20\n",
            "480/480 [==============================] - 2s 4ms/step - loss: 0.6668 - accuracy: 0.7772 - val_loss: 0.5029 - val_accuracy: 0.8267\n",
            "Epoch 2/20\n",
            "480/480 [==============================] - 2s 3ms/step - loss: 0.4594 - accuracy: 0.8419 - val_loss: 0.4697 - val_accuracy: 0.8383\n",
            "Epoch 3/20\n",
            "480/480 [==============================] - 2s 4ms/step - loss: 0.4246 - accuracy: 0.8525 - val_loss: 0.4394 - val_accuracy: 0.8497\n",
            "Epoch 4/20\n",
            "480/480 [==============================] - 2s 3ms/step - loss: 0.3995 - accuracy: 0.8600 - val_loss: 0.4197 - val_accuracy: 0.8557\n",
            "Epoch 5/20\n",
            "480/480 [==============================] - 2s 3ms/step - loss: 0.3846 - accuracy: 0.8637 - val_loss: 0.4456 - val_accuracy: 0.8443\n",
            "Epoch 6/20\n",
            "480/480 [==============================] - 2s 3ms/step - loss: 0.3712 - accuracy: 0.8678 - val_loss: 0.4118 - val_accuracy: 0.8581\n",
            "Epoch 7/20\n",
            "480/480 [==============================] - 2s 3ms/step - loss: 0.3603 - accuracy: 0.8725 - val_loss: 0.4032 - val_accuracy: 0.8618\n",
            "Epoch 8/20\n",
            "480/480 [==============================] - 2s 4ms/step - loss: 0.3486 - accuracy: 0.8746 - val_loss: 0.4247 - val_accuracy: 0.8535\n",
            "Epoch 9/20\n",
            "480/480 [==============================] - 2s 3ms/step - loss: 0.3435 - accuracy: 0.8764 - val_loss: 0.4119 - val_accuracy: 0.8575\n",
            "Epoch 10/20\n",
            "480/480 [==============================] - 2s 4ms/step - loss: 0.3347 - accuracy: 0.8800 - val_loss: 0.3795 - val_accuracy: 0.8671\n",
            "Epoch 11/20\n",
            "480/480 [==============================] - 2s 3ms/step - loss: 0.3271 - accuracy: 0.8811 - val_loss: 0.3866 - val_accuracy: 0.8662\n",
            "Epoch 12/20\n",
            "480/480 [==============================] - 2s 3ms/step - loss: 0.3214 - accuracy: 0.8845 - val_loss: 0.3844 - val_accuracy: 0.8670\n",
            "Epoch 13/20\n",
            "480/480 [==============================] - 2s 3ms/step - loss: 0.3148 - accuracy: 0.8871 - val_loss: 0.3793 - val_accuracy: 0.8682\n",
            "Epoch 14/20\n",
            "480/480 [==============================] - 2s 4ms/step - loss: 0.3093 - accuracy: 0.8878 - val_loss: 0.3778 - val_accuracy: 0.8677\n",
            "Epoch 15/20\n",
            "480/480 [==============================] - 2s 3ms/step - loss: 0.3044 - accuracy: 0.8894 - val_loss: 0.3703 - val_accuracy: 0.8714\n",
            "Epoch 16/20\n",
            "480/480 [==============================] - 2s 3ms/step - loss: 0.2991 - accuracy: 0.8920 - val_loss: 0.3659 - val_accuracy: 0.8701\n",
            "Epoch 17/20\n",
            "480/480 [==============================] - 2s 4ms/step - loss: 0.2959 - accuracy: 0.8928 - val_loss: 0.3678 - val_accuracy: 0.8725\n",
            "Epoch 18/20\n",
            "480/480 [==============================] - 2s 4ms/step - loss: 0.2919 - accuracy: 0.8932 - val_loss: 0.3677 - val_accuracy: 0.8736\n",
            "Epoch 19/20\n",
            "480/480 [==============================] - 2s 4ms/step - loss: 0.2883 - accuracy: 0.8945 - val_loss: 0.3661 - val_accuracy: 0.8747\n",
            "Epoch 20/20\n",
            "480/480 [==============================] - 2s 3ms/step - loss: 0.2857 - accuracy: 0.8968 - val_loss: 0.3650 - val_accuracy: 0.8744\n"
          ]
        }
      ]
    },
    {
      "cell_type": "code",
      "source": [
        "print(history.history.keys())\n",
        "\n",
        "plt.plot(history.history['loss'], c = 'red')\n",
        "plt.plot(history.history['val_loss'], c = 'blue')\n",
        "plt.show(0)"
      ],
      "metadata": {
        "colab": {
          "base_uri": "https://localhost:8080/",
          "height": 532
        },
        "id": "PImK-fsfgE5g",
        "outputId": "c02bc2d2-57bd-4a68-b514-0bfc866f1e18"
      },
      "execution_count": 15,
      "outputs": [
        {
          "output_type": "stream",
          "name": "stdout",
          "text": [
            "dict_keys(['loss', 'accuracy', 'val_loss', 'val_accuracy'])\n"
          ]
        },
        {
          "output_type": "display_data",
          "data": {
            "text/plain": [
              "<Figure size 432x288 with 1 Axes>"
            ],
            "image/png": "[encoded data removed]"
          },
          "metadata": {
            "needs_background": "light"
          }
        },
        {
          "output_type": "display_data",
          "data": {
            "text/plain": [
              "<Figure size 432x288 with 1 Axes>"
            ],
            "image/png": "[encoded data removed]"
          },
          "metadata": {
            "needs_background": "light"
          }
        }
      ]
    },
    {
      "cell_type": "code",
      "source": [
        "# 심층 모델\n",
        "\n",
        "model = keras.Sequential()\n",
        "model.add(keras.layers.Dense(100, input_shape=(784, ), \n",
        "                             activation='relu', name = 'hidden1'))\n",
        "model.add(keras.layers.Dense(30, activation= 'relu', name = 'hidden2'))\n",
        "model.add(keras.layers.Dense(10, activation= 'softmax', name = 'output'))\n",
        "model.summary()"
      ],
      "metadata": {
        "colab": {
          "base_uri": "https://localhost:8080/"
        },
        "id": "5eJpjLtqhFxA",
        "outputId": "ac7bf7eb-175c-4ae0-83fa-49c22b469e2f"
      },
      "execution_count": 16,
      "outputs": [
        {
          "output_type": "stream",
          "name": "stdout",
          "text": [
            "Model: \"sequential_1\"\n",
            "_________________________________________________________________\n",
            " Layer (type)                Output Shape              Param #   \n",
            "=================================================================\n",
            " hidden1 (Dense)             (None, 100)               78500     \n",
            "                                                                 \n",
            " hidden2 (Dense)             (None, 30)                3030      \n",
            "                                                                 \n",
            " output (Dense)              (None, 10)                310       \n",
            "                                                                 \n",
            "=================================================================\n",
            "Total params: 81,840\n",
            "Trainable params: 81,840\n",
            "Non-trainable params: 0\n",
            "_________________________________________________________________\n"
          ]
        }
      ]
    },
    {
      "cell_type": "code",
      "source": [
        "model.compile(loss= 'sparse_categorical_crossentropy',\n",
        "              metrics='accuracy',\n",
        "              optimizer = 'adam')"
      ],
      "metadata": {
        "id": "RgaC2E7BiRWp"
      },
      "execution_count": 17,
      "outputs": []
    },
    {
      "cell_type": "code",
      "source": [
        "history = model.fit(train_scaled, train_target, epochs = 20, batch_size = 100, validation_data=(val_scaled, val_target))"
      ],
      "metadata": {
        "colab": {
          "base_uri": "https://localhost:8080/"
        },
        "id": "70bGpNbfiZoR",
        "outputId": "7574334e-68b0-4e98-e3d7-ee2d3fef5c3b"
      },
      "execution_count": 18,
      "outputs": [
        {
          "output_type": "stream",
          "name": "stdout",
          "text": [
            "Epoch 1/20\n",
            "480/480 [==============================] - 3s 5ms/step - loss: 0.5944 - accuracy: 0.7926 - val_loss: 0.4518 - val_accuracy: 0.8443\n",
            "Epoch 2/20\n",
            "480/480 [==============================] - 3s 5ms/step - loss: 0.4126 - accuracy: 0.8554 - val_loss: 0.4046 - val_accuracy: 0.8607\n",
            "Epoch 3/20\n",
            "480/480 [==============================] - 2s 5ms/step - loss: 0.3715 - accuracy: 0.8675 - val_loss: 0.3982 - val_accuracy: 0.8570\n",
            "Epoch 4/20\n",
            "480/480 [==============================] - 2s 5ms/step - loss: 0.3458 - accuracy: 0.8751 - val_loss: 0.3872 - val_accuracy: 0.8627\n",
            "Epoch 5/20\n",
            "480/480 [==============================] - 2s 5ms/step - loss: 0.3239 - accuracy: 0.8826 - val_loss: 0.3755 - val_accuracy: 0.8678\n",
            "Epoch 6/20\n",
            "480/480 [==============================] - 2s 5ms/step - loss: 0.3109 - accuracy: 0.8871 - val_loss: 0.3763 - val_accuracy: 0.8659\n",
            "Epoch 7/20\n",
            "480/480 [==============================] - 2s 5ms/step - loss: 0.2985 - accuracy: 0.8918 - val_loss: 0.3592 - val_accuracy: 0.8715\n",
            "Epoch 8/20\n",
            "480/480 [==============================] - 2s 5ms/step - loss: 0.2881 - accuracy: 0.8943 - val_loss: 0.3559 - val_accuracy: 0.8698\n",
            "Epoch 9/20\n",
            "480/480 [==============================] - 2s 5ms/step - loss: 0.2745 - accuracy: 0.8995 - val_loss: 0.3474 - val_accuracy: 0.8804\n",
            "Epoch 10/20\n",
            "480/480 [==============================] - 2s 5ms/step - loss: 0.2629 - accuracy: 0.9032 - val_loss: 0.3432 - val_accuracy: 0.8766\n",
            "Epoch 11/20\n",
            "480/480 [==============================] - 2s 5ms/step - loss: 0.2587 - accuracy: 0.9043 - val_loss: 0.3299 - val_accuracy: 0.8839\n",
            "Epoch 12/20\n",
            "480/480 [==============================] - 2s 5ms/step - loss: 0.2503 - accuracy: 0.9078 - val_loss: 0.3340 - val_accuracy: 0.8832\n",
            "Epoch 13/20\n",
            "480/480 [==============================] - 2s 5ms/step - loss: 0.2451 - accuracy: 0.9078 - val_loss: 0.3429 - val_accuracy: 0.8766\n",
            "Epoch 14/20\n",
            "480/480 [==============================] - 2s 5ms/step - loss: 0.2375 - accuracy: 0.9115 - val_loss: 0.3446 - val_accuracy: 0.8805\n",
            "Epoch 15/20\n",
            "480/480 [==============================] - 2s 5ms/step - loss: 0.2300 - accuracy: 0.9142 - val_loss: 0.3244 - val_accuracy: 0.8867\n",
            "Epoch 16/20\n",
            "480/480 [==============================] - 2s 5ms/step - loss: 0.2213 - accuracy: 0.9170 - val_loss: 0.3493 - val_accuracy: 0.8818\n",
            "Epoch 17/20\n",
            "480/480 [==============================] - 2s 5ms/step - loss: 0.2189 - accuracy: 0.9179 - val_loss: 0.3385 - val_accuracy: 0.8841\n",
            "Epoch 18/20\n",
            "480/480 [==============================] - 2s 5ms/step - loss: 0.2124 - accuracy: 0.9211 - val_loss: 0.3351 - val_accuracy: 0.8851\n",
            "Epoch 19/20\n",
            "480/480 [==============================] - 2s 5ms/step - loss: 0.2064 - accuracy: 0.9227 - val_loss: 0.3320 - val_accuracy: 0.8863\n",
            "Epoch 20/20\n",
            "480/480 [==============================] - 2s 5ms/step - loss: 0.2014 - accuracy: 0.9252 - val_loss: 0.3575 - val_accuracy: 0.8828\n"
          ]
        }
      ]
    },
    {
      "cell_type": "code",
      "source": [
        "print(history.history.keys())\n",
        "\n",
        "plt.plot(history.history['loss'], c = 'red')\n",
        "plt.plot(history.history['val_loss'], c = 'blue')\n",
        "plt.show(0)"
      ],
      "metadata": {
        "colab": {
          "base_uri": "https://localhost:8080/",
          "height": 532
        },
        "id": "SOxdvjZ7ivri",
        "outputId": "6addf935-550e-42a0-d94e-651da93cf1f6"
      },
      "execution_count": 19,
      "outputs": [
        {
          "output_type": "stream",
          "name": "stdout",
          "text": [
            "dict_keys(['loss', 'accuracy', 'val_loss', 'val_accuracy'])\n"
          ]
        },
        {
          "output_type": "display_data",
          "data": {
            "text/plain": [
              "<Figure size 432x288 with 1 Axes>"
            ],
            "image/png": "[encoded data removed]"
          },
          "metadata": {
            "needs_background": "light"
          }
        },
        {
          "output_type": "display_data",
          "data": {
            "text/plain": [
              "<Figure size 432x288 with 1 Axes>"
            ],
            "image/png": "[encoded data removed]"
          },
          "metadata": {
            "needs_background": "light"
          }
        }
      ]
    },
    {
      "cell_type": "code",
      "source": [
        "model.evaluate(test_scaled, test_target)"
      ],
      "metadata": {
        "colab": {
          "base_uri": "https://localhost:8080/"
        },
        "id": "PY2fDSbuigND",
        "outputId": "b37cca82-54f6-40ee-ebf1-7a7c7c479965"
      },
      "execution_count": 20,
      "outputs": [
        {
          "output_type": "stream",
          "name": "stdout",
          "text": [
            "313/313 [==============================] - 1s 3ms/step - loss: 0.3672 - accuracy: 0.8774\n"
          ]
        },
        {
          "output_type": "execute_result",
          "data": {
            "text/plain": [
              "[0.36721503734588623, 0.8773999810218811]"
            ]
          },
          "metadata": {},
          "execution_count": 20
        }
      ]
    },
    {
      "cell_type": "code",
      "source": [
        "## model 함수 정의\n",
        "\n",
        "def model_fn(a_layer=None, name = None):\n",
        "    model= keras.Sequential(name = name)\n",
        "    model.add(keras.layers.Flatten(input_shape = (784, )))\n",
        "    model.add(keras.layers.Dense(100, activation = 'relu'))\n",
        "    if a_layer:\n",
        "        model.add(a_layer)\n",
        "    model.add(keras.layers.Dense(10, activation= 'softmax'))\n",
        "\n",
        "    return model"
      ],
      "metadata": {
        "id": "pDZLxrl9iybY"
      },
      "execution_count": 8,
      "outputs": []
    },
    {
      "cell_type": "code",
      "source": [
        "model = model_fn()\n",
        "model.compile(loss = 'sparse_categorical_crossentropy',\n",
        "              optimizer = 'adam',\n",
        "              metrics='accuracy')\n",
        "history = model.fit(train_scaled, train_target, epochs = 20, validation_data=(val_scaled, val_target))\n",
        "\n",
        "model.summary()"
      ],
      "metadata": {
        "colab": {
          "base_uri": "https://localhost:8080/"
        },
        "id": "cAkcsBwAj3mx",
        "outputId": "d9d2ada2-82a6-4ca6-f102-3b33d028ff59"
      },
      "execution_count": 22,
      "outputs": [
        {
          "output_type": "stream",
          "name": "stdout",
          "text": [
            "Epoch 1/40\n",
            "1500/1500 [==============================] - 5s 3ms/step - loss: 0.5252 - accuracy: 0.8138\n",
            "Epoch 2/40\n",
            "1500/1500 [==============================] - 4s 3ms/step - loss: 0.3915 - accuracy: 0.8609\n",
            "Epoch 3/40\n",
            "1500/1500 [==============================] - 6s 4ms/step - loss: 0.3485 - accuracy: 0.8730\n",
            "Epoch 4/40\n",
            "1500/1500 [==============================] - 4s 3ms/step - loss: 0.3240 - accuracy: 0.8804\n",
            "Epoch 5/40\n",
            "1500/1500 [==============================] - 4s 3ms/step - loss: 0.3046 - accuracy: 0.8871\n",
            "Epoch 6/40\n",
            "1500/1500 [==============================] - 4s 3ms/step - loss: 0.2867 - accuracy: 0.8941\n",
            "Epoch 7/40\n",
            "1500/1500 [==============================] - 6s 4ms/step - loss: 0.2778 - accuracy: 0.8975\n",
            "Epoch 8/40\n",
            "1500/1500 [==============================] - 6s 4ms/step - loss: 0.2642 - accuracy: 0.9017\n",
            "Epoch 9/40\n",
            "1500/1500 [==============================] - 6s 4ms/step - loss: 0.2565 - accuracy: 0.9045\n",
            "Epoch 10/40\n",
            "1500/1500 [==============================] - 6s 4ms/step - loss: 0.2472 - accuracy: 0.9072\n",
            "Epoch 11/40\n",
            "1500/1500 [==============================] - 6s 4ms/step - loss: 0.2389 - accuracy: 0.9113\n",
            "Epoch 12/40\n",
            "1500/1500 [==============================] - 6s 4ms/step - loss: 0.2315 - accuracy: 0.9130\n",
            "Epoch 13/40\n",
            "1500/1500 [==============================] - 7s 5ms/step - loss: 0.2253 - accuracy: 0.9158\n",
            "Epoch 14/40\n",
            "1500/1500 [==============================] - 8s 6ms/step - loss: 0.2180 - accuracy: 0.9181\n",
            "Epoch 15/40\n",
            "1500/1500 [==============================] - 5s 4ms/step - loss: 0.2131 - accuracy: 0.9199\n",
            "Epoch 16/40\n",
            "1500/1500 [==============================] - 6s 4ms/step - loss: 0.2073 - accuracy: 0.9233\n",
            "Epoch 17/40\n",
            "1500/1500 [==============================] - 6s 4ms/step - loss: 0.2023 - accuracy: 0.9254\n",
            "Epoch 18/40\n",
            "1500/1500 [==============================] - 5s 4ms/step - loss: 0.1976 - accuracy: 0.9260\n",
            "Epoch 19/40\n",
            "1500/1500 [==============================] - 5s 4ms/step - loss: 0.1919 - accuracy: 0.9279\n",
            "Epoch 20/40\n",
            "1500/1500 [==============================] - 6s 4ms/step - loss: 0.1864 - accuracy: 0.9294\n",
            "Epoch 21/40\n",
            "1500/1500 [==============================] - 5s 4ms/step - loss: 0.1861 - accuracy: 0.9295\n",
            "Epoch 22/40\n",
            "1500/1500 [==============================] - 5s 4ms/step - loss: 0.1782 - accuracy: 0.9339\n",
            "Epoch 23/40\n",
            "1500/1500 [==============================] - 4s 3ms/step - loss: 0.1739 - accuracy: 0.9353\n",
            "Epoch 24/40\n",
            "1500/1500 [==============================] - 4s 3ms/step - loss: 0.1679 - accuracy: 0.9374\n",
            "Epoch 25/40\n",
            "1500/1500 [==============================] - 5s 3ms/step - loss: 0.1657 - accuracy: 0.9361\n",
            "Epoch 26/40\n",
            "1500/1500 [==============================] - 5s 4ms/step - loss: 0.1608 - accuracy: 0.9397\n",
            "Epoch 27/40\n",
            "1500/1500 [==============================] - 5s 4ms/step - loss: 0.1580 - accuracy: 0.9412\n",
            "Epoch 28/40\n",
            "1500/1500 [==============================] - 6s 4ms/step - loss: 0.1569 - accuracy: 0.9418\n",
            "Epoch 29/40\n",
            "1500/1500 [==============================] - 6s 4ms/step - loss: 0.1521 - accuracy: 0.9435\n",
            "Epoch 30/40\n",
            "1500/1500 [==============================] - 6s 4ms/step - loss: 0.1474 - accuracy: 0.9444\n",
            "Epoch 31/40\n",
            "1500/1500 [==============================] - 5s 4ms/step - loss: 0.1448 - accuracy: 0.9457\n",
            "Epoch 32/40\n",
            "1500/1500 [==============================] - 5s 4ms/step - loss: 0.1439 - accuracy: 0.9458\n",
            "Epoch 33/40\n",
            "1500/1500 [==============================] - 6s 4ms/step - loss: 0.1413 - accuracy: 0.9468\n",
            "Epoch 34/40\n",
            "1500/1500 [==============================] - 6s 4ms/step - loss: 0.1370 - accuracy: 0.9489\n",
            "Epoch 35/40\n",
            "1500/1500 [==============================] - 6s 4ms/step - loss: 0.1355 - accuracy: 0.9495\n",
            "Epoch 36/40\n",
            "1500/1500 [==============================] - 6s 4ms/step - loss: 0.1321 - accuracy: 0.9505\n",
            "Epoch 37/40\n",
            "1500/1500 [==============================] - 6s 4ms/step - loss: 0.1309 - accuracy: 0.9515\n",
            "Epoch 38/40\n",
            "1500/1500 [==============================] - 6s 4ms/step - loss: 0.1264 - accuracy: 0.9529\n",
            "Epoch 39/40\n",
            "1500/1500 [==============================] - 6s 4ms/step - loss: 0.1257 - accuracy: 0.9524\n",
            "Epoch 40/40\n",
            "1500/1500 [==============================] - 5s 4ms/step - loss: 0.1214 - accuracy: 0.9542\n",
            "Model: \"sequential_2\"\n",
            "_________________________________________________________________\n",
            " Layer (type)                Output Shape              Param #   \n",
            "=================================================================\n",
            " flatten (Flatten)           (None, 784)               0         \n",
            "                                                                 \n",
            " dense_2 (Dense)             (None, 100)               78500     \n",
            "                                                                 \n",
            " dense_3 (Dense)             (None, 10)                1010      \n",
            "                                                                 \n",
            "=================================================================\n",
            "Total params: 79,510\n",
            "Trainable params: 79,510\n",
            "Non-trainable params: 0\n",
            "_________________________________________________________________\n"
          ]
        }
      ]
    },
    {
      "cell_type": "code",
      "source": [
        "model.evaluate(test_scaled, test_target)"
      ],
      "metadata": {
        "colab": {
          "base_uri": "https://localhost:8080/",
          "height": 610
        },
        "id": "vRyzdA_Xj8qg",
        "outputId": "6c25e449-5338-4fbc-e877-b196bbb948fc"
      },
      "execution_count": 23,
      "outputs": [
        {
          "output_type": "error",
          "ename": "ValueError",
          "evalue": "ignored",
          "traceback": [
            "\u001b[0;31m---------------------------------------------------------------------------\u001b[0m",
            "\u001b[0;31mValueError\u001b[0m                                Traceback (most recent call last)",
            "\u001b[0;32m<ipython-input-23-399ad6981aeb>\u001b[0m in \u001b[0;36m<module>\u001b[0;34m()\u001b[0m\n\u001b[0;32m----> 1\u001b[0;31m \u001b[0mmodel\u001b[0m\u001b[0;34m.\u001b[0m\u001b[0mevaluate\u001b[0m\u001b[0;34m(\u001b[0m\u001b[0mtest_scaled\u001b[0m\u001b[0;34m,\u001b[0m \u001b[0mtest_target\u001b[0m\u001b[0;34m)\u001b[0m\u001b[0;34m\u001b[0m\u001b[0;34m\u001b[0m\u001b[0m\n\u001b[0m",
            "\u001b[0;32m/usr/local/lib/python3.7/dist-packages/keras/utils/traceback_utils.py\u001b[0m in \u001b[0;36merror_handler\u001b[0;34m(*args, **kwargs)\u001b[0m\n\u001b[1;32m     65\u001b[0m     \u001b[0;32mexcept\u001b[0m \u001b[0mException\u001b[0m \u001b[0;32mas\u001b[0m \u001b[0me\u001b[0m\u001b[0;34m:\u001b[0m  \u001b[0;31m# pylint: disable=broad-except\u001b[0m\u001b[0;34m\u001b[0m\u001b[0;34m\u001b[0m\u001b[0m\n\u001b[1;32m     66\u001b[0m       \u001b[0mfiltered_tb\u001b[0m \u001b[0;34m=\u001b[0m \u001b[0m_process_traceback_frames\u001b[0m\u001b[0;34m(\u001b[0m\u001b[0me\u001b[0m\u001b[0;34m.\u001b[0m\u001b[0m__traceback__\u001b[0m\u001b[0;34m)\u001b[0m\u001b[0;34m\u001b[0m\u001b[0;34m\u001b[0m\u001b[0m\n\u001b[0;32m---> 67\u001b[0;31m       \u001b[0;32mraise\u001b[0m \u001b[0me\u001b[0m\u001b[0;34m.\u001b[0m\u001b[0mwith_traceback\u001b[0m\u001b[0;34m(\u001b[0m\u001b[0mfiltered_tb\u001b[0m\u001b[0;34m)\u001b[0m \u001b[0;32mfrom\u001b[0m \u001b[0;32mNone\u001b[0m\u001b[0;34m\u001b[0m\u001b[0;34m\u001b[0m\u001b[0m\n\u001b[0m\u001b[1;32m     68\u001b[0m     \u001b[0;32mfinally\u001b[0m\u001b[0;34m:\u001b[0m\u001b[0;34m\u001b[0m\u001b[0;34m\u001b[0m\u001b[0m\n\u001b[1;32m     69\u001b[0m       \u001b[0;32mdel\u001b[0m \u001b[0mfiltered_tb\u001b[0m\u001b[0;34m\u001b[0m\u001b[0;34m\u001b[0m\u001b[0m\n",
            "\u001b[0;32m/usr/local/lib/python3.7/dist-packages/tensorflow/python/framework/func_graph.py\u001b[0m in \u001b[0;36mautograph_handler\u001b[0;34m(*args, **kwargs)\u001b[0m\n\u001b[1;32m   1145\u001b[0m           \u001b[0;32mexcept\u001b[0m \u001b[0mException\u001b[0m \u001b[0;32mas\u001b[0m \u001b[0me\u001b[0m\u001b[0;34m:\u001b[0m  \u001b[0;31m# pylint:disable=broad-except\u001b[0m\u001b[0;34m\u001b[0m\u001b[0;34m\u001b[0m\u001b[0m\n\u001b[1;32m   1146\u001b[0m             \u001b[0;32mif\u001b[0m \u001b[0mhasattr\u001b[0m\u001b[0;34m(\u001b[0m\u001b[0me\u001b[0m\u001b[0;34m,\u001b[0m \u001b[0;34m\"ag_error_metadata\"\u001b[0m\u001b[0;34m)\u001b[0m\u001b[0;34m:\u001b[0m\u001b[0;34m\u001b[0m\u001b[0;34m\u001b[0m\u001b[0m\n\u001b[0;32m-> 1147\u001b[0;31m               \u001b[0;32mraise\u001b[0m \u001b[0me\u001b[0m\u001b[0;34m.\u001b[0m\u001b[0mag_error_metadata\u001b[0m\u001b[0;34m.\u001b[0m\u001b[0mto_exception\u001b[0m\u001b[0;34m(\u001b[0m\u001b[0me\u001b[0m\u001b[0;34m)\u001b[0m\u001b[0;34m\u001b[0m\u001b[0;34m\u001b[0m\u001b[0m\n\u001b[0m\u001b[1;32m   1148\u001b[0m             \u001b[0;32melse\u001b[0m\u001b[0;34m:\u001b[0m\u001b[0;34m\u001b[0m\u001b[0;34m\u001b[0m\u001b[0m\n\u001b[1;32m   1149\u001b[0m               \u001b[0;32mraise\u001b[0m\u001b[0;34m\u001b[0m\u001b[0;34m\u001b[0m\u001b[0m\n",
            "\u001b[0;31mValueError\u001b[0m: in user code:\n\n    File \"/usr/local/lib/python3.7/dist-packages/keras/engine/training.py\", line 1525, in test_function  *\n        return step_function(self, iterator)\n    File \"/usr/local/lib/python3.7/dist-packages/keras/engine/training.py\", line 1514, in step_function  **\n        outputs = model.distribute_strategy.run(run_step, args=(data,))\n    File \"/usr/local/lib/python3.7/dist-packages/keras/engine/training.py\", line 1507, in run_step  **\n        outputs = model.test_step(data)\n    File \"/usr/local/lib/python3.7/dist-packages/keras/engine/training.py\", line 1471, in test_step\n        y_pred = self(x, training=False)\n    File \"/usr/local/lib/python3.7/dist-packages/keras/utils/traceback_utils.py\", line 67, in error_handler\n        raise e.with_traceback(filtered_tb) from None\n    File \"/usr/local/lib/python3.7/dist-packages/keras/engine/input_spec.py\", line 264, in assert_input_compatibility\n        raise ValueError(f'Input {input_index} of layer \"{layer_name}\" is '\n\n    ValueError: Input 0 of layer \"sequential_2\" is incompatible with the layer: expected shape=(None, 28, 28), found shape=(None, 784)\n"
          ]
        }
      ]
    },
    {
      "cell_type": "code",
      "source": [
        "print(history.history.keys())\n",
        "\n",
        "plt.plot(history.history['loss'], c = 'red')\n",
        "plt.plot(history.history['val_loss'], c = 'blue')\n",
        "plt.show(0)"
      ],
      "metadata": {
        "colab": {
          "base_uri": "https://localhost:8080/",
          "height": 498
        },
        "id": "WwYO-oQ9pERU",
        "outputId": "41c7dc7c-044d-4fca-9e03-e00e2d625bb7"
      },
      "execution_count": 24,
      "outputs": [
        {
          "output_type": "stream",
          "name": "stdout",
          "text": [
            "dict_keys(['loss', 'accuracy'])\n"
          ]
        },
        {
          "output_type": "error",
          "ename": "KeyError",
          "evalue": "ignored",
          "traceback": [
            "\u001b[0;31m---------------------------------------------------------------------------\u001b[0m",
            "\u001b[0;31mKeyError\u001b[0m                                  Traceback (most recent call last)",
            "\u001b[0;32m<ipython-input-24-10fe6d9dd181>\u001b[0m in \u001b[0;36m<module>\u001b[0;34m()\u001b[0m\n\u001b[1;32m      2\u001b[0m \u001b[0;34m\u001b[0m\u001b[0m\n\u001b[1;32m      3\u001b[0m \u001b[0mplt\u001b[0m\u001b[0;34m.\u001b[0m\u001b[0mplot\u001b[0m\u001b[0;34m(\u001b[0m\u001b[0mhistory\u001b[0m\u001b[0;34m.\u001b[0m\u001b[0mhistory\u001b[0m\u001b[0;34m[\u001b[0m\u001b[0;34m'loss'\u001b[0m\u001b[0;34m]\u001b[0m\u001b[0;34m,\u001b[0m \u001b[0mc\u001b[0m \u001b[0;34m=\u001b[0m \u001b[0;34m'red'\u001b[0m\u001b[0;34m)\u001b[0m\u001b[0;34m\u001b[0m\u001b[0;34m\u001b[0m\u001b[0m\n\u001b[0;32m----> 4\u001b[0;31m \u001b[0mplt\u001b[0m\u001b[0;34m.\u001b[0m\u001b[0mplot\u001b[0m\u001b[0;34m(\u001b[0m\u001b[0mhistory\u001b[0m\u001b[0;34m.\u001b[0m\u001b[0mhistory\u001b[0m\u001b[0;34m[\u001b[0m\u001b[0;34m'val_loss'\u001b[0m\u001b[0;34m]\u001b[0m\u001b[0;34m,\u001b[0m \u001b[0mc\u001b[0m \u001b[0;34m=\u001b[0m \u001b[0;34m'blue'\u001b[0m\u001b[0;34m)\u001b[0m\u001b[0;34m\u001b[0m\u001b[0;34m\u001b[0m\u001b[0m\n\u001b[0m\u001b[1;32m      5\u001b[0m \u001b[0mplt\u001b[0m\u001b[0;34m.\u001b[0m\u001b[0mshow\u001b[0m\u001b[0;34m(\u001b[0m\u001b[0;36m0\u001b[0m\u001b[0;34m)\u001b[0m\u001b[0;34m\u001b[0m\u001b[0;34m\u001b[0m\u001b[0m\n",
            "\u001b[0;31mKeyError\u001b[0m: 'val_loss'"
          ]
        },
        {
          "output_type": "display_data",
          "data": {
            "text/plain": [
              "<Figure size 432x288 with 1 Axes>"
            ],
            "image/png": "[encoded data removed]"
          },
          "metadata": {
            "needs_background": "light"
          }
        }
      ]
    },
    {
      "cell_type": "code",
      "source": [
        "# 옵티마이져 비교 rmsprop\n",
        "\n",
        "model = model_fn()\n",
        "model.compile(loss = 'sparse_categorical_crossentropy',\n",
        "              optimizer = 'rmsprop',\n",
        "              metrics='accuracy')\n",
        "history = model.fit(train_scaled, train_target, epochs = 20, validation_data=(val_scaled, val_target))\n",
        "\n",
        "model.summary()"
      ],
      "metadata": {
        "colab": {
          "base_uri": "https://localhost:8080/"
        },
        "id": "UDgDBUFjp-Mi",
        "outputId": "a80d341b-58ec-4e36-ef0b-ab7c02a40f6c"
      },
      "execution_count": 29,
      "outputs": [
        {
          "output_type": "stream",
          "name": "stdout",
          "text": [
            "Epoch 1/20\n",
            "1500/1500 [==============================] - 6s 4ms/step - loss: 0.5238 - accuracy: 0.8128 - val_loss: 0.4074 - val_accuracy: 0.8567\n",
            "Epoch 2/20\n",
            "1500/1500 [==============================] - 6s 4ms/step - loss: 0.3886 - accuracy: 0.8611 - val_loss: 0.3940 - val_accuracy: 0.8619\n",
            "Epoch 3/20\n",
            "1500/1500 [==============================] - 6s 4ms/step - loss: 0.3521 - accuracy: 0.8744 - val_loss: 0.4195 - val_accuracy: 0.8509\n",
            "Epoch 4/20\n",
            "1500/1500 [==============================] - 6s 4ms/step - loss: 0.3328 - accuracy: 0.8800 - val_loss: 0.3821 - val_accuracy: 0.8687\n",
            "Epoch 5/20\n",
            "1500/1500 [==============================] - 8s 5ms/step - loss: 0.3184 - accuracy: 0.8858 - val_loss: 0.4194 - val_accuracy: 0.8645\n",
            "Epoch 6/20\n",
            "1500/1500 [==============================] - 6s 4ms/step - loss: 0.3071 - accuracy: 0.8910 - val_loss: 0.3727 - val_accuracy: 0.8742\n",
            "Epoch 7/20\n",
            "1500/1500 [==============================] - 6s 4ms/step - loss: 0.2975 - accuracy: 0.8961 - val_loss: 0.3726 - val_accuracy: 0.8789\n",
            "Epoch 8/20\n",
            "1500/1500 [==============================] - 6s 4ms/step - loss: 0.2908 - accuracy: 0.8972 - val_loss: 0.3896 - val_accuracy: 0.8784\n",
            "Epoch 9/20\n",
            "1500/1500 [==============================] - 6s 4ms/step - loss: 0.2813 - accuracy: 0.9025 - val_loss: 0.3841 - val_accuracy: 0.8755\n",
            "Epoch 10/20\n",
            "1500/1500 [==============================] - 7s 5ms/step - loss: 0.2750 - accuracy: 0.9039 - val_loss: 0.4004 - val_accuracy: 0.8813\n",
            "Epoch 11/20\n",
            "1500/1500 [==============================] - 6s 4ms/step - loss: 0.2675 - accuracy: 0.9059 - val_loss: 0.4053 - val_accuracy: 0.8758\n",
            "Epoch 12/20\n",
            "1500/1500 [==============================] - 6s 4ms/step - loss: 0.2636 - accuracy: 0.9078 - val_loss: 0.3865 - val_accuracy: 0.8802\n",
            "Epoch 13/20\n",
            "1500/1500 [==============================] - 6s 4ms/step - loss: 0.2567 - accuracy: 0.9106 - val_loss: 0.4308 - val_accuracy: 0.8788\n",
            "Epoch 14/20\n",
            "1500/1500 [==============================] - 6s 4ms/step - loss: 0.2531 - accuracy: 0.9110 - val_loss: 0.3916 - val_accuracy: 0.8842\n",
            "Epoch 15/20\n",
            "1500/1500 [==============================] - 6s 4ms/step - loss: 0.2466 - accuracy: 0.9145 - val_loss: 0.4382 - val_accuracy: 0.8753\n",
            "Epoch 16/20\n",
            "1500/1500 [==============================] - 6s 4ms/step - loss: 0.2425 - accuracy: 0.9168 - val_loss: 0.4408 - val_accuracy: 0.8788\n",
            "Epoch 17/20\n",
            "1500/1500 [==============================] - 6s 4ms/step - loss: 0.2378 - accuracy: 0.9173 - val_loss: 0.4821 - val_accuracy: 0.8698\n",
            "Epoch 18/20\n",
            "1500/1500 [==============================] - 6s 4ms/step - loss: 0.2333 - accuracy: 0.9192 - val_loss: 0.4613 - val_accuracy: 0.8777\n",
            "Epoch 19/20\n",
            "1500/1500 [==============================] - 6s 4ms/step - loss: 0.2299 - accuracy: 0.9204 - val_loss: 0.4643 - val_accuracy: 0.8691\n",
            "Epoch 20/20\n",
            "1500/1500 [==============================] - 6s 4ms/step - loss: 0.2274 - accuracy: 0.9225 - val_loss: 0.4516 - val_accuracy: 0.8799\n",
            "Model: \"sequential_5\"\n",
            "_________________________________________________________________\n",
            " Layer (type)                Output Shape              Param #   \n",
            "=================================================================\n",
            " flatten_3 (Flatten)         (None, 784)               0         \n",
            "                                                                 \n",
            " dense_8 (Dense)             (None, 100)               78500     \n",
            "                                                                 \n",
            " dense_9 (Dense)             (None, 10)                1010      \n",
            "                                                                 \n",
            "=================================================================\n",
            "Total params: 79,510\n",
            "Trainable params: 79,510\n",
            "Non-trainable params: 0\n",
            "_________________________________________________________________\n"
          ]
        }
      ]
    },
    {
      "cell_type": "code",
      "source": [
        "print(history.history.keys())\n",
        "\n",
        "plt.plot(history.history['loss'], c = 'r', label = 'train loss')\n",
        "plt.plot(history.history['val_loss'], c = 'b', label = 'validation loss')\n",
        "plt.legend()\n",
        "plt.show()"
      ],
      "metadata": {
        "colab": {
          "base_uri": "https://localhost:8080/",
          "height": 283
        },
        "id": "3IsMgpcFqrOB",
        "outputId": "3a89a154-bfac-492d-9d45-4bb589ea8260"
      },
      "execution_count": 30,
      "outputs": [
        {
          "output_type": "stream",
          "name": "stdout",
          "text": [
            "dict_keys(['loss', 'accuracy', 'val_loss', 'val_accuracy'])\n"
          ]
        },
        {
          "output_type": "display_data",
          "data": {
            "text/plain": [
              "<Figure size 432x288 with 1 Axes>"
            ],
            "image/png": "[encoded data removed]"
          },
          "metadata": {
            "needs_background": "light"
          }
        }
      ]
    },
    {
      "cell_type": "code",
      "source": [
        "# 옵티마이져 비교 rmsprop\n",
        "model = model_fn()\n",
        "model.compile(loss = 'sparse_categorical_crossentropy',\n",
        "              optimizer = 'adam',\n",
        "              metrics='accuracy')\n",
        "history = model.fit(train_scaled, train_target, epochs = 20, validation_data=(val_scaled, val_target))\n",
        "\n",
        "model.summary()"
      ],
      "metadata": {
        "colab": {
          "base_uri": "https://localhost:8080/"
        },
        "id": "FmH1O6c5rjvR",
        "outputId": "b65b4109-fdfb-4cd0-ad64-1ed345c63a66"
      },
      "execution_count": 31,
      "outputs": [
        {
          "output_type": "stream",
          "name": "stdout",
          "text": [
            "Epoch 1/20\n",
            "1500/1500 [==============================] - 7s 4ms/step - loss: 0.5337 - accuracy: 0.8140 - val_loss: 0.4332 - val_accuracy: 0.8463\n",
            "Epoch 2/20\n",
            "1500/1500 [==============================] - 5s 4ms/step - loss: 0.3912 - accuracy: 0.8601 - val_loss: 0.4064 - val_accuracy: 0.8547\n",
            "Epoch 3/20\n",
            "1500/1500 [==============================] - 5s 3ms/step - loss: 0.3503 - accuracy: 0.8738 - val_loss: 0.3912 - val_accuracy: 0.8608\n",
            "Epoch 4/20\n",
            "1500/1500 [==============================] - 5s 3ms/step - loss: 0.3248 - accuracy: 0.8830 - val_loss: 0.3563 - val_accuracy: 0.8749\n",
            "Epoch 5/20\n",
            "1500/1500 [==============================] - 5s 3ms/step - loss: 0.3052 - accuracy: 0.8880 - val_loss: 0.3465 - val_accuracy: 0.8754\n",
            "Epoch 6/20\n",
            "1500/1500 [==============================] - 5s 3ms/step - loss: 0.2910 - accuracy: 0.8934 - val_loss: 0.3394 - val_accuracy: 0.8811\n",
            "Epoch 7/20\n",
            "1500/1500 [==============================] - 5s 3ms/step - loss: 0.2796 - accuracy: 0.8972 - val_loss: 0.3414 - val_accuracy: 0.8765\n",
            "Epoch 8/20\n",
            "1500/1500 [==============================] - 5s 3ms/step - loss: 0.2682 - accuracy: 0.9014 - val_loss: 0.3500 - val_accuracy: 0.8738\n",
            "Epoch 9/20\n",
            "1500/1500 [==============================] - 5s 3ms/step - loss: 0.2577 - accuracy: 0.9042 - val_loss: 0.3355 - val_accuracy: 0.8827\n",
            "Epoch 10/20\n",
            "1500/1500 [==============================] - 5s 3ms/step - loss: 0.2482 - accuracy: 0.9094 - val_loss: 0.3363 - val_accuracy: 0.8832\n",
            "Epoch 11/20\n",
            "1500/1500 [==============================] - 5s 3ms/step - loss: 0.2420 - accuracy: 0.9099 - val_loss: 0.3485 - val_accuracy: 0.8813\n",
            "Epoch 12/20\n",
            "1500/1500 [==============================] - 5s 3ms/step - loss: 0.2350 - accuracy: 0.9118 - val_loss: 0.3300 - val_accuracy: 0.8854\n",
            "Epoch 13/20\n",
            "1500/1500 [==============================] - 5s 3ms/step - loss: 0.2269 - accuracy: 0.9158 - val_loss: 0.3390 - val_accuracy: 0.8849\n",
            "Epoch 14/20\n",
            "1500/1500 [==============================] - 5s 3ms/step - loss: 0.2219 - accuracy: 0.9174 - val_loss: 0.3452 - val_accuracy: 0.8828\n",
            "Epoch 15/20\n",
            "1500/1500 [==============================] - 5s 3ms/step - loss: 0.2156 - accuracy: 0.9204 - val_loss: 0.3421 - val_accuracy: 0.8883\n",
            "Epoch 16/20\n",
            "1500/1500 [==============================] - 5s 3ms/step - loss: 0.2104 - accuracy: 0.9220 - val_loss: 0.3289 - val_accuracy: 0.8869\n",
            "Epoch 17/20\n",
            "1500/1500 [==============================] - 5s 3ms/step - loss: 0.2069 - accuracy: 0.9230 - val_loss: 0.3555 - val_accuracy: 0.8812\n",
            "Epoch 18/20\n",
            "1500/1500 [==============================] - 5s 4ms/step - loss: 0.1987 - accuracy: 0.9255 - val_loss: 0.3453 - val_accuracy: 0.8850\n",
            "Epoch 19/20\n",
            "1500/1500 [==============================] - 5s 3ms/step - loss: 0.1934 - accuracy: 0.9276 - val_loss: 0.3337 - val_accuracy: 0.8873\n",
            "Epoch 20/20\n",
            "1500/1500 [==============================] - 5s 4ms/step - loss: 0.1900 - accuracy: 0.9279 - val_loss: 0.3441 - val_accuracy: 0.8898\n",
            "Model: \"sequential_6\"\n",
            "_________________________________________________________________\n",
            " Layer (type)                Output Shape              Param #   \n",
            "=================================================================\n",
            " flatten_4 (Flatten)         (None, 784)               0         \n",
            "                                                                 \n",
            " dense_10 (Dense)            (None, 100)               78500     \n",
            "                                                                 \n",
            " dense_11 (Dense)            (None, 10)                1010      \n",
            "                                                                 \n",
            "=================================================================\n",
            "Total params: 79,510\n",
            "Trainable params: 79,510\n",
            "Non-trainable params: 0\n",
            "_________________________________________________________________\n"
          ]
        }
      ]
    },
    {
      "cell_type": "code",
      "source": [
        "print(history.history.keys())\n",
        "\n",
        "plt.plot(history.history['loss'], c = 'r', label = 'train loss')\n",
        "plt.plot(history.history['val_loss'], c = 'b', label = 'validation loss')\n",
        "plt.legend()\n",
        "plt.show()"
      ],
      "metadata": {
        "colab": {
          "base_uri": "https://localhost:8080/",
          "height": 287
        },
        "id": "mwz6HNQNrzRQ",
        "outputId": "ef04b464-e9c7-42a2-82c6-758563223b91"
      },
      "execution_count": 32,
      "outputs": [
        {
          "output_type": "stream",
          "name": "stdout",
          "text": [
            "dict_keys(['loss', 'accuracy', 'val_loss', 'val_accuracy'])\n"
          ]
        },
        {
          "output_type": "display_data",
          "data": {
            "text/plain": [
              "<Figure size 432x288 with 1 Axes>"
            ],
            "image/png": "[encoded data removed]"
          },
          "metadata": {
            "needs_background": "light"
          }
        }
      ]
    },
    {
      "cell_type": "code",
      "source": [
        "# drop out을 시도한다.\n",
        "# 0.3은 30%를 Dropout한다.\n",
        "model = model_fn(keras.layers.Dropout(0.3), name = 'Dropoutlayer')\n",
        "model.compile(loss = 'sparse_categorical_crossentropy',\n",
        "              optimizer = 'adam',\n",
        "              metrics='accuracy')\n"
      ],
      "metadata": {
        "id": "4bD2TcjxsQ3I"
      },
      "execution_count": 16,
      "outputs": []
    },
    {
      "cell_type": "code",
      "source": [
        "history = model.fit(train_scaled, train_target, epochs = 20, validation_data=(val_scaled, val_target))\n",
        "\n",
        "model.summary()"
      ],
      "metadata": {
        "colab": {
          "base_uri": "https://localhost:8080/"
        },
        "id": "r9z6YFU6t8My",
        "outputId": "2bf9c591-8481-4409-e00d-767d64272d4b"
      },
      "execution_count": 17,
      "outputs": [
        {
          "output_type": "stream",
          "name": "stdout",
          "text": [
            "Epoch 1/20\n",
            "1500/1500 [==============================] - 4s 2ms/step - loss: 0.5862 - accuracy: 0.7931 - val_loss: 0.4430 - val_accuracy: 0.8406\n",
            "Epoch 2/20\n",
            "1500/1500 [==============================] - 4s 2ms/step - loss: 0.4388 - accuracy: 0.8419 - val_loss: 0.4114 - val_accuracy: 0.8497\n",
            "Epoch 3/20\n",
            "1500/1500 [==============================] - 3s 2ms/step - loss: 0.4005 - accuracy: 0.8532 - val_loss: 0.3905 - val_accuracy: 0.8602\n",
            "Epoch 4/20\n",
            "1500/1500 [==============================] - 4s 2ms/step - loss: 0.3840 - accuracy: 0.8602 - val_loss: 0.3594 - val_accuracy: 0.8688\n",
            "Epoch 5/20\n",
            "1500/1500 [==============================] - 6s 4ms/step - loss: 0.3682 - accuracy: 0.8653 - val_loss: 0.3539 - val_accuracy: 0.8699\n",
            "Epoch 6/20\n",
            "1500/1500 [==============================] - 4s 3ms/step - loss: 0.3532 - accuracy: 0.8719 - val_loss: 0.3406 - val_accuracy: 0.8742\n",
            "Epoch 7/20\n",
            "1500/1500 [==============================] - 3s 2ms/step - loss: 0.3416 - accuracy: 0.8754 - val_loss: 0.3422 - val_accuracy: 0.8727\n",
            "Epoch 8/20\n",
            "1500/1500 [==============================] - 3s 2ms/step - loss: 0.3367 - accuracy: 0.8765 - val_loss: 0.3404 - val_accuracy: 0.8739\n",
            "Epoch 9/20\n",
            "1500/1500 [==============================] - 4s 2ms/step - loss: 0.3270 - accuracy: 0.8812 - val_loss: 0.3332 - val_accuracy: 0.8777\n",
            "Epoch 10/20\n",
            "1500/1500 [==============================] - 4s 3ms/step - loss: 0.3218 - accuracy: 0.8809 - val_loss: 0.3283 - val_accuracy: 0.8797\n",
            "Epoch 11/20\n",
            "1500/1500 [==============================] - 4s 2ms/step - loss: 0.3154 - accuracy: 0.8842 - val_loss: 0.3300 - val_accuracy: 0.8778\n",
            "Epoch 12/20\n",
            "1500/1500 [==============================] - 4s 2ms/step - loss: 0.3097 - accuracy: 0.8860 - val_loss: 0.3444 - val_accuracy: 0.8740\n",
            "Epoch 13/20\n",
            "1500/1500 [==============================] - 3s 2ms/step - loss: 0.3047 - accuracy: 0.8872 - val_loss: 0.3301 - val_accuracy: 0.8805\n",
            "Epoch 14/20\n",
            "1500/1500 [==============================] - 3s 2ms/step - loss: 0.3013 - accuracy: 0.8890 - val_loss: 0.3198 - val_accuracy: 0.8844\n",
            "Epoch 15/20\n",
            "1500/1500 [==============================] - 4s 2ms/step - loss: 0.2933 - accuracy: 0.8901 - val_loss: 0.3285 - val_accuracy: 0.8795\n",
            "Epoch 16/20\n",
            "1500/1500 [==============================] - 3s 2ms/step - loss: 0.2931 - accuracy: 0.8926 - val_loss: 0.3282 - val_accuracy: 0.8819\n",
            "Epoch 17/20\n",
            "1500/1500 [==============================] - 3s 2ms/step - loss: 0.2879 - accuracy: 0.8931 - val_loss: 0.3193 - val_accuracy: 0.8832\n",
            "Epoch 18/20\n",
            "1500/1500 [==============================] - 3s 2ms/step - loss: 0.2830 - accuracy: 0.8952 - val_loss: 0.3334 - val_accuracy: 0.8804\n",
            "Epoch 19/20\n",
            "1500/1500 [==============================] - 6s 4ms/step - loss: 0.2785 - accuracy: 0.8952 - val_loss: 0.3404 - val_accuracy: 0.8761\n",
            "Epoch 20/20\n",
            "1500/1500 [==============================] - 3s 2ms/step - loss: 0.2761 - accuracy: 0.8967 - val_loss: 0.3347 - val_accuracy: 0.8808\n",
            "Model: \"Dropoutlayer\"\n",
            "_________________________________________________________________\n",
            " Layer (type)                Output Shape              Param #   \n",
            "=================================================================\n",
            " flatten_4 (Flatten)         (None, 784)               0         \n",
            "                                                                 \n",
            " dense_8 (Dense)             (None, 100)               78500     \n",
            "                                                                 \n",
            " dropout_4 (Dropout)         (None, 100)               0         \n",
            "                                                                 \n",
            " dense_9 (Dense)             (None, 10)                1010      \n",
            "                                                                 \n",
            "=================================================================\n",
            "Total params: 79,510\n",
            "Trainable params: 79,510\n",
            "Non-trainable params: 0\n",
            "_________________________________________________________________\n"
          ]
        }
      ]
    },
    {
      "cell_type": "code",
      "source": [
        "model.evaluate(test_scaled, test_target)"
      ],
      "metadata": {
        "colab": {
          "base_uri": "https://localhost:8080/"
        },
        "id": "RsXd0rvDu8nA",
        "outputId": "4dad15b7-6d95-4ad9-f132-c0396c63f060"
      },
      "execution_count": 18,
      "outputs": [
        {
          "output_type": "stream",
          "name": "stdout",
          "text": [
            "313/313 [==============================] - 2s 4ms/step - loss: 0.3581 - accuracy: 0.8738\n"
          ]
        },
        {
          "output_type": "execute_result",
          "data": {
            "text/plain": [
              "[0.358123242855072, 0.8737999796867371]"
            ]
          },
          "metadata": {},
          "execution_count": 18
        }
      ]
    },
    {
      "cell_type": "code",
      "source": [
        "print(history.history.keys())\n",
        "\n",
        "plt.plot(history.history['loss'], c = 'r', label = 'train loss')\n",
        "plt.plot(history.history['val_loss'], c = 'b', label = 'validation loss')\n",
        "plt.legend()\n",
        "plt.show()"
      ],
      "metadata": {
        "colab": {
          "base_uri": "https://localhost:8080/",
          "height": 287
        },
        "id": "b1IxioVRu_At",
        "outputId": "7d90c33d-8d29-4a83-a15e-cc1a0e245433"
      },
      "execution_count": 19,
      "outputs": [
        {
          "output_type": "stream",
          "name": "stdout",
          "text": [
            "dict_keys(['loss', 'accuracy', 'val_loss', 'val_accuracy'])\n"
          ]
        },
        {
          "output_type": "display_data",
          "data": {
            "text/plain": [
              "<Figure size 432x288 with 1 Axes>"
            ],
            "image/png": "[encoded data removed]"
          },
          "metadata": {
            "needs_background": "light"
          }
        }
      ]
    },
    {
      "cell_type": "code",
      "source": [
        "# 결론 : Drop out으로 조금 더 나아졌다."
      ],
      "metadata": {
        "id": "YavOWg3vvBzA"
      },
      "execution_count": null,
      "outputs": []
    }
  ]
}