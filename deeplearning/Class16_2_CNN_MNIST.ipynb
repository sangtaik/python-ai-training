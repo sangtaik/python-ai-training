{
  "nbformat": 4,
  "nbformat_minor": 0,
  "metadata": {
    "colab": {
      "name": "Class16_2_CNN_MNIST.ipynb",
      "provenance": [],
      "collapsed_sections": []
    },
    "kernelspec": {
      "name": "python3",
      "display_name": "Python 3"
    },
    "language_info": {
      "name": "python"
    }
  },
  "cells": [
    {
      "cell_type": "code",
      "execution_count": 1,
      "metadata": {
        "id": "iX_uCCj-9R4E"
      },
      "outputs": [],
      "source": [
        "import tensorflow as tf\n",
        "from tensorflow import keras\n",
        "from sklearn.model_selection import train_test_split\n",
        "\n",
        "import numpy as np\n",
        "import pandas as pd\n",
        "import os"
      ]
    },
    {
      "cell_type": "code",
      "source": [
        "# seed 설정\n",
        "seed = 0\n",
        "np.random.seed(seed)\n",
        "tf.random.set_seed(3)\n",
        "\n",
        "# 데이터 불러오기\n",
        "(X_train, Y_train), (X_test, Y_test) = keras.datasets.mnist.load_data()\n"
      ],
      "metadata": {
        "id": "hm1Wl1Yz9hg4"
      },
      "execution_count": 2,
      "outputs": []
    },
    {
      "cell_type": "code",
      "source": [
        "print(X_train.dtype)\n",
        "print(X_test.dtype)\n",
        "print(Y_train.dtype)\n",
        "print(Y_test.dtype)\n",
        "\n",
        "print(Y_train)\n",
        "\n",
        "# 나는 이게 더 좋은 것 같다. -> (x_train/255.0).reshape(-1, 28, 28, 1)\n",
        "X_train = X_train.reshape(X_train.shape[0], 28, 28, 1).astype('float32') / 255\n",
        "X_test = X_test.reshape(X_test.shape[0], 28, 28, 1).astype('float32') / 255\n",
        "Y_train = keras.utils.to_categorical(Y_train)\n",
        "Y_test = keras.utils.to_categorical(Y_test)\n",
        "\n",
        "print(Y_train)"
      ],
      "metadata": {
        "colab": {
          "base_uri": "https://localhost:8080/"
        },
        "id": "qXUpy4Rm-JTc",
        "outputId": "7fe5a6c3-b82a-494c-a2fe-27ab579cf947"
      },
      "execution_count": 3,
      "outputs": [
        {
          "output_type": "stream",
          "name": "stdout",
          "text": [
            "uint8\n",
            "uint8\n",
            "uint8\n",
            "uint8\n",
            "[5 0 4 ... 5 6 8]\n",
            "[[0. 0. 0. ... 0. 0. 0.]\n",
            " [1. 0. 0. ... 0. 0. 0.]\n",
            " [0. 0. 0. ... 0. 0. 0.]\n",
            " ...\n",
            " [0. 0. 0. ... 0. 0. 0.]\n",
            " [0. 0. 0. ... 0. 0. 0.]\n",
            " [0. 0. 0. ... 0. 1. 0.]]\n"
          ]
        }
      ]
    },
    {
      "cell_type": "code",
      "source": [
        "# CNN 모델 설정\n",
        "# Deepleaning에서는 kernel의 값은 인공지능이 결정한다. 사람은 사이즈만 정해주면 된다.\n",
        "model = keras.models.Sequential()\n",
        "model.add(keras.layers.Conv2D(32, kernel_size = (3, 3), input_shape=(28, 28, 1), activation = 'relu'))\n",
        "model.add(keras.layers.Conv2D(64, (3, 3), activation='relu'))\n",
        "model.add(keras.layers.MaxPooling2D(pool_size=2))\n",
        "model.add(keras.layers.Dropout(0.25))  # CNN은 왠만하면 Dropout을 사용하진 않는다. 이미지 정보가 날라가기 때문에...\n",
        "model.add(keras.layers.Flatten())\n",
        "model.add(keras.layers.Dense(128, activation='relu'))\n",
        "model.add(keras.layers.Dropout(0.5))    # 만일 CNN이 Dropout을 사용한다면 Flatten 이후에 사용하게 된다.\n",
        "model.add(keras.layers.Dense(10, activation='softmax'))"
      ],
      "metadata": {
        "id": "7n3DkXMj-zYr"
      },
      "execution_count": 7,
      "outputs": []
    },
    {
      "cell_type": "code",
      "source": [
        "model.compile(loss = 'categorical_crossentropy',\n",
        "              optimizer='adam',\n",
        "              metrics=['accuracy'])\n",
        "\n",
        "#모델 최적화 설정\n",
        "MODEL_DIR = './model/'\n",
        "if not os.path.exists(MODEL_DIR):\n",
        "    os.mkdir(MODEL_DIR)\n",
        "\n",
        "modelpath = \"./model/{epoch:02d}={val_loss:.4f}.hdf5\"\n",
        "checkpointer = keras.callbacks.ModelCheckpoint(filepath=modelpath, monitor='val_loss', verbose=1, save_best_only=True)\n",
        "early_stopping_callback = keras.callbacks.EarlyStopping(monitor='val_loss', patience=10)\n"
      ],
      "metadata": {
        "id": "esHRMZ4uA4Aj"
      },
      "execution_count": 8,
      "outputs": []
    },
    {
      "cell_type": "code",
      "source": [
        "history = model.fit(X_train, Y_train, validation_data = (X_test, Y_test), epochs=30, batch_size=200, verbose = 0, callbacks=[early_stopping_callback, checkpointer])\n",
        "\n"
      ],
      "metadata": {
        "colab": {
          "base_uri": "https://localhost:8080/",
          "height": 1000
        },
        "id": "VQtwvQybA_KN",
        "outputId": "51d2c836-c0c4-482e-9516-fcdbed233f57"
      },
      "execution_count": 9,
      "outputs": [
        {
          "output_type": "stream",
          "name": "stdout",
          "text": [
            "\n",
            "Epoch 1: val_loss improved from inf to 0.05542, saving model to ./model/01=0.0554.hdf5\n",
            "\n",
            "Epoch 2: val_loss improved from 0.05542 to 0.03851, saving model to ./model/02=0.0385.hdf5\n",
            "\n",
            "Epoch 3: val_loss improved from 0.03851 to 0.03238, saving model to ./model/03=0.0324.hdf5\n",
            "\n",
            "Epoch 4: val_loss improved from 0.03238 to 0.02742, saving model to ./model/04=0.0274.hdf5\n",
            "\n",
            "Epoch 5: val_loss did not improve from 0.02742\n",
            "\n",
            "Epoch 6: val_loss did not improve from 0.02742\n",
            "\n",
            "Epoch 7: val_loss did not improve from 0.02742\n",
            "\n",
            "Epoch 8: val_loss did not improve from 0.02742\n",
            "\n",
            "Epoch 9: val_loss did not improve from 0.02742\n",
            "\n",
            "Epoch 10: val_loss improved from 0.02742 to 0.02723, saving model to ./model/10=0.0272.hdf5\n",
            "\n",
            "Epoch 11: val_loss improved from 0.02723 to 0.02451, saving model to ./model/11=0.0245.hdf5\n",
            "\n",
            "Epoch 12: val_loss did not improve from 0.02451\n",
            "\n",
            "Epoch 13: val_loss improved from 0.02451 to 0.02417, saving model to ./model/13=0.0242.hdf5\n",
            "\n",
            "Epoch 14: val_loss did not improve from 0.02417\n",
            "\n",
            "Epoch 15: val_loss did not improve from 0.02417\n",
            "\n",
            "Epoch 16: val_loss did not improve from 0.02417\n",
            "\n",
            "Epoch 17: val_loss did not improve from 0.02417\n",
            "\n",
            "Epoch 18: val_loss did not improve from 0.02417\n",
            "\n",
            "Epoch 19: val_loss did not improve from 0.02417\n",
            "\n",
            "Epoch 20: val_loss did not improve from 0.02417\n",
            "\n",
            "Epoch 21: val_loss did not improve from 0.02417\n",
            "\n",
            "Epoch 22: val_loss did not improve from 0.02417\n",
            "\n",
            "Epoch 23: val_loss did not improve from 0.02417\n"
          ]
        },
        {
          "output_type": "error",
          "ename": "NameError",
          "evalue": "ignored",
          "traceback": [
            "\u001b[0;31m---------------------------------------------------------------------------\u001b[0m",
            "\u001b[0;31mNameError\u001b[0m                                 Traceback (most recent call last)",
            "\u001b[0;32m<ipython-input-9-6e6f724eacae>\u001b[0m in \u001b[0;36m<module>\u001b[0;34m()\u001b[0m\n\u001b[1;32m      1\u001b[0m \u001b[0mhistory\u001b[0m \u001b[0;34m=\u001b[0m \u001b[0mmodel\u001b[0m\u001b[0;34m.\u001b[0m\u001b[0mfit\u001b[0m\u001b[0;34m(\u001b[0m\u001b[0mX_train\u001b[0m\u001b[0;34m,\u001b[0m \u001b[0mY_train\u001b[0m\u001b[0;34m,\u001b[0m \u001b[0mvalidation_data\u001b[0m \u001b[0;34m=\u001b[0m \u001b[0;34m(\u001b[0m\u001b[0mX_test\u001b[0m\u001b[0;34m,\u001b[0m \u001b[0mY_test\u001b[0m\u001b[0;34m)\u001b[0m\u001b[0;34m,\u001b[0m \u001b[0mepochs\u001b[0m\u001b[0;34m=\u001b[0m\u001b[0;36m30\u001b[0m\u001b[0;34m,\u001b[0m \u001b[0mbatch_size\u001b[0m\u001b[0;34m=\u001b[0m\u001b[0;36m200\u001b[0m\u001b[0;34m,\u001b[0m \u001b[0mverbose\u001b[0m \u001b[0;34m=\u001b[0m \u001b[0;36m0\u001b[0m\u001b[0;34m,\u001b[0m \u001b[0mcallbacks\u001b[0m\u001b[0;34m=\u001b[0m\u001b[0;34m[\u001b[0m\u001b[0mearly_stopping_callback\u001b[0m\u001b[0;34m,\u001b[0m \u001b[0mcheckpointer\u001b[0m\u001b[0;34m]\u001b[0m\u001b[0;34m)\u001b[0m\u001b[0;34m\u001b[0m\u001b[0;34m\u001b[0m\u001b[0m\n\u001b[1;32m      2\u001b[0m \u001b[0;34m\u001b[0m\u001b[0m\n\u001b[0;32m----> 3\u001b[0;31m \u001b[0mprint\u001b[0m\u001b[0;34m(\u001b[0m\u001b[0mmodel_evaluate\u001b[0m\u001b[0;34m(\u001b[0m\u001b[0mX_test\u001b[0m\u001b[0;34m,\u001b[0m \u001b[0mY_test\u001b[0m\u001b[0;34m)\u001b[0m\u001b[0;34m[\u001b[0m\u001b[0;36m1\u001b[0m\u001b[0;34m]\u001b[0m\u001b[0;34m)\u001b[0m\u001b[0;34m\u001b[0m\u001b[0;34m\u001b[0m\u001b[0m\n\u001b[0m",
            "\u001b[0;31mNameError\u001b[0m: name 'model_evaluate' is not defined"
          ]
        }
      ]
    },
    {
      "cell_type": "code",
      "source": [
        "print(model.evaluate(X_test, Y_test)[1])"
      ],
      "metadata": {
        "colab": {
          "base_uri": "https://localhost:8080/"
        },
        "id": "QMvEvQAvCvAK",
        "outputId": "55d737b8-1315-43f2-8779-a01388c86275"
      },
      "execution_count": 10,
      "outputs": [
        {
          "output_type": "stream",
          "name": "stdout",
          "text": [
            "313/313 [==============================] - 8s 24ms/step - loss: 0.0292 - accuracy: 0.9931\n",
            "0.9930999875068665\n"
          ]
        }
      ]
    },
    {
      "cell_type": "code",
      "source": [
        "import matplotlib.pyplot as plt\n",
        "\n",
        "plt.plot(history.history['loss'], marker = '.', c = 'r', label=\"train loss\")\n",
        "plt.plot(history.history['val_loss'], marker = '.', c='b', label='test loss')\n",
        "plt.legend(loc=\"upper right\")\n",
        "plt.grid()\n",
        "plt.xlabel('epoch')\n",
        "plt.ylabel('loss')\n",
        "plt.show()"
      ],
      "metadata": {
        "colab": {
          "base_uri": "https://localhost:8080/",
          "height": 279
        },
        "id": "R32Db_kTSuW1",
        "outputId": "9b4ea558-8f60-4d80-de27-f48a5c2f4afc"
      },
      "execution_count": 13,
      "outputs": [
        {
          "output_type": "display_data",
          "data": {
            "text/plain": [
              "<Figure size 432x288 with 1 Axes>"
            ],
            "image/png": "[encoded data removed]"
          },
          "metadata": {
            "needs_background": "light"
          }
        }
      ]
    },
    {
      "cell_type": "code",
      "source": [
        ""
      ],
      "metadata": {
        "id": "WQCrnHbATRsU"
      },
      "execution_count": null,
      "outputs": []
    }
  ]
}