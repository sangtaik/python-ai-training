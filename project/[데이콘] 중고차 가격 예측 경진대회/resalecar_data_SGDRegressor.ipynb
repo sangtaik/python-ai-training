{
 "cells": [
  {
   "cell_type": "code",
   "execution_count": 1,
   "id": "2a43f5ab",
   "metadata": {},
   "outputs": [],
   "source": [
    "import pandas as pd\n",
    "import re"
   ]
  },
  {
   "cell_type": "code",
   "execution_count": 2,
   "id": "f24a32c4",
   "metadata": {},
   "outputs": [],
   "source": [
    "train = pd.read_csv('./resalecar/dataset/train.csv')\n",
    "test = pd.read_csv('./resalecar/dataset/test.csv')\n"
   ]
  },
  {
   "cell_type": "code",
   "execution_count": 3,
   "id": "98e3a083",
   "metadata": {},
   "outputs": [
    {
     "data": {
      "text/html": [
       "<div>\n",
       "<style scoped>\n",
       "    .dataframe tbody tr th:only-of-type {\n",
       "        vertical-align: middle;\n",
       "    }\n",
       "\n",
       "    .dataframe tbody tr th {\n",
       "        vertical-align: top;\n",
       "    }\n",
       "\n",
       "    .dataframe thead th {\n",
       "        text-align: right;\n",
       "    }\n",
       "</style>\n",
       "<table border=\"1\" class=\"dataframe\">\n",
       "  <thead>\n",
       "    <tr style=\"text-align: right;\">\n",
       "      <th></th>\n",
       "      <th>id</th>\n",
       "      <th>title</th>\n",
       "      <th>odometer</th>\n",
       "      <th>location</th>\n",
       "      <th>isimported</th>\n",
       "      <th>engine</th>\n",
       "      <th>transmission</th>\n",
       "      <th>fuel</th>\n",
       "      <th>paint</th>\n",
       "      <th>year</th>\n",
       "      <th>target</th>\n",
       "    </tr>\n",
       "  </thead>\n",
       "  <tbody>\n",
       "    <tr>\n",
       "      <th>0</th>\n",
       "      <td>0</td>\n",
       "      <td>Toyota RAV 4</td>\n",
       "      <td>18277</td>\n",
       "      <td>Lagos</td>\n",
       "      <td>Foreign Used</td>\n",
       "      <td>4-cylinder(I4)</td>\n",
       "      <td>automatic</td>\n",
       "      <td>petrol</td>\n",
       "      <td>Red</td>\n",
       "      <td>2016</td>\n",
       "      <td>13665000</td>\n",
       "    </tr>\n",
       "    <tr>\n",
       "      <th>1</th>\n",
       "      <td>1</td>\n",
       "      <td>Toyota Land Cruiser</td>\n",
       "      <td>10</td>\n",
       "      <td>Lagos</td>\n",
       "      <td>New</td>\n",
       "      <td>4-cylinder(I4)</td>\n",
       "      <td>automatic</td>\n",
       "      <td>petrol</td>\n",
       "      <td>Black</td>\n",
       "      <td>2019</td>\n",
       "      <td>33015000</td>\n",
       "    </tr>\n",
       "    <tr>\n",
       "      <th>2</th>\n",
       "      <td>2</td>\n",
       "      <td>Land Rover Range Rover Evoque</td>\n",
       "      <td>83091</td>\n",
       "      <td>Lagos</td>\n",
       "      <td>Foreign Used</td>\n",
       "      <td>6-cylinder(V6)</td>\n",
       "      <td>automatic</td>\n",
       "      <td>petrol</td>\n",
       "      <td>Red</td>\n",
       "      <td>2012</td>\n",
       "      <td>9915000</td>\n",
       "    </tr>\n",
       "    <tr>\n",
       "      <th>3</th>\n",
       "      <td>3</td>\n",
       "      <td>Lexus ES 350</td>\n",
       "      <td>91524</td>\n",
       "      <td>Lagos</td>\n",
       "      <td>Foreign Used</td>\n",
       "      <td>4-cylinder(I4)</td>\n",
       "      <td>automatic</td>\n",
       "      <td>petrol</td>\n",
       "      <td>Gray</td>\n",
       "      <td>2007</td>\n",
       "      <td>3815000</td>\n",
       "    </tr>\n",
       "    <tr>\n",
       "      <th>4</th>\n",
       "      <td>4</td>\n",
       "      <td>Toyota Venza</td>\n",
       "      <td>94177</td>\n",
       "      <td>Lagos</td>\n",
       "      <td>Foreign Used</td>\n",
       "      <td>6-cylinder(V6)</td>\n",
       "      <td>automatic</td>\n",
       "      <td>petrol</td>\n",
       "      <td>Red</td>\n",
       "      <td>2010</td>\n",
       "      <td>7385000</td>\n",
       "    </tr>\n",
       "  </tbody>\n",
       "</table>\n",
       "</div>"
      ],
      "text/plain": [
       "   id                          title  odometer location    isimported  \\\n",
       "0   0                   Toyota RAV 4     18277   Lagos   Foreign Used   \n",
       "1   1            Toyota Land Cruiser        10    Lagos          New    \n",
       "2   2  Land Rover Range Rover Evoque     83091    Lagos  Foreign Used   \n",
       "3   3                   Lexus ES 350     91524    Lagos  Foreign Used   \n",
       "4   4                   Toyota Venza     94177    Lagos  Foreign Used   \n",
       "\n",
       "           engine transmission    fuel  paint  year    target  \n",
       "0  4-cylinder(I4)    automatic  petrol    Red  2016  13665000  \n",
       "1  4-cylinder(I4)    automatic  petrol  Black  2019  33015000  \n",
       "2  6-cylinder(V6)    automatic  petrol    Red  2012   9915000  \n",
       "3  4-cylinder(I4)    automatic  petrol   Gray  2007   3815000  \n",
       "4  6-cylinder(V6)    automatic  petrol    Red  2010   7385000  "
      ]
     },
     "execution_count": 3,
     "metadata": {},
     "output_type": "execute_result"
    }
   ],
   "source": [
    "train.head()"
   ]
  },
  {
   "cell_type": "code",
   "execution_count": 4,
   "id": "3e6bf186",
   "metadata": {},
   "outputs": [
    {
     "data": {
      "text/html": [
       "<div>\n",
       "<style scoped>\n",
       "    .dataframe tbody tr th:only-of-type {\n",
       "        vertical-align: middle;\n",
       "    }\n",
       "\n",
       "    .dataframe tbody tr th {\n",
       "        vertical-align: top;\n",
       "    }\n",
       "\n",
       "    .dataframe thead th {\n",
       "        text-align: right;\n",
       "    }\n",
       "</style>\n",
       "<table border=\"1\" class=\"dataframe\">\n",
       "  <thead>\n",
       "    <tr style=\"text-align: right;\">\n",
       "      <th></th>\n",
       "      <th>id</th>\n",
       "      <th>title</th>\n",
       "      <th>odometer</th>\n",
       "      <th>location</th>\n",
       "      <th>isimported</th>\n",
       "      <th>engine</th>\n",
       "      <th>transmission</th>\n",
       "      <th>fuel</th>\n",
       "      <th>paint</th>\n",
       "      <th>year</th>\n",
       "    </tr>\n",
       "  </thead>\n",
       "  <tbody>\n",
       "    <tr>\n",
       "      <th>0</th>\n",
       "      <td>0</td>\n",
       "      <td>Mercedes-Benz C 300</td>\n",
       "      <td>1234</td>\n",
       "      <td>Abuja</td>\n",
       "      <td>New</td>\n",
       "      <td>4-cylinder(I4)</td>\n",
       "      <td>automatic</td>\n",
       "      <td>petrol</td>\n",
       "      <td>White</td>\n",
       "      <td>2017</td>\n",
       "    </tr>\n",
       "    <tr>\n",
       "      <th>1</th>\n",
       "      <td>1</td>\n",
       "      <td>Honda Accord</td>\n",
       "      <td>29938</td>\n",
       "      <td>Abuja</td>\n",
       "      <td>Foreign Used</td>\n",
       "      <td>4-cylinder(I4)</td>\n",
       "      <td>automatic</td>\n",
       "      <td>petrol</td>\n",
       "      <td>White</td>\n",
       "      <td>2013</td>\n",
       "    </tr>\n",
       "    <tr>\n",
       "      <th>2</th>\n",
       "      <td>2</td>\n",
       "      <td>Mercedes-Benz S 550</td>\n",
       "      <td>87501</td>\n",
       "      <td>Lagos</td>\n",
       "      <td>Foreign Used</td>\n",
       "      <td>4-cylinder(I4)</td>\n",
       "      <td>automatic</td>\n",
       "      <td>petrol</td>\n",
       "      <td>Black</td>\n",
       "      <td>2012</td>\n",
       "    </tr>\n",
       "    <tr>\n",
       "      <th>3</th>\n",
       "      <td>3</td>\n",
       "      <td>Toyota Sienna</td>\n",
       "      <td>180894</td>\n",
       "      <td>Lagos</td>\n",
       "      <td>Locally used</td>\n",
       "      <td>6-cylinder(V6)</td>\n",
       "      <td>automatic</td>\n",
       "      <td>petrol</td>\n",
       "      <td>Dark Grey</td>\n",
       "      <td>2001</td>\n",
       "    </tr>\n",
       "    <tr>\n",
       "      <th>4</th>\n",
       "      <td>4</td>\n",
       "      <td>Toyota Hiace</td>\n",
       "      <td>104814</td>\n",
       "      <td>Lagos</td>\n",
       "      <td>Foreign Used</td>\n",
       "      <td>4-cylinder(I4)</td>\n",
       "      <td>automatic</td>\n",
       "      <td>petrol</td>\n",
       "      <td>White</td>\n",
       "      <td>2000</td>\n",
       "    </tr>\n",
       "  </tbody>\n",
       "</table>\n",
       "</div>"
      ],
      "text/plain": [
       "   id                title  odometer location    isimported          engine  \\\n",
       "0   0  Mercedes-Benz C 300      1234    Abuja          New   4-cylinder(I4)   \n",
       "1   1         Honda Accord     29938    Abuja  Foreign Used  4-cylinder(I4)   \n",
       "2   2  Mercedes-Benz S 550     87501    Lagos  Foreign Used  4-cylinder(I4)   \n",
       "3   3        Toyota Sienna    180894    Lagos  Locally used  6-cylinder(V6)   \n",
       "4   4         Toyota Hiace    104814    Lagos  Foreign Used  4-cylinder(I4)   \n",
       "\n",
       "  transmission    fuel      paint  year  \n",
       "0    automatic  petrol      White  2017  \n",
       "1    automatic  petrol      White  2013  \n",
       "2    automatic  petrol      Black  2012  \n",
       "3    automatic  petrol  Dark Grey  2001  \n",
       "4    automatic  petrol      White  2000  "
      ]
     },
     "execution_count": 4,
     "metadata": {},
     "output_type": "execute_result"
    }
   ],
   "source": [
    "test.head()"
   ]
  },
  {
   "cell_type": "code",
   "execution_count": 5,
   "id": "75da9f23",
   "metadata": {},
   "outputs": [],
   "source": [
    "# sorted(train.title.unique())"
   ]
  },
  {
   "cell_type": "code",
   "execution_count": 6,
   "id": "536a8b6f",
   "metadata": {},
   "outputs": [],
   "source": [
    "# sorted(test.title.unique())"
   ]
  },
  {
   "cell_type": "code",
   "execution_count": 7,
   "id": "7616f4c9",
   "metadata": {},
   "outputs": [],
   "source": [
    "only_train_data_title = set(train.title.unique())-set(test.title.unique())\n",
    "only_test_data_title = set(test.title.unique())-set(train.title.unique())"
   ]
  },
  {
   "cell_type": "code",
   "execution_count": 8,
   "id": "1d5a3a5b",
   "metadata": {},
   "outputs": [
    {
     "data": {
      "text/plain": [
       "'train에만 있는 차종류 개수 : 116, test에만 있는 차종류 개수 : 37'"
      ]
     },
     "execution_count": 8,
     "metadata": {},
     "output_type": "execute_result"
    }
   ],
   "source": [
    "'train에만 있는 차종류 개수 : {}, test에만 있는 차종류 개수 : {}'.format(len(only_train_data_title), len(only_test_data_title))"
   ]
  },
  {
   "cell_type": "code",
   "execution_count": 9,
   "id": "e3aea72b",
   "metadata": {},
   "outputs": [],
   "source": [
    "# only_train_data_title"
   ]
  },
  {
   "cell_type": "code",
   "execution_count": 10,
   "id": "cd48c578",
   "metadata": {},
   "outputs": [],
   "source": [
    "# only_test_data_title"
   ]
  },
  {
   "cell_type": "code",
   "execution_count": 11,
   "id": "8f8b23f8",
   "metadata": {},
   "outputs": [
    {
     "data": {
      "text/plain": [
       "0       Toyota\n",
       "1       Toyota\n",
       "2         Land\n",
       "3        Lexus\n",
       "4       Toyota\n",
       "         ...  \n",
       "1010    Toyota\n",
       "1011    Toyota\n",
       "1012    Toyota\n",
       "1013     Lexus\n",
       "1014       DAF\n",
       "Name: title, Length: 1015, dtype: object"
      ]
     },
     "execution_count": 11,
     "metadata": {},
     "output_type": "execute_result"
    }
   ],
   "source": [
    "train['title'].apply(lambda x : x.split(\" \")[0])"
   ]
  },
  {
   "cell_type": "code",
   "execution_count": 12,
   "id": "e4ce1855",
   "metadata": {},
   "outputs": [
    {
     "data": {
      "text/html": [
       "<div>\n",
       "<style scoped>\n",
       "    .dataframe tbody tr th:only-of-type {\n",
       "        vertical-align: middle;\n",
       "    }\n",
       "\n",
       "    .dataframe tbody tr th {\n",
       "        vertical-align: top;\n",
       "    }\n",
       "\n",
       "    .dataframe thead th {\n",
       "        text-align: right;\n",
       "    }\n",
       "</style>\n",
       "<table border=\"1\" class=\"dataframe\">\n",
       "  <thead>\n",
       "    <tr style=\"text-align: right;\">\n",
       "      <th></th>\n",
       "      <th>id</th>\n",
       "      <th>title</th>\n",
       "      <th>odometer</th>\n",
       "      <th>location</th>\n",
       "      <th>isimported</th>\n",
       "      <th>engine</th>\n",
       "      <th>transmission</th>\n",
       "      <th>fuel</th>\n",
       "      <th>paint</th>\n",
       "      <th>year</th>\n",
       "      <th>target</th>\n",
       "      <th>brand</th>\n",
       "    </tr>\n",
       "  </thead>\n",
       "  <tbody>\n",
       "    <tr>\n",
       "      <th>0</th>\n",
       "      <td>0</td>\n",
       "      <td>Toyota RAV 4</td>\n",
       "      <td>18277</td>\n",
       "      <td>Lagos</td>\n",
       "      <td>Foreign Used</td>\n",
       "      <td>4-cylinder(I4)</td>\n",
       "      <td>automatic</td>\n",
       "      <td>petrol</td>\n",
       "      <td>Red</td>\n",
       "      <td>2016</td>\n",
       "      <td>13665000</td>\n",
       "      <td>Toyota</td>\n",
       "    </tr>\n",
       "    <tr>\n",
       "      <th>1</th>\n",
       "      <td>1</td>\n",
       "      <td>Toyota Land Cruiser</td>\n",
       "      <td>10</td>\n",
       "      <td>Lagos</td>\n",
       "      <td>New</td>\n",
       "      <td>4-cylinder(I4)</td>\n",
       "      <td>automatic</td>\n",
       "      <td>petrol</td>\n",
       "      <td>Black</td>\n",
       "      <td>2019</td>\n",
       "      <td>33015000</td>\n",
       "      <td>Toyota</td>\n",
       "    </tr>\n",
       "    <tr>\n",
       "      <th>2</th>\n",
       "      <td>2</td>\n",
       "      <td>Land Rover Range Rover Evoque</td>\n",
       "      <td>83091</td>\n",
       "      <td>Lagos</td>\n",
       "      <td>Foreign Used</td>\n",
       "      <td>6-cylinder(V6)</td>\n",
       "      <td>automatic</td>\n",
       "      <td>petrol</td>\n",
       "      <td>Red</td>\n",
       "      <td>2012</td>\n",
       "      <td>9915000</td>\n",
       "      <td>Land</td>\n",
       "    </tr>\n",
       "    <tr>\n",
       "      <th>3</th>\n",
       "      <td>3</td>\n",
       "      <td>Lexus ES 350</td>\n",
       "      <td>91524</td>\n",
       "      <td>Lagos</td>\n",
       "      <td>Foreign Used</td>\n",
       "      <td>4-cylinder(I4)</td>\n",
       "      <td>automatic</td>\n",
       "      <td>petrol</td>\n",
       "      <td>Gray</td>\n",
       "      <td>2007</td>\n",
       "      <td>3815000</td>\n",
       "      <td>Lexus</td>\n",
       "    </tr>\n",
       "    <tr>\n",
       "      <th>4</th>\n",
       "      <td>4</td>\n",
       "      <td>Toyota Venza</td>\n",
       "      <td>94177</td>\n",
       "      <td>Lagos</td>\n",
       "      <td>Foreign Used</td>\n",
       "      <td>6-cylinder(V6)</td>\n",
       "      <td>automatic</td>\n",
       "      <td>petrol</td>\n",
       "      <td>Red</td>\n",
       "      <td>2010</td>\n",
       "      <td>7385000</td>\n",
       "      <td>Toyota</td>\n",
       "    </tr>\n",
       "  </tbody>\n",
       "</table>\n",
       "</div>"
      ],
      "text/plain": [
       "   id                          title  odometer location    isimported  \\\n",
       "0   0                   Toyota RAV 4     18277   Lagos   Foreign Used   \n",
       "1   1            Toyota Land Cruiser        10    Lagos          New    \n",
       "2   2  Land Rover Range Rover Evoque     83091    Lagos  Foreign Used   \n",
       "3   3                   Lexus ES 350     91524    Lagos  Foreign Used   \n",
       "4   4                   Toyota Venza     94177    Lagos  Foreign Used   \n",
       "\n",
       "           engine transmission    fuel  paint  year    target   brand  \n",
       "0  4-cylinder(I4)    automatic  petrol    Red  2016  13665000  Toyota  \n",
       "1  4-cylinder(I4)    automatic  petrol  Black  2019  33015000  Toyota  \n",
       "2  6-cylinder(V6)    automatic  petrol    Red  2012   9915000    Land  \n",
       "3  4-cylinder(I4)    automatic  petrol   Gray  2007   3815000   Lexus  \n",
       "4  6-cylinder(V6)    automatic  petrol    Red  2010   7385000  Toyota  "
      ]
     },
     "execution_count": 12,
     "metadata": {},
     "output_type": "execute_result"
    }
   ],
   "source": [
    "train['brand'] = train['title'].apply(lambda x : x.split(\" \")[0])\n",
    "train.head()"
   ]
  },
  {
   "cell_type": "code",
   "execution_count": 13,
   "id": "78dcecfc",
   "metadata": {},
   "outputs": [],
   "source": [
    "train.replace({'brand' : {'Land' : 'Land Rover'}}, inplace = True)"
   ]
  },
  {
   "cell_type": "code",
   "execution_count": 14,
   "id": "9065d571",
   "metadata": {},
   "outputs": [
    {
     "data": {
      "text/html": [
       "<div>\n",
       "<style scoped>\n",
       "    .dataframe tbody tr th:only-of-type {\n",
       "        vertical-align: middle;\n",
       "    }\n",
       "\n",
       "    .dataframe tbody tr th {\n",
       "        vertical-align: top;\n",
       "    }\n",
       "\n",
       "    .dataframe thead th {\n",
       "        text-align: right;\n",
       "    }\n",
       "</style>\n",
       "<table border=\"1\" class=\"dataframe\">\n",
       "  <thead>\n",
       "    <tr style=\"text-align: right;\">\n",
       "      <th></th>\n",
       "      <th>id</th>\n",
       "      <th>title</th>\n",
       "      <th>odometer</th>\n",
       "      <th>location</th>\n",
       "      <th>isimported</th>\n",
       "      <th>engine</th>\n",
       "      <th>transmission</th>\n",
       "      <th>fuel</th>\n",
       "      <th>paint</th>\n",
       "      <th>year</th>\n",
       "      <th>target</th>\n",
       "      <th>brand</th>\n",
       "    </tr>\n",
       "  </thead>\n",
       "  <tbody>\n",
       "    <tr>\n",
       "      <th>0</th>\n",
       "      <td>0</td>\n",
       "      <td>Toyota RAV 4</td>\n",
       "      <td>18277</td>\n",
       "      <td>Lagos</td>\n",
       "      <td>Foreign Used</td>\n",
       "      <td>4-cylinder(I4)</td>\n",
       "      <td>automatic</td>\n",
       "      <td>petrol</td>\n",
       "      <td>Red</td>\n",
       "      <td>2016</td>\n",
       "      <td>13665000</td>\n",
       "      <td>Toyota</td>\n",
       "    </tr>\n",
       "    <tr>\n",
       "      <th>1</th>\n",
       "      <td>1</td>\n",
       "      <td>Toyota Land Cruiser</td>\n",
       "      <td>10</td>\n",
       "      <td>Lagos</td>\n",
       "      <td>New</td>\n",
       "      <td>4-cylinder(I4)</td>\n",
       "      <td>automatic</td>\n",
       "      <td>petrol</td>\n",
       "      <td>Black</td>\n",
       "      <td>2019</td>\n",
       "      <td>33015000</td>\n",
       "      <td>Toyota</td>\n",
       "    </tr>\n",
       "    <tr>\n",
       "      <th>2</th>\n",
       "      <td>2</td>\n",
       "      <td>Land Rover Range Rover Evoque</td>\n",
       "      <td>83091</td>\n",
       "      <td>Lagos</td>\n",
       "      <td>Foreign Used</td>\n",
       "      <td>6-cylinder(V6)</td>\n",
       "      <td>automatic</td>\n",
       "      <td>petrol</td>\n",
       "      <td>Red</td>\n",
       "      <td>2012</td>\n",
       "      <td>9915000</td>\n",
       "      <td>Land Rover</td>\n",
       "    </tr>\n",
       "    <tr>\n",
       "      <th>3</th>\n",
       "      <td>3</td>\n",
       "      <td>Lexus ES 350</td>\n",
       "      <td>91524</td>\n",
       "      <td>Lagos</td>\n",
       "      <td>Foreign Used</td>\n",
       "      <td>4-cylinder(I4)</td>\n",
       "      <td>automatic</td>\n",
       "      <td>petrol</td>\n",
       "      <td>Gray</td>\n",
       "      <td>2007</td>\n",
       "      <td>3815000</td>\n",
       "      <td>Lexus</td>\n",
       "    </tr>\n",
       "    <tr>\n",
       "      <th>4</th>\n",
       "      <td>4</td>\n",
       "      <td>Toyota Venza</td>\n",
       "      <td>94177</td>\n",
       "      <td>Lagos</td>\n",
       "      <td>Foreign Used</td>\n",
       "      <td>6-cylinder(V6)</td>\n",
       "      <td>automatic</td>\n",
       "      <td>petrol</td>\n",
       "      <td>Red</td>\n",
       "      <td>2010</td>\n",
       "      <td>7385000</td>\n",
       "      <td>Toyota</td>\n",
       "    </tr>\n",
       "  </tbody>\n",
       "</table>\n",
       "</div>"
      ],
      "text/plain": [
       "   id                          title  odometer location    isimported  \\\n",
       "0   0                   Toyota RAV 4     18277   Lagos   Foreign Used   \n",
       "1   1            Toyota Land Cruiser        10    Lagos          New    \n",
       "2   2  Land Rover Range Rover Evoque     83091    Lagos  Foreign Used   \n",
       "3   3                   Lexus ES 350     91524    Lagos  Foreign Used   \n",
       "4   4                   Toyota Venza     94177    Lagos  Foreign Used   \n",
       "\n",
       "           engine transmission    fuel  paint  year    target       brand  \n",
       "0  4-cylinder(I4)    automatic  petrol    Red  2016  13665000      Toyota  \n",
       "1  4-cylinder(I4)    automatic  petrol  Black  2019  33015000      Toyota  \n",
       "2  6-cylinder(V6)    automatic  petrol    Red  2012   9915000  Land Rover  \n",
       "3  4-cylinder(I4)    automatic  petrol   Gray  2007   3815000       Lexus  \n",
       "4  6-cylinder(V6)    automatic  petrol    Red  2010   7385000      Toyota  "
      ]
     },
     "execution_count": 14,
     "metadata": {},
     "output_type": "execute_result"
    }
   ],
   "source": [
    "train.head()"
   ]
  },
  {
   "cell_type": "code",
   "execution_count": 15,
   "id": "ded7e312",
   "metadata": {},
   "outputs": [
    {
     "data": {
      "text/plain": [
       "42"
      ]
     },
     "execution_count": 15,
     "metadata": {},
     "output_type": "execute_result"
    }
   ],
   "source": [
    "len(train['brand'].unique())"
   ]
  },
  {
   "cell_type": "code",
   "execution_count": 16,
   "id": "ff978aa7",
   "metadata": {},
   "outputs": [],
   "source": [
    "train['brand'] = train['brand'].replace({'Mercedes-Benz/52' : 'Mercedes-Benz'})"
   ]
  },
  {
   "cell_type": "code",
   "execution_count": 17,
   "id": "dbc37a89",
   "metadata": {},
   "outputs": [
    {
     "name": "stdout",
     "output_type": "stream",
     "text": [
      "41\n",
      "['ALPINA', 'Acura', 'Audi', 'BMW', 'Bentley', 'Chevrolet', 'DAF', 'Dodge', 'Ford', 'GAC', 'GMC', 'Honda', 'Hyundai', 'IVECO', 'IVM', 'Infiniti', 'Isuzu', 'Iveco', 'JMC', 'Jaguar', 'Jeep', 'Kia', 'Land Rover', 'Lexus', 'Lincoln', 'MAN-VOLKSWAGEN', 'MINI', 'Mack', 'Man', 'Mazda', 'Mercedes-Benz', 'Mitsubishi', 'Nissan', 'Peugeot', 'Pontiac', 'Porsche', 'Rolls-Royce', 'Scania', 'Toyota', 'Volkswagen', 'Volvo']\n"
     ]
    }
   ],
   "source": [
    "# 브랜드에서 이상한 오타는 없음.\n",
    "print(len(train['brand'].unique()))\n",
    "print(sorted(train['brand'].unique()))"
   ]
  },
  {
   "cell_type": "code",
   "execution_count": 18,
   "id": "2002fd5f",
   "metadata": {},
   "outputs": [
    {
     "data": {
      "text/html": [
       "<div>\n",
       "<style scoped>\n",
       "    .dataframe tbody tr th:only-of-type {\n",
       "        vertical-align: middle;\n",
       "    }\n",
       "\n",
       "    .dataframe tbody tr th {\n",
       "        vertical-align: top;\n",
       "    }\n",
       "\n",
       "    .dataframe thead th {\n",
       "        text-align: right;\n",
       "    }\n",
       "</style>\n",
       "<table border=\"1\" class=\"dataframe\">\n",
       "  <thead>\n",
       "    <tr style=\"text-align: right;\">\n",
       "      <th></th>\n",
       "      <th>id</th>\n",
       "      <th>title</th>\n",
       "      <th>odometer</th>\n",
       "      <th>location</th>\n",
       "      <th>isimported</th>\n",
       "      <th>engine</th>\n",
       "      <th>transmission</th>\n",
       "      <th>fuel</th>\n",
       "      <th>paint</th>\n",
       "      <th>year</th>\n",
       "      <th>brand</th>\n",
       "    </tr>\n",
       "  </thead>\n",
       "  <tbody>\n",
       "    <tr>\n",
       "      <th>0</th>\n",
       "      <td>0</td>\n",
       "      <td>Mercedes-Benz C 300</td>\n",
       "      <td>1234</td>\n",
       "      <td>Abuja</td>\n",
       "      <td>New</td>\n",
       "      <td>4-cylinder(I4)</td>\n",
       "      <td>automatic</td>\n",
       "      <td>petrol</td>\n",
       "      <td>White</td>\n",
       "      <td>2017</td>\n",
       "      <td>Mercedes-Benz</td>\n",
       "    </tr>\n",
       "    <tr>\n",
       "      <th>1</th>\n",
       "      <td>1</td>\n",
       "      <td>Honda Accord</td>\n",
       "      <td>29938</td>\n",
       "      <td>Abuja</td>\n",
       "      <td>Foreign Used</td>\n",
       "      <td>4-cylinder(I4)</td>\n",
       "      <td>automatic</td>\n",
       "      <td>petrol</td>\n",
       "      <td>White</td>\n",
       "      <td>2013</td>\n",
       "      <td>Honda</td>\n",
       "    </tr>\n",
       "    <tr>\n",
       "      <th>2</th>\n",
       "      <td>2</td>\n",
       "      <td>Mercedes-Benz S 550</td>\n",
       "      <td>87501</td>\n",
       "      <td>Lagos</td>\n",
       "      <td>Foreign Used</td>\n",
       "      <td>4-cylinder(I4)</td>\n",
       "      <td>automatic</td>\n",
       "      <td>petrol</td>\n",
       "      <td>Black</td>\n",
       "      <td>2012</td>\n",
       "      <td>Mercedes-Benz</td>\n",
       "    </tr>\n",
       "    <tr>\n",
       "      <th>3</th>\n",
       "      <td>3</td>\n",
       "      <td>Toyota Sienna</td>\n",
       "      <td>180894</td>\n",
       "      <td>Lagos</td>\n",
       "      <td>Locally used</td>\n",
       "      <td>6-cylinder(V6)</td>\n",
       "      <td>automatic</td>\n",
       "      <td>petrol</td>\n",
       "      <td>Dark Grey</td>\n",
       "      <td>2001</td>\n",
       "      <td>Toyota</td>\n",
       "    </tr>\n",
       "    <tr>\n",
       "      <th>4</th>\n",
       "      <td>4</td>\n",
       "      <td>Toyota Hiace</td>\n",
       "      <td>104814</td>\n",
       "      <td>Lagos</td>\n",
       "      <td>Foreign Used</td>\n",
       "      <td>4-cylinder(I4)</td>\n",
       "      <td>automatic</td>\n",
       "      <td>petrol</td>\n",
       "      <td>White</td>\n",
       "      <td>2000</td>\n",
       "      <td>Toyota</td>\n",
       "    </tr>\n",
       "  </tbody>\n",
       "</table>\n",
       "</div>"
      ],
      "text/plain": [
       "   id                title  odometer location    isimported          engine  \\\n",
       "0   0  Mercedes-Benz C 300      1234    Abuja          New   4-cylinder(I4)   \n",
       "1   1         Honda Accord     29938    Abuja  Foreign Used  4-cylinder(I4)   \n",
       "2   2  Mercedes-Benz S 550     87501    Lagos  Foreign Used  4-cylinder(I4)   \n",
       "3   3        Toyota Sienna    180894    Lagos  Locally used  6-cylinder(V6)   \n",
       "4   4         Toyota Hiace    104814    Lagos  Foreign Used  4-cylinder(I4)   \n",
       "\n",
       "  transmission    fuel      paint  year          brand  \n",
       "0    automatic  petrol      White  2017  Mercedes-Benz  \n",
       "1    automatic  petrol      White  2013          Honda  \n",
       "2    automatic  petrol      Black  2012  Mercedes-Benz  \n",
       "3    automatic  petrol  Dark Grey  2001         Toyota  \n",
       "4    automatic  petrol      White  2000         Toyota  "
      ]
     },
     "execution_count": 18,
     "metadata": {},
     "output_type": "execute_result"
    }
   ],
   "source": [
    "test['brand'] = test['title'].apply(lambda x: x.split(\" \")[0])\n",
    "test.head()"
   ]
  },
  {
   "cell_type": "code",
   "execution_count": 19,
   "id": "aaa816c5",
   "metadata": {
    "scrolled": true
   },
   "outputs": [
    {
     "data": {
      "text/plain": [
       "array(['Mercedes-Benz', 'Honda', 'Toyota', 'Iveco', 'Lexus', 'Nissan',\n",
       "       'Volkswagen', 'Jeep', 'Ford', 'BMW', 'Mack', 'Land', 'Hyundai',\n",
       "       'Peugeot', 'Volvo', 'Infiniti', 'Acura', 'Man', 'Fiat', 'MINI',\n",
       "       'DAF', 'Mazda', 'Porsche', 'Mitsubishi', 'Chevrolet', 'Kia',\n",
       "       'Pontiac', 'Rolls-Royce'], dtype=object)"
      ]
     },
     "execution_count": 19,
     "metadata": {},
     "output_type": "execute_result"
    }
   ],
   "source": [
    "test['brand'].unique()"
   ]
  },
  {
   "cell_type": "code",
   "execution_count": 20,
   "id": "8d9bbea0",
   "metadata": {},
   "outputs": [],
   "source": [
    "test.replace({'brand' : {'Land' : 'Land Rover'}}, inplace = True)"
   ]
  },
  {
   "cell_type": "code",
   "execution_count": 21,
   "id": "91873d41",
   "metadata": {},
   "outputs": [
    {
     "data": {
      "text/plain": [
       "['Acura',\n",
       " 'BMW',\n",
       " 'Chevrolet',\n",
       " 'DAF',\n",
       " 'Fiat',\n",
       " 'Ford',\n",
       " 'Honda',\n",
       " 'Hyundai',\n",
       " 'Infiniti',\n",
       " 'Iveco',\n",
       " 'Jeep',\n",
       " 'Kia',\n",
       " 'Land Rover',\n",
       " 'Lexus',\n",
       " 'MINI',\n",
       " 'Mack',\n",
       " 'Man',\n",
       " 'Mazda',\n",
       " 'Mercedes-Benz',\n",
       " 'Mitsubishi',\n",
       " 'Nissan',\n",
       " 'Peugeot',\n",
       " 'Pontiac',\n",
       " 'Porsche',\n",
       " 'Rolls-Royce',\n",
       " 'Toyota',\n",
       " 'Volkswagen',\n",
       " 'Volvo']"
      ]
     },
     "execution_count": 21,
     "metadata": {},
     "output_type": "execute_result"
    }
   ],
   "source": [
    "sorted(test['brand'].unique())"
   ]
  },
  {
   "cell_type": "code",
   "execution_count": 22,
   "id": "1c1afaf6",
   "metadata": {},
   "outputs": [
    {
     "name": "stdout",
     "output_type": "stream",
     "text": [
      "41\n",
      "28\n",
      "False\n"
     ]
    }
   ],
   "source": [
    "# train이나 test의 종류는 모두 같지 않다.\n",
    "print(len(train['brand'].unique()))\n",
    "print(len(test['brand'].unique()))\n",
    "print(sorted(train['brand'].unique()) == sorted(test['brand'].unique()))"
   ]
  },
  {
   "cell_type": "code",
   "execution_count": 23,
   "id": "40a8dfa7",
   "metadata": {},
   "outputs": [
    {
     "name": "stdout",
     "output_type": "stream",
     "text": [
      "['Fiat']\n",
      "['Jaguar', 'Lincoln', 'Isuzu', 'IVM', 'Dodge', 'GMC', 'Scania', 'GAC', 'IVECO', 'MAN-VOLKSWAGEN', 'ALPINA', 'Bentley', 'JMC', 'Audi']\n"
     ]
    }
   ],
   "source": [
    "# train에 없는데, test에 있는 brand\n",
    "s = train['brand'].unique()\n",
    "temp3 = [x for x in test['brand'].unique() if x not in s] #순서 보존됨\n",
    "print(temp3)\n",
    "\n",
    "# test 없는데, train 있는 brand\n",
    "s = test['brand'].unique()\n",
    "temp3 = [x for x in train['brand'].unique() if x not in s] #순서 보존됨\n",
    "print(temp3)"
   ]
  },
  {
   "cell_type": "code",
   "execution_count": 24,
   "id": "5530b1f5",
   "metadata": {},
   "outputs": [
    {
     "data": {
      "text/plain": [
       "['Abia',\n",
       " 'Abia State',\n",
       " 'Abuja',\n",
       " 'Abuja ',\n",
       " 'Accra',\n",
       " 'Adamawa ',\n",
       " 'FCT',\n",
       " 'Lagos',\n",
       " 'Lagos ',\n",
       " 'Lagos State',\n",
       " 'Ogun',\n",
       " 'Ogun State',\n",
       " 'other']"
      ]
     },
     "execution_count": 24,
     "metadata": {},
     "output_type": "execute_result"
    }
   ],
   "source": [
    "sorted(train.location.unique())"
   ]
  },
  {
   "cell_type": "code",
   "execution_count": 25,
   "id": "92b3b189",
   "metadata": {},
   "outputs": [],
   "source": [
    "# sorted(test.location.unique())"
   ]
  },
  {
   "cell_type": "code",
   "execution_count": 26,
   "id": "9fa712f8",
   "metadata": {},
   "outputs": [],
   "source": [
    "train['location'] = train['location'].str.replace(\" State\",\"\")"
   ]
  },
  {
   "cell_type": "code",
   "execution_count": 27,
   "id": "b558e311",
   "metadata": {},
   "outputs": [],
   "source": [
    "train['location'] = train['location'].str.rstrip()"
   ]
  },
  {
   "cell_type": "code",
   "execution_count": 28,
   "id": "af712eac",
   "metadata": {},
   "outputs": [
    {
     "data": {
      "text/plain": [
       "['Abia', 'Abuja', 'Accra', 'Adamawa', 'FCT', 'Lagos', 'Ogun', 'other']"
      ]
     },
     "execution_count": 28,
     "metadata": {},
     "output_type": "execute_result"
    }
   ],
   "source": [
    "sorted(train.location.unique())"
   ]
  },
  {
   "cell_type": "code",
   "execution_count": 29,
   "id": "6d277131",
   "metadata": {},
   "outputs": [],
   "source": [
    "test['location'] = test['location'].str.replace(\" State\",\"\")\n",
    "test['location'] = test['location'].str.replace(\" state\",\"\")\n",
    "test['location'] = test['location'].str.replace('Arepo ogun','Ogun')\n",
    "test['location'] = test['location'].str.rstrip()"
   ]
  },
  {
   "cell_type": "code",
   "execution_count": 30,
   "id": "f0333bf8",
   "metadata": {},
   "outputs": [
    {
     "data": {
      "text/plain": [
       "['Abia', 'Abuja', 'Lagos', 'Mushin', 'Ogun', 'other']"
      ]
     },
     "execution_count": 30,
     "metadata": {},
     "output_type": "execute_result"
    }
   ],
   "source": [
    "sorted(test['location'].unique())"
   ]
  },
  {
   "cell_type": "code",
   "execution_count": 31,
   "id": "b431579a",
   "metadata": {},
   "outputs": [
    {
     "data": {
      "text/plain": [
       "['Foreign Used', 'Locally used', 'New ']"
      ]
     },
     "execution_count": 31,
     "metadata": {},
     "output_type": "execute_result"
    }
   ],
   "source": [
    "sorted(train.isimported.unique())"
   ]
  },
  {
   "cell_type": "code",
   "execution_count": 32,
   "id": "eb8ca900",
   "metadata": {},
   "outputs": [
    {
     "data": {
      "text/plain": [
       "['Foreign Used', 'Locally used', 'New ']"
      ]
     },
     "execution_count": 32,
     "metadata": {},
     "output_type": "execute_result"
    }
   ],
   "source": [
    "sorted(test.isimported.unique())"
   ]
  },
  {
   "cell_type": "code",
   "execution_count": 33,
   "id": "15da391a",
   "metadata": {},
   "outputs": [
    {
     "data": {
      "text/plain": [
       "['2-cylinder(I2)',\n",
       " '3-cylinder(I3)',\n",
       " '4-cylinder(H4)',\n",
       " '4-cylinder(I4)',\n",
       " '5-cylinder(I5)',\n",
       " '6-cylinder(I6)',\n",
       " '6-cylinder(V6)',\n",
       " '8-cylinder(V8)']"
      ]
     },
     "execution_count": 33,
     "metadata": {},
     "output_type": "execute_result"
    }
   ],
   "source": [
    "sorted(train.engine.unique())"
   ]
  },
  {
   "cell_type": "code",
   "execution_count": 34,
   "id": "84c3238d",
   "metadata": {},
   "outputs": [
    {
     "data": {
      "text/plain": [
       "['12-cylinder(V12)',\n",
       " '2-cylinder(I2)',\n",
       " '3-cylinder(I3)',\n",
       " '4-cylinder(I4)',\n",
       " '5-cylinder(I5)',\n",
       " '6-cylinder(I6)',\n",
       " '6-cylinder(V6)',\n",
       " '8-cylinder(V8)']"
      ]
     },
     "execution_count": 34,
     "metadata": {},
     "output_type": "execute_result"
    }
   ],
   "source": [
    "sorted(test.engine.unique())"
   ]
  },
  {
   "cell_type": "code",
   "execution_count": 35,
   "id": "6c3bf182",
   "metadata": {},
   "outputs": [
    {
     "data": {
      "text/plain": [
       "array(['automatic', 'manual'], dtype=object)"
      ]
     },
     "execution_count": 35,
     "metadata": {},
     "output_type": "execute_result"
    }
   ],
   "source": [
    "train.transmission.unique()"
   ]
  },
  {
   "cell_type": "code",
   "execution_count": 36,
   "id": "eaf1b38b",
   "metadata": {},
   "outputs": [
    {
     "data": {
      "text/plain": [
       "array(['automatic', 'manual'], dtype=object)"
      ]
     },
     "execution_count": 36,
     "metadata": {},
     "output_type": "execute_result"
    }
   ],
   "source": [
    "test.transmission.unique()"
   ]
  },
  {
   "cell_type": "code",
   "execution_count": 37,
   "id": "561a7344",
   "metadata": {},
   "outputs": [
    {
     "data": {
      "text/plain": [
       "array(['petrol', 'diesel'], dtype=object)"
      ]
     },
     "execution_count": 37,
     "metadata": {},
     "output_type": "execute_result"
    }
   ],
   "source": [
    "train.fuel.unique()"
   ]
  },
  {
   "cell_type": "code",
   "execution_count": 38,
   "id": "9187fc20",
   "metadata": {},
   "outputs": [
    {
     "data": {
      "text/plain": [
       "array(['petrol', 'diesel'], dtype=object)"
      ]
     },
     "execution_count": 38,
     "metadata": {},
     "output_type": "execute_result"
    }
   ],
   "source": [
    "test.fuel.unique()"
   ]
  },
  {
   "cell_type": "code",
   "execution_count": 39,
   "id": "f60380de",
   "metadata": {},
   "outputs": [
    {
     "data": {
      "text/plain": [
       "[' Black',\n",
       " ' Black/Red',\n",
       " 'Ash',\n",
       " 'Ash and black',\n",
       " 'BLACK',\n",
       " 'Beige',\n",
       " 'Black',\n",
       " 'Black ',\n",
       " 'Black and silver',\n",
       " 'Black sand pearl',\n",
       " 'Black.',\n",
       " 'Blue',\n",
       " 'Blue ',\n",
       " 'Brown',\n",
       " 'Cream',\n",
       " 'Cream ',\n",
       " 'DARK GREY',\n",
       " 'Dark Ash',\n",
       " 'Dark Blue',\n",
       " 'Dark Green',\n",
       " 'Dark Grey',\n",
       " 'Dark ash',\n",
       " 'Dark blue ',\n",
       " 'Dark gray',\n",
       " 'Dark silver ',\n",
       " 'Deep Blue',\n",
       " 'Deep blue',\n",
       " 'GOLD',\n",
       " 'Gery',\n",
       " 'Gold',\n",
       " 'Gold ',\n",
       " 'Gray',\n",
       " 'Gray ',\n",
       " 'Green',\n",
       " 'Green ',\n",
       " 'Grey',\n",
       " 'Grey ',\n",
       " 'Ink blue',\n",
       " 'Light Gold',\n",
       " 'Light blue',\n",
       " 'Light silver ',\n",
       " 'Magnetic Gray',\n",
       " 'Magnetic Gray Metallic',\n",
       " 'Maroon',\n",
       " 'Midnight Black Metal',\n",
       " 'Milk',\n",
       " 'Navy blue',\n",
       " 'Off white',\n",
       " 'Off white l',\n",
       " 'Pale brown',\n",
       " 'Purple',\n",
       " 'Red',\n",
       " 'Redl',\n",
       " 'SILVER',\n",
       " 'Silver',\n",
       " 'Silver ',\n",
       " 'Silver/grey',\n",
       " 'Sky blue',\n",
       " 'Skye blue',\n",
       " 'Sliver',\n",
       " 'Super White',\n",
       " 'WHITE',\n",
       " 'WINE',\n",
       " 'Whine ',\n",
       " 'White',\n",
       " 'White ',\n",
       " 'White orchild pearl',\n",
       " 'Wine',\n",
       " 'Yellow',\n",
       " 'blue',\n",
       " 'green',\n",
       " 'orange',\n",
       " 'red',\n",
       " 'white',\n",
       " 'white-blue',\n",
       " 'yellow']"
      ]
     },
     "execution_count": 39,
     "metadata": {},
     "output_type": "execute_result"
    }
   ],
   "source": [
    "sorted(train.paint.unique())"
   ]
  },
  {
   "cell_type": "code",
   "execution_count": 40,
   "id": "ab5f4ec3",
   "metadata": {},
   "outputs": [
    {
     "name": "stdout",
     "output_type": "stream",
     "text": [
      "train data에서 paint의 unique 카테고리 개수 :  51\n"
     ]
    }
   ],
   "source": [
    "import re \n",
    "\n",
    "def clean_text(texts): \n",
    "    corpus = [] \n",
    "    for i in range(0, len(texts)): \n",
    "        review = re.sub(r'[@%\\\\*=()/~#&\\+á?\\xc3\\xa1\\-\\|\\.\\:\\;\\!\\-\\,\\_\\~\\$\\'\\\"\\n\\]\\[\\>\\<]', '',texts[i]) #@%*=()/+ 와 같은 문장부호 제거\n",
    "        review = re.sub(r'\\d+','',review)#숫자 제거\n",
    "        review = review.lower() #소문자 변환\n",
    "        review = re.sub(r'\\s+', ' ', review) #extra space 제거\n",
    "        review = re.sub(r'<[^>]+>','',review) #Html tags 제거\n",
    "        review = re.sub(r'\\s+', ' ', review) #spaces 제거\n",
    "        review = re.sub(r\"^\\s+\", '', review) #space from start 제거\n",
    "        review = re.sub(r'\\s+$', '', review) #space from the end 제거\n",
    "        review = re.sub(r'_', ' ', review) #space from the end 제거\n",
    "        #review = re.sub(r'l', '', review)\n",
    "        corpus.append(review) \n",
    "        \n",
    "    return corpus\n",
    "\n",
    "temp = clean_text(train['paint']) #메소드 적용\n",
    "train['paint'] = temp\n",
    "print('train data에서 paint의 unique 카테고리 개수 : ', len(train['paint'].unique()))"
   ]
  },
  {
   "cell_type": "code",
   "execution_count": 41,
   "id": "2a68b403",
   "metadata": {},
   "outputs": [
    {
     "data": {
      "text/plain": [
       "['ash',\n",
       " 'ash and black',\n",
       " 'beige',\n",
       " 'black',\n",
       " 'black and silver',\n",
       " 'black sand pearl',\n",
       " 'blackred',\n",
       " 'blue',\n",
       " 'brown',\n",
       " 'cream',\n",
       " 'dark ash',\n",
       " 'dark blue',\n",
       " 'dark gray',\n",
       " 'dark green',\n",
       " 'dark grey',\n",
       " 'dark silver',\n",
       " 'deep blue',\n",
       " 'gery',\n",
       " 'gold',\n",
       " 'gray',\n",
       " 'green',\n",
       " 'grey',\n",
       " 'ink blue',\n",
       " 'light blue',\n",
       " 'light gold',\n",
       " 'light silver',\n",
       " 'magnetic gray',\n",
       " 'magnetic gray metallic',\n",
       " 'maroon',\n",
       " 'midnight black metal',\n",
       " 'milk',\n",
       " 'navy blue',\n",
       " 'off white',\n",
       " 'off white l',\n",
       " 'orange',\n",
       " 'pale brown',\n",
       " 'purple',\n",
       " 'red',\n",
       " 'redl',\n",
       " 'silver',\n",
       " 'silvergrey',\n",
       " 'sky blue',\n",
       " 'skye blue',\n",
       " 'sliver',\n",
       " 'super white',\n",
       " 'whine',\n",
       " 'white',\n",
       " 'white orchild pearl',\n",
       " 'whiteblue',\n",
       " 'wine',\n",
       " 'yellow']"
      ]
     },
     "execution_count": 41,
     "metadata": {},
     "output_type": "execute_result"
    }
   ],
   "source": [
    "sorted(train['paint'].unique())"
   ]
  },
  {
   "cell_type": "code",
   "execution_count": 42,
   "id": "085f9892",
   "metadata": {},
   "outputs": [],
   "source": [
    "train['paint'] = train['paint'] = train['paint'].apply(lambda x : 'blue' if x.find('blue') >= 0 else x)\n",
    "train['paint'] = train['paint'] = train['paint'].apply(lambda x : 'red' if x.find('red') >= 0 else x)\n",
    "train['paint'] = train['paint'] = train['paint'].apply(lambda x : 'green' if x.find('green') >= 0 else x)\n",
    "train['paint'] = train['paint'] = train['paint'].apply(lambda x : 'white' if x.find('white') >= 0 else x)\n",
    "train['paint'] = train['paint'] = train['paint'].apply(lambda x : 'grey' if x.find('grey') >= 0 else x)\n",
    "train['paint'] = train['paint'] = train['paint'].apply(lambda x : 'grey' if x.find('gery') >= 0 else x)\n",
    "train['paint'] = train['paint'] = train['paint'].apply(lambda x : 'grey' if x.find('gray') >= 0 else x)\n",
    "train['paint'] = train['paint'] = train['paint'].apply(lambda x : 'ash' if x.find('ash') >= 0 else x)\n",
    "train['paint'] = train['paint'] = train['paint'].apply(lambda x : 'brown' if x.find('brown') >= 0 else x)\n",
    "train['paint'] = train['paint'] = train['paint'].apply(lambda x : 'silver' if x.find('silver') >= 0 else x)\n",
    "train['paint'] = train['paint'] = train['paint'].apply(lambda x : 'silver' if x.find('sliver') >= 0 else x)\n",
    "train['paint'] = train['paint'] = train['paint'].apply(lambda x : 'black' if x.find('black') >= 0 else x)\n",
    "train['paint'] = train['paint'] = train['paint'].apply(lambda x : 'gold' if x.find('gold') >= 0 else x)\n",
    "train['paint'] = train['paint'] = train['paint'].apply(lambda x : 'wine' if x.find('whine') >= 0 else x)\n",
    "train['paint'] = train['paint'] = train['paint'].apply(lambda x : 'black' if x.find('blac') >= 0 else x)\n",
    "train['paint'] = train['paint'] = train['paint'].apply(lambda x : 'gold' if x.find('golf') >= 0 else x)"
   ]
  },
  {
   "cell_type": "code",
   "execution_count": 43,
   "id": "96c609d0",
   "metadata": {},
   "outputs": [
    {
     "data": {
      "text/plain": [
       "['ash',\n",
       " 'beige',\n",
       " 'black',\n",
       " 'blue',\n",
       " 'brown',\n",
       " 'cream',\n",
       " 'gold',\n",
       " 'green',\n",
       " 'grey',\n",
       " 'maroon',\n",
       " 'milk',\n",
       " 'orange',\n",
       " 'purple',\n",
       " 'red',\n",
       " 'silver',\n",
       " 'white',\n",
       " 'wine',\n",
       " 'yellow']"
      ]
     },
     "execution_count": 43,
     "metadata": {},
     "output_type": "execute_result"
    }
   ],
   "source": [
    "sorted(train['paint'].unique())"
   ]
  },
  {
   "cell_type": "code",
   "execution_count": 44,
   "id": "a2d15db1",
   "metadata": {},
   "outputs": [
    {
     "name": "stdout",
     "output_type": "stream",
     "text": [
      "test data에서 paint의 unique 카테고리 개수 :  30\n"
     ]
    }
   ],
   "source": [
    "temp2 = clean_text(test['paint'])\n",
    "test['paint'] = temp2\n",
    "print('test data에서 paint의 unique 카테고리 개수 : ', len(test['paint'].unique()))"
   ]
  },
  {
   "cell_type": "code",
   "execution_count": 45,
   "id": "891a9e77",
   "metadata": {},
   "outputs": [],
   "source": [
    "\n",
    "test['paint'] = test['paint'].apply(lambda x : 'blue' if x.find('blue') >= 0 else x)\n",
    "test['paint'] = test['paint'].apply(lambda x : 'red' if x.find('red') >= 0 else x)\n",
    "test['paint'] = test['paint'].apply(lambda x : 'green' if x.find('green') >= 0 else x)\n",
    "test['paint'] = test['paint'].apply(lambda x : 'white' if x.find('white') >= 0 else x)\n",
    "test['paint'] = test['paint'].apply(lambda x : 'grey' if x.find('grey') >= 0 else x)\n",
    "test['paint'] = test['paint'].apply(lambda x : 'grey' if x.find('gery') >= 0 else x)\n",
    "test['paint'] = test['paint'].apply(lambda x : 'grey' if x.find('gray') >= 0 else x)\n",
    "test['paint'] = test['paint'].apply(lambda x : 'ash' if x.find('ash') >= 0 else x)\n",
    "test['paint'] = test['paint'].apply(lambda x : 'brown' if x.find('brown') >= 0 else x)\n",
    "test['paint'] = test['paint'].apply(lambda x : 'silver' if x.find('silver') >= 0 else x)\n",
    "test['paint'] = test['paint'].apply(lambda x : 'silver' if x.find('sliver') >= 0 else x)\n",
    "test['paint'] = test['paint'].apply(lambda x : 'black' if x.find('black') >= 0 else x)\n",
    "test['paint'] = test['paint'].apply(lambda x : 'gold' if x.find('gold') >= 0 else x)\n",
    "test['paint'] = test['paint'].apply(lambda x : 'wine' if x.find('whine') >= 0 else x)\n",
    "test['paint'] = test['paint'].apply(lambda x : 'black' if x.find('blac') >= 0 else x)\n",
    "test['paint'] = test['paint'].apply(lambda x : 'gold' if x.find('golf') >= 0 else x)"
   ]
  },
  {
   "cell_type": "code",
   "execution_count": 46,
   "id": "6e0bc651",
   "metadata": {},
   "outputs": [
    {
     "data": {
      "text/plain": [
       "16"
      ]
     },
     "execution_count": 46,
     "metadata": {},
     "output_type": "execute_result"
    }
   ],
   "source": [
    "len(sorted(test['paint'].unique()))"
   ]
  },
  {
   "cell_type": "code",
   "execution_count": 47,
   "id": "be29124e",
   "metadata": {},
   "outputs": [],
   "source": [
    "train_year = set(train.year.unique()) - set(test.year.unique())\n",
    "test_year = set(test.year.unique()) - set(train.year.unique())\n"
   ]
  },
  {
   "cell_type": "code",
   "execution_count": 48,
   "id": "7682ace7",
   "metadata": {},
   "outputs": [
    {
     "data": {
      "text/plain": [
       "{1217, 1218, 1980, 1982, 1985, 1991, 1995}"
      ]
     },
     "execution_count": 48,
     "metadata": {},
     "output_type": "execute_result"
    }
   ],
   "source": [
    "train_year"
   ]
  },
  {
   "cell_type": "code",
   "execution_count": 49,
   "id": "caf3e32c",
   "metadata": {},
   "outputs": [
    {
     "data": {
      "text/plain": [
       "{1324, 1726, 1987, 1993, 2626}"
      ]
     },
     "execution_count": 49,
     "metadata": {},
     "output_type": "execute_result"
    }
   ],
   "source": [
    "test_year"
   ]
  },
  {
   "cell_type": "markdown",
   "id": "ad7ede0e",
   "metadata": {},
   "source": [
    "## 자료 비교"
   ]
  },
  {
   "cell_type": "code",
   "execution_count": 50,
   "id": "1c3ed71f",
   "metadata": {},
   "outputs": [
    {
     "name": "stdout",
     "output_type": "stream",
     "text": [
      "---- brand ----\n",
      "train 없는데, test 있는 brand\n",
      "['Fiat']\n",
      "test 없는데, train 있는 brand\n",
      "['Jaguar', 'Lincoln', 'Isuzu', 'IVM', 'Dodge', 'GMC', 'Scania', 'GAC', 'IVECO', 'MAN-VOLKSWAGEN', 'ALPINA', 'Bentley', 'JMC', 'Audi']\n",
      "---- isimported ----\n",
      "train 없는데, test 있는 isimported\n",
      "[]\n",
      "test 없는데, train 있는 isimported\n",
      "[]\n",
      "---- location ----\n",
      "train 없는데, test 있는 location\n",
      "['Mushin']\n",
      "test 없는데, train 있는 location\n",
      "['FCT', 'Accra', 'Adamawa']\n",
      "---- engine ----\n",
      "train 없는데, test 있는 engine\n",
      "['12-cylinder(V12)']\n",
      "test 없는데, train 있는 engine\n",
      "['4-cylinder(H4)']\n",
      "---- transmission ----\n",
      "train 없는데, test 있는 transmission\n",
      "[]\n",
      "test 없는데, train 있는 transmission\n",
      "[]\n",
      "---- fuel ----\n",
      "train 없는데, test 있는 fuel\n",
      "[]\n",
      "test 없는데, train 있는 fuel\n",
      "[]\n",
      "---- paint ----\n",
      "train 없는데, test 있는 paint\n",
      "['indigo ink pearl']\n",
      "test 없는데, train 있는 paint\n",
      "['purple', 'milk', 'orange']\n",
      "---- year ----\n",
      "train 없는데, test 있는 year\n",
      "[1993, 1987, 1324, 2626, 1726]\n",
      "test 없는데, train 있는 year\n",
      "[1995, 1985, 1991, 1218, 1982, 1217, 1980]\n"
     ]
    }
   ],
   "source": [
    "def difference(column, df_train, df_test):\n",
    "    print('---- {} ----'.format(column))\n",
    "    # train에 없는데, test에 있는 column\n",
    "    print('train 없는데, test 있는', column)\n",
    "    s = df_train[column].unique()\n",
    "    no_train = [x for x in df_test[column].unique() if x not in s] #순서 보존됨\n",
    "    print(no_train)\n",
    "\n",
    "    # test 없는데, train 있는 column\n",
    "    print('test 없는데, train 있는', column)\n",
    "    s = df_test[column].unique()\n",
    "    no_test = [x for x in df_train[column].unique() if x not in s] #순서 보존됨\n",
    "    print(no_test)\n",
    "\n",
    "difference('brand', train, test)\n",
    "difference('isimported', train, test)\n",
    "difference('location', train, test)\n",
    "difference('engine', train, test)\n",
    "difference('transmission', train, test)\n",
    "difference('fuel', train, test)\n",
    "difference('paint', train, test)\n",
    "difference('year', train, test)"
   ]
  },
  {
   "cell_type": "markdown",
   "id": "88b642f6",
   "metadata": {},
   "source": [
    "## 자료 경향 확인"
   ]
  },
  {
   "cell_type": "code",
   "execution_count": 51,
   "id": "036a6249",
   "metadata": {},
   "outputs": [
    {
     "data": {
      "text/html": [
       "<div>\n",
       "<style scoped>\n",
       "    .dataframe tbody tr th:only-of-type {\n",
       "        vertical-align: middle;\n",
       "    }\n",
       "\n",
       "    .dataframe tbody tr th {\n",
       "        vertical-align: top;\n",
       "    }\n",
       "\n",
       "    .dataframe thead th {\n",
       "        text-align: right;\n",
       "    }\n",
       "</style>\n",
       "<table border=\"1\" class=\"dataframe\">\n",
       "  <thead>\n",
       "    <tr style=\"text-align: right;\">\n",
       "      <th></th>\n",
       "      <th>id</th>\n",
       "      <th>title</th>\n",
       "      <th>odometer</th>\n",
       "      <th>location</th>\n",
       "      <th>isimported</th>\n",
       "      <th>engine</th>\n",
       "      <th>transmission</th>\n",
       "      <th>fuel</th>\n",
       "      <th>paint</th>\n",
       "      <th>year</th>\n",
       "      <th>target</th>\n",
       "      <th>brand</th>\n",
       "    </tr>\n",
       "  </thead>\n",
       "  <tbody>\n",
       "    <tr>\n",
       "      <th>0</th>\n",
       "      <td>0</td>\n",
       "      <td>Toyota RAV 4</td>\n",
       "      <td>18277</td>\n",
       "      <td>Lagos</td>\n",
       "      <td>Foreign Used</td>\n",
       "      <td>4-cylinder(I4)</td>\n",
       "      <td>automatic</td>\n",
       "      <td>petrol</td>\n",
       "      <td>red</td>\n",
       "      <td>2016</td>\n",
       "      <td>13665000</td>\n",
       "      <td>Toyota</td>\n",
       "    </tr>\n",
       "    <tr>\n",
       "      <th>1</th>\n",
       "      <td>1</td>\n",
       "      <td>Toyota Land Cruiser</td>\n",
       "      <td>10</td>\n",
       "      <td>Lagos</td>\n",
       "      <td>New</td>\n",
       "      <td>4-cylinder(I4)</td>\n",
       "      <td>automatic</td>\n",
       "      <td>petrol</td>\n",
       "      <td>black</td>\n",
       "      <td>2019</td>\n",
       "      <td>33015000</td>\n",
       "      <td>Toyota</td>\n",
       "    </tr>\n",
       "    <tr>\n",
       "      <th>2</th>\n",
       "      <td>2</td>\n",
       "      <td>Land Rover Range Rover Evoque</td>\n",
       "      <td>83091</td>\n",
       "      <td>Lagos</td>\n",
       "      <td>Foreign Used</td>\n",
       "      <td>6-cylinder(V6)</td>\n",
       "      <td>automatic</td>\n",
       "      <td>petrol</td>\n",
       "      <td>red</td>\n",
       "      <td>2012</td>\n",
       "      <td>9915000</td>\n",
       "      <td>Land Rover</td>\n",
       "    </tr>\n",
       "    <tr>\n",
       "      <th>3</th>\n",
       "      <td>3</td>\n",
       "      <td>Lexus ES 350</td>\n",
       "      <td>91524</td>\n",
       "      <td>Lagos</td>\n",
       "      <td>Foreign Used</td>\n",
       "      <td>4-cylinder(I4)</td>\n",
       "      <td>automatic</td>\n",
       "      <td>petrol</td>\n",
       "      <td>grey</td>\n",
       "      <td>2007</td>\n",
       "      <td>3815000</td>\n",
       "      <td>Lexus</td>\n",
       "    </tr>\n",
       "    <tr>\n",
       "      <th>4</th>\n",
       "      <td>4</td>\n",
       "      <td>Toyota Venza</td>\n",
       "      <td>94177</td>\n",
       "      <td>Lagos</td>\n",
       "      <td>Foreign Used</td>\n",
       "      <td>6-cylinder(V6)</td>\n",
       "      <td>automatic</td>\n",
       "      <td>petrol</td>\n",
       "      <td>red</td>\n",
       "      <td>2010</td>\n",
       "      <td>7385000</td>\n",
       "      <td>Toyota</td>\n",
       "    </tr>\n",
       "    <tr>\n",
       "      <th>...</th>\n",
       "      <td>...</td>\n",
       "      <td>...</td>\n",
       "      <td>...</td>\n",
       "      <td>...</td>\n",
       "      <td>...</td>\n",
       "      <td>...</td>\n",
       "      <td>...</td>\n",
       "      <td>...</td>\n",
       "      <td>...</td>\n",
       "      <td>...</td>\n",
       "      <td>...</td>\n",
       "      <td>...</td>\n",
       "    </tr>\n",
       "    <tr>\n",
       "      <th>1010</th>\n",
       "      <td>1010</td>\n",
       "      <td>Toyota Corolla</td>\n",
       "      <td>46768</td>\n",
       "      <td>Lagos</td>\n",
       "      <td>Foreign Used</td>\n",
       "      <td>4-cylinder(I4)</td>\n",
       "      <td>automatic</td>\n",
       "      <td>petrol</td>\n",
       "      <td>black</td>\n",
       "      <td>2014</td>\n",
       "      <td>5415000</td>\n",
       "      <td>Toyota</td>\n",
       "    </tr>\n",
       "    <tr>\n",
       "      <th>1011</th>\n",
       "      <td>1011</td>\n",
       "      <td>Toyota Camry</td>\n",
       "      <td>31600</td>\n",
       "      <td>Abuja</td>\n",
       "      <td>Foreign Used</td>\n",
       "      <td>4-cylinder(I4)</td>\n",
       "      <td>automatic</td>\n",
       "      <td>petrol</td>\n",
       "      <td>silver</td>\n",
       "      <td>2011</td>\n",
       "      <td>3615000</td>\n",
       "      <td>Toyota</td>\n",
       "    </tr>\n",
       "    <tr>\n",
       "      <th>1012</th>\n",
       "      <td>1012</td>\n",
       "      <td>Toyota Camry</td>\n",
       "      <td>96802</td>\n",
       "      <td>Abuja</td>\n",
       "      <td>Foreign Used</td>\n",
       "      <td>4-cylinder(I4)</td>\n",
       "      <td>automatic</td>\n",
       "      <td>petrol</td>\n",
       "      <td>black</td>\n",
       "      <td>2011</td>\n",
       "      <td>3415000</td>\n",
       "      <td>Toyota</td>\n",
       "    </tr>\n",
       "    <tr>\n",
       "      <th>1013</th>\n",
       "      <td>1013</td>\n",
       "      <td>Lexus GX 460</td>\n",
       "      <td>146275</td>\n",
       "      <td>Lagos</td>\n",
       "      <td>Foreign Used</td>\n",
       "      <td>6-cylinder(V6)</td>\n",
       "      <td>automatic</td>\n",
       "      <td>petrol</td>\n",
       "      <td>gold</td>\n",
       "      <td>2013</td>\n",
       "      <td>14315000</td>\n",
       "      <td>Lexus</td>\n",
       "    </tr>\n",
       "    <tr>\n",
       "      <th>1014</th>\n",
       "      <td>1014</td>\n",
       "      <td>DAF CF</td>\n",
       "      <td>0</td>\n",
       "      <td>Lagos</td>\n",
       "      <td>Locally used</td>\n",
       "      <td>6-cylinder(V6)</td>\n",
       "      <td>manual</td>\n",
       "      <td>diesel</td>\n",
       "      <td>white</td>\n",
       "      <td>1998</td>\n",
       "      <td>10015000</td>\n",
       "      <td>DAF</td>\n",
       "    </tr>\n",
       "  </tbody>\n",
       "</table>\n",
       "<p>1015 rows × 12 columns</p>\n",
       "</div>"
      ],
      "text/plain": [
       "        id                          title  odometer location    isimported  \\\n",
       "0        0                   Toyota RAV 4     18277    Lagos  Foreign Used   \n",
       "1        1            Toyota Land Cruiser        10    Lagos          New    \n",
       "2        2  Land Rover Range Rover Evoque     83091    Lagos  Foreign Used   \n",
       "3        3                   Lexus ES 350     91524    Lagos  Foreign Used   \n",
       "4        4                   Toyota Venza     94177    Lagos  Foreign Used   \n",
       "...    ...                            ...       ...      ...           ...   \n",
       "1010  1010                 Toyota Corolla     46768    Lagos  Foreign Used   \n",
       "1011  1011                   Toyota Camry     31600    Abuja  Foreign Used   \n",
       "1012  1012                   Toyota Camry     96802    Abuja  Foreign Used   \n",
       "1013  1013                   Lexus GX 460    146275    Lagos  Foreign Used   \n",
       "1014  1014                         DAF CF         0    Lagos  Locally used   \n",
       "\n",
       "              engine transmission    fuel   paint  year    target       brand  \n",
       "0     4-cylinder(I4)    automatic  petrol     red  2016  13665000      Toyota  \n",
       "1     4-cylinder(I4)    automatic  petrol   black  2019  33015000      Toyota  \n",
       "2     6-cylinder(V6)    automatic  petrol     red  2012   9915000  Land Rover  \n",
       "3     4-cylinder(I4)    automatic  petrol    grey  2007   3815000       Lexus  \n",
       "4     6-cylinder(V6)    automatic  petrol     red  2010   7385000      Toyota  \n",
       "...              ...          ...     ...     ...   ...       ...         ...  \n",
       "1010  4-cylinder(I4)    automatic  petrol   black  2014   5415000      Toyota  \n",
       "1011  4-cylinder(I4)    automatic  petrol  silver  2011   3615000      Toyota  \n",
       "1012  4-cylinder(I4)    automatic  petrol   black  2011   3415000      Toyota  \n",
       "1013  6-cylinder(V6)    automatic  petrol    gold  2013  14315000       Lexus  \n",
       "1014  6-cylinder(V6)       manual  diesel   white  1998  10015000         DAF  \n",
       "\n",
       "[1015 rows x 12 columns]"
      ]
     },
     "metadata": {},
     "output_type": "display_data"
    },
    {
     "data": {
      "text/html": [
       "<div>\n",
       "<style scoped>\n",
       "    .dataframe tbody tr th:only-of-type {\n",
       "        vertical-align: middle;\n",
       "    }\n",
       "\n",
       "    .dataframe tbody tr th {\n",
       "        vertical-align: top;\n",
       "    }\n",
       "\n",
       "    .dataframe thead th {\n",
       "        text-align: right;\n",
       "    }\n",
       "</style>\n",
       "<table border=\"1\" class=\"dataframe\">\n",
       "  <thead>\n",
       "    <tr style=\"text-align: right;\">\n",
       "      <th></th>\n",
       "      <th>id</th>\n",
       "      <th>odometer</th>\n",
       "      <th>year</th>\n",
       "      <th>target</th>\n",
       "    </tr>\n",
       "  </thead>\n",
       "  <tbody>\n",
       "    <tr>\n",
       "      <th>id</th>\n",
       "      <td>1.000000</td>\n",
       "      <td>-0.017320</td>\n",
       "      <td>-0.017048</td>\n",
       "      <td>0.025104</td>\n",
       "    </tr>\n",
       "    <tr>\n",
       "      <th>odometer</th>\n",
       "      <td>-0.017320</td>\n",
       "      <td>1.000000</td>\n",
       "      <td>-0.220366</td>\n",
       "      <td>-0.261147</td>\n",
       "    </tr>\n",
       "    <tr>\n",
       "      <th>year</th>\n",
       "      <td>-0.017048</td>\n",
       "      <td>-0.220366</td>\n",
       "      <td>1.000000</td>\n",
       "      <td>-0.042637</td>\n",
       "    </tr>\n",
       "    <tr>\n",
       "      <th>target</th>\n",
       "      <td>0.025104</td>\n",
       "      <td>-0.261147</td>\n",
       "      <td>-0.042637</td>\n",
       "      <td>1.000000</td>\n",
       "    </tr>\n",
       "  </tbody>\n",
       "</table>\n",
       "</div>"
      ],
      "text/plain": [
       "                id  odometer      year    target\n",
       "id        1.000000 -0.017320 -0.017048  0.025104\n",
       "odometer -0.017320  1.000000 -0.220366 -0.261147\n",
       "year     -0.017048 -0.220366  1.000000 -0.042637\n",
       "target    0.025104 -0.261147 -0.042637  1.000000"
      ]
     },
     "metadata": {},
     "output_type": "display_data"
    },
    {
     "data": {
      "image/png": "[encoded data removed]",
      "text/plain": [
       "<Figure size 864x864 with 2 Axes>"
      ]
     },
     "metadata": {
      "needs_background": "light"
     },
     "output_type": "display_data"
    }
   ],
   "source": [
    "display(train)\n",
    "\n",
    "import matplotlib.pyplot as plt\n",
    "import seaborn as sns\n",
    "# 분석을 위해 A와 B의 관계를 나타내는 콜레이션 매트릭스를 출력해본다.\n",
    "# 1에 가까우면 양의 상관성, -1에 가까우면 음의 상관성이 있다고 한다.\n",
    "display(train[:].corr())\n",
    "\n",
    "# 히트맵으로 확인해본다.\n",
    "plt.figure(figsize=(12,12))\n",
    "\n",
    "sns.heatmap(train.corr(), linewidths=0.1, vmax=0.5, cmap=plt.cm.gist_heat,\n",
    "            linecolor='white', annot=True)\n",
    "plt.show()"
   ]
  },
  {
   "cell_type": "markdown",
   "id": "54d968d1",
   "metadata": {},
   "source": [
    "## 자료 가공"
   ]
  },
  {
   "cell_type": "code",
   "execution_count": 52,
   "id": "49fe62ce",
   "metadata": {},
   "outputs": [
    {
     "data": {
      "text/plain": [
       "{'ALPINA',\n",
       " 'Acura',\n",
       " 'Audi',\n",
       " 'BMW',\n",
       " 'Bentley',\n",
       " 'Chevrolet',\n",
       " 'DAF',\n",
       " 'Dodge',\n",
       " 'Fiat',\n",
       " 'Ford',\n",
       " 'GAC',\n",
       " 'GMC',\n",
       " 'Honda',\n",
       " 'Hyundai',\n",
       " 'IVECO',\n",
       " 'IVM',\n",
       " 'Infiniti',\n",
       " 'Isuzu',\n",
       " 'Iveco',\n",
       " 'JMC',\n",
       " 'Jaguar',\n",
       " 'Jeep',\n",
       " 'Kia',\n",
       " 'Land Rover',\n",
       " 'Lexus',\n",
       " 'Lincoln',\n",
       " 'MAN-VOLKSWAGEN',\n",
       " 'MINI',\n",
       " 'Mack',\n",
       " 'Man',\n",
       " 'Mazda',\n",
       " 'Mercedes-Benz',\n",
       " 'Mitsubishi',\n",
       " 'Nissan',\n",
       " 'Peugeot',\n",
       " 'Pontiac',\n",
       " 'Porsche',\n",
       " 'Rolls-Royce',\n",
       " 'Scania',\n",
       " 'Toyota',\n",
       " 'Volkswagen',\n",
       " 'Volvo'}"
      ]
     },
     "execution_count": 52,
     "metadata": {},
     "output_type": "execute_result"
    }
   ],
   "source": [
    "set(train.brand) | set(test.brand) # 합집합"
   ]
  },
  {
   "cell_type": "code",
   "execution_count": 53,
   "id": "7b5d14f3",
   "metadata": {},
   "outputs": [
    {
     "data": {
      "text/plain": [
       "{'Kia': 0,\n",
       " 'Infiniti': 1,\n",
       " 'Chevrolet': 2,\n",
       " 'Land Rover': 3,\n",
       " 'DAF': 4,\n",
       " 'Fiat': 5,\n",
       " 'Rolls-Royce': 6,\n",
       " 'Audi': 7,\n",
       " 'Pontiac': 8,\n",
       " 'Dodge': 9,\n",
       " 'Isuzu': 10,\n",
       " 'MAN-VOLKSWAGEN': 11,\n",
       " 'Volvo': 12,\n",
       " 'Toyota': 13,\n",
       " 'Bentley': 14,\n",
       " 'IVM': 15,\n",
       " 'GAC': 16,\n",
       " 'Jeep': 17,\n",
       " 'Acura': 18,\n",
       " 'Nissan': 19,\n",
       " 'Mazda': 20,\n",
       " 'Iveco': 21,\n",
       " 'Mercedes-Benz': 22,\n",
       " 'ALPINA': 23,\n",
       " 'Jaguar': 24,\n",
       " 'Lexus': 25,\n",
       " 'Mack': 26,\n",
       " 'JMC': 27,\n",
       " 'GMC': 28,\n",
       " 'Hyundai': 29,\n",
       " 'Man': 30,\n",
       " 'Ford': 31,\n",
       " 'Honda': 32,\n",
       " 'Mitsubishi': 33,\n",
       " 'Lincoln': 34,\n",
       " 'Scania': 35,\n",
       " 'Peugeot': 36,\n",
       " 'BMW': 37,\n",
       " 'Volkswagen': 38,\n",
       " 'Porsche': 39,\n",
       " 'MINI': 40,\n",
       " 'IVECO': 41}"
      ]
     },
     "execution_count": 53,
     "metadata": {},
     "output_type": "execute_result"
    }
   ],
   "source": [
    "brand_label = {_brand : label for label, _brand in enumerate(set(set(train.brand)|set(test.brand)))}\n",
    "brand_label\n",
    "# set 집합은 순서가 없음"
   ]
  },
  {
   "cell_type": "code",
   "execution_count": 54,
   "id": "2ebb26a1",
   "metadata": {},
   "outputs": [],
   "source": [
    "train['brand'] = train['brand'].replace(brand_label)\n",
    "test['brand'] = test['brand'].replace(brand_label)"
   ]
  },
  {
   "cell_type": "code",
   "execution_count": 55,
   "id": "fd20c2df",
   "metadata": {},
   "outputs": [
    {
     "data": {
      "text/plain": [
       "array([13,  3, 25,  8, 31, 32, 12, 37,  1, 22, 29, 24, 33, 19, 26,  2, 20,\n",
       "       34,  0, 38, 18,  4, 30, 10, 15, 39, 40,  9, 28, 21, 35, 16, 41, 36,\n",
       "        6, 11, 17, 23, 14, 27,  7], dtype=int64)"
      ]
     },
     "execution_count": 55,
     "metadata": {},
     "output_type": "execute_result"
    }
   ],
   "source": [
    "train['brand'].unique()"
   ]
  },
  {
   "cell_type": "code",
   "execution_count": 56,
   "id": "b943de45",
   "metadata": {},
   "outputs": [
    {
     "data": {
      "text/plain": [
       "0      22\n",
       "1      32\n",
       "2      22\n",
       "3      13\n",
       "4      13\n",
       "       ..\n",
       "431    22\n",
       "432    32\n",
       "433    22\n",
       "434    25\n",
       "435    13\n",
       "Name: brand, Length: 436, dtype: int64"
      ]
     },
     "execution_count": 56,
     "metadata": {},
     "output_type": "execute_result"
    }
   ],
   "source": [
    "test['brand']"
   ]
  },
  {
   "cell_type": "code",
   "execution_count": 57,
   "id": "f6adea7b",
   "metadata": {},
   "outputs": [
    {
     "data": {
      "text/plain": [
       "0       13\n",
       "1       13\n",
       "2        3\n",
       "3       25\n",
       "4       13\n",
       "        ..\n",
       "1010    13\n",
       "1011    13\n",
       "1012    13\n",
       "1013    25\n",
       "1014     4\n",
       "Name: brand, Length: 1015, dtype: int64"
      ]
     },
     "execution_count": 57,
     "metadata": {},
     "output_type": "execute_result"
    }
   ],
   "source": [
    "train['brand']"
   ]
  },
  {
   "cell_type": "code",
   "execution_count": 58,
   "id": "4eb04e12",
   "metadata": {},
   "outputs": [
    {
     "data": {
      "text/plain": [
       "{'ALPINA B3',\n",
       " 'Acura MDX',\n",
       " 'Acura RDX',\n",
       " 'Acura TL',\n",
       " 'Acura TSX',\n",
       " 'Acura ZDX',\n",
       " 'Audi S6',\n",
       " 'BMW 325',\n",
       " 'BMW 335',\n",
       " 'BMW 525',\n",
       " 'BMW 528',\n",
       " 'BMW 535',\n",
       " 'BMW 730',\n",
       " 'BMW 740',\n",
       " 'BMW 745',\n",
       " 'BMW 750',\n",
       " 'BMW X3',\n",
       " 'BMW X6',\n",
       " 'Bentley Arnage',\n",
       " 'Chevrolet Camaro',\n",
       " 'Chevrolet Evanda',\n",
       " 'Chevrolet Traverse',\n",
       " 'DAF 45',\n",
       " 'DAF 95XF TRACTOR HEAD',\n",
       " 'DAF CF',\n",
       " 'DAF FA 55. 180',\n",
       " 'DAF XF TRACTOR HEAD',\n",
       " 'Dodge Charger',\n",
       " 'Fiat Ducato',\n",
       " 'Ford Edge',\n",
       " 'Ford Escape',\n",
       " 'Ford Expedition',\n",
       " 'Ford Explorer',\n",
       " 'Ford F 150',\n",
       " 'Ford Focus',\n",
       " 'Ford Fusion',\n",
       " 'Ford Mondeo',\n",
       " 'Ford Mustang',\n",
       " 'Ford TRANSIT PICKUP',\n",
       " 'Ford Transit',\n",
       " 'GAC Gonow Other',\n",
       " 'GMC Terrain',\n",
       " 'Honda Accord',\n",
       " 'Honda CR-V',\n",
       " 'Honda Civic',\n",
       " 'Honda Crosstour',\n",
       " 'Honda Element',\n",
       " 'Honda Fit',\n",
       " 'Honda Insight',\n",
       " 'Honda Odyssey',\n",
       " 'Honda Pilot',\n",
       " 'Honda Ridgeline',\n",
       " 'Hyundai Azera',\n",
       " 'Hyundai Elantra',\n",
       " 'Hyundai Santa Fe',\n",
       " 'Hyundai Sonata',\n",
       " 'Hyundai Tucson',\n",
       " 'Hyundai ix35',\n",
       " 'IVECO EUROTECH 7.50E-16',\n",
       " 'IVM LT35',\n",
       " 'Infiniti FX',\n",
       " 'Infiniti JX',\n",
       " 'Infiniti M35',\n",
       " 'Infiniti QX80',\n",
       " 'Isuzu CABSTER',\n",
       " 'Isuzu NQR',\n",
       " 'Iveco EUROCARGO 120e18',\n",
       " 'Iveco TRUCK',\n",
       " 'JMC Vigus',\n",
       " 'Jaguar X-Type',\n",
       " 'Jaguar XJ8',\n",
       " 'Jeep Cherokee',\n",
       " 'Jeep Wrangler',\n",
       " 'Kia Cerato',\n",
       " 'Kia Optima',\n",
       " 'Kia Picanto',\n",
       " 'Kia Rio',\n",
       " 'Kia Sorento',\n",
       " 'Kia Soul',\n",
       " 'Kia Stinger',\n",
       " 'Land Rover Discovery',\n",
       " 'Land Rover Range Rover',\n",
       " 'Land Rover Range Rover Evoque',\n",
       " 'Land Rover Range Rover Sport',\n",
       " 'Land Rover Range Rover Velar',\n",
       " 'Lexus CT 200h',\n",
       " 'Lexus ES 300',\n",
       " 'Lexus ES 330',\n",
       " 'Lexus ES 350',\n",
       " 'Lexus GS 300',\n",
       " 'Lexus GS 350',\n",
       " 'Lexus GX 460',\n",
       " 'Lexus GX 470',\n",
       " 'Lexus IS 250',\n",
       " 'Lexus LS 460',\n",
       " 'Lexus LX 570',\n",
       " 'Lexus RX 300',\n",
       " 'Lexus RX 330',\n",
       " 'Lexus RX 350',\n",
       " 'Lexus RX 400',\n",
       " 'Lincoln Mark',\n",
       " 'MAN-VOLKSWAGEN FLATBED',\n",
       " 'MINI Cooper',\n",
       " 'MINI Cooper Countryman',\n",
       " 'MINI Cooper Coupé',\n",
       " 'Mack CH613',\n",
       " 'Mack CH613 CONVENTIONAL CAB',\n",
       " 'Mack CXN613',\n",
       " 'Mack CXN613 CAB BEHIND ENGINE',\n",
       " 'Mack R-686ST',\n",
       " 'Man 26-403',\n",
       " 'Man BOCKMANN',\n",
       " 'Man Diesel 19.314 FILT-N',\n",
       " 'Man LE 8. 180 PLATFORM TRUCK',\n",
       " 'Man TGA 18.360',\n",
       " 'Man Truck 18.44',\n",
       " 'Mazda 323',\n",
       " 'Mazda 6',\n",
       " 'Mazda CX-9',\n",
       " 'Mazda Tribute',\n",
       " 'Mercedes-Benz 200',\n",
       " 'Mercedes-Benz 220',\n",
       " 'Mercedes-Benz 300',\n",
       " 'Mercedes-Benz 320',\n",
       " 'Mercedes-Benz 350',\n",
       " 'Mercedes-Benz 450',\n",
       " 'Mercedes-Benz 709 DB',\n",
       " 'Mercedes-Benz 814',\n",
       " 'Mercedes-Benz ATEGO',\n",
       " 'Mercedes-Benz C 180',\n",
       " 'Mercedes-Benz C 250',\n",
       " 'Mercedes-Benz C 300',\n",
       " 'Mercedes-Benz C 320',\n",
       " 'Mercedes-Benz C 350',\n",
       " 'Mercedes-Benz C 450 AMG',\n",
       " 'Mercedes-Benz C 63 AMG',\n",
       " 'Mercedes-Benz CABIN PLUS CHASSIS ONLY',\n",
       " 'Mercedes-Benz CLA 250',\n",
       " 'Mercedes-Benz CLS 500',\n",
       " 'Mercedes-Benz DUMP TRUCK',\n",
       " 'Mercedes-Benz E 200',\n",
       " 'Mercedes-Benz E 300',\n",
       " 'Mercedes-Benz E 320',\n",
       " 'Mercedes-Benz E 350',\n",
       " 'Mercedes-Benz E 550',\n",
       " 'Mercedes-Benz G 550',\n",
       " 'Mercedes-Benz G 63 AMG',\n",
       " 'Mercedes-Benz GL 450',\n",
       " 'Mercedes-Benz GLA 180',\n",
       " 'Mercedes-Benz GLA 250',\n",
       " 'Mercedes-Benz GLC 300',\n",
       " 'Mercedes-Benz GLE 350',\n",
       " 'Mercedes-Benz GLE 43 AMG',\n",
       " 'Mercedes-Benz GLE 450',\n",
       " 'Mercedes-Benz GLK 300',\n",
       " 'Mercedes-Benz GLK 350',\n",
       " 'Mercedes-Benz ML 320',\n",
       " 'Mercedes-Benz ML 350',\n",
       " 'Mercedes-Benz ML 430',\n",
       " 'Mercedes-Benz Maybach',\n",
       " 'Mercedes-Benz S 450',\n",
       " 'Mercedes-Benz S 550',\n",
       " 'Mercedes-Benz SL 400',\n",
       " 'Mercedes-Benz WATER TANKER',\n",
       " 'Mercedes-Benz/52',\n",
       " 'Mitsubishi CANTER PICK UP',\n",
       " 'Mitsubishi Eclipse',\n",
       " 'Mitsubishi Galant',\n",
       " 'Mitsubishi L200',\n",
       " 'Mitsubishi Montero',\n",
       " 'Mitsubishi Pajero',\n",
       " 'Nissan A',\n",
       " 'Nissan Altima',\n",
       " 'Nissan Cabstar',\n",
       " 'Nissan Frontier',\n",
       " 'Nissan INFINITI M90.150/2',\n",
       " 'Nissan Maxima',\n",
       " 'Nissan Murano',\n",
       " 'Nissan Pathfinder',\n",
       " 'Nissan Primera',\n",
       " 'Nissan Quest',\n",
       " 'Nissan Rogue',\n",
       " 'Nissan Sentra',\n",
       " 'Nissan Titan',\n",
       " 'Nissan Versa',\n",
       " 'Nissan X-Trail',\n",
       " 'Nissan Xterra',\n",
       " 'Peugeot 206',\n",
       " 'Peugeot 307',\n",
       " 'Peugeot 308',\n",
       " 'Peugeot 607',\n",
       " 'Pontiac Vibe',\n",
       " 'Porsche Cayenne',\n",
       " 'Porsche Macan',\n",
       " 'Porsche Panamera',\n",
       " 'Rolls-Royce Ghost',\n",
       " 'Scania P94 FLATBED',\n",
       " 'Scania TRACTOR HEAD',\n",
       " 'Toyota 4-Runner',\n",
       " 'Toyota Avalon',\n",
       " 'Toyota Avensis',\n",
       " 'Toyota C-HR',\n",
       " 'Toyota Camry',\n",
       " 'Toyota Coaster',\n",
       " 'Toyota Corolla',\n",
       " 'Toyota DYNA 200',\n",
       " 'Toyota Dyna',\n",
       " 'Toyota Hiace',\n",
       " 'Toyota Highlander',\n",
       " 'Toyota Hilux',\n",
       " 'Toyota Land Cruiser',\n",
       " 'Toyota Matrix',\n",
       " 'Toyota Prado',\n",
       " 'Toyota Prius',\n",
       " 'Toyota RAV 4',\n",
       " 'Toyota Sequoia',\n",
       " 'Toyota Sienna',\n",
       " 'Toyota Solara',\n",
       " 'Toyota Tacoma',\n",
       " 'Toyota Tundra',\n",
       " 'Toyota Venza',\n",
       " 'Toyota Vitz',\n",
       " 'Toyota Yaris',\n",
       " 'Volkswagen 17.22',\n",
       " 'Volkswagen Golf',\n",
       " 'Volkswagen Jetta',\n",
       " 'Volkswagen LT',\n",
       " 'Volkswagen Passat',\n",
       " 'Volkswagen Sharan',\n",
       " 'Volkswagen T4 Caravelle',\n",
       " 'Volkswagen T6 other',\n",
       " 'Volkswagen Tiguan',\n",
       " 'Volkswagen Touareg',\n",
       " 'Volvo FH12',\n",
       " 'Volvo FL12',\n",
       " 'Volvo FL6',\n",
       " 'Volvo FL7',\n",
       " 'Volvo S80',\n",
       " 'Volvo XC60',\n",
       " 'Volvo XC90'}"
      ]
     },
     "execution_count": 58,
     "metadata": {},
     "output_type": "execute_result"
    }
   ],
   "source": [
    "car_title = pd.concat([train.title, test.title], ignore_index = True)\n",
    "car_title = set(car_title)\n",
    "car_title"
   ]
  },
  {
   "cell_type": "code",
   "execution_count": 59,
   "id": "8ec333e5",
   "metadata": {},
   "outputs": [
    {
     "data": {
      "text/plain": [
       "{'Mercedes-Benz GLE 350': 0,\n",
       " 'GAC Gonow Other': 1,\n",
       " 'Lexus ES 300': 2,\n",
       " 'BMW 750': 3,\n",
       " 'Toyota Sienna': 4,\n",
       " 'Volvo FL12': 5,\n",
       " 'Infiniti FX': 6,\n",
       " 'Isuzu CABSTER': 7,\n",
       " 'Nissan Murano': 8,\n",
       " 'Toyota Prius': 9,\n",
       " 'Jeep Wrangler': 10,\n",
       " 'Peugeot 607': 11,\n",
       " 'Kia Sorento': 12,\n",
       " 'Hyundai Santa Fe': 13,\n",
       " 'Nissan X-Trail': 14,\n",
       " 'BMW 535': 15,\n",
       " 'Mitsubishi Montero': 16,\n",
       " 'MINI Cooper': 17,\n",
       " 'Honda Pilot': 18,\n",
       " 'Mercedes-Benz ML 320': 19,\n",
       " 'Chevrolet Camaro': 20,\n",
       " 'Toyota Tundra': 21,\n",
       " 'Lexus GS 350': 22,\n",
       " 'Mercedes-Benz ATEGO': 23,\n",
       " 'DAF FA 55. 180': 24,\n",
       " 'Mercedes-Benz GL 450': 25,\n",
       " 'Man Diesel 19.314 FILT-N': 26,\n",
       " 'BMW 525': 27,\n",
       " 'Nissan Cabstar': 28,\n",
       " 'Toyota Corolla': 29,\n",
       " 'Volkswagen Golf': 30,\n",
       " 'MAN-VOLKSWAGEN FLATBED': 31,\n",
       " 'Volvo XC60': 32,\n",
       " 'Toyota Vitz': 33,\n",
       " 'Kia Cerato': 34,\n",
       " 'Ford Mondeo': 35,\n",
       " 'Mack CH613': 36,\n",
       " 'Kia Stinger': 37,\n",
       " 'Nissan Frontier': 38,\n",
       " 'Peugeot 308': 39,\n",
       " 'Iveco TRUCK': 40,\n",
       " 'Toyota Coaster': 41,\n",
       " 'Hyundai Elantra': 42,\n",
       " 'DAF 45': 43,\n",
       " 'Hyundai ix35': 44,\n",
       " 'Lexus CT 200h': 45,\n",
       " 'Volkswagen LT': 46,\n",
       " 'Mazda 323': 47,\n",
       " 'Mercedes-Benz E 350': 48,\n",
       " 'Ford Fusion': 49,\n",
       " 'Toyota Avensis': 50,\n",
       " 'Toyota Camry': 51,\n",
       " 'Volkswagen 17.22': 52,\n",
       " 'Nissan Altima': 53,\n",
       " 'Lexus ES 330': 54,\n",
       " 'Mercedes-Benz E 200': 55,\n",
       " 'MINI Cooper Coupé': 56,\n",
       " 'Ford Explorer': 57,\n",
       " 'Lexus RX 330': 58,\n",
       " 'Volkswagen Touareg': 59,\n",
       " 'Volkswagen Jetta': 60,\n",
       " 'Lincoln Mark': 61,\n",
       " 'Toyota Yaris': 62,\n",
       " 'Toyota Hiace': 63,\n",
       " 'Honda Ridgeline': 64,\n",
       " 'Infiniti JX': 65,\n",
       " 'Land Rover Range Rover Sport': 66,\n",
       " 'Land Rover Range Rover': 67,\n",
       " 'Peugeot 206': 68,\n",
       " 'Mazda 6': 69,\n",
       " 'Isuzu NQR': 70,\n",
       " 'Kia Picanto': 71,\n",
       " 'Ford Expedition': 72,\n",
       " 'Scania TRACTOR HEAD': 73,\n",
       " 'BMW 335': 74,\n",
       " 'Volkswagen T6 other': 75,\n",
       " 'Dodge Charger': 76,\n",
       " 'Honda Crosstour': 77,\n",
       " 'Ford Escape': 78,\n",
       " 'BMW 325': 79,\n",
       " 'Mercedes-Benz G 550': 80,\n",
       " 'Nissan Quest': 81,\n",
       " 'Acura TL': 82,\n",
       " 'Toyota Highlander': 83,\n",
       " 'Nissan INFINITI M90.150/2': 84,\n",
       " 'Nissan Primera': 85,\n",
       " 'Toyota Matrix': 86,\n",
       " 'BMW 745': 87,\n",
       " 'Chevrolet Traverse': 88,\n",
       " 'Land Rover Discovery': 89,\n",
       " 'Mercedes-Benz GLE 450': 90,\n",
       " 'Toyota Venza': 91,\n",
       " 'Volkswagen Tiguan': 92,\n",
       " 'Jaguar XJ8': 93,\n",
       " 'Man BOCKMANN': 94,\n",
       " 'Land Rover Range Rover Evoque': 95,\n",
       " 'Mercedes-Benz 709 DB': 96,\n",
       " 'Mack CXN613': 97,\n",
       " 'Honda Odyssey': 98,\n",
       " 'Toyota Dyna': 99,\n",
       " 'Mercedes-Benz CABIN PLUS CHASSIS ONLY': 100,\n",
       " 'Volkswagen T4 Caravelle': 101,\n",
       " 'Kia Soul': 102,\n",
       " 'Mercedes-Benz G 63 AMG': 103,\n",
       " 'Lexus LX 570': 104,\n",
       " 'Porsche Macan': 105,\n",
       " 'Lexus LS 460': 106,\n",
       " 'Mitsubishi L200': 107,\n",
       " 'Lexus ES 350': 108,\n",
       " 'Mercedes-Benz ML 430': 109,\n",
       " 'Toyota Land Cruiser': 110,\n",
       " 'Jaguar X-Type': 111,\n",
       " 'Honda Element': 112,\n",
       " 'Mercedes-Benz CLA 250': 113,\n",
       " 'Kia Rio': 114,\n",
       " 'Peugeot 307': 115,\n",
       " 'Nissan Pathfinder': 116,\n",
       " 'Porsche Panamera': 117,\n",
       " 'Mercedes-Benz GLA 180': 118,\n",
       " 'Toyota Solara': 119,\n",
       " 'Mercedes-Benz E 320': 120,\n",
       " 'Lexus RX 350': 121,\n",
       " 'Porsche Cayenne': 122,\n",
       " 'Volvo XC90': 123,\n",
       " 'Nissan Sentra': 124,\n",
       " 'DAF 95XF TRACTOR HEAD': 125,\n",
       " 'JMC Vigus': 126,\n",
       " 'Audi S6': 127,\n",
       " 'Toyota Tacoma': 128,\n",
       " 'Honda CR-V': 129,\n",
       " 'Lexus GX 470': 130,\n",
       " 'Mercedes-Benz Maybach': 131,\n",
       " 'Man 26-403': 132,\n",
       " 'Mercedes-Benz S 450': 133,\n",
       " 'Ford Edge': 134,\n",
       " 'BMW 528': 135,\n",
       " 'Hyundai Tucson': 136,\n",
       " 'Volkswagen Passat': 137,\n",
       " 'Ford Transit': 138,\n",
       " 'Toyota Avalon': 139,\n",
       " 'Lexus IS 250': 140,\n",
       " 'Infiniti M35': 141,\n",
       " 'Mercedes-Benz SL 400': 142,\n",
       " 'Nissan Xterra': 143,\n",
       " 'IVECO EUROTECH 7.50E-16': 144,\n",
       " 'Mercedes-Benz GLA 250': 145,\n",
       " 'Mercedes-Benz C 350': 146,\n",
       " 'Honda Accord': 147,\n",
       " 'Mercedes-Benz CLS 500': 148,\n",
       " 'Nissan Maxima': 149,\n",
       " 'Acura TSX': 150,\n",
       " 'Mercedes-Benz 300': 151,\n",
       " 'Land Rover Range Rover Velar': 152,\n",
       " 'Acura RDX': 153,\n",
       " 'Rolls-Royce Ghost': 154,\n",
       " 'Toyota Prado': 155,\n",
       " 'Man TGA 18.360': 156,\n",
       " 'Hyundai Sonata': 157,\n",
       " 'Ford TRANSIT PICKUP': 158,\n",
       " 'Mitsubishi Pajero': 159,\n",
       " 'Volvo S80': 160,\n",
       " 'Mercedes-Benz ML 350': 161,\n",
       " 'Lexus RX 300': 162,\n",
       " 'Lexus GS 300': 163,\n",
       " 'Toyota DYNA 200': 164,\n",
       " 'Nissan Rogue': 165,\n",
       " 'Mercedes-Benz 200': 166,\n",
       " 'Kia Optima': 167,\n",
       " 'ALPINA B3': 168,\n",
       " 'Jeep Cherokee': 169,\n",
       " 'Toyota RAV 4': 170,\n",
       " 'BMW X3': 171,\n",
       " 'Lexus RX 400': 172,\n",
       " 'Mercedes-Benz WATER TANKER': 173,\n",
       " 'Scania P94 FLATBED': 174,\n",
       " 'Acura ZDX': 175,\n",
       " 'Ford F 150': 176,\n",
       " 'Mercedes-Benz/52': 177,\n",
       " 'Fiat Ducato': 178,\n",
       " 'Mack CXN613 CAB BEHIND ENGINE': 179,\n",
       " 'Volkswagen Sharan': 180,\n",
       " 'Mitsubishi Eclipse': 181,\n",
       " 'Mercedes-Benz 350': 182,\n",
       " 'Honda Fit': 183,\n",
       " 'IVM LT35': 184,\n",
       " 'Mercedes-Benz C 320': 185,\n",
       " 'Volvo FH12': 186,\n",
       " 'Man LE 8. 180 PLATFORM TRUCK': 187,\n",
       " 'Pontiac Vibe': 188,\n",
       " 'Ford Focus': 189,\n",
       " 'DAF CF': 190,\n",
       " 'Honda Civic': 191,\n",
       " 'Nissan A': 192,\n",
       " 'Infiniti QX80': 193,\n",
       " 'Nissan Versa': 194,\n",
       " 'Mack R-686ST': 195,\n",
       " 'MINI Cooper Countryman': 196,\n",
       " 'Iveco EUROCARGO 120e18': 197,\n",
       " 'Mercedes-Benz C 63 AMG': 198,\n",
       " 'Mitsubishi CANTER PICK UP': 199,\n",
       " 'Mercedes-Benz 450': 200,\n",
       " 'BMW 740': 201,\n",
       " 'BMW 730': 202,\n",
       " 'Mercedes-Benz GLE 43 AMG': 203,\n",
       " 'Mercedes-Benz GLK 300': 204,\n",
       " 'Volvo FL6': 205,\n",
       " 'Mercedes-Benz GLK 350': 206,\n",
       " 'Volvo FL7': 207,\n",
       " 'Mercedes-Benz E 300': 208,\n",
       " 'Mercedes-Benz 320': 209,\n",
       " 'Mercedes-Benz S 550': 210,\n",
       " 'Mercedes-Benz 220': 211,\n",
       " 'Toyota Sequoia': 212,\n",
       " 'Acura MDX': 213,\n",
       " 'Toyota 4-Runner': 214,\n",
       " 'Toyota Hilux': 215,\n",
       " 'Mercedes-Benz GLC 300': 216,\n",
       " 'Mazda CX-9': 217,\n",
       " 'Mercedes-Benz C 450 AMG': 218,\n",
       " 'Ford Mustang': 219,\n",
       " 'DAF XF TRACTOR HEAD': 220,\n",
       " 'Mercedes-Benz C 250': 221,\n",
       " 'Man Truck 18.44': 222,\n",
       " 'Mazda Tribute': 223,\n",
       " 'Mitsubishi Galant': 224,\n",
       " 'Hyundai Azera': 225,\n",
       " 'Mack CH613 CONVENTIONAL CAB': 226,\n",
       " 'Bentley Arnage': 227,\n",
       " 'Mercedes-Benz DUMP TRUCK': 228,\n",
       " 'Toyota C-HR': 229,\n",
       " 'Chevrolet Evanda': 230,\n",
       " 'BMW X6': 231,\n",
       " 'Mercedes-Benz E 550': 232,\n",
       " 'Mercedes-Benz 814': 233,\n",
       " 'Lexus GX 460': 234,\n",
       " 'GMC Terrain': 235,\n",
       " 'Mercedes-Benz C 180': 236,\n",
       " 'Honda Insight': 237,\n",
       " 'Mercedes-Benz C 300': 238,\n",
       " 'Nissan Titan': 239}"
      ]
     },
     "execution_count": 59,
     "metadata": {},
     "output_type": "execute_result"
    }
   ],
   "source": [
    "car_title_label = {car_title : label for label, car_title in enumerate(car_title)}\n",
    "car_title_label"
   ]
  },
  {
   "cell_type": "code",
   "execution_count": 60,
   "id": "0e473afc",
   "metadata": {},
   "outputs": [],
   "source": [
    "train['title'] = train['title'].replace(car_title_label)\n",
    "test['title'] = test['title'].replace(car_title_label)"
   ]
  },
  {
   "cell_type": "code",
   "execution_count": 61,
   "id": "996ac784",
   "metadata": {},
   "outputs": [
    {
     "data": {
      "text/html": [
       "<div>\n",
       "<style scoped>\n",
       "    .dataframe tbody tr th:only-of-type {\n",
       "        vertical-align: middle;\n",
       "    }\n",
       "\n",
       "    .dataframe tbody tr th {\n",
       "        vertical-align: top;\n",
       "    }\n",
       "\n",
       "    .dataframe thead th {\n",
       "        text-align: right;\n",
       "    }\n",
       "</style>\n",
       "<table border=\"1\" class=\"dataframe\">\n",
       "  <thead>\n",
       "    <tr style=\"text-align: right;\">\n",
       "      <th></th>\n",
       "      <th>id</th>\n",
       "      <th>title</th>\n",
       "      <th>odometer</th>\n",
       "      <th>location</th>\n",
       "      <th>isimported</th>\n",
       "      <th>engine</th>\n",
       "      <th>transmission</th>\n",
       "      <th>fuel</th>\n",
       "      <th>paint</th>\n",
       "      <th>year</th>\n",
       "      <th>target</th>\n",
       "      <th>brand</th>\n",
       "    </tr>\n",
       "  </thead>\n",
       "  <tbody>\n",
       "    <tr>\n",
       "      <th>0</th>\n",
       "      <td>0</td>\n",
       "      <td>170</td>\n",
       "      <td>18277</td>\n",
       "      <td>Lagos</td>\n",
       "      <td>Foreign Used</td>\n",
       "      <td>4-cylinder(I4)</td>\n",
       "      <td>automatic</td>\n",
       "      <td>petrol</td>\n",
       "      <td>red</td>\n",
       "      <td>2016</td>\n",
       "      <td>13665000</td>\n",
       "      <td>13</td>\n",
       "    </tr>\n",
       "    <tr>\n",
       "      <th>1</th>\n",
       "      <td>1</td>\n",
       "      <td>110</td>\n",
       "      <td>10</td>\n",
       "      <td>Lagos</td>\n",
       "      <td>New</td>\n",
       "      <td>4-cylinder(I4)</td>\n",
       "      <td>automatic</td>\n",
       "      <td>petrol</td>\n",
       "      <td>black</td>\n",
       "      <td>2019</td>\n",
       "      <td>33015000</td>\n",
       "      <td>13</td>\n",
       "    </tr>\n",
       "    <tr>\n",
       "      <th>2</th>\n",
       "      <td>2</td>\n",
       "      <td>95</td>\n",
       "      <td>83091</td>\n",
       "      <td>Lagos</td>\n",
       "      <td>Foreign Used</td>\n",
       "      <td>6-cylinder(V6)</td>\n",
       "      <td>automatic</td>\n",
       "      <td>petrol</td>\n",
       "      <td>red</td>\n",
       "      <td>2012</td>\n",
       "      <td>9915000</td>\n",
       "      <td>3</td>\n",
       "    </tr>\n",
       "    <tr>\n",
       "      <th>3</th>\n",
       "      <td>3</td>\n",
       "      <td>108</td>\n",
       "      <td>91524</td>\n",
       "      <td>Lagos</td>\n",
       "      <td>Foreign Used</td>\n",
       "      <td>4-cylinder(I4)</td>\n",
       "      <td>automatic</td>\n",
       "      <td>petrol</td>\n",
       "      <td>grey</td>\n",
       "      <td>2007</td>\n",
       "      <td>3815000</td>\n",
       "      <td>25</td>\n",
       "    </tr>\n",
       "    <tr>\n",
       "      <th>4</th>\n",
       "      <td>4</td>\n",
       "      <td>91</td>\n",
       "      <td>94177</td>\n",
       "      <td>Lagos</td>\n",
       "      <td>Foreign Used</td>\n",
       "      <td>6-cylinder(V6)</td>\n",
       "      <td>automatic</td>\n",
       "      <td>petrol</td>\n",
       "      <td>red</td>\n",
       "      <td>2010</td>\n",
       "      <td>7385000</td>\n",
       "      <td>13</td>\n",
       "    </tr>\n",
       "  </tbody>\n",
       "</table>\n",
       "</div>"
      ],
      "text/plain": [
       "   id  title  odometer location    isimported          engine transmission  \\\n",
       "0   0    170     18277    Lagos  Foreign Used  4-cylinder(I4)    automatic   \n",
       "1   1    110        10    Lagos          New   4-cylinder(I4)    automatic   \n",
       "2   2     95     83091    Lagos  Foreign Used  6-cylinder(V6)    automatic   \n",
       "3   3    108     91524    Lagos  Foreign Used  4-cylinder(I4)    automatic   \n",
       "4   4     91     94177    Lagos  Foreign Used  6-cylinder(V6)    automatic   \n",
       "\n",
       "     fuel  paint  year    target  brand  \n",
       "0  petrol    red  2016  13665000     13  \n",
       "1  petrol  black  2019  33015000     13  \n",
       "2  petrol    red  2012   9915000      3  \n",
       "3  petrol   grey  2007   3815000     25  \n",
       "4  petrol    red  2010   7385000     13  "
      ]
     },
     "execution_count": 61,
     "metadata": {},
     "output_type": "execute_result"
    }
   ],
   "source": [
    "train.head(5)"
   ]
  },
  {
   "cell_type": "code",
   "execution_count": 62,
   "id": "01ac0358",
   "metadata": {},
   "outputs": [
    {
     "data": {
      "text/html": [
       "<div>\n",
       "<style scoped>\n",
       "    .dataframe tbody tr th:only-of-type {\n",
       "        vertical-align: middle;\n",
       "    }\n",
       "\n",
       "    .dataframe tbody tr th {\n",
       "        vertical-align: top;\n",
       "    }\n",
       "\n",
       "    .dataframe thead th {\n",
       "        text-align: right;\n",
       "    }\n",
       "</style>\n",
       "<table border=\"1\" class=\"dataframe\">\n",
       "  <thead>\n",
       "    <tr style=\"text-align: right;\">\n",
       "      <th></th>\n",
       "      <th>id</th>\n",
       "      <th>title</th>\n",
       "      <th>odometer</th>\n",
       "      <th>location</th>\n",
       "      <th>isimported</th>\n",
       "      <th>engine</th>\n",
       "      <th>transmission</th>\n",
       "      <th>fuel</th>\n",
       "      <th>paint</th>\n",
       "      <th>year</th>\n",
       "      <th>brand</th>\n",
       "    </tr>\n",
       "  </thead>\n",
       "  <tbody>\n",
       "    <tr>\n",
       "      <th>0</th>\n",
       "      <td>0</td>\n",
       "      <td>238</td>\n",
       "      <td>1234</td>\n",
       "      <td>Abuja</td>\n",
       "      <td>New</td>\n",
       "      <td>4-cylinder(I4)</td>\n",
       "      <td>automatic</td>\n",
       "      <td>petrol</td>\n",
       "      <td>white</td>\n",
       "      <td>2017</td>\n",
       "      <td>22</td>\n",
       "    </tr>\n",
       "  </tbody>\n",
       "</table>\n",
       "</div>"
      ],
      "text/plain": [
       "   id  title  odometer location isimported          engine transmission  \\\n",
       "0   0    238      1234    Abuja       New   4-cylinder(I4)    automatic   \n",
       "\n",
       "     fuel  paint  year  brand  \n",
       "0  petrol  white  2017     22  "
      ]
     },
     "execution_count": 62,
     "metadata": {},
     "output_type": "execute_result"
    }
   ],
   "source": [
    "test.head(1)"
   ]
  },
  {
   "cell_type": "code",
   "execution_count": 63,
   "id": "a7aab26c",
   "metadata": {},
   "outputs": [
    {
     "data": {
      "text/plain": [
       "array(['Lagos', 'Abuja', 'Ogun', 'FCT', 'Accra', 'other', 'Abia',\n",
       "       'Adamawa'], dtype=object)"
      ]
     },
     "execution_count": 63,
     "metadata": {},
     "output_type": "execute_result"
    }
   ],
   "source": [
    "train.location.unique()"
   ]
  },
  {
   "cell_type": "code",
   "execution_count": 64,
   "id": "cf077d2f",
   "metadata": {},
   "outputs": [
    {
     "data": {
      "text/plain": [
       "array(['Abuja', 'Lagos', 'Ogun', 'Mushin', 'other', 'Abia'], dtype=object)"
      ]
     },
     "execution_count": 64,
     "metadata": {},
     "output_type": "execute_result"
    }
   ],
   "source": [
    "test.location.unique()"
   ]
  },
  {
   "cell_type": "code",
   "execution_count": 65,
   "id": "fa23569e",
   "metadata": {},
   "outputs": [],
   "source": [
    "# Mushin은 Loagos와 연관있는 곳\n",
    "test['location'] = test['location'].str.replace('Mushin', 'Lagos') "
   ]
  },
  {
   "cell_type": "code",
   "execution_count": 66,
   "id": "4dfa2dcc",
   "metadata": {},
   "outputs": [
    {
     "data": {
      "text/plain": [
       "array(['Abuja', 'Lagos', 'Ogun', 'other', 'Abia'], dtype=object)"
      ]
     },
     "execution_count": 66,
     "metadata": {},
     "output_type": "execute_result"
    }
   ],
   "source": [
    "test.location.unique()"
   ]
  },
  {
   "cell_type": "code",
   "execution_count": 67,
   "id": "f34ab629",
   "metadata": {},
   "outputs": [
    {
     "name": "stdout",
     "output_type": "stream",
     "text": [
      "{'Adamawa', 'other', 'Lagos', 'Accra', 'FCT', 'Abia', 'Abuja', 'Ogun'}\n"
     ]
    }
   ],
   "source": [
    "location_label = set(train.location) | set(test.location) # 합집합\n",
    "print(location_label)"
   ]
  },
  {
   "cell_type": "code",
   "execution_count": 68,
   "id": "fb04ccf4",
   "metadata": {},
   "outputs": [],
   "source": [
    "location_label = {_location : label for label, _location in enumerate(set(pd.concat([train.location, test.location])))}\n",
    "\n",
    "train['location'] = train['location'].replace(location_label)\n",
    "test['location'] = test['location'].replace(location_label)"
   ]
  },
  {
   "cell_type": "code",
   "execution_count": 69,
   "id": "20fcf913",
   "metadata": {},
   "outputs": [
    {
     "data": {
      "text/plain": [
       "{'Adamawa': 0,\n",
       " 'other': 1,\n",
       " 'Lagos': 2,\n",
       " 'Accra': 3,\n",
       " 'FCT': 4,\n",
       " 'Abia': 5,\n",
       " 'Abuja': 6,\n",
       " 'Ogun': 7}"
      ]
     },
     "execution_count": 69,
     "metadata": {},
     "output_type": "execute_result"
    }
   ],
   "source": [
    "location_label"
   ]
  },
  {
   "cell_type": "code",
   "execution_count": 70,
   "id": "d7ec3eb1",
   "metadata": {},
   "outputs": [
    {
     "name": "stdout",
     "output_type": "stream",
     "text": [
      "18\n"
     ]
    },
    {
     "data": {
      "text/plain": [
       "16"
      ]
     },
     "execution_count": 70,
     "metadata": {},
     "output_type": "execute_result"
    }
   ],
   "source": [
    "print(len(train['paint'].unique()))\n",
    "len(test['paint'].unique())"
   ]
  },
  {
   "cell_type": "code",
   "execution_count": 71,
   "id": "510f2fbb",
   "metadata": {},
   "outputs": [],
   "source": [
    "paint_label = {_paint : label for label, _paint in enumerate(set(pd.concat([train.paint, test.paint])))}"
   ]
  },
  {
   "cell_type": "code",
   "execution_count": 72,
   "id": "c41355b8",
   "metadata": {},
   "outputs": [
    {
     "data": {
      "text/plain": [
       "{'silver': 0,\n",
       " 'orange': 1,\n",
       " 'purple': 2,\n",
       " 'black': 3,\n",
       " 'ash': 4,\n",
       " 'milk': 5,\n",
       " 'yellow': 6,\n",
       " 'gold': 7,\n",
       " 'red': 8,\n",
       " 'blue': 9,\n",
       " 'wine': 10,\n",
       " 'beige': 11,\n",
       " 'white': 12,\n",
       " 'brown': 13,\n",
       " 'indigo ink pearl': 14,\n",
       " 'cream': 15,\n",
       " 'maroon': 16,\n",
       " 'grey': 17,\n",
       " 'green': 18}"
      ]
     },
     "execution_count": 72,
     "metadata": {},
     "output_type": "execute_result"
    }
   ],
   "source": [
    "paint_label"
   ]
  },
  {
   "cell_type": "code",
   "execution_count": 73,
   "id": "6a9a0080",
   "metadata": {},
   "outputs": [],
   "source": [
    "train['paint'] = train['paint'].replace(paint_label)\n",
    "test['paint'] = test['paint'].replace(paint_label)"
   ]
  },
  {
   "cell_type": "code",
   "execution_count": 74,
   "id": "2f474037",
   "metadata": {},
   "outputs": [
    {
     "data": {
      "text/plain": [
       "{'12-cylinder(V12)', '4-cylinder(H4)'}"
      ]
     },
     "execution_count": 74,
     "metadata": {},
     "output_type": "execute_result"
    }
   ],
   "source": [
    "set(set(train.engine.unique()) | set(test.engine.unique())) - set(set(train.engine.unique()) & set(test.engine.unique()))"
   ]
  },
  {
   "cell_type": "code",
   "execution_count": 75,
   "id": "c7cd6724",
   "metadata": {},
   "outputs": [
    {
     "data": {
      "text/html": [
       "<div>\n",
       "<style scoped>\n",
       "    .dataframe tbody tr th:only-of-type {\n",
       "        vertical-align: middle;\n",
       "    }\n",
       "\n",
       "    .dataframe tbody tr th {\n",
       "        vertical-align: top;\n",
       "    }\n",
       "\n",
       "    .dataframe thead th {\n",
       "        text-align: right;\n",
       "    }\n",
       "</style>\n",
       "<table border=\"1\" class=\"dataframe\">\n",
       "  <thead>\n",
       "    <tr style=\"text-align: right;\">\n",
       "      <th></th>\n",
       "      <th>id</th>\n",
       "      <th>title</th>\n",
       "      <th>odometer</th>\n",
       "      <th>location</th>\n",
       "      <th>isimported</th>\n",
       "      <th>engine</th>\n",
       "      <th>transmission</th>\n",
       "      <th>fuel</th>\n",
       "      <th>paint</th>\n",
       "      <th>year</th>\n",
       "      <th>target</th>\n",
       "      <th>brand</th>\n",
       "    </tr>\n",
       "  </thead>\n",
       "  <tbody>\n",
       "    <tr>\n",
       "      <th>327</th>\n",
       "      <td>327</td>\n",
       "      <td>51</td>\n",
       "      <td>3656</td>\n",
       "      <td>6</td>\n",
       "      <td>Foreign Used</td>\n",
       "      <td>4-cylinder(H4)</td>\n",
       "      <td>automatic</td>\n",
       "      <td>petrol</td>\n",
       "      <td>0</td>\n",
       "      <td>2020</td>\n",
       "      <td>20015000</td>\n",
       "      <td>13</td>\n",
       "    </tr>\n",
       "    <tr>\n",
       "      <th>830</th>\n",
       "      <td>830</td>\n",
       "      <td>147</td>\n",
       "      <td>152229</td>\n",
       "      <td>2</td>\n",
       "      <td>Foreign Used</td>\n",
       "      <td>4-cylinder(H4)</td>\n",
       "      <td>automatic</td>\n",
       "      <td>petrol</td>\n",
       "      <td>17</td>\n",
       "      <td>2007</td>\n",
       "      <td>2765000</td>\n",
       "      <td>32</td>\n",
       "    </tr>\n",
       "  </tbody>\n",
       "</table>\n",
       "</div>"
      ],
      "text/plain": [
       "      id  title  odometer  location    isimported          engine  \\\n",
       "327  327     51      3656         6  Foreign Used  4-cylinder(H4)   \n",
       "830  830    147    152229         2  Foreign Used  4-cylinder(H4)   \n",
       "\n",
       "    transmission    fuel  paint  year    target  brand  \n",
       "327    automatic  petrol      0  2020  20015000     13  \n",
       "830    automatic  petrol     17  2007   2765000     32  "
      ]
     },
     "execution_count": 75,
     "metadata": {},
     "output_type": "execute_result"
    }
   ],
   "source": [
    "train[train.engine == '4-cylinder(H4)']"
   ]
  },
  {
   "cell_type": "code",
   "execution_count": 76,
   "id": "16d7d3ea",
   "metadata": {},
   "outputs": [],
   "source": [
    "train = train.replace({'4-cylinder(H4)' : '4-cylinder(I4)'})"
   ]
  },
  {
   "cell_type": "code",
   "execution_count": 77,
   "id": "4f07b6c4",
   "metadata": {},
   "outputs": [
    {
     "data": {
      "text/html": [
       "<div>\n",
       "<style scoped>\n",
       "    .dataframe tbody tr th:only-of-type {\n",
       "        vertical-align: middle;\n",
       "    }\n",
       "\n",
       "    .dataframe tbody tr th {\n",
       "        vertical-align: top;\n",
       "    }\n",
       "\n",
       "    .dataframe thead th {\n",
       "        text-align: right;\n",
       "    }\n",
       "</style>\n",
       "<table border=\"1\" class=\"dataframe\">\n",
       "  <thead>\n",
       "    <tr style=\"text-align: right;\">\n",
       "      <th></th>\n",
       "      <th>id</th>\n",
       "      <th>title</th>\n",
       "      <th>odometer</th>\n",
       "      <th>location</th>\n",
       "      <th>isimported</th>\n",
       "      <th>engine</th>\n",
       "      <th>transmission</th>\n",
       "      <th>fuel</th>\n",
       "      <th>paint</th>\n",
       "      <th>year</th>\n",
       "      <th>brand</th>\n",
       "    </tr>\n",
       "  </thead>\n",
       "  <tbody>\n",
       "    <tr>\n",
       "      <th>142</th>\n",
       "      <td>142</td>\n",
       "      <td>131</td>\n",
       "      <td>6758</td>\n",
       "      <td>2</td>\n",
       "      <td>New</td>\n",
       "      <td>12-cylinder(V12)</td>\n",
       "      <td>automatic</td>\n",
       "      <td>petrol</td>\n",
       "      <td>3</td>\n",
       "      <td>2019</td>\n",
       "      <td>22</td>\n",
       "    </tr>\n",
       "  </tbody>\n",
       "</table>\n",
       "</div>"
      ],
      "text/plain": [
       "      id  title  odometer  location isimported            engine transmission  \\\n",
       "142  142    131      6758         2       New   12-cylinder(V12)    automatic   \n",
       "\n",
       "       fuel  paint  year  brand  \n",
       "142  petrol      3  2019     22  "
      ]
     },
     "execution_count": 77,
     "metadata": {},
     "output_type": "execute_result"
    }
   ],
   "source": [
    "test[test.engine == '12-cylinder(V12)']"
   ]
  },
  {
   "cell_type": "code",
   "execution_count": 78,
   "id": "5496d9d5",
   "metadata": {},
   "outputs": [],
   "source": [
    "test = test.replace({'12-cylinder(V12)' : '8-cylinder(V8)'})"
   ]
  },
  {
   "cell_type": "code",
   "execution_count": 79,
   "id": "5642aff0",
   "metadata": {},
   "outputs": [
    {
     "data": {
      "text/html": [
       "<div>\n",
       "<style scoped>\n",
       "    .dataframe tbody tr th:only-of-type {\n",
       "        vertical-align: middle;\n",
       "    }\n",
       "\n",
       "    .dataframe tbody tr th {\n",
       "        vertical-align: top;\n",
       "    }\n",
       "\n",
       "    .dataframe thead th {\n",
       "        text-align: right;\n",
       "    }\n",
       "</style>\n",
       "<table border=\"1\" class=\"dataframe\">\n",
       "  <thead>\n",
       "    <tr style=\"text-align: right;\">\n",
       "      <th></th>\n",
       "      <th>id</th>\n",
       "      <th>title</th>\n",
       "      <th>odometer</th>\n",
       "      <th>location</th>\n",
       "      <th>isimported</th>\n",
       "      <th>engine</th>\n",
       "      <th>transmission</th>\n",
       "      <th>fuel</th>\n",
       "      <th>paint</th>\n",
       "      <th>year</th>\n",
       "      <th>brand</th>\n",
       "    </tr>\n",
       "  </thead>\n",
       "  <tbody>\n",
       "    <tr>\n",
       "      <th>142</th>\n",
       "      <td>142</td>\n",
       "      <td>131</td>\n",
       "      <td>6758</td>\n",
       "      <td>2</td>\n",
       "      <td>New</td>\n",
       "      <td>8-cylinder(V8)</td>\n",
       "      <td>automatic</td>\n",
       "      <td>petrol</td>\n",
       "      <td>3</td>\n",
       "      <td>2019</td>\n",
       "      <td>22</td>\n",
       "    </tr>\n",
       "  </tbody>\n",
       "</table>\n",
       "</div>"
      ],
      "text/plain": [
       "      id  title  odometer  location isimported          engine transmission  \\\n",
       "142  142    131      6758         2       New   8-cylinder(V8)    automatic   \n",
       "\n",
       "       fuel  paint  year  brand  \n",
       "142  petrol      3  2019     22  "
      ]
     },
     "execution_count": 79,
     "metadata": {},
     "output_type": "execute_result"
    }
   ],
   "source": [
    "test.iloc[[142]]"
   ]
  },
  {
   "cell_type": "code",
   "execution_count": 80,
   "id": "82ee3d8d",
   "metadata": {},
   "outputs": [
    {
     "data": {
      "text/plain": [
       "{'6-cylinder(I6)': 0,\n",
       " '8-cylinder(V8)': 1,\n",
       " '6-cylinder(V6)': 2,\n",
       " '4-cylinder(I4)': 3,\n",
       " '2-cylinder(I2)': 4,\n",
       " '5-cylinder(I5)': 5,\n",
       " '3-cylinder(I3)': 6}"
      ]
     },
     "execution_count": 80,
     "metadata": {},
     "output_type": "execute_result"
    }
   ],
   "source": [
    "engine_label = {_engine : label for label, _engine in enumerate(set(pd.concat([train.engine, test.engine])))}\n",
    "engine_label"
   ]
  },
  {
   "cell_type": "code",
   "execution_count": 81,
   "id": "85dc0615",
   "metadata": {},
   "outputs": [],
   "source": [
    "train = train.replace(engine_label)\n",
    "test = test.replace(engine_label)"
   ]
  },
  {
   "cell_type": "code",
   "execution_count": 82,
   "id": "608a6323",
   "metadata": {},
   "outputs": [],
   "source": [
    "train['year'] = train['year'].replace([1218, 1217], [2010, 2010])\n",
    "test['year'] = test['year'].replace([1324, 1726, 2626], [2010, 2010, 2020])"
   ]
  },
  {
   "cell_type": "code",
   "execution_count": 83,
   "id": "c333843d",
   "metadata": {},
   "outputs": [],
   "source": [
    "isimported_label = {'Foreign Used': 0, 'Locally used' : 1, 'New ' : 2}\n",
    "transmission_label = {'automatic' : 0, 'manual' : 1}\n",
    "fuel_label = {'petrol' : 0, 'diesel' : 1}"
   ]
  },
  {
   "cell_type": "code",
   "execution_count": 84,
   "id": "a6fc9a65",
   "metadata": {},
   "outputs": [],
   "source": [
    "train['isimported'] = train['isimported'].replace(isimported_label)\n",
    "test['isimported'] = test['isimported'].replace(isimported_label)\n",
    "\n",
    "train['transmission'] = train['transmission'].replace(transmission_label)\n",
    "test['transmission'] = test['transmission'].replace(transmission_label)\n",
    "\n",
    "train['fuel'] = train['fuel'].replace(fuel_label)\n",
    "test['fuel'] = test['fuel'].replace(fuel_label)"
   ]
  },
  {
   "cell_type": "markdown",
   "id": "61e2967b",
   "metadata": {},
   "source": [
    "## 추가 컬럼"
   ]
  },
  {
   "cell_type": "code",
   "execution_count": 85,
   "id": "056c37c0",
   "metadata": {},
   "outputs": [
    {
     "data": {
      "text/html": [
       "<div>\n",
       "<style scoped>\n",
       "    .dataframe tbody tr th:only-of-type {\n",
       "        vertical-align: middle;\n",
       "    }\n",
       "\n",
       "    .dataframe tbody tr th {\n",
       "        vertical-align: top;\n",
       "    }\n",
       "\n",
       "    .dataframe thead th {\n",
       "        text-align: right;\n",
       "    }\n",
       "</style>\n",
       "<table border=\"1\" class=\"dataframe\">\n",
       "  <thead>\n",
       "    <tr style=\"text-align: right;\">\n",
       "      <th></th>\n",
       "      <th>id</th>\n",
       "      <th>title</th>\n",
       "      <th>odometer</th>\n",
       "      <th>location</th>\n",
       "      <th>isimported</th>\n",
       "      <th>engine</th>\n",
       "      <th>transmission</th>\n",
       "      <th>fuel</th>\n",
       "      <th>paint</th>\n",
       "      <th>year</th>\n",
       "      <th>target</th>\n",
       "      <th>brand</th>\n",
       "    </tr>\n",
       "  </thead>\n",
       "  <tbody>\n",
       "    <tr>\n",
       "      <th>id</th>\n",
       "      <td>1.000000</td>\n",
       "      <td>-0.001588</td>\n",
       "      <td>-0.017320</td>\n",
       "      <td>-0.036516</td>\n",
       "      <td>0.003261</td>\n",
       "      <td>0.028072</td>\n",
       "      <td>-0.021177</td>\n",
       "      <td>-0.002189</td>\n",
       "      <td>0.029478</td>\n",
       "      <td>0.000323</td>\n",
       "      <td>0.025104</td>\n",
       "      <td>0.002893</td>\n",
       "    </tr>\n",
       "    <tr>\n",
       "      <th>title</th>\n",
       "      <td>-0.001588</td>\n",
       "      <td>1.000000</td>\n",
       "      <td>-0.044188</td>\n",
       "      <td>-0.037012</td>\n",
       "      <td>0.045524</td>\n",
       "      <td>-0.110967</td>\n",
       "      <td>0.061449</td>\n",
       "      <td>0.076426</td>\n",
       "      <td>-0.024439</td>\n",
       "      <td>0.025138</td>\n",
       "      <td>0.141441</td>\n",
       "      <td>0.278664</td>\n",
       "    </tr>\n",
       "    <tr>\n",
       "      <th>odometer</th>\n",
       "      <td>-0.017320</td>\n",
       "      <td>-0.044188</td>\n",
       "      <td>1.000000</td>\n",
       "      <td>-0.038519</td>\n",
       "      <td>0.147480</td>\n",
       "      <td>0.015151</td>\n",
       "      <td>0.295716</td>\n",
       "      <td>0.305862</td>\n",
       "      <td>0.076061</td>\n",
       "      <td>-0.504128</td>\n",
       "      <td>-0.261147</td>\n",
       "      <td>0.027792</td>\n",
       "    </tr>\n",
       "    <tr>\n",
       "      <th>location</th>\n",
       "      <td>-0.036516</td>\n",
       "      <td>-0.037012</td>\n",
       "      <td>-0.038519</td>\n",
       "      <td>1.000000</td>\n",
       "      <td>0.000163</td>\n",
       "      <td>-0.034681</td>\n",
       "      <td>-0.065795</td>\n",
       "      <td>-0.097660</td>\n",
       "      <td>0.017778</td>\n",
       "      <td>-0.007235</td>\n",
       "      <td>-0.069786</td>\n",
       "      <td>-0.010882</td>\n",
       "    </tr>\n",
       "    <tr>\n",
       "      <th>isimported</th>\n",
       "      <td>0.003261</td>\n",
       "      <td>0.045524</td>\n",
       "      <td>0.147480</td>\n",
       "      <td>0.000163</td>\n",
       "      <td>1.000000</td>\n",
       "      <td>-0.033875</td>\n",
       "      <td>0.277265</td>\n",
       "      <td>0.276686</td>\n",
       "      <td>-0.020797</td>\n",
       "      <td>-0.235053</td>\n",
       "      <td>0.067681</td>\n",
       "      <td>0.069643</td>\n",
       "    </tr>\n",
       "    <tr>\n",
       "      <th>engine</th>\n",
       "      <td>0.028072</td>\n",
       "      <td>-0.110967</td>\n",
       "      <td>0.015151</td>\n",
       "      <td>-0.034681</td>\n",
       "      <td>-0.033875</td>\n",
       "      <td>1.000000</td>\n",
       "      <td>-0.006545</td>\n",
       "      <td>-0.021920</td>\n",
       "      <td>-0.028357</td>\n",
       "      <td>0.021321</td>\n",
       "      <td>-0.099683</td>\n",
       "      <td>-0.140245</td>\n",
       "    </tr>\n",
       "    <tr>\n",
       "      <th>transmission</th>\n",
       "      <td>-0.021177</td>\n",
       "      <td>0.061449</td>\n",
       "      <td>0.295716</td>\n",
       "      <td>-0.065795</td>\n",
       "      <td>0.277265</td>\n",
       "      <td>-0.006545</td>\n",
       "      <td>1.000000</td>\n",
       "      <td>0.902001</td>\n",
       "      <td>0.091217</td>\n",
       "      <td>-0.368940</td>\n",
       "      <td>-0.005705</td>\n",
       "      <td>0.067137</td>\n",
       "    </tr>\n",
       "    <tr>\n",
       "      <th>fuel</th>\n",
       "      <td>-0.002189</td>\n",
       "      <td>0.076426</td>\n",
       "      <td>0.305862</td>\n",
       "      <td>-0.097660</td>\n",
       "      <td>0.276686</td>\n",
       "      <td>-0.021920</td>\n",
       "      <td>0.902001</td>\n",
       "      <td>1.000000</td>\n",
       "      <td>0.094597</td>\n",
       "      <td>-0.350055</td>\n",
       "      <td>0.006340</td>\n",
       "      <td>0.073449</td>\n",
       "    </tr>\n",
       "    <tr>\n",
       "      <th>paint</th>\n",
       "      <td>0.029478</td>\n",
       "      <td>-0.024439</td>\n",
       "      <td>0.076061</td>\n",
       "      <td>0.017778</td>\n",
       "      <td>-0.020797</td>\n",
       "      <td>-0.028357</td>\n",
       "      <td>0.091217</td>\n",
       "      <td>0.094597</td>\n",
       "      <td>1.000000</td>\n",
       "      <td>-0.075185</td>\n",
       "      <td>-0.057746</td>\n",
       "      <td>0.006773</td>\n",
       "    </tr>\n",
       "    <tr>\n",
       "      <th>year</th>\n",
       "      <td>0.000323</td>\n",
       "      <td>0.025138</td>\n",
       "      <td>-0.504128</td>\n",
       "      <td>-0.007235</td>\n",
       "      <td>-0.235053</td>\n",
       "      <td>0.021321</td>\n",
       "      <td>-0.368940</td>\n",
       "      <td>-0.350055</td>\n",
       "      <td>-0.075185</td>\n",
       "      <td>1.000000</td>\n",
       "      <td>0.461563</td>\n",
       "      <td>-0.079187</td>\n",
       "    </tr>\n",
       "    <tr>\n",
       "      <th>target</th>\n",
       "      <td>0.025104</td>\n",
       "      <td>0.141441</td>\n",
       "      <td>-0.261147</td>\n",
       "      <td>-0.069786</td>\n",
       "      <td>0.067681</td>\n",
       "      <td>-0.099683</td>\n",
       "      <td>-0.005705</td>\n",
       "      <td>0.006340</td>\n",
       "      <td>-0.057746</td>\n",
       "      <td>0.461563</td>\n",
       "      <td>1.000000</td>\n",
       "      <td>-0.014145</td>\n",
       "    </tr>\n",
       "    <tr>\n",
       "      <th>brand</th>\n",
       "      <td>0.002893</td>\n",
       "      <td>0.278664</td>\n",
       "      <td>0.027792</td>\n",
       "      <td>-0.010882</td>\n",
       "      <td>0.069643</td>\n",
       "      <td>-0.140245</td>\n",
       "      <td>0.067137</td>\n",
       "      <td>0.073449</td>\n",
       "      <td>0.006773</td>\n",
       "      <td>-0.079187</td>\n",
       "      <td>-0.014145</td>\n",
       "      <td>1.000000</td>\n",
       "    </tr>\n",
       "  </tbody>\n",
       "</table>\n",
       "</div>"
      ],
      "text/plain": [
       "                    id     title  odometer  location  isimported    engine  \\\n",
       "id            1.000000 -0.001588 -0.017320 -0.036516    0.003261  0.028072   \n",
       "title        -0.001588  1.000000 -0.044188 -0.037012    0.045524 -0.110967   \n",
       "odometer     -0.017320 -0.044188  1.000000 -0.038519    0.147480  0.015151   \n",
       "location     -0.036516 -0.037012 -0.038519  1.000000    0.000163 -0.034681   \n",
       "isimported    0.003261  0.045524  0.147480  0.000163    1.000000 -0.033875   \n",
       "engine        0.028072 -0.110967  0.015151 -0.034681   -0.033875  1.000000   \n",
       "transmission -0.021177  0.061449  0.295716 -0.065795    0.277265 -0.006545   \n",
       "fuel         -0.002189  0.076426  0.305862 -0.097660    0.276686 -0.021920   \n",
       "paint         0.029478 -0.024439  0.076061  0.017778   -0.020797 -0.028357   \n",
       "year          0.000323  0.025138 -0.504128 -0.007235   -0.235053  0.021321   \n",
       "target        0.025104  0.141441 -0.261147 -0.069786    0.067681 -0.099683   \n",
       "brand         0.002893  0.278664  0.027792 -0.010882    0.069643 -0.140245   \n",
       "\n",
       "              transmission      fuel     paint      year    target     brand  \n",
       "id               -0.021177 -0.002189  0.029478  0.000323  0.025104  0.002893  \n",
       "title             0.061449  0.076426 -0.024439  0.025138  0.141441  0.278664  \n",
       "odometer          0.295716  0.305862  0.076061 -0.504128 -0.261147  0.027792  \n",
       "location         -0.065795 -0.097660  0.017778 -0.007235 -0.069786 -0.010882  \n",
       "isimported        0.277265  0.276686 -0.020797 -0.235053  0.067681  0.069643  \n",
       "engine           -0.006545 -0.021920 -0.028357  0.021321 -0.099683 -0.140245  \n",
       "transmission      1.000000  0.902001  0.091217 -0.368940 -0.005705  0.067137  \n",
       "fuel              0.902001  1.000000  0.094597 -0.350055  0.006340  0.073449  \n",
       "paint             0.091217  0.094597  1.000000 -0.075185 -0.057746  0.006773  \n",
       "year             -0.368940 -0.350055 -0.075185  1.000000  0.461563 -0.079187  \n",
       "target           -0.005705  0.006340 -0.057746  0.461563  1.000000 -0.014145  \n",
       "brand             0.067137  0.073449  0.006773 -0.079187 -0.014145  1.000000  "
      ]
     },
     "metadata": {},
     "output_type": "display_data"
    },
    {
     "data": {
      "image/png": "[encoded data removed]",
      "text/plain": [
       "<Figure size 864x864 with 2 Axes>"
      ]
     },
     "metadata": {
      "needs_background": "light"
     },
     "output_type": "display_data"
    }
   ],
   "source": [
    "import matplotlib.pyplot as plt\n",
    "import seaborn as sns\n",
    "# 분석을 위해 A와 B의 관계를 나타내는 콜레이션 매트릭스를 출력해본다.\n",
    "# 1에 가까우면 양의 상관성, -1에 가까우면 음의 상관성이 있다고 한다.\n",
    "display(train[:].corr())\n",
    "\n",
    "# 히트맵으로 확인해본다.\n",
    "plt.figure(figsize=(12,12))\n",
    "\n",
    "sns.heatmap(train.corr(), linewidths=0.1, vmax=0.5, cmap=plt.cm.gist_heat,\n",
    "            linecolor='white', annot=True)\n",
    "plt.show()"
   ]
  },
  {
   "cell_type": "markdown",
   "id": "ae5c4a0f",
   "metadata": {},
   "source": [
    "## 데이터 변환 최종 점검"
   ]
  },
  {
   "cell_type": "code",
   "execution_count": 86,
   "id": "858ce331",
   "metadata": {},
   "outputs": [
    {
     "data": {
      "text/html": [
       "<div>\n",
       "<style scoped>\n",
       "    .dataframe tbody tr th:only-of-type {\n",
       "        vertical-align: middle;\n",
       "    }\n",
       "\n",
       "    .dataframe tbody tr th {\n",
       "        vertical-align: top;\n",
       "    }\n",
       "\n",
       "    .dataframe thead th {\n",
       "        text-align: right;\n",
       "    }\n",
       "</style>\n",
       "<table border=\"1\" class=\"dataframe\">\n",
       "  <thead>\n",
       "    <tr style=\"text-align: right;\">\n",
       "      <th></th>\n",
       "      <th>id</th>\n",
       "      <th>title</th>\n",
       "      <th>odometer</th>\n",
       "      <th>location</th>\n",
       "      <th>isimported</th>\n",
       "      <th>engine</th>\n",
       "      <th>transmission</th>\n",
       "      <th>fuel</th>\n",
       "      <th>paint</th>\n",
       "      <th>year</th>\n",
       "      <th>target</th>\n",
       "      <th>brand</th>\n",
       "    </tr>\n",
       "  </thead>\n",
       "  <tbody>\n",
       "    <tr>\n",
       "      <th>0</th>\n",
       "      <td>0</td>\n",
       "      <td>170</td>\n",
       "      <td>18277</td>\n",
       "      <td>2</td>\n",
       "      <td>0</td>\n",
       "      <td>3</td>\n",
       "      <td>0</td>\n",
       "      <td>0</td>\n",
       "      <td>8</td>\n",
       "      <td>2016</td>\n",
       "      <td>13665000</td>\n",
       "      <td>13</td>\n",
       "    </tr>\n",
       "    <tr>\n",
       "      <th>1</th>\n",
       "      <td>1</td>\n",
       "      <td>110</td>\n",
       "      <td>10</td>\n",
       "      <td>2</td>\n",
       "      <td>2</td>\n",
       "      <td>3</td>\n",
       "      <td>0</td>\n",
       "      <td>0</td>\n",
       "      <td>3</td>\n",
       "      <td>2019</td>\n",
       "      <td>33015000</td>\n",
       "      <td>13</td>\n",
       "    </tr>\n",
       "    <tr>\n",
       "      <th>2</th>\n",
       "      <td>2</td>\n",
       "      <td>95</td>\n",
       "      <td>83091</td>\n",
       "      <td>2</td>\n",
       "      <td>0</td>\n",
       "      <td>2</td>\n",
       "      <td>0</td>\n",
       "      <td>0</td>\n",
       "      <td>8</td>\n",
       "      <td>2012</td>\n",
       "      <td>9915000</td>\n",
       "      <td>3</td>\n",
       "    </tr>\n",
       "    <tr>\n",
       "      <th>3</th>\n",
       "      <td>3</td>\n",
       "      <td>108</td>\n",
       "      <td>91524</td>\n",
       "      <td>2</td>\n",
       "      <td>0</td>\n",
       "      <td>3</td>\n",
       "      <td>0</td>\n",
       "      <td>0</td>\n",
       "      <td>17</td>\n",
       "      <td>2007</td>\n",
       "      <td>3815000</td>\n",
       "      <td>25</td>\n",
       "    </tr>\n",
       "    <tr>\n",
       "      <th>4</th>\n",
       "      <td>4</td>\n",
       "      <td>91</td>\n",
       "      <td>94177</td>\n",
       "      <td>2</td>\n",
       "      <td>0</td>\n",
       "      <td>2</td>\n",
       "      <td>0</td>\n",
       "      <td>0</td>\n",
       "      <td>8</td>\n",
       "      <td>2010</td>\n",
       "      <td>7385000</td>\n",
       "      <td>13</td>\n",
       "    </tr>\n",
       "  </tbody>\n",
       "</table>\n",
       "</div>"
      ],
      "text/plain": [
       "   id  title  odometer  location  isimported  engine  transmission  fuel  \\\n",
       "0   0    170     18277         2           0       3             0     0   \n",
       "1   1    110        10         2           2       3             0     0   \n",
       "2   2     95     83091         2           0       2             0     0   \n",
       "3   3    108     91524         2           0       3             0     0   \n",
       "4   4     91     94177         2           0       2             0     0   \n",
       "\n",
       "   paint  year    target  brand  \n",
       "0      8  2016  13665000     13  \n",
       "1      3  2019  33015000     13  \n",
       "2      8  2012   9915000      3  \n",
       "3     17  2007   3815000     25  \n",
       "4      8  2010   7385000     13  "
      ]
     },
     "metadata": {},
     "output_type": "display_data"
    },
    {
     "name": "stdout",
     "output_type": "stream",
     "text": [
      "<class 'pandas.core.frame.DataFrame'>\n",
      "RangeIndex: 1015 entries, 0 to 1014\n",
      "Data columns (total 12 columns):\n",
      " #   Column        Non-Null Count  Dtype\n",
      "---  ------        --------------  -----\n",
      " 0   id            1015 non-null   int64\n",
      " 1   title         1015 non-null   int64\n",
      " 2   odometer      1015 non-null   int64\n",
      " 3   location      1015 non-null   int64\n",
      " 4   isimported    1015 non-null   int64\n",
      " 5   engine        1015 non-null   int64\n",
      " 6   transmission  1015 non-null   int64\n",
      " 7   fuel          1015 non-null   int64\n",
      " 8   paint         1015 non-null   int64\n",
      " 9   year          1015 non-null   int64\n",
      " 10  target        1015 non-null   int64\n",
      " 11  brand         1015 non-null   int64\n",
      "dtypes: int64(12)\n",
      "memory usage: 95.3 KB\n"
     ]
    }
   ],
   "source": [
    "# object가 나오면 안된다. 모두 정수형, float형이어야 한다.\n",
    "display(train.head())\n",
    "train.info()"
   ]
  },
  {
   "cell_type": "code",
   "execution_count": 87,
   "id": "f1738b9b",
   "metadata": {},
   "outputs": [
    {
     "data": {
      "text/html": [
       "<div>\n",
       "<style scoped>\n",
       "    .dataframe tbody tr th:only-of-type {\n",
       "        vertical-align: middle;\n",
       "    }\n",
       "\n",
       "    .dataframe tbody tr th {\n",
       "        vertical-align: top;\n",
       "    }\n",
       "\n",
       "    .dataframe thead th {\n",
       "        text-align: right;\n",
       "    }\n",
       "</style>\n",
       "<table border=\"1\" class=\"dataframe\">\n",
       "  <thead>\n",
       "    <tr style=\"text-align: right;\">\n",
       "      <th></th>\n",
       "      <th>id</th>\n",
       "      <th>title</th>\n",
       "      <th>odometer</th>\n",
       "      <th>location</th>\n",
       "      <th>isimported</th>\n",
       "      <th>engine</th>\n",
       "      <th>transmission</th>\n",
       "      <th>fuel</th>\n",
       "      <th>paint</th>\n",
       "      <th>year</th>\n",
       "      <th>brand</th>\n",
       "    </tr>\n",
       "  </thead>\n",
       "  <tbody>\n",
       "    <tr>\n",
       "      <th>0</th>\n",
       "      <td>0</td>\n",
       "      <td>238</td>\n",
       "      <td>1234</td>\n",
       "      <td>6</td>\n",
       "      <td>2</td>\n",
       "      <td>3</td>\n",
       "      <td>0</td>\n",
       "      <td>0</td>\n",
       "      <td>12</td>\n",
       "      <td>2017</td>\n",
       "      <td>22</td>\n",
       "    </tr>\n",
       "    <tr>\n",
       "      <th>1</th>\n",
       "      <td>1</td>\n",
       "      <td>147</td>\n",
       "      <td>29938</td>\n",
       "      <td>6</td>\n",
       "      <td>0</td>\n",
       "      <td>3</td>\n",
       "      <td>0</td>\n",
       "      <td>0</td>\n",
       "      <td>12</td>\n",
       "      <td>2013</td>\n",
       "      <td>32</td>\n",
       "    </tr>\n",
       "    <tr>\n",
       "      <th>2</th>\n",
       "      <td>2</td>\n",
       "      <td>210</td>\n",
       "      <td>87501</td>\n",
       "      <td>2</td>\n",
       "      <td>0</td>\n",
       "      <td>3</td>\n",
       "      <td>0</td>\n",
       "      <td>0</td>\n",
       "      <td>3</td>\n",
       "      <td>2012</td>\n",
       "      <td>22</td>\n",
       "    </tr>\n",
       "    <tr>\n",
       "      <th>3</th>\n",
       "      <td>3</td>\n",
       "      <td>4</td>\n",
       "      <td>180894</td>\n",
       "      <td>2</td>\n",
       "      <td>1</td>\n",
       "      <td>2</td>\n",
       "      <td>0</td>\n",
       "      <td>0</td>\n",
       "      <td>17</td>\n",
       "      <td>2001</td>\n",
       "      <td>13</td>\n",
       "    </tr>\n",
       "    <tr>\n",
       "      <th>4</th>\n",
       "      <td>4</td>\n",
       "      <td>63</td>\n",
       "      <td>104814</td>\n",
       "      <td>2</td>\n",
       "      <td>0</td>\n",
       "      <td>3</td>\n",
       "      <td>0</td>\n",
       "      <td>0</td>\n",
       "      <td>12</td>\n",
       "      <td>2000</td>\n",
       "      <td>13</td>\n",
       "    </tr>\n",
       "  </tbody>\n",
       "</table>\n",
       "</div>"
      ],
      "text/plain": [
       "   id  title  odometer  location  isimported  engine  transmission  fuel  \\\n",
       "0   0    238      1234         6           2       3             0     0   \n",
       "1   1    147     29938         6           0       3             0     0   \n",
       "2   2    210     87501         2           0       3             0     0   \n",
       "3   3      4    180894         2           1       2             0     0   \n",
       "4   4     63    104814         2           0       3             0     0   \n",
       "\n",
       "   paint  year  brand  \n",
       "0     12  2017     22  \n",
       "1     12  2013     32  \n",
       "2      3  2012     22  \n",
       "3     17  2001     13  \n",
       "4     12  2000     13  "
      ]
     },
     "metadata": {},
     "output_type": "display_data"
    },
    {
     "name": "stdout",
     "output_type": "stream",
     "text": [
      "<class 'pandas.core.frame.DataFrame'>\n",
      "RangeIndex: 436 entries, 0 to 435\n",
      "Data columns (total 11 columns):\n",
      " #   Column        Non-Null Count  Dtype\n",
      "---  ------        --------------  -----\n",
      " 0   id            436 non-null    int64\n",
      " 1   title         436 non-null    int64\n",
      " 2   odometer      436 non-null    int64\n",
      " 3   location      436 non-null    int64\n",
      " 4   isimported    436 non-null    int64\n",
      " 5   engine        436 non-null    int64\n",
      " 6   transmission  436 non-null    int64\n",
      " 7   fuel          436 non-null    int64\n",
      " 8   paint         436 non-null    int64\n",
      " 9   year          436 non-null    int64\n",
      " 10  brand         436 non-null    int64\n",
      "dtypes: int64(11)\n",
      "memory usage: 37.6 KB\n"
     ]
    }
   ],
   "source": [
    "display(test.head())\n",
    "test.info()"
   ]
  },
  {
   "cell_type": "code",
   "execution_count": null,
   "id": "3ab1ea93",
   "metadata": {},
   "outputs": [],
   "source": []
  },
  {
   "cell_type": "code",
   "execution_count": 88,
   "id": "a528effb",
   "metadata": {},
   "outputs": [
    {
     "data": {
      "text/plain": [
       "1015"
      ]
     },
     "execution_count": 88,
     "metadata": {},
     "output_type": "execute_result"
    }
   ],
   "source": [
    "len(train)"
   ]
  },
  {
   "cell_type": "markdown",
   "id": "e24ef05d",
   "metadata": {},
   "source": [
    "## 모델 사용"
   ]
  },
  {
   "cell_type": "code",
   "execution_count": 89,
   "id": "2d1d1834",
   "metadata": {},
   "outputs": [],
   "source": [
    "from sklearn.linear_model import SGDRegressor\n",
    "\n",
    "model = SGDRegressor(max_iter=100, verbose=1)"
   ]
  },
  {
   "cell_type": "code",
   "execution_count": 90,
   "id": "53609454",
   "metadata": {},
   "outputs": [],
   "source": [
    "\n",
    "train_X = train.drop(['id', 'target'], axis = 1)\n",
    "train_y = train.target\n",
    "\n",
    "test_X = test.drop(['id'], axis = 1)"
   ]
  },
  {
   "cell_type": "code",
   "execution_count": 92,
   "id": "b1a50c29",
   "metadata": {},
   "outputs": [
    {
     "data": {
      "image/png": "[encoded data removed]",
      "text/plain": [
       "<Figure size 432x288 with 1 Axes>"
      ]
     },
     "metadata": {
      "needs_background": "light"
     },
     "output_type": "display_data"
    }
   ],
   "source": [
    "import sys\n",
    "import io\n",
    "import matplotlib.pyplot as plt\n",
    "import numpy as np\n",
    "\n",
    "sys.stdout = io.StringIO()\n",
    "\n",
    "model.fit(train_X, train_y)\n",
    "\n",
    "loss_history = sys.stdout.getvalue()\n",
    "\n",
    "loss_list = []\n",
    "for line in loss_history.split('\\n'):\n",
    "    if(len(line.split(\"loss: \")) == 1):\n",
    "        continue\n",
    "    loss_list.append(float(line.split(\"loss: \")[-1]))\n",
    "\n",
    "plt.figure()\n",
    "plt.plot(np.arange(len(loss_list)), loss_list)\n",
    "plt.xlabel(\"Time in epochs\")\n",
    "plt.ylabel(\"Loss\")\n",
    "plt.show()"
   ]
  },
  {
   "cell_type": "code",
   "execution_count": 93,
   "id": "6a1bf38d",
   "metadata": {},
   "outputs": [],
   "source": [
    "print(\"가중치(계수, 기울기 파라미터 W) :\", model.coef_)\n",
    "print(\"편향(절편 파라미터 b) :\", model.intercept_)\n",
    "\n",
    "print(\"훈련세트 점수: {:.2f}\".format( model.score(train_X, train_y) ))\n",
    "# print(\"테스트세트 점수: {:.2f}\".format( model.score(X_test, y_test) ))"
   ]
  },
  {
   "cell_type": "code",
   "execution_count": 94,
   "id": "e09b89d7",
   "metadata": {},
   "outputs": [],
   "source": [
    "pred = model.predict(test_X)"
   ]
  },
  {
   "cell_type": "code",
   "execution_count": 95,
   "id": "cfb91c51",
   "metadata": {},
   "outputs": [
    {
     "data": {
      "text/html": [
       "<div>\n",
       "<style scoped>\n",
       "    .dataframe tbody tr th:only-of-type {\n",
       "        vertical-align: middle;\n",
       "    }\n",
       "\n",
       "    .dataframe tbody tr th {\n",
       "        vertical-align: top;\n",
       "    }\n",
       "\n",
       "    .dataframe thead th {\n",
       "        text-align: right;\n",
       "    }\n",
       "</style>\n",
       "<table border=\"1\" class=\"dataframe\">\n",
       "  <thead>\n",
       "    <tr style=\"text-align: right;\">\n",
       "      <th></th>\n",
       "      <th>id</th>\n",
       "      <th>target</th>\n",
       "    </tr>\n",
       "  </thead>\n",
       "  <tbody>\n",
       "    <tr>\n",
       "      <th>0</th>\n",
       "      <td>0</td>\n",
       "      <td>-6.052471e+16</td>\n",
       "    </tr>\n",
       "    <tr>\n",
       "      <th>1</th>\n",
       "      <td>1</td>\n",
       "      <td>-1.450289e+18</td>\n",
       "    </tr>\n",
       "    <tr>\n",
       "      <th>2</th>\n",
       "      <td>2</td>\n",
       "      <td>-4.235731e+18</td>\n",
       "    </tr>\n",
       "    <tr>\n",
       "      <th>3</th>\n",
       "      <td>3</td>\n",
       "      <td>-8.757005e+18</td>\n",
       "    </tr>\n",
       "    <tr>\n",
       "      <th>4</th>\n",
       "      <td>4</td>\n",
       "      <td>-5.074600e+18</td>\n",
       "    </tr>\n",
       "    <tr>\n",
       "      <th>...</th>\n",
       "      <td>...</td>\n",
       "      <td>...</td>\n",
       "    </tr>\n",
       "    <tr>\n",
       "      <th>431</th>\n",
       "      <td>431</td>\n",
       "      <td>-3.784414e+18</td>\n",
       "    </tr>\n",
       "    <tr>\n",
       "      <th>432</th>\n",
       "      <td>432</td>\n",
       "      <td>-6.255806e+18</td>\n",
       "    </tr>\n",
       "    <tr>\n",
       "      <th>433</th>\n",
       "      <td>433</td>\n",
       "      <td>-4.886606e+18</td>\n",
       "    </tr>\n",
       "    <tr>\n",
       "      <th>434</th>\n",
       "      <td>434</td>\n",
       "      <td>-3.944033e+18</td>\n",
       "    </tr>\n",
       "    <tr>\n",
       "      <th>435</th>\n",
       "      <td>435</td>\n",
       "      <td>-3.362948e+16</td>\n",
       "    </tr>\n",
       "  </tbody>\n",
       "</table>\n",
       "<p>436 rows × 2 columns</p>\n",
       "</div>"
      ],
      "text/plain": [
       "      id        target\n",
       "0      0 -6.052471e+16\n",
       "1      1 -1.450289e+18\n",
       "2      2 -4.235731e+18\n",
       "3      3 -8.757005e+18\n",
       "4      4 -5.074600e+18\n",
       "..   ...           ...\n",
       "431  431 -3.784414e+18\n",
       "432  432 -6.255806e+18\n",
       "433  433 -4.886606e+18\n",
       "434  434 -3.944033e+18\n",
       "435  435 -3.362948e+16\n",
       "\n",
       "[436 rows x 2 columns]"
      ]
     },
     "execution_count": 95,
     "metadata": {},
     "output_type": "execute_result"
    }
   ],
   "source": [
    "sample_submission = pd.read_csv('./resalecar/dataset/sample_submission.csv')\n",
    "submission = sample_submission.copy()\n",
    "submission.target = pred\n",
    "submission"
   ]
  },
  {
   "cell_type": "code",
   "execution_count": 96,
   "id": "ede6f491",
   "metadata": {},
   "outputs": [],
   "source": [
    "submission.to_csv('./resalecar/submission.csv', index = False)"
   ]
  },
  {
   "cell_type": "code",
   "execution_count": null,
   "id": "f6b6ca0f",
   "metadata": {},
   "outputs": [],
   "source": []
  }
 ],
 "metadata": {
  "kernelspec": {
   "display_name": "Python 3 (ipykernel)",
   "language": "python",
   "name": "python3"
  },
  "language_info": {
   "codemirror_mode": {
    "name": "ipython",
    "version": 3
   },
   "file_extension": ".py",
   "mimetype": "text/x-python",
   "name": "python",
   "nbconvert_exporter": "python",
   "pygments_lexer": "ipython3",
   "version": "3.9.7"
  }
 },
 "nbformat": 4,
 "nbformat_minor": 5
}
