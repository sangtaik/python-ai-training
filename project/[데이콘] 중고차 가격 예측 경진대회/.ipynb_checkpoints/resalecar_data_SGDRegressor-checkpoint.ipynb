{
 "cells": [
  {
   "cell_type": "code",
   "execution_count": 1,
   "id": "2a43f5ab",
   "metadata": {},
   "outputs": [],
   "source": [
    "import pandas as pd\n",
    "import re"
   ]
  },
  {
   "cell_type": "code",
   "execution_count": 2,
   "id": "f24a32c4",
   "metadata": {},
   "outputs": [],
   "source": [
    "train = pd.read_csv('./resalecar/dataset/train.csv')\n",
    "test = pd.read_csv('./resalecar/dataset/test.csv')\n"
   ]
  },
  {
   "cell_type": "code",
   "execution_count": 3,
   "id": "98e3a083",
   "metadata": {},
   "outputs": [
    {
     "data": {
      "text/html": [
       "<div>\n",
       "<style scoped>\n",
       "    .dataframe tbody tr th:only-of-type {\n",
       "        vertical-align: middle;\n",
       "    }\n",
       "\n",
       "    .dataframe tbody tr th {\n",
       "        vertical-align: top;\n",
       "    }\n",
       "\n",
       "    .dataframe thead th {\n",
       "        text-align: right;\n",
       "    }\n",
       "</style>\n",
       "<table border=\"1\" class=\"dataframe\">\n",
       "  <thead>\n",
       "    <tr style=\"text-align: right;\">\n",
       "      <th></th>\n",
       "      <th>id</th>\n",
       "      <th>title</th>\n",
       "      <th>odometer</th>\n",
       "      <th>location</th>\n",
       "      <th>isimported</th>\n",
       "      <th>engine</th>\n",
       "      <th>transmission</th>\n",
       "      <th>fuel</th>\n",
       "      <th>paint</th>\n",
       "      <th>year</th>\n",
       "      <th>target</th>\n",
       "    </tr>\n",
       "  </thead>\n",
       "  <tbody>\n",
       "    <tr>\n",
       "      <th>0</th>\n",
       "      <td>0</td>\n",
       "      <td>Toyota RAV 4</td>\n",
       "      <td>18277</td>\n",
       "      <td>Lagos</td>\n",
       "      <td>Foreign Used</td>\n",
       "      <td>4-cylinder(I4)</td>\n",
       "      <td>automatic</td>\n",
       "      <td>petrol</td>\n",
       "      <td>Red</td>\n",
       "      <td>2016</td>\n",
       "      <td>13665000</td>\n",
       "    </tr>\n",
       "    <tr>\n",
       "      <th>1</th>\n",
       "      <td>1</td>\n",
       "      <td>Toyota Land Cruiser</td>\n",
       "      <td>10</td>\n",
       "      <td>Lagos</td>\n",
       "      <td>New</td>\n",
       "      <td>4-cylinder(I4)</td>\n",
       "      <td>automatic</td>\n",
       "      <td>petrol</td>\n",
       "      <td>Black</td>\n",
       "      <td>2019</td>\n",
       "      <td>33015000</td>\n",
       "    </tr>\n",
       "    <tr>\n",
       "      <th>2</th>\n",
       "      <td>2</td>\n",
       "      <td>Land Rover Range Rover Evoque</td>\n",
       "      <td>83091</td>\n",
       "      <td>Lagos</td>\n",
       "      <td>Foreign Used</td>\n",
       "      <td>6-cylinder(V6)</td>\n",
       "      <td>automatic</td>\n",
       "      <td>petrol</td>\n",
       "      <td>Red</td>\n",
       "      <td>2012</td>\n",
       "      <td>9915000</td>\n",
       "    </tr>\n",
       "    <tr>\n",
       "      <th>3</th>\n",
       "      <td>3</td>\n",
       "      <td>Lexus ES 350</td>\n",
       "      <td>91524</td>\n",
       "      <td>Lagos</td>\n",
       "      <td>Foreign Used</td>\n",
       "      <td>4-cylinder(I4)</td>\n",
       "      <td>automatic</td>\n",
       "      <td>petrol</td>\n",
       "      <td>Gray</td>\n",
       "      <td>2007</td>\n",
       "      <td>3815000</td>\n",
       "    </tr>\n",
       "    <tr>\n",
       "      <th>4</th>\n",
       "      <td>4</td>\n",
       "      <td>Toyota Venza</td>\n",
       "      <td>94177</td>\n",
       "      <td>Lagos</td>\n",
       "      <td>Foreign Used</td>\n",
       "      <td>6-cylinder(V6)</td>\n",
       "      <td>automatic</td>\n",
       "      <td>petrol</td>\n",
       "      <td>Red</td>\n",
       "      <td>2010</td>\n",
       "      <td>7385000</td>\n",
       "    </tr>\n",
       "  </tbody>\n",
       "</table>\n",
       "</div>"
      ],
      "text/plain": [
       "   id                          title  odometer location    isimported  \\\n",
       "0   0                   Toyota RAV 4     18277   Lagos   Foreign Used   \n",
       "1   1            Toyota Land Cruiser        10    Lagos          New    \n",
       "2   2  Land Rover Range Rover Evoque     83091    Lagos  Foreign Used   \n",
       "3   3                   Lexus ES 350     91524    Lagos  Foreign Used   \n",
       "4   4                   Toyota Venza     94177    Lagos  Foreign Used   \n",
       "\n",
       "           engine transmission    fuel  paint  year    target  \n",
       "0  4-cylinder(I4)    automatic  petrol    Red  2016  13665000  \n",
       "1  4-cylinder(I4)    automatic  petrol  Black  2019  33015000  \n",
       "2  6-cylinder(V6)    automatic  petrol    Red  2012   9915000  \n",
       "3  4-cylinder(I4)    automatic  petrol   Gray  2007   3815000  \n",
       "4  6-cylinder(V6)    automatic  petrol    Red  2010   7385000  "
      ]
     },
     "execution_count": 3,
     "metadata": {},
     "output_type": "execute_result"
    }
   ],
   "source": [
    "train.head()"
   ]
  },
  {
   "cell_type": "code",
   "execution_count": 4,
   "id": "3e6bf186",
   "metadata": {},
   "outputs": [
    {
     "data": {
      "text/html": [
       "<div>\n",
       "<style scoped>\n",
       "    .dataframe tbody tr th:only-of-type {\n",
       "        vertical-align: middle;\n",
       "    }\n",
       "\n",
       "    .dataframe tbody tr th {\n",
       "        vertical-align: top;\n",
       "    }\n",
       "\n",
       "    .dataframe thead th {\n",
       "        text-align: right;\n",
       "    }\n",
       "</style>\n",
       "<table border=\"1\" class=\"dataframe\">\n",
       "  <thead>\n",
       "    <tr style=\"text-align: right;\">\n",
       "      <th></th>\n",
       "      <th>id</th>\n",
       "      <th>title</th>\n",
       "      <th>odometer</th>\n",
       "      <th>location</th>\n",
       "      <th>isimported</th>\n",
       "      <th>engine</th>\n",
       "      <th>transmission</th>\n",
       "      <th>fuel</th>\n",
       "      <th>paint</th>\n",
       "      <th>year</th>\n",
       "    </tr>\n",
       "  </thead>\n",
       "  <tbody>\n",
       "    <tr>\n",
       "      <th>0</th>\n",
       "      <td>0</td>\n",
       "      <td>Mercedes-Benz C 300</td>\n",
       "      <td>1234</td>\n",
       "      <td>Abuja</td>\n",
       "      <td>New</td>\n",
       "      <td>4-cylinder(I4)</td>\n",
       "      <td>automatic</td>\n",
       "      <td>petrol</td>\n",
       "      <td>White</td>\n",
       "      <td>2017</td>\n",
       "    </tr>\n",
       "    <tr>\n",
       "      <th>1</th>\n",
       "      <td>1</td>\n",
       "      <td>Honda Accord</td>\n",
       "      <td>29938</td>\n",
       "      <td>Abuja</td>\n",
       "      <td>Foreign Used</td>\n",
       "      <td>4-cylinder(I4)</td>\n",
       "      <td>automatic</td>\n",
       "      <td>petrol</td>\n",
       "      <td>White</td>\n",
       "      <td>2013</td>\n",
       "    </tr>\n",
       "    <tr>\n",
       "      <th>2</th>\n",
       "      <td>2</td>\n",
       "      <td>Mercedes-Benz S 550</td>\n",
       "      <td>87501</td>\n",
       "      <td>Lagos</td>\n",
       "      <td>Foreign Used</td>\n",
       "      <td>4-cylinder(I4)</td>\n",
       "      <td>automatic</td>\n",
       "      <td>petrol</td>\n",
       "      <td>Black</td>\n",
       "      <td>2012</td>\n",
       "    </tr>\n",
       "    <tr>\n",
       "      <th>3</th>\n",
       "      <td>3</td>\n",
       "      <td>Toyota Sienna</td>\n",
       "      <td>180894</td>\n",
       "      <td>Lagos</td>\n",
       "      <td>Locally used</td>\n",
       "      <td>6-cylinder(V6)</td>\n",
       "      <td>automatic</td>\n",
       "      <td>petrol</td>\n",
       "      <td>Dark Grey</td>\n",
       "      <td>2001</td>\n",
       "    </tr>\n",
       "    <tr>\n",
       "      <th>4</th>\n",
       "      <td>4</td>\n",
       "      <td>Toyota Hiace</td>\n",
       "      <td>104814</td>\n",
       "      <td>Lagos</td>\n",
       "      <td>Foreign Used</td>\n",
       "      <td>4-cylinder(I4)</td>\n",
       "      <td>automatic</td>\n",
       "      <td>petrol</td>\n",
       "      <td>White</td>\n",
       "      <td>2000</td>\n",
       "    </tr>\n",
       "  </tbody>\n",
       "</table>\n",
       "</div>"
      ],
      "text/plain": [
       "   id                title  odometer location    isimported          engine  \\\n",
       "0   0  Mercedes-Benz C 300      1234    Abuja          New   4-cylinder(I4)   \n",
       "1   1         Honda Accord     29938    Abuja  Foreign Used  4-cylinder(I4)   \n",
       "2   2  Mercedes-Benz S 550     87501    Lagos  Foreign Used  4-cylinder(I4)   \n",
       "3   3        Toyota Sienna    180894    Lagos  Locally used  6-cylinder(V6)   \n",
       "4   4         Toyota Hiace    104814    Lagos  Foreign Used  4-cylinder(I4)   \n",
       "\n",
       "  transmission    fuel      paint  year  \n",
       "0    automatic  petrol      White  2017  \n",
       "1    automatic  petrol      White  2013  \n",
       "2    automatic  petrol      Black  2012  \n",
       "3    automatic  petrol  Dark Grey  2001  \n",
       "4    automatic  petrol      White  2000  "
      ]
     },
     "execution_count": 4,
     "metadata": {},
     "output_type": "execute_result"
    }
   ],
   "source": [
    "test.head()"
   ]
  },
  {
   "cell_type": "code",
   "execution_count": 5,
   "id": "75da9f23",
   "metadata": {},
   "outputs": [],
   "source": [
    "# sorted(train.title.unique())"
   ]
  },
  {
   "cell_type": "code",
   "execution_count": 6,
   "id": "536a8b6f",
   "metadata": {},
   "outputs": [],
   "source": [
    "# sorted(test.title.unique())"
   ]
  },
  {
   "cell_type": "code",
   "execution_count": 7,
   "id": "7616f4c9",
   "metadata": {},
   "outputs": [],
   "source": [
    "only_train_data_title = set(train.title.unique())-set(test.title.unique())\n",
    "only_test_data_title = set(test.title.unique())-set(train.title.unique())"
   ]
  },
  {
   "cell_type": "code",
   "execution_count": 8,
   "id": "1d5a3a5b",
   "metadata": {},
   "outputs": [
    {
     "data": {
      "text/plain": [
       "'train에만 있는 차종류 개수 : 116, test에만 있는 차종류 개수 : 37'"
      ]
     },
     "execution_count": 8,
     "metadata": {},
     "output_type": "execute_result"
    }
   ],
   "source": [
    "'train에만 있는 차종류 개수 : {}, test에만 있는 차종류 개수 : {}'.format(len(only_train_data_title), len(only_test_data_title))"
   ]
  },
  {
   "cell_type": "code",
   "execution_count": 9,
   "id": "e3aea72b",
   "metadata": {},
   "outputs": [],
   "source": [
    "# only_train_data_title"
   ]
  },
  {
   "cell_type": "code",
   "execution_count": 10,
   "id": "cd48c578",
   "metadata": {},
   "outputs": [],
   "source": [
    "# only_test_data_title"
   ]
  },
  {
   "cell_type": "code",
   "execution_count": 11,
   "id": "8f8b23f8",
   "metadata": {},
   "outputs": [
    {
     "data": {
      "text/plain": [
       "0       Toyota\n",
       "1       Toyota\n",
       "2         Land\n",
       "3        Lexus\n",
       "4       Toyota\n",
       "         ...  \n",
       "1010    Toyota\n",
       "1011    Toyota\n",
       "1012    Toyota\n",
       "1013     Lexus\n",
       "1014       DAF\n",
       "Name: title, Length: 1015, dtype: object"
      ]
     },
     "execution_count": 11,
     "metadata": {},
     "output_type": "execute_result"
    }
   ],
   "source": [
    "train['title'].apply(lambda x : x.split(\" \")[0])"
   ]
  },
  {
   "cell_type": "code",
   "execution_count": 12,
   "id": "e4ce1855",
   "metadata": {},
   "outputs": [
    {
     "data": {
      "text/html": [
       "<div>\n",
       "<style scoped>\n",
       "    .dataframe tbody tr th:only-of-type {\n",
       "        vertical-align: middle;\n",
       "    }\n",
       "\n",
       "    .dataframe tbody tr th {\n",
       "        vertical-align: top;\n",
       "    }\n",
       "\n",
       "    .dataframe thead th {\n",
       "        text-align: right;\n",
       "    }\n",
       "</style>\n",
       "<table border=\"1\" class=\"dataframe\">\n",
       "  <thead>\n",
       "    <tr style=\"text-align: right;\">\n",
       "      <th></th>\n",
       "      <th>id</th>\n",
       "      <th>title</th>\n",
       "      <th>odometer</th>\n",
       "      <th>location</th>\n",
       "      <th>isimported</th>\n",
       "      <th>engine</th>\n",
       "      <th>transmission</th>\n",
       "      <th>fuel</th>\n",
       "      <th>paint</th>\n",
       "      <th>year</th>\n",
       "      <th>target</th>\n",
       "      <th>brand</th>\n",
       "    </tr>\n",
       "  </thead>\n",
       "  <tbody>\n",
       "    <tr>\n",
       "      <th>0</th>\n",
       "      <td>0</td>\n",
       "      <td>Toyota RAV 4</td>\n",
       "      <td>18277</td>\n",
       "      <td>Lagos</td>\n",
       "      <td>Foreign Used</td>\n",
       "      <td>4-cylinder(I4)</td>\n",
       "      <td>automatic</td>\n",
       "      <td>petrol</td>\n",
       "      <td>Red</td>\n",
       "      <td>2016</td>\n",
       "      <td>13665000</td>\n",
       "      <td>Toyota</td>\n",
       "    </tr>\n",
       "    <tr>\n",
       "      <th>1</th>\n",
       "      <td>1</td>\n",
       "      <td>Toyota Land Cruiser</td>\n",
       "      <td>10</td>\n",
       "      <td>Lagos</td>\n",
       "      <td>New</td>\n",
       "      <td>4-cylinder(I4)</td>\n",
       "      <td>automatic</td>\n",
       "      <td>petrol</td>\n",
       "      <td>Black</td>\n",
       "      <td>2019</td>\n",
       "      <td>33015000</td>\n",
       "      <td>Toyota</td>\n",
       "    </tr>\n",
       "    <tr>\n",
       "      <th>2</th>\n",
       "      <td>2</td>\n",
       "      <td>Land Rover Range Rover Evoque</td>\n",
       "      <td>83091</td>\n",
       "      <td>Lagos</td>\n",
       "      <td>Foreign Used</td>\n",
       "      <td>6-cylinder(V6)</td>\n",
       "      <td>automatic</td>\n",
       "      <td>petrol</td>\n",
       "      <td>Red</td>\n",
       "      <td>2012</td>\n",
       "      <td>9915000</td>\n",
       "      <td>Land</td>\n",
       "    </tr>\n",
       "    <tr>\n",
       "      <th>3</th>\n",
       "      <td>3</td>\n",
       "      <td>Lexus ES 350</td>\n",
       "      <td>91524</td>\n",
       "      <td>Lagos</td>\n",
       "      <td>Foreign Used</td>\n",
       "      <td>4-cylinder(I4)</td>\n",
       "      <td>automatic</td>\n",
       "      <td>petrol</td>\n",
       "      <td>Gray</td>\n",
       "      <td>2007</td>\n",
       "      <td>3815000</td>\n",
       "      <td>Lexus</td>\n",
       "    </tr>\n",
       "    <tr>\n",
       "      <th>4</th>\n",
       "      <td>4</td>\n",
       "      <td>Toyota Venza</td>\n",
       "      <td>94177</td>\n",
       "      <td>Lagos</td>\n",
       "      <td>Foreign Used</td>\n",
       "      <td>6-cylinder(V6)</td>\n",
       "      <td>automatic</td>\n",
       "      <td>petrol</td>\n",
       "      <td>Red</td>\n",
       "      <td>2010</td>\n",
       "      <td>7385000</td>\n",
       "      <td>Toyota</td>\n",
       "    </tr>\n",
       "  </tbody>\n",
       "</table>\n",
       "</div>"
      ],
      "text/plain": [
       "   id                          title  odometer location    isimported  \\\n",
       "0   0                   Toyota RAV 4     18277   Lagos   Foreign Used   \n",
       "1   1            Toyota Land Cruiser        10    Lagos          New    \n",
       "2   2  Land Rover Range Rover Evoque     83091    Lagos  Foreign Used   \n",
       "3   3                   Lexus ES 350     91524    Lagos  Foreign Used   \n",
       "4   4                   Toyota Venza     94177    Lagos  Foreign Used   \n",
       "\n",
       "           engine transmission    fuel  paint  year    target   brand  \n",
       "0  4-cylinder(I4)    automatic  petrol    Red  2016  13665000  Toyota  \n",
       "1  4-cylinder(I4)    automatic  petrol  Black  2019  33015000  Toyota  \n",
       "2  6-cylinder(V6)    automatic  petrol    Red  2012   9915000    Land  \n",
       "3  4-cylinder(I4)    automatic  petrol   Gray  2007   3815000   Lexus  \n",
       "4  6-cylinder(V6)    automatic  petrol    Red  2010   7385000  Toyota  "
      ]
     },
     "execution_count": 12,
     "metadata": {},
     "output_type": "execute_result"
    }
   ],
   "source": [
    "train['brand'] = train['title'].apply(lambda x : x.split(\" \")[0])\n",
    "train.head()"
   ]
  },
  {
   "cell_type": "code",
   "execution_count": 13,
   "id": "78dcecfc",
   "metadata": {},
   "outputs": [],
   "source": [
    "train.replace({'brand' : {'Land' : 'Land Rover'}}, inplace = True)"
   ]
  },
  {
   "cell_type": "code",
   "execution_count": 14,
   "id": "9065d571",
   "metadata": {},
   "outputs": [
    {
     "data": {
      "text/html": [
       "<div>\n",
       "<style scoped>\n",
       "    .dataframe tbody tr th:only-of-type {\n",
       "        vertical-align: middle;\n",
       "    }\n",
       "\n",
       "    .dataframe tbody tr th {\n",
       "        vertical-align: top;\n",
       "    }\n",
       "\n",
       "    .dataframe thead th {\n",
       "        text-align: right;\n",
       "    }\n",
       "</style>\n",
       "<table border=\"1\" class=\"dataframe\">\n",
       "  <thead>\n",
       "    <tr style=\"text-align: right;\">\n",
       "      <th></th>\n",
       "      <th>id</th>\n",
       "      <th>title</th>\n",
       "      <th>odometer</th>\n",
       "      <th>location</th>\n",
       "      <th>isimported</th>\n",
       "      <th>engine</th>\n",
       "      <th>transmission</th>\n",
       "      <th>fuel</th>\n",
       "      <th>paint</th>\n",
       "      <th>year</th>\n",
       "      <th>target</th>\n",
       "      <th>brand</th>\n",
       "    </tr>\n",
       "  </thead>\n",
       "  <tbody>\n",
       "    <tr>\n",
       "      <th>0</th>\n",
       "      <td>0</td>\n",
       "      <td>Toyota RAV 4</td>\n",
       "      <td>18277</td>\n",
       "      <td>Lagos</td>\n",
       "      <td>Foreign Used</td>\n",
       "      <td>4-cylinder(I4)</td>\n",
       "      <td>automatic</td>\n",
       "      <td>petrol</td>\n",
       "      <td>Red</td>\n",
       "      <td>2016</td>\n",
       "      <td>13665000</td>\n",
       "      <td>Toyota</td>\n",
       "    </tr>\n",
       "    <tr>\n",
       "      <th>1</th>\n",
       "      <td>1</td>\n",
       "      <td>Toyota Land Cruiser</td>\n",
       "      <td>10</td>\n",
       "      <td>Lagos</td>\n",
       "      <td>New</td>\n",
       "      <td>4-cylinder(I4)</td>\n",
       "      <td>automatic</td>\n",
       "      <td>petrol</td>\n",
       "      <td>Black</td>\n",
       "      <td>2019</td>\n",
       "      <td>33015000</td>\n",
       "      <td>Toyota</td>\n",
       "    </tr>\n",
       "    <tr>\n",
       "      <th>2</th>\n",
       "      <td>2</td>\n",
       "      <td>Land Rover Range Rover Evoque</td>\n",
       "      <td>83091</td>\n",
       "      <td>Lagos</td>\n",
       "      <td>Foreign Used</td>\n",
       "      <td>6-cylinder(V6)</td>\n",
       "      <td>automatic</td>\n",
       "      <td>petrol</td>\n",
       "      <td>Red</td>\n",
       "      <td>2012</td>\n",
       "      <td>9915000</td>\n",
       "      <td>Land Rover</td>\n",
       "    </tr>\n",
       "    <tr>\n",
       "      <th>3</th>\n",
       "      <td>3</td>\n",
       "      <td>Lexus ES 350</td>\n",
       "      <td>91524</td>\n",
       "      <td>Lagos</td>\n",
       "      <td>Foreign Used</td>\n",
       "      <td>4-cylinder(I4)</td>\n",
       "      <td>automatic</td>\n",
       "      <td>petrol</td>\n",
       "      <td>Gray</td>\n",
       "      <td>2007</td>\n",
       "      <td>3815000</td>\n",
       "      <td>Lexus</td>\n",
       "    </tr>\n",
       "    <tr>\n",
       "      <th>4</th>\n",
       "      <td>4</td>\n",
       "      <td>Toyota Venza</td>\n",
       "      <td>94177</td>\n",
       "      <td>Lagos</td>\n",
       "      <td>Foreign Used</td>\n",
       "      <td>6-cylinder(V6)</td>\n",
       "      <td>automatic</td>\n",
       "      <td>petrol</td>\n",
       "      <td>Red</td>\n",
       "      <td>2010</td>\n",
       "      <td>7385000</td>\n",
       "      <td>Toyota</td>\n",
       "    </tr>\n",
       "  </tbody>\n",
       "</table>\n",
       "</div>"
      ],
      "text/plain": [
       "   id                          title  odometer location    isimported  \\\n",
       "0   0                   Toyota RAV 4     18277   Lagos   Foreign Used   \n",
       "1   1            Toyota Land Cruiser        10    Lagos          New    \n",
       "2   2  Land Rover Range Rover Evoque     83091    Lagos  Foreign Used   \n",
       "3   3                   Lexus ES 350     91524    Lagos  Foreign Used   \n",
       "4   4                   Toyota Venza     94177    Lagos  Foreign Used   \n",
       "\n",
       "           engine transmission    fuel  paint  year    target       brand  \n",
       "0  4-cylinder(I4)    automatic  petrol    Red  2016  13665000      Toyota  \n",
       "1  4-cylinder(I4)    automatic  petrol  Black  2019  33015000      Toyota  \n",
       "2  6-cylinder(V6)    automatic  petrol    Red  2012   9915000  Land Rover  \n",
       "3  4-cylinder(I4)    automatic  petrol   Gray  2007   3815000       Lexus  \n",
       "4  6-cylinder(V6)    automatic  petrol    Red  2010   7385000      Toyota  "
      ]
     },
     "execution_count": 14,
     "metadata": {},
     "output_type": "execute_result"
    }
   ],
   "source": [
    "train.head()"
   ]
  },
  {
   "cell_type": "code",
   "execution_count": 15,
   "id": "ded7e312",
   "metadata": {},
   "outputs": [
    {
     "data": {
      "text/plain": [
       "42"
      ]
     },
     "execution_count": 15,
     "metadata": {},
     "output_type": "execute_result"
    }
   ],
   "source": [
    "len(train['brand'].unique())"
   ]
  },
  {
   "cell_type": "code",
   "execution_count": 16,
   "id": "ff978aa7",
   "metadata": {},
   "outputs": [],
   "source": [
    "train['brand'] = train['brand'].replace({'Mercedes-Benz/52' : 'Mercedes-Benz'})"
   ]
  },
  {
   "cell_type": "code",
   "execution_count": 17,
   "id": "dbc37a89",
   "metadata": {},
   "outputs": [
    {
     "name": "stdout",
     "output_type": "stream",
     "text": [
      "41\n",
      "['ALPINA', 'Acura', 'Audi', 'BMW', 'Bentley', 'Chevrolet', 'DAF', 'Dodge', 'Ford', 'GAC', 'GMC', 'Honda', 'Hyundai', 'IVECO', 'IVM', 'Infiniti', 'Isuzu', 'Iveco', 'JMC', 'Jaguar', 'Jeep', 'Kia', 'Land Rover', 'Lexus', 'Lincoln', 'MAN-VOLKSWAGEN', 'MINI', 'Mack', 'Man', 'Mazda', 'Mercedes-Benz', 'Mitsubishi', 'Nissan', 'Peugeot', 'Pontiac', 'Porsche', 'Rolls-Royce', 'Scania', 'Toyota', 'Volkswagen', 'Volvo']\n"
     ]
    }
   ],
   "source": [
    "# 브랜드에서 이상한 오타는 없음.\n",
    "print(len(train['brand'].unique()))\n",
    "print(sorted(train['brand'].unique()))"
   ]
  },
  {
   "cell_type": "code",
   "execution_count": 18,
   "id": "2002fd5f",
   "metadata": {},
   "outputs": [
    {
     "data": {
      "text/html": [
       "<div>\n",
       "<style scoped>\n",
       "    .dataframe tbody tr th:only-of-type {\n",
       "        vertical-align: middle;\n",
       "    }\n",
       "\n",
       "    .dataframe tbody tr th {\n",
       "        vertical-align: top;\n",
       "    }\n",
       "\n",
       "    .dataframe thead th {\n",
       "        text-align: right;\n",
       "    }\n",
       "</style>\n",
       "<table border=\"1\" class=\"dataframe\">\n",
       "  <thead>\n",
       "    <tr style=\"text-align: right;\">\n",
       "      <th></th>\n",
       "      <th>id</th>\n",
       "      <th>title</th>\n",
       "      <th>odometer</th>\n",
       "      <th>location</th>\n",
       "      <th>isimported</th>\n",
       "      <th>engine</th>\n",
       "      <th>transmission</th>\n",
       "      <th>fuel</th>\n",
       "      <th>paint</th>\n",
       "      <th>year</th>\n",
       "      <th>brand</th>\n",
       "    </tr>\n",
       "  </thead>\n",
       "  <tbody>\n",
       "    <tr>\n",
       "      <th>0</th>\n",
       "      <td>0</td>\n",
       "      <td>Mercedes-Benz C 300</td>\n",
       "      <td>1234</td>\n",
       "      <td>Abuja</td>\n",
       "      <td>New</td>\n",
       "      <td>4-cylinder(I4)</td>\n",
       "      <td>automatic</td>\n",
       "      <td>petrol</td>\n",
       "      <td>White</td>\n",
       "      <td>2017</td>\n",
       "      <td>Mercedes-Benz</td>\n",
       "    </tr>\n",
       "    <tr>\n",
       "      <th>1</th>\n",
       "      <td>1</td>\n",
       "      <td>Honda Accord</td>\n",
       "      <td>29938</td>\n",
       "      <td>Abuja</td>\n",
       "      <td>Foreign Used</td>\n",
       "      <td>4-cylinder(I4)</td>\n",
       "      <td>automatic</td>\n",
       "      <td>petrol</td>\n",
       "      <td>White</td>\n",
       "      <td>2013</td>\n",
       "      <td>Honda</td>\n",
       "    </tr>\n",
       "    <tr>\n",
       "      <th>2</th>\n",
       "      <td>2</td>\n",
       "      <td>Mercedes-Benz S 550</td>\n",
       "      <td>87501</td>\n",
       "      <td>Lagos</td>\n",
       "      <td>Foreign Used</td>\n",
       "      <td>4-cylinder(I4)</td>\n",
       "      <td>automatic</td>\n",
       "      <td>petrol</td>\n",
       "      <td>Black</td>\n",
       "      <td>2012</td>\n",
       "      <td>Mercedes-Benz</td>\n",
       "    </tr>\n",
       "    <tr>\n",
       "      <th>3</th>\n",
       "      <td>3</td>\n",
       "      <td>Toyota Sienna</td>\n",
       "      <td>180894</td>\n",
       "      <td>Lagos</td>\n",
       "      <td>Locally used</td>\n",
       "      <td>6-cylinder(V6)</td>\n",
       "      <td>automatic</td>\n",
       "      <td>petrol</td>\n",
       "      <td>Dark Grey</td>\n",
       "      <td>2001</td>\n",
       "      <td>Toyota</td>\n",
       "    </tr>\n",
       "    <tr>\n",
       "      <th>4</th>\n",
       "      <td>4</td>\n",
       "      <td>Toyota Hiace</td>\n",
       "      <td>104814</td>\n",
       "      <td>Lagos</td>\n",
       "      <td>Foreign Used</td>\n",
       "      <td>4-cylinder(I4)</td>\n",
       "      <td>automatic</td>\n",
       "      <td>petrol</td>\n",
       "      <td>White</td>\n",
       "      <td>2000</td>\n",
       "      <td>Toyota</td>\n",
       "    </tr>\n",
       "  </tbody>\n",
       "</table>\n",
       "</div>"
      ],
      "text/plain": [
       "   id                title  odometer location    isimported          engine  \\\n",
       "0   0  Mercedes-Benz C 300      1234    Abuja          New   4-cylinder(I4)   \n",
       "1   1         Honda Accord     29938    Abuja  Foreign Used  4-cylinder(I4)   \n",
       "2   2  Mercedes-Benz S 550     87501    Lagos  Foreign Used  4-cylinder(I4)   \n",
       "3   3        Toyota Sienna    180894    Lagos  Locally used  6-cylinder(V6)   \n",
       "4   4         Toyota Hiace    104814    Lagos  Foreign Used  4-cylinder(I4)   \n",
       "\n",
       "  transmission    fuel      paint  year          brand  \n",
       "0    automatic  petrol      White  2017  Mercedes-Benz  \n",
       "1    automatic  petrol      White  2013          Honda  \n",
       "2    automatic  petrol      Black  2012  Mercedes-Benz  \n",
       "3    automatic  petrol  Dark Grey  2001         Toyota  \n",
       "4    automatic  petrol      White  2000         Toyota  "
      ]
     },
     "execution_count": 18,
     "metadata": {},
     "output_type": "execute_result"
    }
   ],
   "source": [
    "test['brand'] = test['title'].apply(lambda x: x.split(\" \")[0])\n",
    "test.head()"
   ]
  },
  {
   "cell_type": "code",
   "execution_count": 19,
   "id": "aaa816c5",
   "metadata": {
    "scrolled": true
   },
   "outputs": [
    {
     "data": {
      "text/plain": [
       "array(['Mercedes-Benz', 'Honda', 'Toyota', 'Iveco', 'Lexus', 'Nissan',\n",
       "       'Volkswagen', 'Jeep', 'Ford', 'BMW', 'Mack', 'Land', 'Hyundai',\n",
       "       'Peugeot', 'Volvo', 'Infiniti', 'Acura', 'Man', 'Fiat', 'MINI',\n",
       "       'DAF', 'Mazda', 'Porsche', 'Mitsubishi', 'Chevrolet', 'Kia',\n",
       "       'Pontiac', 'Rolls-Royce'], dtype=object)"
      ]
     },
     "execution_count": 19,
     "metadata": {},
     "output_type": "execute_result"
    }
   ],
   "source": [
    "test['brand'].unique()"
   ]
  },
  {
   "cell_type": "code",
   "execution_count": 20,
   "id": "8d9bbea0",
   "metadata": {},
   "outputs": [],
   "source": [
    "test.replace({'brand' : {'Land' : 'Land Rover'}}, inplace = True)"
   ]
  },
  {
   "cell_type": "code",
   "execution_count": 21,
   "id": "91873d41",
   "metadata": {},
   "outputs": [
    {
     "data": {
      "text/plain": [
       "['Acura',\n",
       " 'BMW',\n",
       " 'Chevrolet',\n",
       " 'DAF',\n",
       " 'Fiat',\n",
       " 'Ford',\n",
       " 'Honda',\n",
       " 'Hyundai',\n",
       " 'Infiniti',\n",
       " 'Iveco',\n",
       " 'Jeep',\n",
       " 'Kia',\n",
       " 'Land Rover',\n",
       " 'Lexus',\n",
       " 'MINI',\n",
       " 'Mack',\n",
       " 'Man',\n",
       " 'Mazda',\n",
       " 'Mercedes-Benz',\n",
       " 'Mitsubishi',\n",
       " 'Nissan',\n",
       " 'Peugeot',\n",
       " 'Pontiac',\n",
       " 'Porsche',\n",
       " 'Rolls-Royce',\n",
       " 'Toyota',\n",
       " 'Volkswagen',\n",
       " 'Volvo']"
      ]
     },
     "execution_count": 21,
     "metadata": {},
     "output_type": "execute_result"
    }
   ],
   "source": [
    "sorted(test['brand'].unique())"
   ]
  },
  {
   "cell_type": "code",
   "execution_count": 22,
   "id": "1c1afaf6",
   "metadata": {},
   "outputs": [
    {
     "name": "stdout",
     "output_type": "stream",
     "text": [
      "41\n",
      "28\n",
      "False\n"
     ]
    }
   ],
   "source": [
    "# train이나 test의 종류는 모두 같지 않다.\n",
    "print(len(train['brand'].unique()))\n",
    "print(len(test['brand'].unique()))\n",
    "print(sorted(train['brand'].unique()) == sorted(test['brand'].unique()))"
   ]
  },
  {
   "cell_type": "code",
   "execution_count": 23,
   "id": "40a8dfa7",
   "metadata": {},
   "outputs": [
    {
     "name": "stdout",
     "output_type": "stream",
     "text": [
      "['Fiat']\n",
      "['Jaguar', 'Lincoln', 'Isuzu', 'IVM', 'Dodge', 'GMC', 'Scania', 'GAC', 'IVECO', 'MAN-VOLKSWAGEN', 'ALPINA', 'Bentley', 'JMC', 'Audi']\n"
     ]
    }
   ],
   "source": [
    "# train에 없는데, test에 있는 brand\n",
    "s = train['brand'].unique()\n",
    "temp3 = [x for x in test['brand'].unique() if x not in s] #순서 보존됨\n",
    "print(temp3)\n",
    "\n",
    "# test 없는데, train 있는 brand\n",
    "s = test['brand'].unique()\n",
    "temp3 = [x for x in train['brand'].unique() if x not in s] #순서 보존됨\n",
    "print(temp3)"
   ]
  },
  {
   "cell_type": "code",
   "execution_count": 24,
   "id": "5530b1f5",
   "metadata": {},
   "outputs": [
    {
     "data": {
      "text/plain": [
       "['Abia',\n",
       " 'Abia State',\n",
       " 'Abuja',\n",
       " 'Abuja ',\n",
       " 'Accra',\n",
       " 'Adamawa ',\n",
       " 'FCT',\n",
       " 'Lagos',\n",
       " 'Lagos ',\n",
       " 'Lagos State',\n",
       " 'Ogun',\n",
       " 'Ogun State',\n",
       " 'other']"
      ]
     },
     "execution_count": 24,
     "metadata": {},
     "output_type": "execute_result"
    }
   ],
   "source": [
    "sorted(train.location.unique())"
   ]
  },
  {
   "cell_type": "code",
   "execution_count": 25,
   "id": "92b3b189",
   "metadata": {},
   "outputs": [],
   "source": [
    "# sorted(test.location.unique())"
   ]
  },
  {
   "cell_type": "code",
   "execution_count": 26,
   "id": "9fa712f8",
   "metadata": {},
   "outputs": [],
   "source": [
    "train['location'] = train['location'].str.replace(\" State\",\"\")"
   ]
  },
  {
   "cell_type": "code",
   "execution_count": 27,
   "id": "b558e311",
   "metadata": {},
   "outputs": [],
   "source": [
    "train['location'] = train['location'].str.rstrip()"
   ]
  },
  {
   "cell_type": "code",
   "execution_count": 28,
   "id": "af712eac",
   "metadata": {},
   "outputs": [
    {
     "data": {
      "text/plain": [
       "['Abia', 'Abuja', 'Accra', 'Adamawa', 'FCT', 'Lagos', 'Ogun', 'other']"
      ]
     },
     "execution_count": 28,
     "metadata": {},
     "output_type": "execute_result"
    }
   ],
   "source": [
    "sorted(train.location.unique())"
   ]
  },
  {
   "cell_type": "code",
   "execution_count": 29,
   "id": "6d277131",
   "metadata": {},
   "outputs": [],
   "source": [
    "test['location'] = test['location'].str.replace(\" State\",\"\")\n",
    "test['location'] = test['location'].str.replace(\" state\",\"\")\n",
    "test['location'] = test['location'].str.replace('Arepo ogun','Ogun')\n",
    "test['location'] = test['location'].str.rstrip()"
   ]
  },
  {
   "cell_type": "code",
   "execution_count": 30,
   "id": "f0333bf8",
   "metadata": {},
   "outputs": [
    {
     "data": {
      "text/plain": [
       "['Abia', 'Abuja', 'Lagos', 'Mushin', 'Ogun', 'other']"
      ]
     },
     "execution_count": 30,
     "metadata": {},
     "output_type": "execute_result"
    }
   ],
   "source": [
    "sorted(test['location'].unique())"
   ]
  },
  {
   "cell_type": "code",
   "execution_count": 31,
   "id": "b431579a",
   "metadata": {},
   "outputs": [
    {
     "data": {
      "text/plain": [
       "['Foreign Used', 'Locally used', 'New ']"
      ]
     },
     "execution_count": 31,
     "metadata": {},
     "output_type": "execute_result"
    }
   ],
   "source": [
    "sorted(train.isimported.unique())"
   ]
  },
  {
   "cell_type": "code",
   "execution_count": 32,
   "id": "eb8ca900",
   "metadata": {},
   "outputs": [
    {
     "data": {
      "text/plain": [
       "['Foreign Used', 'Locally used', 'New ']"
      ]
     },
     "execution_count": 32,
     "metadata": {},
     "output_type": "execute_result"
    }
   ],
   "source": [
    "sorted(test.isimported.unique())"
   ]
  },
  {
   "cell_type": "code",
   "execution_count": 33,
   "id": "15da391a",
   "metadata": {},
   "outputs": [
    {
     "data": {
      "text/plain": [
       "['2-cylinder(I2)',\n",
       " '3-cylinder(I3)',\n",
       " '4-cylinder(H4)',\n",
       " '4-cylinder(I4)',\n",
       " '5-cylinder(I5)',\n",
       " '6-cylinder(I6)',\n",
       " '6-cylinder(V6)',\n",
       " '8-cylinder(V8)']"
      ]
     },
     "execution_count": 33,
     "metadata": {},
     "output_type": "execute_result"
    }
   ],
   "source": [
    "sorted(train.engine.unique())"
   ]
  },
  {
   "cell_type": "code",
   "execution_count": 34,
   "id": "84c3238d",
   "metadata": {},
   "outputs": [
    {
     "data": {
      "text/plain": [
       "['12-cylinder(V12)',\n",
       " '2-cylinder(I2)',\n",
       " '3-cylinder(I3)',\n",
       " '4-cylinder(I4)',\n",
       " '5-cylinder(I5)',\n",
       " '6-cylinder(I6)',\n",
       " '6-cylinder(V6)',\n",
       " '8-cylinder(V8)']"
      ]
     },
     "execution_count": 34,
     "metadata": {},
     "output_type": "execute_result"
    }
   ],
   "source": [
    "sorted(test.engine.unique())"
   ]
  },
  {
   "cell_type": "code",
   "execution_count": 35,
   "id": "6c3bf182",
   "metadata": {},
   "outputs": [
    {
     "data": {
      "text/plain": [
       "array(['automatic', 'manual'], dtype=object)"
      ]
     },
     "execution_count": 35,
     "metadata": {},
     "output_type": "execute_result"
    }
   ],
   "source": [
    "train.transmission.unique()"
   ]
  },
  {
   "cell_type": "code",
   "execution_count": 36,
   "id": "eaf1b38b",
   "metadata": {},
   "outputs": [
    {
     "data": {
      "text/plain": [
       "array(['automatic', 'manual'], dtype=object)"
      ]
     },
     "execution_count": 36,
     "metadata": {},
     "output_type": "execute_result"
    }
   ],
   "source": [
    "test.transmission.unique()"
   ]
  },
  {
   "cell_type": "code",
   "execution_count": 37,
   "id": "561a7344",
   "metadata": {},
   "outputs": [
    {
     "data": {
      "text/plain": [
       "array(['petrol', 'diesel'], dtype=object)"
      ]
     },
     "execution_count": 37,
     "metadata": {},
     "output_type": "execute_result"
    }
   ],
   "source": [
    "train.fuel.unique()"
   ]
  },
  {
   "cell_type": "code",
   "execution_count": 38,
   "id": "9187fc20",
   "metadata": {},
   "outputs": [
    {
     "data": {
      "text/plain": [
       "array(['petrol', 'diesel'], dtype=object)"
      ]
     },
     "execution_count": 38,
     "metadata": {},
     "output_type": "execute_result"
    }
   ],
   "source": [
    "test.fuel.unique()"
   ]
  },
  {
   "cell_type": "code",
   "execution_count": 39,
   "id": "f60380de",
   "metadata": {},
   "outputs": [
    {
     "data": {
      "text/plain": [
       "[' Black',\n",
       " ' Black/Red',\n",
       " 'Ash',\n",
       " 'Ash and black',\n",
       " 'BLACK',\n",
       " 'Beige',\n",
       " 'Black',\n",
       " 'Black ',\n",
       " 'Black and silver',\n",
       " 'Black sand pearl',\n",
       " 'Black.',\n",
       " 'Blue',\n",
       " 'Blue ',\n",
       " 'Brown',\n",
       " 'Cream',\n",
       " 'Cream ',\n",
       " 'DARK GREY',\n",
       " 'Dark Ash',\n",
       " 'Dark Blue',\n",
       " 'Dark Green',\n",
       " 'Dark Grey',\n",
       " 'Dark ash',\n",
       " 'Dark blue ',\n",
       " 'Dark gray',\n",
       " 'Dark silver ',\n",
       " 'Deep Blue',\n",
       " 'Deep blue',\n",
       " 'GOLD',\n",
       " 'Gery',\n",
       " 'Gold',\n",
       " 'Gold ',\n",
       " 'Gray',\n",
       " 'Gray ',\n",
       " 'Green',\n",
       " 'Green ',\n",
       " 'Grey',\n",
       " 'Grey ',\n",
       " 'Ink blue',\n",
       " 'Light Gold',\n",
       " 'Light blue',\n",
       " 'Light silver ',\n",
       " 'Magnetic Gray',\n",
       " 'Magnetic Gray Metallic',\n",
       " 'Maroon',\n",
       " 'Midnight Black Metal',\n",
       " 'Milk',\n",
       " 'Navy blue',\n",
       " 'Off white',\n",
       " 'Off white l',\n",
       " 'Pale brown',\n",
       " 'Purple',\n",
       " 'Red',\n",
       " 'Redl',\n",
       " 'SILVER',\n",
       " 'Silver',\n",
       " 'Silver ',\n",
       " 'Silver/grey',\n",
       " 'Sky blue',\n",
       " 'Skye blue',\n",
       " 'Sliver',\n",
       " 'Super White',\n",
       " 'WHITE',\n",
       " 'WINE',\n",
       " 'Whine ',\n",
       " 'White',\n",
       " 'White ',\n",
       " 'White orchild pearl',\n",
       " 'Wine',\n",
       " 'Yellow',\n",
       " 'blue',\n",
       " 'green',\n",
       " 'orange',\n",
       " 'red',\n",
       " 'white',\n",
       " 'white-blue',\n",
       " 'yellow']"
      ]
     },
     "execution_count": 39,
     "metadata": {},
     "output_type": "execute_result"
    }
   ],
   "source": [
    "sorted(train.paint.unique())"
   ]
  },
  {
   "cell_type": "code",
   "execution_count": 40,
   "id": "ab5f4ec3",
   "metadata": {},
   "outputs": [
    {
     "name": "stdout",
     "output_type": "stream",
     "text": [
      "train data에서 paint의 unique 카테고리 개수 :  51\n"
     ]
    }
   ],
   "source": [
    "import re \n",
    "\n",
    "def clean_text(texts): \n",
    "    corpus = [] \n",
    "    for i in range(0, len(texts)): \n",
    "        review = re.sub(r'[@%\\\\*=()/~#&\\+á?\\xc3\\xa1\\-\\|\\.\\:\\;\\!\\-\\,\\_\\~\\$\\'\\\"\\n\\]\\[\\>\\<]', '',texts[i]) #@%*=()/+ 와 같은 문장부호 제거\n",
    "        review = re.sub(r'\\d+','',review)#숫자 제거\n",
    "        review = review.lower() #소문자 변환\n",
    "        review = re.sub(r'\\s+', ' ', review) #extra space 제거\n",
    "        review = re.sub(r'<[^>]+>','',review) #Html tags 제거\n",
    "        review = re.sub(r'\\s+', ' ', review) #spaces 제거\n",
    "        review = re.sub(r\"^\\s+\", '', review) #space from start 제거\n",
    "        review = re.sub(r'\\s+$', '', review) #space from the end 제거\n",
    "        review = re.sub(r'_', ' ', review) #space from the end 제거\n",
    "        #review = re.sub(r'l', '', review)\n",
    "        corpus.append(review) \n",
    "        \n",
    "    return corpus\n",
    "\n",
    "temp = clean_text(train['paint']) #메소드 적용\n",
    "train['paint'] = temp\n",
    "print('train data에서 paint의 unique 카테고리 개수 : ', len(train['paint'].unique()))"
   ]
  },
  {
   "cell_type": "code",
   "execution_count": 41,
   "id": "2a68b403",
   "metadata": {},
   "outputs": [
    {
     "data": {
      "text/plain": [
       "['ash',\n",
       " 'ash and black',\n",
       " 'beige',\n",
       " 'black',\n",
       " 'black and silver',\n",
       " 'black sand pearl',\n",
       " 'blackred',\n",
       " 'blue',\n",
       " 'brown',\n",
       " 'cream',\n",
       " 'dark ash',\n",
       " 'dark blue',\n",
       " 'dark gray',\n",
       " 'dark green',\n",
       " 'dark grey',\n",
       " 'dark silver',\n",
       " 'deep blue',\n",
       " 'gery',\n",
       " 'gold',\n",
       " 'gray',\n",
       " 'green',\n",
       " 'grey',\n",
       " 'ink blue',\n",
       " 'light blue',\n",
       " 'light gold',\n",
       " 'light silver',\n",
       " 'magnetic gray',\n",
       " 'magnetic gray metallic',\n",
       " 'maroon',\n",
       " 'midnight black metal',\n",
       " 'milk',\n",
       " 'navy blue',\n",
       " 'off white',\n",
       " 'off white l',\n",
       " 'orange',\n",
       " 'pale brown',\n",
       " 'purple',\n",
       " 'red',\n",
       " 'redl',\n",
       " 'silver',\n",
       " 'silvergrey',\n",
       " 'sky blue',\n",
       " 'skye blue',\n",
       " 'sliver',\n",
       " 'super white',\n",
       " 'whine',\n",
       " 'white',\n",
       " 'white orchild pearl',\n",
       " 'whiteblue',\n",
       " 'wine',\n",
       " 'yellow']"
      ]
     },
     "execution_count": 41,
     "metadata": {},
     "output_type": "execute_result"
    }
   ],
   "source": [
    "sorted(train['paint'].unique())"
   ]
  },
  {
   "cell_type": "code",
   "execution_count": 42,
   "id": "085f9892",
   "metadata": {},
   "outputs": [],
   "source": [
    "train['paint'] = train['paint'] = train['paint'].apply(lambda x : 'blue' if x.find('blue') >= 0 else x)\n",
    "train['paint'] = train['paint'] = train['paint'].apply(lambda x : 'red' if x.find('red') >= 0 else x)\n",
    "train['paint'] = train['paint'] = train['paint'].apply(lambda x : 'green' if x.find('green') >= 0 else x)\n",
    "train['paint'] = train['paint'] = train['paint'].apply(lambda x : 'white' if x.find('white') >= 0 else x)\n",
    "train['paint'] = train['paint'] = train['paint'].apply(lambda x : 'grey' if x.find('grey') >= 0 else x)\n",
    "train['paint'] = train['paint'] = train['paint'].apply(lambda x : 'grey' if x.find('gery') >= 0 else x)\n",
    "train['paint'] = train['paint'] = train['paint'].apply(lambda x : 'grey' if x.find('gray') >= 0 else x)\n",
    "train['paint'] = train['paint'] = train['paint'].apply(lambda x : 'ash' if x.find('ash') >= 0 else x)\n",
    "train['paint'] = train['paint'] = train['paint'].apply(lambda x : 'brown' if x.find('brown') >= 0 else x)\n",
    "train['paint'] = train['paint'] = train['paint'].apply(lambda x : 'silver' if x.find('silver') >= 0 else x)\n",
    "train['paint'] = train['paint'] = train['paint'].apply(lambda x : 'silver' if x.find('sliver') >= 0 else x)\n",
    "train['paint'] = train['paint'] = train['paint'].apply(lambda x : 'black' if x.find('black') >= 0 else x)\n",
    "train['paint'] = train['paint'] = train['paint'].apply(lambda x : 'gold' if x.find('gold') >= 0 else x)\n",
    "train['paint'] = train['paint'] = train['paint'].apply(lambda x : 'wine' if x.find('whine') >= 0 else x)\n",
    "train['paint'] = train['paint'] = train['paint'].apply(lambda x : 'black' if x.find('blac') >= 0 else x)\n",
    "train['paint'] = train['paint'] = train['paint'].apply(lambda x : 'gold' if x.find('golf') >= 0 else x)"
   ]
  },
  {
   "cell_type": "code",
   "execution_count": 43,
   "id": "96c609d0",
   "metadata": {},
   "outputs": [
    {
     "data": {
      "text/plain": [
       "['ash',\n",
       " 'beige',\n",
       " 'black',\n",
       " 'blue',\n",
       " 'brown',\n",
       " 'cream',\n",
       " 'gold',\n",
       " 'green',\n",
       " 'grey',\n",
       " 'maroon',\n",
       " 'milk',\n",
       " 'orange',\n",
       " 'purple',\n",
       " 'red',\n",
       " 'silver',\n",
       " 'white',\n",
       " 'wine',\n",
       " 'yellow']"
      ]
     },
     "execution_count": 43,
     "metadata": {},
     "output_type": "execute_result"
    }
   ],
   "source": [
    "sorted(train['paint'].unique())"
   ]
  },
  {
   "cell_type": "code",
   "execution_count": 44,
   "id": "a2d15db1",
   "metadata": {},
   "outputs": [
    {
     "name": "stdout",
     "output_type": "stream",
     "text": [
      "test data에서 paint의 unique 카테고리 개수 :  30\n"
     ]
    }
   ],
   "source": [
    "temp2 = clean_text(test['paint'])\n",
    "test['paint'] = temp2\n",
    "print('test data에서 paint의 unique 카테고리 개수 : ', len(test['paint'].unique()))"
   ]
  },
  {
   "cell_type": "code",
   "execution_count": 45,
   "id": "891a9e77",
   "metadata": {},
   "outputs": [],
   "source": [
    "\n",
    "test['paint'] = test['paint'].apply(lambda x : 'blue' if x.find('blue') >= 0 else x)\n",
    "test['paint'] = test['paint'].apply(lambda x : 'red' if x.find('red') >= 0 else x)\n",
    "test['paint'] = test['paint'].apply(lambda x : 'green' if x.find('green') >= 0 else x)\n",
    "test['paint'] = test['paint'].apply(lambda x : 'white' if x.find('white') >= 0 else x)\n",
    "test['paint'] = test['paint'].apply(lambda x : 'grey' if x.find('grey') >= 0 else x)\n",
    "test['paint'] = test['paint'].apply(lambda x : 'grey' if x.find('gery') >= 0 else x)\n",
    "test['paint'] = test['paint'].apply(lambda x : 'grey' if x.find('gray') >= 0 else x)\n",
    "test['paint'] = test['paint'].apply(lambda x : 'ash' if x.find('ash') >= 0 else x)\n",
    "test['paint'] = test['paint'].apply(lambda x : 'brown' if x.find('brown') >= 0 else x)\n",
    "test['paint'] = test['paint'].apply(lambda x : 'silver' if x.find('silver') >= 0 else x)\n",
    "test['paint'] = test['paint'].apply(lambda x : 'silver' if x.find('sliver') >= 0 else x)\n",
    "test['paint'] = test['paint'].apply(lambda x : 'black' if x.find('black') >= 0 else x)\n",
    "test['paint'] = test['paint'].apply(lambda x : 'gold' if x.find('gold') >= 0 else x)\n",
    "test['paint'] = test['paint'].apply(lambda x : 'wine' if x.find('whine') >= 0 else x)\n",
    "test['paint'] = test['paint'].apply(lambda x : 'black' if x.find('blac') >= 0 else x)\n",
    "test['paint'] = test['paint'].apply(lambda x : 'gold' if x.find('golf') >= 0 else x)"
   ]
  },
  {
   "cell_type": "code",
   "execution_count": 46,
   "id": "6e0bc651",
   "metadata": {},
   "outputs": [
    {
     "data": {
      "text/plain": [
       "16"
      ]
     },
     "execution_count": 46,
     "metadata": {},
     "output_type": "execute_result"
    }
   ],
   "source": [
    "len(sorted(test['paint'].unique()))"
   ]
  },
  {
   "cell_type": "code",
   "execution_count": 47,
   "id": "be29124e",
   "metadata": {},
   "outputs": [],
   "source": [
    "train_year = set(train.year.unique()) - set(test.year.unique())\n",
    "test_year = set(test.year.unique()) - set(train.year.unique())\n"
   ]
  },
  {
   "cell_type": "code",
   "execution_count": 48,
   "id": "7682ace7",
   "metadata": {},
   "outputs": [
    {
     "data": {
      "text/plain": [
       "{1217, 1218, 1980, 1982, 1985, 1991, 1995}"
      ]
     },
     "execution_count": 48,
     "metadata": {},
     "output_type": "execute_result"
    }
   ],
   "source": [
    "train_year"
   ]
  },
  {
   "cell_type": "code",
   "execution_count": 49,
   "id": "caf3e32c",
   "metadata": {},
   "outputs": [
    {
     "data": {
      "text/plain": [
       "{1324, 1726, 1987, 1993, 2626}"
      ]
     },
     "execution_count": 49,
     "metadata": {},
     "output_type": "execute_result"
    }
   ],
   "source": [
    "test_year"
   ]
  },
  {
   "cell_type": "markdown",
   "id": "ad7ede0e",
   "metadata": {},
   "source": [
    "## 자료 비교"
   ]
  },
  {
   "cell_type": "code",
   "execution_count": 50,
   "id": "1c3ed71f",
   "metadata": {},
   "outputs": [
    {
     "name": "stdout",
     "output_type": "stream",
     "text": [
      "---- brand ----\n",
      "train 없는데, test 있는 brand\n",
      "['Fiat']\n",
      "test 없는데, train 있는 brand\n",
      "['Jaguar', 'Lincoln', 'Isuzu', 'IVM', 'Dodge', 'GMC', 'Scania', 'GAC', 'IVECO', 'MAN-VOLKSWAGEN', 'ALPINA', 'Bentley', 'JMC', 'Audi']\n",
      "---- isimported ----\n",
      "train 없는데, test 있는 isimported\n",
      "[]\n",
      "test 없는데, train 있는 isimported\n",
      "[]\n",
      "---- location ----\n",
      "train 없는데, test 있는 location\n",
      "['Mushin']\n",
      "test 없는데, train 있는 location\n",
      "['FCT', 'Accra', 'Adamawa']\n",
      "---- engine ----\n",
      "train 없는데, test 있는 engine\n",
      "['12-cylinder(V12)']\n",
      "test 없는데, train 있는 engine\n",
      "['4-cylinder(H4)']\n",
      "---- transmission ----\n",
      "train 없는데, test 있는 transmission\n",
      "[]\n",
      "test 없는데, train 있는 transmission\n",
      "[]\n",
      "---- fuel ----\n",
      "train 없는데, test 있는 fuel\n",
      "[]\n",
      "test 없는데, train 있는 fuel\n",
      "[]\n",
      "---- paint ----\n",
      "train 없는데, test 있는 paint\n",
      "['indigo ink pearl']\n",
      "test 없는데, train 있는 paint\n",
      "['purple', 'milk', 'orange']\n",
      "---- year ----\n",
      "train 없는데, test 있는 year\n",
      "[1993, 1987, 1324, 2626, 1726]\n",
      "test 없는데, train 있는 year\n",
      "[1995, 1985, 1991, 1218, 1982, 1217, 1980]\n"
     ]
    }
   ],
   "source": [
    "def difference(column, df_train, df_test):\n",
    "    print('---- {} ----'.format(column))\n",
    "    # train에 없는데, test에 있는 column\n",
    "    print('train 없는데, test 있는', column)\n",
    "    s = df_train[column].unique()\n",
    "    no_train = [x for x in df_test[column].unique() if x not in s] #순서 보존됨\n",
    "    print(no_train)\n",
    "\n",
    "    # test 없는데, train 있는 column\n",
    "    print('test 없는데, train 있는', column)\n",
    "    s = df_test[column].unique()\n",
    "    no_test = [x for x in df_train[column].unique() if x not in s] #순서 보존됨\n",
    "    print(no_test)\n",
    "\n",
    "difference('brand', train, test)\n",
    "difference('isimported', train, test)\n",
    "difference('location', train, test)\n",
    "difference('engine', train, test)\n",
    "difference('transmission', train, test)\n",
    "difference('fuel', train, test)\n",
    "difference('paint', train, test)\n",
    "difference('year', train, test)"
   ]
  },
  {
   "cell_type": "markdown",
   "id": "88b642f6",
   "metadata": {},
   "source": [
    "## 자료 경향 확인"
   ]
  },
  {
   "cell_type": "code",
   "execution_count": 51,
   "id": "036a6249",
   "metadata": {},
   "outputs": [
    {
     "data": {
      "text/html": [
       "<div>\n",
       "<style scoped>\n",
       "    .dataframe tbody tr th:only-of-type {\n",
       "        vertical-align: middle;\n",
       "    }\n",
       "\n",
       "    .dataframe tbody tr th {\n",
       "        vertical-align: top;\n",
       "    }\n",
       "\n",
       "    .dataframe thead th {\n",
       "        text-align: right;\n",
       "    }\n",
       "</style>\n",
       "<table border=\"1\" class=\"dataframe\">\n",
       "  <thead>\n",
       "    <tr style=\"text-align: right;\">\n",
       "      <th></th>\n",
       "      <th>id</th>\n",
       "      <th>title</th>\n",
       "      <th>odometer</th>\n",
       "      <th>location</th>\n",
       "      <th>isimported</th>\n",
       "      <th>engine</th>\n",
       "      <th>transmission</th>\n",
       "      <th>fuel</th>\n",
       "      <th>paint</th>\n",
       "      <th>year</th>\n",
       "      <th>target</th>\n",
       "      <th>brand</th>\n",
       "    </tr>\n",
       "  </thead>\n",
       "  <tbody>\n",
       "    <tr>\n",
       "      <th>0</th>\n",
       "      <td>0</td>\n",
       "      <td>Toyota RAV 4</td>\n",
       "      <td>18277</td>\n",
       "      <td>Lagos</td>\n",
       "      <td>Foreign Used</td>\n",
       "      <td>4-cylinder(I4)</td>\n",
       "      <td>automatic</td>\n",
       "      <td>petrol</td>\n",
       "      <td>red</td>\n",
       "      <td>2016</td>\n",
       "      <td>13665000</td>\n",
       "      <td>Toyota</td>\n",
       "    </tr>\n",
       "    <tr>\n",
       "      <th>1</th>\n",
       "      <td>1</td>\n",
       "      <td>Toyota Land Cruiser</td>\n",
       "      <td>10</td>\n",
       "      <td>Lagos</td>\n",
       "      <td>New</td>\n",
       "      <td>4-cylinder(I4)</td>\n",
       "      <td>automatic</td>\n",
       "      <td>petrol</td>\n",
       "      <td>black</td>\n",
       "      <td>2019</td>\n",
       "      <td>33015000</td>\n",
       "      <td>Toyota</td>\n",
       "    </tr>\n",
       "    <tr>\n",
       "      <th>2</th>\n",
       "      <td>2</td>\n",
       "      <td>Land Rover Range Rover Evoque</td>\n",
       "      <td>83091</td>\n",
       "      <td>Lagos</td>\n",
       "      <td>Foreign Used</td>\n",
       "      <td>6-cylinder(V6)</td>\n",
       "      <td>automatic</td>\n",
       "      <td>petrol</td>\n",
       "      <td>red</td>\n",
       "      <td>2012</td>\n",
       "      <td>9915000</td>\n",
       "      <td>Land Rover</td>\n",
       "    </tr>\n",
       "    <tr>\n",
       "      <th>3</th>\n",
       "      <td>3</td>\n",
       "      <td>Lexus ES 350</td>\n",
       "      <td>91524</td>\n",
       "      <td>Lagos</td>\n",
       "      <td>Foreign Used</td>\n",
       "      <td>4-cylinder(I4)</td>\n",
       "      <td>automatic</td>\n",
       "      <td>petrol</td>\n",
       "      <td>grey</td>\n",
       "      <td>2007</td>\n",
       "      <td>3815000</td>\n",
       "      <td>Lexus</td>\n",
       "    </tr>\n",
       "    <tr>\n",
       "      <th>4</th>\n",
       "      <td>4</td>\n",
       "      <td>Toyota Venza</td>\n",
       "      <td>94177</td>\n",
       "      <td>Lagos</td>\n",
       "      <td>Foreign Used</td>\n",
       "      <td>6-cylinder(V6)</td>\n",
       "      <td>automatic</td>\n",
       "      <td>petrol</td>\n",
       "      <td>red</td>\n",
       "      <td>2010</td>\n",
       "      <td>7385000</td>\n",
       "      <td>Toyota</td>\n",
       "    </tr>\n",
       "    <tr>\n",
       "      <th>...</th>\n",
       "      <td>...</td>\n",
       "      <td>...</td>\n",
       "      <td>...</td>\n",
       "      <td>...</td>\n",
       "      <td>...</td>\n",
       "      <td>...</td>\n",
       "      <td>...</td>\n",
       "      <td>...</td>\n",
       "      <td>...</td>\n",
       "      <td>...</td>\n",
       "      <td>...</td>\n",
       "      <td>...</td>\n",
       "    </tr>\n",
       "    <tr>\n",
       "      <th>1010</th>\n",
       "      <td>1010</td>\n",
       "      <td>Toyota Corolla</td>\n",
       "      <td>46768</td>\n",
       "      <td>Lagos</td>\n",
       "      <td>Foreign Used</td>\n",
       "      <td>4-cylinder(I4)</td>\n",
       "      <td>automatic</td>\n",
       "      <td>petrol</td>\n",
       "      <td>black</td>\n",
       "      <td>2014</td>\n",
       "      <td>5415000</td>\n",
       "      <td>Toyota</td>\n",
       "    </tr>\n",
       "    <tr>\n",
       "      <th>1011</th>\n",
       "      <td>1011</td>\n",
       "      <td>Toyota Camry</td>\n",
       "      <td>31600</td>\n",
       "      <td>Abuja</td>\n",
       "      <td>Foreign Used</td>\n",
       "      <td>4-cylinder(I4)</td>\n",
       "      <td>automatic</td>\n",
       "      <td>petrol</td>\n",
       "      <td>silver</td>\n",
       "      <td>2011</td>\n",
       "      <td>3615000</td>\n",
       "      <td>Toyota</td>\n",
       "    </tr>\n",
       "    <tr>\n",
       "      <th>1012</th>\n",
       "      <td>1012</td>\n",
       "      <td>Toyota Camry</td>\n",
       "      <td>96802</td>\n",
       "      <td>Abuja</td>\n",
       "      <td>Foreign Used</td>\n",
       "      <td>4-cylinder(I4)</td>\n",
       "      <td>automatic</td>\n",
       "      <td>petrol</td>\n",
       "      <td>black</td>\n",
       "      <td>2011</td>\n",
       "      <td>3415000</td>\n",
       "      <td>Toyota</td>\n",
       "    </tr>\n",
       "    <tr>\n",
       "      <th>1013</th>\n",
       "      <td>1013</td>\n",
       "      <td>Lexus GX 460</td>\n",
       "      <td>146275</td>\n",
       "      <td>Lagos</td>\n",
       "      <td>Foreign Used</td>\n",
       "      <td>6-cylinder(V6)</td>\n",
       "      <td>automatic</td>\n",
       "      <td>petrol</td>\n",
       "      <td>gold</td>\n",
       "      <td>2013</td>\n",
       "      <td>14315000</td>\n",
       "      <td>Lexus</td>\n",
       "    </tr>\n",
       "    <tr>\n",
       "      <th>1014</th>\n",
       "      <td>1014</td>\n",
       "      <td>DAF CF</td>\n",
       "      <td>0</td>\n",
       "      <td>Lagos</td>\n",
       "      <td>Locally used</td>\n",
       "      <td>6-cylinder(V6)</td>\n",
       "      <td>manual</td>\n",
       "      <td>diesel</td>\n",
       "      <td>white</td>\n",
       "      <td>1998</td>\n",
       "      <td>10015000</td>\n",
       "      <td>DAF</td>\n",
       "    </tr>\n",
       "  </tbody>\n",
       "</table>\n",
       "<p>1015 rows × 12 columns</p>\n",
       "</div>"
      ],
      "text/plain": [
       "        id                          title  odometer location    isimported  \\\n",
       "0        0                   Toyota RAV 4     18277    Lagos  Foreign Used   \n",
       "1        1            Toyota Land Cruiser        10    Lagos          New    \n",
       "2        2  Land Rover Range Rover Evoque     83091    Lagos  Foreign Used   \n",
       "3        3                   Lexus ES 350     91524    Lagos  Foreign Used   \n",
       "4        4                   Toyota Venza     94177    Lagos  Foreign Used   \n",
       "...    ...                            ...       ...      ...           ...   \n",
       "1010  1010                 Toyota Corolla     46768    Lagos  Foreign Used   \n",
       "1011  1011                   Toyota Camry     31600    Abuja  Foreign Used   \n",
       "1012  1012                   Toyota Camry     96802    Abuja  Foreign Used   \n",
       "1013  1013                   Lexus GX 460    146275    Lagos  Foreign Used   \n",
       "1014  1014                         DAF CF         0    Lagos  Locally used   \n",
       "\n",
       "              engine transmission    fuel   paint  year    target       brand  \n",
       "0     4-cylinder(I4)    automatic  petrol     red  2016  13665000      Toyota  \n",
       "1     4-cylinder(I4)    automatic  petrol   black  2019  33015000      Toyota  \n",
       "2     6-cylinder(V6)    automatic  petrol     red  2012   9915000  Land Rover  \n",
       "3     4-cylinder(I4)    automatic  petrol    grey  2007   3815000       Lexus  \n",
       "4     6-cylinder(V6)    automatic  petrol     red  2010   7385000      Toyota  \n",
       "...              ...          ...     ...     ...   ...       ...         ...  \n",
       "1010  4-cylinder(I4)    automatic  petrol   black  2014   5415000      Toyota  \n",
       "1011  4-cylinder(I4)    automatic  petrol  silver  2011   3615000      Toyota  \n",
       "1012  4-cylinder(I4)    automatic  petrol   black  2011   3415000      Toyota  \n",
       "1013  6-cylinder(V6)    automatic  petrol    gold  2013  14315000       Lexus  \n",
       "1014  6-cylinder(V6)       manual  diesel   white  1998  10015000         DAF  \n",
       "\n",
       "[1015 rows x 12 columns]"
      ]
     },
     "metadata": {},
     "output_type": "display_data"
    },
    {
     "data": {
      "text/html": [
       "<div>\n",
       "<style scoped>\n",
       "    .dataframe tbody tr th:only-of-type {\n",
       "        vertical-align: middle;\n",
       "    }\n",
       "\n",
       "    .dataframe tbody tr th {\n",
       "        vertical-align: top;\n",
       "    }\n",
       "\n",
       "    .dataframe thead th {\n",
       "        text-align: right;\n",
       "    }\n",
       "</style>\n",
       "<table border=\"1\" class=\"dataframe\">\n",
       "  <thead>\n",
       "    <tr style=\"text-align: right;\">\n",
       "      <th></th>\n",
       "      <th>id</th>\n",
       "      <th>odometer</th>\n",
       "      <th>year</th>\n",
       "      <th>target</th>\n",
       "    </tr>\n",
       "  </thead>\n",
       "  <tbody>\n",
       "    <tr>\n",
       "      <th>id</th>\n",
       "      <td>1.000000</td>\n",
       "      <td>-0.017320</td>\n",
       "      <td>-0.017048</td>\n",
       "      <td>0.025104</td>\n",
       "    </tr>\n",
       "    <tr>\n",
       "      <th>odometer</th>\n",
       "      <td>-0.017320</td>\n",
       "      <td>1.000000</td>\n",
       "      <td>-0.220366</td>\n",
       "      <td>-0.261147</td>\n",
       "    </tr>\n",
       "    <tr>\n",
       "      <th>year</th>\n",
       "      <td>-0.017048</td>\n",
       "      <td>-0.220366</td>\n",
       "      <td>1.000000</td>\n",
       "      <td>-0.042637</td>\n",
       "    </tr>\n",
       "    <tr>\n",
       "      <th>target</th>\n",
       "      <td>0.025104</td>\n",
       "      <td>-0.261147</td>\n",
       "      <td>-0.042637</td>\n",
       "      <td>1.000000</td>\n",
       "    </tr>\n",
       "  </tbody>\n",
       "</table>\n",
       "</div>"
      ],
      "text/plain": [
       "                id  odometer      year    target\n",
       "id        1.000000 -0.017320 -0.017048  0.025104\n",
       "odometer -0.017320  1.000000 -0.220366 -0.261147\n",
       "year     -0.017048 -0.220366  1.000000 -0.042637\n",
       "target    0.025104 -0.261147 -0.042637  1.000000"
      ]
     },
     "metadata": {},
     "output_type": "display_data"
    },
    {
     "data": {
      "image/png": "[encoded data removed]",
      "text/plain": [
       "<Figure size 864x864 with 2 Axes>"
      ]
     },
     "metadata": {
      "needs_background": "light"
     },
     "output_type": "display_data"
    }
   ],
   "source": [
    "display(train)\n",
    "\n",
    "import matplotlib.pyplot as plt\n",
    "import seaborn as sns\n",
    "# 분석을 위해 A와 B의 관계를 나타내는 콜레이션 매트릭스를 출력해본다.\n",
    "# 1에 가까우면 양의 상관성, -1에 가까우면 음의 상관성이 있다고 한다.\n",
    "display(train[:].corr())\n",
    "\n",
    "# 히트맵으로 확인해본다.\n",
    "plt.figure(figsize=(12,12))\n",
    "\n",
    "sns.heatmap(train.corr(), linewidths=0.1, vmax=0.5, cmap=plt.cm.gist_heat,\n",
    "            linecolor='white', annot=True)\n",
    "plt.show()"
   ]
  },
  {
   "cell_type": "markdown",
   "id": "54d968d1",
   "metadata": {},
   "source": [
    "## 자료 가공"
   ]
  },
  {
   "cell_type": "code",
   "execution_count": 52,
   "id": "49fe62ce",
   "metadata": {},
   "outputs": [
    {
     "data": {
      "text/plain": [
       "{'ALPINA',\n",
       " 'Acura',\n",
       " 'Audi',\n",
       " 'BMW',\n",
       " 'Bentley',\n",
       " 'Chevrolet',\n",
       " 'DAF',\n",
       " 'Dodge',\n",
       " 'Fiat',\n",
       " 'Ford',\n",
       " 'GAC',\n",
       " 'GMC',\n",
       " 'Honda',\n",
       " 'Hyundai',\n",
       " 'IVECO',\n",
       " 'IVM',\n",
       " 'Infiniti',\n",
       " 'Isuzu',\n",
       " 'Iveco',\n",
       " 'JMC',\n",
       " 'Jaguar',\n",
       " 'Jeep',\n",
       " 'Kia',\n",
       " 'Land Rover',\n",
       " 'Lexus',\n",
       " 'Lincoln',\n",
       " 'MAN-VOLKSWAGEN',\n",
       " 'MINI',\n",
       " 'Mack',\n",
       " 'Man',\n",
       " 'Mazda',\n",
       " 'Mercedes-Benz',\n",
       " 'Mitsubishi',\n",
       " 'Nissan',\n",
       " 'Peugeot',\n",
       " 'Pontiac',\n",
       " 'Porsche',\n",
       " 'Rolls-Royce',\n",
       " 'Scania',\n",
       " 'Toyota',\n",
       " 'Volkswagen',\n",
       " 'Volvo'}"
      ]
     },
     "execution_count": 52,
     "metadata": {},
     "output_type": "execute_result"
    }
   ],
   "source": [
    "set(train.brand) | set(test.brand) # 합집합"
   ]
  },
  {
   "cell_type": "code",
   "execution_count": 53,
   "id": "7b5d14f3",
   "metadata": {},
   "outputs": [
    {
     "data": {
      "text/plain": [
       "{'Isuzu': 0,\n",
       " 'BMW': 1,\n",
       " 'Ford': 2,\n",
       " 'Pontiac': 3,\n",
       " 'Mercedes-Benz': 4,\n",
       " 'Honda': 5,\n",
       " 'Dodge': 6,\n",
       " 'Mazda': 7,\n",
       " 'ALPINA': 8,\n",
       " 'MAN-VOLKSWAGEN': 9,\n",
       " 'IVECO': 10,\n",
       " 'Jaguar': 11,\n",
       " 'Chevrolet': 12,\n",
       " 'Man': 13,\n",
       " 'Lexus': 14,\n",
       " 'Scania': 15,\n",
       " 'GMC': 16,\n",
       " 'Hyundai': 17,\n",
       " 'Volkswagen': 18,\n",
       " 'Mitsubishi': 19,\n",
       " 'Audi': 20,\n",
       " 'Nissan': 21,\n",
       " 'GAC': 22,\n",
       " 'Lincoln': 23,\n",
       " 'IVM': 24,\n",
       " 'Porsche': 25,\n",
       " 'Land Rover': 26,\n",
       " 'Fiat': 27,\n",
       " 'Rolls-Royce': 28,\n",
       " 'DAF': 29,\n",
       " 'Kia': 30,\n",
       " 'Peugeot': 31,\n",
       " 'JMC': 32,\n",
       " 'Volvo': 33,\n",
       " 'Mack': 34,\n",
       " 'Bentley': 35,\n",
       " 'MINI': 36,\n",
       " 'Toyota': 37,\n",
       " 'Iveco': 38,\n",
       " 'Jeep': 39,\n",
       " 'Infiniti': 40,\n",
       " 'Acura': 41}"
      ]
     },
     "execution_count": 53,
     "metadata": {},
     "output_type": "execute_result"
    }
   ],
   "source": [
    "brand_label = {_brand : label for label, _brand in enumerate(set(set(train.brand)|set(test.brand)))}\n",
    "brand_label\n",
    "# set 집합은 순서가 없음"
   ]
  },
  {
   "cell_type": "code",
   "execution_count": 54,
   "id": "2ebb26a1",
   "metadata": {},
   "outputs": [],
   "source": [
    "train['brand'] = train['brand'].replace(brand_label)\n",
    "test['brand'] = test['brand'].replace(brand_label)"
   ]
  },
  {
   "cell_type": "code",
   "execution_count": 55,
   "id": "fd20c2df",
   "metadata": {},
   "outputs": [
    {
     "data": {
      "text/plain": [
       "array([37, 26, 14,  3,  2,  5, 33,  1, 40,  4, 17, 11, 19, 21, 34, 12,  7,\n",
       "       23, 30, 18, 41, 29, 13,  0, 24, 25, 36,  6, 16, 38, 15, 22, 10, 31,\n",
       "       28,  9, 39,  8, 35, 32, 20], dtype=int64)"
      ]
     },
     "execution_count": 55,
     "metadata": {},
     "output_type": "execute_result"
    }
   ],
   "source": [
    "train['brand'].unique()"
   ]
  },
  {
   "cell_type": "code",
   "execution_count": 56,
   "id": "b943de45",
   "metadata": {},
   "outputs": [
    {
     "data": {
      "text/plain": [
       "0       4\n",
       "1       5\n",
       "2       4\n",
       "3      37\n",
       "4      37\n",
       "       ..\n",
       "431     4\n",
       "432     5\n",
       "433     4\n",
       "434    14\n",
       "435    37\n",
       "Name: brand, Length: 436, dtype: int64"
      ]
     },
     "execution_count": 56,
     "metadata": {},
     "output_type": "execute_result"
    }
   ],
   "source": [
    "test['brand']"
   ]
  },
  {
   "cell_type": "code",
   "execution_count": 57,
   "id": "f6adea7b",
   "metadata": {},
   "outputs": [
    {
     "data": {
      "text/plain": [
       "0       37\n",
       "1       37\n",
       "2       26\n",
       "3       14\n",
       "4       37\n",
       "        ..\n",
       "1010    37\n",
       "1011    37\n",
       "1012    37\n",
       "1013    14\n",
       "1014    29\n",
       "Name: brand, Length: 1015, dtype: int64"
      ]
     },
     "execution_count": 57,
     "metadata": {},
     "output_type": "execute_result"
    }
   ],
   "source": [
    "train['brand']"
   ]
  },
  {
   "cell_type": "code",
   "execution_count": 58,
   "id": "4eb04e12",
   "metadata": {},
   "outputs": [
    {
     "data": {
      "text/plain": [
       "{'ALPINA B3',\n",
       " 'Acura MDX',\n",
       " 'Acura RDX',\n",
       " 'Acura TL',\n",
       " 'Acura TSX',\n",
       " 'Acura ZDX',\n",
       " 'Audi S6',\n",
       " 'BMW 325',\n",
       " 'BMW 335',\n",
       " 'BMW 525',\n",
       " 'BMW 528',\n",
       " 'BMW 535',\n",
       " 'BMW 730',\n",
       " 'BMW 740',\n",
       " 'BMW 745',\n",
       " 'BMW 750',\n",
       " 'BMW X3',\n",
       " 'BMW X6',\n",
       " 'Bentley Arnage',\n",
       " 'Chevrolet Camaro',\n",
       " 'Chevrolet Evanda',\n",
       " 'Chevrolet Traverse',\n",
       " 'DAF 45',\n",
       " 'DAF 95XF TRACTOR HEAD',\n",
       " 'DAF CF',\n",
       " 'DAF FA 55. 180',\n",
       " 'DAF XF TRACTOR HEAD',\n",
       " 'Dodge Charger',\n",
       " 'Fiat Ducato',\n",
       " 'Ford Edge',\n",
       " 'Ford Escape',\n",
       " 'Ford Expedition',\n",
       " 'Ford Explorer',\n",
       " 'Ford F 150',\n",
       " 'Ford Focus',\n",
       " 'Ford Fusion',\n",
       " 'Ford Mondeo',\n",
       " 'Ford Mustang',\n",
       " 'Ford TRANSIT PICKUP',\n",
       " 'Ford Transit',\n",
       " 'GAC Gonow Other',\n",
       " 'GMC Terrain',\n",
       " 'Honda Accord',\n",
       " 'Honda CR-V',\n",
       " 'Honda Civic',\n",
       " 'Honda Crosstour',\n",
       " 'Honda Element',\n",
       " 'Honda Fit',\n",
       " 'Honda Insight',\n",
       " 'Honda Odyssey',\n",
       " 'Honda Pilot',\n",
       " 'Honda Ridgeline',\n",
       " 'Hyundai Azera',\n",
       " 'Hyundai Elantra',\n",
       " 'Hyundai Santa Fe',\n",
       " 'Hyundai Sonata',\n",
       " 'Hyundai Tucson',\n",
       " 'Hyundai ix35',\n",
       " 'IVECO EUROTECH 7.50E-16',\n",
       " 'IVM LT35',\n",
       " 'Infiniti FX',\n",
       " 'Infiniti JX',\n",
       " 'Infiniti M35',\n",
       " 'Infiniti QX80',\n",
       " 'Isuzu CABSTER',\n",
       " 'Isuzu NQR',\n",
       " 'Iveco EUROCARGO 120e18',\n",
       " 'Iveco TRUCK',\n",
       " 'JMC Vigus',\n",
       " 'Jaguar X-Type',\n",
       " 'Jaguar XJ8',\n",
       " 'Jeep Cherokee',\n",
       " 'Jeep Wrangler',\n",
       " 'Kia Cerato',\n",
       " 'Kia Optima',\n",
       " 'Kia Picanto',\n",
       " 'Kia Rio',\n",
       " 'Kia Sorento',\n",
       " 'Kia Soul',\n",
       " 'Kia Stinger',\n",
       " 'Land Rover Discovery',\n",
       " 'Land Rover Range Rover',\n",
       " 'Land Rover Range Rover Evoque',\n",
       " 'Land Rover Range Rover Sport',\n",
       " 'Land Rover Range Rover Velar',\n",
       " 'Lexus CT 200h',\n",
       " 'Lexus ES 300',\n",
       " 'Lexus ES 330',\n",
       " 'Lexus ES 350',\n",
       " 'Lexus GS 300',\n",
       " 'Lexus GS 350',\n",
       " 'Lexus GX 460',\n",
       " 'Lexus GX 470',\n",
       " 'Lexus IS 250',\n",
       " 'Lexus LS 460',\n",
       " 'Lexus LX 570',\n",
       " 'Lexus RX 300',\n",
       " 'Lexus RX 330',\n",
       " 'Lexus RX 350',\n",
       " 'Lexus RX 400',\n",
       " 'Lincoln Mark',\n",
       " 'MAN-VOLKSWAGEN FLATBED',\n",
       " 'MINI Cooper',\n",
       " 'MINI Cooper Countryman',\n",
       " 'MINI Cooper Coupé',\n",
       " 'Mack CH613',\n",
       " 'Mack CH613 CONVENTIONAL CAB',\n",
       " 'Mack CXN613',\n",
       " 'Mack CXN613 CAB BEHIND ENGINE',\n",
       " 'Mack R-686ST',\n",
       " 'Man 26-403',\n",
       " 'Man BOCKMANN',\n",
       " 'Man Diesel 19.314 FILT-N',\n",
       " 'Man LE 8. 180 PLATFORM TRUCK',\n",
       " 'Man TGA 18.360',\n",
       " 'Man Truck 18.44',\n",
       " 'Mazda 323',\n",
       " 'Mazda 6',\n",
       " 'Mazda CX-9',\n",
       " 'Mazda Tribute',\n",
       " 'Mercedes-Benz 200',\n",
       " 'Mercedes-Benz 220',\n",
       " 'Mercedes-Benz 300',\n",
       " 'Mercedes-Benz 320',\n",
       " 'Mercedes-Benz 350',\n",
       " 'Mercedes-Benz 450',\n",
       " 'Mercedes-Benz 709 DB',\n",
       " 'Mercedes-Benz 814',\n",
       " 'Mercedes-Benz ATEGO',\n",
       " 'Mercedes-Benz C 180',\n",
       " 'Mercedes-Benz C 250',\n",
       " 'Mercedes-Benz C 300',\n",
       " 'Mercedes-Benz C 320',\n",
       " 'Mercedes-Benz C 350',\n",
       " 'Mercedes-Benz C 450 AMG',\n",
       " 'Mercedes-Benz C 63 AMG',\n",
       " 'Mercedes-Benz CABIN PLUS CHASSIS ONLY',\n",
       " 'Mercedes-Benz CLA 250',\n",
       " 'Mercedes-Benz CLS 500',\n",
       " 'Mercedes-Benz DUMP TRUCK',\n",
       " 'Mercedes-Benz E 200',\n",
       " 'Mercedes-Benz E 300',\n",
       " 'Mercedes-Benz E 320',\n",
       " 'Mercedes-Benz E 350',\n",
       " 'Mercedes-Benz E 550',\n",
       " 'Mercedes-Benz G 550',\n",
       " 'Mercedes-Benz G 63 AMG',\n",
       " 'Mercedes-Benz GL 450',\n",
       " 'Mercedes-Benz GLA 180',\n",
       " 'Mercedes-Benz GLA 250',\n",
       " 'Mercedes-Benz GLC 300',\n",
       " 'Mercedes-Benz GLE 350',\n",
       " 'Mercedes-Benz GLE 43 AMG',\n",
       " 'Mercedes-Benz GLE 450',\n",
       " 'Mercedes-Benz GLK 300',\n",
       " 'Mercedes-Benz GLK 350',\n",
       " 'Mercedes-Benz ML 320',\n",
       " 'Mercedes-Benz ML 350',\n",
       " 'Mercedes-Benz ML 430',\n",
       " 'Mercedes-Benz Maybach',\n",
       " 'Mercedes-Benz S 450',\n",
       " 'Mercedes-Benz S 550',\n",
       " 'Mercedes-Benz SL 400',\n",
       " 'Mercedes-Benz WATER TANKER',\n",
       " 'Mercedes-Benz/52',\n",
       " 'Mitsubishi CANTER PICK UP',\n",
       " 'Mitsubishi Eclipse',\n",
       " 'Mitsubishi Galant',\n",
       " 'Mitsubishi L200',\n",
       " 'Mitsubishi Montero',\n",
       " 'Mitsubishi Pajero',\n",
       " 'Nissan A',\n",
       " 'Nissan Altima',\n",
       " 'Nissan Cabstar',\n",
       " 'Nissan Frontier',\n",
       " 'Nissan INFINITI M90.150/2',\n",
       " 'Nissan Maxima',\n",
       " 'Nissan Murano',\n",
       " 'Nissan Pathfinder',\n",
       " 'Nissan Primera',\n",
       " 'Nissan Quest',\n",
       " 'Nissan Rogue',\n",
       " 'Nissan Sentra',\n",
       " 'Nissan Titan',\n",
       " 'Nissan Versa',\n",
       " 'Nissan X-Trail',\n",
       " 'Nissan Xterra',\n",
       " 'Peugeot 206',\n",
       " 'Peugeot 307',\n",
       " 'Peugeot 308',\n",
       " 'Peugeot 607',\n",
       " 'Pontiac Vibe',\n",
       " 'Porsche Cayenne',\n",
       " 'Porsche Macan',\n",
       " 'Porsche Panamera',\n",
       " 'Rolls-Royce Ghost',\n",
       " 'Scania P94 FLATBED',\n",
       " 'Scania TRACTOR HEAD',\n",
       " 'Toyota 4-Runner',\n",
       " 'Toyota Avalon',\n",
       " 'Toyota Avensis',\n",
       " 'Toyota C-HR',\n",
       " 'Toyota Camry',\n",
       " 'Toyota Coaster',\n",
       " 'Toyota Corolla',\n",
       " 'Toyota DYNA 200',\n",
       " 'Toyota Dyna',\n",
       " 'Toyota Hiace',\n",
       " 'Toyota Highlander',\n",
       " 'Toyota Hilux',\n",
       " 'Toyota Land Cruiser',\n",
       " 'Toyota Matrix',\n",
       " 'Toyota Prado',\n",
       " 'Toyota Prius',\n",
       " 'Toyota RAV 4',\n",
       " 'Toyota Sequoia',\n",
       " 'Toyota Sienna',\n",
       " 'Toyota Solara',\n",
       " 'Toyota Tacoma',\n",
       " 'Toyota Tundra',\n",
       " 'Toyota Venza',\n",
       " 'Toyota Vitz',\n",
       " 'Toyota Yaris',\n",
       " 'Volkswagen 17.22',\n",
       " 'Volkswagen Golf',\n",
       " 'Volkswagen Jetta',\n",
       " 'Volkswagen LT',\n",
       " 'Volkswagen Passat',\n",
       " 'Volkswagen Sharan',\n",
       " 'Volkswagen T4 Caravelle',\n",
       " 'Volkswagen T6 other',\n",
       " 'Volkswagen Tiguan',\n",
       " 'Volkswagen Touareg',\n",
       " 'Volvo FH12',\n",
       " 'Volvo FL12',\n",
       " 'Volvo FL6',\n",
       " 'Volvo FL7',\n",
       " 'Volvo S80',\n",
       " 'Volvo XC60',\n",
       " 'Volvo XC90'}"
      ]
     },
     "execution_count": 58,
     "metadata": {},
     "output_type": "execute_result"
    }
   ],
   "source": [
    "car_title = pd.concat([train.title, test.title], ignore_index = True)\n",
    "car_title = set(car_title)\n",
    "car_title"
   ]
  },
  {
   "cell_type": "code",
   "execution_count": 59,
   "id": "8ec333e5",
   "metadata": {},
   "outputs": [
    {
     "data": {
      "text/plain": [
       "{'Mercedes-Benz CLS 500': 0,\n",
       " 'Toyota Solara': 1,\n",
       " 'BMW 525': 2,\n",
       " 'Toyota Yaris': 3,\n",
       " 'Hyundai Azera': 4,\n",
       " 'Toyota 4-Runner': 5,\n",
       " 'Mercedes-Benz ML 350': 6,\n",
       " 'Volvo FL6': 7,\n",
       " 'Toyota Prado': 8,\n",
       " 'Jaguar XJ8': 9,\n",
       " 'Lexus CT 200h': 10,\n",
       " 'Lexus GS 300': 11,\n",
       " 'Mercedes-Benz ATEGO': 12,\n",
       " 'Kia Cerato': 13,\n",
       " 'Peugeot 307': 14,\n",
       " 'Mercedes-Benz 814': 15,\n",
       " 'Mazda CX-9': 16,\n",
       " 'Mack CH613': 17,\n",
       " 'BMW 740': 18,\n",
       " 'Mercedes-Benz CABIN PLUS CHASSIS ONLY': 19,\n",
       " 'Mercedes-Benz 350': 20,\n",
       " 'Ford F 150': 21,\n",
       " 'Land Rover Range Rover': 22,\n",
       " 'Nissan Primera': 23,\n",
       " 'Nissan INFINITI M90.150/2': 24,\n",
       " 'Toyota Venza': 25,\n",
       " 'Volvo XC90': 26,\n",
       " 'Mercedes-Benz C 63 AMG': 27,\n",
       " 'Honda CR-V': 28,\n",
       " 'Hyundai Elantra': 29,\n",
       " 'Mercedes-Benz GLE 43 AMG': 30,\n",
       " 'BMW X6': 31,\n",
       " 'Mercedes-Benz E 550': 32,\n",
       " 'Toyota Avensis': 33,\n",
       " 'Scania P94 FLATBED': 34,\n",
       " 'Nissan Cabstar': 35,\n",
       " 'Mercedes-Benz GLE 350': 36,\n",
       " 'Mercedes-Benz 320': 37,\n",
       " 'Fiat Ducato': 38,\n",
       " 'Land Rover Range Rover Evoque': 39,\n",
       " 'MINI Cooper Countryman': 40,\n",
       " 'Mazda 6': 41,\n",
       " 'Volvo FL12': 42,\n",
       " 'Jeep Wrangler': 43,\n",
       " 'GMC Terrain': 44,\n",
       " 'Volkswagen T4 Caravelle': 45,\n",
       " 'Ford Explorer': 46,\n",
       " 'Chevrolet Evanda': 47,\n",
       " 'Toyota Corolla': 48,\n",
       " 'Honda Element': 49,\n",
       " 'Ford Fusion': 50,\n",
       " 'Acura RDX': 51,\n",
       " 'Nissan Frontier': 52,\n",
       " 'Mercedes-Benz C 180': 53,\n",
       " 'DAF FA 55. 180': 54,\n",
       " 'DAF CF': 55,\n",
       " 'Toyota Prius': 56,\n",
       " 'Toyota Tacoma': 57,\n",
       " 'Nissan Versa': 58,\n",
       " 'Mitsubishi Montero': 59,\n",
       " 'Volkswagen Sharan': 60,\n",
       " 'Nissan Maxima': 61,\n",
       " 'Mercedes-Benz C 320': 62,\n",
       " 'Nissan Rogue': 63,\n",
       " 'BMW 528': 64,\n",
       " 'IVECO EUROTECH 7.50E-16': 65,\n",
       " 'Infiniti QX80': 66,\n",
       " 'Mercedes-Benz GL 450': 67,\n",
       " 'Ford TRANSIT PICKUP': 68,\n",
       " 'Scania TRACTOR HEAD': 69,\n",
       " 'Volkswagen LT': 70,\n",
       " 'Ford Transit': 71,\n",
       " 'Hyundai Santa Fe': 72,\n",
       " 'Acura TL': 73,\n",
       " 'Mack CXN613': 74,\n",
       " 'Toyota C-HR': 75,\n",
       " 'Mack CH613 CONVENTIONAL CAB': 76,\n",
       " 'Toyota Matrix': 77,\n",
       " 'Mercedes-Benz S 450': 78,\n",
       " 'BMW 730': 79,\n",
       " 'Volvo XC60': 80,\n",
       " 'Bentley Arnage': 81,\n",
       " 'Honda Fit': 82,\n",
       " 'BMW 335': 83,\n",
       " 'Mack R-686ST': 84,\n",
       " 'Mercedes-Benz GLK 300': 85,\n",
       " 'Ford Escape': 86,\n",
       " 'Mercedes-Benz C 300': 87,\n",
       " 'Lexus ES 300': 88,\n",
       " 'Volkswagen Jetta': 89,\n",
       " 'Mercedes-Benz WATER TANKER': 90,\n",
       " 'Ford Edge': 91,\n",
       " 'Nissan Murano': 92,\n",
       " 'Honda Civic': 93,\n",
       " 'Volvo S80': 94,\n",
       " 'Mercedes-Benz E 320': 95,\n",
       " 'Nissan Titan': 96,\n",
       " 'Lexus LX 570': 97,\n",
       " 'BMW 535': 98,\n",
       " 'Pontiac Vibe': 99,\n",
       " 'Nissan A': 100,\n",
       " 'MINI Cooper': 101,\n",
       " 'Honda Ridgeline': 102,\n",
       " 'Mitsubishi Eclipse': 103,\n",
       " 'Volvo FL7': 104,\n",
       " 'Lexus GS 350': 105,\n",
       " 'Toyota Highlander': 106,\n",
       " 'Infiniti JX': 107,\n",
       " 'Acura ZDX': 108,\n",
       " 'Toyota Sequoia': 109,\n",
       " 'Honda Crosstour': 110,\n",
       " 'Mercedes-Benz C 350': 111,\n",
       " 'Land Rover Discovery': 112,\n",
       " 'Man TGA 18.360': 113,\n",
       " 'Man LE 8. 180 PLATFORM TRUCK': 114,\n",
       " 'Mercedes-Benz/52': 115,\n",
       " 'JMC Vigus': 116,\n",
       " 'Toyota RAV 4': 117,\n",
       " 'Mercedes-Benz 220': 118,\n",
       " 'Iveco EUROCARGO 120e18': 119,\n",
       " 'Toyota DYNA 200': 120,\n",
       " 'Man 26-403': 121,\n",
       " 'Toyota Avalon': 122,\n",
       " 'Iveco TRUCK': 123,\n",
       " 'Ford Mustang': 124,\n",
       " 'Mercedes-Benz S 550': 125,\n",
       " 'Infiniti FX': 126,\n",
       " 'Volkswagen Tiguan': 127,\n",
       " 'Mitsubishi Galant': 128,\n",
       " 'Mercedes-Benz GLC 300': 129,\n",
       " 'Lexus LS 460': 130,\n",
       " 'Dodge Charger': 131,\n",
       " 'Lexus RX 350': 132,\n",
       " 'Lexus IS 250': 133,\n",
       " 'Mercedes-Benz CLA 250': 134,\n",
       " 'Toyota Dyna': 135,\n",
       " 'Porsche Panamera': 136,\n",
       " 'Mercedes-Benz DUMP TRUCK': 137,\n",
       " 'Mercedes-Benz G 63 AMG': 138,\n",
       " 'Mitsubishi Pajero': 139,\n",
       " 'Jaguar X-Type': 140,\n",
       " 'BMW X3': 141,\n",
       " 'Mercedes-Benz GLK 350': 142,\n",
       " 'Infiniti M35': 143,\n",
       " 'Mazda Tribute': 144,\n",
       " 'Ford Expedition': 145,\n",
       " 'Toyota Land Cruiser': 146,\n",
       " 'Hyundai Sonata': 147,\n",
       " 'BMW 745': 148,\n",
       " 'Man BOCKMANN': 149,\n",
       " 'Mercedes-Benz 300': 150,\n",
       " 'Mercedes-Benz SL 400': 151,\n",
       " 'Nissan Quest': 152,\n",
       " 'Kia Optima': 153,\n",
       " 'Volvo FH12': 154,\n",
       " 'ALPINA B3': 155,\n",
       " 'Mercedes-Benz GLE 450': 156,\n",
       " 'Nissan Xterra': 157,\n",
       " 'Kia Stinger': 158,\n",
       " 'Land Rover Range Rover Velar': 159,\n",
       " 'Man Diesel 19.314 FILT-N': 160,\n",
       " 'Porsche Cayenne': 161,\n",
       " 'Isuzu CABSTER': 162,\n",
       " 'Lincoln Mark': 163,\n",
       " 'Man Truck 18.44': 164,\n",
       " 'Peugeot 607': 165,\n",
       " 'DAF 45': 166,\n",
       " 'Toyota Vitz': 167,\n",
       " 'Volkswagen T6 other': 168,\n",
       " 'Chevrolet Camaro': 169,\n",
       " 'Toyota Hiace': 170,\n",
       " 'Mercedes-Benz GLA 180': 171,\n",
       " 'Mitsubishi CANTER PICK UP': 172,\n",
       " 'GAC Gonow Other': 173,\n",
       " 'Mack CXN613 CAB BEHIND ENGINE': 174,\n",
       " 'Lexus RX 400': 175,\n",
       " 'Honda Accord': 176,\n",
       " 'Nissan Sentra': 177,\n",
       " 'Toyota Hilux': 178,\n",
       " 'Mercedes-Benz C 450 AMG': 179,\n",
       " 'Lexus RX 330': 180,\n",
       " 'Audi S6': 181,\n",
       " 'Toyota Coaster': 182,\n",
       " 'Peugeot 206': 183,\n",
       " 'Volkswagen 17.22': 184,\n",
       " 'Honda Pilot': 185,\n",
       " 'Lexus ES 350': 186,\n",
       " 'Kia Rio': 187,\n",
       " 'Mercedes-Benz G 550': 188,\n",
       " 'Mercedes-Benz 200': 189,\n",
       " 'Mercedes-Benz E 350': 190,\n",
       " 'MINI Cooper Coupé': 191,\n",
       " 'Isuzu NQR': 192,\n",
       " 'DAF 95XF TRACTOR HEAD': 193,\n",
       " 'Lexus ES 330': 194,\n",
       " 'Jeep Cherokee': 195,\n",
       " 'Volkswagen Golf': 196,\n",
       " 'Honda Odyssey': 197,\n",
       " 'Nissan Altima': 198,\n",
       " 'Honda Insight': 199,\n",
       " 'Volkswagen Touareg': 200,\n",
       " 'DAF XF TRACTOR HEAD': 201,\n",
       " 'Ford Focus': 202,\n",
       " 'Volkswagen Passat': 203,\n",
       " 'MAN-VOLKSWAGEN FLATBED': 204,\n",
       " 'Ford Mondeo': 205,\n",
       " 'Mercedes-Benz ML 320': 206,\n",
       " 'Mercedes-Benz 709 DB': 207,\n",
       " 'Kia Soul': 208,\n",
       " 'Acura TSX': 209,\n",
       " 'Kia Picanto': 210,\n",
       " 'Rolls-Royce Ghost': 211,\n",
       " 'BMW 325': 212,\n",
       " 'Mercedes-Benz E 300': 213,\n",
       " 'Mitsubishi L200': 214,\n",
       " 'Mercedes-Benz ML 430': 215,\n",
       " 'Mercedes-Benz E 200': 216,\n",
       " 'Mercedes-Benz C 250': 217,\n",
       " 'Mercedes-Benz 450': 218,\n",
       " 'Chevrolet Traverse': 219,\n",
       " 'Land Rover Range Rover Sport': 220,\n",
       " 'Nissan X-Trail': 221,\n",
       " 'Toyota Tundra': 222,\n",
       " 'Hyundai Tucson': 223,\n",
       " 'Mercedes-Benz GLA 250': 224,\n",
       " 'BMW 750': 225,\n",
       " 'Toyota Camry': 226,\n",
       " 'Kia Sorento': 227,\n",
       " 'Lexus GX 470': 228,\n",
       " 'Lexus RX 300': 229,\n",
       " 'Lexus GX 460': 230,\n",
       " 'Toyota Sienna': 231,\n",
       " 'Mercedes-Benz Maybach': 232,\n",
       " 'Peugeot 308': 233,\n",
       " 'Mazda 323': 234,\n",
       " 'Nissan Pathfinder': 235,\n",
       " 'IVM LT35': 236,\n",
       " 'Porsche Macan': 237,\n",
       " 'Hyundai ix35': 238,\n",
       " 'Acura MDX': 239}"
      ]
     },
     "execution_count": 59,
     "metadata": {},
     "output_type": "execute_result"
    }
   ],
   "source": [
    "car_title_label = {car_title : label for label, car_title in enumerate(car_title)}\n",
    "car_title_label"
   ]
  },
  {
   "cell_type": "code",
   "execution_count": 60,
   "id": "0e473afc",
   "metadata": {},
   "outputs": [],
   "source": [
    "train['title'] = train['title'].replace(car_title_label)\n",
    "test['title'] = test['title'].replace(car_title_label)"
   ]
  },
  {
   "cell_type": "code",
   "execution_count": 61,
   "id": "996ac784",
   "metadata": {},
   "outputs": [
    {
     "data": {
      "text/html": [
       "<div>\n",
       "<style scoped>\n",
       "    .dataframe tbody tr th:only-of-type {\n",
       "        vertical-align: middle;\n",
       "    }\n",
       "\n",
       "    .dataframe tbody tr th {\n",
       "        vertical-align: top;\n",
       "    }\n",
       "\n",
       "    .dataframe thead th {\n",
       "        text-align: right;\n",
       "    }\n",
       "</style>\n",
       "<table border=\"1\" class=\"dataframe\">\n",
       "  <thead>\n",
       "    <tr style=\"text-align: right;\">\n",
       "      <th></th>\n",
       "      <th>id</th>\n",
       "      <th>title</th>\n",
       "      <th>odometer</th>\n",
       "      <th>location</th>\n",
       "      <th>isimported</th>\n",
       "      <th>engine</th>\n",
       "      <th>transmission</th>\n",
       "      <th>fuel</th>\n",
       "      <th>paint</th>\n",
       "      <th>year</th>\n",
       "      <th>target</th>\n",
       "      <th>brand</th>\n",
       "    </tr>\n",
       "  </thead>\n",
       "  <tbody>\n",
       "    <tr>\n",
       "      <th>0</th>\n",
       "      <td>0</td>\n",
       "      <td>117</td>\n",
       "      <td>18277</td>\n",
       "      <td>Lagos</td>\n",
       "      <td>Foreign Used</td>\n",
       "      <td>4-cylinder(I4)</td>\n",
       "      <td>automatic</td>\n",
       "      <td>petrol</td>\n",
       "      <td>red</td>\n",
       "      <td>2016</td>\n",
       "      <td>13665000</td>\n",
       "      <td>37</td>\n",
       "    </tr>\n",
       "    <tr>\n",
       "      <th>1</th>\n",
       "      <td>1</td>\n",
       "      <td>146</td>\n",
       "      <td>10</td>\n",
       "      <td>Lagos</td>\n",
       "      <td>New</td>\n",
       "      <td>4-cylinder(I4)</td>\n",
       "      <td>automatic</td>\n",
       "      <td>petrol</td>\n",
       "      <td>black</td>\n",
       "      <td>2019</td>\n",
       "      <td>33015000</td>\n",
       "      <td>37</td>\n",
       "    </tr>\n",
       "    <tr>\n",
       "      <th>2</th>\n",
       "      <td>2</td>\n",
       "      <td>39</td>\n",
       "      <td>83091</td>\n",
       "      <td>Lagos</td>\n",
       "      <td>Foreign Used</td>\n",
       "      <td>6-cylinder(V6)</td>\n",
       "      <td>automatic</td>\n",
       "      <td>petrol</td>\n",
       "      <td>red</td>\n",
       "      <td>2012</td>\n",
       "      <td>9915000</td>\n",
       "      <td>26</td>\n",
       "    </tr>\n",
       "    <tr>\n",
       "      <th>3</th>\n",
       "      <td>3</td>\n",
       "      <td>186</td>\n",
       "      <td>91524</td>\n",
       "      <td>Lagos</td>\n",
       "      <td>Foreign Used</td>\n",
       "      <td>4-cylinder(I4)</td>\n",
       "      <td>automatic</td>\n",
       "      <td>petrol</td>\n",
       "      <td>grey</td>\n",
       "      <td>2007</td>\n",
       "      <td>3815000</td>\n",
       "      <td>14</td>\n",
       "    </tr>\n",
       "    <tr>\n",
       "      <th>4</th>\n",
       "      <td>4</td>\n",
       "      <td>25</td>\n",
       "      <td>94177</td>\n",
       "      <td>Lagos</td>\n",
       "      <td>Foreign Used</td>\n",
       "      <td>6-cylinder(V6)</td>\n",
       "      <td>automatic</td>\n",
       "      <td>petrol</td>\n",
       "      <td>red</td>\n",
       "      <td>2010</td>\n",
       "      <td>7385000</td>\n",
       "      <td>37</td>\n",
       "    </tr>\n",
       "  </tbody>\n",
       "</table>\n",
       "</div>"
      ],
      "text/plain": [
       "   id  title  odometer location    isimported          engine transmission  \\\n",
       "0   0    117     18277    Lagos  Foreign Used  4-cylinder(I4)    automatic   \n",
       "1   1    146        10    Lagos          New   4-cylinder(I4)    automatic   \n",
       "2   2     39     83091    Lagos  Foreign Used  6-cylinder(V6)    automatic   \n",
       "3   3    186     91524    Lagos  Foreign Used  4-cylinder(I4)    automatic   \n",
       "4   4     25     94177    Lagos  Foreign Used  6-cylinder(V6)    automatic   \n",
       "\n",
       "     fuel  paint  year    target  brand  \n",
       "0  petrol    red  2016  13665000     37  \n",
       "1  petrol  black  2019  33015000     37  \n",
       "2  petrol    red  2012   9915000     26  \n",
       "3  petrol   grey  2007   3815000     14  \n",
       "4  petrol    red  2010   7385000     37  "
      ]
     },
     "execution_count": 61,
     "metadata": {},
     "output_type": "execute_result"
    }
   ],
   "source": [
    "train.head(5)"
   ]
  },
  {
   "cell_type": "code",
   "execution_count": 62,
   "id": "01ac0358",
   "metadata": {},
   "outputs": [
    {
     "data": {
      "text/html": [
       "<div>\n",
       "<style scoped>\n",
       "    .dataframe tbody tr th:only-of-type {\n",
       "        vertical-align: middle;\n",
       "    }\n",
       "\n",
       "    .dataframe tbody tr th {\n",
       "        vertical-align: top;\n",
       "    }\n",
       "\n",
       "    .dataframe thead th {\n",
       "        text-align: right;\n",
       "    }\n",
       "</style>\n",
       "<table border=\"1\" class=\"dataframe\">\n",
       "  <thead>\n",
       "    <tr style=\"text-align: right;\">\n",
       "      <th></th>\n",
       "      <th>id</th>\n",
       "      <th>title</th>\n",
       "      <th>odometer</th>\n",
       "      <th>location</th>\n",
       "      <th>isimported</th>\n",
       "      <th>engine</th>\n",
       "      <th>transmission</th>\n",
       "      <th>fuel</th>\n",
       "      <th>paint</th>\n",
       "      <th>year</th>\n",
       "      <th>brand</th>\n",
       "    </tr>\n",
       "  </thead>\n",
       "  <tbody>\n",
       "    <tr>\n",
       "      <th>0</th>\n",
       "      <td>0</td>\n",
       "      <td>87</td>\n",
       "      <td>1234</td>\n",
       "      <td>Abuja</td>\n",
       "      <td>New</td>\n",
       "      <td>4-cylinder(I4)</td>\n",
       "      <td>automatic</td>\n",
       "      <td>petrol</td>\n",
       "      <td>white</td>\n",
       "      <td>2017</td>\n",
       "      <td>4</td>\n",
       "    </tr>\n",
       "  </tbody>\n",
       "</table>\n",
       "</div>"
      ],
      "text/plain": [
       "   id  title  odometer location isimported          engine transmission  \\\n",
       "0   0     87      1234    Abuja       New   4-cylinder(I4)    automatic   \n",
       "\n",
       "     fuel  paint  year  brand  \n",
       "0  petrol  white  2017      4  "
      ]
     },
     "execution_count": 62,
     "metadata": {},
     "output_type": "execute_result"
    }
   ],
   "source": [
    "test.head(1)"
   ]
  },
  {
   "cell_type": "code",
   "execution_count": 63,
   "id": "a7aab26c",
   "metadata": {},
   "outputs": [
    {
     "data": {
      "text/plain": [
       "array(['Lagos', 'Abuja', 'Ogun', 'FCT', 'Accra', 'other', 'Abia',\n",
       "       'Adamawa'], dtype=object)"
      ]
     },
     "execution_count": 63,
     "metadata": {},
     "output_type": "execute_result"
    }
   ],
   "source": [
    "train.location.unique()"
   ]
  },
  {
   "cell_type": "code",
   "execution_count": 64,
   "id": "cf077d2f",
   "metadata": {},
   "outputs": [
    {
     "data": {
      "text/plain": [
       "array(['Abuja', 'Lagos', 'Ogun', 'Mushin', 'other', 'Abia'], dtype=object)"
      ]
     },
     "execution_count": 64,
     "metadata": {},
     "output_type": "execute_result"
    }
   ],
   "source": [
    "test.location.unique()"
   ]
  },
  {
   "cell_type": "code",
   "execution_count": 65,
   "id": "fa23569e",
   "metadata": {},
   "outputs": [],
   "source": [
    "# Mushin은 Loagos와 연관있는 곳\n",
    "test['location'] = test['location'].str.replace('Mushin', 'Lagos') "
   ]
  },
  {
   "cell_type": "code",
   "execution_count": 66,
   "id": "4dfa2dcc",
   "metadata": {},
   "outputs": [
    {
     "data": {
      "text/plain": [
       "array(['Abuja', 'Lagos', 'Ogun', 'other', 'Abia'], dtype=object)"
      ]
     },
     "execution_count": 66,
     "metadata": {},
     "output_type": "execute_result"
    }
   ],
   "source": [
    "test.location.unique()"
   ]
  },
  {
   "cell_type": "code",
   "execution_count": 67,
   "id": "f34ab629",
   "metadata": {},
   "outputs": [
    {
     "name": "stdout",
     "output_type": "stream",
     "text": [
      "{'Accra', 'Ogun', 'Abuja', 'Lagos', 'FCT', 'other', 'Abia', 'Adamawa'}\n"
     ]
    }
   ],
   "source": [
    "location_label = set(train.location) | set(test.location) # 합집합\n",
    "print(location_label)"
   ]
  },
  {
   "cell_type": "code",
   "execution_count": 68,
   "id": "fb04ccf4",
   "metadata": {},
   "outputs": [],
   "source": [
    "location_label = {_location : label for label, _location in enumerate(set(pd.concat([train.location, test.location])))}\n",
    "\n",
    "train['location'] = train['location'].replace(location_label)\n",
    "test['location'] = test['location'].replace(location_label)"
   ]
  },
  {
   "cell_type": "code",
   "execution_count": 69,
   "id": "20fcf913",
   "metadata": {},
   "outputs": [
    {
     "data": {
      "text/plain": [
       "{'Accra': 0,\n",
       " 'Ogun': 1,\n",
       " 'Abuja': 2,\n",
       " 'Lagos': 3,\n",
       " 'FCT': 4,\n",
       " 'other': 5,\n",
       " 'Abia': 6,\n",
       " 'Adamawa': 7}"
      ]
     },
     "execution_count": 69,
     "metadata": {},
     "output_type": "execute_result"
    }
   ],
   "source": [
    "location_label"
   ]
  },
  {
   "cell_type": "code",
   "execution_count": 70,
   "id": "d7ec3eb1",
   "metadata": {},
   "outputs": [
    {
     "name": "stdout",
     "output_type": "stream",
     "text": [
      "18\n"
     ]
    },
    {
     "data": {
      "text/plain": [
       "16"
      ]
     },
     "execution_count": 70,
     "metadata": {},
     "output_type": "execute_result"
    }
   ],
   "source": [
    "print(len(train['paint'].unique()))\n",
    "len(test['paint'].unique())"
   ]
  },
  {
   "cell_type": "code",
   "execution_count": 71,
   "id": "510f2fbb",
   "metadata": {},
   "outputs": [],
   "source": [
    "paint_label = {_paint : label for label, _paint in enumerate(set(pd.concat([train.paint, test.paint])))}"
   ]
  },
  {
   "cell_type": "code",
   "execution_count": 72,
   "id": "c41355b8",
   "metadata": {},
   "outputs": [
    {
     "data": {
      "text/plain": [
       "{'yellow': 0,\n",
       " 'maroon': 1,\n",
       " 'beige': 2,\n",
       " 'green': 3,\n",
       " 'ash': 4,\n",
       " 'wine': 5,\n",
       " 'silver': 6,\n",
       " 'indigo ink pearl': 7,\n",
       " 'red': 8,\n",
       " 'black': 9,\n",
       " 'blue': 10,\n",
       " 'grey': 11,\n",
       " 'orange': 12,\n",
       " 'white': 13,\n",
       " 'gold': 14,\n",
       " 'brown': 15,\n",
       " 'cream': 16,\n",
       " 'purple': 17,\n",
       " 'milk': 18}"
      ]
     },
     "execution_count": 72,
     "metadata": {},
     "output_type": "execute_result"
    }
   ],
   "source": [
    "paint_label"
   ]
  },
  {
   "cell_type": "code",
   "execution_count": 73,
   "id": "6a9a0080",
   "metadata": {},
   "outputs": [],
   "source": [
    "train['paint'] = train['paint'].replace(paint_label)\n",
    "test['paint'] = test['paint'].replace(paint_label)"
   ]
  },
  {
   "cell_type": "code",
   "execution_count": 74,
   "id": "2f474037",
   "metadata": {},
   "outputs": [
    {
     "data": {
      "text/plain": [
       "{'12-cylinder(V12)', '4-cylinder(H4)'}"
      ]
     },
     "execution_count": 74,
     "metadata": {},
     "output_type": "execute_result"
    }
   ],
   "source": [
    "set(set(train.engine.unique()) | set(test.engine.unique())) - set(set(train.engine.unique()) & set(test.engine.unique()))"
   ]
  },
  {
   "cell_type": "code",
   "execution_count": 75,
   "id": "c7cd6724",
   "metadata": {},
   "outputs": [
    {
     "data": {
      "text/html": [
       "<div>\n",
       "<style scoped>\n",
       "    .dataframe tbody tr th:only-of-type {\n",
       "        vertical-align: middle;\n",
       "    }\n",
       "\n",
       "    .dataframe tbody tr th {\n",
       "        vertical-align: top;\n",
       "    }\n",
       "\n",
       "    .dataframe thead th {\n",
       "        text-align: right;\n",
       "    }\n",
       "</style>\n",
       "<table border=\"1\" class=\"dataframe\">\n",
       "  <thead>\n",
       "    <tr style=\"text-align: right;\">\n",
       "      <th></th>\n",
       "      <th>id</th>\n",
       "      <th>title</th>\n",
       "      <th>odometer</th>\n",
       "      <th>location</th>\n",
       "      <th>isimported</th>\n",
       "      <th>engine</th>\n",
       "      <th>transmission</th>\n",
       "      <th>fuel</th>\n",
       "      <th>paint</th>\n",
       "      <th>year</th>\n",
       "      <th>target</th>\n",
       "      <th>brand</th>\n",
       "    </tr>\n",
       "  </thead>\n",
       "  <tbody>\n",
       "    <tr>\n",
       "      <th>327</th>\n",
       "      <td>327</td>\n",
       "      <td>226</td>\n",
       "      <td>3656</td>\n",
       "      <td>2</td>\n",
       "      <td>Foreign Used</td>\n",
       "      <td>4-cylinder(H4)</td>\n",
       "      <td>automatic</td>\n",
       "      <td>petrol</td>\n",
       "      <td>6</td>\n",
       "      <td>2020</td>\n",
       "      <td>20015000</td>\n",
       "      <td>37</td>\n",
       "    </tr>\n",
       "    <tr>\n",
       "      <th>830</th>\n",
       "      <td>830</td>\n",
       "      <td>176</td>\n",
       "      <td>152229</td>\n",
       "      <td>3</td>\n",
       "      <td>Foreign Used</td>\n",
       "      <td>4-cylinder(H4)</td>\n",
       "      <td>automatic</td>\n",
       "      <td>petrol</td>\n",
       "      <td>11</td>\n",
       "      <td>2007</td>\n",
       "      <td>2765000</td>\n",
       "      <td>5</td>\n",
       "    </tr>\n",
       "  </tbody>\n",
       "</table>\n",
       "</div>"
      ],
      "text/plain": [
       "      id  title  odometer  location    isimported          engine  \\\n",
       "327  327    226      3656         2  Foreign Used  4-cylinder(H4)   \n",
       "830  830    176    152229         3  Foreign Used  4-cylinder(H4)   \n",
       "\n",
       "    transmission    fuel  paint  year    target  brand  \n",
       "327    automatic  petrol      6  2020  20015000     37  \n",
       "830    automatic  petrol     11  2007   2765000      5  "
      ]
     },
     "execution_count": 75,
     "metadata": {},
     "output_type": "execute_result"
    }
   ],
   "source": [
    "train[train.engine == '4-cylinder(H4)']"
   ]
  },
  {
   "cell_type": "code",
   "execution_count": 76,
   "id": "16d7d3ea",
   "metadata": {},
   "outputs": [],
   "source": [
    "train = train.replace({'4-cylinder(H4)' : '4-cylinder(I4)'})"
   ]
  },
  {
   "cell_type": "code",
   "execution_count": 77,
   "id": "4f07b6c4",
   "metadata": {},
   "outputs": [
    {
     "data": {
      "text/html": [
       "<div>\n",
       "<style scoped>\n",
       "    .dataframe tbody tr th:only-of-type {\n",
       "        vertical-align: middle;\n",
       "    }\n",
       "\n",
       "    .dataframe tbody tr th {\n",
       "        vertical-align: top;\n",
       "    }\n",
       "\n",
       "    .dataframe thead th {\n",
       "        text-align: right;\n",
       "    }\n",
       "</style>\n",
       "<table border=\"1\" class=\"dataframe\">\n",
       "  <thead>\n",
       "    <tr style=\"text-align: right;\">\n",
       "      <th></th>\n",
       "      <th>id</th>\n",
       "      <th>title</th>\n",
       "      <th>odometer</th>\n",
       "      <th>location</th>\n",
       "      <th>isimported</th>\n",
       "      <th>engine</th>\n",
       "      <th>transmission</th>\n",
       "      <th>fuel</th>\n",
       "      <th>paint</th>\n",
       "      <th>year</th>\n",
       "      <th>brand</th>\n",
       "    </tr>\n",
       "  </thead>\n",
       "  <tbody>\n",
       "    <tr>\n",
       "      <th>142</th>\n",
       "      <td>142</td>\n",
       "      <td>232</td>\n",
       "      <td>6758</td>\n",
       "      <td>3</td>\n",
       "      <td>New</td>\n",
       "      <td>12-cylinder(V12)</td>\n",
       "      <td>automatic</td>\n",
       "      <td>petrol</td>\n",
       "      <td>9</td>\n",
       "      <td>2019</td>\n",
       "      <td>4</td>\n",
       "    </tr>\n",
       "  </tbody>\n",
       "</table>\n",
       "</div>"
      ],
      "text/plain": [
       "      id  title  odometer  location isimported            engine transmission  \\\n",
       "142  142    232      6758         3       New   12-cylinder(V12)    automatic   \n",
       "\n",
       "       fuel  paint  year  brand  \n",
       "142  petrol      9  2019      4  "
      ]
     },
     "execution_count": 77,
     "metadata": {},
     "output_type": "execute_result"
    }
   ],
   "source": [
    "test[test.engine == '12-cylinder(V12)']"
   ]
  },
  {
   "cell_type": "code",
   "execution_count": 78,
   "id": "5496d9d5",
   "metadata": {},
   "outputs": [],
   "source": [
    "test = test.replace({'12-cylinder(V12)' : '8-cylinder(V8)'})"
   ]
  },
  {
   "cell_type": "code",
   "execution_count": 79,
   "id": "5642aff0",
   "metadata": {},
   "outputs": [
    {
     "data": {
      "text/html": [
       "<div>\n",
       "<style scoped>\n",
       "    .dataframe tbody tr th:only-of-type {\n",
       "        vertical-align: middle;\n",
       "    }\n",
       "\n",
       "    .dataframe tbody tr th {\n",
       "        vertical-align: top;\n",
       "    }\n",
       "\n",
       "    .dataframe thead th {\n",
       "        text-align: right;\n",
       "    }\n",
       "</style>\n",
       "<table border=\"1\" class=\"dataframe\">\n",
       "  <thead>\n",
       "    <tr style=\"text-align: right;\">\n",
       "      <th></th>\n",
       "      <th>id</th>\n",
       "      <th>title</th>\n",
       "      <th>odometer</th>\n",
       "      <th>location</th>\n",
       "      <th>isimported</th>\n",
       "      <th>engine</th>\n",
       "      <th>transmission</th>\n",
       "      <th>fuel</th>\n",
       "      <th>paint</th>\n",
       "      <th>year</th>\n",
       "      <th>brand</th>\n",
       "    </tr>\n",
       "  </thead>\n",
       "  <tbody>\n",
       "    <tr>\n",
       "      <th>142</th>\n",
       "      <td>142</td>\n",
       "      <td>232</td>\n",
       "      <td>6758</td>\n",
       "      <td>3</td>\n",
       "      <td>New</td>\n",
       "      <td>8-cylinder(V8)</td>\n",
       "      <td>automatic</td>\n",
       "      <td>petrol</td>\n",
       "      <td>9</td>\n",
       "      <td>2019</td>\n",
       "      <td>4</td>\n",
       "    </tr>\n",
       "  </tbody>\n",
       "</table>\n",
       "</div>"
      ],
      "text/plain": [
       "      id  title  odometer  location isimported          engine transmission  \\\n",
       "142  142    232      6758         3       New   8-cylinder(V8)    automatic   \n",
       "\n",
       "       fuel  paint  year  brand  \n",
       "142  petrol      9  2019      4  "
      ]
     },
     "execution_count": 79,
     "metadata": {},
     "output_type": "execute_result"
    }
   ],
   "source": [
    "test.iloc[[142]]"
   ]
  },
  {
   "cell_type": "code",
   "execution_count": 80,
   "id": "82ee3d8d",
   "metadata": {},
   "outputs": [
    {
     "data": {
      "text/plain": [
       "{'6-cylinder(I6)': 0,\n",
       " '4-cylinder(I4)': 1,\n",
       " '8-cylinder(V8)': 2,\n",
       " '5-cylinder(I5)': 3,\n",
       " '6-cylinder(V6)': 4,\n",
       " '3-cylinder(I3)': 5,\n",
       " '2-cylinder(I2)': 6}"
      ]
     },
     "execution_count": 80,
     "metadata": {},
     "output_type": "execute_result"
    }
   ],
   "source": [
    "engine_label = {_engine : label for label, _engine in enumerate(set(pd.concat([train.engine, test.engine])))}\n",
    "engine_label"
   ]
  },
  {
   "cell_type": "code",
   "execution_count": 81,
   "id": "85dc0615",
   "metadata": {},
   "outputs": [],
   "source": [
    "train = train.replace(engine_label)\n",
    "test = test.replace(engine_label)"
   ]
  },
  {
   "cell_type": "code",
   "execution_count": 82,
   "id": "608a6323",
   "metadata": {},
   "outputs": [],
   "source": [
    "train['year'] = train['year'].replace([1218, 1217], [2010, 2010])\n",
    "test['year'] = test['year'].replace([1324, 1726, 2626], [2010, 2010, 2020])"
   ]
  },
  {
   "cell_type": "code",
   "execution_count": 83,
   "id": "c333843d",
   "metadata": {},
   "outputs": [],
   "source": [
    "isimported_label = {'Foreign Used': 0, 'Locally used' : 1, 'New ' : 2}\n",
    "transmission_label = {'automatic' : 0, 'manual' : 1}\n",
    "fuel_label = {'petrol' : 0, 'diesel' : 1}"
   ]
  },
  {
   "cell_type": "code",
   "execution_count": 84,
   "id": "a6fc9a65",
   "metadata": {},
   "outputs": [],
   "source": [
    "train['isimported'] = train['isimported'].replace(isimported_label)\n",
    "test['isimported'] = test['isimported'].replace(isimported_label)\n",
    "\n",
    "train['transmission'] = train['transmission'].replace(transmission_label)\n",
    "test['transmission'] = test['transmission'].replace(transmission_label)\n",
    "\n",
    "train['fuel'] = train['fuel'].replace(fuel_label)\n",
    "test['fuel'] = test['fuel'].replace(fuel_label)"
   ]
  },
  {
   "cell_type": "markdown",
   "id": "61e2967b",
   "metadata": {},
   "source": [
    "## 추가 컬럼"
   ]
  },
  {
   "cell_type": "code",
   "execution_count": 85,
   "id": "056c37c0",
   "metadata": {},
   "outputs": [
    {
     "data": {
      "text/html": [
       "<div>\n",
       "<style scoped>\n",
       "    .dataframe tbody tr th:only-of-type {\n",
       "        vertical-align: middle;\n",
       "    }\n",
       "\n",
       "    .dataframe tbody tr th {\n",
       "        vertical-align: top;\n",
       "    }\n",
       "\n",
       "    .dataframe thead th {\n",
       "        text-align: right;\n",
       "    }\n",
       "</style>\n",
       "<table border=\"1\" class=\"dataframe\">\n",
       "  <thead>\n",
       "    <tr style=\"text-align: right;\">\n",
       "      <th></th>\n",
       "      <th>id</th>\n",
       "      <th>title</th>\n",
       "      <th>odometer</th>\n",
       "      <th>location</th>\n",
       "      <th>isimported</th>\n",
       "      <th>engine</th>\n",
       "      <th>transmission</th>\n",
       "      <th>fuel</th>\n",
       "      <th>paint</th>\n",
       "      <th>year</th>\n",
       "      <th>target</th>\n",
       "      <th>brand</th>\n",
       "    </tr>\n",
       "  </thead>\n",
       "  <tbody>\n",
       "    <tr>\n",
       "      <th>id</th>\n",
       "      <td>1.000000</td>\n",
       "      <td>0.073068</td>\n",
       "      <td>-0.017320</td>\n",
       "      <td>0.039806</td>\n",
       "      <td>0.003261</td>\n",
       "      <td>0.018085</td>\n",
       "      <td>-0.021177</td>\n",
       "      <td>-0.002189</td>\n",
       "      <td>-0.023896</td>\n",
       "      <td>0.000323</td>\n",
       "      <td>0.025104</td>\n",
       "      <td>-0.000712</td>\n",
       "    </tr>\n",
       "    <tr>\n",
       "      <th>title</th>\n",
       "      <td>0.073068</td>\n",
       "      <td>1.000000</td>\n",
       "      <td>0.030448</td>\n",
       "      <td>-0.037900</td>\n",
       "      <td>0.019748</td>\n",
       "      <td>-0.021956</td>\n",
       "      <td>-0.053778</td>\n",
       "      <td>-0.052253</td>\n",
       "      <td>0.018296</td>\n",
       "      <td>-0.035670</td>\n",
       "      <td>-0.041910</td>\n",
       "      <td>0.066188</td>\n",
       "    </tr>\n",
       "    <tr>\n",
       "      <th>odometer</th>\n",
       "      <td>-0.017320</td>\n",
       "      <td>0.030448</td>\n",
       "      <td>1.000000</td>\n",
       "      <td>0.024858</td>\n",
       "      <td>0.147480</td>\n",
       "      <td>0.103099</td>\n",
       "      <td>0.295716</td>\n",
       "      <td>0.305862</td>\n",
       "      <td>0.049812</td>\n",
       "      <td>-0.504128</td>\n",
       "      <td>-0.261147</td>\n",
       "      <td>0.009460</td>\n",
       "    </tr>\n",
       "    <tr>\n",
       "      <th>location</th>\n",
       "      <td>0.039806</td>\n",
       "      <td>-0.037900</td>\n",
       "      <td>0.024858</td>\n",
       "      <td>1.000000</td>\n",
       "      <td>0.016009</td>\n",
       "      <td>0.022053</td>\n",
       "      <td>0.043688</td>\n",
       "      <td>0.073992</td>\n",
       "      <td>0.028861</td>\n",
       "      <td>0.020320</td>\n",
       "      <td>0.061530</td>\n",
       "      <td>0.019848</td>\n",
       "    </tr>\n",
       "    <tr>\n",
       "      <th>isimported</th>\n",
       "      <td>0.003261</td>\n",
       "      <td>0.019748</td>\n",
       "      <td>0.147480</td>\n",
       "      <td>0.016009</td>\n",
       "      <td>1.000000</td>\n",
       "      <td>0.092706</td>\n",
       "      <td>0.277265</td>\n",
       "      <td>0.276686</td>\n",
       "      <td>0.053476</td>\n",
       "      <td>-0.235053</td>\n",
       "      <td>0.067681</td>\n",
       "      <td>-0.059659</td>\n",
       "    </tr>\n",
       "    <tr>\n",
       "      <th>engine</th>\n",
       "      <td>0.018085</td>\n",
       "      <td>-0.021956</td>\n",
       "      <td>0.103099</td>\n",
       "      <td>0.022053</td>\n",
       "      <td>0.092706</td>\n",
       "      <td>1.000000</td>\n",
       "      <td>0.115912</td>\n",
       "      <td>0.104390</td>\n",
       "      <td>0.029929</td>\n",
       "      <td>-0.085566</td>\n",
       "      <td>0.028521</td>\n",
       "      <td>-0.031049</td>\n",
       "    </tr>\n",
       "    <tr>\n",
       "      <th>transmission</th>\n",
       "      <td>-0.021177</td>\n",
       "      <td>-0.053778</td>\n",
       "      <td>0.295716</td>\n",
       "      <td>0.043688</td>\n",
       "      <td>0.277265</td>\n",
       "      <td>0.115912</td>\n",
       "      <td>1.000000</td>\n",
       "      <td>0.902001</td>\n",
       "      <td>0.102323</td>\n",
       "      <td>-0.368940</td>\n",
       "      <td>-0.005705</td>\n",
       "      <td>-0.032254</td>\n",
       "    </tr>\n",
       "    <tr>\n",
       "      <th>fuel</th>\n",
       "      <td>-0.002189</td>\n",
       "      <td>-0.052253</td>\n",
       "      <td>0.305862</td>\n",
       "      <td>0.073992</td>\n",
       "      <td>0.276686</td>\n",
       "      <td>0.104390</td>\n",
       "      <td>0.902001</td>\n",
       "      <td>1.000000</td>\n",
       "      <td>0.112192</td>\n",
       "      <td>-0.350055</td>\n",
       "      <td>0.006340</td>\n",
       "      <td>-0.054792</td>\n",
       "    </tr>\n",
       "    <tr>\n",
       "      <th>paint</th>\n",
       "      <td>-0.023896</td>\n",
       "      <td>0.018296</td>\n",
       "      <td>0.049812</td>\n",
       "      <td>0.028861</td>\n",
       "      <td>0.053476</td>\n",
       "      <td>0.029929</td>\n",
       "      <td>0.102323</td>\n",
       "      <td>0.112192</td>\n",
       "      <td>1.000000</td>\n",
       "      <td>0.000066</td>\n",
       "      <td>0.035882</td>\n",
       "      <td>-0.053319</td>\n",
       "    </tr>\n",
       "    <tr>\n",
       "      <th>year</th>\n",
       "      <td>0.000323</td>\n",
       "      <td>-0.035670</td>\n",
       "      <td>-0.504128</td>\n",
       "      <td>0.020320</td>\n",
       "      <td>-0.235053</td>\n",
       "      <td>-0.085566</td>\n",
       "      <td>-0.368940</td>\n",
       "      <td>-0.350055</td>\n",
       "      <td>0.000066</td>\n",
       "      <td>1.000000</td>\n",
       "      <td>0.461563</td>\n",
       "      <td>-0.021338</td>\n",
       "    </tr>\n",
       "    <tr>\n",
       "      <th>target</th>\n",
       "      <td>0.025104</td>\n",
       "      <td>-0.041910</td>\n",
       "      <td>-0.261147</td>\n",
       "      <td>0.061530</td>\n",
       "      <td>0.067681</td>\n",
       "      <td>0.028521</td>\n",
       "      <td>-0.005705</td>\n",
       "      <td>0.006340</td>\n",
       "      <td>0.035882</td>\n",
       "      <td>0.461563</td>\n",
       "      <td>1.000000</td>\n",
       "      <td>-0.115037</td>\n",
       "    </tr>\n",
       "    <tr>\n",
       "      <th>brand</th>\n",
       "      <td>-0.000712</td>\n",
       "      <td>0.066188</td>\n",
       "      <td>0.009460</td>\n",
       "      <td>0.019848</td>\n",
       "      <td>-0.059659</td>\n",
       "      <td>-0.031049</td>\n",
       "      <td>-0.032254</td>\n",
       "      <td>-0.054792</td>\n",
       "      <td>-0.053319</td>\n",
       "      <td>-0.021338</td>\n",
       "      <td>-0.115037</td>\n",
       "      <td>1.000000</td>\n",
       "    </tr>\n",
       "  </tbody>\n",
       "</table>\n",
       "</div>"
      ],
      "text/plain": [
       "                    id     title  odometer  location  isimported    engine  \\\n",
       "id            1.000000  0.073068 -0.017320  0.039806    0.003261  0.018085   \n",
       "title         0.073068  1.000000  0.030448 -0.037900    0.019748 -0.021956   \n",
       "odometer     -0.017320  0.030448  1.000000  0.024858    0.147480  0.103099   \n",
       "location      0.039806 -0.037900  0.024858  1.000000    0.016009  0.022053   \n",
       "isimported    0.003261  0.019748  0.147480  0.016009    1.000000  0.092706   \n",
       "engine        0.018085 -0.021956  0.103099  0.022053    0.092706  1.000000   \n",
       "transmission -0.021177 -0.053778  0.295716  0.043688    0.277265  0.115912   \n",
       "fuel         -0.002189 -0.052253  0.305862  0.073992    0.276686  0.104390   \n",
       "paint        -0.023896  0.018296  0.049812  0.028861    0.053476  0.029929   \n",
       "year          0.000323 -0.035670 -0.504128  0.020320   -0.235053 -0.085566   \n",
       "target        0.025104 -0.041910 -0.261147  0.061530    0.067681  0.028521   \n",
       "brand        -0.000712  0.066188  0.009460  0.019848   -0.059659 -0.031049   \n",
       "\n",
       "              transmission      fuel     paint      year    target     brand  \n",
       "id               -0.021177 -0.002189 -0.023896  0.000323  0.025104 -0.000712  \n",
       "title            -0.053778 -0.052253  0.018296 -0.035670 -0.041910  0.066188  \n",
       "odometer          0.295716  0.305862  0.049812 -0.504128 -0.261147  0.009460  \n",
       "location          0.043688  0.073992  0.028861  0.020320  0.061530  0.019848  \n",
       "isimported        0.277265  0.276686  0.053476 -0.235053  0.067681 -0.059659  \n",
       "engine            0.115912  0.104390  0.029929 -0.085566  0.028521 -0.031049  \n",
       "transmission      1.000000  0.902001  0.102323 -0.368940 -0.005705 -0.032254  \n",
       "fuel              0.902001  1.000000  0.112192 -0.350055  0.006340 -0.054792  \n",
       "paint             0.102323  0.112192  1.000000  0.000066  0.035882 -0.053319  \n",
       "year             -0.368940 -0.350055  0.000066  1.000000  0.461563 -0.021338  \n",
       "target           -0.005705  0.006340  0.035882  0.461563  1.000000 -0.115037  \n",
       "brand            -0.032254 -0.054792 -0.053319 -0.021338 -0.115037  1.000000  "
      ]
     },
     "metadata": {},
     "output_type": "display_data"
    },
    {
     "data": {
      "image/png": "[encoded data removed]",
      "text/plain": [
       "<Figure size 864x864 with 2 Axes>"
      ]
     },
     "metadata": {
      "needs_background": "light"
     },
     "output_type": "display_data"
    }
   ],
   "source": [
    "import matplotlib.pyplot as plt\n",
    "import seaborn as sns\n",
    "# 분석을 위해 A와 B의 관계를 나타내는 콜레이션 매트릭스를 출력해본다.\n",
    "# 1에 가까우면 양의 상관성, -1에 가까우면 음의 상관성이 있다고 한다.\n",
    "display(train[:].corr())\n",
    "\n",
    "# 히트맵으로 확인해본다.\n",
    "plt.figure(figsize=(12,12))\n",
    "\n",
    "sns.heatmap(train.corr(), linewidths=0.1, vmax=0.5, cmap=plt.cm.gist_heat,\n",
    "            linecolor='white', annot=True)\n",
    "plt.show()"
   ]
  },
  {
   "cell_type": "markdown",
   "id": "ae5c4a0f",
   "metadata": {},
   "source": [
    "## 데이터 변환 최종 점검"
   ]
  },
  {
   "cell_type": "code",
   "execution_count": 86,
   "id": "858ce331",
   "metadata": {},
   "outputs": [
    {
     "data": {
      "text/html": [
       "<div>\n",
       "<style scoped>\n",
       "    .dataframe tbody tr th:only-of-type {\n",
       "        vertical-align: middle;\n",
       "    }\n",
       "\n",
       "    .dataframe tbody tr th {\n",
       "        vertical-align: top;\n",
       "    }\n",
       "\n",
       "    .dataframe thead th {\n",
       "        text-align: right;\n",
       "    }\n",
       "</style>\n",
       "<table border=\"1\" class=\"dataframe\">\n",
       "  <thead>\n",
       "    <tr style=\"text-align: right;\">\n",
       "      <th></th>\n",
       "      <th>id</th>\n",
       "      <th>title</th>\n",
       "      <th>odometer</th>\n",
       "      <th>location</th>\n",
       "      <th>isimported</th>\n",
       "      <th>engine</th>\n",
       "      <th>transmission</th>\n",
       "      <th>fuel</th>\n",
       "      <th>paint</th>\n",
       "      <th>year</th>\n",
       "      <th>target</th>\n",
       "      <th>brand</th>\n",
       "    </tr>\n",
       "  </thead>\n",
       "  <tbody>\n",
       "    <tr>\n",
       "      <th>0</th>\n",
       "      <td>0</td>\n",
       "      <td>117</td>\n",
       "      <td>18277</td>\n",
       "      <td>3</td>\n",
       "      <td>0</td>\n",
       "      <td>1</td>\n",
       "      <td>0</td>\n",
       "      <td>0</td>\n",
       "      <td>8</td>\n",
       "      <td>2016</td>\n",
       "      <td>13665000</td>\n",
       "      <td>37</td>\n",
       "    </tr>\n",
       "    <tr>\n",
       "      <th>1</th>\n",
       "      <td>1</td>\n",
       "      <td>146</td>\n",
       "      <td>10</td>\n",
       "      <td>3</td>\n",
       "      <td>2</td>\n",
       "      <td>1</td>\n",
       "      <td>0</td>\n",
       "      <td>0</td>\n",
       "      <td>9</td>\n",
       "      <td>2019</td>\n",
       "      <td>33015000</td>\n",
       "      <td>37</td>\n",
       "    </tr>\n",
       "    <tr>\n",
       "      <th>2</th>\n",
       "      <td>2</td>\n",
       "      <td>39</td>\n",
       "      <td>83091</td>\n",
       "      <td>3</td>\n",
       "      <td>0</td>\n",
       "      <td>4</td>\n",
       "      <td>0</td>\n",
       "      <td>0</td>\n",
       "      <td>8</td>\n",
       "      <td>2012</td>\n",
       "      <td>9915000</td>\n",
       "      <td>26</td>\n",
       "    </tr>\n",
       "    <tr>\n",
       "      <th>3</th>\n",
       "      <td>3</td>\n",
       "      <td>186</td>\n",
       "      <td>91524</td>\n",
       "      <td>3</td>\n",
       "      <td>0</td>\n",
       "      <td>1</td>\n",
       "      <td>0</td>\n",
       "      <td>0</td>\n",
       "      <td>11</td>\n",
       "      <td>2007</td>\n",
       "      <td>3815000</td>\n",
       "      <td>14</td>\n",
       "    </tr>\n",
       "    <tr>\n",
       "      <th>4</th>\n",
       "      <td>4</td>\n",
       "      <td>25</td>\n",
       "      <td>94177</td>\n",
       "      <td>3</td>\n",
       "      <td>0</td>\n",
       "      <td>4</td>\n",
       "      <td>0</td>\n",
       "      <td>0</td>\n",
       "      <td>8</td>\n",
       "      <td>2010</td>\n",
       "      <td>7385000</td>\n",
       "      <td>37</td>\n",
       "    </tr>\n",
       "  </tbody>\n",
       "</table>\n",
       "</div>"
      ],
      "text/plain": [
       "   id  title  odometer  location  isimported  engine  transmission  fuel  \\\n",
       "0   0    117     18277         3           0       1             0     0   \n",
       "1   1    146        10         3           2       1             0     0   \n",
       "2   2     39     83091         3           0       4             0     0   \n",
       "3   3    186     91524         3           0       1             0     0   \n",
       "4   4     25     94177         3           0       4             0     0   \n",
       "\n",
       "   paint  year    target  brand  \n",
       "0      8  2016  13665000     37  \n",
       "1      9  2019  33015000     37  \n",
       "2      8  2012   9915000     26  \n",
       "3     11  2007   3815000     14  \n",
       "4      8  2010   7385000     37  "
      ]
     },
     "metadata": {},
     "output_type": "display_data"
    },
    {
     "name": "stdout",
     "output_type": "stream",
     "text": [
      "<class 'pandas.core.frame.DataFrame'>\n",
      "RangeIndex: 1015 entries, 0 to 1014\n",
      "Data columns (total 12 columns):\n",
      " #   Column        Non-Null Count  Dtype\n",
      "---  ------        --------------  -----\n",
      " 0   id            1015 non-null   int64\n",
      " 1   title         1015 non-null   int64\n",
      " 2   odometer      1015 non-null   int64\n",
      " 3   location      1015 non-null   int64\n",
      " 4   isimported    1015 non-null   int64\n",
      " 5   engine        1015 non-null   int64\n",
      " 6   transmission  1015 non-null   int64\n",
      " 7   fuel          1015 non-null   int64\n",
      " 8   paint         1015 non-null   int64\n",
      " 9   year          1015 non-null   int64\n",
      " 10  target        1015 non-null   int64\n",
      " 11  brand         1015 non-null   int64\n",
      "dtypes: int64(12)\n",
      "memory usage: 95.3 KB\n"
     ]
    }
   ],
   "source": [
    "# object가 나오면 안된다. 모두 정수형, float형이어야 한다.\n",
    "display(train.head())\n",
    "train.info()"
   ]
  },
  {
   "cell_type": "code",
   "execution_count": 87,
   "id": "f1738b9b",
   "metadata": {},
   "outputs": [
    {
     "data": {
      "text/html": [
       "<div>\n",
       "<style scoped>\n",
       "    .dataframe tbody tr th:only-of-type {\n",
       "        vertical-align: middle;\n",
       "    }\n",
       "\n",
       "    .dataframe tbody tr th {\n",
       "        vertical-align: top;\n",
       "    }\n",
       "\n",
       "    .dataframe thead th {\n",
       "        text-align: right;\n",
       "    }\n",
       "</style>\n",
       "<table border=\"1\" class=\"dataframe\">\n",
       "  <thead>\n",
       "    <tr style=\"text-align: right;\">\n",
       "      <th></th>\n",
       "      <th>id</th>\n",
       "      <th>title</th>\n",
       "      <th>odometer</th>\n",
       "      <th>location</th>\n",
       "      <th>isimported</th>\n",
       "      <th>engine</th>\n",
       "      <th>transmission</th>\n",
       "      <th>fuel</th>\n",
       "      <th>paint</th>\n",
       "      <th>year</th>\n",
       "      <th>brand</th>\n",
       "    </tr>\n",
       "  </thead>\n",
       "  <tbody>\n",
       "    <tr>\n",
       "      <th>0</th>\n",
       "      <td>0</td>\n",
       "      <td>87</td>\n",
       "      <td>1234</td>\n",
       "      <td>2</td>\n",
       "      <td>2</td>\n",
       "      <td>1</td>\n",
       "      <td>0</td>\n",
       "      <td>0</td>\n",
       "      <td>13</td>\n",
       "      <td>2017</td>\n",
       "      <td>4</td>\n",
       "    </tr>\n",
       "    <tr>\n",
       "      <th>1</th>\n",
       "      <td>1</td>\n",
       "      <td>176</td>\n",
       "      <td>29938</td>\n",
       "      <td>2</td>\n",
       "      <td>0</td>\n",
       "      <td>1</td>\n",
       "      <td>0</td>\n",
       "      <td>0</td>\n",
       "      <td>13</td>\n",
       "      <td>2013</td>\n",
       "      <td>5</td>\n",
       "    </tr>\n",
       "    <tr>\n",
       "      <th>2</th>\n",
       "      <td>2</td>\n",
       "      <td>125</td>\n",
       "      <td>87501</td>\n",
       "      <td>3</td>\n",
       "      <td>0</td>\n",
       "      <td>1</td>\n",
       "      <td>0</td>\n",
       "      <td>0</td>\n",
       "      <td>9</td>\n",
       "      <td>2012</td>\n",
       "      <td>4</td>\n",
       "    </tr>\n",
       "    <tr>\n",
       "      <th>3</th>\n",
       "      <td>3</td>\n",
       "      <td>231</td>\n",
       "      <td>180894</td>\n",
       "      <td>3</td>\n",
       "      <td>1</td>\n",
       "      <td>4</td>\n",
       "      <td>0</td>\n",
       "      <td>0</td>\n",
       "      <td>11</td>\n",
       "      <td>2001</td>\n",
       "      <td>37</td>\n",
       "    </tr>\n",
       "    <tr>\n",
       "      <th>4</th>\n",
       "      <td>4</td>\n",
       "      <td>170</td>\n",
       "      <td>104814</td>\n",
       "      <td>3</td>\n",
       "      <td>0</td>\n",
       "      <td>1</td>\n",
       "      <td>0</td>\n",
       "      <td>0</td>\n",
       "      <td>13</td>\n",
       "      <td>2000</td>\n",
       "      <td>37</td>\n",
       "    </tr>\n",
       "  </tbody>\n",
       "</table>\n",
       "</div>"
      ],
      "text/plain": [
       "   id  title  odometer  location  isimported  engine  transmission  fuel  \\\n",
       "0   0     87      1234         2           2       1             0     0   \n",
       "1   1    176     29938         2           0       1             0     0   \n",
       "2   2    125     87501         3           0       1             0     0   \n",
       "3   3    231    180894         3           1       4             0     0   \n",
       "4   4    170    104814         3           0       1             0     0   \n",
       "\n",
       "   paint  year  brand  \n",
       "0     13  2017      4  \n",
       "1     13  2013      5  \n",
       "2      9  2012      4  \n",
       "3     11  2001     37  \n",
       "4     13  2000     37  "
      ]
     },
     "metadata": {},
     "output_type": "display_data"
    },
    {
     "name": "stdout",
     "output_type": "stream",
     "text": [
      "<class 'pandas.core.frame.DataFrame'>\n",
      "RangeIndex: 436 entries, 0 to 435\n",
      "Data columns (total 11 columns):\n",
      " #   Column        Non-Null Count  Dtype\n",
      "---  ------        --------------  -----\n",
      " 0   id            436 non-null    int64\n",
      " 1   title         436 non-null    int64\n",
      " 2   odometer      436 non-null    int64\n",
      " 3   location      436 non-null    int64\n",
      " 4   isimported    436 non-null    int64\n",
      " 5   engine        436 non-null    int64\n",
      " 6   transmission  436 non-null    int64\n",
      " 7   fuel          436 non-null    int64\n",
      " 8   paint         436 non-null    int64\n",
      " 9   year          436 non-null    int64\n",
      " 10  brand         436 non-null    int64\n",
      "dtypes: int64(11)\n",
      "memory usage: 37.6 KB\n"
     ]
    }
   ],
   "source": [
    "display(test.head())\n",
    "test.info()"
   ]
  },
  {
   "cell_type": "code",
   "execution_count": null,
   "id": "3ab1ea93",
   "metadata": {},
   "outputs": [],
   "source": []
  },
  {
   "cell_type": "code",
   "execution_count": 88,
   "id": "a528effb",
   "metadata": {},
   "outputs": [
    {
     "data": {
      "text/plain": [
       "1015"
      ]
     },
     "execution_count": 88,
     "metadata": {},
     "output_type": "execute_result"
    }
   ],
   "source": [
    "len(train)"
   ]
  },
  {
   "cell_type": "markdown",
   "id": "e24ef05d",
   "metadata": {},
   "source": [
    "## 모델 사용"
   ]
  },
  {
   "cell_type": "code",
   "execution_count": 89,
   "id": "2d1d1834",
   "metadata": {},
   "outputs": [],
   "source": [
    "from sklearn.linear_model import SGDRegressor\n",
    "\n",
    "model = SGDRegressor(max_iter=100, verbose=1)"
   ]
  },
  {
   "cell_type": "code",
   "execution_count": 90,
   "id": "53609454",
   "metadata": {},
   "outputs": [],
   "source": [
    "\n",
    "train_X = train.drop(['id', 'target'], axis = 1)\n",
    "train_y = train.target\n",
    "\n",
    "test_X = test.drop(['id'], axis = 1)"
   ]
  },
  {
   "cell_type": "code",
   "execution_count": 91,
   "id": "149fb0a3",
   "metadata": {},
   "outputs": [
    {
     "name": "stdout",
     "output_type": "stream",
     "text": [
      "-- Epoch 1\n",
      "Norm: 87437026445694.12, NNZs: 10, Bias: -17810133880.187092, T: 1015, Avg. loss: 2631335498592596241129908883697271046144.000000\n",
      "Total training time: 0.00 seconds.\n",
      "-- Epoch 2\n",
      "Norm: 111265036268078.12, NNZs: 10, Bias: -610668464.164493, T: 2030, Avg. loss: 801413432916165916596288761615584591872.000000\n",
      "Total training time: 0.00 seconds.\n",
      "-- Epoch 3\n",
      "Norm: 53211006048169.44, NNZs: 10, Bias: 25313996190.205990, T: 3045, Avg. loss: 673175605231518135193744386887035912192.000000\n",
      "Total training time: 0.00 seconds.\n",
      "-- Epoch 4\n",
      "Norm: 296439392081020.06, NNZs: 10, Bias: 8325767827.359857, T: 4060, Avg. loss: 397243537732278404114995586723594895360.000000\n",
      "Total training time: 0.00 seconds.\n",
      "-- Epoch 5\n",
      "Norm: 158246601018782.44, NNZs: 10, Bias: -12268364679.496113, T: 5075, Avg. loss: 571872205691235838302012658108376023040.000000\n",
      "Total training time: 0.00 seconds.\n",
      "-- Epoch 6\n",
      "Norm: 106419455708097.31, NNZs: 10, Bias: 3003903694.715828, T: 6090, Avg. loss: 421247582772278052685119984051408601088.000000\n",
      "Total training time: 0.00 seconds.\n",
      "-- Epoch 7\n",
      "Norm: 51928849685002.11, NNZs: 10, Bias: -541416044.473621, T: 7105, Avg. loss: 430541651507316217817267434523002404864.000000\n",
      "Total training time: 0.00 seconds.\n",
      "-- Epoch 8\n",
      "Norm: 12633581301075.48, NNZs: 10, Bias: -1524252449.041456, T: 8120, Avg. loss: 348308684470120408951231768675756277760.000000\n",
      "Total training time: 0.00 seconds.\n",
      "-- Epoch 9\n",
      "Norm: 123051831003420.94, NNZs: 10, Bias: -2502435089.430679, T: 9135, Avg. loss: 353840580315621102339016280780558041088.000000\n",
      "Total training time: 0.00 seconds.\n",
      "-- Epoch 10\n",
      "Norm: 185612066934440.31, NNZs: 10, Bias: 2576121812.279338, T: 10150, Avg. loss: 462111401241196954263251329277650534400.000000\n",
      "Total training time: 0.00 seconds.\n",
      "-- Epoch 11\n",
      "Norm: 152767853119082.81, NNZs: 10, Bias: 9316037787.319012, T: 11165, Avg. loss: 225653844671718733967866951559528054784.000000\n",
      "Total training time: 0.00 seconds.\n",
      "-- Epoch 12\n",
      "Norm: 159465832471432.94, NNZs: 10, Bias: -3278518821.557821, T: 12180, Avg. loss: 293815601323294378252707063108422598656.000000\n",
      "Total training time: 0.00 seconds.\n",
      "-- Epoch 13\n",
      "Norm: 142327133592454.34, NNZs: 10, Bias: -2309548474.250837, T: 13195, Avg. loss: 371296227235045839981167726023099285504.000000\n",
      "Total training time: 0.00 seconds.\n",
      "-- Epoch 14\n",
      "Norm: 53973574920474.56, NNZs: 10, Bias: -8782527461.661470, T: 14210, Avg. loss: 239188721973732607240319162300330147840.000000\n",
      "Total training time: 0.00 seconds.\n",
      "-- Epoch 15\n",
      "Norm: 36696420689787.73, NNZs: 10, Bias: -504477696.851893, T: 15225, Avg. loss: 229697621376854509769947278708618297344.000000\n",
      "Total training time: 0.00 seconds.\n",
      "-- Epoch 16\n",
      "Norm: 79990748258305.22, NNZs: 10, Bias: -17391692459.668236, T: 16240, Avg. loss: 249052943496127736838754811072680558592.000000\n",
      "Total training time: 0.00 seconds.\n",
      "Convergence after 16 epochs took 0.00 seconds\n"
     ]
    }
   ],
   "source": []
  },
  {
   "cell_type": "code",
   "execution_count": 92,
   "id": "b1a50c29",
   "metadata": {},
   "outputs": [
    {
     "ename": "AttributeError",
     "evalue": "'SGDRegressor' object has no attribute 'split'",
     "output_type": "error",
     "traceback": [
      "\u001b[1;31m---------------------------------------------------------------------------\u001b[0m",
      "\u001b[1;31mAttributeError\u001b[0m                            Traceback (most recent call last)",
      "\u001b[1;32m~\\AppData\\Local\\Temp/ipykernel_16216/1811514530.py\u001b[0m in \u001b[0;36m<module>\u001b[1;34m\u001b[0m\n\u001b[0;32m      6\u001b[0m \u001b[1;33m\u001b[0m\u001b[0m\n\u001b[0;32m      7\u001b[0m \u001b[0mloss_list\u001b[0m \u001b[1;33m=\u001b[0m \u001b[1;33m[\u001b[0m\u001b[1;33m]\u001b[0m\u001b[1;33m\u001b[0m\u001b[1;33m\u001b[0m\u001b[0m\n\u001b[1;32m----> 8\u001b[1;33m \u001b[1;32mfor\u001b[0m \u001b[0mline\u001b[0m \u001b[1;32min\u001b[0m \u001b[0mhistory\u001b[0m\u001b[1;33m.\u001b[0m\u001b[0msplit\u001b[0m\u001b[1;33m(\u001b[0m\u001b[1;34m'\\n'\u001b[0m\u001b[1;33m)\u001b[0m\u001b[1;33m:\u001b[0m\u001b[1;33m\u001b[0m\u001b[1;33m\u001b[0m\u001b[0m\n\u001b[0m\u001b[0;32m      9\u001b[0m     \u001b[1;32mif\u001b[0m\u001b[1;33m(\u001b[0m\u001b[0mlen\u001b[0m\u001b[1;33m(\u001b[0m\u001b[0mline\u001b[0m\u001b[1;33m.\u001b[0m\u001b[0msplit\u001b[0m\u001b[1;33m(\u001b[0m\u001b[1;34m\"loss: \"\u001b[0m\u001b[1;33m)\u001b[0m\u001b[1;33m)\u001b[0m \u001b[1;33m==\u001b[0m \u001b[1;36m1\u001b[0m\u001b[1;33m)\u001b[0m\u001b[1;33m:\u001b[0m\u001b[1;33m\u001b[0m\u001b[1;33m\u001b[0m\u001b[0m\n\u001b[0;32m     10\u001b[0m         \u001b[1;32mcontinue\u001b[0m\u001b[1;33m\u001b[0m\u001b[1;33m\u001b[0m\u001b[0m\n",
      "\u001b[1;31mAttributeError\u001b[0m: 'SGDRegressor' object has no attribute 'split'"
     ]
    }
   ],
   "source": [
    "import sys\n",
    "import io\n",
    "import matplotlib.pyplot as plt\n",
    "\n",
    "sys.stdout = io.StringIO()\n",
    "\n",
    "model.fit(train_X, train_y)\n",
    "\n",
    "loss_history = sys.stdout.getvalue()\n",
    "\n",
    "loss_list = []\n",
    "for line in loss_history.split('\\n'):\n",
    "    if(len(line.split(\"loss: \")) == 1):\n",
    "        continue\n",
    "    loss_list.append(float(line.split(\"loss: \")[-1]))\n",
    "\n",
    "plt.figure()\n",
    "plt.plot(np.arange(len(loss_list)), loss_list)\n",
    "plt.xlabel(\"Time in epochs\")\n",
    "plt.ylabel(\"Loss\")\n",
    "plt.show()"
   ]
  },
  {
   "cell_type": "code",
   "execution_count": null,
   "id": "6a1bf38d",
   "metadata": {},
   "outputs": [],
   "source": [
    "print(\"가중치(계수, 기울기 파라미터 W) :\", model.coef_)\n",
    "print(\"편향(절편 파라미터 b) :\", model.intercept_)\n",
    "\n",
    "print(\"훈련세트 점수: {:.2f}\".format( model.score(train_X, train_y) ))\n",
    "# print(\"테스트세트 점수: {:.2f}\".format( model.score(X_test, y_test) ))"
   ]
  },
  {
   "cell_type": "code",
   "execution_count": null,
   "id": "b13bac79",
   "metadata": {},
   "outputs": [],
   "source": []
  },
  {
   "cell_type": "code",
   "execution_count": null,
   "id": "e09b89d7",
   "metadata": {},
   "outputs": [],
   "source": [
    "pred = model.predict(test_X)"
   ]
  },
  {
   "cell_type": "code",
   "execution_count": null,
   "id": "cfb91c51",
   "metadata": {},
   "outputs": [],
   "source": [
    "sample_submission = pd.read_csv('./resalecar/dataset/sample_submission.csv')\n",
    "submission = sample_submission.copy()\n",
    "submission.target = pred\n",
    "submission"
   ]
  }
 ],
 "metadata": {
  "kernelspec": {
   "display_name": "Python 3 (ipykernel)",
   "language": "python",
   "name": "python3"
  },
  "language_info": {
   "codemirror_mode": {
    "name": "ipython",
    "version": 3
   },
   "file_extension": ".py",
   "mimetype": "text/x-python",
   "name": "python",
   "nbconvert_exporter": "python",
   "pygments_lexer": "ipython3",
   "version": "3.9.7"
  }
 },
 "nbformat": 4,
 "nbformat_minor": 5
}
