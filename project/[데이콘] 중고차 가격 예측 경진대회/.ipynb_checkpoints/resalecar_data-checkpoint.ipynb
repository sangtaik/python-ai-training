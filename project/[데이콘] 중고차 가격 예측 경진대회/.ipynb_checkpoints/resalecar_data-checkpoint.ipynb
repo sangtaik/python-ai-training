{
 "cells": [
  {
   "cell_type": "code",
   "execution_count": 1,
   "id": "2a43f5ab",
   "metadata": {},
   "outputs": [],
   "source": [
    "import pandas as pd\n",
    "import re"
   ]
  },
  {
   "cell_type": "code",
   "execution_count": 2,
   "id": "f24a32c4",
   "metadata": {},
   "outputs": [],
   "source": [
    "train = pd.read_csv('./resalecar/dataset/train.csv')\n",
    "test = pd.read_csv('./resalecar/dataset/test.csv')\n",
    "sample_submission = pd.read_csv('./resalecar/dataset/sample_submission.csv')"
   ]
  },
  {
   "cell_type": "code",
   "execution_count": 3,
   "id": "98e3a083",
   "metadata": {},
   "outputs": [
    {
     "data": {
      "text/html": [
       "<div>\n",
       "<style scoped>\n",
       "    .dataframe tbody tr th:only-of-type {\n",
       "        vertical-align: middle;\n",
       "    }\n",
       "\n",
       "    .dataframe tbody tr th {\n",
       "        vertical-align: top;\n",
       "    }\n",
       "\n",
       "    .dataframe thead th {\n",
       "        text-align: right;\n",
       "    }\n",
       "</style>\n",
       "<table border=\"1\" class=\"dataframe\">\n",
       "  <thead>\n",
       "    <tr style=\"text-align: right;\">\n",
       "      <th></th>\n",
       "      <th>id</th>\n",
       "      <th>title</th>\n",
       "      <th>odometer</th>\n",
       "      <th>location</th>\n",
       "      <th>isimported</th>\n",
       "      <th>engine</th>\n",
       "      <th>transmission</th>\n",
       "      <th>fuel</th>\n",
       "      <th>paint</th>\n",
       "      <th>year</th>\n",
       "      <th>target</th>\n",
       "    </tr>\n",
       "  </thead>\n",
       "  <tbody>\n",
       "    <tr>\n",
       "      <th>0</th>\n",
       "      <td>0</td>\n",
       "      <td>Toyota RAV 4</td>\n",
       "      <td>18277</td>\n",
       "      <td>Lagos</td>\n",
       "      <td>Foreign Used</td>\n",
       "      <td>4-cylinder(I4)</td>\n",
       "      <td>automatic</td>\n",
       "      <td>petrol</td>\n",
       "      <td>Red</td>\n",
       "      <td>2016</td>\n",
       "      <td>13665000</td>\n",
       "    </tr>\n",
       "    <tr>\n",
       "      <th>1</th>\n",
       "      <td>1</td>\n",
       "      <td>Toyota Land Cruiser</td>\n",
       "      <td>10</td>\n",
       "      <td>Lagos</td>\n",
       "      <td>New</td>\n",
       "      <td>4-cylinder(I4)</td>\n",
       "      <td>automatic</td>\n",
       "      <td>petrol</td>\n",
       "      <td>Black</td>\n",
       "      <td>2019</td>\n",
       "      <td>33015000</td>\n",
       "    </tr>\n",
       "    <tr>\n",
       "      <th>2</th>\n",
       "      <td>2</td>\n",
       "      <td>Land Rover Range Rover Evoque</td>\n",
       "      <td>83091</td>\n",
       "      <td>Lagos</td>\n",
       "      <td>Foreign Used</td>\n",
       "      <td>6-cylinder(V6)</td>\n",
       "      <td>automatic</td>\n",
       "      <td>petrol</td>\n",
       "      <td>Red</td>\n",
       "      <td>2012</td>\n",
       "      <td>9915000</td>\n",
       "    </tr>\n",
       "    <tr>\n",
       "      <th>3</th>\n",
       "      <td>3</td>\n",
       "      <td>Lexus ES 350</td>\n",
       "      <td>91524</td>\n",
       "      <td>Lagos</td>\n",
       "      <td>Foreign Used</td>\n",
       "      <td>4-cylinder(I4)</td>\n",
       "      <td>automatic</td>\n",
       "      <td>petrol</td>\n",
       "      <td>Gray</td>\n",
       "      <td>2007</td>\n",
       "      <td>3815000</td>\n",
       "    </tr>\n",
       "    <tr>\n",
       "      <th>4</th>\n",
       "      <td>4</td>\n",
       "      <td>Toyota Venza</td>\n",
       "      <td>94177</td>\n",
       "      <td>Lagos</td>\n",
       "      <td>Foreign Used</td>\n",
       "      <td>6-cylinder(V6)</td>\n",
       "      <td>automatic</td>\n",
       "      <td>petrol</td>\n",
       "      <td>Red</td>\n",
       "      <td>2010</td>\n",
       "      <td>7385000</td>\n",
       "    </tr>\n",
       "  </tbody>\n",
       "</table>\n",
       "</div>"
      ],
      "text/plain": [
       "   id                          title  odometer location    isimported  \\\n",
       "0   0                   Toyota RAV 4     18277   Lagos   Foreign Used   \n",
       "1   1            Toyota Land Cruiser        10    Lagos          New    \n",
       "2   2  Land Rover Range Rover Evoque     83091    Lagos  Foreign Used   \n",
       "3   3                   Lexus ES 350     91524    Lagos  Foreign Used   \n",
       "4   4                   Toyota Venza     94177    Lagos  Foreign Used   \n",
       "\n",
       "           engine transmission    fuel  paint  year    target  \n",
       "0  4-cylinder(I4)    automatic  petrol    Red  2016  13665000  \n",
       "1  4-cylinder(I4)    automatic  petrol  Black  2019  33015000  \n",
       "2  6-cylinder(V6)    automatic  petrol    Red  2012   9915000  \n",
       "3  4-cylinder(I4)    automatic  petrol   Gray  2007   3815000  \n",
       "4  6-cylinder(V6)    automatic  petrol    Red  2010   7385000  "
      ]
     },
     "execution_count": 3,
     "metadata": {},
     "output_type": "execute_result"
    }
   ],
   "source": [
    "train.head()"
   ]
  },
  {
   "cell_type": "code",
   "execution_count": 4,
   "id": "3e6bf186",
   "metadata": {},
   "outputs": [
    {
     "data": {
      "text/html": [
       "<div>\n",
       "<style scoped>\n",
       "    .dataframe tbody tr th:only-of-type {\n",
       "        vertical-align: middle;\n",
       "    }\n",
       "\n",
       "    .dataframe tbody tr th {\n",
       "        vertical-align: top;\n",
       "    }\n",
       "\n",
       "    .dataframe thead th {\n",
       "        text-align: right;\n",
       "    }\n",
       "</style>\n",
       "<table border=\"1\" class=\"dataframe\">\n",
       "  <thead>\n",
       "    <tr style=\"text-align: right;\">\n",
       "      <th></th>\n",
       "      <th>id</th>\n",
       "      <th>title</th>\n",
       "      <th>odometer</th>\n",
       "      <th>location</th>\n",
       "      <th>isimported</th>\n",
       "      <th>engine</th>\n",
       "      <th>transmission</th>\n",
       "      <th>fuel</th>\n",
       "      <th>paint</th>\n",
       "      <th>year</th>\n",
       "    </tr>\n",
       "  </thead>\n",
       "  <tbody>\n",
       "    <tr>\n",
       "      <th>0</th>\n",
       "      <td>0</td>\n",
       "      <td>Mercedes-Benz C 300</td>\n",
       "      <td>1234</td>\n",
       "      <td>Abuja</td>\n",
       "      <td>New</td>\n",
       "      <td>4-cylinder(I4)</td>\n",
       "      <td>automatic</td>\n",
       "      <td>petrol</td>\n",
       "      <td>White</td>\n",
       "      <td>2017</td>\n",
       "    </tr>\n",
       "    <tr>\n",
       "      <th>1</th>\n",
       "      <td>1</td>\n",
       "      <td>Honda Accord</td>\n",
       "      <td>29938</td>\n",
       "      <td>Abuja</td>\n",
       "      <td>Foreign Used</td>\n",
       "      <td>4-cylinder(I4)</td>\n",
       "      <td>automatic</td>\n",
       "      <td>petrol</td>\n",
       "      <td>White</td>\n",
       "      <td>2013</td>\n",
       "    </tr>\n",
       "    <tr>\n",
       "      <th>2</th>\n",
       "      <td>2</td>\n",
       "      <td>Mercedes-Benz S 550</td>\n",
       "      <td>87501</td>\n",
       "      <td>Lagos</td>\n",
       "      <td>Foreign Used</td>\n",
       "      <td>4-cylinder(I4)</td>\n",
       "      <td>automatic</td>\n",
       "      <td>petrol</td>\n",
       "      <td>Black</td>\n",
       "      <td>2012</td>\n",
       "    </tr>\n",
       "    <tr>\n",
       "      <th>3</th>\n",
       "      <td>3</td>\n",
       "      <td>Toyota Sienna</td>\n",
       "      <td>180894</td>\n",
       "      <td>Lagos</td>\n",
       "      <td>Locally used</td>\n",
       "      <td>6-cylinder(V6)</td>\n",
       "      <td>automatic</td>\n",
       "      <td>petrol</td>\n",
       "      <td>Dark Grey</td>\n",
       "      <td>2001</td>\n",
       "    </tr>\n",
       "    <tr>\n",
       "      <th>4</th>\n",
       "      <td>4</td>\n",
       "      <td>Toyota Hiace</td>\n",
       "      <td>104814</td>\n",
       "      <td>Lagos</td>\n",
       "      <td>Foreign Used</td>\n",
       "      <td>4-cylinder(I4)</td>\n",
       "      <td>automatic</td>\n",
       "      <td>petrol</td>\n",
       "      <td>White</td>\n",
       "      <td>2000</td>\n",
       "    </tr>\n",
       "  </tbody>\n",
       "</table>\n",
       "</div>"
      ],
      "text/plain": [
       "   id                title  odometer location    isimported          engine  \\\n",
       "0   0  Mercedes-Benz C 300      1234    Abuja          New   4-cylinder(I4)   \n",
       "1   1         Honda Accord     29938    Abuja  Foreign Used  4-cylinder(I4)   \n",
       "2   2  Mercedes-Benz S 550     87501    Lagos  Foreign Used  4-cylinder(I4)   \n",
       "3   3        Toyota Sienna    180894    Lagos  Locally used  6-cylinder(V6)   \n",
       "4   4         Toyota Hiace    104814    Lagos  Foreign Used  4-cylinder(I4)   \n",
       "\n",
       "  transmission    fuel      paint  year  \n",
       "0    automatic  petrol      White  2017  \n",
       "1    automatic  petrol      White  2013  \n",
       "2    automatic  petrol      Black  2012  \n",
       "3    automatic  petrol  Dark Grey  2001  \n",
       "4    automatic  petrol      White  2000  "
      ]
     },
     "execution_count": 4,
     "metadata": {},
     "output_type": "execute_result"
    }
   ],
   "source": [
    "test.head()"
   ]
  },
  {
   "cell_type": "code",
   "execution_count": 5,
   "id": "75da9f23",
   "metadata": {},
   "outputs": [],
   "source": [
    "# sorted(train.title.unique())"
   ]
  },
  {
   "cell_type": "code",
   "execution_count": 6,
   "id": "536a8b6f",
   "metadata": {},
   "outputs": [],
   "source": [
    "# sorted(test.title.unique())"
   ]
  },
  {
   "cell_type": "code",
   "execution_count": 7,
   "id": "7616f4c9",
   "metadata": {},
   "outputs": [],
   "source": [
    "only_train_data_title = set(train.title.unique())-set(test.title.unique())\n",
    "only_test_data_title = set(test.title.unique())-set(train.title.unique())"
   ]
  },
  {
   "cell_type": "code",
   "execution_count": 8,
   "id": "1d5a3a5b",
   "metadata": {},
   "outputs": [
    {
     "data": {
      "text/plain": [
       "'train에만 있는 차종류 개수 : 116, test에만 있는 차종류 개수 : 37'"
      ]
     },
     "execution_count": 8,
     "metadata": {},
     "output_type": "execute_result"
    }
   ],
   "source": [
    "'train에만 있는 차종류 개수 : {}, test에만 있는 차종류 개수 : {}'.format(len(only_train_data_title), len(only_test_data_title))"
   ]
  },
  {
   "cell_type": "code",
   "execution_count": 9,
   "id": "e3aea72b",
   "metadata": {},
   "outputs": [],
   "source": [
    "# only_train_data_title"
   ]
  },
  {
   "cell_type": "code",
   "execution_count": 10,
   "id": "cd48c578",
   "metadata": {},
   "outputs": [],
   "source": [
    "# only_test_data_title"
   ]
  },
  {
   "cell_type": "code",
   "execution_count": 11,
   "id": "8f8b23f8",
   "metadata": {},
   "outputs": [
    {
     "data": {
      "text/plain": [
       "0       Toyota\n",
       "1       Toyota\n",
       "2         Land\n",
       "3        Lexus\n",
       "4       Toyota\n",
       "         ...  \n",
       "1010    Toyota\n",
       "1011    Toyota\n",
       "1012    Toyota\n",
       "1013     Lexus\n",
       "1014       DAF\n",
       "Name: title, Length: 1015, dtype: object"
      ]
     },
     "execution_count": 11,
     "metadata": {},
     "output_type": "execute_result"
    }
   ],
   "source": [
    "train['title'].apply(lambda x : x.split(\" \")[0])"
   ]
  },
  {
   "cell_type": "code",
   "execution_count": 12,
   "id": "e4ce1855",
   "metadata": {},
   "outputs": [
    {
     "data": {
      "text/html": [
       "<div>\n",
       "<style scoped>\n",
       "    .dataframe tbody tr th:only-of-type {\n",
       "        vertical-align: middle;\n",
       "    }\n",
       "\n",
       "    .dataframe tbody tr th {\n",
       "        vertical-align: top;\n",
       "    }\n",
       "\n",
       "    .dataframe thead th {\n",
       "        text-align: right;\n",
       "    }\n",
       "</style>\n",
       "<table border=\"1\" class=\"dataframe\">\n",
       "  <thead>\n",
       "    <tr style=\"text-align: right;\">\n",
       "      <th></th>\n",
       "      <th>id</th>\n",
       "      <th>title</th>\n",
       "      <th>odometer</th>\n",
       "      <th>location</th>\n",
       "      <th>isimported</th>\n",
       "      <th>engine</th>\n",
       "      <th>transmission</th>\n",
       "      <th>fuel</th>\n",
       "      <th>paint</th>\n",
       "      <th>year</th>\n",
       "      <th>target</th>\n",
       "      <th>brand</th>\n",
       "    </tr>\n",
       "  </thead>\n",
       "  <tbody>\n",
       "    <tr>\n",
       "      <th>0</th>\n",
       "      <td>0</td>\n",
       "      <td>Toyota RAV 4</td>\n",
       "      <td>18277</td>\n",
       "      <td>Lagos</td>\n",
       "      <td>Foreign Used</td>\n",
       "      <td>4-cylinder(I4)</td>\n",
       "      <td>automatic</td>\n",
       "      <td>petrol</td>\n",
       "      <td>Red</td>\n",
       "      <td>2016</td>\n",
       "      <td>13665000</td>\n",
       "      <td>Toyota</td>\n",
       "    </tr>\n",
       "    <tr>\n",
       "      <th>1</th>\n",
       "      <td>1</td>\n",
       "      <td>Toyota Land Cruiser</td>\n",
       "      <td>10</td>\n",
       "      <td>Lagos</td>\n",
       "      <td>New</td>\n",
       "      <td>4-cylinder(I4)</td>\n",
       "      <td>automatic</td>\n",
       "      <td>petrol</td>\n",
       "      <td>Black</td>\n",
       "      <td>2019</td>\n",
       "      <td>33015000</td>\n",
       "      <td>Toyota</td>\n",
       "    </tr>\n",
       "    <tr>\n",
       "      <th>2</th>\n",
       "      <td>2</td>\n",
       "      <td>Land Rover Range Rover Evoque</td>\n",
       "      <td>83091</td>\n",
       "      <td>Lagos</td>\n",
       "      <td>Foreign Used</td>\n",
       "      <td>6-cylinder(V6)</td>\n",
       "      <td>automatic</td>\n",
       "      <td>petrol</td>\n",
       "      <td>Red</td>\n",
       "      <td>2012</td>\n",
       "      <td>9915000</td>\n",
       "      <td>Land</td>\n",
       "    </tr>\n",
       "    <tr>\n",
       "      <th>3</th>\n",
       "      <td>3</td>\n",
       "      <td>Lexus ES 350</td>\n",
       "      <td>91524</td>\n",
       "      <td>Lagos</td>\n",
       "      <td>Foreign Used</td>\n",
       "      <td>4-cylinder(I4)</td>\n",
       "      <td>automatic</td>\n",
       "      <td>petrol</td>\n",
       "      <td>Gray</td>\n",
       "      <td>2007</td>\n",
       "      <td>3815000</td>\n",
       "      <td>Lexus</td>\n",
       "    </tr>\n",
       "    <tr>\n",
       "      <th>4</th>\n",
       "      <td>4</td>\n",
       "      <td>Toyota Venza</td>\n",
       "      <td>94177</td>\n",
       "      <td>Lagos</td>\n",
       "      <td>Foreign Used</td>\n",
       "      <td>6-cylinder(V6)</td>\n",
       "      <td>automatic</td>\n",
       "      <td>petrol</td>\n",
       "      <td>Red</td>\n",
       "      <td>2010</td>\n",
       "      <td>7385000</td>\n",
       "      <td>Toyota</td>\n",
       "    </tr>\n",
       "  </tbody>\n",
       "</table>\n",
       "</div>"
      ],
      "text/plain": [
       "   id                          title  odometer location    isimported  \\\n",
       "0   0                   Toyota RAV 4     18277   Lagos   Foreign Used   \n",
       "1   1            Toyota Land Cruiser        10    Lagos          New    \n",
       "2   2  Land Rover Range Rover Evoque     83091    Lagos  Foreign Used   \n",
       "3   3                   Lexus ES 350     91524    Lagos  Foreign Used   \n",
       "4   4                   Toyota Venza     94177    Lagos  Foreign Used   \n",
       "\n",
       "           engine transmission    fuel  paint  year    target   brand  \n",
       "0  4-cylinder(I4)    automatic  petrol    Red  2016  13665000  Toyota  \n",
       "1  4-cylinder(I4)    automatic  petrol  Black  2019  33015000  Toyota  \n",
       "2  6-cylinder(V6)    automatic  petrol    Red  2012   9915000    Land  \n",
       "3  4-cylinder(I4)    automatic  petrol   Gray  2007   3815000   Lexus  \n",
       "4  6-cylinder(V6)    automatic  petrol    Red  2010   7385000  Toyota  "
      ]
     },
     "execution_count": 12,
     "metadata": {},
     "output_type": "execute_result"
    }
   ],
   "source": [
    "train['brand'] = train['title'].apply(lambda x : x.split(\" \")[0])\n",
    "train.head()"
   ]
  },
  {
   "cell_type": "code",
   "execution_count": 13,
   "id": "78dcecfc",
   "metadata": {},
   "outputs": [],
   "source": [
    "train.replace({'brand' : {'Land' : 'Land Rover'}}, inplace = True)"
   ]
  },
  {
   "cell_type": "code",
   "execution_count": 14,
   "id": "9065d571",
   "metadata": {},
   "outputs": [
    {
     "data": {
      "text/html": [
       "<div>\n",
       "<style scoped>\n",
       "    .dataframe tbody tr th:only-of-type {\n",
       "        vertical-align: middle;\n",
       "    }\n",
       "\n",
       "    .dataframe tbody tr th {\n",
       "        vertical-align: top;\n",
       "    }\n",
       "\n",
       "    .dataframe thead th {\n",
       "        text-align: right;\n",
       "    }\n",
       "</style>\n",
       "<table border=\"1\" class=\"dataframe\">\n",
       "  <thead>\n",
       "    <tr style=\"text-align: right;\">\n",
       "      <th></th>\n",
       "      <th>id</th>\n",
       "      <th>title</th>\n",
       "      <th>odometer</th>\n",
       "      <th>location</th>\n",
       "      <th>isimported</th>\n",
       "      <th>engine</th>\n",
       "      <th>transmission</th>\n",
       "      <th>fuel</th>\n",
       "      <th>paint</th>\n",
       "      <th>year</th>\n",
       "      <th>target</th>\n",
       "      <th>brand</th>\n",
       "    </tr>\n",
       "  </thead>\n",
       "  <tbody>\n",
       "    <tr>\n",
       "      <th>0</th>\n",
       "      <td>0</td>\n",
       "      <td>Toyota RAV 4</td>\n",
       "      <td>18277</td>\n",
       "      <td>Lagos</td>\n",
       "      <td>Foreign Used</td>\n",
       "      <td>4-cylinder(I4)</td>\n",
       "      <td>automatic</td>\n",
       "      <td>petrol</td>\n",
       "      <td>Red</td>\n",
       "      <td>2016</td>\n",
       "      <td>13665000</td>\n",
       "      <td>Toyota</td>\n",
       "    </tr>\n",
       "    <tr>\n",
       "      <th>1</th>\n",
       "      <td>1</td>\n",
       "      <td>Toyota Land Cruiser</td>\n",
       "      <td>10</td>\n",
       "      <td>Lagos</td>\n",
       "      <td>New</td>\n",
       "      <td>4-cylinder(I4)</td>\n",
       "      <td>automatic</td>\n",
       "      <td>petrol</td>\n",
       "      <td>Black</td>\n",
       "      <td>2019</td>\n",
       "      <td>33015000</td>\n",
       "      <td>Toyota</td>\n",
       "    </tr>\n",
       "    <tr>\n",
       "      <th>2</th>\n",
       "      <td>2</td>\n",
       "      <td>Land Rover Range Rover Evoque</td>\n",
       "      <td>83091</td>\n",
       "      <td>Lagos</td>\n",
       "      <td>Foreign Used</td>\n",
       "      <td>6-cylinder(V6)</td>\n",
       "      <td>automatic</td>\n",
       "      <td>petrol</td>\n",
       "      <td>Red</td>\n",
       "      <td>2012</td>\n",
       "      <td>9915000</td>\n",
       "      <td>Land Rover</td>\n",
       "    </tr>\n",
       "    <tr>\n",
       "      <th>3</th>\n",
       "      <td>3</td>\n",
       "      <td>Lexus ES 350</td>\n",
       "      <td>91524</td>\n",
       "      <td>Lagos</td>\n",
       "      <td>Foreign Used</td>\n",
       "      <td>4-cylinder(I4)</td>\n",
       "      <td>automatic</td>\n",
       "      <td>petrol</td>\n",
       "      <td>Gray</td>\n",
       "      <td>2007</td>\n",
       "      <td>3815000</td>\n",
       "      <td>Lexus</td>\n",
       "    </tr>\n",
       "    <tr>\n",
       "      <th>4</th>\n",
       "      <td>4</td>\n",
       "      <td>Toyota Venza</td>\n",
       "      <td>94177</td>\n",
       "      <td>Lagos</td>\n",
       "      <td>Foreign Used</td>\n",
       "      <td>6-cylinder(V6)</td>\n",
       "      <td>automatic</td>\n",
       "      <td>petrol</td>\n",
       "      <td>Red</td>\n",
       "      <td>2010</td>\n",
       "      <td>7385000</td>\n",
       "      <td>Toyota</td>\n",
       "    </tr>\n",
       "  </tbody>\n",
       "</table>\n",
       "</div>"
      ],
      "text/plain": [
       "   id                          title  odometer location    isimported  \\\n",
       "0   0                   Toyota RAV 4     18277   Lagos   Foreign Used   \n",
       "1   1            Toyota Land Cruiser        10    Lagos          New    \n",
       "2   2  Land Rover Range Rover Evoque     83091    Lagos  Foreign Used   \n",
       "3   3                   Lexus ES 350     91524    Lagos  Foreign Used   \n",
       "4   4                   Toyota Venza     94177    Lagos  Foreign Used   \n",
       "\n",
       "           engine transmission    fuel  paint  year    target       brand  \n",
       "0  4-cylinder(I4)    automatic  petrol    Red  2016  13665000      Toyota  \n",
       "1  4-cylinder(I4)    automatic  petrol  Black  2019  33015000      Toyota  \n",
       "2  6-cylinder(V6)    automatic  petrol    Red  2012   9915000  Land Rover  \n",
       "3  4-cylinder(I4)    automatic  petrol   Gray  2007   3815000       Lexus  \n",
       "4  6-cylinder(V6)    automatic  petrol    Red  2010   7385000      Toyota  "
      ]
     },
     "execution_count": 14,
     "metadata": {},
     "output_type": "execute_result"
    }
   ],
   "source": [
    "train.head()"
   ]
  },
  {
   "cell_type": "code",
   "execution_count": 15,
   "id": "ded7e312",
   "metadata": {},
   "outputs": [
    {
     "data": {
      "text/plain": [
       "42"
      ]
     },
     "execution_count": 15,
     "metadata": {},
     "output_type": "execute_result"
    }
   ],
   "source": [
    "len(train['brand'].unique())"
   ]
  },
  {
   "cell_type": "code",
   "execution_count": 16,
   "id": "ff978aa7",
   "metadata": {},
   "outputs": [],
   "source": [
    "train['brand'] = train['brand'].replace({'Mercedes-Benz/52' : 'Mercedes-Benz'})"
   ]
  },
  {
   "cell_type": "code",
   "execution_count": 17,
   "id": "dbc37a89",
   "metadata": {},
   "outputs": [
    {
     "name": "stdout",
     "output_type": "stream",
     "text": [
      "41\n",
      "['ALPINA', 'Acura', 'Audi', 'BMW', 'Bentley', 'Chevrolet', 'DAF', 'Dodge', 'Ford', 'GAC', 'GMC', 'Honda', 'Hyundai', 'IVECO', 'IVM', 'Infiniti', 'Isuzu', 'Iveco', 'JMC', 'Jaguar', 'Jeep', 'Kia', 'Land Rover', 'Lexus', 'Lincoln', 'MAN-VOLKSWAGEN', 'MINI', 'Mack', 'Man', 'Mazda', 'Mercedes-Benz', 'Mitsubishi', 'Nissan', 'Peugeot', 'Pontiac', 'Porsche', 'Rolls-Royce', 'Scania', 'Toyota', 'Volkswagen', 'Volvo']\n"
     ]
    }
   ],
   "source": [
    "# 브랜드에서 이상한 오타는 없음.\n",
    "print(len(train['brand'].unique()))\n",
    "print(sorted(train['brand'].unique()))"
   ]
  },
  {
   "cell_type": "code",
   "execution_count": 18,
   "id": "2002fd5f",
   "metadata": {},
   "outputs": [
    {
     "data": {
      "text/html": [
       "<div>\n",
       "<style scoped>\n",
       "    .dataframe tbody tr th:only-of-type {\n",
       "        vertical-align: middle;\n",
       "    }\n",
       "\n",
       "    .dataframe tbody tr th {\n",
       "        vertical-align: top;\n",
       "    }\n",
       "\n",
       "    .dataframe thead th {\n",
       "        text-align: right;\n",
       "    }\n",
       "</style>\n",
       "<table border=\"1\" class=\"dataframe\">\n",
       "  <thead>\n",
       "    <tr style=\"text-align: right;\">\n",
       "      <th></th>\n",
       "      <th>id</th>\n",
       "      <th>title</th>\n",
       "      <th>odometer</th>\n",
       "      <th>location</th>\n",
       "      <th>isimported</th>\n",
       "      <th>engine</th>\n",
       "      <th>transmission</th>\n",
       "      <th>fuel</th>\n",
       "      <th>paint</th>\n",
       "      <th>year</th>\n",
       "      <th>brand</th>\n",
       "    </tr>\n",
       "  </thead>\n",
       "  <tbody>\n",
       "    <tr>\n",
       "      <th>0</th>\n",
       "      <td>0</td>\n",
       "      <td>Mercedes-Benz C 300</td>\n",
       "      <td>1234</td>\n",
       "      <td>Abuja</td>\n",
       "      <td>New</td>\n",
       "      <td>4-cylinder(I4)</td>\n",
       "      <td>automatic</td>\n",
       "      <td>petrol</td>\n",
       "      <td>White</td>\n",
       "      <td>2017</td>\n",
       "      <td>Mercedes-Benz</td>\n",
       "    </tr>\n",
       "    <tr>\n",
       "      <th>1</th>\n",
       "      <td>1</td>\n",
       "      <td>Honda Accord</td>\n",
       "      <td>29938</td>\n",
       "      <td>Abuja</td>\n",
       "      <td>Foreign Used</td>\n",
       "      <td>4-cylinder(I4)</td>\n",
       "      <td>automatic</td>\n",
       "      <td>petrol</td>\n",
       "      <td>White</td>\n",
       "      <td>2013</td>\n",
       "      <td>Honda</td>\n",
       "    </tr>\n",
       "    <tr>\n",
       "      <th>2</th>\n",
       "      <td>2</td>\n",
       "      <td>Mercedes-Benz S 550</td>\n",
       "      <td>87501</td>\n",
       "      <td>Lagos</td>\n",
       "      <td>Foreign Used</td>\n",
       "      <td>4-cylinder(I4)</td>\n",
       "      <td>automatic</td>\n",
       "      <td>petrol</td>\n",
       "      <td>Black</td>\n",
       "      <td>2012</td>\n",
       "      <td>Mercedes-Benz</td>\n",
       "    </tr>\n",
       "    <tr>\n",
       "      <th>3</th>\n",
       "      <td>3</td>\n",
       "      <td>Toyota Sienna</td>\n",
       "      <td>180894</td>\n",
       "      <td>Lagos</td>\n",
       "      <td>Locally used</td>\n",
       "      <td>6-cylinder(V6)</td>\n",
       "      <td>automatic</td>\n",
       "      <td>petrol</td>\n",
       "      <td>Dark Grey</td>\n",
       "      <td>2001</td>\n",
       "      <td>Toyota</td>\n",
       "    </tr>\n",
       "    <tr>\n",
       "      <th>4</th>\n",
       "      <td>4</td>\n",
       "      <td>Toyota Hiace</td>\n",
       "      <td>104814</td>\n",
       "      <td>Lagos</td>\n",
       "      <td>Foreign Used</td>\n",
       "      <td>4-cylinder(I4)</td>\n",
       "      <td>automatic</td>\n",
       "      <td>petrol</td>\n",
       "      <td>White</td>\n",
       "      <td>2000</td>\n",
       "      <td>Toyota</td>\n",
       "    </tr>\n",
       "  </tbody>\n",
       "</table>\n",
       "</div>"
      ],
      "text/plain": [
       "   id                title  odometer location    isimported          engine  \\\n",
       "0   0  Mercedes-Benz C 300      1234    Abuja          New   4-cylinder(I4)   \n",
       "1   1         Honda Accord     29938    Abuja  Foreign Used  4-cylinder(I4)   \n",
       "2   2  Mercedes-Benz S 550     87501    Lagos  Foreign Used  4-cylinder(I4)   \n",
       "3   3        Toyota Sienna    180894    Lagos  Locally used  6-cylinder(V6)   \n",
       "4   4         Toyota Hiace    104814    Lagos  Foreign Used  4-cylinder(I4)   \n",
       "\n",
       "  transmission    fuel      paint  year          brand  \n",
       "0    automatic  petrol      White  2017  Mercedes-Benz  \n",
       "1    automatic  petrol      White  2013          Honda  \n",
       "2    automatic  petrol      Black  2012  Mercedes-Benz  \n",
       "3    automatic  petrol  Dark Grey  2001         Toyota  \n",
       "4    automatic  petrol      White  2000         Toyota  "
      ]
     },
     "execution_count": 18,
     "metadata": {},
     "output_type": "execute_result"
    }
   ],
   "source": [
    "test['brand'] = test['title'].apply(lambda x: x.split(\" \")[0])\n",
    "test.head()"
   ]
  },
  {
   "cell_type": "code",
   "execution_count": 19,
   "id": "aaa816c5",
   "metadata": {},
   "outputs": [
    {
     "data": {
      "text/plain": [
       "array(['Mercedes-Benz', 'Honda', 'Toyota', 'Iveco', 'Lexus', 'Nissan',\n",
       "       'Volkswagen', 'Jeep', 'Ford', 'BMW', 'Mack', 'Land', 'Hyundai',\n",
       "       'Peugeot', 'Volvo', 'Infiniti', 'Acura', 'Man', 'Fiat', 'MINI',\n",
       "       'DAF', 'Mazda', 'Porsche', 'Mitsubishi', 'Chevrolet', 'Kia',\n",
       "       'Pontiac', 'Rolls-Royce'], dtype=object)"
      ]
     },
     "execution_count": 19,
     "metadata": {},
     "output_type": "execute_result"
    }
   ],
   "source": [
    "test['brand'].unique()"
   ]
  },
  {
   "cell_type": "code",
   "execution_count": 20,
   "id": "8d9bbea0",
   "metadata": {},
   "outputs": [],
   "source": [
    "test.replace({'brand' : {'Land' : 'Land Rover'}}, inplace = True)"
   ]
  },
  {
   "cell_type": "code",
   "execution_count": 21,
   "id": "91873d41",
   "metadata": {},
   "outputs": [
    {
     "data": {
      "text/plain": [
       "['Acura',\n",
       " 'BMW',\n",
       " 'Chevrolet',\n",
       " 'DAF',\n",
       " 'Fiat',\n",
       " 'Ford',\n",
       " 'Honda',\n",
       " 'Hyundai',\n",
       " 'Infiniti',\n",
       " 'Iveco',\n",
       " 'Jeep',\n",
       " 'Kia',\n",
       " 'Land Rover',\n",
       " 'Lexus',\n",
       " 'MINI',\n",
       " 'Mack',\n",
       " 'Man',\n",
       " 'Mazda',\n",
       " 'Mercedes-Benz',\n",
       " 'Mitsubishi',\n",
       " 'Nissan',\n",
       " 'Peugeot',\n",
       " 'Pontiac',\n",
       " 'Porsche',\n",
       " 'Rolls-Royce',\n",
       " 'Toyota',\n",
       " 'Volkswagen',\n",
       " 'Volvo']"
      ]
     },
     "execution_count": 21,
     "metadata": {},
     "output_type": "execute_result"
    }
   ],
   "source": [
    "sorted(test['brand'].unique())"
   ]
  },
  {
   "cell_type": "code",
   "execution_count": 22,
   "id": "5c7336e2",
   "metadata": {},
   "outputs": [
    {
     "name": "stdout",
     "output_type": "stream",
     "text": [
      "41\n",
      "28\n",
      "False\n"
     ]
    }
   ],
   "source": [
    "# train이나 test의 종류는 모두 같지 않다.\n",
    "print(len(train['brand'].unique()))\n",
    "print(len(test['brand'].unique()))\n",
    "print(sorted(train['brand'].unique()) == sorted(test['brand'].unique()))"
   ]
  },
  {
   "cell_type": "code",
   "execution_count": 23,
   "id": "05cb7dc4",
   "metadata": {},
   "outputs": [
    {
     "name": "stdout",
     "output_type": "stream",
     "text": [
      "['Fiat']\n",
      "['Jaguar', 'Lincoln', 'Isuzu', 'IVM', 'Dodge', 'GMC', 'Scania', 'GAC', 'IVECO', 'MAN-VOLKSWAGEN', 'ALPINA', 'Bentley', 'JMC', 'Audi']\n"
     ]
    }
   ],
   "source": [
    "# train에 없는데, test에 있는 brand\n",
    "s = train['brand'].unique()\n",
    "temp3 = [x for x in test['brand'].unique() if x not in s] #순서 보존됨\n",
    "print(temp3)\n",
    "\n",
    "# test 없는데, train 있는 brand\n",
    "s = test['brand'].unique()\n",
    "temp3 = [x for x in train['brand'].unique() if x not in s] #순서 보존됨\n",
    "print(temp3)"
   ]
  },
  {
   "cell_type": "code",
   "execution_count": 24,
   "id": "5530b1f5",
   "metadata": {},
   "outputs": [
    {
     "data": {
      "text/plain": [
       "['Abia',\n",
       " 'Abia State',\n",
       " 'Abuja',\n",
       " 'Abuja ',\n",
       " 'Accra',\n",
       " 'Adamawa ',\n",
       " 'FCT',\n",
       " 'Lagos',\n",
       " 'Lagos ',\n",
       " 'Lagos State',\n",
       " 'Ogun',\n",
       " 'Ogun State',\n",
       " 'other']"
      ]
     },
     "execution_count": 24,
     "metadata": {},
     "output_type": "execute_result"
    }
   ],
   "source": [
    "sorted(train.location.unique())"
   ]
  },
  {
   "cell_type": "code",
   "execution_count": 25,
   "id": "92b3b189",
   "metadata": {},
   "outputs": [],
   "source": [
    "# sorted(test.location.unique())"
   ]
  },
  {
   "cell_type": "code",
   "execution_count": 26,
   "id": "9fa712f8",
   "metadata": {},
   "outputs": [],
   "source": [
    "train['location'] = train['location'].str.replace(\" State\",\"\")"
   ]
  },
  {
   "cell_type": "code",
   "execution_count": 27,
   "id": "b558e311",
   "metadata": {},
   "outputs": [],
   "source": [
    "train['location'] = train['location'].str.rstrip()"
   ]
  },
  {
   "cell_type": "code",
   "execution_count": 28,
   "id": "af712eac",
   "metadata": {},
   "outputs": [
    {
     "data": {
      "text/plain": [
       "['Abia', 'Abuja', 'Accra', 'Adamawa', 'FCT', 'Lagos', 'Ogun', 'other']"
      ]
     },
     "execution_count": 28,
     "metadata": {},
     "output_type": "execute_result"
    }
   ],
   "source": [
    "sorted(train.location.unique())"
   ]
  },
  {
   "cell_type": "code",
   "execution_count": 29,
   "id": "6d277131",
   "metadata": {},
   "outputs": [],
   "source": [
    "test['location'] = test['location'].str.replace(\" State\",\"\")\n",
    "test['location'] = test['location'].str.replace(\" state\",\"\")\n",
    "test['location'] = test['location'].str.replace('Arepo ogun','Ogun')\n",
    "test['location'] = test['location'].str.rstrip()"
   ]
  },
  {
   "cell_type": "code",
   "execution_count": 30,
   "id": "f0333bf8",
   "metadata": {},
   "outputs": [
    {
     "data": {
      "text/plain": [
       "['Abia', 'Abuja', 'Lagos', 'Mushin', 'Ogun', 'other']"
      ]
     },
     "execution_count": 30,
     "metadata": {},
     "output_type": "execute_result"
    }
   ],
   "source": [
    "sorted(test['location'].unique())"
   ]
  },
  {
   "cell_type": "code",
   "execution_count": 31,
   "id": "b431579a",
   "metadata": {},
   "outputs": [
    {
     "data": {
      "text/plain": [
       "['Foreign Used', 'Locally used', 'New ']"
      ]
     },
     "execution_count": 31,
     "metadata": {},
     "output_type": "execute_result"
    }
   ],
   "source": [
    "sorted(train.isimported.unique())"
   ]
  },
  {
   "cell_type": "code",
   "execution_count": 32,
   "id": "eb8ca900",
   "metadata": {},
   "outputs": [
    {
     "data": {
      "text/plain": [
       "['Foreign Used', 'Locally used', 'New ']"
      ]
     },
     "execution_count": 32,
     "metadata": {},
     "output_type": "execute_result"
    }
   ],
   "source": [
    "sorted(test.isimported.unique())"
   ]
  },
  {
   "cell_type": "code",
   "execution_count": 33,
   "id": "15da391a",
   "metadata": {},
   "outputs": [
    {
     "data": {
      "text/plain": [
       "['2-cylinder(I2)',\n",
       " '3-cylinder(I3)',\n",
       " '4-cylinder(H4)',\n",
       " '4-cylinder(I4)',\n",
       " '5-cylinder(I5)',\n",
       " '6-cylinder(I6)',\n",
       " '6-cylinder(V6)',\n",
       " '8-cylinder(V8)']"
      ]
     },
     "execution_count": 33,
     "metadata": {},
     "output_type": "execute_result"
    }
   ],
   "source": [
    "sorted(train.engine.unique())"
   ]
  },
  {
   "cell_type": "code",
   "execution_count": 34,
   "id": "84c3238d",
   "metadata": {},
   "outputs": [
    {
     "data": {
      "text/plain": [
       "['12-cylinder(V12)',\n",
       " '2-cylinder(I2)',\n",
       " '3-cylinder(I3)',\n",
       " '4-cylinder(I4)',\n",
       " '5-cylinder(I5)',\n",
       " '6-cylinder(I6)',\n",
       " '6-cylinder(V6)',\n",
       " '8-cylinder(V8)']"
      ]
     },
     "execution_count": 34,
     "metadata": {},
     "output_type": "execute_result"
    }
   ],
   "source": [
    "sorted(test.engine.unique())"
   ]
  },
  {
   "cell_type": "code",
   "execution_count": 35,
   "id": "6c3bf182",
   "metadata": {},
   "outputs": [
    {
     "data": {
      "text/plain": [
       "array(['automatic', 'manual'], dtype=object)"
      ]
     },
     "execution_count": 35,
     "metadata": {},
     "output_type": "execute_result"
    }
   ],
   "source": [
    "train.transmission.unique()"
   ]
  },
  {
   "cell_type": "code",
   "execution_count": 36,
   "id": "eaf1b38b",
   "metadata": {},
   "outputs": [
    {
     "data": {
      "text/plain": [
       "array(['automatic', 'manual'], dtype=object)"
      ]
     },
     "execution_count": 36,
     "metadata": {},
     "output_type": "execute_result"
    }
   ],
   "source": [
    "test.transmission.unique()"
   ]
  },
  {
   "cell_type": "code",
   "execution_count": 37,
   "id": "561a7344",
   "metadata": {},
   "outputs": [
    {
     "data": {
      "text/plain": [
       "array(['petrol', 'diesel'], dtype=object)"
      ]
     },
     "execution_count": 37,
     "metadata": {},
     "output_type": "execute_result"
    }
   ],
   "source": [
    "train.fuel.unique()"
   ]
  },
  {
   "cell_type": "code",
   "execution_count": 38,
   "id": "9187fc20",
   "metadata": {},
   "outputs": [
    {
     "data": {
      "text/plain": [
       "array(['petrol', 'diesel'], dtype=object)"
      ]
     },
     "execution_count": 38,
     "metadata": {},
     "output_type": "execute_result"
    }
   ],
   "source": [
    "test.fuel.unique()"
   ]
  },
  {
   "cell_type": "code",
   "execution_count": 39,
   "id": "f60380de",
   "metadata": {},
   "outputs": [
    {
     "data": {
      "text/plain": [
       "[' Black',\n",
       " ' Black/Red',\n",
       " 'Ash',\n",
       " 'Ash and black',\n",
       " 'BLACK',\n",
       " 'Beige',\n",
       " 'Black',\n",
       " 'Black ',\n",
       " 'Black and silver',\n",
       " 'Black sand pearl',\n",
       " 'Black.',\n",
       " 'Blue',\n",
       " 'Blue ',\n",
       " 'Brown',\n",
       " 'Cream',\n",
       " 'Cream ',\n",
       " 'DARK GREY',\n",
       " 'Dark Ash',\n",
       " 'Dark Blue',\n",
       " 'Dark Green',\n",
       " 'Dark Grey',\n",
       " 'Dark ash',\n",
       " 'Dark blue ',\n",
       " 'Dark gray',\n",
       " 'Dark silver ',\n",
       " 'Deep Blue',\n",
       " 'Deep blue',\n",
       " 'GOLD',\n",
       " 'Gery',\n",
       " 'Gold',\n",
       " 'Gold ',\n",
       " 'Gray',\n",
       " 'Gray ',\n",
       " 'Green',\n",
       " 'Green ',\n",
       " 'Grey',\n",
       " 'Grey ',\n",
       " 'Ink blue',\n",
       " 'Light Gold',\n",
       " 'Light blue',\n",
       " 'Light silver ',\n",
       " 'Magnetic Gray',\n",
       " 'Magnetic Gray Metallic',\n",
       " 'Maroon',\n",
       " 'Midnight Black Metal',\n",
       " 'Milk',\n",
       " 'Navy blue',\n",
       " 'Off white',\n",
       " 'Off white l',\n",
       " 'Pale brown',\n",
       " 'Purple',\n",
       " 'Red',\n",
       " 'Redl',\n",
       " 'SILVER',\n",
       " 'Silver',\n",
       " 'Silver ',\n",
       " 'Silver/grey',\n",
       " 'Sky blue',\n",
       " 'Skye blue',\n",
       " 'Sliver',\n",
       " 'Super White',\n",
       " 'WHITE',\n",
       " 'WINE',\n",
       " 'Whine ',\n",
       " 'White',\n",
       " 'White ',\n",
       " 'White orchild pearl',\n",
       " 'Wine',\n",
       " 'Yellow',\n",
       " 'blue',\n",
       " 'green',\n",
       " 'orange',\n",
       " 'red',\n",
       " 'white',\n",
       " 'white-blue',\n",
       " 'yellow']"
      ]
     },
     "execution_count": 39,
     "metadata": {},
     "output_type": "execute_result"
    }
   ],
   "source": [
    "sorted(train.paint.unique())"
   ]
  },
  {
   "cell_type": "code",
   "execution_count": 40,
   "id": "ab5f4ec3",
   "metadata": {},
   "outputs": [
    {
     "name": "stdout",
     "output_type": "stream",
     "text": [
      "train data에서 paint의 unique 카테고리 개수 :  51\n"
     ]
    }
   ],
   "source": [
    "import re \n",
    "\n",
    "def clean_text(texts): \n",
    "    corpus = [] \n",
    "    for i in range(0, len(texts)): \n",
    "        review = re.sub(r'[@%\\\\*=()/~#&\\+á?\\xc3\\xa1\\-\\|\\.\\:\\;\\!\\-\\,\\_\\~\\$\\'\\\"\\n\\]\\[\\>\\<]', '',texts[i]) #@%*=()/+ 와 같은 문장부호 제거\n",
    "        review = re.sub(r'\\d+','',review)#숫자 제거\n",
    "        review = review.lower() #소문자 변환\n",
    "        review = re.sub(r'\\s+', ' ', review) #extra space 제거\n",
    "        review = re.sub(r'<[^>]+>','',review) #Html tags 제거\n",
    "        review = re.sub(r'\\s+', ' ', review) #spaces 제거\n",
    "        review = re.sub(r\"^\\s+\", '', review) #space from start 제거\n",
    "        review = re.sub(r'\\s+$', '', review) #space from the end 제거\n",
    "        review = re.sub(r'_', ' ', review) #space from the end 제거\n",
    "        #review = re.sub(r'l', '', review)\n",
    "        corpus.append(review) \n",
    "        \n",
    "    return corpus\n",
    "\n",
    "temp = clean_text(train['paint']) #메소드 적용\n",
    "train['paint'] = temp\n",
    "print('train data에서 paint의 unique 카테고리 개수 : ', len(train['paint'].unique()))"
   ]
  },
  {
   "cell_type": "code",
   "execution_count": 41,
   "id": "2a68b403",
   "metadata": {},
   "outputs": [
    {
     "data": {
      "text/plain": [
       "['ash',\n",
       " 'ash and black',\n",
       " 'beige',\n",
       " 'black',\n",
       " 'black and silver',\n",
       " 'black sand pearl',\n",
       " 'blackred',\n",
       " 'blue',\n",
       " 'brown',\n",
       " 'cream',\n",
       " 'dark ash',\n",
       " 'dark blue',\n",
       " 'dark gray',\n",
       " 'dark green',\n",
       " 'dark grey',\n",
       " 'dark silver',\n",
       " 'deep blue',\n",
       " 'gery',\n",
       " 'gold',\n",
       " 'gray',\n",
       " 'green',\n",
       " 'grey',\n",
       " 'ink blue',\n",
       " 'light blue',\n",
       " 'light gold',\n",
       " 'light silver',\n",
       " 'magnetic gray',\n",
       " 'magnetic gray metallic',\n",
       " 'maroon',\n",
       " 'midnight black metal',\n",
       " 'milk',\n",
       " 'navy blue',\n",
       " 'off white',\n",
       " 'off white l',\n",
       " 'orange',\n",
       " 'pale brown',\n",
       " 'purple',\n",
       " 'red',\n",
       " 'redl',\n",
       " 'silver',\n",
       " 'silvergrey',\n",
       " 'sky blue',\n",
       " 'skye blue',\n",
       " 'sliver',\n",
       " 'super white',\n",
       " 'whine',\n",
       " 'white',\n",
       " 'white orchild pearl',\n",
       " 'whiteblue',\n",
       " 'wine',\n",
       " 'yellow']"
      ]
     },
     "execution_count": 41,
     "metadata": {},
     "output_type": "execute_result"
    }
   ],
   "source": [
    "sorted(train['paint'].unique())"
   ]
  },
  {
   "cell_type": "code",
   "execution_count": 42,
   "id": "085f9892",
   "metadata": {},
   "outputs": [],
   "source": [
    "train['paint'] = train['paint'] = train['paint'].apply(lambda x : 'blue' if x.find('blue') >= 0 else x)\n",
    "train['paint'] = train['paint'] = train['paint'].apply(lambda x : 'red' if x.find('red') >= 0 else x)\n",
    "train['paint'] = train['paint'] = train['paint'].apply(lambda x : 'green' if x.find('green') >= 0 else x)\n",
    "train['paint'] = train['paint'] = train['paint'].apply(lambda x : 'white' if x.find('white') >= 0 else x)\n",
    "train['paint'] = train['paint'] = train['paint'].apply(lambda x : 'grey' if x.find('grey') >= 0 else x)\n",
    "train['paint'] = train['paint'] = train['paint'].apply(lambda x : 'grey' if x.find('gery') >= 0 else x)\n",
    "train['paint'] = train['paint'] = train['paint'].apply(lambda x : 'grey' if x.find('gray') >= 0 else x)\n",
    "train['paint'] = train['paint'] = train['paint'].apply(lambda x : 'ash' if x.find('ash') >= 0 else x)\n",
    "train['paint'] = train['paint'] = train['paint'].apply(lambda x : 'brown' if x.find('brown') >= 0 else x)\n",
    "train['paint'] = train['paint'] = train['paint'].apply(lambda x : 'silver' if x.find('silver') >= 0 else x)\n",
    "train['paint'] = train['paint'] = train['paint'].apply(lambda x : 'silver' if x.find('sliver') >= 0 else x)\n",
    "train['paint'] = train['paint'] = train['paint'].apply(lambda x : 'black' if x.find('black') >= 0 else x)\n",
    "train['paint'] = train['paint'] = train['paint'].apply(lambda x : 'gold' if x.find('gold') >= 0 else x)\n",
    "train['paint'] = train['paint'] = train['paint'].apply(lambda x : 'wine' if x.find('whine') >= 0 else x)\n",
    "train['paint'] = train['paint'] = train['paint'].apply(lambda x : 'black' if x.find('blac') >= 0 else x)\n",
    "train['paint'] = train['paint'] = train['paint'].apply(lambda x : 'gold' if x.find('golf') >= 0 else x)"
   ]
  },
  {
   "cell_type": "code",
   "execution_count": 43,
   "id": "96c609d0",
   "metadata": {},
   "outputs": [
    {
     "data": {
      "text/plain": [
       "['ash',\n",
       " 'beige',\n",
       " 'black',\n",
       " 'blue',\n",
       " 'brown',\n",
       " 'cream',\n",
       " 'gold',\n",
       " 'green',\n",
       " 'grey',\n",
       " 'maroon',\n",
       " 'milk',\n",
       " 'orange',\n",
       " 'purple',\n",
       " 'red',\n",
       " 'silver',\n",
       " 'white',\n",
       " 'wine',\n",
       " 'yellow']"
      ]
     },
     "execution_count": 43,
     "metadata": {},
     "output_type": "execute_result"
    }
   ],
   "source": [
    "sorted(train['paint'].unique())"
   ]
  },
  {
   "cell_type": "code",
   "execution_count": 44,
   "id": "a2d15db1",
   "metadata": {},
   "outputs": [
    {
     "name": "stdout",
     "output_type": "stream",
     "text": [
      "test data에서 paint의 unique 카테고리 개수 :  30\n"
     ]
    }
   ],
   "source": [
    "temp2 = clean_text(test['paint'])\n",
    "test['paint'] = temp2\n",
    "print('test data에서 paint의 unique 카테고리 개수 : ', len(test['paint'].unique()))"
   ]
  },
  {
   "cell_type": "code",
   "execution_count": 45,
   "id": "891a9e77",
   "metadata": {},
   "outputs": [],
   "source": [
    "\n",
    "test['paint'] = test['paint'].apply(lambda x : 'blue' if x.find('blue') >= 0 else x)\n",
    "test['paint'] = test['paint'].apply(lambda x : 'red' if x.find('red') >= 0 else x)\n",
    "test['paint'] = test['paint'].apply(lambda x : 'green' if x.find('green') >= 0 else x)\n",
    "test['paint'] = test['paint'].apply(lambda x : 'white' if x.find('white') >= 0 else x)\n",
    "test['paint'] = test['paint'].apply(lambda x : 'grey' if x.find('grey') >= 0 else x)\n",
    "test['paint'] = test['paint'].apply(lambda x : 'grey' if x.find('gery') >= 0 else x)\n",
    "test['paint'] = test['paint'].apply(lambda x : 'grey' if x.find('gray') >= 0 else x)\n",
    "test['paint'] = test['paint'].apply(lambda x : 'ash' if x.find('ash') >= 0 else x)\n",
    "test['paint'] = test['paint'].apply(lambda x : 'brown' if x.find('brown') >= 0 else x)\n",
    "test['paint'] = test['paint'].apply(lambda x : 'silver' if x.find('silver') >= 0 else x)\n",
    "test['paint'] = test['paint'].apply(lambda x : 'silver' if x.find('sliver') >= 0 else x)\n",
    "test['paint'] = test['paint'].apply(lambda x : 'black' if x.find('black') >= 0 else x)\n",
    "test['paint'] = test['paint'].apply(lambda x : 'gold' if x.find('gold') >= 0 else x)\n",
    "test['paint'] = test['paint'].apply(lambda x : 'wine' if x.find('whine') >= 0 else x)\n",
    "test['paint'] = test['paint'].apply(lambda x : 'black' if x.find('blac') >= 0 else x)\n",
    "test['paint'] = test['paint'].apply(lambda x : 'gold' if x.find('golf') >= 0 else x)"
   ]
  },
  {
   "cell_type": "code",
   "execution_count": 46,
   "id": "6e0bc651",
   "metadata": {},
   "outputs": [
    {
     "data": {
      "text/plain": [
       "16"
      ]
     },
     "execution_count": 46,
     "metadata": {},
     "output_type": "execute_result"
    }
   ],
   "source": [
    "len(sorted(test['paint'].unique()))"
   ]
  },
  {
   "cell_type": "code",
   "execution_count": 47,
   "id": "be29124e",
   "metadata": {},
   "outputs": [],
   "source": [
    "train_year = set(train.year.unique()) - set(test.year.unique())\n",
    "test_year = set(test.year.unique()) - set(train.year.unique())\n"
   ]
  },
  {
   "cell_type": "code",
   "execution_count": 48,
   "id": "7682ace7",
   "metadata": {},
   "outputs": [
    {
     "data": {
      "text/plain": [
       "{1217, 1218, 1980, 1982, 1985, 1991, 1995}"
      ]
     },
     "execution_count": 48,
     "metadata": {},
     "output_type": "execute_result"
    }
   ],
   "source": [
    "train_year"
   ]
  },
  {
   "cell_type": "code",
   "execution_count": 49,
   "id": "caf3e32c",
   "metadata": {},
   "outputs": [
    {
     "data": {
      "text/plain": [
       "{1324, 1726, 1987, 1993, 2626}"
      ]
     },
     "execution_count": 49,
     "metadata": {},
     "output_type": "execute_result"
    }
   ],
   "source": [
    "test_year"
   ]
  },
  {
   "cell_type": "markdown",
   "id": "0ecc3179",
   "metadata": {},
   "source": [
    "## 자료 비교"
   ]
  },
  {
   "cell_type": "code",
   "execution_count": 50,
   "id": "3d336faf",
   "metadata": {},
   "outputs": [
    {
     "name": "stdout",
     "output_type": "stream",
     "text": [
      "---- brand ----\n",
      "train 없는데, test 있는 brand\n",
      "['Fiat']\n",
      "test 없는데, train 있는 brand\n",
      "['Jaguar', 'Lincoln', 'Isuzu', 'IVM', 'Dodge', 'GMC', 'Scania', 'GAC', 'IVECO', 'MAN-VOLKSWAGEN', 'ALPINA', 'Bentley', 'JMC', 'Audi']\n",
      "---- isimported ----\n",
      "train 없는데, test 있는 isimported\n",
      "[]\n",
      "test 없는데, train 있는 isimported\n",
      "[]\n",
      "---- location ----\n",
      "train 없는데, test 있는 location\n",
      "['Mushin']\n",
      "test 없는데, train 있는 location\n",
      "['FCT', 'Accra', 'Adamawa']\n",
      "---- engine ----\n",
      "train 없는데, test 있는 engine\n",
      "['12-cylinder(V12)']\n",
      "test 없는데, train 있는 engine\n",
      "['4-cylinder(H4)']\n",
      "---- transmission ----\n",
      "train 없는데, test 있는 transmission\n",
      "[]\n",
      "test 없는데, train 있는 transmission\n",
      "[]\n",
      "---- fuel ----\n",
      "train 없는데, test 있는 fuel\n",
      "[]\n",
      "test 없는데, train 있는 fuel\n",
      "[]\n",
      "---- paint ----\n",
      "train 없는데, test 있는 paint\n",
      "['indigo ink pearl']\n",
      "test 없는데, train 있는 paint\n",
      "['purple', 'milk', 'orange']\n",
      "---- year ----\n",
      "train 없는데, test 있는 year\n",
      "[1993, 1987, 1324, 2626, 1726]\n",
      "test 없는데, train 있는 year\n",
      "[1995, 1985, 1991, 1218, 1982, 1217, 1980]\n"
     ]
    }
   ],
   "source": [
    "def difference(column, df_train, df_test):\n",
    "    print('---- {} ----'.format(column))\n",
    "    # train에 없는데, test에 있는 column\n",
    "    print('train 없는데, test 있는', column)\n",
    "    s = df_train[column].unique()\n",
    "    no_train = [x for x in df_test[column].unique() if x not in s] #순서 보존됨\n",
    "    print(no_train)\n",
    "\n",
    "    # test 없는데, train 있는 column\n",
    "    print('test 없는데, train 있는', column)\n",
    "    s = df_test[column].unique()\n",
    "    no_test = [x for x in df_train[column].unique() if x not in s] #순서 보존됨\n",
    "    print(no_test)\n",
    "\n",
    "difference('brand', train, test)\n",
    "difference('isimported', train, test)\n",
    "difference('location', train, test)\n",
    "difference('engine', train, test)\n",
    "difference('transmission', train, test)\n",
    "difference('fuel', train, test)\n",
    "difference('paint', train, test)\n",
    "difference('year', train, test)"
   ]
  },
  {
   "cell_type": "markdown",
   "id": "f16f463d",
   "metadata": {},
   "source": [
    "## 자료 가공"
   ]
  },
  {
   "cell_type": "code",
   "execution_count": 51,
   "id": "49fe62ce",
   "metadata": {},
   "outputs": [
    {
     "data": {
      "text/plain": [
       "{'ALPINA',\n",
       " 'Acura',\n",
       " 'Audi',\n",
       " 'BMW',\n",
       " 'Bentley',\n",
       " 'Chevrolet',\n",
       " 'DAF',\n",
       " 'Dodge',\n",
       " 'Fiat',\n",
       " 'Ford',\n",
       " 'GAC',\n",
       " 'GMC',\n",
       " 'Honda',\n",
       " 'Hyundai',\n",
       " 'IVECO',\n",
       " 'IVM',\n",
       " 'Infiniti',\n",
       " 'Isuzu',\n",
       " 'Iveco',\n",
       " 'JMC',\n",
       " 'Jaguar',\n",
       " 'Jeep',\n",
       " 'Kia',\n",
       " 'Land Rover',\n",
       " 'Lexus',\n",
       " 'Lincoln',\n",
       " 'MAN-VOLKSWAGEN',\n",
       " 'MINI',\n",
       " 'Mack',\n",
       " 'Man',\n",
       " 'Mazda',\n",
       " 'Mercedes-Benz',\n",
       " 'Mitsubishi',\n",
       " 'Nissan',\n",
       " 'Peugeot',\n",
       " 'Pontiac',\n",
       " 'Porsche',\n",
       " 'Rolls-Royce',\n",
       " 'Scania',\n",
       " 'Toyota',\n",
       " 'Volkswagen',\n",
       " 'Volvo'}"
      ]
     },
     "execution_count": 51,
     "metadata": {},
     "output_type": "execute_result"
    }
   ],
   "source": [
    "set(train.brand) | set(test.brand) # 합집합"
   ]
  },
  {
   "cell_type": "code",
   "execution_count": 52,
   "id": "7b5d14f3",
   "metadata": {},
   "outputs": [
    {
     "data": {
      "text/plain": [
       "{'Land Rover': 0,\n",
       " 'Chevrolet': 1,\n",
       " 'MINI': 2,\n",
       " 'Honda': 3,\n",
       " 'Isuzu': 4,\n",
       " 'GMC': 5,\n",
       " 'ALPINA': 6,\n",
       " 'Mitsubishi': 7,\n",
       " 'Scania': 8,\n",
       " 'Pontiac': 9,\n",
       " 'Hyundai': 10,\n",
       " 'Mack': 11,\n",
       " 'DAF': 12,\n",
       " 'Dodge': 13,\n",
       " 'Iveco': 14,\n",
       " 'GAC': 15,\n",
       " 'JMC': 16,\n",
       " 'Fiat': 17,\n",
       " 'Acura': 18,\n",
       " 'Ford': 19,\n",
       " 'Rolls-Royce': 20,\n",
       " 'Jeep': 21,\n",
       " 'Man': 22,\n",
       " 'BMW': 23,\n",
       " 'Toyota': 24,\n",
       " 'Kia': 25,\n",
       " 'MAN-VOLKSWAGEN': 26,\n",
       " 'Volkswagen': 27,\n",
       " 'Bentley': 28,\n",
       " 'Mercedes-Benz': 29,\n",
       " 'Lexus': 30,\n",
       " 'Audi': 31,\n",
       " 'IVECO': 32,\n",
       " 'Peugeot': 33,\n",
       " 'IVM': 34,\n",
       " 'Porsche': 35,\n",
       " 'Mazda': 36,\n",
       " 'Jaguar': 37,\n",
       " 'Lincoln': 38,\n",
       " 'Infiniti': 39,\n",
       " 'Nissan': 40,\n",
       " 'Volvo': 41}"
      ]
     },
     "execution_count": 52,
     "metadata": {},
     "output_type": "execute_result"
    }
   ],
   "source": [
    "brand_label = {_brand : label for label, _brand in enumerate(set(set(train.brand)|set(test.brand)))}\n",
    "brand_label\n",
    "# set 집합은 순서가 없음"
   ]
  },
  {
   "cell_type": "code",
   "execution_count": 53,
   "id": "2ebb26a1",
   "metadata": {},
   "outputs": [],
   "source": [
    "train['brand'] = train['brand'].replace(brand_label)\n",
    "test['brand'] = test['brand'].replace(brand_label)"
   ]
  },
  {
   "cell_type": "code",
   "execution_count": 54,
   "id": "fd20c2df",
   "metadata": {},
   "outputs": [
    {
     "data": {
      "text/plain": [
       "array([24,  0, 30,  9, 19,  3, 41, 23, 39, 29, 10, 37,  7, 40, 11,  1, 36,\n",
       "       38, 25, 27, 18, 12, 22,  4, 34, 35,  2, 13,  5, 14,  8, 15, 32, 33,\n",
       "       20, 26, 21,  6, 28, 16, 31], dtype=int64)"
      ]
     },
     "execution_count": 54,
     "metadata": {},
     "output_type": "execute_result"
    }
   ],
   "source": [
    "train['brand'].unique()"
   ]
  },
  {
   "cell_type": "code",
   "execution_count": 55,
   "id": "b943de45",
   "metadata": {},
   "outputs": [
    {
     "data": {
      "text/plain": [
       "0      29\n",
       "1       3\n",
       "2      29\n",
       "3      24\n",
       "4      24\n",
       "       ..\n",
       "431    29\n",
       "432     3\n",
       "433    29\n",
       "434    30\n",
       "435    24\n",
       "Name: brand, Length: 436, dtype: int64"
      ]
     },
     "execution_count": 55,
     "metadata": {},
     "output_type": "execute_result"
    }
   ],
   "source": [
    "test['brand']"
   ]
  },
  {
   "cell_type": "code",
   "execution_count": 56,
   "id": "f6adea7b",
   "metadata": {},
   "outputs": [
    {
     "data": {
      "text/plain": [
       "0       24\n",
       "1       24\n",
       "2        0\n",
       "3       30\n",
       "4       24\n",
       "        ..\n",
       "1010    24\n",
       "1011    24\n",
       "1012    24\n",
       "1013    30\n",
       "1014    12\n",
       "Name: brand, Length: 1015, dtype: int64"
      ]
     },
     "execution_count": 56,
     "metadata": {},
     "output_type": "execute_result"
    }
   ],
   "source": [
    "train['brand']"
   ]
  },
  {
   "cell_type": "code",
   "execution_count": 57,
   "id": "4eb04e12",
   "metadata": {},
   "outputs": [
    {
     "data": {
      "text/plain": [
       "{'ALPINA B3',\n",
       " 'Acura MDX',\n",
       " 'Acura RDX',\n",
       " 'Acura TL',\n",
       " 'Acura TSX',\n",
       " 'Acura ZDX',\n",
       " 'Audi S6',\n",
       " 'BMW 325',\n",
       " 'BMW 335',\n",
       " 'BMW 525',\n",
       " 'BMW 528',\n",
       " 'BMW 535',\n",
       " 'BMW 730',\n",
       " 'BMW 740',\n",
       " 'BMW 745',\n",
       " 'BMW 750',\n",
       " 'BMW X3',\n",
       " 'BMW X6',\n",
       " 'Bentley Arnage',\n",
       " 'Chevrolet Camaro',\n",
       " 'Chevrolet Evanda',\n",
       " 'Chevrolet Traverse',\n",
       " 'DAF 45',\n",
       " 'DAF 95XF TRACTOR HEAD',\n",
       " 'DAF CF',\n",
       " 'DAF FA 55. 180',\n",
       " 'DAF XF TRACTOR HEAD',\n",
       " 'Dodge Charger',\n",
       " 'Fiat Ducato',\n",
       " 'Ford Edge',\n",
       " 'Ford Escape',\n",
       " 'Ford Expedition',\n",
       " 'Ford Explorer',\n",
       " 'Ford F 150',\n",
       " 'Ford Focus',\n",
       " 'Ford Fusion',\n",
       " 'Ford Mondeo',\n",
       " 'Ford Mustang',\n",
       " 'Ford TRANSIT PICKUP',\n",
       " 'Ford Transit',\n",
       " 'GAC Gonow Other',\n",
       " 'GMC Terrain',\n",
       " 'Honda Accord',\n",
       " 'Honda CR-V',\n",
       " 'Honda Civic',\n",
       " 'Honda Crosstour',\n",
       " 'Honda Element',\n",
       " 'Honda Fit',\n",
       " 'Honda Insight',\n",
       " 'Honda Odyssey',\n",
       " 'Honda Pilot',\n",
       " 'Honda Ridgeline',\n",
       " 'Hyundai Azera',\n",
       " 'Hyundai Elantra',\n",
       " 'Hyundai Santa Fe',\n",
       " 'Hyundai Sonata',\n",
       " 'Hyundai Tucson',\n",
       " 'Hyundai ix35',\n",
       " 'IVECO EUROTECH 7.50E-16',\n",
       " 'IVM LT35',\n",
       " 'Infiniti FX',\n",
       " 'Infiniti JX',\n",
       " 'Infiniti M35',\n",
       " 'Infiniti QX80',\n",
       " 'Isuzu CABSTER',\n",
       " 'Isuzu NQR',\n",
       " 'Iveco EUROCARGO 120e18',\n",
       " 'Iveco TRUCK',\n",
       " 'JMC Vigus',\n",
       " 'Jaguar X-Type',\n",
       " 'Jaguar XJ8',\n",
       " 'Jeep Cherokee',\n",
       " 'Jeep Wrangler',\n",
       " 'Kia Cerato',\n",
       " 'Kia Optima',\n",
       " 'Kia Picanto',\n",
       " 'Kia Rio',\n",
       " 'Kia Sorento',\n",
       " 'Kia Soul',\n",
       " 'Kia Stinger',\n",
       " 'Land Rover Discovery',\n",
       " 'Land Rover Range Rover',\n",
       " 'Land Rover Range Rover Evoque',\n",
       " 'Land Rover Range Rover Sport',\n",
       " 'Land Rover Range Rover Velar',\n",
       " 'Lexus CT 200h',\n",
       " 'Lexus ES 300',\n",
       " 'Lexus ES 330',\n",
       " 'Lexus ES 350',\n",
       " 'Lexus GS 300',\n",
       " 'Lexus GS 350',\n",
       " 'Lexus GX 460',\n",
       " 'Lexus GX 470',\n",
       " 'Lexus IS 250',\n",
       " 'Lexus LS 460',\n",
       " 'Lexus LX 570',\n",
       " 'Lexus RX 300',\n",
       " 'Lexus RX 330',\n",
       " 'Lexus RX 350',\n",
       " 'Lexus RX 400',\n",
       " 'Lincoln Mark',\n",
       " 'MAN-VOLKSWAGEN FLATBED',\n",
       " 'MINI Cooper',\n",
       " 'MINI Cooper Countryman',\n",
       " 'MINI Cooper Coupé',\n",
       " 'Mack CH613',\n",
       " 'Mack CH613 CONVENTIONAL CAB',\n",
       " 'Mack CXN613',\n",
       " 'Mack CXN613 CAB BEHIND ENGINE',\n",
       " 'Mack R-686ST',\n",
       " 'Man 26-403',\n",
       " 'Man BOCKMANN',\n",
       " 'Man Diesel 19.314 FILT-N',\n",
       " 'Man LE 8. 180 PLATFORM TRUCK',\n",
       " 'Man TGA 18.360',\n",
       " 'Man Truck 18.44',\n",
       " 'Mazda 323',\n",
       " 'Mazda 6',\n",
       " 'Mazda CX-9',\n",
       " 'Mazda Tribute',\n",
       " 'Mercedes-Benz 200',\n",
       " 'Mercedes-Benz 220',\n",
       " 'Mercedes-Benz 300',\n",
       " 'Mercedes-Benz 320',\n",
       " 'Mercedes-Benz 350',\n",
       " 'Mercedes-Benz 450',\n",
       " 'Mercedes-Benz 709 DB',\n",
       " 'Mercedes-Benz 814',\n",
       " 'Mercedes-Benz ATEGO',\n",
       " 'Mercedes-Benz C 180',\n",
       " 'Mercedes-Benz C 250',\n",
       " 'Mercedes-Benz C 300',\n",
       " 'Mercedes-Benz C 320',\n",
       " 'Mercedes-Benz C 350',\n",
       " 'Mercedes-Benz C 450 AMG',\n",
       " 'Mercedes-Benz C 63 AMG',\n",
       " 'Mercedes-Benz CABIN PLUS CHASSIS ONLY',\n",
       " 'Mercedes-Benz CLA 250',\n",
       " 'Mercedes-Benz CLS 500',\n",
       " 'Mercedes-Benz DUMP TRUCK',\n",
       " 'Mercedes-Benz E 200',\n",
       " 'Mercedes-Benz E 300',\n",
       " 'Mercedes-Benz E 320',\n",
       " 'Mercedes-Benz E 350',\n",
       " 'Mercedes-Benz E 550',\n",
       " 'Mercedes-Benz G 550',\n",
       " 'Mercedes-Benz G 63 AMG',\n",
       " 'Mercedes-Benz GL 450',\n",
       " 'Mercedes-Benz GLA 180',\n",
       " 'Mercedes-Benz GLA 250',\n",
       " 'Mercedes-Benz GLC 300',\n",
       " 'Mercedes-Benz GLE 350',\n",
       " 'Mercedes-Benz GLE 43 AMG',\n",
       " 'Mercedes-Benz GLE 450',\n",
       " 'Mercedes-Benz GLK 300',\n",
       " 'Mercedes-Benz GLK 350',\n",
       " 'Mercedes-Benz ML 320',\n",
       " 'Mercedes-Benz ML 350',\n",
       " 'Mercedes-Benz ML 430',\n",
       " 'Mercedes-Benz Maybach',\n",
       " 'Mercedes-Benz S 450',\n",
       " 'Mercedes-Benz S 550',\n",
       " 'Mercedes-Benz SL 400',\n",
       " 'Mercedes-Benz WATER TANKER',\n",
       " 'Mercedes-Benz/52',\n",
       " 'Mitsubishi CANTER PICK UP',\n",
       " 'Mitsubishi Eclipse',\n",
       " 'Mitsubishi Galant',\n",
       " 'Mitsubishi L200',\n",
       " 'Mitsubishi Montero',\n",
       " 'Mitsubishi Pajero',\n",
       " 'Nissan A',\n",
       " 'Nissan Altima',\n",
       " 'Nissan Cabstar',\n",
       " 'Nissan Frontier',\n",
       " 'Nissan INFINITI M90.150/2',\n",
       " 'Nissan Maxima',\n",
       " 'Nissan Murano',\n",
       " 'Nissan Pathfinder',\n",
       " 'Nissan Primera',\n",
       " 'Nissan Quest',\n",
       " 'Nissan Rogue',\n",
       " 'Nissan Sentra',\n",
       " 'Nissan Titan',\n",
       " 'Nissan Versa',\n",
       " 'Nissan X-Trail',\n",
       " 'Nissan Xterra',\n",
       " 'Peugeot 206',\n",
       " 'Peugeot 307',\n",
       " 'Peugeot 308',\n",
       " 'Peugeot 607',\n",
       " 'Pontiac Vibe',\n",
       " 'Porsche Cayenne',\n",
       " 'Porsche Macan',\n",
       " 'Porsche Panamera',\n",
       " 'Rolls-Royce Ghost',\n",
       " 'Scania P94 FLATBED',\n",
       " 'Scania TRACTOR HEAD',\n",
       " 'Toyota 4-Runner',\n",
       " 'Toyota Avalon',\n",
       " 'Toyota Avensis',\n",
       " 'Toyota C-HR',\n",
       " 'Toyota Camry',\n",
       " 'Toyota Coaster',\n",
       " 'Toyota Corolla',\n",
       " 'Toyota DYNA 200',\n",
       " 'Toyota Dyna',\n",
       " 'Toyota Hiace',\n",
       " 'Toyota Highlander',\n",
       " 'Toyota Hilux',\n",
       " 'Toyota Land Cruiser',\n",
       " 'Toyota Matrix',\n",
       " 'Toyota Prado',\n",
       " 'Toyota Prius',\n",
       " 'Toyota RAV 4',\n",
       " 'Toyota Sequoia',\n",
       " 'Toyota Sienna',\n",
       " 'Toyota Solara',\n",
       " 'Toyota Tacoma',\n",
       " 'Toyota Tundra',\n",
       " 'Toyota Venza',\n",
       " 'Toyota Vitz',\n",
       " 'Toyota Yaris',\n",
       " 'Volkswagen 17.22',\n",
       " 'Volkswagen Golf',\n",
       " 'Volkswagen Jetta',\n",
       " 'Volkswagen LT',\n",
       " 'Volkswagen Passat',\n",
       " 'Volkswagen Sharan',\n",
       " 'Volkswagen T4 Caravelle',\n",
       " 'Volkswagen T6 other',\n",
       " 'Volkswagen Tiguan',\n",
       " 'Volkswagen Touareg',\n",
       " 'Volvo FH12',\n",
       " 'Volvo FL12',\n",
       " 'Volvo FL6',\n",
       " 'Volvo FL7',\n",
       " 'Volvo S80',\n",
       " 'Volvo XC60',\n",
       " 'Volvo XC90'}"
      ]
     },
     "execution_count": 57,
     "metadata": {},
     "output_type": "execute_result"
    }
   ],
   "source": [
    "car_title = pd.concat([train.title, test.title], ignore_index = True)\n",
    "car_title = set(car_title)\n",
    "car_title"
   ]
  },
  {
   "cell_type": "code",
   "execution_count": 58,
   "id": "8ec333e5",
   "metadata": {},
   "outputs": [
    {
     "data": {
      "text/plain": [
       "{'Mercedes-Benz GLE 43 AMG': 0,\n",
       " 'Nissan Frontier': 1,\n",
       " 'Mercedes-Benz C 180': 2,\n",
       " 'Porsche Macan': 3,\n",
       " 'Mercedes-Benz DUMP TRUCK': 4,\n",
       " 'Lexus ES 300': 5,\n",
       " 'IVM LT35': 6,\n",
       " 'Toyota Corolla': 7,\n",
       " 'Kia Optima': 8,\n",
       " 'Mercedes-Benz SL 400': 9,\n",
       " 'Mercedes-Benz ML 350': 10,\n",
       " 'Mack CXN613 CAB BEHIND ENGINE': 11,\n",
       " 'Peugeot 607': 12,\n",
       " 'JMC Vigus': 13,\n",
       " 'Toyota Prius': 14,\n",
       " 'Jaguar XJ8': 15,\n",
       " 'Volkswagen 17.22': 16,\n",
       " 'BMW 325': 17,\n",
       " 'DAF 45': 18,\n",
       " 'Nissan A': 19,\n",
       " 'Volvo XC90': 20,\n",
       " 'Nissan Sentra': 21,\n",
       " 'Hyundai Elantra': 22,\n",
       " 'Hyundai Sonata': 23,\n",
       " 'Ford Fusion': 24,\n",
       " 'Mercedes-Benz GLK 300': 25,\n",
       " 'Mercedes-Benz E 320': 26,\n",
       " 'Mercedes-Benz CLS 500': 27,\n",
       " 'Mercedes-Benz 220': 28,\n",
       " 'BMW 528': 29,\n",
       " 'Toyota Vitz': 30,\n",
       " 'Fiat Ducato': 31,\n",
       " 'Ford Expedition': 32,\n",
       " 'BMW 750': 33,\n",
       " 'Nissan Maxima': 34,\n",
       " 'BMW X3': 35,\n",
       " 'Land Rover Range Rover Velar': 36,\n",
       " 'DAF 95XF TRACTOR HEAD': 37,\n",
       " 'BMW X6': 38,\n",
       " 'Kia Picanto': 39,\n",
       " 'Infiniti QX80': 40,\n",
       " 'Honda Ridgeline': 41,\n",
       " 'Peugeot 206': 42,\n",
       " 'GAC Gonow Other': 43,\n",
       " 'Hyundai ix35': 44,\n",
       " 'Mercedes-Benz C 350': 45,\n",
       " 'Toyota Venza': 46,\n",
       " 'Mazda Tribute': 47,\n",
       " 'Acura TSX': 48,\n",
       " 'Lexus CT 200h': 49,\n",
       " 'Toyota Solara': 50,\n",
       " 'Mercedes-Benz E 350': 51,\n",
       " 'Dodge Charger': 52,\n",
       " 'Toyota Tacoma': 53,\n",
       " 'Nissan Titan': 54,\n",
       " 'Kia Cerato': 55,\n",
       " 'Toyota Avensis': 56,\n",
       " 'MINI Cooper': 57,\n",
       " 'BMW 335': 58,\n",
       " 'Man Diesel 19.314 FILT-N': 59,\n",
       " 'Land Rover Range Rover Sport': 60,\n",
       " 'Toyota Sienna': 61,\n",
       " 'Audi S6': 62,\n",
       " 'Honda Insight': 63,\n",
       " 'Man TGA 18.360': 64,\n",
       " 'Hyundai Tucson': 65,\n",
       " 'Iveco TRUCK': 66,\n",
       " 'Mercedes-Benz ML 430': 67,\n",
       " 'Volkswagen Golf': 68,\n",
       " 'Mack R-686ST': 69,\n",
       " 'Volkswagen T6 other': 70,\n",
       " 'Nissan Primera': 71,\n",
       " 'Mitsubishi Pajero': 72,\n",
       " 'Kia Stinger': 73,\n",
       " 'Lexus GS 300': 74,\n",
       " 'Mack CH613': 75,\n",
       " 'Hyundai Santa Fe': 76,\n",
       " 'Mercedes-Benz C 300': 77,\n",
       " 'Nissan Murano': 78,\n",
       " 'Chevrolet Evanda': 79,\n",
       " 'Honda CR-V': 80,\n",
       " 'Pontiac Vibe': 81,\n",
       " 'Toyota Yaris': 82,\n",
       " 'Infiniti FX': 83,\n",
       " 'DAF CF': 84,\n",
       " 'Land Rover Discovery': 85,\n",
       " 'Volvo XC60': 86,\n",
       " 'Toyota Sequoia': 87,\n",
       " 'Lexus ES 350': 88,\n",
       " 'Bentley Arnage': 89,\n",
       " 'Kia Rio': 90,\n",
       " 'Mercedes-Benz GL 450': 91,\n",
       " 'Volvo S80': 92,\n",
       " 'Ford F 150': 93,\n",
       " 'Mitsubishi CANTER PICK UP': 94,\n",
       " 'Scania TRACTOR HEAD': 95,\n",
       " 'Toyota Avalon': 96,\n",
       " 'Nissan X-Trail': 97,\n",
       " 'Peugeot 308': 98,\n",
       " 'Toyota DYNA 200': 99,\n",
       " 'Mazda 323': 100,\n",
       " 'Honda Civic': 101,\n",
       " 'Mercedes-Benz ATEGO': 102,\n",
       " 'Nissan Cabstar': 103,\n",
       " 'Iveco EUROCARGO 120e18': 104,\n",
       " 'Ford Escape': 105,\n",
       " 'Acura MDX': 106,\n",
       " 'Nissan INFINITI M90.150/2': 107,\n",
       " 'Man 26-403': 108,\n",
       " 'Lexus GX 460': 109,\n",
       " 'Ford Transit': 110,\n",
       " 'Mercedes-Benz/52': 111,\n",
       " 'Ford TRANSIT PICKUP': 112,\n",
       " 'Isuzu NQR': 113,\n",
       " 'Kia Sorento': 114,\n",
       " 'Mercedes-Benz E 550': 115,\n",
       " 'Mercedes-Benz 300': 116,\n",
       " 'Ford Edge': 117,\n",
       " 'Mercedes-Benz C 320': 118,\n",
       " 'Volkswagen Sharan': 119,\n",
       " 'Volvo FH12': 120,\n",
       " 'ALPINA B3': 121,\n",
       " 'Mazda 6': 122,\n",
       " 'Acura RDX': 123,\n",
       " 'Volkswagen Tiguan': 124,\n",
       " 'Nissan Xterra': 125,\n",
       " 'Acura TL': 126,\n",
       " 'Lexus ES 330': 127,\n",
       " 'Nissan Rogue': 128,\n",
       " 'MAN-VOLKSWAGEN FLATBED': 129,\n",
       " 'Isuzu CABSTER': 130,\n",
       " 'Infiniti JX': 131,\n",
       " 'MINI Cooper Coupé': 132,\n",
       " 'Mercedes-Benz E 300': 133,\n",
       " 'Honda Crosstour': 134,\n",
       " 'Lexus RX 350': 135,\n",
       " 'Toyota Land Cruiser': 136,\n",
       " 'Mercedes-Benz GLE 350': 137,\n",
       " 'Toyota Matrix': 138,\n",
       " 'DAF XF TRACTOR HEAD': 139,\n",
       " 'Mazda CX-9': 140,\n",
       " 'GMC Terrain': 141,\n",
       " 'Kia Soul': 142,\n",
       " 'Toyota Tundra': 143,\n",
       " 'Mercedes-Benz ML 320': 144,\n",
       " 'Nissan Altima': 145,\n",
       " 'Mercedes-Benz C 250': 146,\n",
       " 'Honda Element': 147,\n",
       " 'Mercedes-Benz GLC 300': 148,\n",
       " 'Lexus RX 400': 149,\n",
       " 'Volkswagen LT': 150,\n",
       " 'Mercedes-Benz S 550': 151,\n",
       " 'Lexus GX 470': 152,\n",
       " 'Mercedes-Benz GLA 180': 153,\n",
       " 'Volkswagen Passat': 154,\n",
       " 'Ford Mustang': 155,\n",
       " 'BMW 745': 156,\n",
       " 'Lexus RX 330': 157,\n",
       " 'Toyota Hiace': 158,\n",
       " 'Mercedes-Benz E 200': 159,\n",
       " 'Mercedes-Benz C 450 AMG': 160,\n",
       " 'Land Rover Range Rover Evoque': 161,\n",
       " 'Mercedes-Benz 814': 162,\n",
       " 'Volkswagen T4 Caravelle': 163,\n",
       " 'Mercedes-Benz 450': 164,\n",
       " 'IVECO EUROTECH 7.50E-16': 165,\n",
       " 'Toyota Prado': 166,\n",
       " 'BMW 730': 167,\n",
       " 'Mercedes-Benz 709 DB': 168,\n",
       " 'Land Rover Range Rover': 169,\n",
       " 'Toyota RAV 4': 170,\n",
       " 'Volvo FL6': 171,\n",
       " 'Peugeot 307': 172,\n",
       " 'Lincoln Mark': 173,\n",
       " 'Toyota Coaster': 174,\n",
       " 'Man BOCKMANN': 175,\n",
       " 'Chevrolet Camaro': 176,\n",
       " 'Hyundai Azera': 177,\n",
       " 'Lexus LX 570': 178,\n",
       " 'Mercedes-Benz G 550': 179,\n",
       " 'Mercedes-Benz WATER TANKER': 180,\n",
       " 'Mercedes-Benz CLA 250': 181,\n",
       " 'Ford Focus': 182,\n",
       " 'Porsche Panamera': 183,\n",
       " 'Lexus RX 300': 184,\n",
       " 'Mercedes-Benz S 450': 185,\n",
       " 'Mercedes-Benz GLE 450': 186,\n",
       " 'Volvo FL12': 187,\n",
       " 'BMW 740': 188,\n",
       " 'Mercedes-Benz Maybach': 189,\n",
       " 'Toyota 4-Runner': 190,\n",
       " 'Jeep Cherokee': 191,\n",
       " 'Toyota Camry': 192,\n",
       " 'Ford Explorer': 193,\n",
       " 'Mitsubishi L200': 194,\n",
       " 'Nissan Pathfinder': 195,\n",
       " 'Mercedes-Benz GLK 350': 196,\n",
       " 'Lexus LS 460': 197,\n",
       " 'Mercedes-Benz G 63 AMG': 198,\n",
       " 'Toyota Hilux': 199,\n",
       " 'Mercedes-Benz GLA 250': 200,\n",
       " 'DAF FA 55. 180': 201,\n",
       " 'Honda Fit': 202,\n",
       " 'Man LE 8. 180 PLATFORM TRUCK': 203,\n",
       " 'Honda Accord': 204,\n",
       " 'Mack CH613 CONVENTIONAL CAB': 205,\n",
       " 'Ford Mondeo': 206,\n",
       " 'Jeep Wrangler': 207,\n",
       " 'Toyota Highlander': 208,\n",
       " 'Mercedes-Benz 200': 209,\n",
       " 'Mack CXN613': 210,\n",
       " 'Jaguar X-Type': 211,\n",
       " 'Lexus GS 350': 212,\n",
       " 'Scania P94 FLATBED': 213,\n",
       " 'Toyota Dyna': 214,\n",
       " 'Rolls-Royce Ghost': 215,\n",
       " 'Man Truck 18.44': 216,\n",
       " 'Porsche Cayenne': 217,\n",
       " 'Volvo FL7': 218,\n",
       " 'Mitsubishi Eclipse': 219,\n",
       " 'MINI Cooper Countryman': 220,\n",
       " 'Lexus IS 250': 221,\n",
       " 'Mitsubishi Montero': 222,\n",
       " 'Chevrolet Traverse': 223,\n",
       " 'Volkswagen Jetta': 224,\n",
       " 'Infiniti M35': 225,\n",
       " 'Volkswagen Touareg': 226,\n",
       " 'Honda Odyssey': 227,\n",
       " 'Acura ZDX': 228,\n",
       " 'Mitsubishi Galant': 229,\n",
       " 'Nissan Quest': 230,\n",
       " 'BMW 525': 231,\n",
       " 'Toyota C-HR': 232,\n",
       " 'Honda Pilot': 233,\n",
       " 'Nissan Versa': 234,\n",
       " 'Mercedes-Benz C 63 AMG': 235,\n",
       " 'Mercedes-Benz 320': 236,\n",
       " 'Mercedes-Benz CABIN PLUS CHASSIS ONLY': 237,\n",
       " 'BMW 535': 238,\n",
       " 'Mercedes-Benz 350': 239}"
      ]
     },
     "execution_count": 58,
     "metadata": {},
     "output_type": "execute_result"
    }
   ],
   "source": [
    "car_title_label = {car_title : label for label, car_title in enumerate(car_title)}\n",
    "car_title_label"
   ]
  },
  {
   "cell_type": "code",
   "execution_count": 59,
   "id": "0e473afc",
   "metadata": {},
   "outputs": [],
   "source": [
    "train['title'] = train['title'].replace(car_title_label)\n",
    "test['title'] = test['title'].replace(car_title_label)"
   ]
  },
  {
   "cell_type": "code",
   "execution_count": 60,
   "id": "996ac784",
   "metadata": {},
   "outputs": [
    {
     "data": {
      "text/html": [
       "<div>\n",
       "<style scoped>\n",
       "    .dataframe tbody tr th:only-of-type {\n",
       "        vertical-align: middle;\n",
       "    }\n",
       "\n",
       "    .dataframe tbody tr th {\n",
       "        vertical-align: top;\n",
       "    }\n",
       "\n",
       "    .dataframe thead th {\n",
       "        text-align: right;\n",
       "    }\n",
       "</style>\n",
       "<table border=\"1\" class=\"dataframe\">\n",
       "  <thead>\n",
       "    <tr style=\"text-align: right;\">\n",
       "      <th></th>\n",
       "      <th>id</th>\n",
       "      <th>title</th>\n",
       "      <th>odometer</th>\n",
       "      <th>location</th>\n",
       "      <th>isimported</th>\n",
       "      <th>engine</th>\n",
       "      <th>transmission</th>\n",
       "      <th>fuel</th>\n",
       "      <th>paint</th>\n",
       "      <th>year</th>\n",
       "      <th>target</th>\n",
       "      <th>brand</th>\n",
       "    </tr>\n",
       "  </thead>\n",
       "  <tbody>\n",
       "    <tr>\n",
       "      <th>0</th>\n",
       "      <td>0</td>\n",
       "      <td>170</td>\n",
       "      <td>18277</td>\n",
       "      <td>Lagos</td>\n",
       "      <td>Foreign Used</td>\n",
       "      <td>4-cylinder(I4)</td>\n",
       "      <td>automatic</td>\n",
       "      <td>petrol</td>\n",
       "      <td>red</td>\n",
       "      <td>2016</td>\n",
       "      <td>13665000</td>\n",
       "      <td>24</td>\n",
       "    </tr>\n",
       "    <tr>\n",
       "      <th>1</th>\n",
       "      <td>1</td>\n",
       "      <td>136</td>\n",
       "      <td>10</td>\n",
       "      <td>Lagos</td>\n",
       "      <td>New</td>\n",
       "      <td>4-cylinder(I4)</td>\n",
       "      <td>automatic</td>\n",
       "      <td>petrol</td>\n",
       "      <td>black</td>\n",
       "      <td>2019</td>\n",
       "      <td>33015000</td>\n",
       "      <td>24</td>\n",
       "    </tr>\n",
       "    <tr>\n",
       "      <th>2</th>\n",
       "      <td>2</td>\n",
       "      <td>161</td>\n",
       "      <td>83091</td>\n",
       "      <td>Lagos</td>\n",
       "      <td>Foreign Used</td>\n",
       "      <td>6-cylinder(V6)</td>\n",
       "      <td>automatic</td>\n",
       "      <td>petrol</td>\n",
       "      <td>red</td>\n",
       "      <td>2012</td>\n",
       "      <td>9915000</td>\n",
       "      <td>0</td>\n",
       "    </tr>\n",
       "    <tr>\n",
       "      <th>3</th>\n",
       "      <td>3</td>\n",
       "      <td>88</td>\n",
       "      <td>91524</td>\n",
       "      <td>Lagos</td>\n",
       "      <td>Foreign Used</td>\n",
       "      <td>4-cylinder(I4)</td>\n",
       "      <td>automatic</td>\n",
       "      <td>petrol</td>\n",
       "      <td>grey</td>\n",
       "      <td>2007</td>\n",
       "      <td>3815000</td>\n",
       "      <td>30</td>\n",
       "    </tr>\n",
       "    <tr>\n",
       "      <th>4</th>\n",
       "      <td>4</td>\n",
       "      <td>46</td>\n",
       "      <td>94177</td>\n",
       "      <td>Lagos</td>\n",
       "      <td>Foreign Used</td>\n",
       "      <td>6-cylinder(V6)</td>\n",
       "      <td>automatic</td>\n",
       "      <td>petrol</td>\n",
       "      <td>red</td>\n",
       "      <td>2010</td>\n",
       "      <td>7385000</td>\n",
       "      <td>24</td>\n",
       "    </tr>\n",
       "  </tbody>\n",
       "</table>\n",
       "</div>"
      ],
      "text/plain": [
       "   id  title  odometer location    isimported          engine transmission  \\\n",
       "0   0    170     18277    Lagos  Foreign Used  4-cylinder(I4)    automatic   \n",
       "1   1    136        10    Lagos          New   4-cylinder(I4)    automatic   \n",
       "2   2    161     83091    Lagos  Foreign Used  6-cylinder(V6)    automatic   \n",
       "3   3     88     91524    Lagos  Foreign Used  4-cylinder(I4)    automatic   \n",
       "4   4     46     94177    Lagos  Foreign Used  6-cylinder(V6)    automatic   \n",
       "\n",
       "     fuel  paint  year    target  brand  \n",
       "0  petrol    red  2016  13665000     24  \n",
       "1  petrol  black  2019  33015000     24  \n",
       "2  petrol    red  2012   9915000      0  \n",
       "3  petrol   grey  2007   3815000     30  \n",
       "4  petrol    red  2010   7385000     24  "
      ]
     },
     "execution_count": 60,
     "metadata": {},
     "output_type": "execute_result"
    }
   ],
   "source": [
    "train.head(5)"
   ]
  },
  {
   "cell_type": "code",
   "execution_count": 61,
   "id": "01ac0358",
   "metadata": {},
   "outputs": [
    {
     "data": {
      "text/html": [
       "<div>\n",
       "<style scoped>\n",
       "    .dataframe tbody tr th:only-of-type {\n",
       "        vertical-align: middle;\n",
       "    }\n",
       "\n",
       "    .dataframe tbody tr th {\n",
       "        vertical-align: top;\n",
       "    }\n",
       "\n",
       "    .dataframe thead th {\n",
       "        text-align: right;\n",
       "    }\n",
       "</style>\n",
       "<table border=\"1\" class=\"dataframe\">\n",
       "  <thead>\n",
       "    <tr style=\"text-align: right;\">\n",
       "      <th></th>\n",
       "      <th>id</th>\n",
       "      <th>title</th>\n",
       "      <th>odometer</th>\n",
       "      <th>location</th>\n",
       "      <th>isimported</th>\n",
       "      <th>engine</th>\n",
       "      <th>transmission</th>\n",
       "      <th>fuel</th>\n",
       "      <th>paint</th>\n",
       "      <th>year</th>\n",
       "      <th>brand</th>\n",
       "    </tr>\n",
       "  </thead>\n",
       "  <tbody>\n",
       "    <tr>\n",
       "      <th>0</th>\n",
       "      <td>0</td>\n",
       "      <td>77</td>\n",
       "      <td>1234</td>\n",
       "      <td>Abuja</td>\n",
       "      <td>New</td>\n",
       "      <td>4-cylinder(I4)</td>\n",
       "      <td>automatic</td>\n",
       "      <td>petrol</td>\n",
       "      <td>white</td>\n",
       "      <td>2017</td>\n",
       "      <td>29</td>\n",
       "    </tr>\n",
       "  </tbody>\n",
       "</table>\n",
       "</div>"
      ],
      "text/plain": [
       "   id  title  odometer location isimported          engine transmission  \\\n",
       "0   0     77      1234    Abuja       New   4-cylinder(I4)    automatic   \n",
       "\n",
       "     fuel  paint  year  brand  \n",
       "0  petrol  white  2017     29  "
      ]
     },
     "execution_count": 61,
     "metadata": {},
     "output_type": "execute_result"
    }
   ],
   "source": [
    "test.head(1)"
   ]
  },
  {
   "cell_type": "code",
   "execution_count": 62,
   "id": "a7aab26c",
   "metadata": {},
   "outputs": [
    {
     "data": {
      "text/plain": [
       "array(['Lagos', 'Abuja', 'Ogun', 'FCT', 'Accra', 'other', 'Abia',\n",
       "       'Adamawa'], dtype=object)"
      ]
     },
     "execution_count": 62,
     "metadata": {},
     "output_type": "execute_result"
    }
   ],
   "source": [
    "train.location.unique()"
   ]
  },
  {
   "cell_type": "code",
   "execution_count": 63,
   "id": "cf077d2f",
   "metadata": {},
   "outputs": [
    {
     "data": {
      "text/plain": [
       "array(['Abuja', 'Lagos', 'Ogun', 'Mushin', 'other', 'Abia'], dtype=object)"
      ]
     },
     "execution_count": 63,
     "metadata": {},
     "output_type": "execute_result"
    }
   ],
   "source": [
    "test.location.unique()"
   ]
  },
  {
   "cell_type": "code",
   "execution_count": 64,
   "id": "fa23569e",
   "metadata": {},
   "outputs": [],
   "source": [
    "# Mushin은 Loagos와 연관있는 곳\n",
    "test['location'] = test['location'].str.replace('Mushin', 'Lagos') "
   ]
  },
  {
   "cell_type": "code",
   "execution_count": 65,
   "id": "4dfa2dcc",
   "metadata": {},
   "outputs": [
    {
     "data": {
      "text/plain": [
       "array(['Abuja', 'Lagos', 'Ogun', 'other', 'Abia'], dtype=object)"
      ]
     },
     "execution_count": 65,
     "metadata": {},
     "output_type": "execute_result"
    }
   ],
   "source": [
    "test.location.unique()"
   ]
  },
  {
   "cell_type": "code",
   "execution_count": 66,
   "id": "f34ab629",
   "metadata": {},
   "outputs": [
    {
     "name": "stdout",
     "output_type": "stream",
     "text": [
      "{'Ogun', 'Abuja', 'Accra', 'other', 'Lagos', 'Abia', 'Adamawa', 'FCT'}\n"
     ]
    }
   ],
   "source": [
    "location_label = set(train.location) | set(test.location) # 합집합\n",
    "print(location_label)"
   ]
  },
  {
   "cell_type": "code",
   "execution_count": 89,
   "id": "fb04ccf4",
   "metadata": {},
   "outputs": [],
   "source": [
    "train['location'] = train['location'].replace(location_label)\n",
    "test['location'] = test['location'].replace(location_label)\n",
    "\n",
    "location_label = {_location : label for label, _location in enumerate(set(pd.concat([train.location, test.location])))}"
   ]
  },
  {
   "cell_type": "code",
   "execution_count": 90,
   "id": "d1498d27",
   "metadata": {},
   "outputs": [
    {
     "data": {
      "text/plain": [
       "{'Ogun': 0,\n",
       " 'Abuja': 1,\n",
       " 'Accra': 2,\n",
       " 'other': 3,\n",
       " 'Lagos': 4,\n",
       " 'Abia': 5,\n",
       " 'Adamawa': 6,\n",
       " 'FCT': 7}"
      ]
     },
     "execution_count": 90,
     "metadata": {},
     "output_type": "execute_result"
    }
   ],
   "source": [
    "location_label"
   ]
  },
  {
   "cell_type": "code",
   "execution_count": 68,
   "id": "d7ec3eb1",
   "metadata": {},
   "outputs": [
    {
     "name": "stdout",
     "output_type": "stream",
     "text": [
      "18\n"
     ]
    },
    {
     "data": {
      "text/plain": [
       "16"
      ]
     },
     "execution_count": 68,
     "metadata": {},
     "output_type": "execute_result"
    }
   ],
   "source": [
    "print(len(train['paint'].unique()))\n",
    "len(test['paint'].unique())"
   ]
  },
  {
   "cell_type": "code",
   "execution_count": 69,
   "id": "510f2fbb",
   "metadata": {},
   "outputs": [],
   "source": [
    "paint_label = {_paint : label for label, _paint in enumerate(set(pd.concat([train.paint, test.paint])))}"
   ]
  },
  {
   "cell_type": "code",
   "execution_count": 70,
   "id": "c41355b8",
   "metadata": {},
   "outputs": [
    {
     "data": {
      "text/plain": [
       "{'purple': 0,\n",
       " 'silver': 1,\n",
       " 'indigo ink pearl': 2,\n",
       " 'grey': 3,\n",
       " 'orange': 4,\n",
       " 'white': 5,\n",
       " 'green': 6,\n",
       " 'wine': 7,\n",
       " 'milk': 8,\n",
       " 'ash': 9,\n",
       " 'gold': 10,\n",
       " 'brown': 11,\n",
       " 'red': 12,\n",
       " 'blue': 13,\n",
       " 'maroon': 14,\n",
       " 'yellow': 15,\n",
       " 'beige': 16,\n",
       " 'cream': 17,\n",
       " 'black': 18}"
      ]
     },
     "execution_count": 70,
     "metadata": {},
     "output_type": "execute_result"
    }
   ],
   "source": [
    "paint_label"
   ]
  },
  {
   "cell_type": "code",
   "execution_count": 71,
   "id": "6a9a0080",
   "metadata": {},
   "outputs": [],
   "source": [
    "train['paint'] = train['paint'].replace(paint_label)\n",
    "test['paint'] = test['paint'].replace(paint_label)"
   ]
  },
  {
   "cell_type": "code",
   "execution_count": 72,
   "id": "2f474037",
   "metadata": {},
   "outputs": [
    {
     "data": {
      "text/plain": [
       "{'12-cylinder(V12)', '4-cylinder(H4)'}"
      ]
     },
     "execution_count": 72,
     "metadata": {},
     "output_type": "execute_result"
    }
   ],
   "source": [
    "set(set(train.engine.unique()) | set(test.engine.unique())) - set(set(train.engine.unique()) & set(test.engine.unique()))"
   ]
  },
  {
   "cell_type": "code",
   "execution_count": 73,
   "id": "c7cd6724",
   "metadata": {},
   "outputs": [
    {
     "data": {
      "text/html": [
       "<div>\n",
       "<style scoped>\n",
       "    .dataframe tbody tr th:only-of-type {\n",
       "        vertical-align: middle;\n",
       "    }\n",
       "\n",
       "    .dataframe tbody tr th {\n",
       "        vertical-align: top;\n",
       "    }\n",
       "\n",
       "    .dataframe thead th {\n",
       "        text-align: right;\n",
       "    }\n",
       "</style>\n",
       "<table border=\"1\" class=\"dataframe\">\n",
       "  <thead>\n",
       "    <tr style=\"text-align: right;\">\n",
       "      <th></th>\n",
       "      <th>id</th>\n",
       "      <th>title</th>\n",
       "      <th>odometer</th>\n",
       "      <th>location</th>\n",
       "      <th>isimported</th>\n",
       "      <th>engine</th>\n",
       "      <th>transmission</th>\n",
       "      <th>fuel</th>\n",
       "      <th>paint</th>\n",
       "      <th>year</th>\n",
       "      <th>target</th>\n",
       "      <th>brand</th>\n",
       "    </tr>\n",
       "  </thead>\n",
       "  <tbody>\n",
       "    <tr>\n",
       "      <th>327</th>\n",
       "      <td>327</td>\n",
       "      <td>192</td>\n",
       "      <td>3656</td>\n",
       "      <td>Abuja</td>\n",
       "      <td>Foreign Used</td>\n",
       "      <td>4-cylinder(H4)</td>\n",
       "      <td>automatic</td>\n",
       "      <td>petrol</td>\n",
       "      <td>1</td>\n",
       "      <td>2020</td>\n",
       "      <td>20015000</td>\n",
       "      <td>24</td>\n",
       "    </tr>\n",
       "    <tr>\n",
       "      <th>830</th>\n",
       "      <td>830</td>\n",
       "      <td>204</td>\n",
       "      <td>152229</td>\n",
       "      <td>Lagos</td>\n",
       "      <td>Foreign Used</td>\n",
       "      <td>4-cylinder(H4)</td>\n",
       "      <td>automatic</td>\n",
       "      <td>petrol</td>\n",
       "      <td>3</td>\n",
       "      <td>2007</td>\n",
       "      <td>2765000</td>\n",
       "      <td>3</td>\n",
       "    </tr>\n",
       "  </tbody>\n",
       "</table>\n",
       "</div>"
      ],
      "text/plain": [
       "      id  title  odometer location    isimported          engine transmission  \\\n",
       "327  327    192      3656    Abuja  Foreign Used  4-cylinder(H4)    automatic   \n",
       "830  830    204    152229    Lagos  Foreign Used  4-cylinder(H4)    automatic   \n",
       "\n",
       "       fuel  paint  year    target  brand  \n",
       "327  petrol      1  2020  20015000     24  \n",
       "830  petrol      3  2007   2765000      3  "
      ]
     },
     "execution_count": 73,
     "metadata": {},
     "output_type": "execute_result"
    }
   ],
   "source": [
    "train[train.engine == '4-cylinder(H4)']"
   ]
  },
  {
   "cell_type": "code",
   "execution_count": 74,
   "id": "16d7d3ea",
   "metadata": {},
   "outputs": [],
   "source": [
    "train = train.replace({'4-cylinder(H4)' : '4-cylinder(I4)'})"
   ]
  },
  {
   "cell_type": "code",
   "execution_count": 75,
   "id": "4f07b6c4",
   "metadata": {},
   "outputs": [
    {
     "data": {
      "text/html": [
       "<div>\n",
       "<style scoped>\n",
       "    .dataframe tbody tr th:only-of-type {\n",
       "        vertical-align: middle;\n",
       "    }\n",
       "\n",
       "    .dataframe tbody tr th {\n",
       "        vertical-align: top;\n",
       "    }\n",
       "\n",
       "    .dataframe thead th {\n",
       "        text-align: right;\n",
       "    }\n",
       "</style>\n",
       "<table border=\"1\" class=\"dataframe\">\n",
       "  <thead>\n",
       "    <tr style=\"text-align: right;\">\n",
       "      <th></th>\n",
       "      <th>id</th>\n",
       "      <th>title</th>\n",
       "      <th>odometer</th>\n",
       "      <th>location</th>\n",
       "      <th>isimported</th>\n",
       "      <th>engine</th>\n",
       "      <th>transmission</th>\n",
       "      <th>fuel</th>\n",
       "      <th>paint</th>\n",
       "      <th>year</th>\n",
       "      <th>brand</th>\n",
       "    </tr>\n",
       "  </thead>\n",
       "  <tbody>\n",
       "    <tr>\n",
       "      <th>142</th>\n",
       "      <td>142</td>\n",
       "      <td>189</td>\n",
       "      <td>6758</td>\n",
       "      <td>Lagos</td>\n",
       "      <td>New</td>\n",
       "      <td>12-cylinder(V12)</td>\n",
       "      <td>automatic</td>\n",
       "      <td>petrol</td>\n",
       "      <td>18</td>\n",
       "      <td>2019</td>\n",
       "      <td>29</td>\n",
       "    </tr>\n",
       "  </tbody>\n",
       "</table>\n",
       "</div>"
      ],
      "text/plain": [
       "      id  title  odometer location isimported            engine transmission  \\\n",
       "142  142    189      6758    Lagos       New   12-cylinder(V12)    automatic   \n",
       "\n",
       "       fuel  paint  year  brand  \n",
       "142  petrol     18  2019     29  "
      ]
     },
     "execution_count": 75,
     "metadata": {},
     "output_type": "execute_result"
    }
   ],
   "source": [
    "test[test.engine == '12-cylinder(V12)']"
   ]
  },
  {
   "cell_type": "code",
   "execution_count": 76,
   "id": "5496d9d5",
   "metadata": {},
   "outputs": [],
   "source": [
    "test = test.replace({'12-cylinder(V12)' : '8-cylinder(V8)'})"
   ]
  },
  {
   "cell_type": "code",
   "execution_count": 77,
   "id": "5642aff0",
   "metadata": {},
   "outputs": [
    {
     "data": {
      "text/html": [
       "<div>\n",
       "<style scoped>\n",
       "    .dataframe tbody tr th:only-of-type {\n",
       "        vertical-align: middle;\n",
       "    }\n",
       "\n",
       "    .dataframe tbody tr th {\n",
       "        vertical-align: top;\n",
       "    }\n",
       "\n",
       "    .dataframe thead th {\n",
       "        text-align: right;\n",
       "    }\n",
       "</style>\n",
       "<table border=\"1\" class=\"dataframe\">\n",
       "  <thead>\n",
       "    <tr style=\"text-align: right;\">\n",
       "      <th></th>\n",
       "      <th>id</th>\n",
       "      <th>title</th>\n",
       "      <th>odometer</th>\n",
       "      <th>location</th>\n",
       "      <th>isimported</th>\n",
       "      <th>engine</th>\n",
       "      <th>transmission</th>\n",
       "      <th>fuel</th>\n",
       "      <th>paint</th>\n",
       "      <th>year</th>\n",
       "      <th>brand</th>\n",
       "    </tr>\n",
       "  </thead>\n",
       "  <tbody>\n",
       "    <tr>\n",
       "      <th>142</th>\n",
       "      <td>142</td>\n",
       "      <td>189</td>\n",
       "      <td>6758</td>\n",
       "      <td>Lagos</td>\n",
       "      <td>New</td>\n",
       "      <td>8-cylinder(V8)</td>\n",
       "      <td>automatic</td>\n",
       "      <td>petrol</td>\n",
       "      <td>18</td>\n",
       "      <td>2019</td>\n",
       "      <td>29</td>\n",
       "    </tr>\n",
       "  </tbody>\n",
       "</table>\n",
       "</div>"
      ],
      "text/plain": [
       "      id  title  odometer location isimported          engine transmission  \\\n",
       "142  142    189      6758    Lagos       New   8-cylinder(V8)    automatic   \n",
       "\n",
       "       fuel  paint  year  brand  \n",
       "142  petrol     18  2019     29  "
      ]
     },
     "execution_count": 77,
     "metadata": {},
     "output_type": "execute_result"
    }
   ],
   "source": [
    "test.iloc[[142]]"
   ]
  },
  {
   "cell_type": "code",
   "execution_count": 78,
   "id": "82ee3d8d",
   "metadata": {},
   "outputs": [
    {
     "data": {
      "text/plain": [
       "{'8-cylinder(V8)': 0,\n",
       " '6-cylinder(V6)': 1,\n",
       " '6-cylinder(I6)': 2,\n",
       " '4-cylinder(I4)': 3,\n",
       " '5-cylinder(I5)': 4,\n",
       " '3-cylinder(I3)': 5,\n",
       " '2-cylinder(I2)': 6}"
      ]
     },
     "execution_count": 78,
     "metadata": {},
     "output_type": "execute_result"
    }
   ],
   "source": [
    "engine_label = {_engine : label for label, _engine in enumerate(set(pd.concat([train.engine, test.engine])))}\n",
    "engine_label"
   ]
  },
  {
   "cell_type": "code",
   "execution_count": 79,
   "id": "85dc0615",
   "metadata": {},
   "outputs": [],
   "source": [
    "train = train.replace(engine_label)\n",
    "test = test.replace(engine_label)"
   ]
  },
  {
   "cell_type": "code",
   "execution_count": 80,
   "id": "608a6323",
   "metadata": {},
   "outputs": [],
   "source": [
    "train['year'] = train['year'].replace([1218, 1217], [2010, 2010])\n",
    "test['year'] = test['year'].replace([1324, 1726, 2626], [2010, 2010, 2020])"
   ]
  },
  {
   "cell_type": "code",
   "execution_count": 81,
   "id": "c333843d",
   "metadata": {},
   "outputs": [],
   "source": [
    "isimported_label = {'Foreign Used': 0, 'Locally used' : 1, 'New ' : 2}\n",
    "transmission_label = {'automatic' : 0, 'manual' : 1}\n",
    "fuel_label = {'petrol' : 0, 'diesel' : 1}"
   ]
  },
  {
   "cell_type": "code",
   "execution_count": 82,
   "id": "a6fc9a65",
   "metadata": {},
   "outputs": [],
   "source": [
    "train['isimported'] = train['isimported'].replace(isimported_label)\n",
    "test['isimported'] = test['isimported'].replace(isimported_label)\n",
    "\n",
    "train['transmission'] = train['transmission'].replace(transmission_label)\n",
    "test['transmission'] = test['transmission'].replace(transmission_label)\n",
    "\n",
    "train['fuel'] = train['fuel'].replace(fuel_label)\n",
    "test['fuel'] = test['fuel'].replace(fuel_label)"
   ]
  },
  {
   "cell_type": "markdown",
   "id": "0de5a8be",
   "metadata": {},
   "source": [
    "## 추가 컬럼"
   ]
  },
  {
   "cell_type": "code",
   "execution_count": null,
   "id": "a0341f90",
   "metadata": {},
   "outputs": [],
   "source": []
  },
  {
   "cell_type": "markdown",
   "id": "ad734f77",
   "metadata": {},
   "source": [
    "## 데이터 변환 최종 점검"
   ]
  },
  {
   "cell_type": "code",
   "execution_count": 83,
   "id": "858ce331",
   "metadata": {},
   "outputs": [
    {
     "data": {
      "text/html": [
       "<div>\n",
       "<style scoped>\n",
       "    .dataframe tbody tr th:only-of-type {\n",
       "        vertical-align: middle;\n",
       "    }\n",
       "\n",
       "    .dataframe tbody tr th {\n",
       "        vertical-align: top;\n",
       "    }\n",
       "\n",
       "    .dataframe thead th {\n",
       "        text-align: right;\n",
       "    }\n",
       "</style>\n",
       "<table border=\"1\" class=\"dataframe\">\n",
       "  <thead>\n",
       "    <tr style=\"text-align: right;\">\n",
       "      <th></th>\n",
       "      <th>id</th>\n",
       "      <th>title</th>\n",
       "      <th>odometer</th>\n",
       "      <th>location</th>\n",
       "      <th>isimported</th>\n",
       "      <th>engine</th>\n",
       "      <th>transmission</th>\n",
       "      <th>fuel</th>\n",
       "      <th>paint</th>\n",
       "      <th>year</th>\n",
       "      <th>target</th>\n",
       "      <th>brand</th>\n",
       "    </tr>\n",
       "  </thead>\n",
       "  <tbody>\n",
       "    <tr>\n",
       "      <th>0</th>\n",
       "      <td>0</td>\n",
       "      <td>170</td>\n",
       "      <td>18277</td>\n",
       "      <td>Lagos</td>\n",
       "      <td>0</td>\n",
       "      <td>3</td>\n",
       "      <td>0</td>\n",
       "      <td>0</td>\n",
       "      <td>12</td>\n",
       "      <td>2016</td>\n",
       "      <td>13665000</td>\n",
       "      <td>24</td>\n",
       "    </tr>\n",
       "    <tr>\n",
       "      <th>1</th>\n",
       "      <td>1</td>\n",
       "      <td>136</td>\n",
       "      <td>10</td>\n",
       "      <td>Lagos</td>\n",
       "      <td>2</td>\n",
       "      <td>3</td>\n",
       "      <td>0</td>\n",
       "      <td>0</td>\n",
       "      <td>18</td>\n",
       "      <td>2019</td>\n",
       "      <td>33015000</td>\n",
       "      <td>24</td>\n",
       "    </tr>\n",
       "    <tr>\n",
       "      <th>2</th>\n",
       "      <td>2</td>\n",
       "      <td>161</td>\n",
       "      <td>83091</td>\n",
       "      <td>Lagos</td>\n",
       "      <td>0</td>\n",
       "      <td>1</td>\n",
       "      <td>0</td>\n",
       "      <td>0</td>\n",
       "      <td>12</td>\n",
       "      <td>2012</td>\n",
       "      <td>9915000</td>\n",
       "      <td>0</td>\n",
       "    </tr>\n",
       "    <tr>\n",
       "      <th>3</th>\n",
       "      <td>3</td>\n",
       "      <td>88</td>\n",
       "      <td>91524</td>\n",
       "      <td>Lagos</td>\n",
       "      <td>0</td>\n",
       "      <td>3</td>\n",
       "      <td>0</td>\n",
       "      <td>0</td>\n",
       "      <td>3</td>\n",
       "      <td>2007</td>\n",
       "      <td>3815000</td>\n",
       "      <td>30</td>\n",
       "    </tr>\n",
       "    <tr>\n",
       "      <th>4</th>\n",
       "      <td>4</td>\n",
       "      <td>46</td>\n",
       "      <td>94177</td>\n",
       "      <td>Lagos</td>\n",
       "      <td>0</td>\n",
       "      <td>1</td>\n",
       "      <td>0</td>\n",
       "      <td>0</td>\n",
       "      <td>12</td>\n",
       "      <td>2010</td>\n",
       "      <td>7385000</td>\n",
       "      <td>24</td>\n",
       "    </tr>\n",
       "  </tbody>\n",
       "</table>\n",
       "</div>"
      ],
      "text/plain": [
       "   id  title  odometer location  isimported  engine  transmission  fuel  \\\n",
       "0   0    170     18277    Lagos           0       3             0     0   \n",
       "1   1    136        10    Lagos           2       3             0     0   \n",
       "2   2    161     83091    Lagos           0       1             0     0   \n",
       "3   3     88     91524    Lagos           0       3             0     0   \n",
       "4   4     46     94177    Lagos           0       1             0     0   \n",
       "\n",
       "   paint  year    target  brand  \n",
       "0     12  2016  13665000     24  \n",
       "1     18  2019  33015000     24  \n",
       "2     12  2012   9915000      0  \n",
       "3      3  2007   3815000     30  \n",
       "4     12  2010   7385000     24  "
      ]
     },
     "metadata": {},
     "output_type": "display_data"
    },
    {
     "name": "stdout",
     "output_type": "stream",
     "text": [
      "<class 'pandas.core.frame.DataFrame'>\n",
      "RangeIndex: 1015 entries, 0 to 1014\n",
      "Data columns (total 12 columns):\n",
      " #   Column        Non-Null Count  Dtype \n",
      "---  ------        --------------  ----- \n",
      " 0   id            1015 non-null   int64 \n",
      " 1   title         1015 non-null   int64 \n",
      " 2   odometer      1015 non-null   int64 \n",
      " 3   location      1015 non-null   object\n",
      " 4   isimported    1015 non-null   int64 \n",
      " 5   engine        1015 non-null   int64 \n",
      " 6   transmission  1015 non-null   int64 \n",
      " 7   fuel          1015 non-null   int64 \n",
      " 8   paint         1015 non-null   int64 \n",
      " 9   year          1015 non-null   int64 \n",
      " 10  target        1015 non-null   int64 \n",
      " 11  brand         1015 non-null   int64 \n",
      "dtypes: int64(11), object(1)\n",
      "memory usage: 95.3+ KB\n"
     ]
    }
   ],
   "source": [
    "# object가 나오면 안된다. 모두 정수형, float형이어야 한다.\n",
    "display(train.head())\n",
    "train.info()"
   ]
  },
  {
   "cell_type": "code",
   "execution_count": 84,
   "id": "f1738b9b",
   "metadata": {},
   "outputs": [
    {
     "data": {
      "text/html": [
       "<div>\n",
       "<style scoped>\n",
       "    .dataframe tbody tr th:only-of-type {\n",
       "        vertical-align: middle;\n",
       "    }\n",
       "\n",
       "    .dataframe tbody tr th {\n",
       "        vertical-align: top;\n",
       "    }\n",
       "\n",
       "    .dataframe thead th {\n",
       "        text-align: right;\n",
       "    }\n",
       "</style>\n",
       "<table border=\"1\" class=\"dataframe\">\n",
       "  <thead>\n",
       "    <tr style=\"text-align: right;\">\n",
       "      <th></th>\n",
       "      <th>id</th>\n",
       "      <th>title</th>\n",
       "      <th>odometer</th>\n",
       "      <th>location</th>\n",
       "      <th>isimported</th>\n",
       "      <th>engine</th>\n",
       "      <th>transmission</th>\n",
       "      <th>fuel</th>\n",
       "      <th>paint</th>\n",
       "      <th>year</th>\n",
       "      <th>brand</th>\n",
       "    </tr>\n",
       "  </thead>\n",
       "  <tbody>\n",
       "    <tr>\n",
       "      <th>0</th>\n",
       "      <td>0</td>\n",
       "      <td>77</td>\n",
       "      <td>1234</td>\n",
       "      <td>Abuja</td>\n",
       "      <td>2</td>\n",
       "      <td>3</td>\n",
       "      <td>0</td>\n",
       "      <td>0</td>\n",
       "      <td>5</td>\n",
       "      <td>2017</td>\n",
       "      <td>29</td>\n",
       "    </tr>\n",
       "    <tr>\n",
       "      <th>1</th>\n",
       "      <td>1</td>\n",
       "      <td>204</td>\n",
       "      <td>29938</td>\n",
       "      <td>Abuja</td>\n",
       "      <td>0</td>\n",
       "      <td>3</td>\n",
       "      <td>0</td>\n",
       "      <td>0</td>\n",
       "      <td>5</td>\n",
       "      <td>2013</td>\n",
       "      <td>3</td>\n",
       "    </tr>\n",
       "    <tr>\n",
       "      <th>2</th>\n",
       "      <td>2</td>\n",
       "      <td>151</td>\n",
       "      <td>87501</td>\n",
       "      <td>Lagos</td>\n",
       "      <td>0</td>\n",
       "      <td>3</td>\n",
       "      <td>0</td>\n",
       "      <td>0</td>\n",
       "      <td>18</td>\n",
       "      <td>2012</td>\n",
       "      <td>29</td>\n",
       "    </tr>\n",
       "    <tr>\n",
       "      <th>3</th>\n",
       "      <td>3</td>\n",
       "      <td>61</td>\n",
       "      <td>180894</td>\n",
       "      <td>Lagos</td>\n",
       "      <td>1</td>\n",
       "      <td>1</td>\n",
       "      <td>0</td>\n",
       "      <td>0</td>\n",
       "      <td>3</td>\n",
       "      <td>2001</td>\n",
       "      <td>24</td>\n",
       "    </tr>\n",
       "    <tr>\n",
       "      <th>4</th>\n",
       "      <td>4</td>\n",
       "      <td>158</td>\n",
       "      <td>104814</td>\n",
       "      <td>Lagos</td>\n",
       "      <td>0</td>\n",
       "      <td>3</td>\n",
       "      <td>0</td>\n",
       "      <td>0</td>\n",
       "      <td>5</td>\n",
       "      <td>2000</td>\n",
       "      <td>24</td>\n",
       "    </tr>\n",
       "  </tbody>\n",
       "</table>\n",
       "</div>"
      ],
      "text/plain": [
       "   id  title  odometer location  isimported  engine  transmission  fuel  \\\n",
       "0   0     77      1234    Abuja           2       3             0     0   \n",
       "1   1    204     29938    Abuja           0       3             0     0   \n",
       "2   2    151     87501    Lagos           0       3             0     0   \n",
       "3   3     61    180894    Lagos           1       1             0     0   \n",
       "4   4    158    104814    Lagos           0       3             0     0   \n",
       "\n",
       "   paint  year  brand  \n",
       "0      5  2017     29  \n",
       "1      5  2013      3  \n",
       "2     18  2012     29  \n",
       "3      3  2001     24  \n",
       "4      5  2000     24  "
      ]
     },
     "metadata": {},
     "output_type": "display_data"
    },
    {
     "name": "stdout",
     "output_type": "stream",
     "text": [
      "<class 'pandas.core.frame.DataFrame'>\n",
      "RangeIndex: 436 entries, 0 to 435\n",
      "Data columns (total 11 columns):\n",
      " #   Column        Non-Null Count  Dtype \n",
      "---  ------        --------------  ----- \n",
      " 0   id            436 non-null    int64 \n",
      " 1   title         436 non-null    int64 \n",
      " 2   odometer      436 non-null    int64 \n",
      " 3   location      436 non-null    object\n",
      " 4   isimported    436 non-null    int64 \n",
      " 5   engine        436 non-null    int64 \n",
      " 6   transmission  436 non-null    int64 \n",
      " 7   fuel          436 non-null    int64 \n",
      " 8   paint         436 non-null    int64 \n",
      " 9   year          436 non-null    int64 \n",
      " 10  brand         436 non-null    int64 \n",
      "dtypes: int64(10), object(1)\n",
      "memory usage: 37.6+ KB\n"
     ]
    }
   ],
   "source": [
    "display(test.head())\n",
    "test.info()"
   ]
  },
  {
   "cell_type": "code",
   "execution_count": null,
   "id": "dde5f9da",
   "metadata": {},
   "outputs": [],
   "source": []
  },
  {
   "cell_type": "code",
   "execution_count": 85,
   "id": "a528effb",
   "metadata": {},
   "outputs": [
    {
     "data": {
      "text/plain": [
       "1015"
      ]
     },
     "execution_count": 85,
     "metadata": {},
     "output_type": "execute_result"
    }
   ],
   "source": [
    "len(train)"
   ]
  },
  {
   "cell_type": "markdown",
   "id": "9806cf7a",
   "metadata": {},
   "source": [
    "## 모델 사용"
   ]
  },
  {
   "cell_type": "code",
   "execution_count": 86,
   "id": "2d1d1834",
   "metadata": {},
   "outputs": [],
   "source": [
    "from sklearn.linear_model import LinearRegression\n",
    "\n",
    "model = LinearRegression()"
   ]
  },
  {
   "cell_type": "code",
   "execution_count": 91,
   "id": "53609454",
   "metadata": {},
   "outputs": [],
   "source": [
    "\n",
    "train_X = train.drop(['id', 'target'], axis = 1)\n",
    "train_y = train.target\n",
    "\n",
    "test_X = test.drop(['id'], axis = 1)"
   ]
  },
  {
   "cell_type": "code",
   "execution_count": 92,
   "id": "149fb0a3",
   "metadata": {},
   "outputs": [
    {
     "ename": "ValueError",
     "evalue": "could not convert string to float: 'Lagos'",
     "output_type": "error",
     "traceback": [
      "\u001b[1;31m---------------------------------------------------------------------------\u001b[0m",
      "\u001b[1;31mValueError\u001b[0m                                Traceback (most recent call last)",
      "\u001b[1;32m~\\AppData\\Local\\Temp/ipykernel_6680/1723167297.py\u001b[0m in \u001b[0;36m<module>\u001b[1;34m\u001b[0m\n\u001b[1;32m----> 1\u001b[1;33m \u001b[0mmodel\u001b[0m\u001b[1;33m.\u001b[0m\u001b[0mfit\u001b[0m\u001b[1;33m(\u001b[0m\u001b[0mtrain_X\u001b[0m\u001b[1;33m,\u001b[0m \u001b[0mtrain_y\u001b[0m\u001b[1;33m)\u001b[0m\u001b[1;33m\u001b[0m\u001b[1;33m\u001b[0m\u001b[0m\n\u001b[0m",
      "\u001b[1;32m~\\anaconda3\\lib\\site-packages\\sklearn\\linear_model\\_base.py\u001b[0m in \u001b[0;36mfit\u001b[1;34m(self, X, y, sample_weight)\u001b[0m\n\u001b[0;32m    516\u001b[0m         \u001b[0maccept_sparse\u001b[0m \u001b[1;33m=\u001b[0m \u001b[1;32mFalse\u001b[0m \u001b[1;32mif\u001b[0m \u001b[0mself\u001b[0m\u001b[1;33m.\u001b[0m\u001b[0mpositive\u001b[0m \u001b[1;32melse\u001b[0m \u001b[1;33m[\u001b[0m\u001b[1;34m'csr'\u001b[0m\u001b[1;33m,\u001b[0m \u001b[1;34m'csc'\u001b[0m\u001b[1;33m,\u001b[0m \u001b[1;34m'coo'\u001b[0m\u001b[1;33m]\u001b[0m\u001b[1;33m\u001b[0m\u001b[1;33m\u001b[0m\u001b[0m\n\u001b[0;32m    517\u001b[0m \u001b[1;33m\u001b[0m\u001b[0m\n\u001b[1;32m--> 518\u001b[1;33m         X, y = self._validate_data(X, y, accept_sparse=accept_sparse,\n\u001b[0m\u001b[0;32m    519\u001b[0m                                    y_numeric=True, multi_output=True)\n\u001b[0;32m    520\u001b[0m \u001b[1;33m\u001b[0m\u001b[0m\n",
      "\u001b[1;32m~\\anaconda3\\lib\\site-packages\\sklearn\\base.py\u001b[0m in \u001b[0;36m_validate_data\u001b[1;34m(self, X, y, reset, validate_separately, **check_params)\u001b[0m\n\u001b[0;32m    431\u001b[0m                 \u001b[0my\u001b[0m \u001b[1;33m=\u001b[0m \u001b[0mcheck_array\u001b[0m\u001b[1;33m(\u001b[0m\u001b[0my\u001b[0m\u001b[1;33m,\u001b[0m \u001b[1;33m**\u001b[0m\u001b[0mcheck_y_params\u001b[0m\u001b[1;33m)\u001b[0m\u001b[1;33m\u001b[0m\u001b[1;33m\u001b[0m\u001b[0m\n\u001b[0;32m    432\u001b[0m             \u001b[1;32melse\u001b[0m\u001b[1;33m:\u001b[0m\u001b[1;33m\u001b[0m\u001b[1;33m\u001b[0m\u001b[0m\n\u001b[1;32m--> 433\u001b[1;33m                 \u001b[0mX\u001b[0m\u001b[1;33m,\u001b[0m \u001b[0my\u001b[0m \u001b[1;33m=\u001b[0m \u001b[0mcheck_X_y\u001b[0m\u001b[1;33m(\u001b[0m\u001b[0mX\u001b[0m\u001b[1;33m,\u001b[0m \u001b[0my\u001b[0m\u001b[1;33m,\u001b[0m \u001b[1;33m**\u001b[0m\u001b[0mcheck_params\u001b[0m\u001b[1;33m)\u001b[0m\u001b[1;33m\u001b[0m\u001b[1;33m\u001b[0m\u001b[0m\n\u001b[0m\u001b[0;32m    434\u001b[0m             \u001b[0mout\u001b[0m \u001b[1;33m=\u001b[0m \u001b[0mX\u001b[0m\u001b[1;33m,\u001b[0m \u001b[0my\u001b[0m\u001b[1;33m\u001b[0m\u001b[1;33m\u001b[0m\u001b[0m\n\u001b[0;32m    435\u001b[0m \u001b[1;33m\u001b[0m\u001b[0m\n",
      "\u001b[1;32m~\\anaconda3\\lib\\site-packages\\sklearn\\utils\\validation.py\u001b[0m in \u001b[0;36minner_f\u001b[1;34m(*args, **kwargs)\u001b[0m\n\u001b[0;32m     61\u001b[0m             \u001b[0mextra_args\u001b[0m \u001b[1;33m=\u001b[0m \u001b[0mlen\u001b[0m\u001b[1;33m(\u001b[0m\u001b[0margs\u001b[0m\u001b[1;33m)\u001b[0m \u001b[1;33m-\u001b[0m \u001b[0mlen\u001b[0m\u001b[1;33m(\u001b[0m\u001b[0mall_args\u001b[0m\u001b[1;33m)\u001b[0m\u001b[1;33m\u001b[0m\u001b[1;33m\u001b[0m\u001b[0m\n\u001b[0;32m     62\u001b[0m             \u001b[1;32mif\u001b[0m \u001b[0mextra_args\u001b[0m \u001b[1;33m<=\u001b[0m \u001b[1;36m0\u001b[0m\u001b[1;33m:\u001b[0m\u001b[1;33m\u001b[0m\u001b[1;33m\u001b[0m\u001b[0m\n\u001b[1;32m---> 63\u001b[1;33m                 \u001b[1;32mreturn\u001b[0m \u001b[0mf\u001b[0m\u001b[1;33m(\u001b[0m\u001b[1;33m*\u001b[0m\u001b[0margs\u001b[0m\u001b[1;33m,\u001b[0m \u001b[1;33m**\u001b[0m\u001b[0mkwargs\u001b[0m\u001b[1;33m)\u001b[0m\u001b[1;33m\u001b[0m\u001b[1;33m\u001b[0m\u001b[0m\n\u001b[0m\u001b[0;32m     64\u001b[0m \u001b[1;33m\u001b[0m\u001b[0m\n\u001b[0;32m     65\u001b[0m             \u001b[1;31m# extra_args > 0\u001b[0m\u001b[1;33m\u001b[0m\u001b[1;33m\u001b[0m\u001b[0m\n",
      "\u001b[1;32m~\\anaconda3\\lib\\site-packages\\sklearn\\utils\\validation.py\u001b[0m in \u001b[0;36mcheck_X_y\u001b[1;34m(X, y, accept_sparse, accept_large_sparse, dtype, order, copy, force_all_finite, ensure_2d, allow_nd, multi_output, ensure_min_samples, ensure_min_features, y_numeric, estimator)\u001b[0m\n\u001b[0;32m    869\u001b[0m         \u001b[1;32mraise\u001b[0m \u001b[0mValueError\u001b[0m\u001b[1;33m(\u001b[0m\u001b[1;34m\"y cannot be None\"\u001b[0m\u001b[1;33m)\u001b[0m\u001b[1;33m\u001b[0m\u001b[1;33m\u001b[0m\u001b[0m\n\u001b[0;32m    870\u001b[0m \u001b[1;33m\u001b[0m\u001b[0m\n\u001b[1;32m--> 871\u001b[1;33m     X = check_array(X, accept_sparse=accept_sparse,\n\u001b[0m\u001b[0;32m    872\u001b[0m                     \u001b[0maccept_large_sparse\u001b[0m\u001b[1;33m=\u001b[0m\u001b[0maccept_large_sparse\u001b[0m\u001b[1;33m,\u001b[0m\u001b[1;33m\u001b[0m\u001b[1;33m\u001b[0m\u001b[0m\n\u001b[0;32m    873\u001b[0m                     \u001b[0mdtype\u001b[0m\u001b[1;33m=\u001b[0m\u001b[0mdtype\u001b[0m\u001b[1;33m,\u001b[0m \u001b[0morder\u001b[0m\u001b[1;33m=\u001b[0m\u001b[0morder\u001b[0m\u001b[1;33m,\u001b[0m \u001b[0mcopy\u001b[0m\u001b[1;33m=\u001b[0m\u001b[0mcopy\u001b[0m\u001b[1;33m,\u001b[0m\u001b[1;33m\u001b[0m\u001b[1;33m\u001b[0m\u001b[0m\n",
      "\u001b[1;32m~\\anaconda3\\lib\\site-packages\\sklearn\\utils\\validation.py\u001b[0m in \u001b[0;36minner_f\u001b[1;34m(*args, **kwargs)\u001b[0m\n\u001b[0;32m     61\u001b[0m             \u001b[0mextra_args\u001b[0m \u001b[1;33m=\u001b[0m \u001b[0mlen\u001b[0m\u001b[1;33m(\u001b[0m\u001b[0margs\u001b[0m\u001b[1;33m)\u001b[0m \u001b[1;33m-\u001b[0m \u001b[0mlen\u001b[0m\u001b[1;33m(\u001b[0m\u001b[0mall_args\u001b[0m\u001b[1;33m)\u001b[0m\u001b[1;33m\u001b[0m\u001b[1;33m\u001b[0m\u001b[0m\n\u001b[0;32m     62\u001b[0m             \u001b[1;32mif\u001b[0m \u001b[0mextra_args\u001b[0m \u001b[1;33m<=\u001b[0m \u001b[1;36m0\u001b[0m\u001b[1;33m:\u001b[0m\u001b[1;33m\u001b[0m\u001b[1;33m\u001b[0m\u001b[0m\n\u001b[1;32m---> 63\u001b[1;33m                 \u001b[1;32mreturn\u001b[0m \u001b[0mf\u001b[0m\u001b[1;33m(\u001b[0m\u001b[1;33m*\u001b[0m\u001b[0margs\u001b[0m\u001b[1;33m,\u001b[0m \u001b[1;33m**\u001b[0m\u001b[0mkwargs\u001b[0m\u001b[1;33m)\u001b[0m\u001b[1;33m\u001b[0m\u001b[1;33m\u001b[0m\u001b[0m\n\u001b[0m\u001b[0;32m     64\u001b[0m \u001b[1;33m\u001b[0m\u001b[0m\n\u001b[0;32m     65\u001b[0m             \u001b[1;31m# extra_args > 0\u001b[0m\u001b[1;33m\u001b[0m\u001b[1;33m\u001b[0m\u001b[0m\n",
      "\u001b[1;32m~\\anaconda3\\lib\\site-packages\\sklearn\\utils\\validation.py\u001b[0m in \u001b[0;36mcheck_array\u001b[1;34m(array, accept_sparse, accept_large_sparse, dtype, order, copy, force_all_finite, ensure_2d, allow_nd, ensure_min_samples, ensure_min_features, estimator)\u001b[0m\n\u001b[0;32m    671\u001b[0m                     \u001b[0marray\u001b[0m \u001b[1;33m=\u001b[0m \u001b[0marray\u001b[0m\u001b[1;33m.\u001b[0m\u001b[0mastype\u001b[0m\u001b[1;33m(\u001b[0m\u001b[0mdtype\u001b[0m\u001b[1;33m,\u001b[0m \u001b[0mcasting\u001b[0m\u001b[1;33m=\u001b[0m\u001b[1;34m\"unsafe\"\u001b[0m\u001b[1;33m,\u001b[0m \u001b[0mcopy\u001b[0m\u001b[1;33m=\u001b[0m\u001b[1;32mFalse\u001b[0m\u001b[1;33m)\u001b[0m\u001b[1;33m\u001b[0m\u001b[1;33m\u001b[0m\u001b[0m\n\u001b[0;32m    672\u001b[0m                 \u001b[1;32melse\u001b[0m\u001b[1;33m:\u001b[0m\u001b[1;33m\u001b[0m\u001b[1;33m\u001b[0m\u001b[0m\n\u001b[1;32m--> 673\u001b[1;33m                     \u001b[0marray\u001b[0m \u001b[1;33m=\u001b[0m \u001b[0mnp\u001b[0m\u001b[1;33m.\u001b[0m\u001b[0masarray\u001b[0m\u001b[1;33m(\u001b[0m\u001b[0marray\u001b[0m\u001b[1;33m,\u001b[0m \u001b[0morder\u001b[0m\u001b[1;33m=\u001b[0m\u001b[0morder\u001b[0m\u001b[1;33m,\u001b[0m \u001b[0mdtype\u001b[0m\u001b[1;33m=\u001b[0m\u001b[0mdtype\u001b[0m\u001b[1;33m)\u001b[0m\u001b[1;33m\u001b[0m\u001b[1;33m\u001b[0m\u001b[0m\n\u001b[0m\u001b[0;32m    674\u001b[0m             \u001b[1;32mexcept\u001b[0m \u001b[0mComplexWarning\u001b[0m \u001b[1;32mas\u001b[0m \u001b[0mcomplex_warning\u001b[0m\u001b[1;33m:\u001b[0m\u001b[1;33m\u001b[0m\u001b[1;33m\u001b[0m\u001b[0m\n\u001b[0;32m    675\u001b[0m                 raise ValueError(\"Complex data not supported\\n\"\n",
      "\u001b[1;32m~\\anaconda3\\lib\\site-packages\\numpy\\core\\_asarray.py\u001b[0m in \u001b[0;36masarray\u001b[1;34m(a, dtype, order, like)\u001b[0m\n\u001b[0;32m    100\u001b[0m         \u001b[1;32mreturn\u001b[0m \u001b[0m_asarray_with_like\u001b[0m\u001b[1;33m(\u001b[0m\u001b[0ma\u001b[0m\u001b[1;33m,\u001b[0m \u001b[0mdtype\u001b[0m\u001b[1;33m=\u001b[0m\u001b[0mdtype\u001b[0m\u001b[1;33m,\u001b[0m \u001b[0morder\u001b[0m\u001b[1;33m=\u001b[0m\u001b[0morder\u001b[0m\u001b[1;33m,\u001b[0m \u001b[0mlike\u001b[0m\u001b[1;33m=\u001b[0m\u001b[0mlike\u001b[0m\u001b[1;33m)\u001b[0m\u001b[1;33m\u001b[0m\u001b[1;33m\u001b[0m\u001b[0m\n\u001b[0;32m    101\u001b[0m \u001b[1;33m\u001b[0m\u001b[0m\n\u001b[1;32m--> 102\u001b[1;33m     \u001b[1;32mreturn\u001b[0m \u001b[0marray\u001b[0m\u001b[1;33m(\u001b[0m\u001b[0ma\u001b[0m\u001b[1;33m,\u001b[0m \u001b[0mdtype\u001b[0m\u001b[1;33m,\u001b[0m \u001b[0mcopy\u001b[0m\u001b[1;33m=\u001b[0m\u001b[1;32mFalse\u001b[0m\u001b[1;33m,\u001b[0m \u001b[0morder\u001b[0m\u001b[1;33m=\u001b[0m\u001b[0morder\u001b[0m\u001b[1;33m)\u001b[0m\u001b[1;33m\u001b[0m\u001b[1;33m\u001b[0m\u001b[0m\n\u001b[0m\u001b[0;32m    103\u001b[0m \u001b[1;33m\u001b[0m\u001b[0m\n\u001b[0;32m    104\u001b[0m \u001b[1;33m\u001b[0m\u001b[0m\n",
      "\u001b[1;32m~\\anaconda3\\lib\\site-packages\\pandas\\core\\generic.py\u001b[0m in \u001b[0;36m__array__\u001b[1;34m(self, dtype)\u001b[0m\n\u001b[0;32m   1991\u001b[0m \u001b[1;33m\u001b[0m\u001b[0m\n\u001b[0;32m   1992\u001b[0m     \u001b[1;32mdef\u001b[0m \u001b[0m__array__\u001b[0m\u001b[1;33m(\u001b[0m\u001b[0mself\u001b[0m\u001b[1;33m,\u001b[0m \u001b[0mdtype\u001b[0m\u001b[1;33m:\u001b[0m \u001b[0mNpDtype\u001b[0m \u001b[1;33m|\u001b[0m \u001b[1;32mNone\u001b[0m \u001b[1;33m=\u001b[0m \u001b[1;32mNone\u001b[0m\u001b[1;33m)\u001b[0m \u001b[1;33m->\u001b[0m \u001b[0mnp\u001b[0m\u001b[1;33m.\u001b[0m\u001b[0mndarray\u001b[0m\u001b[1;33m:\u001b[0m\u001b[1;33m\u001b[0m\u001b[1;33m\u001b[0m\u001b[0m\n\u001b[1;32m-> 1993\u001b[1;33m         \u001b[1;32mreturn\u001b[0m \u001b[0mnp\u001b[0m\u001b[1;33m.\u001b[0m\u001b[0masarray\u001b[0m\u001b[1;33m(\u001b[0m\u001b[0mself\u001b[0m\u001b[1;33m.\u001b[0m\u001b[0m_values\u001b[0m\u001b[1;33m,\u001b[0m \u001b[0mdtype\u001b[0m\u001b[1;33m=\u001b[0m\u001b[0mdtype\u001b[0m\u001b[1;33m)\u001b[0m\u001b[1;33m\u001b[0m\u001b[1;33m\u001b[0m\u001b[0m\n\u001b[0m\u001b[0;32m   1994\u001b[0m \u001b[1;33m\u001b[0m\u001b[0m\n\u001b[0;32m   1995\u001b[0m     def __array_wrap__(\n",
      "\u001b[1;32m~\\anaconda3\\lib\\site-packages\\numpy\\core\\_asarray.py\u001b[0m in \u001b[0;36masarray\u001b[1;34m(a, dtype, order, like)\u001b[0m\n\u001b[0;32m    100\u001b[0m         \u001b[1;32mreturn\u001b[0m \u001b[0m_asarray_with_like\u001b[0m\u001b[1;33m(\u001b[0m\u001b[0ma\u001b[0m\u001b[1;33m,\u001b[0m \u001b[0mdtype\u001b[0m\u001b[1;33m=\u001b[0m\u001b[0mdtype\u001b[0m\u001b[1;33m,\u001b[0m \u001b[0morder\u001b[0m\u001b[1;33m=\u001b[0m\u001b[0morder\u001b[0m\u001b[1;33m,\u001b[0m \u001b[0mlike\u001b[0m\u001b[1;33m=\u001b[0m\u001b[0mlike\u001b[0m\u001b[1;33m)\u001b[0m\u001b[1;33m\u001b[0m\u001b[1;33m\u001b[0m\u001b[0m\n\u001b[0;32m    101\u001b[0m \u001b[1;33m\u001b[0m\u001b[0m\n\u001b[1;32m--> 102\u001b[1;33m     \u001b[1;32mreturn\u001b[0m \u001b[0marray\u001b[0m\u001b[1;33m(\u001b[0m\u001b[0ma\u001b[0m\u001b[1;33m,\u001b[0m \u001b[0mdtype\u001b[0m\u001b[1;33m,\u001b[0m \u001b[0mcopy\u001b[0m\u001b[1;33m=\u001b[0m\u001b[1;32mFalse\u001b[0m\u001b[1;33m,\u001b[0m \u001b[0morder\u001b[0m\u001b[1;33m=\u001b[0m\u001b[0morder\u001b[0m\u001b[1;33m)\u001b[0m\u001b[1;33m\u001b[0m\u001b[1;33m\u001b[0m\u001b[0m\n\u001b[0m\u001b[0;32m    103\u001b[0m \u001b[1;33m\u001b[0m\u001b[0m\n\u001b[0;32m    104\u001b[0m \u001b[1;33m\u001b[0m\u001b[0m\n",
      "\u001b[1;31mValueError\u001b[0m: could not convert string to float: 'Lagos'"
     ]
    }
   ],
   "source": [
    "model.fit(train_X, train_y)"
   ]
  },
  {
   "cell_type": "code",
   "execution_count": null,
   "id": "1a80cca5",
   "metadata": {},
   "outputs": [],
   "source": [
    "pred = model.predict(test_X)"
   ]
  },
  {
   "cell_type": "code",
   "execution_count": null,
   "id": "598e4451",
   "metadata": {},
   "outputs": [],
   "source": [
    "\n",
    "submission = sample_submission.copy()\n",
    "submission.target = pred\n",
    "submission"
   ]
  },
  {
   "cell_type": "code",
   "execution_count": null,
   "id": "cfb91c51",
   "metadata": {},
   "outputs": [],
   "source": [
    "submission.to_csv('./resalecar/submission.csv', index = False)"
   ]
  },
  {
   "cell_type": "code",
   "execution_count": null,
   "id": "6a34954e",
   "metadata": {},
   "outputs": [],
   "source": [
    "from sklearn.linear_model import LogisticRegression"
   ]
  },
  {
   "cell_type": "code",
   "execution_count": null,
   "id": "38892e71",
   "metadata": {},
   "outputs": [],
   "source": [
    "model = LogisticRegression()\n",
    "model.fit(train_X, train_y)"
   ]
  },
  {
   "cell_type": "code",
   "execution_count": null,
   "id": "e09b89d7",
   "metadata": {},
   "outputs": [],
   "source": [
    "pred = model.predict(test_X)"
   ]
  },
  {
   "cell_type": "code",
   "execution_count": null,
   "id": "9be98797",
   "metadata": {},
   "outputs": [],
   "source": [
    "\n",
    "submission2 = sample_submission.copy()\n",
    "submission2.target = pred\n",
    "submission2"
   ]
  }
 ],
 "metadata": {
  "kernelspec": {
   "display_name": "Python 3 (ipykernel)",
   "language": "python",
   "name": "python3"
  },
  "language_info": {
   "codemirror_mode": {
    "name": "ipython",
    "version": 3
   },
   "file_extension": ".py",
   "mimetype": "text/x-python",
   "name": "python",
   "nbconvert_exporter": "python",
   "pygments_lexer": "ipython3",
   "version": "3.9.7"
  }
 },
 "nbformat": 4,
 "nbformat_minor": 5
}
