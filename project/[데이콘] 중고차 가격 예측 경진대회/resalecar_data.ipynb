{
 "cells": [
  {
   "cell_type": "code",
   "execution_count": 1,
   "id": "2a43f5ab",
   "metadata": {},
   "outputs": [],
   "source": [
    "import pandas as pd\n",
    "import re"
   ]
  },
  {
   "cell_type": "code",
   "execution_count": 2,
   "id": "f24a32c4",
   "metadata": {},
   "outputs": [],
   "source": [
    "train = pd.read_csv('./resalecar/dataset/train.csv')\n",
    "test = pd.read_csv('./resalecar/dataset/test.csv')\n",
    "sample_submission = pd.read_csv('./resalecar/dataset/sample_submission.csv')"
   ]
  },
  {
   "cell_type": "code",
   "execution_count": 3,
   "id": "98e3a083",
   "metadata": {},
   "outputs": [
    {
     "data": {
      "text/html": [
       "<div>\n",
       "<style scoped>\n",
       "    .dataframe tbody tr th:only-of-type {\n",
       "        vertical-align: middle;\n",
       "    }\n",
       "\n",
       "    .dataframe tbody tr th {\n",
       "        vertical-align: top;\n",
       "    }\n",
       "\n",
       "    .dataframe thead th {\n",
       "        text-align: right;\n",
       "    }\n",
       "</style>\n",
       "<table border=\"1\" class=\"dataframe\">\n",
       "  <thead>\n",
       "    <tr style=\"text-align: right;\">\n",
       "      <th></th>\n",
       "      <th>id</th>\n",
       "      <th>title</th>\n",
       "      <th>odometer</th>\n",
       "      <th>location</th>\n",
       "      <th>isimported</th>\n",
       "      <th>engine</th>\n",
       "      <th>transmission</th>\n",
       "      <th>fuel</th>\n",
       "      <th>paint</th>\n",
       "      <th>year</th>\n",
       "      <th>target</th>\n",
       "    </tr>\n",
       "  </thead>\n",
       "  <tbody>\n",
       "    <tr>\n",
       "      <th>0</th>\n",
       "      <td>0</td>\n",
       "      <td>Toyota RAV 4</td>\n",
       "      <td>18277</td>\n",
       "      <td>Lagos</td>\n",
       "      <td>Foreign Used</td>\n",
       "      <td>4-cylinder(I4)</td>\n",
       "      <td>automatic</td>\n",
       "      <td>petrol</td>\n",
       "      <td>Red</td>\n",
       "      <td>2016</td>\n",
       "      <td>13665000</td>\n",
       "    </tr>\n",
       "    <tr>\n",
       "      <th>1</th>\n",
       "      <td>1</td>\n",
       "      <td>Toyota Land Cruiser</td>\n",
       "      <td>10</td>\n",
       "      <td>Lagos</td>\n",
       "      <td>New</td>\n",
       "      <td>4-cylinder(I4)</td>\n",
       "      <td>automatic</td>\n",
       "      <td>petrol</td>\n",
       "      <td>Black</td>\n",
       "      <td>2019</td>\n",
       "      <td>33015000</td>\n",
       "    </tr>\n",
       "    <tr>\n",
       "      <th>2</th>\n",
       "      <td>2</td>\n",
       "      <td>Land Rover Range Rover Evoque</td>\n",
       "      <td>83091</td>\n",
       "      <td>Lagos</td>\n",
       "      <td>Foreign Used</td>\n",
       "      <td>6-cylinder(V6)</td>\n",
       "      <td>automatic</td>\n",
       "      <td>petrol</td>\n",
       "      <td>Red</td>\n",
       "      <td>2012</td>\n",
       "      <td>9915000</td>\n",
       "    </tr>\n",
       "    <tr>\n",
       "      <th>3</th>\n",
       "      <td>3</td>\n",
       "      <td>Lexus ES 350</td>\n",
       "      <td>91524</td>\n",
       "      <td>Lagos</td>\n",
       "      <td>Foreign Used</td>\n",
       "      <td>4-cylinder(I4)</td>\n",
       "      <td>automatic</td>\n",
       "      <td>petrol</td>\n",
       "      <td>Gray</td>\n",
       "      <td>2007</td>\n",
       "      <td>3815000</td>\n",
       "    </tr>\n",
       "    <tr>\n",
       "      <th>4</th>\n",
       "      <td>4</td>\n",
       "      <td>Toyota Venza</td>\n",
       "      <td>94177</td>\n",
       "      <td>Lagos</td>\n",
       "      <td>Foreign Used</td>\n",
       "      <td>6-cylinder(V6)</td>\n",
       "      <td>automatic</td>\n",
       "      <td>petrol</td>\n",
       "      <td>Red</td>\n",
       "      <td>2010</td>\n",
       "      <td>7385000</td>\n",
       "    </tr>\n",
       "  </tbody>\n",
       "</table>\n",
       "</div>"
      ],
      "text/plain": [
       "   id                          title  odometer location    isimported  \\\n",
       "0   0                   Toyota RAV 4     18277   Lagos   Foreign Used   \n",
       "1   1            Toyota Land Cruiser        10    Lagos          New    \n",
       "2   2  Land Rover Range Rover Evoque     83091    Lagos  Foreign Used   \n",
       "3   3                   Lexus ES 350     91524    Lagos  Foreign Used   \n",
       "4   4                   Toyota Venza     94177    Lagos  Foreign Used   \n",
       "\n",
       "           engine transmission    fuel  paint  year    target  \n",
       "0  4-cylinder(I4)    automatic  petrol    Red  2016  13665000  \n",
       "1  4-cylinder(I4)    automatic  petrol  Black  2019  33015000  \n",
       "2  6-cylinder(V6)    automatic  petrol    Red  2012   9915000  \n",
       "3  4-cylinder(I4)    automatic  petrol   Gray  2007   3815000  \n",
       "4  6-cylinder(V6)    automatic  petrol    Red  2010   7385000  "
      ]
     },
     "execution_count": 3,
     "metadata": {},
     "output_type": "execute_result"
    }
   ],
   "source": [
    "train.head()"
   ]
  },
  {
   "cell_type": "code",
   "execution_count": 4,
   "id": "3e6bf186",
   "metadata": {},
   "outputs": [
    {
     "data": {
      "text/html": [
       "<div>\n",
       "<style scoped>\n",
       "    .dataframe tbody tr th:only-of-type {\n",
       "        vertical-align: middle;\n",
       "    }\n",
       "\n",
       "    .dataframe tbody tr th {\n",
       "        vertical-align: top;\n",
       "    }\n",
       "\n",
       "    .dataframe thead th {\n",
       "        text-align: right;\n",
       "    }\n",
       "</style>\n",
       "<table border=\"1\" class=\"dataframe\">\n",
       "  <thead>\n",
       "    <tr style=\"text-align: right;\">\n",
       "      <th></th>\n",
       "      <th>id</th>\n",
       "      <th>title</th>\n",
       "      <th>odometer</th>\n",
       "      <th>location</th>\n",
       "      <th>isimported</th>\n",
       "      <th>engine</th>\n",
       "      <th>transmission</th>\n",
       "      <th>fuel</th>\n",
       "      <th>paint</th>\n",
       "      <th>year</th>\n",
       "    </tr>\n",
       "  </thead>\n",
       "  <tbody>\n",
       "    <tr>\n",
       "      <th>0</th>\n",
       "      <td>0</td>\n",
       "      <td>Mercedes-Benz C 300</td>\n",
       "      <td>1234</td>\n",
       "      <td>Abuja</td>\n",
       "      <td>New</td>\n",
       "      <td>4-cylinder(I4)</td>\n",
       "      <td>automatic</td>\n",
       "      <td>petrol</td>\n",
       "      <td>White</td>\n",
       "      <td>2017</td>\n",
       "    </tr>\n",
       "    <tr>\n",
       "      <th>1</th>\n",
       "      <td>1</td>\n",
       "      <td>Honda Accord</td>\n",
       "      <td>29938</td>\n",
       "      <td>Abuja</td>\n",
       "      <td>Foreign Used</td>\n",
       "      <td>4-cylinder(I4)</td>\n",
       "      <td>automatic</td>\n",
       "      <td>petrol</td>\n",
       "      <td>White</td>\n",
       "      <td>2013</td>\n",
       "    </tr>\n",
       "    <tr>\n",
       "      <th>2</th>\n",
       "      <td>2</td>\n",
       "      <td>Mercedes-Benz S 550</td>\n",
       "      <td>87501</td>\n",
       "      <td>Lagos</td>\n",
       "      <td>Foreign Used</td>\n",
       "      <td>4-cylinder(I4)</td>\n",
       "      <td>automatic</td>\n",
       "      <td>petrol</td>\n",
       "      <td>Black</td>\n",
       "      <td>2012</td>\n",
       "    </tr>\n",
       "    <tr>\n",
       "      <th>3</th>\n",
       "      <td>3</td>\n",
       "      <td>Toyota Sienna</td>\n",
       "      <td>180894</td>\n",
       "      <td>Lagos</td>\n",
       "      <td>Locally used</td>\n",
       "      <td>6-cylinder(V6)</td>\n",
       "      <td>automatic</td>\n",
       "      <td>petrol</td>\n",
       "      <td>Dark Grey</td>\n",
       "      <td>2001</td>\n",
       "    </tr>\n",
       "    <tr>\n",
       "      <th>4</th>\n",
       "      <td>4</td>\n",
       "      <td>Toyota Hiace</td>\n",
       "      <td>104814</td>\n",
       "      <td>Lagos</td>\n",
       "      <td>Foreign Used</td>\n",
       "      <td>4-cylinder(I4)</td>\n",
       "      <td>automatic</td>\n",
       "      <td>petrol</td>\n",
       "      <td>White</td>\n",
       "      <td>2000</td>\n",
       "    </tr>\n",
       "  </tbody>\n",
       "</table>\n",
       "</div>"
      ],
      "text/plain": [
       "   id                title  odometer location    isimported          engine  \\\n",
       "0   0  Mercedes-Benz C 300      1234    Abuja          New   4-cylinder(I4)   \n",
       "1   1         Honda Accord     29938    Abuja  Foreign Used  4-cylinder(I4)   \n",
       "2   2  Mercedes-Benz S 550     87501    Lagos  Foreign Used  4-cylinder(I4)   \n",
       "3   3        Toyota Sienna    180894    Lagos  Locally used  6-cylinder(V6)   \n",
       "4   4         Toyota Hiace    104814    Lagos  Foreign Used  4-cylinder(I4)   \n",
       "\n",
       "  transmission    fuel      paint  year  \n",
       "0    automatic  petrol      White  2017  \n",
       "1    automatic  petrol      White  2013  \n",
       "2    automatic  petrol      Black  2012  \n",
       "3    automatic  petrol  Dark Grey  2001  \n",
       "4    automatic  petrol      White  2000  "
      ]
     },
     "execution_count": 4,
     "metadata": {},
     "output_type": "execute_result"
    }
   ],
   "source": [
    "test.head()"
   ]
  },
  {
   "cell_type": "code",
   "execution_count": 5,
   "id": "75da9f23",
   "metadata": {},
   "outputs": [],
   "source": [
    "# sorted(train.title.unique())"
   ]
  },
  {
   "cell_type": "code",
   "execution_count": 6,
   "id": "536a8b6f",
   "metadata": {},
   "outputs": [],
   "source": [
    "# sorted(test.title.unique())"
   ]
  },
  {
   "cell_type": "code",
   "execution_count": 7,
   "id": "7616f4c9",
   "metadata": {},
   "outputs": [],
   "source": [
    "only_train_data_title = set(train.title.unique())-set(test.title.unique())\n",
    "only_test_data_title = set(test.title.unique())-set(train.title.unique())"
   ]
  },
  {
   "cell_type": "code",
   "execution_count": 8,
   "id": "1d5a3a5b",
   "metadata": {},
   "outputs": [
    {
     "data": {
      "text/plain": [
       "'train에만 있는 차종류 개수 : 116, test에만 있는 차종류 개수 : 37'"
      ]
     },
     "execution_count": 8,
     "metadata": {},
     "output_type": "execute_result"
    }
   ],
   "source": [
    "'train에만 있는 차종류 개수 : {}, test에만 있는 차종류 개수 : {}'.format(len(only_train_data_title), len(only_test_data_title))"
   ]
  },
  {
   "cell_type": "code",
   "execution_count": 9,
   "id": "e3aea72b",
   "metadata": {},
   "outputs": [],
   "source": [
    "# only_train_data_title"
   ]
  },
  {
   "cell_type": "code",
   "execution_count": 10,
   "id": "cd48c578",
   "metadata": {},
   "outputs": [],
   "source": [
    "# only_test_data_title"
   ]
  },
  {
   "cell_type": "code",
   "execution_count": 11,
   "id": "8f8b23f8",
   "metadata": {},
   "outputs": [
    {
     "data": {
      "text/plain": [
       "0       Toyota\n",
       "1       Toyota\n",
       "2         Land\n",
       "3        Lexus\n",
       "4       Toyota\n",
       "         ...  \n",
       "1010    Toyota\n",
       "1011    Toyota\n",
       "1012    Toyota\n",
       "1013     Lexus\n",
       "1014       DAF\n",
       "Name: title, Length: 1015, dtype: object"
      ]
     },
     "execution_count": 11,
     "metadata": {},
     "output_type": "execute_result"
    }
   ],
   "source": [
    "train['title'].apply(lambda x : x.split(\" \")[0])"
   ]
  },
  {
   "cell_type": "code",
   "execution_count": 12,
   "id": "e4ce1855",
   "metadata": {},
   "outputs": [
    {
     "data": {
      "text/html": [
       "<div>\n",
       "<style scoped>\n",
       "    .dataframe tbody tr th:only-of-type {\n",
       "        vertical-align: middle;\n",
       "    }\n",
       "\n",
       "    .dataframe tbody tr th {\n",
       "        vertical-align: top;\n",
       "    }\n",
       "\n",
       "    .dataframe thead th {\n",
       "        text-align: right;\n",
       "    }\n",
       "</style>\n",
       "<table border=\"1\" class=\"dataframe\">\n",
       "  <thead>\n",
       "    <tr style=\"text-align: right;\">\n",
       "      <th></th>\n",
       "      <th>id</th>\n",
       "      <th>title</th>\n",
       "      <th>odometer</th>\n",
       "      <th>location</th>\n",
       "      <th>isimported</th>\n",
       "      <th>engine</th>\n",
       "      <th>transmission</th>\n",
       "      <th>fuel</th>\n",
       "      <th>paint</th>\n",
       "      <th>year</th>\n",
       "      <th>target</th>\n",
       "      <th>brand</th>\n",
       "    </tr>\n",
       "  </thead>\n",
       "  <tbody>\n",
       "    <tr>\n",
       "      <th>0</th>\n",
       "      <td>0</td>\n",
       "      <td>Toyota RAV 4</td>\n",
       "      <td>18277</td>\n",
       "      <td>Lagos</td>\n",
       "      <td>Foreign Used</td>\n",
       "      <td>4-cylinder(I4)</td>\n",
       "      <td>automatic</td>\n",
       "      <td>petrol</td>\n",
       "      <td>Red</td>\n",
       "      <td>2016</td>\n",
       "      <td>13665000</td>\n",
       "      <td>Toyota</td>\n",
       "    </tr>\n",
       "    <tr>\n",
       "      <th>1</th>\n",
       "      <td>1</td>\n",
       "      <td>Toyota Land Cruiser</td>\n",
       "      <td>10</td>\n",
       "      <td>Lagos</td>\n",
       "      <td>New</td>\n",
       "      <td>4-cylinder(I4)</td>\n",
       "      <td>automatic</td>\n",
       "      <td>petrol</td>\n",
       "      <td>Black</td>\n",
       "      <td>2019</td>\n",
       "      <td>33015000</td>\n",
       "      <td>Toyota</td>\n",
       "    </tr>\n",
       "    <tr>\n",
       "      <th>2</th>\n",
       "      <td>2</td>\n",
       "      <td>Land Rover Range Rover Evoque</td>\n",
       "      <td>83091</td>\n",
       "      <td>Lagos</td>\n",
       "      <td>Foreign Used</td>\n",
       "      <td>6-cylinder(V6)</td>\n",
       "      <td>automatic</td>\n",
       "      <td>petrol</td>\n",
       "      <td>Red</td>\n",
       "      <td>2012</td>\n",
       "      <td>9915000</td>\n",
       "      <td>Land</td>\n",
       "    </tr>\n",
       "    <tr>\n",
       "      <th>3</th>\n",
       "      <td>3</td>\n",
       "      <td>Lexus ES 350</td>\n",
       "      <td>91524</td>\n",
       "      <td>Lagos</td>\n",
       "      <td>Foreign Used</td>\n",
       "      <td>4-cylinder(I4)</td>\n",
       "      <td>automatic</td>\n",
       "      <td>petrol</td>\n",
       "      <td>Gray</td>\n",
       "      <td>2007</td>\n",
       "      <td>3815000</td>\n",
       "      <td>Lexus</td>\n",
       "    </tr>\n",
       "    <tr>\n",
       "      <th>4</th>\n",
       "      <td>4</td>\n",
       "      <td>Toyota Venza</td>\n",
       "      <td>94177</td>\n",
       "      <td>Lagos</td>\n",
       "      <td>Foreign Used</td>\n",
       "      <td>6-cylinder(V6)</td>\n",
       "      <td>automatic</td>\n",
       "      <td>petrol</td>\n",
       "      <td>Red</td>\n",
       "      <td>2010</td>\n",
       "      <td>7385000</td>\n",
       "      <td>Toyota</td>\n",
       "    </tr>\n",
       "  </tbody>\n",
       "</table>\n",
       "</div>"
      ],
      "text/plain": [
       "   id                          title  odometer location    isimported  \\\n",
       "0   0                   Toyota RAV 4     18277   Lagos   Foreign Used   \n",
       "1   1            Toyota Land Cruiser        10    Lagos          New    \n",
       "2   2  Land Rover Range Rover Evoque     83091    Lagos  Foreign Used   \n",
       "3   3                   Lexus ES 350     91524    Lagos  Foreign Used   \n",
       "4   4                   Toyota Venza     94177    Lagos  Foreign Used   \n",
       "\n",
       "           engine transmission    fuel  paint  year    target   brand  \n",
       "0  4-cylinder(I4)    automatic  petrol    Red  2016  13665000  Toyota  \n",
       "1  4-cylinder(I4)    automatic  petrol  Black  2019  33015000  Toyota  \n",
       "2  6-cylinder(V6)    automatic  petrol    Red  2012   9915000    Land  \n",
       "3  4-cylinder(I4)    automatic  petrol   Gray  2007   3815000   Lexus  \n",
       "4  6-cylinder(V6)    automatic  petrol    Red  2010   7385000  Toyota  "
      ]
     },
     "execution_count": 12,
     "metadata": {},
     "output_type": "execute_result"
    }
   ],
   "source": [
    "train['brand'] = train['title'].apply(lambda x : x.split(\" \")[0])\n",
    "train.head()"
   ]
  },
  {
   "cell_type": "code",
   "execution_count": 13,
   "id": "78dcecfc",
   "metadata": {},
   "outputs": [],
   "source": [
    "train.replace({'brand' : {'Land' : 'Land Rover'}}, inplace = True)"
   ]
  },
  {
   "cell_type": "code",
   "execution_count": 14,
   "id": "9065d571",
   "metadata": {},
   "outputs": [
    {
     "data": {
      "text/html": [
       "<div>\n",
       "<style scoped>\n",
       "    .dataframe tbody tr th:only-of-type {\n",
       "        vertical-align: middle;\n",
       "    }\n",
       "\n",
       "    .dataframe tbody tr th {\n",
       "        vertical-align: top;\n",
       "    }\n",
       "\n",
       "    .dataframe thead th {\n",
       "        text-align: right;\n",
       "    }\n",
       "</style>\n",
       "<table border=\"1\" class=\"dataframe\">\n",
       "  <thead>\n",
       "    <tr style=\"text-align: right;\">\n",
       "      <th></th>\n",
       "      <th>id</th>\n",
       "      <th>title</th>\n",
       "      <th>odometer</th>\n",
       "      <th>location</th>\n",
       "      <th>isimported</th>\n",
       "      <th>engine</th>\n",
       "      <th>transmission</th>\n",
       "      <th>fuel</th>\n",
       "      <th>paint</th>\n",
       "      <th>year</th>\n",
       "      <th>target</th>\n",
       "      <th>brand</th>\n",
       "    </tr>\n",
       "  </thead>\n",
       "  <tbody>\n",
       "    <tr>\n",
       "      <th>0</th>\n",
       "      <td>0</td>\n",
       "      <td>Toyota RAV 4</td>\n",
       "      <td>18277</td>\n",
       "      <td>Lagos</td>\n",
       "      <td>Foreign Used</td>\n",
       "      <td>4-cylinder(I4)</td>\n",
       "      <td>automatic</td>\n",
       "      <td>petrol</td>\n",
       "      <td>Red</td>\n",
       "      <td>2016</td>\n",
       "      <td>13665000</td>\n",
       "      <td>Toyota</td>\n",
       "    </tr>\n",
       "    <tr>\n",
       "      <th>1</th>\n",
       "      <td>1</td>\n",
       "      <td>Toyota Land Cruiser</td>\n",
       "      <td>10</td>\n",
       "      <td>Lagos</td>\n",
       "      <td>New</td>\n",
       "      <td>4-cylinder(I4)</td>\n",
       "      <td>automatic</td>\n",
       "      <td>petrol</td>\n",
       "      <td>Black</td>\n",
       "      <td>2019</td>\n",
       "      <td>33015000</td>\n",
       "      <td>Toyota</td>\n",
       "    </tr>\n",
       "    <tr>\n",
       "      <th>2</th>\n",
       "      <td>2</td>\n",
       "      <td>Land Rover Range Rover Evoque</td>\n",
       "      <td>83091</td>\n",
       "      <td>Lagos</td>\n",
       "      <td>Foreign Used</td>\n",
       "      <td>6-cylinder(V6)</td>\n",
       "      <td>automatic</td>\n",
       "      <td>petrol</td>\n",
       "      <td>Red</td>\n",
       "      <td>2012</td>\n",
       "      <td>9915000</td>\n",
       "      <td>Land Rover</td>\n",
       "    </tr>\n",
       "    <tr>\n",
       "      <th>3</th>\n",
       "      <td>3</td>\n",
       "      <td>Lexus ES 350</td>\n",
       "      <td>91524</td>\n",
       "      <td>Lagos</td>\n",
       "      <td>Foreign Used</td>\n",
       "      <td>4-cylinder(I4)</td>\n",
       "      <td>automatic</td>\n",
       "      <td>petrol</td>\n",
       "      <td>Gray</td>\n",
       "      <td>2007</td>\n",
       "      <td>3815000</td>\n",
       "      <td>Lexus</td>\n",
       "    </tr>\n",
       "    <tr>\n",
       "      <th>4</th>\n",
       "      <td>4</td>\n",
       "      <td>Toyota Venza</td>\n",
       "      <td>94177</td>\n",
       "      <td>Lagos</td>\n",
       "      <td>Foreign Used</td>\n",
       "      <td>6-cylinder(V6)</td>\n",
       "      <td>automatic</td>\n",
       "      <td>petrol</td>\n",
       "      <td>Red</td>\n",
       "      <td>2010</td>\n",
       "      <td>7385000</td>\n",
       "      <td>Toyota</td>\n",
       "    </tr>\n",
       "  </tbody>\n",
       "</table>\n",
       "</div>"
      ],
      "text/plain": [
       "   id                          title  odometer location    isimported  \\\n",
       "0   0                   Toyota RAV 4     18277   Lagos   Foreign Used   \n",
       "1   1            Toyota Land Cruiser        10    Lagos          New    \n",
       "2   2  Land Rover Range Rover Evoque     83091    Lagos  Foreign Used   \n",
       "3   3                   Lexus ES 350     91524    Lagos  Foreign Used   \n",
       "4   4                   Toyota Venza     94177    Lagos  Foreign Used   \n",
       "\n",
       "           engine transmission    fuel  paint  year    target       brand  \n",
       "0  4-cylinder(I4)    automatic  petrol    Red  2016  13665000      Toyota  \n",
       "1  4-cylinder(I4)    automatic  petrol  Black  2019  33015000      Toyota  \n",
       "2  6-cylinder(V6)    automatic  petrol    Red  2012   9915000  Land Rover  \n",
       "3  4-cylinder(I4)    automatic  petrol   Gray  2007   3815000       Lexus  \n",
       "4  6-cylinder(V6)    automatic  petrol    Red  2010   7385000      Toyota  "
      ]
     },
     "execution_count": 14,
     "metadata": {},
     "output_type": "execute_result"
    }
   ],
   "source": [
    "train.head()"
   ]
  },
  {
   "cell_type": "code",
   "execution_count": 15,
   "id": "ded7e312",
   "metadata": {},
   "outputs": [
    {
     "data": {
      "text/plain": [
       "42"
      ]
     },
     "execution_count": 15,
     "metadata": {},
     "output_type": "execute_result"
    }
   ],
   "source": [
    "len(train['brand'].unique())"
   ]
  },
  {
   "cell_type": "code",
   "execution_count": 16,
   "id": "ff978aa7",
   "metadata": {},
   "outputs": [],
   "source": [
    "train['brand'] = train['brand'].replace({'Mercedes-Benz/52' : 'Mercedes-Benz'})"
   ]
  },
  {
   "cell_type": "code",
   "execution_count": 17,
   "id": "dbc37a89",
   "metadata": {},
   "outputs": [
    {
     "name": "stdout",
     "output_type": "stream",
     "text": [
      "41\n",
      "['ALPINA', 'Acura', 'Audi', 'BMW', 'Bentley', 'Chevrolet', 'DAF', 'Dodge', 'Ford', 'GAC', 'GMC', 'Honda', 'Hyundai', 'IVECO', 'IVM', 'Infiniti', 'Isuzu', 'Iveco', 'JMC', 'Jaguar', 'Jeep', 'Kia', 'Land Rover', 'Lexus', 'Lincoln', 'MAN-VOLKSWAGEN', 'MINI', 'Mack', 'Man', 'Mazda', 'Mercedes-Benz', 'Mitsubishi', 'Nissan', 'Peugeot', 'Pontiac', 'Porsche', 'Rolls-Royce', 'Scania', 'Toyota', 'Volkswagen', 'Volvo']\n"
     ]
    }
   ],
   "source": [
    "# 브랜드에서 이상한 오타는 없음.\n",
    "print(len(train['brand'].unique()))\n",
    "print(sorted(train['brand'].unique()))"
   ]
  },
  {
   "cell_type": "code",
   "execution_count": 18,
   "id": "2002fd5f",
   "metadata": {},
   "outputs": [
    {
     "data": {
      "text/html": [
       "<div>\n",
       "<style scoped>\n",
       "    .dataframe tbody tr th:only-of-type {\n",
       "        vertical-align: middle;\n",
       "    }\n",
       "\n",
       "    .dataframe tbody tr th {\n",
       "        vertical-align: top;\n",
       "    }\n",
       "\n",
       "    .dataframe thead th {\n",
       "        text-align: right;\n",
       "    }\n",
       "</style>\n",
       "<table border=\"1\" class=\"dataframe\">\n",
       "  <thead>\n",
       "    <tr style=\"text-align: right;\">\n",
       "      <th></th>\n",
       "      <th>id</th>\n",
       "      <th>title</th>\n",
       "      <th>odometer</th>\n",
       "      <th>location</th>\n",
       "      <th>isimported</th>\n",
       "      <th>engine</th>\n",
       "      <th>transmission</th>\n",
       "      <th>fuel</th>\n",
       "      <th>paint</th>\n",
       "      <th>year</th>\n",
       "      <th>brand</th>\n",
       "    </tr>\n",
       "  </thead>\n",
       "  <tbody>\n",
       "    <tr>\n",
       "      <th>0</th>\n",
       "      <td>0</td>\n",
       "      <td>Mercedes-Benz C 300</td>\n",
       "      <td>1234</td>\n",
       "      <td>Abuja</td>\n",
       "      <td>New</td>\n",
       "      <td>4-cylinder(I4)</td>\n",
       "      <td>automatic</td>\n",
       "      <td>petrol</td>\n",
       "      <td>White</td>\n",
       "      <td>2017</td>\n",
       "      <td>Mercedes-Benz</td>\n",
       "    </tr>\n",
       "    <tr>\n",
       "      <th>1</th>\n",
       "      <td>1</td>\n",
       "      <td>Honda Accord</td>\n",
       "      <td>29938</td>\n",
       "      <td>Abuja</td>\n",
       "      <td>Foreign Used</td>\n",
       "      <td>4-cylinder(I4)</td>\n",
       "      <td>automatic</td>\n",
       "      <td>petrol</td>\n",
       "      <td>White</td>\n",
       "      <td>2013</td>\n",
       "      <td>Honda</td>\n",
       "    </tr>\n",
       "    <tr>\n",
       "      <th>2</th>\n",
       "      <td>2</td>\n",
       "      <td>Mercedes-Benz S 550</td>\n",
       "      <td>87501</td>\n",
       "      <td>Lagos</td>\n",
       "      <td>Foreign Used</td>\n",
       "      <td>4-cylinder(I4)</td>\n",
       "      <td>automatic</td>\n",
       "      <td>petrol</td>\n",
       "      <td>Black</td>\n",
       "      <td>2012</td>\n",
       "      <td>Mercedes-Benz</td>\n",
       "    </tr>\n",
       "    <tr>\n",
       "      <th>3</th>\n",
       "      <td>3</td>\n",
       "      <td>Toyota Sienna</td>\n",
       "      <td>180894</td>\n",
       "      <td>Lagos</td>\n",
       "      <td>Locally used</td>\n",
       "      <td>6-cylinder(V6)</td>\n",
       "      <td>automatic</td>\n",
       "      <td>petrol</td>\n",
       "      <td>Dark Grey</td>\n",
       "      <td>2001</td>\n",
       "      <td>Toyota</td>\n",
       "    </tr>\n",
       "    <tr>\n",
       "      <th>4</th>\n",
       "      <td>4</td>\n",
       "      <td>Toyota Hiace</td>\n",
       "      <td>104814</td>\n",
       "      <td>Lagos</td>\n",
       "      <td>Foreign Used</td>\n",
       "      <td>4-cylinder(I4)</td>\n",
       "      <td>automatic</td>\n",
       "      <td>petrol</td>\n",
       "      <td>White</td>\n",
       "      <td>2000</td>\n",
       "      <td>Toyota</td>\n",
       "    </tr>\n",
       "  </tbody>\n",
       "</table>\n",
       "</div>"
      ],
      "text/plain": [
       "   id                title  odometer location    isimported          engine  \\\n",
       "0   0  Mercedes-Benz C 300      1234    Abuja          New   4-cylinder(I4)   \n",
       "1   1         Honda Accord     29938    Abuja  Foreign Used  4-cylinder(I4)   \n",
       "2   2  Mercedes-Benz S 550     87501    Lagos  Foreign Used  4-cylinder(I4)   \n",
       "3   3        Toyota Sienna    180894    Lagos  Locally used  6-cylinder(V6)   \n",
       "4   4         Toyota Hiace    104814    Lagos  Foreign Used  4-cylinder(I4)   \n",
       "\n",
       "  transmission    fuel      paint  year          brand  \n",
       "0    automatic  petrol      White  2017  Mercedes-Benz  \n",
       "1    automatic  petrol      White  2013          Honda  \n",
       "2    automatic  petrol      Black  2012  Mercedes-Benz  \n",
       "3    automatic  petrol  Dark Grey  2001         Toyota  \n",
       "4    automatic  petrol      White  2000         Toyota  "
      ]
     },
     "execution_count": 18,
     "metadata": {},
     "output_type": "execute_result"
    }
   ],
   "source": [
    "test['brand'] = test['title'].apply(lambda x: x.split(\" \")[0])\n",
    "test.head()"
   ]
  },
  {
   "cell_type": "code",
   "execution_count": 19,
   "id": "aaa816c5",
   "metadata": {},
   "outputs": [
    {
     "data": {
      "text/plain": [
       "array(['Mercedes-Benz', 'Honda', 'Toyota', 'Iveco', 'Lexus', 'Nissan',\n",
       "       'Volkswagen', 'Jeep', 'Ford', 'BMW', 'Mack', 'Land', 'Hyundai',\n",
       "       'Peugeot', 'Volvo', 'Infiniti', 'Acura', 'Man', 'Fiat', 'MINI',\n",
       "       'DAF', 'Mazda', 'Porsche', 'Mitsubishi', 'Chevrolet', 'Kia',\n",
       "       'Pontiac', 'Rolls-Royce'], dtype=object)"
      ]
     },
     "execution_count": 19,
     "metadata": {},
     "output_type": "execute_result"
    }
   ],
   "source": [
    "test['brand'].unique()"
   ]
  },
  {
   "cell_type": "code",
   "execution_count": 20,
   "id": "8d9bbea0",
   "metadata": {},
   "outputs": [],
   "source": [
    "test.replace({'brand' : {'Land' : 'Land Rover'}}, inplace = True)"
   ]
  },
  {
   "cell_type": "code",
   "execution_count": 21,
   "id": "91873d41",
   "metadata": {},
   "outputs": [
    {
     "data": {
      "text/plain": [
       "['Acura',\n",
       " 'BMW',\n",
       " 'Chevrolet',\n",
       " 'DAF',\n",
       " 'Fiat',\n",
       " 'Ford',\n",
       " 'Honda',\n",
       " 'Hyundai',\n",
       " 'Infiniti',\n",
       " 'Iveco',\n",
       " 'Jeep',\n",
       " 'Kia',\n",
       " 'Land Rover',\n",
       " 'Lexus',\n",
       " 'MINI',\n",
       " 'Mack',\n",
       " 'Man',\n",
       " 'Mazda',\n",
       " 'Mercedes-Benz',\n",
       " 'Mitsubishi',\n",
       " 'Nissan',\n",
       " 'Peugeot',\n",
       " 'Pontiac',\n",
       " 'Porsche',\n",
       " 'Rolls-Royce',\n",
       " 'Toyota',\n",
       " 'Volkswagen',\n",
       " 'Volvo']"
      ]
     },
     "execution_count": 21,
     "metadata": {},
     "output_type": "execute_result"
    }
   ],
   "source": [
    "sorted(test['brand'].unique())"
   ]
  },
  {
   "cell_type": "code",
   "execution_count": 22,
   "id": "1c1afaf6",
   "metadata": {},
   "outputs": [
    {
     "name": "stdout",
     "output_type": "stream",
     "text": [
      "41\n",
      "28\n",
      "False\n"
     ]
    }
   ],
   "source": [
    "# train이나 test의 종류는 모두 같지 않다.\n",
    "print(len(train['brand'].unique()))\n",
    "print(len(test['brand'].unique()))\n",
    "print(sorted(train['brand'].unique()) == sorted(test['brand'].unique()))"
   ]
  },
  {
   "cell_type": "code",
   "execution_count": 23,
   "id": "40a8dfa7",
   "metadata": {},
   "outputs": [
    {
     "name": "stdout",
     "output_type": "stream",
     "text": [
      "['Fiat']\n",
      "['Jaguar', 'Lincoln', 'Isuzu', 'IVM', 'Dodge', 'GMC', 'Scania', 'GAC', 'IVECO', 'MAN-VOLKSWAGEN', 'ALPINA', 'Bentley', 'JMC', 'Audi']\n"
     ]
    }
   ],
   "source": [
    "# train에 없는데, test에 있는 brand\n",
    "s = train['brand'].unique()\n",
    "temp3 = [x for x in test['brand'].unique() if x not in s] #순서 보존됨\n",
    "print(temp3)\n",
    "\n",
    "# test 없는데, train 있는 brand\n",
    "s = test['brand'].unique()\n",
    "temp3 = [x for x in train['brand'].unique() if x not in s] #순서 보존됨\n",
    "print(temp3)"
   ]
  },
  {
   "cell_type": "code",
   "execution_count": 24,
   "id": "5530b1f5",
   "metadata": {},
   "outputs": [
    {
     "data": {
      "text/plain": [
       "['Abia',\n",
       " 'Abia State',\n",
       " 'Abuja',\n",
       " 'Abuja ',\n",
       " 'Accra',\n",
       " 'Adamawa ',\n",
       " 'FCT',\n",
       " 'Lagos',\n",
       " 'Lagos ',\n",
       " 'Lagos State',\n",
       " 'Ogun',\n",
       " 'Ogun State',\n",
       " 'other']"
      ]
     },
     "execution_count": 24,
     "metadata": {},
     "output_type": "execute_result"
    }
   ],
   "source": [
    "sorted(train.location.unique())"
   ]
  },
  {
   "cell_type": "code",
   "execution_count": 25,
   "id": "92b3b189",
   "metadata": {},
   "outputs": [],
   "source": [
    "# sorted(test.location.unique())"
   ]
  },
  {
   "cell_type": "code",
   "execution_count": 26,
   "id": "9fa712f8",
   "metadata": {},
   "outputs": [],
   "source": [
    "train['location'] = train['location'].str.replace(\" State\",\"\")"
   ]
  },
  {
   "cell_type": "code",
   "execution_count": 27,
   "id": "b558e311",
   "metadata": {},
   "outputs": [],
   "source": [
    "train['location'] = train['location'].str.rstrip()"
   ]
  },
  {
   "cell_type": "code",
   "execution_count": 28,
   "id": "af712eac",
   "metadata": {},
   "outputs": [
    {
     "data": {
      "text/plain": [
       "['Abia', 'Abuja', 'Accra', 'Adamawa', 'FCT', 'Lagos', 'Ogun', 'other']"
      ]
     },
     "execution_count": 28,
     "metadata": {},
     "output_type": "execute_result"
    }
   ],
   "source": [
    "sorted(train.location.unique())"
   ]
  },
  {
   "cell_type": "code",
   "execution_count": 29,
   "id": "6d277131",
   "metadata": {},
   "outputs": [],
   "source": [
    "test['location'] = test['location'].str.replace(\" State\",\"\")\n",
    "test['location'] = test['location'].str.replace(\" state\",\"\")\n",
    "test['location'] = test['location'].str.replace('Arepo ogun','Ogun')\n",
    "test['location'] = test['location'].str.rstrip()"
   ]
  },
  {
   "cell_type": "code",
   "execution_count": 30,
   "id": "f0333bf8",
   "metadata": {},
   "outputs": [
    {
     "data": {
      "text/plain": [
       "['Abia', 'Abuja', 'Lagos', 'Mushin', 'Ogun', 'other']"
      ]
     },
     "execution_count": 30,
     "metadata": {},
     "output_type": "execute_result"
    }
   ],
   "source": [
    "sorted(test['location'].unique())"
   ]
  },
  {
   "cell_type": "code",
   "execution_count": 31,
   "id": "b431579a",
   "metadata": {},
   "outputs": [
    {
     "data": {
      "text/plain": [
       "['Foreign Used', 'Locally used', 'New ']"
      ]
     },
     "execution_count": 31,
     "metadata": {},
     "output_type": "execute_result"
    }
   ],
   "source": [
    "sorted(train.isimported.unique())"
   ]
  },
  {
   "cell_type": "code",
   "execution_count": 32,
   "id": "eb8ca900",
   "metadata": {},
   "outputs": [
    {
     "data": {
      "text/plain": [
       "['Foreign Used', 'Locally used', 'New ']"
      ]
     },
     "execution_count": 32,
     "metadata": {},
     "output_type": "execute_result"
    }
   ],
   "source": [
    "sorted(test.isimported.unique())"
   ]
  },
  {
   "cell_type": "code",
   "execution_count": 33,
   "id": "15da391a",
   "metadata": {},
   "outputs": [
    {
     "data": {
      "text/plain": [
       "['2-cylinder(I2)',\n",
       " '3-cylinder(I3)',\n",
       " '4-cylinder(H4)',\n",
       " '4-cylinder(I4)',\n",
       " '5-cylinder(I5)',\n",
       " '6-cylinder(I6)',\n",
       " '6-cylinder(V6)',\n",
       " '8-cylinder(V8)']"
      ]
     },
     "execution_count": 33,
     "metadata": {},
     "output_type": "execute_result"
    }
   ],
   "source": [
    "sorted(train.engine.unique())"
   ]
  },
  {
   "cell_type": "code",
   "execution_count": 34,
   "id": "84c3238d",
   "metadata": {},
   "outputs": [
    {
     "data": {
      "text/plain": [
       "['12-cylinder(V12)',\n",
       " '2-cylinder(I2)',\n",
       " '3-cylinder(I3)',\n",
       " '4-cylinder(I4)',\n",
       " '5-cylinder(I5)',\n",
       " '6-cylinder(I6)',\n",
       " '6-cylinder(V6)',\n",
       " '8-cylinder(V8)']"
      ]
     },
     "execution_count": 34,
     "metadata": {},
     "output_type": "execute_result"
    }
   ],
   "source": [
    "sorted(test.engine.unique())"
   ]
  },
  {
   "cell_type": "code",
   "execution_count": 35,
   "id": "6c3bf182",
   "metadata": {},
   "outputs": [
    {
     "data": {
      "text/plain": [
       "array(['automatic', 'manual'], dtype=object)"
      ]
     },
     "execution_count": 35,
     "metadata": {},
     "output_type": "execute_result"
    }
   ],
   "source": [
    "train.transmission.unique()"
   ]
  },
  {
   "cell_type": "code",
   "execution_count": 36,
   "id": "eaf1b38b",
   "metadata": {},
   "outputs": [
    {
     "data": {
      "text/plain": [
       "array(['automatic', 'manual'], dtype=object)"
      ]
     },
     "execution_count": 36,
     "metadata": {},
     "output_type": "execute_result"
    }
   ],
   "source": [
    "test.transmission.unique()"
   ]
  },
  {
   "cell_type": "code",
   "execution_count": 37,
   "id": "561a7344",
   "metadata": {},
   "outputs": [
    {
     "data": {
      "text/plain": [
       "array(['petrol', 'diesel'], dtype=object)"
      ]
     },
     "execution_count": 37,
     "metadata": {},
     "output_type": "execute_result"
    }
   ],
   "source": [
    "train.fuel.unique()"
   ]
  },
  {
   "cell_type": "code",
   "execution_count": 38,
   "id": "9187fc20",
   "metadata": {},
   "outputs": [
    {
     "data": {
      "text/plain": [
       "array(['petrol', 'diesel'], dtype=object)"
      ]
     },
     "execution_count": 38,
     "metadata": {},
     "output_type": "execute_result"
    }
   ],
   "source": [
    "test.fuel.unique()"
   ]
  },
  {
   "cell_type": "code",
   "execution_count": 39,
   "id": "f60380de",
   "metadata": {},
   "outputs": [
    {
     "data": {
      "text/plain": [
       "[' Black',\n",
       " ' Black/Red',\n",
       " 'Ash',\n",
       " 'Ash and black',\n",
       " 'BLACK',\n",
       " 'Beige',\n",
       " 'Black',\n",
       " 'Black ',\n",
       " 'Black and silver',\n",
       " 'Black sand pearl',\n",
       " 'Black.',\n",
       " 'Blue',\n",
       " 'Blue ',\n",
       " 'Brown',\n",
       " 'Cream',\n",
       " 'Cream ',\n",
       " 'DARK GREY',\n",
       " 'Dark Ash',\n",
       " 'Dark Blue',\n",
       " 'Dark Green',\n",
       " 'Dark Grey',\n",
       " 'Dark ash',\n",
       " 'Dark blue ',\n",
       " 'Dark gray',\n",
       " 'Dark silver ',\n",
       " 'Deep Blue',\n",
       " 'Deep blue',\n",
       " 'GOLD',\n",
       " 'Gery',\n",
       " 'Gold',\n",
       " 'Gold ',\n",
       " 'Gray',\n",
       " 'Gray ',\n",
       " 'Green',\n",
       " 'Green ',\n",
       " 'Grey',\n",
       " 'Grey ',\n",
       " 'Ink blue',\n",
       " 'Light Gold',\n",
       " 'Light blue',\n",
       " 'Light silver ',\n",
       " 'Magnetic Gray',\n",
       " 'Magnetic Gray Metallic',\n",
       " 'Maroon',\n",
       " 'Midnight Black Metal',\n",
       " 'Milk',\n",
       " 'Navy blue',\n",
       " 'Off white',\n",
       " 'Off white l',\n",
       " 'Pale brown',\n",
       " 'Purple',\n",
       " 'Red',\n",
       " 'Redl',\n",
       " 'SILVER',\n",
       " 'Silver',\n",
       " 'Silver ',\n",
       " 'Silver/grey',\n",
       " 'Sky blue',\n",
       " 'Skye blue',\n",
       " 'Sliver',\n",
       " 'Super White',\n",
       " 'WHITE',\n",
       " 'WINE',\n",
       " 'Whine ',\n",
       " 'White',\n",
       " 'White ',\n",
       " 'White orchild pearl',\n",
       " 'Wine',\n",
       " 'Yellow',\n",
       " 'blue',\n",
       " 'green',\n",
       " 'orange',\n",
       " 'red',\n",
       " 'white',\n",
       " 'white-blue',\n",
       " 'yellow']"
      ]
     },
     "execution_count": 39,
     "metadata": {},
     "output_type": "execute_result"
    }
   ],
   "source": [
    "sorted(train.paint.unique())"
   ]
  },
  {
   "cell_type": "code",
   "execution_count": 40,
   "id": "ab5f4ec3",
   "metadata": {},
   "outputs": [
    {
     "name": "stdout",
     "output_type": "stream",
     "text": [
      "train data에서 paint의 unique 카테고리 개수 :  51\n"
     ]
    }
   ],
   "source": [
    "import re \n",
    "\n",
    "def clean_text(texts): \n",
    "    corpus = [] \n",
    "    for i in range(0, len(texts)): \n",
    "        review = re.sub(r'[@%\\\\*=()/~#&\\+á?\\xc3\\xa1\\-\\|\\.\\:\\;\\!\\-\\,\\_\\~\\$\\'\\\"\\n\\]\\[\\>\\<]', '',texts[i]) #@%*=()/+ 와 같은 문장부호 제거\n",
    "        review = re.sub(r'\\d+','',review)#숫자 제거\n",
    "        review = review.lower() #소문자 변환\n",
    "        review = re.sub(r'\\s+', ' ', review) #extra space 제거\n",
    "        review = re.sub(r'<[^>]+>','',review) #Html tags 제거\n",
    "        review = re.sub(r'\\s+', ' ', review) #spaces 제거\n",
    "        review = re.sub(r\"^\\s+\", '', review) #space from start 제거\n",
    "        review = re.sub(r'\\s+$', '', review) #space from the end 제거\n",
    "        review = re.sub(r'_', ' ', review) #space from the end 제거\n",
    "        #review = re.sub(r'l', '', review)\n",
    "        corpus.append(review) \n",
    "        \n",
    "    return corpus\n",
    "\n",
    "temp = clean_text(train['paint']) #메소드 적용\n",
    "train['paint'] = temp\n",
    "print('train data에서 paint의 unique 카테고리 개수 : ', len(train['paint'].unique()))"
   ]
  },
  {
   "cell_type": "code",
   "execution_count": 41,
   "id": "2a68b403",
   "metadata": {},
   "outputs": [
    {
     "data": {
      "text/plain": [
       "['ash',\n",
       " 'ash and black',\n",
       " 'beige',\n",
       " 'black',\n",
       " 'black and silver',\n",
       " 'black sand pearl',\n",
       " 'blackred',\n",
       " 'blue',\n",
       " 'brown',\n",
       " 'cream',\n",
       " 'dark ash',\n",
       " 'dark blue',\n",
       " 'dark gray',\n",
       " 'dark green',\n",
       " 'dark grey',\n",
       " 'dark silver',\n",
       " 'deep blue',\n",
       " 'gery',\n",
       " 'gold',\n",
       " 'gray',\n",
       " 'green',\n",
       " 'grey',\n",
       " 'ink blue',\n",
       " 'light blue',\n",
       " 'light gold',\n",
       " 'light silver',\n",
       " 'magnetic gray',\n",
       " 'magnetic gray metallic',\n",
       " 'maroon',\n",
       " 'midnight black metal',\n",
       " 'milk',\n",
       " 'navy blue',\n",
       " 'off white',\n",
       " 'off white l',\n",
       " 'orange',\n",
       " 'pale brown',\n",
       " 'purple',\n",
       " 'red',\n",
       " 'redl',\n",
       " 'silver',\n",
       " 'silvergrey',\n",
       " 'sky blue',\n",
       " 'skye blue',\n",
       " 'sliver',\n",
       " 'super white',\n",
       " 'whine',\n",
       " 'white',\n",
       " 'white orchild pearl',\n",
       " 'whiteblue',\n",
       " 'wine',\n",
       " 'yellow']"
      ]
     },
     "execution_count": 41,
     "metadata": {},
     "output_type": "execute_result"
    }
   ],
   "source": [
    "sorted(train['paint'].unique())"
   ]
  },
  {
   "cell_type": "code",
   "execution_count": 42,
   "id": "085f9892",
   "metadata": {},
   "outputs": [],
   "source": [
    "train['paint'] = train['paint'] = train['paint'].apply(lambda x : 'blue' if x.find('blue') >= 0 else x)\n",
    "train['paint'] = train['paint'] = train['paint'].apply(lambda x : 'red' if x.find('red') >= 0 else x)\n",
    "train['paint'] = train['paint'] = train['paint'].apply(lambda x : 'green' if x.find('green') >= 0 else x)\n",
    "train['paint'] = train['paint'] = train['paint'].apply(lambda x : 'white' if x.find('white') >= 0 else x)\n",
    "train['paint'] = train['paint'] = train['paint'].apply(lambda x : 'grey' if x.find('grey') >= 0 else x)\n",
    "train['paint'] = train['paint'] = train['paint'].apply(lambda x : 'grey' if x.find('gery') >= 0 else x)\n",
    "train['paint'] = train['paint'] = train['paint'].apply(lambda x : 'grey' if x.find('gray') >= 0 else x)\n",
    "train['paint'] = train['paint'] = train['paint'].apply(lambda x : 'ash' if x.find('ash') >= 0 else x)\n",
    "train['paint'] = train['paint'] = train['paint'].apply(lambda x : 'brown' if x.find('brown') >= 0 else x)\n",
    "train['paint'] = train['paint'] = train['paint'].apply(lambda x : 'silver' if x.find('silver') >= 0 else x)\n",
    "train['paint'] = train['paint'] = train['paint'].apply(lambda x : 'silver' if x.find('sliver') >= 0 else x)\n",
    "train['paint'] = train['paint'] = train['paint'].apply(lambda x : 'black' if x.find('black') >= 0 else x)\n",
    "train['paint'] = train['paint'] = train['paint'].apply(lambda x : 'gold' if x.find('gold') >= 0 else x)\n",
    "train['paint'] = train['paint'] = train['paint'].apply(lambda x : 'wine' if x.find('whine') >= 0 else x)\n",
    "train['paint'] = train['paint'] = train['paint'].apply(lambda x : 'black' if x.find('blac') >= 0 else x)\n",
    "train['paint'] = train['paint'] = train['paint'].apply(lambda x : 'gold' if x.find('golf') >= 0 else x)"
   ]
  },
  {
   "cell_type": "code",
   "execution_count": 43,
   "id": "96c609d0",
   "metadata": {},
   "outputs": [
    {
     "data": {
      "text/plain": [
       "['ash',\n",
       " 'beige',\n",
       " 'black',\n",
       " 'blue',\n",
       " 'brown',\n",
       " 'cream',\n",
       " 'gold',\n",
       " 'green',\n",
       " 'grey',\n",
       " 'maroon',\n",
       " 'milk',\n",
       " 'orange',\n",
       " 'purple',\n",
       " 'red',\n",
       " 'silver',\n",
       " 'white',\n",
       " 'wine',\n",
       " 'yellow']"
      ]
     },
     "execution_count": 43,
     "metadata": {},
     "output_type": "execute_result"
    }
   ],
   "source": [
    "sorted(train['paint'].unique())"
   ]
  },
  {
   "cell_type": "code",
   "execution_count": 44,
   "id": "a2d15db1",
   "metadata": {},
   "outputs": [
    {
     "name": "stdout",
     "output_type": "stream",
     "text": [
      "test data에서 paint의 unique 카테고리 개수 :  30\n"
     ]
    }
   ],
   "source": [
    "temp2 = clean_text(test['paint'])\n",
    "test['paint'] = temp2\n",
    "print('test data에서 paint의 unique 카테고리 개수 : ', len(test['paint'].unique()))"
   ]
  },
  {
   "cell_type": "code",
   "execution_count": 45,
   "id": "891a9e77",
   "metadata": {},
   "outputs": [],
   "source": [
    "\n",
    "test['paint'] = test['paint'].apply(lambda x : 'blue' if x.find('blue') >= 0 else x)\n",
    "test['paint'] = test['paint'].apply(lambda x : 'red' if x.find('red') >= 0 else x)\n",
    "test['paint'] = test['paint'].apply(lambda x : 'green' if x.find('green') >= 0 else x)\n",
    "test['paint'] = test['paint'].apply(lambda x : 'white' if x.find('white') >= 0 else x)\n",
    "test['paint'] = test['paint'].apply(lambda x : 'grey' if x.find('grey') >= 0 else x)\n",
    "test['paint'] = test['paint'].apply(lambda x : 'grey' if x.find('gery') >= 0 else x)\n",
    "test['paint'] = test['paint'].apply(lambda x : 'grey' if x.find('gray') >= 0 else x)\n",
    "test['paint'] = test['paint'].apply(lambda x : 'ash' if x.find('ash') >= 0 else x)\n",
    "test['paint'] = test['paint'].apply(lambda x : 'brown' if x.find('brown') >= 0 else x)\n",
    "test['paint'] = test['paint'].apply(lambda x : 'silver' if x.find('silver') >= 0 else x)\n",
    "test['paint'] = test['paint'].apply(lambda x : 'silver' if x.find('sliver') >= 0 else x)\n",
    "test['paint'] = test['paint'].apply(lambda x : 'black' if x.find('black') >= 0 else x)\n",
    "test['paint'] = test['paint'].apply(lambda x : 'gold' if x.find('gold') >= 0 else x)\n",
    "test['paint'] = test['paint'].apply(lambda x : 'wine' if x.find('whine') >= 0 else x)\n",
    "test['paint'] = test['paint'].apply(lambda x : 'black' if x.find('blac') >= 0 else x)\n",
    "test['paint'] = test['paint'].apply(lambda x : 'gold' if x.find('golf') >= 0 else x)"
   ]
  },
  {
   "cell_type": "code",
   "execution_count": 46,
   "id": "6e0bc651",
   "metadata": {},
   "outputs": [
    {
     "data": {
      "text/plain": [
       "16"
      ]
     },
     "execution_count": 46,
     "metadata": {},
     "output_type": "execute_result"
    }
   ],
   "source": [
    "len(sorted(test['paint'].unique()))"
   ]
  },
  {
   "cell_type": "code",
   "execution_count": 47,
   "id": "be29124e",
   "metadata": {},
   "outputs": [],
   "source": [
    "train_year = set(train.year.unique()) - set(test.year.unique())\n",
    "test_year = set(test.year.unique()) - set(train.year.unique())\n"
   ]
  },
  {
   "cell_type": "code",
   "execution_count": 48,
   "id": "7682ace7",
   "metadata": {},
   "outputs": [
    {
     "data": {
      "text/plain": [
       "{1217, 1218, 1980, 1982, 1985, 1991, 1995}"
      ]
     },
     "execution_count": 48,
     "metadata": {},
     "output_type": "execute_result"
    }
   ],
   "source": [
    "train_year"
   ]
  },
  {
   "cell_type": "code",
   "execution_count": 49,
   "id": "caf3e32c",
   "metadata": {},
   "outputs": [
    {
     "data": {
      "text/plain": [
       "{1324, 1726, 1987, 1993, 2626}"
      ]
     },
     "execution_count": 49,
     "metadata": {},
     "output_type": "execute_result"
    }
   ],
   "source": [
    "test_year"
   ]
  },
  {
   "cell_type": "markdown",
   "id": "ad7ede0e",
   "metadata": {},
   "source": [
    "## 자료 비교"
   ]
  },
  {
   "cell_type": "code",
   "execution_count": 50,
   "id": "1c3ed71f",
   "metadata": {},
   "outputs": [
    {
     "name": "stdout",
     "output_type": "stream",
     "text": [
      "---- brand ----\n",
      "train 없는데, test 있는 brand\n",
      "['Fiat']\n",
      "test 없는데, train 있는 brand\n",
      "['Jaguar', 'Lincoln', 'Isuzu', 'IVM', 'Dodge', 'GMC', 'Scania', 'GAC', 'IVECO', 'MAN-VOLKSWAGEN', 'ALPINA', 'Bentley', 'JMC', 'Audi']\n",
      "---- isimported ----\n",
      "train 없는데, test 있는 isimported\n",
      "[]\n",
      "test 없는데, train 있는 isimported\n",
      "[]\n",
      "---- location ----\n",
      "train 없는데, test 있는 location\n",
      "['Mushin']\n",
      "test 없는데, train 있는 location\n",
      "['FCT', 'Accra', 'Adamawa']\n",
      "---- engine ----\n",
      "train 없는데, test 있는 engine\n",
      "['12-cylinder(V12)']\n",
      "test 없는데, train 있는 engine\n",
      "['4-cylinder(H4)']\n",
      "---- transmission ----\n",
      "train 없는데, test 있는 transmission\n",
      "[]\n",
      "test 없는데, train 있는 transmission\n",
      "[]\n",
      "---- fuel ----\n",
      "train 없는데, test 있는 fuel\n",
      "[]\n",
      "test 없는데, train 있는 fuel\n",
      "[]\n",
      "---- paint ----\n",
      "train 없는데, test 있는 paint\n",
      "['indigo ink pearl']\n",
      "test 없는데, train 있는 paint\n",
      "['purple', 'milk', 'orange']\n",
      "---- year ----\n",
      "train 없는데, test 있는 year\n",
      "[1993, 1987, 1324, 2626, 1726]\n",
      "test 없는데, train 있는 year\n",
      "[1995, 1985, 1991, 1218, 1982, 1217, 1980]\n"
     ]
    }
   ],
   "source": [
    "def difference(column, df_train, df_test):\n",
    "    print('---- {} ----'.format(column))\n",
    "    # train에 없는데, test에 있는 column\n",
    "    print('train 없는데, test 있는', column)\n",
    "    s = df_train[column].unique()\n",
    "    no_train = [x for x in df_test[column].unique() if x not in s] #순서 보존됨\n",
    "    print(no_train)\n",
    "\n",
    "    # test 없는데, train 있는 column\n",
    "    print('test 없는데, train 있는', column)\n",
    "    s = df_test[column].unique()\n",
    "    no_test = [x for x in df_train[column].unique() if x not in s] #순서 보존됨\n",
    "    print(no_test)\n",
    "\n",
    "difference('brand', train, test)\n",
    "difference('isimported', train, test)\n",
    "difference('location', train, test)\n",
    "difference('engine', train, test)\n",
    "difference('transmission', train, test)\n",
    "difference('fuel', train, test)\n",
    "difference('paint', train, test)\n",
    "difference('year', train, test)"
   ]
  },
  {
   "cell_type": "markdown",
   "id": "54d968d1",
   "metadata": {},
   "source": [
    "## 자료 가공"
   ]
  },
  {
   "cell_type": "code",
   "execution_count": 51,
   "id": "49fe62ce",
   "metadata": {},
   "outputs": [
    {
     "data": {
      "text/plain": [
       "{'ALPINA',\n",
       " 'Acura',\n",
       " 'Audi',\n",
       " 'BMW',\n",
       " 'Bentley',\n",
       " 'Chevrolet',\n",
       " 'DAF',\n",
       " 'Dodge',\n",
       " 'Fiat',\n",
       " 'Ford',\n",
       " 'GAC',\n",
       " 'GMC',\n",
       " 'Honda',\n",
       " 'Hyundai',\n",
       " 'IVECO',\n",
       " 'IVM',\n",
       " 'Infiniti',\n",
       " 'Isuzu',\n",
       " 'Iveco',\n",
       " 'JMC',\n",
       " 'Jaguar',\n",
       " 'Jeep',\n",
       " 'Kia',\n",
       " 'Land Rover',\n",
       " 'Lexus',\n",
       " 'Lincoln',\n",
       " 'MAN-VOLKSWAGEN',\n",
       " 'MINI',\n",
       " 'Mack',\n",
       " 'Man',\n",
       " 'Mazda',\n",
       " 'Mercedes-Benz',\n",
       " 'Mitsubishi',\n",
       " 'Nissan',\n",
       " 'Peugeot',\n",
       " 'Pontiac',\n",
       " 'Porsche',\n",
       " 'Rolls-Royce',\n",
       " 'Scania',\n",
       " 'Toyota',\n",
       " 'Volkswagen',\n",
       " 'Volvo'}"
      ]
     },
     "execution_count": 51,
     "metadata": {},
     "output_type": "execute_result"
    }
   ],
   "source": [
    "set(train.brand) | set(test.brand) # 합집합"
   ]
  },
  {
   "cell_type": "code",
   "execution_count": 52,
   "id": "7b5d14f3",
   "metadata": {},
   "outputs": [
    {
     "data": {
      "text/plain": [
       "{'Dodge': 0,\n",
       " 'Lincoln': 1,\n",
       " 'Audi': 2,\n",
       " 'MINI': 3,\n",
       " 'ALPINA': 4,\n",
       " 'Honda': 5,\n",
       " 'Porsche': 6,\n",
       " 'Volvo': 7,\n",
       " 'Jaguar': 8,\n",
       " 'Iveco': 9,\n",
       " 'GMC': 10,\n",
       " 'IVECO': 11,\n",
       " 'Bentley': 12,\n",
       " 'BMW': 13,\n",
       " 'Infiniti': 14,\n",
       " 'Hyundai': 15,\n",
       " 'Nissan': 16,\n",
       " 'Ford': 17,\n",
       " 'Mazda': 18,\n",
       " 'Mitsubishi': 19,\n",
       " 'Fiat': 20,\n",
       " 'GAC': 21,\n",
       " 'IVM': 22,\n",
       " 'Volkswagen': 23,\n",
       " 'MAN-VOLKSWAGEN': 24,\n",
       " 'DAF': 25,\n",
       " 'Land Rover': 26,\n",
       " 'Acura': 27,\n",
       " 'Scania': 28,\n",
       " 'Man': 29,\n",
       " 'Lexus': 30,\n",
       " 'Isuzu': 31,\n",
       " 'Kia': 32,\n",
       " 'Pontiac': 33,\n",
       " 'Toyota': 34,\n",
       " 'Jeep': 35,\n",
       " 'Mack': 36,\n",
       " 'JMC': 37,\n",
       " 'Mercedes-Benz': 38,\n",
       " 'Rolls-Royce': 39,\n",
       " 'Chevrolet': 40,\n",
       " 'Peugeot': 41}"
      ]
     },
     "execution_count": 52,
     "metadata": {},
     "output_type": "execute_result"
    }
   ],
   "source": [
    "brand_label = {_brand : label for label, _brand in enumerate(set(set(train.brand)|set(test.brand)))}\n",
    "brand_label\n",
    "# set 집합은 순서가 없음"
   ]
  },
  {
   "cell_type": "code",
   "execution_count": 53,
   "id": "2ebb26a1",
   "metadata": {},
   "outputs": [],
   "source": [
    "train['brand'] = train['brand'].replace(brand_label)\n",
    "test['brand'] = test['brand'].replace(brand_label)"
   ]
  },
  {
   "cell_type": "code",
   "execution_count": 54,
   "id": "fd20c2df",
   "metadata": {},
   "outputs": [
    {
     "data": {
      "text/plain": [
       "array([34, 26, 30, 33, 17,  5,  7, 13, 14, 38, 15,  8, 19, 16, 36, 40, 18,\n",
       "        1, 32, 23, 27, 25, 29, 31, 22,  6,  3,  0, 10,  9, 28, 21, 11, 41,\n",
       "       39, 24, 35,  4, 12, 37,  2], dtype=int64)"
      ]
     },
     "execution_count": 54,
     "metadata": {},
     "output_type": "execute_result"
    }
   ],
   "source": [
    "train['brand'].unique()"
   ]
  },
  {
   "cell_type": "code",
   "execution_count": 55,
   "id": "b943de45",
   "metadata": {},
   "outputs": [
    {
     "data": {
      "text/plain": [
       "0      38\n",
       "1       5\n",
       "2      38\n",
       "3      34\n",
       "4      34\n",
       "       ..\n",
       "431    38\n",
       "432     5\n",
       "433    38\n",
       "434    30\n",
       "435    34\n",
       "Name: brand, Length: 436, dtype: int64"
      ]
     },
     "execution_count": 55,
     "metadata": {},
     "output_type": "execute_result"
    }
   ],
   "source": [
    "test['brand']"
   ]
  },
  {
   "cell_type": "code",
   "execution_count": 56,
   "id": "f6adea7b",
   "metadata": {},
   "outputs": [
    {
     "data": {
      "text/plain": [
       "0       34\n",
       "1       34\n",
       "2       26\n",
       "3       30\n",
       "4       34\n",
       "        ..\n",
       "1010    34\n",
       "1011    34\n",
       "1012    34\n",
       "1013    30\n",
       "1014    25\n",
       "Name: brand, Length: 1015, dtype: int64"
      ]
     },
     "execution_count": 56,
     "metadata": {},
     "output_type": "execute_result"
    }
   ],
   "source": [
    "train['brand']"
   ]
  },
  {
   "cell_type": "code",
   "execution_count": 57,
   "id": "4eb04e12",
   "metadata": {},
   "outputs": [
    {
     "data": {
      "text/plain": [
       "{'ALPINA B3',\n",
       " 'Acura MDX',\n",
       " 'Acura RDX',\n",
       " 'Acura TL',\n",
       " 'Acura TSX',\n",
       " 'Acura ZDX',\n",
       " 'Audi S6',\n",
       " 'BMW 325',\n",
       " 'BMW 335',\n",
       " 'BMW 525',\n",
       " 'BMW 528',\n",
       " 'BMW 535',\n",
       " 'BMW 730',\n",
       " 'BMW 740',\n",
       " 'BMW 745',\n",
       " 'BMW 750',\n",
       " 'BMW X3',\n",
       " 'BMW X6',\n",
       " 'Bentley Arnage',\n",
       " 'Chevrolet Camaro',\n",
       " 'Chevrolet Evanda',\n",
       " 'Chevrolet Traverse',\n",
       " 'DAF 45',\n",
       " 'DAF 95XF TRACTOR HEAD',\n",
       " 'DAF CF',\n",
       " 'DAF FA 55. 180',\n",
       " 'DAF XF TRACTOR HEAD',\n",
       " 'Dodge Charger',\n",
       " 'Fiat Ducato',\n",
       " 'Ford Edge',\n",
       " 'Ford Escape',\n",
       " 'Ford Expedition',\n",
       " 'Ford Explorer',\n",
       " 'Ford F 150',\n",
       " 'Ford Focus',\n",
       " 'Ford Fusion',\n",
       " 'Ford Mondeo',\n",
       " 'Ford Mustang',\n",
       " 'Ford TRANSIT PICKUP',\n",
       " 'Ford Transit',\n",
       " 'GAC Gonow Other',\n",
       " 'GMC Terrain',\n",
       " 'Honda Accord',\n",
       " 'Honda CR-V',\n",
       " 'Honda Civic',\n",
       " 'Honda Crosstour',\n",
       " 'Honda Element',\n",
       " 'Honda Fit',\n",
       " 'Honda Insight',\n",
       " 'Honda Odyssey',\n",
       " 'Honda Pilot',\n",
       " 'Honda Ridgeline',\n",
       " 'Hyundai Azera',\n",
       " 'Hyundai Elantra',\n",
       " 'Hyundai Santa Fe',\n",
       " 'Hyundai Sonata',\n",
       " 'Hyundai Tucson',\n",
       " 'Hyundai ix35',\n",
       " 'IVECO EUROTECH 7.50E-16',\n",
       " 'IVM LT35',\n",
       " 'Infiniti FX',\n",
       " 'Infiniti JX',\n",
       " 'Infiniti M35',\n",
       " 'Infiniti QX80',\n",
       " 'Isuzu CABSTER',\n",
       " 'Isuzu NQR',\n",
       " 'Iveco EUROCARGO 120e18',\n",
       " 'Iveco TRUCK',\n",
       " 'JMC Vigus',\n",
       " 'Jaguar X-Type',\n",
       " 'Jaguar XJ8',\n",
       " 'Jeep Cherokee',\n",
       " 'Jeep Wrangler',\n",
       " 'Kia Cerato',\n",
       " 'Kia Optima',\n",
       " 'Kia Picanto',\n",
       " 'Kia Rio',\n",
       " 'Kia Sorento',\n",
       " 'Kia Soul',\n",
       " 'Kia Stinger',\n",
       " 'Land Rover Discovery',\n",
       " 'Land Rover Range Rover',\n",
       " 'Land Rover Range Rover Evoque',\n",
       " 'Land Rover Range Rover Sport',\n",
       " 'Land Rover Range Rover Velar',\n",
       " 'Lexus CT 200h',\n",
       " 'Lexus ES 300',\n",
       " 'Lexus ES 330',\n",
       " 'Lexus ES 350',\n",
       " 'Lexus GS 300',\n",
       " 'Lexus GS 350',\n",
       " 'Lexus GX 460',\n",
       " 'Lexus GX 470',\n",
       " 'Lexus IS 250',\n",
       " 'Lexus LS 460',\n",
       " 'Lexus LX 570',\n",
       " 'Lexus RX 300',\n",
       " 'Lexus RX 330',\n",
       " 'Lexus RX 350',\n",
       " 'Lexus RX 400',\n",
       " 'Lincoln Mark',\n",
       " 'MAN-VOLKSWAGEN FLATBED',\n",
       " 'MINI Cooper',\n",
       " 'MINI Cooper Countryman',\n",
       " 'MINI Cooper Coupé',\n",
       " 'Mack CH613',\n",
       " 'Mack CH613 CONVENTIONAL CAB',\n",
       " 'Mack CXN613',\n",
       " 'Mack CXN613 CAB BEHIND ENGINE',\n",
       " 'Mack R-686ST',\n",
       " 'Man 26-403',\n",
       " 'Man BOCKMANN',\n",
       " 'Man Diesel 19.314 FILT-N',\n",
       " 'Man LE 8. 180 PLATFORM TRUCK',\n",
       " 'Man TGA 18.360',\n",
       " 'Man Truck 18.44',\n",
       " 'Mazda 323',\n",
       " 'Mazda 6',\n",
       " 'Mazda CX-9',\n",
       " 'Mazda Tribute',\n",
       " 'Mercedes-Benz 200',\n",
       " 'Mercedes-Benz 220',\n",
       " 'Mercedes-Benz 300',\n",
       " 'Mercedes-Benz 320',\n",
       " 'Mercedes-Benz 350',\n",
       " 'Mercedes-Benz 450',\n",
       " 'Mercedes-Benz 709 DB',\n",
       " 'Mercedes-Benz 814',\n",
       " 'Mercedes-Benz ATEGO',\n",
       " 'Mercedes-Benz C 180',\n",
       " 'Mercedes-Benz C 250',\n",
       " 'Mercedes-Benz C 300',\n",
       " 'Mercedes-Benz C 320',\n",
       " 'Mercedes-Benz C 350',\n",
       " 'Mercedes-Benz C 450 AMG',\n",
       " 'Mercedes-Benz C 63 AMG',\n",
       " 'Mercedes-Benz CABIN PLUS CHASSIS ONLY',\n",
       " 'Mercedes-Benz CLA 250',\n",
       " 'Mercedes-Benz CLS 500',\n",
       " 'Mercedes-Benz DUMP TRUCK',\n",
       " 'Mercedes-Benz E 200',\n",
       " 'Mercedes-Benz E 300',\n",
       " 'Mercedes-Benz E 320',\n",
       " 'Mercedes-Benz E 350',\n",
       " 'Mercedes-Benz E 550',\n",
       " 'Mercedes-Benz G 550',\n",
       " 'Mercedes-Benz G 63 AMG',\n",
       " 'Mercedes-Benz GL 450',\n",
       " 'Mercedes-Benz GLA 180',\n",
       " 'Mercedes-Benz GLA 250',\n",
       " 'Mercedes-Benz GLC 300',\n",
       " 'Mercedes-Benz GLE 350',\n",
       " 'Mercedes-Benz GLE 43 AMG',\n",
       " 'Mercedes-Benz GLE 450',\n",
       " 'Mercedes-Benz GLK 300',\n",
       " 'Mercedes-Benz GLK 350',\n",
       " 'Mercedes-Benz ML 320',\n",
       " 'Mercedes-Benz ML 350',\n",
       " 'Mercedes-Benz ML 430',\n",
       " 'Mercedes-Benz Maybach',\n",
       " 'Mercedes-Benz S 450',\n",
       " 'Mercedes-Benz S 550',\n",
       " 'Mercedes-Benz SL 400',\n",
       " 'Mercedes-Benz WATER TANKER',\n",
       " 'Mercedes-Benz/52',\n",
       " 'Mitsubishi CANTER PICK UP',\n",
       " 'Mitsubishi Eclipse',\n",
       " 'Mitsubishi Galant',\n",
       " 'Mitsubishi L200',\n",
       " 'Mitsubishi Montero',\n",
       " 'Mitsubishi Pajero',\n",
       " 'Nissan A',\n",
       " 'Nissan Altima',\n",
       " 'Nissan Cabstar',\n",
       " 'Nissan Frontier',\n",
       " 'Nissan INFINITI M90.150/2',\n",
       " 'Nissan Maxima',\n",
       " 'Nissan Murano',\n",
       " 'Nissan Pathfinder',\n",
       " 'Nissan Primera',\n",
       " 'Nissan Quest',\n",
       " 'Nissan Rogue',\n",
       " 'Nissan Sentra',\n",
       " 'Nissan Titan',\n",
       " 'Nissan Versa',\n",
       " 'Nissan X-Trail',\n",
       " 'Nissan Xterra',\n",
       " 'Peugeot 206',\n",
       " 'Peugeot 307',\n",
       " 'Peugeot 308',\n",
       " 'Peugeot 607',\n",
       " 'Pontiac Vibe',\n",
       " 'Porsche Cayenne',\n",
       " 'Porsche Macan',\n",
       " 'Porsche Panamera',\n",
       " 'Rolls-Royce Ghost',\n",
       " 'Scania P94 FLATBED',\n",
       " 'Scania TRACTOR HEAD',\n",
       " 'Toyota 4-Runner',\n",
       " 'Toyota Avalon',\n",
       " 'Toyota Avensis',\n",
       " 'Toyota C-HR',\n",
       " 'Toyota Camry',\n",
       " 'Toyota Coaster',\n",
       " 'Toyota Corolla',\n",
       " 'Toyota DYNA 200',\n",
       " 'Toyota Dyna',\n",
       " 'Toyota Hiace',\n",
       " 'Toyota Highlander',\n",
       " 'Toyota Hilux',\n",
       " 'Toyota Land Cruiser',\n",
       " 'Toyota Matrix',\n",
       " 'Toyota Prado',\n",
       " 'Toyota Prius',\n",
       " 'Toyota RAV 4',\n",
       " 'Toyota Sequoia',\n",
       " 'Toyota Sienna',\n",
       " 'Toyota Solara',\n",
       " 'Toyota Tacoma',\n",
       " 'Toyota Tundra',\n",
       " 'Toyota Venza',\n",
       " 'Toyota Vitz',\n",
       " 'Toyota Yaris',\n",
       " 'Volkswagen 17.22',\n",
       " 'Volkswagen Golf',\n",
       " 'Volkswagen Jetta',\n",
       " 'Volkswagen LT',\n",
       " 'Volkswagen Passat',\n",
       " 'Volkswagen Sharan',\n",
       " 'Volkswagen T4 Caravelle',\n",
       " 'Volkswagen T6 other',\n",
       " 'Volkswagen Tiguan',\n",
       " 'Volkswagen Touareg',\n",
       " 'Volvo FH12',\n",
       " 'Volvo FL12',\n",
       " 'Volvo FL6',\n",
       " 'Volvo FL7',\n",
       " 'Volvo S80',\n",
       " 'Volvo XC60',\n",
       " 'Volvo XC90'}"
      ]
     },
     "execution_count": 57,
     "metadata": {},
     "output_type": "execute_result"
    }
   ],
   "source": [
    "car_title = pd.concat([train.title, test.title], ignore_index = True)\n",
    "car_title = set(car_title)\n",
    "car_title"
   ]
  },
  {
   "cell_type": "code",
   "execution_count": 58,
   "id": "8ec333e5",
   "metadata": {},
   "outputs": [
    {
     "data": {
      "text/plain": [
       "{'Ford Explorer': 0,\n",
       " 'Porsche Panamera': 1,\n",
       " 'Volkswagen LT': 2,\n",
       " 'Acura TSX': 3,\n",
       " 'Mercedes-Benz CLS 500': 4,\n",
       " 'Mercedes-Benz GLE 43 AMG': 5,\n",
       " 'Mercedes-Benz GLA 250': 6,\n",
       " 'DAF FA 55. 180': 7,\n",
       " 'Honda Civic': 8,\n",
       " 'Audi S6': 9,\n",
       " 'Mercedes-Benz C 320': 10,\n",
       " 'Toyota Prius': 11,\n",
       " 'Volkswagen T4 Caravelle': 12,\n",
       " 'Lexus RX 400': 13,\n",
       " 'Honda Pilot': 14,\n",
       " 'Kia Sorento': 15,\n",
       " 'Lexus GS 350': 16,\n",
       " 'Ford Fusion': 17,\n",
       " 'Nissan Frontier': 18,\n",
       " 'Volvo FL7': 19,\n",
       " 'Lexus ES 330': 20,\n",
       " 'Mercedes-Benz ML 350': 21,\n",
       " 'Mazda 323': 22,\n",
       " 'Toyota Corolla': 23,\n",
       " 'Nissan Primera': 24,\n",
       " 'Mazda 6': 25,\n",
       " 'Toyota Land Cruiser': 26,\n",
       " 'Fiat Ducato': 27,\n",
       " 'Lincoln Mark': 28,\n",
       " 'Rolls-Royce Ghost': 29,\n",
       " 'Lexus CT 200h': 30,\n",
       " 'Mack CH613 CONVENTIONAL CAB': 31,\n",
       " 'Volvo FL6': 32,\n",
       " 'Mercedes-Benz C 300': 33,\n",
       " 'Mercedes-Benz SL 400': 34,\n",
       " 'Lexus ES 350': 35,\n",
       " 'Jaguar X-Type': 36,\n",
       " 'Nissan Rogue': 37,\n",
       " 'Mercedes-Benz C 450 AMG': 38,\n",
       " 'Volkswagen Sharan': 39,\n",
       " 'Ford Transit': 40,\n",
       " 'Porsche Macan': 41,\n",
       " 'Mack CXN613': 42,\n",
       " 'MINI Cooper Countryman': 43,\n",
       " 'Mercedes-Benz GL 450': 44,\n",
       " 'Porsche Cayenne': 45,\n",
       " 'Mercedes-Benz C 63 AMG': 46,\n",
       " 'Mercedes-Benz GLK 350': 47,\n",
       " 'BMW 528': 48,\n",
       " 'MAN-VOLKSWAGEN FLATBED': 49,\n",
       " 'Volvo S80': 50,\n",
       " 'Toyota Hilux': 51,\n",
       " 'Mercedes-Benz 320': 52,\n",
       " 'JMC Vigus': 53,\n",
       " 'Ford TRANSIT PICKUP': 54,\n",
       " 'Mercedes-Benz G 550': 55,\n",
       " 'Mercedes-Benz DUMP TRUCK': 56,\n",
       " 'Mercedes-Benz E 300': 57,\n",
       " 'Isuzu NQR': 58,\n",
       " 'Mercedes-Benz 220': 59,\n",
       " 'Mercedes-Benz C 180': 60,\n",
       " 'BMW X6': 61,\n",
       " 'Mitsubishi CANTER PICK UP': 62,\n",
       " 'Nissan INFINITI M90.150/2': 63,\n",
       " 'Mercedes-Benz 200': 64,\n",
       " 'Toyota Camry': 65,\n",
       " 'Dodge Charger': 66,\n",
       " 'Kia Rio': 67,\n",
       " 'Toyota Avalon': 68,\n",
       " 'Mercedes-Benz GLA 180': 69,\n",
       " 'Jeep Cherokee': 70,\n",
       " 'Mercedes-Benz 450': 71,\n",
       " 'Lexus LX 570': 72,\n",
       " 'Ford F 150': 73,\n",
       " 'Land Rover Range Rover Evoque': 74,\n",
       " 'Mack CXN613 CAB BEHIND ENGINE': 75,\n",
       " 'Toyota Dyna': 76,\n",
       " 'Scania TRACTOR HEAD': 77,\n",
       " 'Acura RDX': 78,\n",
       " 'Land Rover Range Rover Sport': 79,\n",
       " 'IVM LT35': 80,\n",
       " 'Lexus RX 350': 81,\n",
       " 'Mercedes-Benz CLA 250': 82,\n",
       " 'Mazda Tribute': 83,\n",
       " 'Infiniti QX80': 84,\n",
       " 'Kia Cerato': 85,\n",
       " 'Man Diesel 19.314 FILT-N': 86,\n",
       " 'Peugeot 308': 87,\n",
       " 'Mercedes-Benz G 63 AMG': 88,\n",
       " 'Land Rover Discovery': 89,\n",
       " 'Mitsubishi Eclipse': 90,\n",
       " 'Honda Fit': 91,\n",
       " 'Honda CR-V': 92,\n",
       " 'BMW X3': 93,\n",
       " 'Mercedes-Benz E 350': 94,\n",
       " 'Mercedes-Benz E 200': 95,\n",
       " 'Lexus RX 330': 96,\n",
       " 'Mercedes-Benz GLE 350': 97,\n",
       " 'Nissan Sentra': 98,\n",
       " 'Honda Accord': 99,\n",
       " 'Hyundai Tucson': 100,\n",
       " 'Volvo FL12': 101,\n",
       " 'Mercedes-Benz GLE 450': 102,\n",
       " 'Chevrolet Evanda': 103,\n",
       " 'Mitsubishi Pajero': 104,\n",
       " 'Hyundai Elantra': 105,\n",
       " 'Toyota Solara': 106,\n",
       " 'Honda Odyssey': 107,\n",
       " 'Nissan X-Trail': 108,\n",
       " 'Mercedes-Benz E 550': 109,\n",
       " 'Toyota DYNA 200': 110,\n",
       " 'Mercedes-Benz CABIN PLUS CHASSIS ONLY': 111,\n",
       " 'DAF 95XF TRACTOR HEAD': 112,\n",
       " 'Peugeot 607': 113,\n",
       " 'Man Truck 18.44': 114,\n",
       " 'Kia Soul': 115,\n",
       " 'BMW 740': 116,\n",
       " 'DAF 45': 117,\n",
       " 'Mercedes-Benz 814': 118,\n",
       " 'Toyota Prado': 119,\n",
       " 'Nissan Titan': 120,\n",
       " 'Hyundai Azera': 121,\n",
       " 'Iveco TRUCK': 122,\n",
       " 'Peugeot 206': 123,\n",
       " 'BMW 335': 124,\n",
       " 'Volkswagen Touareg': 125,\n",
       " 'Volkswagen Jetta': 126,\n",
       " 'Mercedes-Benz ATEGO': 127,\n",
       " 'Scania P94 FLATBED': 128,\n",
       " 'Nissan A': 129,\n",
       " 'Honda Element': 130,\n",
       " 'Lexus IS 250': 131,\n",
       " 'Toyota C-HR': 132,\n",
       " 'Mercedes-Benz C 350': 133,\n",
       " 'Hyundai Santa Fe': 134,\n",
       " 'Mercedes-Benz Maybach': 135,\n",
       " 'Man BOCKMANN': 136,\n",
       " 'Ford Edge': 137,\n",
       " 'Volkswagen Golf': 138,\n",
       " 'Infiniti FX': 139,\n",
       " 'Peugeot 307': 140,\n",
       " 'Honda Ridgeline': 141,\n",
       " 'BMW 745': 142,\n",
       " 'Lexus RX 300': 143,\n",
       " 'Land Rover Range Rover': 144,\n",
       " 'Kia Optima': 145,\n",
       " 'Mercedes-Benz WATER TANKER': 146,\n",
       " 'Nissan Xterra': 147,\n",
       " 'GAC Gonow Other': 148,\n",
       " 'Volvo XC60': 149,\n",
       " 'DAF XF TRACTOR HEAD': 150,\n",
       " 'Toyota Vitz': 151,\n",
       " 'Hyundai Sonata': 152,\n",
       " 'IVECO EUROTECH 7.50E-16': 153,\n",
       " 'Acura TL': 154,\n",
       " 'Nissan Versa': 155,\n",
       " 'Jeep Wrangler': 156,\n",
       " 'Toyota Tacoma': 157,\n",
       " 'Mack R-686ST': 158,\n",
       " 'Toyota Yaris': 159,\n",
       " 'Chevrolet Traverse': 160,\n",
       " 'Toyota Avensis': 161,\n",
       " 'Lexus LS 460': 162,\n",
       " 'Mercedes-Benz/52': 163,\n",
       " 'MINI Cooper Coupé': 164,\n",
       " 'Lexus GX 460': 165,\n",
       " 'Ford Escape': 166,\n",
       " 'Mercedes-Benz GLC 300': 167,\n",
       " 'Volkswagen T6 other': 168,\n",
       " 'Toyota RAV 4': 169,\n",
       " 'Toyota Coaster': 170,\n",
       " 'Mercedes-Benz S 550': 171,\n",
       " 'Acura MDX': 172,\n",
       " 'Infiniti JX': 173,\n",
       " 'Toyota Sequoia': 174,\n",
       " 'Lexus GX 470': 175,\n",
       " 'DAF CF': 176,\n",
       " 'Mercedes-Benz S 450': 177,\n",
       " 'Mitsubishi Montero': 178,\n",
       " 'Kia Stinger': 179,\n",
       " 'Nissan Pathfinder': 180,\n",
       " 'Jaguar XJ8': 181,\n",
       " 'Honda Crosstour': 182,\n",
       " 'BMW 730': 183,\n",
       " 'Lexus ES 300': 184,\n",
       " 'BMW 325': 185,\n",
       " 'Volvo XC90': 186,\n",
       " 'Kia Picanto': 187,\n",
       " 'Volvo FH12': 188,\n",
       " 'Toyota Sienna': 189,\n",
       " 'Toyota Matrix': 190,\n",
       " 'Toyota Hiace': 191,\n",
       " 'Nissan Cabstar': 192,\n",
       " 'Acura ZDX': 193,\n",
       " 'Isuzu CABSTER': 194,\n",
       " 'Volkswagen 17.22': 195,\n",
       " 'Man LE 8. 180 PLATFORM TRUCK': 196,\n",
       " 'Volkswagen Tiguan': 197,\n",
       " 'Mercedes-Benz ML 430': 198,\n",
       " 'ALPINA B3': 199,\n",
       " 'Mitsubishi Galant': 200,\n",
       " 'Land Rover Range Rover Velar': 201,\n",
       " 'Pontiac Vibe': 202,\n",
       " 'Mercedes-Benz 350': 203,\n",
       " 'Toyota Tundra': 204,\n",
       " 'Mercedes-Benz ML 320': 205,\n",
       " 'MINI Cooper': 206,\n",
       " 'Man TGA 18.360': 207,\n",
       " 'Iveco EUROCARGO 120e18': 208,\n",
       " 'Mazda CX-9': 209,\n",
       " 'Nissan Maxima': 210,\n",
       " 'Volkswagen Passat': 211,\n",
       " 'Bentley Arnage': 212,\n",
       " 'Mitsubishi L200': 213,\n",
       " 'Toyota Venza': 214,\n",
       " 'Mercedes-Benz E 320': 215,\n",
       " 'Nissan Quest': 216,\n",
       " 'BMW 535': 217,\n",
       " 'Mercedes-Benz C 250': 218,\n",
       " 'Toyota Highlander': 219,\n",
       " 'Ford Expedition': 220,\n",
       " 'Honda Insight': 221,\n",
       " 'BMW 525': 222,\n",
       " 'Mack CH613': 223,\n",
       " 'Infiniti M35': 224,\n",
       " 'Ford Focus': 225,\n",
       " 'Nissan Murano': 226,\n",
       " 'Man 26-403': 227,\n",
       " 'Mercedes-Benz GLK 300': 228,\n",
       " 'GMC Terrain': 229,\n",
       " 'Nissan Altima': 230,\n",
       " 'BMW 750': 231,\n",
       " 'Mercedes-Benz 300': 232,\n",
       " 'Ford Mustang': 233,\n",
       " 'Chevrolet Camaro': 234,\n",
       " 'Lexus GS 300': 235,\n",
       " 'Mercedes-Benz 709 DB': 236,\n",
       " 'Ford Mondeo': 237,\n",
       " 'Toyota 4-Runner': 238,\n",
       " 'Hyundai ix35': 239}"
      ]
     },
     "execution_count": 58,
     "metadata": {},
     "output_type": "execute_result"
    }
   ],
   "source": [
    "car_title_label = {car_title : label for label, car_title in enumerate(car_title)}\n",
    "car_title_label"
   ]
  },
  {
   "cell_type": "code",
   "execution_count": 59,
   "id": "0e473afc",
   "metadata": {},
   "outputs": [],
   "source": [
    "train['title'] = train['title'].replace(car_title_label)\n",
    "test['title'] = test['title'].replace(car_title_label)"
   ]
  },
  {
   "cell_type": "code",
   "execution_count": 60,
   "id": "996ac784",
   "metadata": {},
   "outputs": [
    {
     "data": {
      "text/html": [
       "<div>\n",
       "<style scoped>\n",
       "    .dataframe tbody tr th:only-of-type {\n",
       "        vertical-align: middle;\n",
       "    }\n",
       "\n",
       "    .dataframe tbody tr th {\n",
       "        vertical-align: top;\n",
       "    }\n",
       "\n",
       "    .dataframe thead th {\n",
       "        text-align: right;\n",
       "    }\n",
       "</style>\n",
       "<table border=\"1\" class=\"dataframe\">\n",
       "  <thead>\n",
       "    <tr style=\"text-align: right;\">\n",
       "      <th></th>\n",
       "      <th>id</th>\n",
       "      <th>title</th>\n",
       "      <th>odometer</th>\n",
       "      <th>location</th>\n",
       "      <th>isimported</th>\n",
       "      <th>engine</th>\n",
       "      <th>transmission</th>\n",
       "      <th>fuel</th>\n",
       "      <th>paint</th>\n",
       "      <th>year</th>\n",
       "      <th>target</th>\n",
       "      <th>brand</th>\n",
       "    </tr>\n",
       "  </thead>\n",
       "  <tbody>\n",
       "    <tr>\n",
       "      <th>0</th>\n",
       "      <td>0</td>\n",
       "      <td>169</td>\n",
       "      <td>18277</td>\n",
       "      <td>Lagos</td>\n",
       "      <td>Foreign Used</td>\n",
       "      <td>4-cylinder(I4)</td>\n",
       "      <td>automatic</td>\n",
       "      <td>petrol</td>\n",
       "      <td>red</td>\n",
       "      <td>2016</td>\n",
       "      <td>13665000</td>\n",
       "      <td>34</td>\n",
       "    </tr>\n",
       "    <tr>\n",
       "      <th>1</th>\n",
       "      <td>1</td>\n",
       "      <td>26</td>\n",
       "      <td>10</td>\n",
       "      <td>Lagos</td>\n",
       "      <td>New</td>\n",
       "      <td>4-cylinder(I4)</td>\n",
       "      <td>automatic</td>\n",
       "      <td>petrol</td>\n",
       "      <td>black</td>\n",
       "      <td>2019</td>\n",
       "      <td>33015000</td>\n",
       "      <td>34</td>\n",
       "    </tr>\n",
       "    <tr>\n",
       "      <th>2</th>\n",
       "      <td>2</td>\n",
       "      <td>74</td>\n",
       "      <td>83091</td>\n",
       "      <td>Lagos</td>\n",
       "      <td>Foreign Used</td>\n",
       "      <td>6-cylinder(V6)</td>\n",
       "      <td>automatic</td>\n",
       "      <td>petrol</td>\n",
       "      <td>red</td>\n",
       "      <td>2012</td>\n",
       "      <td>9915000</td>\n",
       "      <td>26</td>\n",
       "    </tr>\n",
       "    <tr>\n",
       "      <th>3</th>\n",
       "      <td>3</td>\n",
       "      <td>35</td>\n",
       "      <td>91524</td>\n",
       "      <td>Lagos</td>\n",
       "      <td>Foreign Used</td>\n",
       "      <td>4-cylinder(I4)</td>\n",
       "      <td>automatic</td>\n",
       "      <td>petrol</td>\n",
       "      <td>grey</td>\n",
       "      <td>2007</td>\n",
       "      <td>3815000</td>\n",
       "      <td>30</td>\n",
       "    </tr>\n",
       "    <tr>\n",
       "      <th>4</th>\n",
       "      <td>4</td>\n",
       "      <td>214</td>\n",
       "      <td>94177</td>\n",
       "      <td>Lagos</td>\n",
       "      <td>Foreign Used</td>\n",
       "      <td>6-cylinder(V6)</td>\n",
       "      <td>automatic</td>\n",
       "      <td>petrol</td>\n",
       "      <td>red</td>\n",
       "      <td>2010</td>\n",
       "      <td>7385000</td>\n",
       "      <td>34</td>\n",
       "    </tr>\n",
       "  </tbody>\n",
       "</table>\n",
       "</div>"
      ],
      "text/plain": [
       "   id  title  odometer location    isimported          engine transmission  \\\n",
       "0   0    169     18277    Lagos  Foreign Used  4-cylinder(I4)    automatic   \n",
       "1   1     26        10    Lagos          New   4-cylinder(I4)    automatic   \n",
       "2   2     74     83091    Lagos  Foreign Used  6-cylinder(V6)    automatic   \n",
       "3   3     35     91524    Lagos  Foreign Used  4-cylinder(I4)    automatic   \n",
       "4   4    214     94177    Lagos  Foreign Used  6-cylinder(V6)    automatic   \n",
       "\n",
       "     fuel  paint  year    target  brand  \n",
       "0  petrol    red  2016  13665000     34  \n",
       "1  petrol  black  2019  33015000     34  \n",
       "2  petrol    red  2012   9915000     26  \n",
       "3  petrol   grey  2007   3815000     30  \n",
       "4  petrol    red  2010   7385000     34  "
      ]
     },
     "execution_count": 60,
     "metadata": {},
     "output_type": "execute_result"
    }
   ],
   "source": [
    "train.head(5)"
   ]
  },
  {
   "cell_type": "code",
   "execution_count": 61,
   "id": "01ac0358",
   "metadata": {},
   "outputs": [
    {
     "data": {
      "text/html": [
       "<div>\n",
       "<style scoped>\n",
       "    .dataframe tbody tr th:only-of-type {\n",
       "        vertical-align: middle;\n",
       "    }\n",
       "\n",
       "    .dataframe tbody tr th {\n",
       "        vertical-align: top;\n",
       "    }\n",
       "\n",
       "    .dataframe thead th {\n",
       "        text-align: right;\n",
       "    }\n",
       "</style>\n",
       "<table border=\"1\" class=\"dataframe\">\n",
       "  <thead>\n",
       "    <tr style=\"text-align: right;\">\n",
       "      <th></th>\n",
       "      <th>id</th>\n",
       "      <th>title</th>\n",
       "      <th>odometer</th>\n",
       "      <th>location</th>\n",
       "      <th>isimported</th>\n",
       "      <th>engine</th>\n",
       "      <th>transmission</th>\n",
       "      <th>fuel</th>\n",
       "      <th>paint</th>\n",
       "      <th>year</th>\n",
       "      <th>brand</th>\n",
       "    </tr>\n",
       "  </thead>\n",
       "  <tbody>\n",
       "    <tr>\n",
       "      <th>0</th>\n",
       "      <td>0</td>\n",
       "      <td>33</td>\n",
       "      <td>1234</td>\n",
       "      <td>Abuja</td>\n",
       "      <td>New</td>\n",
       "      <td>4-cylinder(I4)</td>\n",
       "      <td>automatic</td>\n",
       "      <td>petrol</td>\n",
       "      <td>white</td>\n",
       "      <td>2017</td>\n",
       "      <td>38</td>\n",
       "    </tr>\n",
       "  </tbody>\n",
       "</table>\n",
       "</div>"
      ],
      "text/plain": [
       "   id  title  odometer location isimported          engine transmission  \\\n",
       "0   0     33      1234    Abuja       New   4-cylinder(I4)    automatic   \n",
       "\n",
       "     fuel  paint  year  brand  \n",
       "0  petrol  white  2017     38  "
      ]
     },
     "execution_count": 61,
     "metadata": {},
     "output_type": "execute_result"
    }
   ],
   "source": [
    "test.head(1)"
   ]
  },
  {
   "cell_type": "code",
   "execution_count": 62,
   "id": "a7aab26c",
   "metadata": {},
   "outputs": [
    {
     "data": {
      "text/plain": [
       "array(['Lagos', 'Abuja', 'Ogun', 'FCT', 'Accra', 'other', 'Abia',\n",
       "       'Adamawa'], dtype=object)"
      ]
     },
     "execution_count": 62,
     "metadata": {},
     "output_type": "execute_result"
    }
   ],
   "source": [
    "train.location.unique()"
   ]
  },
  {
   "cell_type": "code",
   "execution_count": 63,
   "id": "cf077d2f",
   "metadata": {},
   "outputs": [
    {
     "data": {
      "text/plain": [
       "array(['Abuja', 'Lagos', 'Ogun', 'Mushin', 'other', 'Abia'], dtype=object)"
      ]
     },
     "execution_count": 63,
     "metadata": {},
     "output_type": "execute_result"
    }
   ],
   "source": [
    "test.location.unique()"
   ]
  },
  {
   "cell_type": "code",
   "execution_count": 64,
   "id": "fa23569e",
   "metadata": {},
   "outputs": [],
   "source": [
    "# Mushin은 Loagos와 연관있는 곳\n",
    "test['location'] = test['location'].str.replace('Mushin', 'Lagos') "
   ]
  },
  {
   "cell_type": "code",
   "execution_count": 65,
   "id": "4dfa2dcc",
   "metadata": {},
   "outputs": [
    {
     "data": {
      "text/plain": [
       "array(['Abuja', 'Lagos', 'Ogun', 'other', 'Abia'], dtype=object)"
      ]
     },
     "execution_count": 65,
     "metadata": {},
     "output_type": "execute_result"
    }
   ],
   "source": [
    "test.location.unique()"
   ]
  },
  {
   "cell_type": "code",
   "execution_count": 66,
   "id": "f34ab629",
   "metadata": {},
   "outputs": [
    {
     "name": "stdout",
     "output_type": "stream",
     "text": [
      "{'Accra', 'Ogun', 'Abia', 'Adamawa', 'Lagos', 'Abuja', 'other', 'FCT'}\n"
     ]
    }
   ],
   "source": [
    "location_label = set(train.location) | set(test.location) # 합집합\n",
    "print(location_label)"
   ]
  },
  {
   "cell_type": "code",
   "execution_count": 67,
   "id": "fb04ccf4",
   "metadata": {},
   "outputs": [],
   "source": [
    "location_label = {_location : label for label, _location in enumerate(set(pd.concat([train.location, test.location])))}\n",
    "\n",
    "train['location'] = train['location'].replace(location_label)\n",
    "test['location'] = test['location'].replace(location_label)"
   ]
  },
  {
   "cell_type": "code",
   "execution_count": 68,
   "id": "20fcf913",
   "metadata": {},
   "outputs": [
    {
     "data": {
      "text/plain": [
       "{'Accra': 0,\n",
       " 'Ogun': 1,\n",
       " 'Abia': 2,\n",
       " 'Adamawa': 3,\n",
       " 'Lagos': 4,\n",
       " 'Abuja': 5,\n",
       " 'other': 6,\n",
       " 'FCT': 7}"
      ]
     },
     "execution_count": 68,
     "metadata": {},
     "output_type": "execute_result"
    }
   ],
   "source": [
    "location_label"
   ]
  },
  {
   "cell_type": "code",
   "execution_count": 69,
   "id": "d7ec3eb1",
   "metadata": {},
   "outputs": [
    {
     "name": "stdout",
     "output_type": "stream",
     "text": [
      "18\n"
     ]
    },
    {
     "data": {
      "text/plain": [
       "16"
      ]
     },
     "execution_count": 69,
     "metadata": {},
     "output_type": "execute_result"
    }
   ],
   "source": [
    "print(len(train['paint'].unique()))\n",
    "len(test['paint'].unique())"
   ]
  },
  {
   "cell_type": "code",
   "execution_count": 70,
   "id": "510f2fbb",
   "metadata": {},
   "outputs": [],
   "source": [
    "paint_label = {_paint : label for label, _paint in enumerate(set(pd.concat([train.paint, test.paint])))}"
   ]
  },
  {
   "cell_type": "code",
   "execution_count": 71,
   "id": "c41355b8",
   "metadata": {},
   "outputs": [
    {
     "data": {
      "text/plain": [
       "{'orange': 0,\n",
       " 'green': 1,\n",
       " 'white': 2,\n",
       " 'grey': 3,\n",
       " 'gold': 4,\n",
       " 'blue': 5,\n",
       " 'ash': 6,\n",
       " 'silver': 7,\n",
       " 'beige': 8,\n",
       " 'purple': 9,\n",
       " 'indigo ink pearl': 10,\n",
       " 'maroon': 11,\n",
       " 'milk': 12,\n",
       " 'black': 13,\n",
       " 'brown': 14,\n",
       " 'red': 15,\n",
       " 'cream': 16,\n",
       " 'wine': 17,\n",
       " 'yellow': 18}"
      ]
     },
     "execution_count": 71,
     "metadata": {},
     "output_type": "execute_result"
    }
   ],
   "source": [
    "paint_label"
   ]
  },
  {
   "cell_type": "code",
   "execution_count": 72,
   "id": "6a9a0080",
   "metadata": {},
   "outputs": [],
   "source": [
    "train['paint'] = train['paint'].replace(paint_label)\n",
    "test['paint'] = test['paint'].replace(paint_label)"
   ]
  },
  {
   "cell_type": "code",
   "execution_count": 73,
   "id": "2f474037",
   "metadata": {},
   "outputs": [
    {
     "data": {
      "text/plain": [
       "{'12-cylinder(V12)', '4-cylinder(H4)'}"
      ]
     },
     "execution_count": 73,
     "metadata": {},
     "output_type": "execute_result"
    }
   ],
   "source": [
    "set(set(train.engine.unique()) | set(test.engine.unique())) - set(set(train.engine.unique()) & set(test.engine.unique()))"
   ]
  },
  {
   "cell_type": "code",
   "execution_count": 74,
   "id": "c7cd6724",
   "metadata": {},
   "outputs": [
    {
     "data": {
      "text/html": [
       "<div>\n",
       "<style scoped>\n",
       "    .dataframe tbody tr th:only-of-type {\n",
       "        vertical-align: middle;\n",
       "    }\n",
       "\n",
       "    .dataframe tbody tr th {\n",
       "        vertical-align: top;\n",
       "    }\n",
       "\n",
       "    .dataframe thead th {\n",
       "        text-align: right;\n",
       "    }\n",
       "</style>\n",
       "<table border=\"1\" class=\"dataframe\">\n",
       "  <thead>\n",
       "    <tr style=\"text-align: right;\">\n",
       "      <th></th>\n",
       "      <th>id</th>\n",
       "      <th>title</th>\n",
       "      <th>odometer</th>\n",
       "      <th>location</th>\n",
       "      <th>isimported</th>\n",
       "      <th>engine</th>\n",
       "      <th>transmission</th>\n",
       "      <th>fuel</th>\n",
       "      <th>paint</th>\n",
       "      <th>year</th>\n",
       "      <th>target</th>\n",
       "      <th>brand</th>\n",
       "    </tr>\n",
       "  </thead>\n",
       "  <tbody>\n",
       "    <tr>\n",
       "      <th>327</th>\n",
       "      <td>327</td>\n",
       "      <td>65</td>\n",
       "      <td>3656</td>\n",
       "      <td>5</td>\n",
       "      <td>Foreign Used</td>\n",
       "      <td>4-cylinder(H4)</td>\n",
       "      <td>automatic</td>\n",
       "      <td>petrol</td>\n",
       "      <td>7</td>\n",
       "      <td>2020</td>\n",
       "      <td>20015000</td>\n",
       "      <td>34</td>\n",
       "    </tr>\n",
       "    <tr>\n",
       "      <th>830</th>\n",
       "      <td>830</td>\n",
       "      <td>99</td>\n",
       "      <td>152229</td>\n",
       "      <td>4</td>\n",
       "      <td>Foreign Used</td>\n",
       "      <td>4-cylinder(H4)</td>\n",
       "      <td>automatic</td>\n",
       "      <td>petrol</td>\n",
       "      <td>3</td>\n",
       "      <td>2007</td>\n",
       "      <td>2765000</td>\n",
       "      <td>5</td>\n",
       "    </tr>\n",
       "  </tbody>\n",
       "</table>\n",
       "</div>"
      ],
      "text/plain": [
       "      id  title  odometer  location    isimported          engine  \\\n",
       "327  327     65      3656         5  Foreign Used  4-cylinder(H4)   \n",
       "830  830     99    152229         4  Foreign Used  4-cylinder(H4)   \n",
       "\n",
       "    transmission    fuel  paint  year    target  brand  \n",
       "327    automatic  petrol      7  2020  20015000     34  \n",
       "830    automatic  petrol      3  2007   2765000      5  "
      ]
     },
     "execution_count": 74,
     "metadata": {},
     "output_type": "execute_result"
    }
   ],
   "source": [
    "train[train.engine == '4-cylinder(H4)']"
   ]
  },
  {
   "cell_type": "code",
   "execution_count": 75,
   "id": "16d7d3ea",
   "metadata": {},
   "outputs": [],
   "source": [
    "train = train.replace({'4-cylinder(H4)' : '4-cylinder(I4)'})"
   ]
  },
  {
   "cell_type": "code",
   "execution_count": 76,
   "id": "4f07b6c4",
   "metadata": {},
   "outputs": [
    {
     "data": {
      "text/html": [
       "<div>\n",
       "<style scoped>\n",
       "    .dataframe tbody tr th:only-of-type {\n",
       "        vertical-align: middle;\n",
       "    }\n",
       "\n",
       "    .dataframe tbody tr th {\n",
       "        vertical-align: top;\n",
       "    }\n",
       "\n",
       "    .dataframe thead th {\n",
       "        text-align: right;\n",
       "    }\n",
       "</style>\n",
       "<table border=\"1\" class=\"dataframe\">\n",
       "  <thead>\n",
       "    <tr style=\"text-align: right;\">\n",
       "      <th></th>\n",
       "      <th>id</th>\n",
       "      <th>title</th>\n",
       "      <th>odometer</th>\n",
       "      <th>location</th>\n",
       "      <th>isimported</th>\n",
       "      <th>engine</th>\n",
       "      <th>transmission</th>\n",
       "      <th>fuel</th>\n",
       "      <th>paint</th>\n",
       "      <th>year</th>\n",
       "      <th>brand</th>\n",
       "    </tr>\n",
       "  </thead>\n",
       "  <tbody>\n",
       "    <tr>\n",
       "      <th>142</th>\n",
       "      <td>142</td>\n",
       "      <td>135</td>\n",
       "      <td>6758</td>\n",
       "      <td>4</td>\n",
       "      <td>New</td>\n",
       "      <td>12-cylinder(V12)</td>\n",
       "      <td>automatic</td>\n",
       "      <td>petrol</td>\n",
       "      <td>13</td>\n",
       "      <td>2019</td>\n",
       "      <td>38</td>\n",
       "    </tr>\n",
       "  </tbody>\n",
       "</table>\n",
       "</div>"
      ],
      "text/plain": [
       "      id  title  odometer  location isimported            engine transmission  \\\n",
       "142  142    135      6758         4       New   12-cylinder(V12)    automatic   \n",
       "\n",
       "       fuel  paint  year  brand  \n",
       "142  petrol     13  2019     38  "
      ]
     },
     "execution_count": 76,
     "metadata": {},
     "output_type": "execute_result"
    }
   ],
   "source": [
    "test[test.engine == '12-cylinder(V12)']"
   ]
  },
  {
   "cell_type": "code",
   "execution_count": 77,
   "id": "5496d9d5",
   "metadata": {},
   "outputs": [],
   "source": [
    "test = test.replace({'12-cylinder(V12)' : '8-cylinder(V8)'})"
   ]
  },
  {
   "cell_type": "code",
   "execution_count": 78,
   "id": "5642aff0",
   "metadata": {},
   "outputs": [
    {
     "data": {
      "text/html": [
       "<div>\n",
       "<style scoped>\n",
       "    .dataframe tbody tr th:only-of-type {\n",
       "        vertical-align: middle;\n",
       "    }\n",
       "\n",
       "    .dataframe tbody tr th {\n",
       "        vertical-align: top;\n",
       "    }\n",
       "\n",
       "    .dataframe thead th {\n",
       "        text-align: right;\n",
       "    }\n",
       "</style>\n",
       "<table border=\"1\" class=\"dataframe\">\n",
       "  <thead>\n",
       "    <tr style=\"text-align: right;\">\n",
       "      <th></th>\n",
       "      <th>id</th>\n",
       "      <th>title</th>\n",
       "      <th>odometer</th>\n",
       "      <th>location</th>\n",
       "      <th>isimported</th>\n",
       "      <th>engine</th>\n",
       "      <th>transmission</th>\n",
       "      <th>fuel</th>\n",
       "      <th>paint</th>\n",
       "      <th>year</th>\n",
       "      <th>brand</th>\n",
       "    </tr>\n",
       "  </thead>\n",
       "  <tbody>\n",
       "    <tr>\n",
       "      <th>142</th>\n",
       "      <td>142</td>\n",
       "      <td>135</td>\n",
       "      <td>6758</td>\n",
       "      <td>4</td>\n",
       "      <td>New</td>\n",
       "      <td>8-cylinder(V8)</td>\n",
       "      <td>automatic</td>\n",
       "      <td>petrol</td>\n",
       "      <td>13</td>\n",
       "      <td>2019</td>\n",
       "      <td>38</td>\n",
       "    </tr>\n",
       "  </tbody>\n",
       "</table>\n",
       "</div>"
      ],
      "text/plain": [
       "      id  title  odometer  location isimported          engine transmission  \\\n",
       "142  142    135      6758         4       New   8-cylinder(V8)    automatic   \n",
       "\n",
       "       fuel  paint  year  brand  \n",
       "142  petrol     13  2019     38  "
      ]
     },
     "execution_count": 78,
     "metadata": {},
     "output_type": "execute_result"
    }
   ],
   "source": [
    "test.iloc[[142]]"
   ]
  },
  {
   "cell_type": "code",
   "execution_count": 79,
   "id": "82ee3d8d",
   "metadata": {},
   "outputs": [
    {
     "data": {
      "text/plain": [
       "{'3-cylinder(I3)': 0,\n",
       " '6-cylinder(I6)': 1,\n",
       " '4-cylinder(I4)': 2,\n",
       " '8-cylinder(V8)': 3,\n",
       " '5-cylinder(I5)': 4,\n",
       " '2-cylinder(I2)': 5,\n",
       " '6-cylinder(V6)': 6}"
      ]
     },
     "execution_count": 79,
     "metadata": {},
     "output_type": "execute_result"
    }
   ],
   "source": [
    "engine_label = {_engine : label for label, _engine in enumerate(set(pd.concat([train.engine, test.engine])))}\n",
    "engine_label"
   ]
  },
  {
   "cell_type": "code",
   "execution_count": 80,
   "id": "85dc0615",
   "metadata": {},
   "outputs": [],
   "source": [
    "train = train.replace(engine_label)\n",
    "test = test.replace(engine_label)"
   ]
  },
  {
   "cell_type": "code",
   "execution_count": 81,
   "id": "608a6323",
   "metadata": {},
   "outputs": [],
   "source": [
    "train['year'] = train['year'].replace([1218, 1217], [2010, 2010])\n",
    "test['year'] = test['year'].replace([1324, 1726, 2626], [2010, 2010, 2020])"
   ]
  },
  {
   "cell_type": "code",
   "execution_count": 82,
   "id": "c333843d",
   "metadata": {},
   "outputs": [],
   "source": [
    "isimported_label = {'Foreign Used': 0, 'Locally used' : 1, 'New ' : 2}\n",
    "transmission_label = {'automatic' : 0, 'manual' : 1}\n",
    "fuel_label = {'petrol' : 0, 'diesel' : 1}"
   ]
  },
  {
   "cell_type": "code",
   "execution_count": 83,
   "id": "a6fc9a65",
   "metadata": {},
   "outputs": [],
   "source": [
    "train['isimported'] = train['isimported'].replace(isimported_label)\n",
    "test['isimported'] = test['isimported'].replace(isimported_label)\n",
    "\n",
    "train['transmission'] = train['transmission'].replace(transmission_label)\n",
    "test['transmission'] = test['transmission'].replace(transmission_label)\n",
    "\n",
    "train['fuel'] = train['fuel'].replace(fuel_label)\n",
    "test['fuel'] = test['fuel'].replace(fuel_label)"
   ]
  },
  {
   "cell_type": "markdown",
   "id": "61e2967b",
   "metadata": {},
   "source": [
    "## 추가 컬럼"
   ]
  },
  {
   "cell_type": "code",
   "execution_count": null,
   "id": "056c37c0",
   "metadata": {},
   "outputs": [],
   "source": []
  },
  {
   "cell_type": "markdown",
   "id": "ae5c4a0f",
   "metadata": {},
   "source": [
    "## 데이터 변환 최종 점검"
   ]
  },
  {
   "cell_type": "code",
   "execution_count": 84,
   "id": "858ce331",
   "metadata": {},
   "outputs": [
    {
     "data": {
      "text/html": [
       "<div>\n",
       "<style scoped>\n",
       "    .dataframe tbody tr th:only-of-type {\n",
       "        vertical-align: middle;\n",
       "    }\n",
       "\n",
       "    .dataframe tbody tr th {\n",
       "        vertical-align: top;\n",
       "    }\n",
       "\n",
       "    .dataframe thead th {\n",
       "        text-align: right;\n",
       "    }\n",
       "</style>\n",
       "<table border=\"1\" class=\"dataframe\">\n",
       "  <thead>\n",
       "    <tr style=\"text-align: right;\">\n",
       "      <th></th>\n",
       "      <th>id</th>\n",
       "      <th>title</th>\n",
       "      <th>odometer</th>\n",
       "      <th>location</th>\n",
       "      <th>isimported</th>\n",
       "      <th>engine</th>\n",
       "      <th>transmission</th>\n",
       "      <th>fuel</th>\n",
       "      <th>paint</th>\n",
       "      <th>year</th>\n",
       "      <th>target</th>\n",
       "      <th>brand</th>\n",
       "    </tr>\n",
       "  </thead>\n",
       "  <tbody>\n",
       "    <tr>\n",
       "      <th>0</th>\n",
       "      <td>0</td>\n",
       "      <td>169</td>\n",
       "      <td>18277</td>\n",
       "      <td>4</td>\n",
       "      <td>0</td>\n",
       "      <td>2</td>\n",
       "      <td>0</td>\n",
       "      <td>0</td>\n",
       "      <td>15</td>\n",
       "      <td>2016</td>\n",
       "      <td>13665000</td>\n",
       "      <td>34</td>\n",
       "    </tr>\n",
       "    <tr>\n",
       "      <th>1</th>\n",
       "      <td>1</td>\n",
       "      <td>26</td>\n",
       "      <td>10</td>\n",
       "      <td>4</td>\n",
       "      <td>2</td>\n",
       "      <td>2</td>\n",
       "      <td>0</td>\n",
       "      <td>0</td>\n",
       "      <td>13</td>\n",
       "      <td>2019</td>\n",
       "      <td>33015000</td>\n",
       "      <td>34</td>\n",
       "    </tr>\n",
       "    <tr>\n",
       "      <th>2</th>\n",
       "      <td>2</td>\n",
       "      <td>74</td>\n",
       "      <td>83091</td>\n",
       "      <td>4</td>\n",
       "      <td>0</td>\n",
       "      <td>6</td>\n",
       "      <td>0</td>\n",
       "      <td>0</td>\n",
       "      <td>15</td>\n",
       "      <td>2012</td>\n",
       "      <td>9915000</td>\n",
       "      <td>26</td>\n",
       "    </tr>\n",
       "    <tr>\n",
       "      <th>3</th>\n",
       "      <td>3</td>\n",
       "      <td>35</td>\n",
       "      <td>91524</td>\n",
       "      <td>4</td>\n",
       "      <td>0</td>\n",
       "      <td>2</td>\n",
       "      <td>0</td>\n",
       "      <td>0</td>\n",
       "      <td>3</td>\n",
       "      <td>2007</td>\n",
       "      <td>3815000</td>\n",
       "      <td>30</td>\n",
       "    </tr>\n",
       "    <tr>\n",
       "      <th>4</th>\n",
       "      <td>4</td>\n",
       "      <td>214</td>\n",
       "      <td>94177</td>\n",
       "      <td>4</td>\n",
       "      <td>0</td>\n",
       "      <td>6</td>\n",
       "      <td>0</td>\n",
       "      <td>0</td>\n",
       "      <td>15</td>\n",
       "      <td>2010</td>\n",
       "      <td>7385000</td>\n",
       "      <td>34</td>\n",
       "    </tr>\n",
       "  </tbody>\n",
       "</table>\n",
       "</div>"
      ],
      "text/plain": [
       "   id  title  odometer  location  isimported  engine  transmission  fuel  \\\n",
       "0   0    169     18277         4           0       2             0     0   \n",
       "1   1     26        10         4           2       2             0     0   \n",
       "2   2     74     83091         4           0       6             0     0   \n",
       "3   3     35     91524         4           0       2             0     0   \n",
       "4   4    214     94177         4           0       6             0     0   \n",
       "\n",
       "   paint  year    target  brand  \n",
       "0     15  2016  13665000     34  \n",
       "1     13  2019  33015000     34  \n",
       "2     15  2012   9915000     26  \n",
       "3      3  2007   3815000     30  \n",
       "4     15  2010   7385000     34  "
      ]
     },
     "metadata": {},
     "output_type": "display_data"
    },
    {
     "name": "stdout",
     "output_type": "stream",
     "text": [
      "<class 'pandas.core.frame.DataFrame'>\n",
      "RangeIndex: 1015 entries, 0 to 1014\n",
      "Data columns (total 12 columns):\n",
      " #   Column        Non-Null Count  Dtype\n",
      "---  ------        --------------  -----\n",
      " 0   id            1015 non-null   int64\n",
      " 1   title         1015 non-null   int64\n",
      " 2   odometer      1015 non-null   int64\n",
      " 3   location      1015 non-null   int64\n",
      " 4   isimported    1015 non-null   int64\n",
      " 5   engine        1015 non-null   int64\n",
      " 6   transmission  1015 non-null   int64\n",
      " 7   fuel          1015 non-null   int64\n",
      " 8   paint         1015 non-null   int64\n",
      " 9   year          1015 non-null   int64\n",
      " 10  target        1015 non-null   int64\n",
      " 11  brand         1015 non-null   int64\n",
      "dtypes: int64(12)\n",
      "memory usage: 95.3 KB\n"
     ]
    }
   ],
   "source": [
    "# object가 나오면 안된다. 모두 정수형, float형이어야 한다.\n",
    "display(train.head())\n",
    "train.info()"
   ]
  },
  {
   "cell_type": "code",
   "execution_count": 85,
   "id": "f1738b9b",
   "metadata": {},
   "outputs": [
    {
     "data": {
      "text/html": [
       "<div>\n",
       "<style scoped>\n",
       "    .dataframe tbody tr th:only-of-type {\n",
       "        vertical-align: middle;\n",
       "    }\n",
       "\n",
       "    .dataframe tbody tr th {\n",
       "        vertical-align: top;\n",
       "    }\n",
       "\n",
       "    .dataframe thead th {\n",
       "        text-align: right;\n",
       "    }\n",
       "</style>\n",
       "<table border=\"1\" class=\"dataframe\">\n",
       "  <thead>\n",
       "    <tr style=\"text-align: right;\">\n",
       "      <th></th>\n",
       "      <th>id</th>\n",
       "      <th>title</th>\n",
       "      <th>odometer</th>\n",
       "      <th>location</th>\n",
       "      <th>isimported</th>\n",
       "      <th>engine</th>\n",
       "      <th>transmission</th>\n",
       "      <th>fuel</th>\n",
       "      <th>paint</th>\n",
       "      <th>year</th>\n",
       "      <th>brand</th>\n",
       "    </tr>\n",
       "  </thead>\n",
       "  <tbody>\n",
       "    <tr>\n",
       "      <th>0</th>\n",
       "      <td>0</td>\n",
       "      <td>33</td>\n",
       "      <td>1234</td>\n",
       "      <td>5</td>\n",
       "      <td>2</td>\n",
       "      <td>2</td>\n",
       "      <td>0</td>\n",
       "      <td>0</td>\n",
       "      <td>2</td>\n",
       "      <td>2017</td>\n",
       "      <td>38</td>\n",
       "    </tr>\n",
       "    <tr>\n",
       "      <th>1</th>\n",
       "      <td>1</td>\n",
       "      <td>99</td>\n",
       "      <td>29938</td>\n",
       "      <td>5</td>\n",
       "      <td>0</td>\n",
       "      <td>2</td>\n",
       "      <td>0</td>\n",
       "      <td>0</td>\n",
       "      <td>2</td>\n",
       "      <td>2013</td>\n",
       "      <td>5</td>\n",
       "    </tr>\n",
       "    <tr>\n",
       "      <th>2</th>\n",
       "      <td>2</td>\n",
       "      <td>171</td>\n",
       "      <td>87501</td>\n",
       "      <td>4</td>\n",
       "      <td>0</td>\n",
       "      <td>2</td>\n",
       "      <td>0</td>\n",
       "      <td>0</td>\n",
       "      <td>13</td>\n",
       "      <td>2012</td>\n",
       "      <td>38</td>\n",
       "    </tr>\n",
       "    <tr>\n",
       "      <th>3</th>\n",
       "      <td>3</td>\n",
       "      <td>189</td>\n",
       "      <td>180894</td>\n",
       "      <td>4</td>\n",
       "      <td>1</td>\n",
       "      <td>6</td>\n",
       "      <td>0</td>\n",
       "      <td>0</td>\n",
       "      <td>3</td>\n",
       "      <td>2001</td>\n",
       "      <td>34</td>\n",
       "    </tr>\n",
       "    <tr>\n",
       "      <th>4</th>\n",
       "      <td>4</td>\n",
       "      <td>191</td>\n",
       "      <td>104814</td>\n",
       "      <td>4</td>\n",
       "      <td>0</td>\n",
       "      <td>2</td>\n",
       "      <td>0</td>\n",
       "      <td>0</td>\n",
       "      <td>2</td>\n",
       "      <td>2000</td>\n",
       "      <td>34</td>\n",
       "    </tr>\n",
       "  </tbody>\n",
       "</table>\n",
       "</div>"
      ],
      "text/plain": [
       "   id  title  odometer  location  isimported  engine  transmission  fuel  \\\n",
       "0   0     33      1234         5           2       2             0     0   \n",
       "1   1     99     29938         5           0       2             0     0   \n",
       "2   2    171     87501         4           0       2             0     0   \n",
       "3   3    189    180894         4           1       6             0     0   \n",
       "4   4    191    104814         4           0       2             0     0   \n",
       "\n",
       "   paint  year  brand  \n",
       "0      2  2017     38  \n",
       "1      2  2013      5  \n",
       "2     13  2012     38  \n",
       "3      3  2001     34  \n",
       "4      2  2000     34  "
      ]
     },
     "metadata": {},
     "output_type": "display_data"
    },
    {
     "name": "stdout",
     "output_type": "stream",
     "text": [
      "<class 'pandas.core.frame.DataFrame'>\n",
      "RangeIndex: 436 entries, 0 to 435\n",
      "Data columns (total 11 columns):\n",
      " #   Column        Non-Null Count  Dtype\n",
      "---  ------        --------------  -----\n",
      " 0   id            436 non-null    int64\n",
      " 1   title         436 non-null    int64\n",
      " 2   odometer      436 non-null    int64\n",
      " 3   location      436 non-null    int64\n",
      " 4   isimported    436 non-null    int64\n",
      " 5   engine        436 non-null    int64\n",
      " 6   transmission  436 non-null    int64\n",
      " 7   fuel          436 non-null    int64\n",
      " 8   paint         436 non-null    int64\n",
      " 9   year          436 non-null    int64\n",
      " 10  brand         436 non-null    int64\n",
      "dtypes: int64(11)\n",
      "memory usage: 37.6 KB\n"
     ]
    }
   ],
   "source": [
    "display(test.head())\n",
    "test.info()"
   ]
  },
  {
   "cell_type": "code",
   "execution_count": null,
   "id": "3ab1ea93",
   "metadata": {},
   "outputs": [],
   "source": []
  },
  {
   "cell_type": "code",
   "execution_count": 86,
   "id": "a528effb",
   "metadata": {},
   "outputs": [
    {
     "data": {
      "text/plain": [
       "1015"
      ]
     },
     "execution_count": 86,
     "metadata": {},
     "output_type": "execute_result"
    }
   ],
   "source": [
    "len(train)"
   ]
  },
  {
   "cell_type": "markdown",
   "id": "e24ef05d",
   "metadata": {},
   "source": [
    "## 모델 사용"
   ]
  },
  {
   "cell_type": "code",
   "execution_count": 87,
   "id": "2d1d1834",
   "metadata": {},
   "outputs": [],
   "source": [
    "from sklearn.linear_model import LinearRegression\n",
    "\n",
    "model = LinearRegression()"
   ]
  },
  {
   "cell_type": "code",
   "execution_count": 88,
   "id": "53609454",
   "metadata": {},
   "outputs": [],
   "source": [
    "\n",
    "train_X = train.drop(['id', 'target'], axis = 1)\n",
    "train_y = train.target\n",
    "\n",
    "test_X = test.drop(['id'], axis = 1)"
   ]
  },
  {
   "cell_type": "code",
   "execution_count": 89,
   "id": "149fb0a3",
   "metadata": {},
   "outputs": [
    {
     "data": {
      "text/plain": [
       "LinearRegression()"
      ]
     },
     "execution_count": 89,
     "metadata": {},
     "output_type": "execute_result"
    }
   ],
   "source": [
    "model.fit(train_X, train_y)"
   ]
  },
  {
   "cell_type": "code",
   "execution_count": 90,
   "id": "1a80cca5",
   "metadata": {},
   "outputs": [],
   "source": [
    "pred = model.predict(test_X)"
   ]
  },
  {
   "cell_type": "code",
   "execution_count": 91,
   "id": "598e4451",
   "metadata": {},
   "outputs": [
    {
     "data": {
      "text/html": [
       "<div>\n",
       "<style scoped>\n",
       "    .dataframe tbody tr th:only-of-type {\n",
       "        vertical-align: middle;\n",
       "    }\n",
       "\n",
       "    .dataframe tbody tr th {\n",
       "        vertical-align: top;\n",
       "    }\n",
       "\n",
       "    .dataframe thead th {\n",
       "        text-align: right;\n",
       "    }\n",
       "</style>\n",
       "<table border=\"1\" class=\"dataframe\">\n",
       "  <thead>\n",
       "    <tr style=\"text-align: right;\">\n",
       "      <th></th>\n",
       "      <th>id</th>\n",
       "      <th>target</th>\n",
       "    </tr>\n",
       "  </thead>\n",
       "  <tbody>\n",
       "    <tr>\n",
       "      <th>0</th>\n",
       "      <td>0</td>\n",
       "      <td>2.445607e+07</td>\n",
       "    </tr>\n",
       "    <tr>\n",
       "      <th>1</th>\n",
       "      <td>1</td>\n",
       "      <td>8.540625e+06</td>\n",
       "    </tr>\n",
       "    <tr>\n",
       "      <th>2</th>\n",
       "      <td>2</td>\n",
       "      <td>1.012833e+07</td>\n",
       "    </tr>\n",
       "    <tr>\n",
       "      <th>3</th>\n",
       "      <td>3</td>\n",
       "      <td>1.061321e+06</td>\n",
       "    </tr>\n",
       "    <tr>\n",
       "      <th>4</th>\n",
       "      <td>4</td>\n",
       "      <td>-4.671270e+06</td>\n",
       "    </tr>\n",
       "    <tr>\n",
       "      <th>...</th>\n",
       "      <td>...</td>\n",
       "      <td>...</td>\n",
       "    </tr>\n",
       "    <tr>\n",
       "      <th>431</th>\n",
       "      <td>431</td>\n",
       "      <td>1.328703e+07</td>\n",
       "    </tr>\n",
       "    <tr>\n",
       "      <th>432</th>\n",
       "      <td>432</td>\n",
       "      <td>6.793928e+06</td>\n",
       "    </tr>\n",
       "    <tr>\n",
       "      <th>433</th>\n",
       "      <td>433</td>\n",
       "      <td>1.100718e+07</td>\n",
       "    </tr>\n",
       "    <tr>\n",
       "      <th>434</th>\n",
       "      <td>434</td>\n",
       "      <td>-1.427151e+06</td>\n",
       "    </tr>\n",
       "    <tr>\n",
       "      <th>435</th>\n",
       "      <td>435</td>\n",
       "      <td>4.556675e+06</td>\n",
       "    </tr>\n",
       "  </tbody>\n",
       "</table>\n",
       "<p>436 rows × 2 columns</p>\n",
       "</div>"
      ],
      "text/plain": [
       "      id        target\n",
       "0      0  2.445607e+07\n",
       "1      1  8.540625e+06\n",
       "2      2  1.012833e+07\n",
       "3      3  1.061321e+06\n",
       "4      4 -4.671270e+06\n",
       "..   ...           ...\n",
       "431  431  1.328703e+07\n",
       "432  432  6.793928e+06\n",
       "433  433  1.100718e+07\n",
       "434  434 -1.427151e+06\n",
       "435  435  4.556675e+06\n",
       "\n",
       "[436 rows x 2 columns]"
      ]
     },
     "execution_count": 91,
     "metadata": {},
     "output_type": "execute_result"
    }
   ],
   "source": [
    "\n",
    "submission = sample_submission.copy()\n",
    "submission.target = pred\n",
    "submission"
   ]
  },
  {
   "cell_type": "code",
   "execution_count": 92,
   "id": "cfb91c51",
   "metadata": {},
   "outputs": [],
   "source": [
    "submission.to_csv('./resalecar/submission.csv', index = False)"
   ]
  },
  {
   "cell_type": "code",
   "execution_count": 93,
   "id": "6a34954e",
   "metadata": {},
   "outputs": [],
   "source": [
    "from sklearn.linear_model import LogisticRegression"
   ]
  },
  {
   "cell_type": "code",
   "execution_count": 94,
   "id": "38892e71",
   "metadata": {},
   "outputs": [
    {
     "name": "stderr",
     "output_type": "stream",
     "text": [
      "C:\\Users\\sangt\\anaconda3\\lib\\site-packages\\sklearn\\linear_model\\_logistic.py:763: ConvergenceWarning: lbfgs failed to converge (status=1):\n",
      "STOP: TOTAL NO. of ITERATIONS REACHED LIMIT.\n",
      "\n",
      "Increase the number of iterations (max_iter) or scale the data as shown in:\n",
      "    https://scikit-learn.org/stable/modules/preprocessing.html\n",
      "Please also refer to the documentation for alternative solver options:\n",
      "    https://scikit-learn.org/stable/modules/linear_model.html#logistic-regression\n",
      "  n_iter_i = _check_optimize_result(\n"
     ]
    },
    {
     "data": {
      "text/plain": [
       "LogisticRegression()"
      ]
     },
     "execution_count": 94,
     "metadata": {},
     "output_type": "execute_result"
    }
   ],
   "source": [
    "model = LogisticRegression()\n",
    "model.fit(train_X, train_y)"
   ]
  },
  {
   "cell_type": "code",
   "execution_count": 95,
   "id": "e09b89d7",
   "metadata": {},
   "outputs": [],
   "source": [
    "pred = model.predict(test_X)"
   ]
  },
  {
   "cell_type": "code",
   "execution_count": 96,
   "id": "9be98797",
   "metadata": {},
   "outputs": [
    {
     "data": {
      "text/html": [
       "<div>\n",
       "<style scoped>\n",
       "    .dataframe tbody tr th:only-of-type {\n",
       "        vertical-align: middle;\n",
       "    }\n",
       "\n",
       "    .dataframe tbody tr th {\n",
       "        vertical-align: top;\n",
       "    }\n",
       "\n",
       "    .dataframe thead th {\n",
       "        text-align: right;\n",
       "    }\n",
       "</style>\n",
       "<table border=\"1\" class=\"dataframe\">\n",
       "  <thead>\n",
       "    <tr style=\"text-align: right;\">\n",
       "      <th></th>\n",
       "      <th>id</th>\n",
       "      <th>target</th>\n",
       "    </tr>\n",
       "  </thead>\n",
       "  <tbody>\n",
       "    <tr>\n",
       "      <th>0</th>\n",
       "      <td>0</td>\n",
       "      <td>3315000</td>\n",
       "    </tr>\n",
       "    <tr>\n",
       "      <th>1</th>\n",
       "      <td>1</td>\n",
       "      <td>3315000</td>\n",
       "    </tr>\n",
       "    <tr>\n",
       "      <th>2</th>\n",
       "      <td>2</td>\n",
       "      <td>3315000</td>\n",
       "    </tr>\n",
       "    <tr>\n",
       "      <th>3</th>\n",
       "      <td>3</td>\n",
       "      <td>2215000</td>\n",
       "    </tr>\n",
       "    <tr>\n",
       "      <th>4</th>\n",
       "      <td>4</td>\n",
       "      <td>3315000</td>\n",
       "    </tr>\n",
       "    <tr>\n",
       "      <th>...</th>\n",
       "      <td>...</td>\n",
       "      <td>...</td>\n",
       "    </tr>\n",
       "    <tr>\n",
       "      <th>431</th>\n",
       "      <td>431</td>\n",
       "      <td>3315000</td>\n",
       "    </tr>\n",
       "    <tr>\n",
       "      <th>432</th>\n",
       "      <td>432</td>\n",
       "      <td>5515000</td>\n",
       "    </tr>\n",
       "    <tr>\n",
       "      <th>433</th>\n",
       "      <td>433</td>\n",
       "      <td>3315000</td>\n",
       "    </tr>\n",
       "    <tr>\n",
       "      <th>434</th>\n",
       "      <td>434</td>\n",
       "      <td>3315000</td>\n",
       "    </tr>\n",
       "    <tr>\n",
       "      <th>435</th>\n",
       "      <td>435</td>\n",
       "      <td>3315000</td>\n",
       "    </tr>\n",
       "  </tbody>\n",
       "</table>\n",
       "<p>436 rows × 2 columns</p>\n",
       "</div>"
      ],
      "text/plain": [
       "      id   target\n",
       "0      0  3315000\n",
       "1      1  3315000\n",
       "2      2  3315000\n",
       "3      3  2215000\n",
       "4      4  3315000\n",
       "..   ...      ...\n",
       "431  431  3315000\n",
       "432  432  5515000\n",
       "433  433  3315000\n",
       "434  434  3315000\n",
       "435  435  3315000\n",
       "\n",
       "[436 rows x 2 columns]"
      ]
     },
     "execution_count": 96,
     "metadata": {},
     "output_type": "execute_result"
    }
   ],
   "source": [
    "\n",
    "submission2 = sample_submission.copy()\n",
    "submission2.target = pred\n",
    "submission2"
   ]
  }
 ],
 "metadata": {
  "kernelspec": {
   "display_name": "Python 3 (ipykernel)",
   "language": "python",
   "name": "python3"
  },
  "language_info": {
   "codemirror_mode": {
    "name": "ipython",
    "version": 3
   },
   "file_extension": ".py",
   "mimetype": "text/x-python",
   "name": "python",
   "nbconvert_exporter": "python",
   "pygments_lexer": "ipython3",
   "version": "3.9.7"
  }
 },
 "nbformat": 4,
 "nbformat_minor": 5
}
