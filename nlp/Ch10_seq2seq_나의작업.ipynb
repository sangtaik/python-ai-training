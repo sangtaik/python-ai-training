{
  "nbformat": 4,
  "nbformat_minor": 0,
  "metadata": {
    "colab": {
      "name": "Ch10_seq2seq_나의작업.ipynb",
      "provenance": [],
      "collapsed_sections": []
    },
    "kernelspec": {
      "name": "python3",
      "display_name": "Python 3"
    },
    "language_info": {
      "name": "python"
    }
  },
  "cells": [
    {
      "cell_type": "code",
      "source": [
        "import numpy as np\n",
        "import tensorflow as tf"
      ],
      "metadata": {
        "id": "9KqmtiI5LLup"
      },
      "execution_count": 1,
      "outputs": []
    },
    {
      "cell_type": "code",
      "source": [
        "\n",
        "# 한글 자료 \n",
        "raw_inputs = [\n",
        "             \"춤을 추는 쏘세지\"\n",
        "]\n",
        "\n",
        "words = []\n",
        "for s in raw_inputs:\n",
        "    words.extend(s.split()) # extend : s를 추가한다.\n",
        "\n",
        "print(words)\n",
        "\n",
        "## 중복된 단어를 제거\n",
        "words = list(dict.fromkeys(words))\n",
        "print(words)\n",
        "\n",
        "## 단어장의 특수한 토큰을 삽입\n",
        "word_to_id = {\"<PAD>\" : 0, \"<UNK>\" : 1}\n",
        "\n",
        "for w in words:\n",
        "    word_to_id[w] = len(word_to_id)\n",
        "    print(word_to_id)\n",
        "\n",
        "print(word_to_id.items())"
      ],
      "metadata": {
        "colab": {
          "base_uri": "https://localhost:8080/"
        },
        "id": "NK1K22wYJQBx",
        "outputId": "bdd444e4-5dcd-49c7-f940-63a4a15daa9a"
      },
      "execution_count": 25,
      "outputs": [
        {
          "output_type": "stream",
          "name": "stdout",
          "text": [
            "['춤을', '추는', '쏘세지']\n",
            "['춤을', '추는', '쏘세지']\n",
            "{'<PAD>': 0, '<UNK>': 1, '춤을': 2}\n",
            "{'<PAD>': 0, '<UNK>': 1, '춤을': 2, '추는': 3}\n",
            "{'<PAD>': 0, '<UNK>': 1, '춤을': 2, '추는': 3, '쏘세지': 4}\n",
            "dict_items([('<PAD>', 0), ('<UNK>', 1), ('춤을', 2), ('추는', 3), ('쏘세지', 4)])\n"
          ]
        }
      ]
    },
    {
      "cell_type": "code",
      "source": [
        "id_to_words = {i : w for w, i in word_to_id.items()}\n",
        "print(id_to_words)\n",
        "\n",
        "train_inputs = []\n",
        "for s in raw_inputs:\n",
        "    row = [word_to_id[w] for w in s.split()]\n",
        "\n",
        "    # padding \n",
        "    row += [0] * (5-len(row))\n",
        "    train_inputs.append(row)\n",
        "\n",
        "train_inputs = np.array(train_inputs)\n",
        "print(train_inputs)"
      ],
      "metadata": {
        "colab": {
          "base_uri": "https://localhost:8080/"
        },
        "id": "RM3t35U2LA98",
        "outputId": "1d9f0b33-17f0-45db-8118-95cf9037663f"
      },
      "execution_count": 27,
      "outputs": [
        {
          "output_type": "stream",
          "name": "stdout",
          "text": [
            "{0: '<PAD>', 1: '<UNK>', 2: '춤을', 3: '추는', 4: '쏘세지'}\n",
            "[[2 3 4 0 0]]\n"
          ]
        }
      ]
    },
    {
      "cell_type": "code",
      "source": [
        "# one-hot matrix 생성\n",
        "onehot_matrix = np.eye(len(word_to_id))\n",
        "print(onehot_matrix)\n",
        "print(onehot_matrix.shape) # 단어장은 7개인데, 0, 1번째 row는 token을 의미한다.\n",
        "\n",
        "train_onehot = onehot_matrix[train_inputs]\n",
        "print(train_onehot)\n",
        "\n",
        "# one hot coding -> sequence 형태로 복원 가능\n",
        "# 모델에 집어 넣기 전에 squence형태로 복원한다.\n",
        "train_seq = np.argmax(train_onehot, axis = -1)\n",
        "print(train_seq)\n",
        "\n",
        "train_seq_len = train_onehot.shape\n",
        "inp = tf.convert_to_tensor(train_seq, dtype=tf.int32)\n",
        "inp_len = tf.convert_to_tensor(train_seq_len, dtype=tf.int32)\n",
        "\n",
        "\n",
        "print(inp)\n",
        "print(inp_len)"
      ],
      "metadata": {
        "colab": {
          "base_uri": "https://localhost:8080/"
        },
        "id": "Bn0fdQtmLdDC",
        "outputId": "184ae1a6-1f46-4a67-bdf4-76f813ef81b3"
      },
      "execution_count": 28,
      "outputs": [
        {
          "output_type": "stream",
          "name": "stdout",
          "text": [
            "[[1. 0. 0. 0. 0.]\n",
            " [0. 1. 0. 0. 0.]\n",
            " [0. 0. 1. 0. 0.]\n",
            " [0. 0. 0. 1. 0.]\n",
            " [0. 0. 0. 0. 1.]]\n",
            "(5, 5)\n",
            "[[[0. 0. 1. 0. 0.]\n",
            "  [0. 0. 0. 1. 0.]\n",
            "  [0. 0. 0. 0. 1.]\n",
            "  [1. 0. 0. 0. 0.]\n",
            "  [1. 0. 0. 0. 0.]]]\n",
            "[[2 3 4 0 0]]\n",
            "tf.Tensor([[2 3 4 0 0]], shape=(1, 5), dtype=int32)\n",
            "tf.Tensor([1 5 5], shape=(3,), dtype=int32)\n"
          ]
        }
      ]
    },
    {
      "cell_type": "markdown",
      "source": [
        "## 영문 문장 sequence를 만들기 "
      ],
      "metadata": {
        "id": "UgMtAgDDuPEE"
      }
    },
    {
      "cell_type": "code",
      "source": [
        "\n",
        "# 한글 자료 \n",
        "raw_inputs = [\n",
        "              \"Dancing Sausage\",\n",
        "              \"Sausage is delicious. How is this sausage made?\",\n",
        "              \"sausage, meat product made of finely chopped and seasoned meat, which may be fresh, smoked, or pickled and which is then usually stuffed into a casing.\"\n",
        "]\n",
        "\n",
        "words = []\n",
        "for s in raw_inputs:\n",
        "    words.extend(s.split()) # extend : s를 추가한다.\n",
        "\n",
        "print(words)\n",
        "\n",
        "## 중복된 단어를 제거\n",
        "words = list(dict.fromkeys(words))\n",
        "print(words)\n",
        "\n",
        "## 단어장의 특수한 토큰을 삽입\n",
        "word_to_id = {\"<PAD>\" : 0, \"<UNK>\" : 1}\n",
        "\n",
        "for w in words:\n",
        "    word_to_id[w] = len(word_to_id)\n",
        "    print(word_to_id)\n",
        "\n",
        "print(word_to_id.items())"
      ],
      "metadata": {
        "colab": {
          "base_uri": "https://localhost:8080/"
        },
        "id": "BhlcwRbHuOf3",
        "outputId": "69b3153f-80ea-4b8b-c14c-b4ac19e408d3"
      },
      "execution_count": 33,
      "outputs": [
        {
          "output_type": "stream",
          "name": "stdout",
          "text": [
            "['Dancing', 'Sausage', 'Sausage', 'is', 'delicious.', 'How', 'is', 'this', 'sausage', 'made?', 'sausage,', 'meat', 'product', 'made', 'of', 'finely', 'chopped', 'and', 'seasoned', 'meat,', 'which', 'may', 'be', 'fresh,', 'smoked,', 'or', 'pickled', 'and', 'which', 'is', 'then', 'usually', 'stuffed', 'into', 'a', 'casing.']\n",
            "['Dancing', 'Sausage', 'is', 'delicious.', 'How', 'this', 'sausage', 'made?', 'sausage,', 'meat', 'product', 'made', 'of', 'finely', 'chopped', 'and', 'seasoned', 'meat,', 'which', 'may', 'be', 'fresh,', 'smoked,', 'or', 'pickled', 'then', 'usually', 'stuffed', 'into', 'a', 'casing.']\n",
            "{'<PAD>': 0, '<UNK>': 1, 'Dancing': 2}\n",
            "{'<PAD>': 0, '<UNK>': 1, 'Dancing': 2, 'Sausage': 3}\n",
            "{'<PAD>': 0, '<UNK>': 1, 'Dancing': 2, 'Sausage': 3, 'is': 4}\n",
            "{'<PAD>': 0, '<UNK>': 1, 'Dancing': 2, 'Sausage': 3, 'is': 4, 'delicious.': 5}\n",
            "{'<PAD>': 0, '<UNK>': 1, 'Dancing': 2, 'Sausage': 3, 'is': 4, 'delicious.': 5, 'How': 6}\n",
            "{'<PAD>': 0, '<UNK>': 1, 'Dancing': 2, 'Sausage': 3, 'is': 4, 'delicious.': 5, 'How': 6, 'this': 7}\n",
            "{'<PAD>': 0, '<UNK>': 1, 'Dancing': 2, 'Sausage': 3, 'is': 4, 'delicious.': 5, 'How': 6, 'this': 7, 'sausage': 8}\n",
            "{'<PAD>': 0, '<UNK>': 1, 'Dancing': 2, 'Sausage': 3, 'is': 4, 'delicious.': 5, 'How': 6, 'this': 7, 'sausage': 8, 'made?': 9}\n",
            "{'<PAD>': 0, '<UNK>': 1, 'Dancing': 2, 'Sausage': 3, 'is': 4, 'delicious.': 5, 'How': 6, 'this': 7, 'sausage': 8, 'made?': 9, 'sausage,': 10}\n",
            "{'<PAD>': 0, '<UNK>': 1, 'Dancing': 2, 'Sausage': 3, 'is': 4, 'delicious.': 5, 'How': 6, 'this': 7, 'sausage': 8, 'made?': 9, 'sausage,': 10, 'meat': 11}\n",
            "{'<PAD>': 0, '<UNK>': 1, 'Dancing': 2, 'Sausage': 3, 'is': 4, 'delicious.': 5, 'How': 6, 'this': 7, 'sausage': 8, 'made?': 9, 'sausage,': 10, 'meat': 11, 'product': 12}\n",
            "{'<PAD>': 0, '<UNK>': 1, 'Dancing': 2, 'Sausage': 3, 'is': 4, 'delicious.': 5, 'How': 6, 'this': 7, 'sausage': 8, 'made?': 9, 'sausage,': 10, 'meat': 11, 'product': 12, 'made': 13}\n",
            "{'<PAD>': 0, '<UNK>': 1, 'Dancing': 2, 'Sausage': 3, 'is': 4, 'delicious.': 5, 'How': 6, 'this': 7, 'sausage': 8, 'made?': 9, 'sausage,': 10, 'meat': 11, 'product': 12, 'made': 13, 'of': 14}\n",
            "{'<PAD>': 0, '<UNK>': 1, 'Dancing': 2, 'Sausage': 3, 'is': 4, 'delicious.': 5, 'How': 6, 'this': 7, 'sausage': 8, 'made?': 9, 'sausage,': 10, 'meat': 11, 'product': 12, 'made': 13, 'of': 14, 'finely': 15}\n",
            "{'<PAD>': 0, '<UNK>': 1, 'Dancing': 2, 'Sausage': 3, 'is': 4, 'delicious.': 5, 'How': 6, 'this': 7, 'sausage': 8, 'made?': 9, 'sausage,': 10, 'meat': 11, 'product': 12, 'made': 13, 'of': 14, 'finely': 15, 'chopped': 16}\n",
            "{'<PAD>': 0, '<UNK>': 1, 'Dancing': 2, 'Sausage': 3, 'is': 4, 'delicious.': 5, 'How': 6, 'this': 7, 'sausage': 8, 'made?': 9, 'sausage,': 10, 'meat': 11, 'product': 12, 'made': 13, 'of': 14, 'finely': 15, 'chopped': 16, 'and': 17}\n",
            "{'<PAD>': 0, '<UNK>': 1, 'Dancing': 2, 'Sausage': 3, 'is': 4, 'delicious.': 5, 'How': 6, 'this': 7, 'sausage': 8, 'made?': 9, 'sausage,': 10, 'meat': 11, 'product': 12, 'made': 13, 'of': 14, 'finely': 15, 'chopped': 16, 'and': 17, 'seasoned': 18}\n",
            "{'<PAD>': 0, '<UNK>': 1, 'Dancing': 2, 'Sausage': 3, 'is': 4, 'delicious.': 5, 'How': 6, 'this': 7, 'sausage': 8, 'made?': 9, 'sausage,': 10, 'meat': 11, 'product': 12, 'made': 13, 'of': 14, 'finely': 15, 'chopped': 16, 'and': 17, 'seasoned': 18, 'meat,': 19}\n",
            "{'<PAD>': 0, '<UNK>': 1, 'Dancing': 2, 'Sausage': 3, 'is': 4, 'delicious.': 5, 'How': 6, 'this': 7, 'sausage': 8, 'made?': 9, 'sausage,': 10, 'meat': 11, 'product': 12, 'made': 13, 'of': 14, 'finely': 15, 'chopped': 16, 'and': 17, 'seasoned': 18, 'meat,': 19, 'which': 20}\n",
            "{'<PAD>': 0, '<UNK>': 1, 'Dancing': 2, 'Sausage': 3, 'is': 4, 'delicious.': 5, 'How': 6, 'this': 7, 'sausage': 8, 'made?': 9, 'sausage,': 10, 'meat': 11, 'product': 12, 'made': 13, 'of': 14, 'finely': 15, 'chopped': 16, 'and': 17, 'seasoned': 18, 'meat,': 19, 'which': 20, 'may': 21}\n",
            "{'<PAD>': 0, '<UNK>': 1, 'Dancing': 2, 'Sausage': 3, 'is': 4, 'delicious.': 5, 'How': 6, 'this': 7, 'sausage': 8, 'made?': 9, 'sausage,': 10, 'meat': 11, 'product': 12, 'made': 13, 'of': 14, 'finely': 15, 'chopped': 16, 'and': 17, 'seasoned': 18, 'meat,': 19, 'which': 20, 'may': 21, 'be': 22}\n",
            "{'<PAD>': 0, '<UNK>': 1, 'Dancing': 2, 'Sausage': 3, 'is': 4, 'delicious.': 5, 'How': 6, 'this': 7, 'sausage': 8, 'made?': 9, 'sausage,': 10, 'meat': 11, 'product': 12, 'made': 13, 'of': 14, 'finely': 15, 'chopped': 16, 'and': 17, 'seasoned': 18, 'meat,': 19, 'which': 20, 'may': 21, 'be': 22, 'fresh,': 23}\n",
            "{'<PAD>': 0, '<UNK>': 1, 'Dancing': 2, 'Sausage': 3, 'is': 4, 'delicious.': 5, 'How': 6, 'this': 7, 'sausage': 8, 'made?': 9, 'sausage,': 10, 'meat': 11, 'product': 12, 'made': 13, 'of': 14, 'finely': 15, 'chopped': 16, 'and': 17, 'seasoned': 18, 'meat,': 19, 'which': 20, 'may': 21, 'be': 22, 'fresh,': 23, 'smoked,': 24}\n",
            "{'<PAD>': 0, '<UNK>': 1, 'Dancing': 2, 'Sausage': 3, 'is': 4, 'delicious.': 5, 'How': 6, 'this': 7, 'sausage': 8, 'made?': 9, 'sausage,': 10, 'meat': 11, 'product': 12, 'made': 13, 'of': 14, 'finely': 15, 'chopped': 16, 'and': 17, 'seasoned': 18, 'meat,': 19, 'which': 20, 'may': 21, 'be': 22, 'fresh,': 23, 'smoked,': 24, 'or': 25}\n",
            "{'<PAD>': 0, '<UNK>': 1, 'Dancing': 2, 'Sausage': 3, 'is': 4, 'delicious.': 5, 'How': 6, 'this': 7, 'sausage': 8, 'made?': 9, 'sausage,': 10, 'meat': 11, 'product': 12, 'made': 13, 'of': 14, 'finely': 15, 'chopped': 16, 'and': 17, 'seasoned': 18, 'meat,': 19, 'which': 20, 'may': 21, 'be': 22, 'fresh,': 23, 'smoked,': 24, 'or': 25, 'pickled': 26}\n",
            "{'<PAD>': 0, '<UNK>': 1, 'Dancing': 2, 'Sausage': 3, 'is': 4, 'delicious.': 5, 'How': 6, 'this': 7, 'sausage': 8, 'made?': 9, 'sausage,': 10, 'meat': 11, 'product': 12, 'made': 13, 'of': 14, 'finely': 15, 'chopped': 16, 'and': 17, 'seasoned': 18, 'meat,': 19, 'which': 20, 'may': 21, 'be': 22, 'fresh,': 23, 'smoked,': 24, 'or': 25, 'pickled': 26, 'then': 27}\n",
            "{'<PAD>': 0, '<UNK>': 1, 'Dancing': 2, 'Sausage': 3, 'is': 4, 'delicious.': 5, 'How': 6, 'this': 7, 'sausage': 8, 'made?': 9, 'sausage,': 10, 'meat': 11, 'product': 12, 'made': 13, 'of': 14, 'finely': 15, 'chopped': 16, 'and': 17, 'seasoned': 18, 'meat,': 19, 'which': 20, 'may': 21, 'be': 22, 'fresh,': 23, 'smoked,': 24, 'or': 25, 'pickled': 26, 'then': 27, 'usually': 28}\n",
            "{'<PAD>': 0, '<UNK>': 1, 'Dancing': 2, 'Sausage': 3, 'is': 4, 'delicious.': 5, 'How': 6, 'this': 7, 'sausage': 8, 'made?': 9, 'sausage,': 10, 'meat': 11, 'product': 12, 'made': 13, 'of': 14, 'finely': 15, 'chopped': 16, 'and': 17, 'seasoned': 18, 'meat,': 19, 'which': 20, 'may': 21, 'be': 22, 'fresh,': 23, 'smoked,': 24, 'or': 25, 'pickled': 26, 'then': 27, 'usually': 28, 'stuffed': 29}\n",
            "{'<PAD>': 0, '<UNK>': 1, 'Dancing': 2, 'Sausage': 3, 'is': 4, 'delicious.': 5, 'How': 6, 'this': 7, 'sausage': 8, 'made?': 9, 'sausage,': 10, 'meat': 11, 'product': 12, 'made': 13, 'of': 14, 'finely': 15, 'chopped': 16, 'and': 17, 'seasoned': 18, 'meat,': 19, 'which': 20, 'may': 21, 'be': 22, 'fresh,': 23, 'smoked,': 24, 'or': 25, 'pickled': 26, 'then': 27, 'usually': 28, 'stuffed': 29, 'into': 30}\n",
            "{'<PAD>': 0, '<UNK>': 1, 'Dancing': 2, 'Sausage': 3, 'is': 4, 'delicious.': 5, 'How': 6, 'this': 7, 'sausage': 8, 'made?': 9, 'sausage,': 10, 'meat': 11, 'product': 12, 'made': 13, 'of': 14, 'finely': 15, 'chopped': 16, 'and': 17, 'seasoned': 18, 'meat,': 19, 'which': 20, 'may': 21, 'be': 22, 'fresh,': 23, 'smoked,': 24, 'or': 25, 'pickled': 26, 'then': 27, 'usually': 28, 'stuffed': 29, 'into': 30, 'a': 31}\n",
            "{'<PAD>': 0, '<UNK>': 1, 'Dancing': 2, 'Sausage': 3, 'is': 4, 'delicious.': 5, 'How': 6, 'this': 7, 'sausage': 8, 'made?': 9, 'sausage,': 10, 'meat': 11, 'product': 12, 'made': 13, 'of': 14, 'finely': 15, 'chopped': 16, 'and': 17, 'seasoned': 18, 'meat,': 19, 'which': 20, 'may': 21, 'be': 22, 'fresh,': 23, 'smoked,': 24, 'or': 25, 'pickled': 26, 'then': 27, 'usually': 28, 'stuffed': 29, 'into': 30, 'a': 31, 'casing.': 32}\n",
            "dict_items([('<PAD>', 0), ('<UNK>', 1), ('Dancing', 2), ('Sausage', 3), ('is', 4), ('delicious.', 5), ('How', 6), ('this', 7), ('sausage', 8), ('made?', 9), ('sausage,', 10), ('meat', 11), ('product', 12), ('made', 13), ('of', 14), ('finely', 15), ('chopped', 16), ('and', 17), ('seasoned', 18), ('meat,', 19), ('which', 20), ('may', 21), ('be', 22), ('fresh,', 23), ('smoked,', 24), ('or', 25), ('pickled', 26), ('then', 27), ('usually', 28), ('stuffed', 29), ('into', 30), ('a', 31), ('casing.', 32)])\n"
          ]
        }
      ]
    },
    {
      "cell_type": "code",
      "source": [
        "id_to_words = {i : w for w, i in word_to_id.items()}\n",
        "print(id_to_words)\n",
        "\n",
        "train_inputs = []\n",
        "for s in raw_inputs:\n",
        "    row = [word_to_id[w] for w in s.split()]\n",
        "\n",
        "    # padding \n",
        "    row += [0] * (5-len(row))\n",
        "    train_inputs.append(row)\n",
        "\n",
        "y_train_inputs = np.array(train_inputs)\n",
        "print(\"y_train_inputs : \", y_train_inputs)"
      ],
      "metadata": {
        "colab": {
          "base_uri": "https://localhost:8080/"
        },
        "id": "LWxwp-Bzuxo2",
        "outputId": "8ccf63b6-9acd-4d34-f0a6-b175171ee6bc"
      },
      "execution_count": 50,
      "outputs": [
        {
          "output_type": "stream",
          "name": "stdout",
          "text": [
            "{0: '<PAD>', 1: '<UNK>', 2: 'Dancing', 3: 'Sausage', 4: 'is', 5: 'delicious.', 6: 'How', 7: 'this', 8: 'sausage', 9: 'made?', 10: 'sausage,', 11: 'meat', 12: 'product', 13: 'made', 14: 'of', 15: 'finely', 16: 'chopped', 17: 'and', 18: 'seasoned', 19: 'meat,', 20: 'which', 21: 'may', 22: 'be', 23: 'fresh,', 24: 'smoked,', 25: 'or', 26: 'pickled', 27: 'then', 28: 'usually', 29: 'stuffed', 30: 'into', 31: 'a', 32: 'casing.'}\n",
            "y_train_inputs :  [list([2, 3, 0, 0, 0]) list([3, 4, 5, 6, 4, 7, 8, 9])\n",
            " list([10, 11, 12, 13, 14, 15, 16, 17, 18, 19, 20, 21, 22, 23, 24, 25, 26, 17, 20, 4, 27, 28, 29, 30, 31, 32])]\n"
          ]
        },
        {
          "output_type": "stream",
          "name": "stderr",
          "text": [
            "/usr/local/lib/python3.7/dist-packages/ipykernel_launcher.py:12: VisibleDeprecationWarning: Creating an ndarray from ragged nested sequences (which is a list-or-tuple of lists-or-tuples-or ndarrays with different lengths or shapes) is deprecated. If you meant to do this, you must specify 'dtype=object' when creating the ndarray.\n",
            "  if sys.path[0] == '':\n"
          ]
        }
      ]
    },
    {
      "cell_type": "markdown",
      "source": [
        "# seq2seq 모델"
      ],
      "metadata": {
        "id": "q0MlIIp8wfZI"
      }
    },
    {
      "cell_type": "markdown",
      "source": [
        "![](https://aiffelstaticprd.blob.core.windows.net/media/images/GN-4-L-7.max-800x600.jpg)"
      ],
      "metadata": {
        "id": "BYf-_1t1wiII"
      }
    },
    {
      "cell_type": "markdown",
      "source": [
        "## Encoder 구현"
      ],
      "metadata": {
        "id": "SUO9UmWfwk2Q"
      }
    },
    {
      "cell_type": "markdown",
      "source": [
        "![](https://aiffelstaticprd.blob.core.windows.net/media/images/GN-4-L-6.max-800x600.jpg)"
      ],
      "metadata": {
        "id": "lCPSBCPdwnNf"
      }
    },
    {
      "cell_type": "code",
      "execution_count": 35,
      "metadata": {
        "id": "aT83VDAopzxr"
      },
      "outputs": [],
      "source": [
        "import tensorflow as tf"
      ]
    },
    {
      "cell_type": "code",
      "source": [
        "class Encoder(tf.keras.Model):\n",
        "    def __init__(self, vocab_size, embedding_dim, enc_units): # enc_units :encode hidden unit\n",
        "        super(Encoder, self).__init__()\n",
        "        # Embedding의 인자는 외우면 좋다. 이해하면 더 좋다.\n",
        "        self.embedding = tf.keras.layers.Embedding(vocab_size, embedding_dim) # 나는 밥을 먹었어\n",
        "        self.lstm = tf.keras.layers.LSTM(enc_units) # enc_units :encode hidden unit\n",
        "    \n",
        "    def call(self, x):     # x는 sequence 형태(숫자 형태)로 넣어야 한다.\n",
        "        print(\"입력 shape :\", x.shape) # sample input // 춤 추는 소시지 (1, 3)\n",
        "        print(\"입력 값 :\", x)\n",
        "        # Embedding Layer를 거친 shape : (1, 3, 256) 한 문장의 3개 단어, 단어당 256개의 vector가 존재함\n",
        "        x = self.embedding(x) # ex) (0.699, 0.92, 0.89) = self.embedding((0, 1, 2))\n",
        "        print(\"Embedding Layer를 거친 shape :\", x.shape)\n",
        "\n",
        "        output = self.lstm(x)\n",
        "        print(\"LSTM shape의 output shape :\", output.shape)\n",
        "        \n",
        "        return output"
      ],
      "metadata": {
        "id": "slWrhuY1wuw5"
      },
      "execution_count": 36,
      "outputs": []
    },
    {
      "cell_type": "code",
      "source": [
        "vocab_size = 30000\n",
        "emb_size = 256\n",
        "lstm_size = 512\n",
        "batch_size = 1\n",
        "sample_seq_len = 3 # 춤 추는 소시지가 3 단어이기 때문에 값이 3\n",
        "\n",
        "print(\"Vocab Size : {0}\".format(vocab_size))\n",
        "print(\"Embedding Size : {0}\".format(emb_size))\n",
        "print(\"LSTM Size : {0}\".format(lstm_size))\n",
        "print(\"Batch_size : {0}\".format(batch_size))\n",
        "print(\"Sample Sequence Length : {0}\".format(sample_seq_len))"
      ],
      "metadata": {
        "id": "2mgOnbTXxCMX",
        "colab": {
          "base_uri": "https://localhost:8080/"
        },
        "outputId": "24eaec7d-4ad6-4d04-e613-d835a976c0c1"
      },
      "execution_count": 37,
      "outputs": [
        {
          "output_type": "stream",
          "name": "stdout",
          "text": [
            "Vocab Size : 30000\n",
            "Embedding Size : 256\n",
            "LSTM Size : 512\n",
            "Batch_size : 1\n",
            "Sample Sequence Length : 3\n"
          ]
        }
      ]
    },
    {
      "cell_type": "code",
      "source": [
        "encoder = Encoder(vocab_size, emb_size, lstm_size) #vocab_size, embedding_dim, enc_units):\n",
        "# 테스트할 때는 sample_input = (0, 0, 0)으로 초기화로 값을 넣다.\n",
        "sample_input = tf.zeros((batch_size, sample_seq_len)) # 춤 추는 소시지\n",
        "\n",
        "\n",
        "sample_output_encoder = encoder(sample_input)\n",
        "sample_output_encoder_test = encoder(inp) # 안되는 걸 보니 평문이 아닌 one hot코딩?"
      ],
      "metadata": {
        "id": "T0nOgRrexIzw",
        "colab": {
          "base_uri": "https://localhost:8080/"
        },
        "outputId": "e8eae30d-3094-4829-aada-0ac462680cd6"
      },
      "execution_count": 39,
      "outputs": [
        {
          "output_type": "stream",
          "name": "stdout",
          "text": [
            "입력 shape : (1, 3)\n",
            "입력 값 : tf.Tensor([[0. 0. 0.]], shape=(1, 3), dtype=float32)\n",
            "Embedding Layer를 거친 shape : (1, 3, 256)\n",
            "LSTM shape의 output shape : (1, 512)\n",
            "입력 shape : (1, 5)\n",
            "입력 값 : tf.Tensor([[2 3 4 0 0]], shape=(1, 5), dtype=int32)\n",
            "Embedding Layer를 거친 shape : (1, 5, 256)\n",
            "LSTM shape의 output shape : (1, 512)\n"
          ]
        }
      ]
    },
    {
      "cell_type": "markdown",
      "source": [
        "## Decoder 구현"
      ],
      "metadata": {
        "id": "YaCFAU30xPMf"
      }
    },
    {
      "cell_type": "markdown",
      "source": [
        "![](https://aiffelstaticprd.blob.core.windows.net/media/images/GN-4-L-7.max-800x600.jpg)"
      ],
      "metadata": {
        "id": "dFRBUyamxRYf"
      }
    },
    {
      "cell_type": "code",
      "source": [
        "class Decoder(tf.keras.Model):\n",
        "    def __init__(self, vocab_size, embedding_dim, dec_units):\n",
        "        super(Decoder, self).__init__()\n",
        "        self.embedding = tf.keras.layers.Embedding(vocab_size, embedding_dim)\n",
        "        # return_sequences=True 이전 state의 정보를 각각 다 출력한다는 의미\n",
        "        # False면 <END> 토큰만 나온다. True면 dancing, Sausage 도 출력이 된다.\n",
        "        self.lstm = tf.keras.layers.LSTM(dec_units, return_sequences=True) ####\n",
        "        \n",
        "        # Full connected Layer = Dense = mlp(multi layer perceptron) 결국 같은 말이다.\n",
        "        # Full connected Layer : 현재 층의 모든 뉴런이 완전히 다음 층의 모든 뉴런과 연결되었다\n",
        "        # 꼭 relu 아니어도 되고, activation이 없어도 된다.\n",
        "        self.fc = tf.keras.layers.Dense(vocab_size,  activation='relu') # full connect Layer\n",
        "        # self.softmax = tf.keras.layers.Dense(dec_units, activation='softmax')# None (변수 5)\n",
        "        self.softmax = tf.keras.layers.Softmax(axis= -1 )\n",
        "\n",
        "    def call(self, x, context_v):\n",
        "        print(\"입력 shape : \", x.shape)\n",
        "        print(\"입력 값 :\", x)\n",
        "\n",
        "        x = self.embedding(x)\n",
        "        print(\"Embedding layer를 거친 shape\", x.shape)\n",
        "\n",
        "        # expand_dims : 행렬을 추가해준다.\n",
        "        # 행렬을 늘려서 x와 context_v가 행렬 계산이 가능하도록 shape를 맞춰준다.\n",
        "        # tf.expand_dims(context_v, axis=1)은 (1, 512)에서 512(1축)를 의미한다.\n",
        "        context_v = tf.repeat(tf.expand_dims(context_v, axis=1), repeats=x.shape[1], axis=1)\n",
        "        x = tf.concat([x, context_v], axis = -1) # [변수 1, 변수 2], axis = -1)\n",
        "        print('Context Vector가 더해진 shape : ', x.shape)\n",
        "\n",
        "        x = self.lstm(x)\n",
        "        print(\"LSTM layer의 output layer : \", x.shape)\n",
        "\n",
        "        output = self.fc(x)\n",
        "        print(\"Decoder의 최종 ouput layer : \", output.shape)\n",
        "\n",
        "        output = self.softmax(output)\n",
        "\n",
        "        return output"
      ],
      "metadata": {
        "id": "QNPaQgSVxNvG"
      },
      "execution_count": 40,
      "outputs": []
    },
    {
      "cell_type": "code",
      "source": [
        "vocab_size = 30000\n",
        "emb_size = 256\n",
        "lstm_size = 512\n",
        "batch_size = 1\n",
        "sample_seq_len = 3\n",
        "\n",
        "print(\"Vocab Size : {0}\".format(vocab_size))\n",
        "print(\"Embedding Size : {0}\".format(emb_size))\n",
        "print(\"LSTM Size : {0}\".format(lstm_size))\n",
        "print(\"Batch_size : {0}\".format(batch_size))\n",
        "print(\"Sample Sequence Length : {0}\".format(sample_seq_len))"
      ],
      "metadata": {
        "id": "zmLtmubHxzyX",
        "colab": {
          "base_uri": "https://localhost:8080/"
        },
        "outputId": "48e96662-86b4-447f-ec69-5795d4306793"
      },
      "execution_count": 41,
      "outputs": [
        {
          "output_type": "stream",
          "name": "stdout",
          "text": [
            "Vocab Size : 30000\n",
            "Embedding Size : 256\n",
            "LSTM Size : 512\n",
            "Batch_size : 1\n",
            "Sample Sequence Length : 3\n"
          ]
        }
      ]
    },
    {
      "cell_type": "code",
      "source": [
        "decoder = Decoder(vocab_size, emb_size, lstm_size)\n",
        "sample_input = tf.zeros((batch_size, sample_seq_len)) # (1, 3) 행렬이 0으로 채워진다.\n",
        "\n",
        "sample_output_decoder = decoder(sample_input, sample_output_encoder) # call 함수 호출\n",
        "\n",
        "print(sample_output_decoder)\n",
        "\n",
        "# 춤을 추는 쏘세지는 어떻게 나올까?\n",
        "# decoder = Decoder(vocab_size, emb_size, lstm_size)\n",
        "# sample_input_test_eng= y_train_inputs # 이 부분을 영문에 해당되는 sequence를 넣어준다. 즉 y_train 값이다.\n",
        "\n",
        "# sample_output_decoder_eng = decoder(sample_input_test_eng, sample_output_encoder_test)\n",
        "\n",
        "# print(sample_output_decoder_eng)"
      ],
      "metadata": {
        "id": "ZwalJJzKx0W-",
        "colab": {
          "base_uri": "https://localhost:8080/"
        },
        "outputId": "35eeff9c-b724-4d47-87da-da95dbe1c983"
      },
      "execution_count": 54,
      "outputs": [
        {
          "output_type": "stream",
          "name": "stdout",
          "text": [
            "입력 shape :  (1, 3)\n",
            "입력 값 : tf.Tensor([[0. 0. 0.]], shape=(1, 3), dtype=float32)\n",
            "Embedding layer를 거친 shape (1, 3, 256)\n",
            "Context Vector가 더해진 shape :  (1, 3, 768)\n",
            "LSTM layer의 output layer :  (1, 3, 512)\n",
            "Decoder의 최종 ouput layer :  (1, 3, 30000)\n",
            "tf.Tensor(\n",
            "[[[0.00195047 0.0019539  0.0019531  ... 0.00195506 0.00195302 0.00195321]\n",
            "  [0.00194853 0.00195467 0.00195299 ... 0.00195646 0.00195285 0.00195318]\n",
            "  [0.00194712 0.00195546 0.00195279 ... 0.00195754 0.00195274 0.00195317]]], shape=(1, 3, 512), dtype=float32)\n"
          ]
        }
      ]
    },
    {
      "cell_type": "code",
      "source": [
        ""
      ],
      "metadata": {
        "id": "XuyK_JSlNHpN"
      },
      "execution_count": 12,
      "outputs": []
    },
    {
      "cell_type": "markdown",
      "source": [
        "# Attention"
      ],
      "metadata": {
        "id": "I2rWe11Hyake"
      }
    },
    {
      "cell_type": "markdown",
      "source": [
        "- Bahdanau Attention\n",
        "$$ Score_{alignment} = W * tanh(W_{decoder} * H_{decoder} + W_{encoder} * H_{encoder}) $$"
      ],
      "metadata": {
        "id": "HVVLgiLHycqX"
      }
    },
    {
      "cell_type": "code",
      "source": [
        "import tensorflow as tf"
      ],
      "metadata": {
        "id": "W2CJ2qliyaxn"
      },
      "execution_count": 13,
      "outputs": []
    },
    {
      "cell_type": "code",
      "source": [
        "class BahdanauAttention(tf.keras.layers.Layer):\n",
        "    def __init__(self, units):\n",
        "        super(BahdanauAttention, self).__init__()\n",
        "        self.w_decoder = tf.keras.layers.Dense(units)\n",
        "        self.w_encoder = tf.keras.layers.Dense(units)\n",
        "        self.w_combine = tf.keras.layers.Dense(1) # 값을 합치기 때문에 1로 설정한다.\n",
        "    \n",
        "    def call(self, h_encoder, h_decoder):\n",
        "        print(\"[H_encoder] shape : \", h_encoder.shape)\n",
        "\n",
        "        h_encoder = self.w_encoder(h_encoder)\n",
        "        print(\"[w_encoder x h_encoder] shape : \", h_encoder.shape)\n",
        "\n",
        "        print(\"\\n[H_decoder shape :\", h_decoder.shape)\n",
        "        h_decoder = tf.expand_dims(h_decoder, 1)\n",
        "        h_decoder = self.w_decoder(h_decoder)\n",
        "\n",
        "        print(\"[w_encoder x h_decoder] shape :\", h_decoder.shape)\n",
        "\n",
        "        score = self.w_combine(tf.nn.tanh(h_decoder + h_encoder))\n",
        "        print(\"[score alinment] shape :\", score.shape)\n",
        "\n",
        "        attention_weights = tf.nn.softmax(score, axis=1)\n",
        "        print(\"\\n최종 weight : \\n\", attention_weights.numpy())\n",
        "\n",
        "        context_vector = attention_weights * h_decoder\n",
        "        context_vector = tf.reduce_sum(context_vector, axis = 1)\n",
        "\n",
        "        return context_vector, attention_weights"
      ],
      "metadata": {
        "id": "9csARr_vyftu"
      },
      "execution_count": 55,
      "outputs": []
    },
    {
      "cell_type": "code",
      "source": [
        "w_size = 100\n",
        "print(\"hidden state {0}차원으로 Mapping \\n\".format(w_size))\n",
        "\n",
        "attention = BahdanauAttention(w_size)\n",
        "\n",
        "enc_state = tf.random.uniform((1, 10, 512))\n",
        "dec_state = tf.random.uniform((1, 512))\n",
        "\n",
        "_ = attention(enc_state, dec_state)"
      ],
      "metadata": {
        "colab": {
          "base_uri": "https://localhost:8080/"
        },
        "id": "qiaYBKa6RCdw",
        "outputId": "fbbd1144-13b8-4831-ffe4-b8ac99f9dbe3"
      },
      "execution_count": 56,
      "outputs": [
        {
          "output_type": "stream",
          "name": "stdout",
          "text": [
            "hidden state 100차원으로 Mapping \n",
            "\n",
            "[H_encoder] shape :  (1, 10, 512)\n",
            "[w_encoder x h_encoder] shape :  (1, 10, 100)\n",
            "\n",
            "[H_decoder shape : (1, 512)\n",
            "[w_encoder x h_decoder] shape : (1, 1, 100)\n",
            "[score alinment] shape : (1, 10, 1)\n",
            "\n",
            "최종 weight : \n",
            " [[[0.15979587]\n",
            "  [0.07183252]\n",
            "  [0.12006551]\n",
            "  [0.05205782]\n",
            "  [0.06597082]\n",
            "  [0.07402176]\n",
            "  [0.12115809]\n",
            "  [0.07401933]\n",
            "  [0.125352  ]\n",
            "  [0.13572636]]]\n"
          ]
        }
      ]
    },
    {
      "cell_type": "code",
      "source": [
        ""
      ],
      "metadata": {
        "id": "PDUVChYvRDl1"
      },
      "execution_count": null,
      "outputs": []
    },
    {
      "cell_type": "markdown",
      "source": [
        "# Loung Attention"
      ],
      "metadata": {
        "id": "eSfQTfeGzbLc"
      }
    },
    {
      "cell_type": "markdown",
      "source": [
        "$$ Score(H_{target},H_{source}) = H_{target}^T * W_{combine} * H_{source}$$"
      ],
      "metadata": {
        "id": "gu8BHyqmzc2O"
      }
    },
    {
      "cell_type": "code",
      "source": [
        "class LuongAttention(tf.keras.layers.Layer):\n",
        "    def __init__(self, units):\n",
        "        super(LuongAttention, self).__init__()\n",
        "        self.w_combine = tf.keras.layers.Dense(units)\n",
        "\n",
        "    def call(self, h_encoder, h_decoder):\n",
        "        print(\"[h_encoder] shape : \", h_encoder.shape)\n",
        "\n",
        "        wh = self.w_combine(h_encoder)\n",
        "        print(\"[W_encoder x h_encoder] shape :\", wh.shape)\n",
        "\n",
        "        h_decoder = tf.expand_dims(h_decoder, 1)\n",
        "        alignment = tf.matmul(wh, tf.transpose(h_decoder, [0, 2, 1]))\n",
        "        print(\"[Score alignment] shape : \", alignment.shape)\n",
        "\n",
        "        attention_weights = tf.nn.softmax(alignment, axis=1)\n",
        "        print(\"\\n 최종 weight : \\n\", attention_weights.numpy())\n",
        "\n",
        "        # 다시 행렬 차원을 줄인다.\n",
        "        attention_weights = tf.squeeze(attention_weights, axis= -1)\n",
        "        context_vector = tf.matmul(attention_weights, h_encoder)\n",
        "\n",
        "        return context_vector, attention_weights"
      ],
      "metadata": {
        "id": "UO1Xn8V5zbXt"
      },
      "execution_count": 57,
      "outputs": []
    },
    {
      "cell_type": "code",
      "source": [
        "emb_dim = 512\n",
        "attention = LuongAttention(emb_size)\n",
        "\n",
        "enc_state = tf.random.uniform((1, 10, emb_size))\n",
        "dec_state = tf.random.uniform((1, emb_size))\n",
        "\n",
        "_ = attention(enc_state, dec_state)"
      ],
      "metadata": {
        "id": "qd-KxPyKzo5l",
        "colab": {
          "base_uri": "https://localhost:8080/"
        },
        "outputId": "f73238e5-0eae-40a1-b9b8-df5b6bc91e7a"
      },
      "execution_count": 58,
      "outputs": [
        {
          "output_type": "stream",
          "name": "stdout",
          "text": [
            "[h_encoder] shape :  (1, 10, 256)\n",
            "[W_encoder x h_encoder] shape : (1, 10, 256)\n",
            "[Score alignment] shape :  (1, 10, 1)\n",
            "\n",
            " 최종 weight : \n",
            " [[[1.4172524e-01]\n",
            "  [1.3149093e-03]\n",
            "  [3.8371602e-04]\n",
            "  [6.6584784e-05]\n",
            "  [2.6182837e-03]\n",
            "  [9.1909263e-03]\n",
            "  [4.0929201e-03]\n",
            "  [3.9876853e-03]\n",
            "  [5.4108638e-01]\n",
            "  [2.9553339e-01]]]\n"
          ]
        }
      ]
    },
    {
      "cell_type": "markdown",
      "source": [
        "## Softmax"
      ],
      "metadata": {
        "id": "sUX7GVEiUnHB"
      }
    },
    {
      "cell_type": "code",
      "source": [
        "import numpy as np\n",
        "import matplotlib.pyplot as plt"
      ],
      "metadata": {
        "id": "4XV4bwJGUjE1"
      },
      "execution_count": 64,
      "outputs": []
    },
    {
      "cell_type": "code",
      "source": [
        "def softmax(x):\n",
        "    e_x = np.exp(x - np.max(x))\n",
        "    return e_x / e_x.sum()"
      ],
      "metadata": {
        "id": "nG_TsIQcU1aq"
      },
      "execution_count": 59,
      "outputs": []
    },
    {
      "cell_type": "code",
      "source": [
        "pred_logit = np.array([-2, 1.5, -1, 0.5, 2])\n",
        "pred_prob = softmax(pred_logit)"
      ],
      "metadata": {
        "id": "VQOXhYawU8uZ"
      },
      "execution_count": 62,
      "outputs": []
    },
    {
      "cell_type": "code",
      "source": [
        "plt.figure(figsize = [18, 3])\n",
        "plt.subplot(1, 2, 1)\n",
        "plt.title('predicted logit')\n",
        "plt.bar(np.arange(len(pred_logit)), pred_logit)\n",
        "plt.grid()\n",
        "\n",
        "plt.subplot(1, 2, 2)\n",
        "plt.title('predicted probility')\n",
        "plt.bar(np.arange(len(pred_prob)), pred_prob)\n",
        "plt.grid()\n",
        "plt.show()"
      ],
      "metadata": {
        "colab": {
          "base_uri": "https://localhost:8080/",
          "height": 227
        },
        "id": "uwHGPYxTVHXI",
        "outputId": "cecefad6-134d-4eac-b3a2-873d5172caeb"
      },
      "execution_count": 66,
      "outputs": [
        {
          "output_type": "display_data",
          "data": {
            "text/plain": [
              "<Figure size 1296x216 with 2 Axes>"
            ],
            "image/png": "[encoded data removed]"
          },
          "metadata": {
            "needs_background": "light"
          }
        }
      ]
    },
    {
      "cell_type": "code",
      "source": [
        ""
      ],
      "metadata": {
        "id": "COt1Vqf1Vm99"
      },
      "execution_count": null,
      "outputs": []
    }
  ]
}