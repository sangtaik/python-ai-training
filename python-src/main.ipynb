{
 "cells": [
  {
   "cell_type": "code",
   "execution_count": 5,
   "id": "bf7ccd4f",
   "metadata": {},
   "outputs": [
    {
     "name": "stdout",
     "output_type": "stream",
     "text": [
      "a 모듈의 변수 b 모듈의 변수\n"
     ]
    }
   ],
   "source": [
    "import test_package.module_a as a\n",
    "import test_package.module_b as b\n",
    "print(a.variable_a, b.variable_b)"
   ]
  },
  {
   "cell_type": "code",
   "execution_count": 6,
   "id": "5bbf192f",
   "metadata": {},
   "outputs": [],
   "source": [
    "# __init__.py 파일을 생성 후\n",
    "# __all__ = [\"module_a\", \"module_b\"] 처럼 모듈 이름을 포함한다.\n",
    "# 그러면 다른 코드에서 import * 구문을 사용할 수 잇다.\n",
    "from test_package import *\n",
    "\n",
    "print(module_a.variable_a)\n",
    "print(module_b.variable_b)"
   ]
  },
  {
   "cell_type": "code",
   "execution_count": null,
   "id": "f9560a13",
   "metadata": {},
   "outputs": [],
   "source": []
  }
 ],
 "metadata": {
  "kernelspec": {
   "display_name": "Python 3 (ipykernel)",
   "language": "python",
   "name": "python3"
  },
  "language_info": {
   "codemirror_mode": {
    "name": "ipython",
    "version": 3
   },
   "file_extension": ".py",
   "mimetype": "text/x-python",
   "name": "python",
   "nbconvert_exporter": "python",
   "pygments_lexer": "ipython3",
   "version": "3.9.7"
  }
 },
 "nbformat": 4,
 "nbformat_minor": 5
}
