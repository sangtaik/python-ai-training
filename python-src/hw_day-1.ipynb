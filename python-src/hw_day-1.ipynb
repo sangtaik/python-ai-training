{
 "cells": [
  {
   "cell_type": "code",
   "execution_count": 1,
   "id": "56c7fc03",
   "metadata": {},
   "outputs": [
    {
     "ename": "SyntaxError",
     "evalue": "invalid syntax (Temp/ipykernel_15548/1971190742.py, line 1)",
     "output_type": "error",
     "traceback": [
      "\u001b[1;36m  File \u001b[1;32m\"C:\\Users\\sangt\\AppData\\Local\\Temp/ipykernel_15548/1971190742.py\"\u001b[1;36m, line \u001b[1;32m1\u001b[0m\n\u001b[1;33m    과제 104 page\u001b[0m\n\u001b[1;37m       ^\u001b[0m\n\u001b[1;31mSyntaxError\u001b[0m\u001b[1;31m:\u001b[0m invalid syntax\n"
     ]
    }
   ],
   "source": [
    "과제 104 page\n",
    "print(\"{} {}\".format(52, 273))\n",
    "print(\"{} {}\".format(52, type(273)))\n",
    "# \"{} {} {}\".format(52, type(273)) # error\n",
    "print(\"{}\".format(52, 273))\n",
    "52 273\n",
    "52 <class 'int'>\n",
    "52\n",
    "\n",
    "# 함수와 그기능 연결\n",
    "#split() -> 문자열을 특정문자로 자릅니다.\n",
    "#upper() -> 문자열을 대문자로 변환합니다. \n",
    "#lower() -> 문자열을 소문자로 변환합니다.\n",
    "#strip() -> 문자열 양옆의 공백을 제거합니다.\n",
    "\n",
    "a= input(\"> 1번째 숫자 : \")\n",
    "b= input(\"> 2번째 숫자 : \")\n",
    "print()\n",
    "print(\"{} + {} = {}\".format(a, b, int(a)+int(b)))# error\n",
    "> 1번째 숫자 : 100\n",
    "> 2번째 숫자 : 200\n",
    "\n",
    "100 + 200 = 300\n",
    "string = \"hello\"\n",
    "string.upper()\n",
    "print(\"A 지점:\", string)\n",
    "print(\"B 지점:\", string.upper())\n",
    "\n",
    "A 지점: hello\n",
    "B 지점: HELLO\n",
    "    \n",
    "# 1. 키보드에서 정수를 입력받아  input_a 변수에 저장하세요\n",
    "# 2. 키보드에서 정수를 입력받아 input_b 변수에 저장하세요\n",
    "# 3. 두 변수의 합과 곱을  format()함수를 이용하여 출력하세요\n",
    "# 4. 키보드에서 문자열(공백 포함)을 입력받아 input_str에 저장하세요\n",
    "# 5. input_str에서 공백을 제거하고 출력 하세요\n",
    "# 6. input_str 을 공백을 기준으로 단어로 분리하세요\n",
    "# 7. input_str 을 input_a 수만큼 반복해서 출력하세요\n",
    "input_a= input(\"> 1번째 숫자 : \")\n",
    "input_b= input(\"> 2번째 숫자 : \")\n",
    "cal_p = int(input_a) + int(input_b)\n",
    "cal_x = int(input_a) * int(input_b)\n",
    "print(\"{} + {} = {}\".format(input_a, input_b, cal_p))\n",
    "print(\"{} * {} = {}\".format(input_a, input_b, cal_x))\n",
    "\n",
    "input_str= input(\"> 문자열 입력 : \")\n",
    "print(input_str.strip())\n",
    "print(input_str.split())\n",
    "print(str(input_str) * int(input_a))\n",
    "\n",
    "> 1번째 숫자 : 5\n",
    "> 2번째 숫자 : 2\n",
    "5 + 2 = 7\n",
    "5 * 2 = 10\n",
    "> 문자열 입력 : hi\n",
    "hi\n",
    "['hi']\n",
    "hihihihihi"
   ]
  },
  {
   "cell_type": "code",
   "execution_count": null,
   "id": "5dbf2397",
   "metadata": {},
   "outputs": [],
   "source": []
  }
 ],
 "metadata": {
  "kernelspec": {
   "display_name": "Python 3 (ipykernel)",
   "language": "python",
   "name": "python3"
  },
  "language_info": {
   "codemirror_mode": {
    "name": "ipython",
    "version": 3
   },
   "file_extension": ".py",
   "mimetype": "text/x-python",
   "name": "python",
   "nbconvert_exporter": "python",
   "pygments_lexer": "ipython3",
   "version": "3.9.7"
  }
 },
 "nbformat": 4,
 "nbformat_minor": 5
}
