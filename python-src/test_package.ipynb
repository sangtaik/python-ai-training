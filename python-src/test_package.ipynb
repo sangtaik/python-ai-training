{
 "cells": [
  {
   "cell_type": "code",
   "execution_count": 3,
   "id": "77126dd1",
   "metadata": {},
   "outputs": [
    {
     "name": "stdout",
     "output_type": "stream",
     "text": [
      "a 모듈의 변수\n",
      "b 모듈의 변수\n"
     ]
    }
   ],
   "source": [
    "from test_package import *\n",
    "\n",
    "print(module_a.variable_a)\n",
    "print(module_b.variable_b)"
   ]
  },
  {
   "cell_type": "code",
   "execution_count": null,
   "id": "6a81bd90",
   "metadata": {},
   "outputs": [],
   "source": []
  }
 ],
 "metadata": {
  "kernelspec": {
   "display_name": "Python 3 (ipykernel)",
   "language": "python",
   "name": "python3"
  },
  "language_info": {
   "codemirror_mode": {
    "name": "ipython",
    "version": 3
   },
   "file_extension": ".py",
   "mimetype": "text/x-python",
   "name": "python",
   "nbconvert_exporter": "python",
   "pygments_lexer": "ipython3",
   "version": "3.9.7"
  }
 },
 "nbformat": 4,
 "nbformat_minor": 5
}
