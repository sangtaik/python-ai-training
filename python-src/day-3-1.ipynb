{
 "cells": [
  {
   "cell_type": "markdown",
   "id": "3b72216a",
   "metadata": {},
   "source": [
    "# 함수 생성"
   ]
  },
  {
   "cell_type": "code",
   "execution_count": 1,
   "id": "8574c947",
   "metadata": {},
   "outputs": [
    {
     "name": "stdout",
     "output_type": "stream",
     "text": [
      "안녕하세요\n",
      "안녕하세요\n",
      "안녕하세요\n"
     ]
    }
   ],
   "source": [
    "# 3번 출력하는 함수\n",
    "\n",
    "def print_3_times(message, n):\n",
    "    for i in range(n):\n",
    "        print(message)\n",
    "        \n",
    "print_3_times(\"안녕하세요\", 3)"
   ]
  },
  {
   "cell_type": "code",
   "execution_count": 2,
   "id": "70dd9ca1",
   "metadata": {},
   "outputs": [
    {
     "name": "stdout",
     "output_type": "stream",
     "text": [
      "안녕하세요\n",
      "즐거운\n",
      "파이썬 프로그램\n",
      "\n",
      "안녕하세요\n",
      "즐거운\n",
      "파이썬 프로그램\n",
      "\n",
      "안녕하세요\n",
      "즐거운\n",
      "파이썬 프로그램\n",
      "\n"
     ]
    }
   ],
   "source": [
    "# 가변 매개변수\n",
    "# 가변 변수는 가장 마지막에 넣어준다.\n",
    "def print_n_times(n, *values):\n",
    "    for i in range(n):\n",
    "        # values는 리스트\n",
    "        for value in values:\n",
    "            print(value)\n",
    "        # 단순한 줄바꿈\n",
    "        print()\n",
    "        \n",
    "print_n_times(3, \"안녕하세요\", \"즐거운\", \"파이썬 프로그램\")"
   ]
  },
  {
   "cell_type": "code",
   "execution_count": 3,
   "id": "7f5ca017",
   "metadata": {},
   "outputs": [
    {
     "name": "stdout",
     "output_type": "stream",
     "text": [
      "안녕하세요.\n",
      "안녕하세요.\n",
      "\n",
      "안녕하세요.\n",
      "안녕하세요.\n",
      "안녕하세요.\n"
     ]
    }
   ],
   "source": [
    "# 기본 매개변수를 지정 (n=2)\n",
    "\n",
    "def print_n_times(value, n=2):\n",
    "    for i in range(n):\n",
    "        print(value)\n",
    "\n",
    "# n을 생략하면 2번 출력\n",
    "print_n_times(\"안녕하세요.\")\n",
    "print()\n",
    "# n을 입력하면 입력한 숫자만큼 출력\n",
    "print_n_times(\"안녕하세요.\", 3)"
   ]
  },
  {
   "cell_type": "code",
   "execution_count": 4,
   "id": "04cb6f13",
   "metadata": {},
   "outputs": [
    {
     "ename": "TypeError",
     "evalue": "'str' object cannot be interpreted as an integer",
     "output_type": "error",
     "traceback": [
      "\u001b[1;31m---------------------------------------------------------------------------\u001b[0m",
      "\u001b[1;31mTypeError\u001b[0m                                 Traceback (most recent call last)",
      "\u001b[1;32m~\\AppData\\Local\\Temp/ipykernel_14328/2372815576.py\u001b[0m in \u001b[0;36m<module>\u001b[1;34m\u001b[0m\n\u001b[0;32m      9\u001b[0m \u001b[1;33m\u001b[0m\u001b[0m\n\u001b[0;32m     10\u001b[0m \u001b[1;31m# TypeError: 'str' object cannot be interpreted as an intege\u001b[0m\u001b[1;33m\u001b[0m\u001b[1;33m\u001b[0m\u001b[0m\n\u001b[1;32m---> 11\u001b[1;33m \u001b[0mprint_n_times\u001b[0m\u001b[1;33m(\u001b[0m\u001b[1;34m\"안녕하세요\"\u001b[0m\u001b[1;33m,\u001b[0m \u001b[1;34m\"즐거운\"\u001b[0m\u001b[1;33m,\u001b[0m \u001b[1;34m\"파이썬 프로그램\"\u001b[0m\u001b[1;33m)\u001b[0m\u001b[1;33m\u001b[0m\u001b[1;33m\u001b[0m\u001b[0m\n\u001b[0m",
      "\u001b[1;32m~\\AppData\\Local\\Temp/ipykernel_14328/2372815576.py\u001b[0m in \u001b[0;36mprint_n_times\u001b[1;34m(n, *values)\u001b[0m\n\u001b[0;32m      1\u001b[0m \u001b[1;31m# 기본 매개변수 뒤에는 가변 매개 변수가 올 수 없다.\u001b[0m\u001b[1;33m\u001b[0m\u001b[1;33m\u001b[0m\u001b[0m\n\u001b[0;32m      2\u001b[0m \u001b[1;32mdef\u001b[0m \u001b[0mprint_n_times\u001b[0m\u001b[1;33m(\u001b[0m\u001b[0mn\u001b[0m\u001b[1;33m=\u001b[0m\u001b[1;36m2\u001b[0m\u001b[1;33m,\u001b[0m \u001b[1;33m*\u001b[0m\u001b[0mvalues\u001b[0m\u001b[1;33m)\u001b[0m\u001b[1;33m:\u001b[0m\u001b[1;33m\u001b[0m\u001b[1;33m\u001b[0m\u001b[0m\n\u001b[1;32m----> 3\u001b[1;33m     \u001b[1;32mfor\u001b[0m \u001b[0mi\u001b[0m \u001b[1;32min\u001b[0m \u001b[0mrange\u001b[0m\u001b[1;33m(\u001b[0m\u001b[0mn\u001b[0m\u001b[1;33m)\u001b[0m\u001b[1;33m:\u001b[0m\u001b[1;33m\u001b[0m\u001b[1;33m\u001b[0m\u001b[0m\n\u001b[0m\u001b[0;32m      4\u001b[0m         \u001b[1;31m# values는 리스트\u001b[0m\u001b[1;33m\u001b[0m\u001b[1;33m\u001b[0m\u001b[0m\n\u001b[0;32m      5\u001b[0m         \u001b[1;32mfor\u001b[0m \u001b[0mvalue\u001b[0m \u001b[1;32min\u001b[0m \u001b[0mvalues\u001b[0m\u001b[1;33m:\u001b[0m\u001b[1;33m\u001b[0m\u001b[1;33m\u001b[0m\u001b[0m\n",
      "\u001b[1;31mTypeError\u001b[0m: 'str' object cannot be interpreted as an integer"
     ]
    }
   ],
   "source": [
    "# 기본 매개변수 뒤에는 가변 매개 변수가 올 수 없다.\n",
    "def print_n_times(n=2, *values):\n",
    "    for i in range(n):\n",
    "        # values는 리스트\n",
    "        for value in values:\n",
    "            print(value)\n",
    "        # 단순한 줄바꿈\n",
    "        print()\n",
    "\n",
    "# TypeError: 'str' object cannot be interpreted as an intege       \n",
    "print_n_times(\"안녕하세요\", \"즐거운\", \"파이썬 프로그램\")"
   ]
  },
  {
   "cell_type": "code",
   "execution_count": null,
   "id": "959bb673",
   "metadata": {},
   "outputs": [],
   "source": [
    "# 가변 매개 변수 뒤에 기본 매개 변수를 사용.\n",
    "def print_n_times(*values, n=2):\n",
    "    for i in range(n):\n",
    "        # values는 리스트\n",
    "        for value in values:\n",
    "            print(value)\n",
    "        # 단순한 줄바꿈\n",
    "        print()\n",
    "\n",
    "# 2번 정상 출력      \n",
    "print_n_times(\"안녕하세요\", \"즐거운\", \"파이썬 프로그램\")\n",
    "print()\n",
    "# n을 입력하면 입력한 숫자만큼 출력을 기대했으나...\n",
    "# 3을 가변변수로 인식하여 기대대로 안나옴\n",
    "print_n_times(\"안녕하세요\", \"즐거운\", \"파이썬 프로그램\", 3)"
   ]
  },
  {
   "cell_type": "markdown",
   "id": "70959dc5",
   "metadata": {},
   "source": [
    "#### 함수의 매개변수 : 일반, 기본, 가변\n",
    "#### 나열 기본은 가변, 기본 순서로"
   ]
  },
  {
   "cell_type": "markdown",
   "id": "11f21b8b",
   "metadata": {},
   "source": [
    "#### 키워드 매개변수\n",
    "#### 가변 변수와 기본 매개변수를 같이 사용할 수 있는 방법이다\n",
    "#### 사용법 \n",
    "#### 함수명(*가변변수, 키워드=값)"
   ]
  },
  {
   "cell_type": "code",
   "execution_count": null,
   "id": "b7957dcd",
   "metadata": {},
   "outputs": [],
   "source": [
    "def print_n_times(*values, n=2):\n",
    "    for i in range(n):\n",
    "        # values는 리스트\n",
    "        for value in values:\n",
    "            print(value)\n",
    "        # 단순한 줄바꿈\n",
    "        print()\n",
    "\n",
    "# 2번 정상 출력      \n",
    "print_n_times(\"안녕하세요\", \"즐거운\", \"파이썬 프로그램\")\n",
    "print()\n",
    "# 매개변수 n을 명시하여 사용하면 기대한만큼 3번 정상 출력된다 \n",
    "print_n_times(\"안녕하세요\", \"즐거운\", \"파이썬 프로그램\", n=3)"
   ]
  },
  {
   "cell_type": "code",
   "execution_count": null,
   "id": "4122437d",
   "metadata": {},
   "outputs": [],
   "source": [
    "def test(a, b=10, c=100):\n",
    "    print(a+b+c)\n",
    "\n",
    "# 1) 기본형태\n",
    "test(10, 20, 30)\n",
    "# 2) 키워드 매개변수로 모든 매개변수를 지정한 형태\n",
    "test(a=10, b=100, c=200)\n",
    "# 3) 키워드 매개변수로 모든 매개변수를 마구잡이로 지정한 형태\n",
    "test(c=10, a=100, b=200)\n",
    "# 4) 키워드 매개변수로 일부 매개변수만 지정한 형태\n",
    "test(10, c=200)"
   ]
  },
  {
   "cell_type": "code",
   "execution_count": null,
   "id": "5d8f01f5",
   "metadata": {},
   "outputs": [],
   "source": [
    "#### 리턴"
   ]
  },
  {
   "cell_type": "code",
   "execution_count": null,
   "id": "6d9a655f",
   "metadata": {},
   "outputs": [],
   "source": [
    "def return_test():\n",
    "    print(\"A 위치입니다.\")\n",
    "    return\n",
    "    print(\"B 위치입니다.\") #출력되지 않는다.\n",
    "    \n",
    "return_test()"
   ]
  },
  {
   "cell_type": "code",
   "execution_count": null,
   "id": "611d7b1a",
   "metadata": {},
   "outputs": [],
   "source": [
    "# 리턴 값있는 함수 \n",
    "def return_test():\n",
    "    return 100\n",
    "\n",
    "value = return_test()\n",
    "print(value)"
   ]
  },
  {
   "cell_type": "code",
   "execution_count": null,
   "id": "a05e9036",
   "metadata": {},
   "outputs": [],
   "source": [
    "# 리턴 값없는 함수 \n",
    "def return_test():\n",
    "    return\n",
    "\n",
    "def return_test_pass():\n",
    "    pass\n",
    "\n",
    "# return keyword가 아예 없는 함수\n",
    "def return_test_no_return():\n",
    "    a = 1\n",
    "\n",
    "value = return_test()\n",
    "value_pass = return_test_pass()\n",
    "value_no_return = return_test_no_return()\n",
    "\n",
    "# None\n",
    "print(value)\n",
    "\n",
    "#None\n",
    "print(value_pass)\n",
    "\n",
    "#None\n",
    "print(value_no_return)"
   ]
  },
  {
   "cell_type": "code",
   "execution_count": null,
   "id": "bddd2172",
   "metadata": {},
   "outputs": [],
   "source": [
    "def comp_func(num1, buho, num2):\n",
    "    if buho == '+':\n",
    "        result = num1 + num2\n",
    "    elif buho == '-':\n",
    "        result = num1 - num2\n",
    "    elif buho == '*':\n",
    "        result = num1 * num2\n",
    "    elif buho == '/':\n",
    "        result = num1 / num2\n",
    "    else :\n",
    "        print(\"ERROR : not operation :l +-*/[buho]\")\n",
    "        return -1\n",
    "    return result\n",
    "\n",
    "while True:\n",
    "    input_data = input(\"계산식 입력 (10 + 20), 종료: 'q' \").split()\n",
    "    if input_data[0] =='q':\n",
    "        break\n",
    "        \n",
    "    if len(input_data) < 3:\n",
    "        print(\"인자 값이 모자릅니다.( 숫자 부호 숫자)\")\n",
    "        continue\n",
    "    if not (input_data[0].isdigit() and input_data[2].isdigit()):\n",
    "        continue \n",
    "    # 부호는 '+, -, *, /' 이외의 부호가 입력되면 계속\n",
    "    if not input_data[1] in \"+-/*\":\n",
    "        continue\n",
    "        \n",
    "    num1 = int(input_data[0])\n",
    "    buho = input_data[1]\n",
    "    num2 = int(input_data[2])\n",
    "    result = comp_func(num1, buho, num2)\n",
    "            \n",
    "    print(\"{} {} {} = {}\".format(num1, buho, num2, result))"
   ]
  },
  {
   "cell_type": "code",
   "execution_count": null,
   "id": "f6b898c3",
   "metadata": {},
   "outputs": [],
   "source": [
    "# 이름과 성적을 입력받아 각각 리스트에 저장하는 함수 작성\n",
    "# 검색하고자 하는 이름 입력\n",
    "# 저장한 리스트와 성적을 출력\n",
    "# 입력 함수, 검색 함수, 출력함수\n",
    "\n",
    "dic_student = {}\n",
    "\n",
    "dic_student = {\n",
    "  0 :{'id': 0, 'name': 'john', 'score': '87'}\n",
    ", 1 :{'id': 1, 'name': 'zelan', 'score': '76'}\n",
    ", 2 :{'id': 2, 'name': 'sike', 'score': '100'}\n",
    ", 3 :{'id': 3, 'name': 'kumamoto', 'score': '20'}\n",
    ", 4 :{'id': 4, 'name': 'pole', 'score': '50'}\n",
    ", 5 :{'id': 5, 'name': 'zamba', 'score': '70'}\n",
    ", 6 :{'id': 6, 'name': 'hoi', 'score': '100'}\n",
    ", 7 :{'id': 7, 'name': 'alli', 'score': '90'}\n",
    ", 8 :{'id': 8, 'name': 'mao', 'score': '90'}\n",
    ", 9 :{'id': 9, 'name': 'julia', 'score': '10'}\n",
    "}\n",
    "\n",
    "\n",
    "\n",
    "def input_data():\n",
    "    i = 0\n",
    "    while True:\n",
    "        dict_a = {}\n",
    "\n",
    "        input_data = input(\"이름과 성적을 입력하세요. 종료: 'q'\\\n",
    "                        각 이름과 성적은 ','로 구분합니다. \")\n",
    "        if input_data[0] =='q':\n",
    "            break\n",
    "\n",
    "        if len(input_data) < 2:\n",
    "            print(\"인자 값이 모자릅니다.( 이름, 성적)\")\n",
    "            continue\n",
    "\n",
    "        student = input_data.split(\",\")\n",
    "        print(student)\n",
    "        if not (student[1].strip().isdigit()):\n",
    "            print(\"성적값은 정수로 입력해야 합니다.)\")\n",
    "            continue\n",
    "\n",
    "        dict_a[\"id\"] = id\n",
    "        dict_a[\"name\"] = student[0]\n",
    "        dict_a[\"score\"] = student[1]\n",
    "        dict_student[i] = dict_a\n",
    "        i += 1\n",
    "\n",
    "    return dict_student\n",
    "\n",
    "    \n",
    "def search_data(student):\n",
    "    search_name = input(\"검색할 이름 입력 : \")\n",
    "    for id, student_info in student.items():\n",
    "        for elements in student_info:\n",
    "            if elements == \"name\":\n",
    "                if student_info[elements] == search_name:\n",
    "                    return student_info\n",
    "    return\n",
    "\n",
    "def print_search(data):\n",
    "        print(data[\"name\"], data[\"score\"])\n",
    "\n",
    "\n",
    "def print_all(student):\n",
    "    total = 0\n",
    "    cnt = 0\n",
    "    for key, value in student.items():\n",
    "        cnt += 1\n",
    "        print(key, value)\n",
    "        for elements in value:\n",
    "            if elements == \"score\":\n",
    "                total += int(value[elements])\n",
    "    print(\"인원 : {}, 총합 : {} , 평균 : {:3.2f}\".format(cnt, total, total/cnt))\n",
    "\n",
    "    for key, value in student.items():\n",
    "            for item_key, item_value in value.items():\n",
    "                print(item_key, ' : ', item_value )\n",
    "    \n",
    "\n",
    "dic_student = input_data()\n",
    "data = search_data(dic_student)\n",
    "if data:\n",
    "    print(\"{} : {} 를 검색하였습니다.\".format(data[\"name\"], data[\"score\"]))\n",
    "else :\n",
    "    print(\"{} 검색하고자 하는 이름을 찾을 수 없습니다.\".format(key))\n",
    "print_search(data)\n",
    "#print_all(student)\n",
    "\n"
   ]
  },
  {
   "cell_type": "code",
   "execution_count": 17,
   "id": "d1bca88e",
   "metadata": {},
   "outputs": [
    {
     "name": "stdout",
     "output_type": "stream",
     "text": [
      "이름 성적 입력 (종료는 'q'): ㅁㅁ 10 20 30\n",
      "이름 성적 입력 (종료는 'q'): rr 10 20 30\n",
      "이름 성적 입력 (종료는 'q'): q\n",
      "student : {'ㅁㅁ': [10, 20, 30], 'rr': [10, 20, 30]} \n",
      "{'ㅁㅁ': [10, 20, 30], 'rr': [10, 20, 30]}\n",
      "[[10, 10], [20, 20], [30, 30]]\n",
      "국어 총합 : 20, 평균 : 10.00 \n",
      "영어 총합 : 40, 평균 : 20.00 \n",
      "수학 총합 : 60, 평균 : 30.00 \n",
      "3\n",
      "3\n",
      "{'ㅁㅁ': [10, 20, 30, 60, 20.0], 'rr': [10, 20, 30, 60, 20.0]}\n"
     ]
    }
   ],
   "source": [
    "#### 문2\n",
    "\n",
    "\n",
    "def input_data_1():\n",
    "    student = {}\n",
    "    while True:\n",
    "        input_data = input(\"이름 성적 입력 (종료는 'q'): \").split()\n",
    "        if input_data[0] == 'q':\n",
    "            break\n",
    "        elif len(input_data) < 4:\n",
    "            print(\"invalide len parameter\")\n",
    "            continue\n",
    "        elif not input_data[1].isdigit():\n",
    "            print(\"student {} is not isdigit\".format(input_data[1]))\n",
    "            continue\n",
    "        score = []\n",
    "        for i in range(3):\n",
    "            score.append(int(input_data[i+1]))\n",
    "        student[input_data[0]] = score\n",
    "    print(\"student : {} \".format(student))\n",
    "    return student\n",
    "\n",
    "def total_data(student):\n",
    "    total = [[],[],[]]  # 각 과목의 점수 리스트\n",
    "    for key, values in student.items():\n",
    "        for i in range(3):\n",
    "            total[i].append(values[i])\n",
    "    return total\n",
    "\n",
    "def input_update_data(student):\n",
    "    for key, values in student.items():\n",
    "        cnt = len(values)\n",
    "        tot = sum(values)\n",
    "        values.append(tot) \n",
    "        values.append(tot/cnt)\n",
    "    return student\n",
    "    \n",
    "student = input_data_1()\n",
    "print(student)\n",
    "\n",
    "total = total_data(student)\n",
    "print(total)\n",
    "title_name = ['국어', '영어', '수학']\n",
    "\n",
    "for i in range(len(total)):\n",
    "    print(\"{} 총합 : {}, 평균 : {:3.2f} \".format(title_name[i],\n",
    "                                           sum(total[i]),\n",
    "                                           sum(total[i])/len(student))\n",
    "                                           )\n",
    "student = input_update_data(student)\n",
    "print(student)"
   ]
  },
  {
   "cell_type": "code",
   "execution_count": null,
   "id": "6d9b6576",
   "metadata": {},
   "outputs": [],
   "source": []
  }
 ],
 "metadata": {
  "kernelspec": {
   "display_name": "Python 3 (ipykernel)",
   "language": "python",
   "name": "python3"
  },
  "language_info": {
   "codemirror_mode": {
    "name": "ipython",
    "version": 3
   },
   "file_extension": ".py",
   "mimetype": "text/x-python",
   "name": "python",
   "nbconvert_exporter": "python",
   "pygments_lexer": "ipython3",
   "version": "3.9.7"
  }
 },
 "nbformat": 4,
 "nbformat_minor": 5
}
