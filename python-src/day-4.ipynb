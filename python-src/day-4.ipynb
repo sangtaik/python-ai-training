{
 "cells": [
  {
   "cell_type": "markdown",
   "id": "acb09b37",
   "metadata": {},
   "source": [
    "### 재귀 함수"
   ]
  },
  {
   "cell_type": "code",
   "execution_count": null,
   "id": "1df55aed",
   "metadata": {},
   "outputs": [],
   "source": [
    "def factorial(n):\n",
    "    if n ==0:\n",
    "        return 1\n",
    "    else :\n",
    "        return n * factorial(n-1)\n",
    "\n",
    "print(\"1! : \", factorial(1))\n",
    "print(\"2! : \", factorial(2))\n",
    "print(\"3! : \", factorial(3))\n",
    "print(\"4! : \", factorial(4))\n",
    "print(\"5! : \", factorial(5))"
   ]
  },
  {
   "cell_type": "code",
   "execution_count": null,
   "id": "9c2a5173",
   "metadata": {},
   "outputs": [],
   "source": [
    "def fibonacci(n):\n",
    "    if n ==1:\n",
    "        return 1\n",
    "    if n == 2:\n",
    "        return 1\n",
    "    else:\n",
    "        return fibonacci(n-1) + fibonacci(n-2)\n",
    "    \n",
    "print(\"fibonacci(1)\", fibonacci(1))\n",
    "print(\"fibonacci(2)\", fibonacci(2))\n",
    "print(\"fibonacci(3)\", fibonacci(3))\n",
    "print(\"fibonacci(4)\", fibonacci(4))\n",
    "print(\"fibonacci(5)\", fibonacci(5))\n"
   ]
  },
  {
   "cell_type": "code",
   "execution_count": 34,
   "id": "1333f1d7",
   "metadata": {},
   "outputs": [
    {
     "name": "stdout",
     "output_type": "stream",
     "text": [
      "fibonacci(10)를 구합니다.\n",
      "fibonacci(9)를 구합니다.\n",
      "fibonacci(8)를 구합니다.\n",
      "fibonacci(7)를 구합니다.\n",
      "fibonacci(6)를 구합니다.\n",
      "fibonacci(5)를 구합니다.\n",
      "fibonacci(4)를 구합니다.\n",
      "fibonacci(3)를 구합니다.\n",
      "fibonacci(2)를 구합니다.\n",
      "fibonacci(1)를 구합니다.\n",
      "fibonacci(2)를 구합니다.\n",
      "fibonacci(3)를 구합니다.\n",
      "fibonacci(2)를 구합니다.\n",
      "fibonacci(1)를 구합니다.\n",
      "fibonacci(4)를 구합니다.\n",
      "fibonacci(3)를 구합니다.\n",
      "fibonacci(2)를 구합니다.\n",
      "fibonacci(1)를 구합니다.\n",
      "fibonacci(2)를 구합니다.\n",
      "fibonacci(5)를 구합니다.\n",
      "fibonacci(4)를 구합니다.\n",
      "fibonacci(3)를 구합니다.\n",
      "fibonacci(2)를 구합니다.\n",
      "fibonacci(1)를 구합니다.\n",
      "fibonacci(2)를 구합니다.\n",
      "fibonacci(3)를 구합니다.\n",
      "fibonacci(2)를 구합니다.\n",
      "fibonacci(1)를 구합니다.\n",
      "fibonacci(6)를 구합니다.\n",
      "fibonacci(5)를 구합니다.\n",
      "fibonacci(4)를 구합니다.\n",
      "fibonacci(3)를 구합니다.\n",
      "fibonacci(2)를 구합니다.\n",
      "fibonacci(1)를 구합니다.\n",
      "fibonacci(2)를 구합니다.\n",
      "fibonacci(3)를 구합니다.\n",
      "fibonacci(2)를 구합니다.\n",
      "fibonacci(1)를 구합니다.\n",
      "fibonacci(4)를 구합니다.\n",
      "fibonacci(3)를 구합니다.\n",
      "fibonacci(2)를 구합니다.\n",
      "fibonacci(1)를 구합니다.\n",
      "fibonacci(2)를 구합니다.\n",
      "fibonacci(7)를 구합니다.\n",
      "fibonacci(6)를 구합니다.\n",
      "fibonacci(5)를 구합니다.\n",
      "fibonacci(4)를 구합니다.\n",
      "fibonacci(3)를 구합니다.\n",
      "fibonacci(2)를 구합니다.\n",
      "fibonacci(1)를 구합니다.\n",
      "fibonacci(2)를 구합니다.\n",
      "fibonacci(3)를 구합니다.\n",
      "fibonacci(2)를 구합니다.\n",
      "fibonacci(1)를 구합니다.\n",
      "fibonacci(4)를 구합니다.\n",
      "fibonacci(3)를 구합니다.\n",
      "fibonacci(2)를 구합니다.\n",
      "fibonacci(1)를 구합니다.\n",
      "fibonacci(2)를 구합니다.\n",
      "fibonacci(5)를 구합니다.\n",
      "fibonacci(4)를 구합니다.\n",
      "fibonacci(3)를 구합니다.\n",
      "fibonacci(2)를 구합니다.\n",
      "fibonacci(1)를 구합니다.\n",
      "fibonacci(2)를 구합니다.\n",
      "fibonacci(3)를 구합니다.\n",
      "fibonacci(2)를 구합니다.\n",
      "fibonacci(1)를 구합니다.\n",
      "fibonacci(8)를 구합니다.\n",
      "fibonacci(7)를 구합니다.\n",
      "fibonacci(6)를 구합니다.\n",
      "fibonacci(5)를 구합니다.\n",
      "fibonacci(4)를 구합니다.\n",
      "fibonacci(3)를 구합니다.\n",
      "fibonacci(2)를 구합니다.\n",
      "fibonacci(1)를 구합니다.\n",
      "fibonacci(2)를 구합니다.\n",
      "fibonacci(3)를 구합니다.\n",
      "fibonacci(2)를 구합니다.\n",
      "fibonacci(1)를 구합니다.\n",
      "fibonacci(4)를 구합니다.\n",
      "fibonacci(3)를 구합니다.\n",
      "fibonacci(2)를 구합니다.\n",
      "fibonacci(1)를 구합니다.\n",
      "fibonacci(2)를 구합니다.\n",
      "fibonacci(5)를 구합니다.\n",
      "fibonacci(4)를 구합니다.\n",
      "fibonacci(3)를 구합니다.\n",
      "fibonacci(2)를 구합니다.\n",
      "fibonacci(1)를 구합니다.\n",
      "fibonacci(2)를 구합니다.\n",
      "fibonacci(3)를 구합니다.\n",
      "fibonacci(2)를 구합니다.\n",
      "fibonacci(1)를 구합니다.\n",
      "fibonacci(6)를 구합니다.\n",
      "fibonacci(5)를 구합니다.\n",
      "fibonacci(4)를 구합니다.\n",
      "fibonacci(3)를 구합니다.\n",
      "fibonacci(2)를 구합니다.\n",
      "fibonacci(1)를 구합니다.\n",
      "fibonacci(2)를 구합니다.\n",
      "fibonacci(3)를 구합니다.\n",
      "fibonacci(2)를 구합니다.\n",
      "fibonacci(1)를 구합니다.\n",
      "fibonacci(4)를 구합니다.\n",
      "fibonacci(3)를 구합니다.\n",
      "fibonacci(2)를 구합니다.\n",
      "fibonacci(1)를 구합니다.\n",
      "fibonacci(2)를 구합니다.\n",
      "------\n",
      "fibonacci(10) 덧셈 횟수는 109번입니다.\n"
     ]
    }
   ],
   "source": [
    "# 재귀 함수로 구현한 피보나치 수열\n",
    "counter = 0\n",
    "\n",
    "def fibonacci(n):\n",
    "    print(\"fibonacci({})를 구합니다.\".format(n))\n",
    "    global counter\n",
    "    counter += 1\n",
    "    if n ==1:\n",
    "        return 1\n",
    "    if n == 2:\n",
    "        return 1\n",
    "    else:\n",
    "        return fibonacci(n-1) + fibonacci(n-2)\n",
    "    \n",
    "fibonacci(10)\n",
    "print(\"------\")\n",
    "print(\"fibonacci({}) 덧셈 횟수는 {}번입니다.\".format(10, counter))"
   ]
  },
  {
   "cell_type": "code",
   "execution_count": null,
   "id": "33379c51",
   "metadata": {},
   "outputs": [],
   "source": []
  },
  {
   "cell_type": "code",
   "execution_count": null,
   "id": "eec5b2ed",
   "metadata": {},
   "outputs": [],
   "source": []
  },
  {
   "cell_type": "markdown",
   "id": "c7927391",
   "metadata": {},
   "source": [
    "#### 튜플\n",
    "자료값이 변하지 않는다."
   ]
  },
  {
   "cell_type": "code",
   "execution_count": null,
   "id": "15730246",
   "metadata": {},
   "outputs": [],
   "source": [
    "[a, b] = [10, 20] # 리스트\n",
    "(c, d) = (10, 20) # 튜플\n",
    "e = 10, 20 , 30 #괄호 없는 튜플\n",
    "\n",
    "print(\"a: \", a)\n",
    "print(\"b: \", b)\n",
    "print(\"c: \", c)\n",
    "print(\"d: \", d)\n",
    "print(\"e: \", e)"
   ]
  },
  {
   "cell_type": "code",
   "execution_count": null,
   "id": "669577be",
   "metadata": {},
   "outputs": [],
   "source": [
    "# tuple - 값의 수정이 불가능\n",
    "a_list = [1,2,3,4,5]\n",
    "a_tuple = (1,2,3,4,5)\n",
    "\n",
    "print(\"a_list\", a_list)\n",
    "print(\"a_tuple\", a_tuple)\n",
    "\n",
    "a_list[0] = 100\n",
    "# 수정 불가 및 에러 발생\n",
    "# tuple' object does not support item assignment \n",
    "# a_tuple [0] = 100"
   ]
  },
  {
   "cell_type": "code",
   "execution_count": null,
   "id": "3497df21",
   "metadata": {},
   "outputs": [],
   "source": [
    "# 튜플이 값을 교환하는 방식 \n",
    "a, b = 10, 20\n",
    "print(a, b)\n",
    "\n",
    "print(\"-----------\") #\n",
    "\n",
    "b,a = a,b\n",
    "print(a,b)"
   ]
  },
  {
   "cell_type": "markdown",
   "id": "ee81b468",
   "metadata": {},
   "source": [
    "### func 인자 값 전달\n",
    "### map, filter"
   ]
  },
  {
   "cell_type": "code",
   "execution_count": null,
   "id": "433cbd96",
   "metadata": {},
   "outputs": [],
   "source": [
    "# 함수의 매개변수에 함수명 전달 가능\n",
    "def call_10_time(func, n):\n",
    "    for i in range(n):\n",
    "        func()\n",
    "\n",
    "# 간단하게 출력하는 함수\n",
    "def print_hello():\n",
    "    print(\"안녕하세요\")\n",
    "    \n",
    "# 조합하기\n",
    "call_10_time(print_hello, 3)"
   ]
  },
  {
   "cell_type": "code",
   "execution_count": null,
   "id": "3d3afd88",
   "metadata": {},
   "outputs": [],
   "source": [
    "# map, filter : 함수를 매개변수로 받는 내장함수\n",
    "# 이를 사용하면 함수와 값을 \n",
    "# map(함수, 리스트) 함수 : 리턴값으로 새로운 리스트를 생성\n",
    "def power(item):\n",
    "    return item * item\n",
    "\n",
    "# filter(함수, 리스트) \n",
    "# 함수 인자: True조건일 때, 값을 반환하는 함수가 필요하다\n",
    "def under_3(item):\n",
    "    return item < 3\n",
    "\n",
    "list_input_a = [1, 2, 3, 4, 5]\n",
    "\n",
    "# map() 함수를 사용합니다.\n",
    "output_a = map(power, list_input_a)\n",
    "print(\" map() 실행 결과 \", output_a)\n",
    "print(\" map() 실행 결과 \", list(output_a))\n",
    "\n",
    "# filter()함수를 사용합니다.\n",
    "# under_3와 같이 조건이 True일 때, 값을 반환하는 함수가 필요\n",
    "output_a = filter(under_3, list_input_a)\n",
    "print(\" filter() 실행 결과 \", output_a)\n",
    "print(\" filter() 실행 결과 \", list(output_a))"
   ]
  },
  {
   "cell_type": "markdown",
   "id": "5b108ea0",
   "metadata": {},
   "source": [
    "### 람다(Lambda)"
   ]
  },
  {
   "cell_type": "code",
   "execution_count": null,
   "id": "95e32e0a",
   "metadata": {},
   "outputs": [],
   "source": [
    "# 람다는 함수를 간단하게 선언하여 사용하는 것\n",
    "# 함수를 lambda를 활용하여 정의 => lambda 매개변수: 리턴값\n",
    "power = lambda item: item * item\n",
    "under_3 = lambda item: item < 3\n",
    "\n",
    "list_input_a = [1, 2, 3, 4, 5]\n",
    "\n",
    "# map() 함수를 사용합니다.\n",
    "output_a = map(power, list_input_a)\n",
    "print(\" map() 실행 결과 \", list(output_a))\n",
    "\n",
    "# filter()함수를 사용합니다.\n",
    "output_b = filter(under_3, list_input_a)\n",
    "print(\" filter() 실행 결과 \", list(output_b))"
   ]
  },
  {
   "cell_type": "code",
   "execution_count": null,
   "id": "a1c95f3c",
   "metadata": {},
   "outputs": [],
   "source": [
    "# lambda 사용법 2\n",
    "# 더 간결하게 사용할 수 있다.\n",
    "list_input_a = [1, 2, 3, 4, 5]\n",
    "\n",
    "output_a = map(lambda item: item * item, list_input_a)\n",
    "print(\" map() 실행 결과 \", list(output_a))\n",
    "\n",
    "output_b = filter(lambda item: item < 3, list_input_a)\n",
    "print(\" filter() 실행 결과 \", list(output_b))"
   ]
  },
  {
   "cell_type": "code",
   "execution_count": null,
   "id": "647843dd",
   "metadata": {},
   "outputs": [],
   "source": [
    "# lambda 간단 사용법 3\n",
    "\n",
    "def ab_func(a,b):\n",
    "    return a < b\n",
    "\n",
    "a = 10\n",
    "b = 20\n",
    "\n",
    "# 1과 2는 결과가 같다.\n",
    "# 1은 그냥 함수, 2는 람다 함수이다.\n",
    "print(ab_func(a, b)) #1 \n",
    "print((lambda a, b: a > b)(a, b)) #2\n",
    "\n",
    "# 인자 값은 변수로 선언 안하고 바로 값을 넣어도 된다.\n",
    "print((lambda a, b: a + b)(a, b))\n",
    "print((lambda a, b: a + b)(10, 20))"
   ]
  },
  {
   "cell_type": "code",
   "execution_count": null,
   "id": "38805884",
   "metadata": {},
   "outputs": [],
   "source": [
    "# 복잡한 식을 lambda로 사용해보기\n",
    "def comp_func(num1, buho, num2):\n",
    "    if buho == '+':\n",
    "        result = num1 + num2\n",
    "    elif buho == '-':\n",
    "        result = num1 - num2\n",
    "    elif buho == '*':\n",
    "        result = num1 * num2\n",
    "    elif buho == '/':\n",
    "        result = num1 / num2\n",
    "    else :\n",
    "        print(\"ERROR : not operation :l +-*/[buho]\")\n",
    "        return -1\n",
    "    return result\n",
    "# 해당 함수를 lambda로 만들어 보시오"
   ]
  },
  {
   "cell_type": "code",
   "execution_count": null,
   "id": "2998d913",
   "metadata": {},
   "outputs": [],
   "source": [
    "a = 10\n",
    "b = 20\n",
    "# 두 수의 합을 구하는 lambda를 구하시오\n",
    "print((lambda a,b: a+b)(a,b))\n",
    "print((lambda a,b: a-b)(a,b))\n",
    "print((lambda a,b: a*b)(a,b))\n",
    "print((lambda a,b: a/b)(a,b))"
   ]
  },
  {
   "cell_type": "markdown",
   "id": "34b587dc",
   "metadata": {},
   "source": [
    "### 파일 처리"
   ]
  },
  {
   "cell_type": "code",
   "execution_count": null,
   "id": "1412b581",
   "metadata": {},
   "outputs": [],
   "source": [
    "# 파일에 자료를 저장하기\n",
    "file = open(\"test.txt\", \"w\")\n",
    "file.write(\"file write \\n\")\n",
    "file.close() # close해야 파일에 내용이 더해진다."
   ]
  },
  {
   "cell_type": "code",
   "execution_count": null,
   "id": "77c12bdd",
   "metadata": {},
   "outputs": [],
   "source": [
    "# with를 사용하여 파일 핸드링\n",
    "# with 키워드가 생긴 이유 :\n",
    "# file close를 하지 않는 실수를 방지하기 위해서 새로 만든 키워드\n",
    "with open(\"test1.txt\", \"w\") as file: # 자동으로 file을 close한다.\n",
    "    file.write(\"file write \\n\")"
   ]
  },
  {
   "cell_type": "code",
   "execution_count": null,
   "id": "79044af8",
   "metadata": {},
   "outputs": [],
   "source": [
    "# 기존 내용을 지우고, 처음부터 내용 추가\n",
    "with open(\"test1.txt\", \"w\") as file:\n",
    "    for i in range(3):\n",
    "        file.write(\"file write \\n\")"
   ]
  },
  {
   "cell_type": "code",
   "execution_count": null,
   "id": "78d57398",
   "metadata": {},
   "outputs": [],
   "source": [
    "# 기존 내용을 지우지 않고, 뒤에 추가(append)\n",
    "with open(\"test1.txt\", \"a+\") as file:\n",
    "    for i in range(3):\n",
    "        file.write(\"file write+++ \\n\")"
   ]
  },
  {
   "cell_type": "code",
   "execution_count": null,
   "id": "78a083da",
   "metadata": {},
   "outputs": [],
   "source": [
    "# 이렇게 하면 첫글자부터 3줄까지 파일 내용이 수정됨\n",
    "with open(\"test1.txt\", \"r+\") as file:\n",
    "    for i in range(3):\n",
    "        file.write(\"file write 222 \\n\")"
   ]
  },
  {
   "cell_type": "code",
   "execution_count": null,
   "id": "e9006d7b",
   "metadata": {},
   "outputs": [],
   "source": [
    "# 전체를 읽어 가져오기\n",
    "with open(\"test1.txt\", \"r\") as file:\n",
    "    content = file.read()\n",
    "print(content)\n",
    "\n",
    "print()\n",
    "\n",
    "# 1줄 씩 가져오기\n",
    "with open(\"test1.txt\", \"r\") as file:\n",
    "    content = file.readline()\n",
    "print(content)\n",
    "\n",
    "print()\n",
    "\n",
    "# 라인 단위로 전체 데이터를 가져옴\n",
    "# s 글자 반드시 확인 (readline vs readline + s )\n",
    "with open(\"test1.txt\", \"r\") as file:\n",
    "    content = file.readlines()\n",
    "print(content)"
   ]
  },
  {
   "cell_type": "code",
   "execution_count": 15,
   "id": "53709366",
   "metadata": {},
   "outputs": [
    {
     "name": "stdout",
     "output_type": "stream",
     "text": [
      "이름 성적 입력 (종료는 'q'): 김 1 2 3\n",
      "content : 김,1,2,3,\n",
      " \n",
      "이름 성적 입력 (종료는 'q'): 동 1 2 3\n",
      "content : 동,1,2,3,\n",
      " \n",
      "이름 성적 입력 (종료는 'q'): q\n",
      "file write end --- \n",
      "{'김': ['1', '2', '3'], '동': ['1', '2', '3']}\n"
     ]
    }
   ],
   "source": [
    "# 이름 국어, 영어, 수학 점수를 입력받아 파일(student.txt)에 저장한 후\n",
    "# 저장 형식은 홍길동, 90, 10, 100 이런 식으로 cvs 형식으로\n",
    "# 저장된 파일에서 데이터를 라인 단위로 가져와서 딕셔너리에 저장(r)\n",
    "# 데이터 처리\n",
    "students = {}\n",
    "def input_data(file):\n",
    "    while True:\n",
    "        input_data = input(\"이름 성적 입력 (종료는 'q'): \").split()\n",
    "        if input_data[0] == 'q':\n",
    "            break\n",
    "\n",
    "        elif len(input_data) < 4:\n",
    "            print(\"invalide len parameter\")\n",
    "            continue\n",
    "        elif not input_data[1].isdigit():\n",
    "            print(\"student {} is not isdigit\".format(input_data[1]))\n",
    "            continue\n",
    "        content = ','.join(input_data)\n",
    "        content += ',\\n'\n",
    "        print(\"content : {} \".format(content))\n",
    "        file.write(content)\n",
    "\n",
    "def read_data(file):\n",
    "    global students\n",
    "    for data in file.readlines():\n",
    "        data_1 = data.split(',')\n",
    "        students[data_1[0]] = [data_1[1],data_1[2],data_1[3]] \n",
    "    \n",
    "with open(\"student.txt\", \"w\") as file:\n",
    "    input_data(file)\n",
    "print(\"file write end --- \")\n",
    "\n",
    "with open(\"student.txt\", \"r\") as file:\n",
    "    read_data(file)\n",
    "print(students)"
   ]
  },
  {
   "cell_type": "markdown",
   "id": "4467385c",
   "metadata": {},
   "source": [
    "### 예외 처리"
   ]
  },
  {
   "cell_type": "code",
   "execution_count": 18,
   "id": "fa14a324",
   "metadata": {},
   "outputs": [
    {
     "name": "stdout",
     "output_type": "stream",
     "text": [
      "정수 입력: a\n"
     ]
    }
   ],
   "source": [
    "# try except 구문\n",
    "# 프로그램 실행 시 발생할 수 있는 오류 처리\n",
    "\n",
    "try:\n",
    "    input_number = int(input(\"정수 입력: \"))\n",
    "    print(\"원의 반지름 : \", input_number)\n",
    "    print(\"원의 둘레 : \", input_number * 2 * 3.14)\n",
    "    print(\"원의 넓이 : \", input_number * input_number)\n",
    "except:\n",
    "    # print(\"오류 발생\")\n",
    "    pass"
   ]
  },
  {
   "cell_type": "code",
   "execution_count": 21,
   "id": "0d87258b",
   "metadata": {},
   "outputs": [
    {
     "name": "stdout",
     "output_type": "stream",
     "text": [
      "['10', '20', 'test', '30'] 내부에 있는 숫자는 [10.0, 20.0, 30.0] 입니다.\n"
     ]
    }
   ],
   "source": [
    "list_input = ['10','20', 'test', '30']\n",
    "\n",
    "list_number = []\n",
    "for item in list_input:\n",
    "    try:\n",
    "        list_number.append(float(item))\n",
    "    except:\n",
    "        pass\n",
    "    \n",
    "print(\"{} 내부에 있는 숫자는 {} 입니다.\".format(list_input, list_number))"
   ]
  },
  {
   "cell_type": "code",
   "execution_count": 23,
   "id": "82214c9b",
   "metadata": {},
   "outputs": [
    {
     "name": "stdout",
     "output_type": "stream",
     "text": [
      "정수 입력: ㅁ\n",
      "오류 발생\n"
     ]
    }
   ],
   "source": [
    "# try: 코드 \n",
    "# except: 예외 처리 코드\n",
    "# else: 코드가 정상일 때 실행하는 코드\n",
    "try:\n",
    "    input_number = int(input(\"정수 입력: \"))\n",
    "except:\n",
    "    print(\"오류 발생\")\n",
    "else:\n",
    "    print(\"원의 반지름 : \", input_number)\n",
    "    print(\"원의 둘레 : \", input_number * 2 * 3.14)\n",
    "    print(\"원의 넓이 : \", input_number * input_number)"
   ]
  },
  {
   "cell_type": "code",
   "execution_count": 25,
   "id": "9a74c17d",
   "metadata": {},
   "outputs": [
    {
     "name": "stdout",
     "output_type": "stream",
     "text": [
      "정수 입력: s\n",
      "오류 발생\n",
      "invalid literal for int() with base 10: 's'\n",
      "program end!!\n"
     ]
    }
   ],
   "source": [
    "# try: 코드 \n",
    "# except: 예외 처리 코드\n",
    "# else: 코드가 정상일 때 실행하는 코드\n",
    "# finally : 무조건 실행할 코드\n",
    "try:\n",
    "    input_number = int(input(\"정수 입력: \"))\n",
    "except Exception as e:\n",
    "    print(\"오류 발생\")\n",
    "    print(e)\n",
    "else:\n",
    "    print(\"원의 반지름 : \", input_number)\n",
    "    print(\"원의 둘레 : \", input_number * 2 * 3.14)\n",
    "    print(\"원의 넓이 : \", input_number * input_number)\n",
    "finally:\n",
    "    print(\"program end!!\")"
   ]
  },
  {
   "cell_type": "code",
   "execution_count": 29,
   "id": "da51d7dc",
   "metadata": {},
   "outputs": [
    {
     "name": "stdout",
     "output_type": "stream",
     "text": [
      "<class 'Exception'>\n"
     ]
    }
   ],
   "source": [
    "try:\n",
    "    file = open(\"a.txt\", 'w')\n",
    "    file.write(\"test\")\n",
    "    a += 2\n",
    "except Exception:\n",
    "       print(Exception) \n",
    "finally:\n",
    "    file.close()"
   ]
  },
  {
   "cell_type": "code",
   "execution_count": 30,
   "id": "b1e19eec",
   "metadata": {},
   "outputs": [
    {
     "name": "stdout",
     "output_type": "stream",
     "text": [
      "try 구문 실행\n",
      "finally 구문 실행\n",
      "while 종료\n"
     ]
    }
   ],
   "source": [
    "# break문이 있어도 finally 구문은 실행한다.\n",
    "while True:\n",
    "    try:\n",
    "        print(\"try 구문 실행\")\n",
    "        break\n",
    "    except:\n",
    "        print(\"except 구문 실행\")\n",
    "    finally:\n",
    "        print(\"finally 구문 실행\")\n",
    "        \n",
    "print(\"while 종료\")"
   ]
  },
  {
   "cell_type": "code",
   "execution_count": 32,
   "id": "9d620c13",
   "metadata": {},
   "outputs": [
    {
     "name": "stdout",
     "output_type": "stream",
     "text": [
      "try 구문 실행\n",
      "finally 구문 실행\n",
      "end\n"
     ]
    }
   ],
   "source": [
    "# return 이후에도 finally 구문은 실행된다.\n",
    "\n",
    "def try_func():\n",
    "    try:\n",
    "        print(\"try 구문 실행\")\n",
    "        return\n",
    "    except:\n",
    "        print(\"except 구문 실행\")\n",
    "    finally:\n",
    "        print(\"finally 구문 실행\")\n",
    "try_func()\n",
    "print(\"end\")"
   ]
  },
  {
   "cell_type": "code",
   "execution_count": 37,
   "id": "52ba6a3c",
   "metadata": {},
   "outputs": [
    {
     "ename": "KeyboardInterrupt",
     "evalue": "Interrupted by user",
     "output_type": "error",
     "traceback": [
      "\u001b[1;31m---------------------------------------------------------------------------\u001b[0m",
      "\u001b[1;31mKeyboardInterrupt\u001b[0m                         Traceback (most recent call last)",
      "\u001b[1;32m~\\AppData\\Local\\Temp/ipykernel_14344/406358961.py\u001b[0m in \u001b[0;36m<module>\u001b[1;34m\u001b[0m\n\u001b[0;32m      3\u001b[0m \u001b[1;33m\u001b[0m\u001b[0m\n\u001b[0;32m      4\u001b[0m \u001b[1;32mtry\u001b[0m\u001b[1;33m:\u001b[0m\u001b[1;33m\u001b[0m\u001b[1;33m\u001b[0m\u001b[0m\n\u001b[1;32m----> 5\u001b[1;33m     \u001b[0mnumber_input\u001b[0m \u001b[1;33m=\u001b[0m \u001b[0mint\u001b[0m\u001b[1;33m(\u001b[0m\u001b[0minput\u001b[0m\u001b[1;33m(\u001b[0m\u001b[1;34m\"정수 입력> \"\u001b[0m\u001b[1;33m)\u001b[0m\u001b[1;33m)\u001b[0m\u001b[1;33m\u001b[0m\u001b[1;33m\u001b[0m\u001b[0m\n\u001b[0m\u001b[0;32m      6\u001b[0m     \u001b[0mprint\u001b[0m\u001b[1;33m(\u001b[0m\u001b[1;34m\"{}번째 요소: {}\"\u001b[0m\u001b[1;33m.\u001b[0m\u001b[0mformat\u001b[0m\u001b[1;33m(\u001b[0m\u001b[0mnumber_input\u001b[0m\u001b[1;33m,\u001b[0m \u001b[0mlist_number\u001b[0m\u001b[1;33m[\u001b[0m\u001b[0mnumber_input\u001b[0m\u001b[1;33m]\u001b[0m\u001b[1;33m)\u001b[0m\u001b[1;33m)\u001b[0m\u001b[1;33m\u001b[0m\u001b[1;33m\u001b[0m\u001b[0m\n\u001b[0;32m      7\u001b[0m \u001b[1;32mexcept\u001b[0m \u001b[0mValueError\u001b[0m \u001b[1;32mas\u001b[0m \u001b[0mexception\u001b[0m\u001b[1;33m:\u001b[0m\u001b[1;33m\u001b[0m\u001b[1;33m\u001b[0m\u001b[0m\n",
      "\u001b[1;32mC:\\ProgramData\\Anaconda3\\lib\\site-packages\\ipykernel\\kernelbase.py\u001b[0m in \u001b[0;36mraw_input\u001b[1;34m(self, prompt)\u001b[0m\n\u001b[0;32m   1004\u001b[0m                 \u001b[1;34m\"raw_input was called, but this frontend does not support input requests.\"\u001b[0m\u001b[1;33m\u001b[0m\u001b[1;33m\u001b[0m\u001b[0m\n\u001b[0;32m   1005\u001b[0m             )\n\u001b[1;32m-> 1006\u001b[1;33m         return self._input_request(\n\u001b[0m\u001b[0;32m   1007\u001b[0m             \u001b[0mstr\u001b[0m\u001b[1;33m(\u001b[0m\u001b[0mprompt\u001b[0m\u001b[1;33m)\u001b[0m\u001b[1;33m,\u001b[0m\u001b[1;33m\u001b[0m\u001b[1;33m\u001b[0m\u001b[0m\n\u001b[0;32m   1008\u001b[0m             \u001b[0mself\u001b[0m\u001b[1;33m.\u001b[0m\u001b[0m_parent_ident\u001b[0m\u001b[1;33m[\u001b[0m\u001b[1;34m\"shell\"\u001b[0m\u001b[1;33m]\u001b[0m\u001b[1;33m,\u001b[0m\u001b[1;33m\u001b[0m\u001b[1;33m\u001b[0m\u001b[0m\n",
      "\u001b[1;32mC:\\ProgramData\\Anaconda3\\lib\\site-packages\\ipykernel\\kernelbase.py\u001b[0m in \u001b[0;36m_input_request\u001b[1;34m(self, prompt, ident, parent, password)\u001b[0m\n\u001b[0;32m   1049\u001b[0m             \u001b[1;32mexcept\u001b[0m \u001b[0mKeyboardInterrupt\u001b[0m\u001b[1;33m:\u001b[0m\u001b[1;33m\u001b[0m\u001b[1;33m\u001b[0m\u001b[0m\n\u001b[0;32m   1050\u001b[0m                 \u001b[1;31m# re-raise KeyboardInterrupt, to truncate traceback\u001b[0m\u001b[1;33m\u001b[0m\u001b[1;33m\u001b[0m\u001b[0m\n\u001b[1;32m-> 1051\u001b[1;33m                 \u001b[1;32mraise\u001b[0m \u001b[0mKeyboardInterrupt\u001b[0m\u001b[1;33m(\u001b[0m\u001b[1;34m\"Interrupted by user\"\u001b[0m\u001b[1;33m)\u001b[0m \u001b[1;32mfrom\u001b[0m \u001b[1;32mNone\u001b[0m\u001b[1;33m\u001b[0m\u001b[1;33m\u001b[0m\u001b[0m\n\u001b[0m\u001b[0;32m   1052\u001b[0m             \u001b[1;32mexcept\u001b[0m \u001b[0mException\u001b[0m\u001b[1;33m:\u001b[0m\u001b[1;33m\u001b[0m\u001b[1;33m\u001b[0m\u001b[0m\n\u001b[0;32m   1053\u001b[0m                 \u001b[0mself\u001b[0m\u001b[1;33m.\u001b[0m\u001b[0mlog\u001b[0m\u001b[1;33m.\u001b[0m\u001b[0mwarning\u001b[0m\u001b[1;33m(\u001b[0m\u001b[1;34m\"Invalid Message:\"\u001b[0m\u001b[1;33m,\u001b[0m \u001b[0mexc_info\u001b[0m\u001b[1;33m=\u001b[0m\u001b[1;32mTrue\u001b[0m\u001b[1;33m)\u001b[0m\u001b[1;33m\u001b[0m\u001b[1;33m\u001b[0m\u001b[0m\n",
      "\u001b[1;31mKeyboardInterrupt\u001b[0m: Interrupted by user"
     ]
    }
   ],
   "source": [
    "# 예외의 종류 및 구분하기\n",
    "list_number = [52, 273, 32, 72, 100]\n",
    "\n",
    "try:\n",
    "    number_input = int(input(\"정수 입력> \"))\n",
    "    print(\"{}번째 요소: {}\".format(number_input, list_number[number_input]))\n",
    "except ValueError as exception:\n",
    "    print(\"정수 입력해야 합니다.\")\n",
    "    print(\"exception:\", exception)\n",
    "except IndexError as exception:\n",
    "    print(\"리스트 인덱스를  합니다.\")\n",
    "    print(\"exception:\", exception)\n",
    "except Exception as exception:\n",
    "    print(\"정의되지 않는 예외가 발생하였습니다.\")\n",
    "    print(\"exception:\", exception)"
   ]
  },
  {
   "cell_type": "code",
   "execution_count": 39,
   "id": "36e06cde",
   "metadata": {},
   "outputs": [
    {
     "name": "stdout",
     "output_type": "stream",
     "text": [
      "정수 입력> 1\n",
      "1번째 요소: 273\n",
      "정수 입력해야 합니다.\n",
      "exception: \n"
     ]
    }
   ],
   "source": [
    "# 예외를 수동으로 발생시키기\n",
    "# raise 예외객체\n",
    "list_number = [52, 273, 32, 72, 100]\n",
    "\n",
    "try:\n",
    "    number_input = int(input(\"정수 입력> \"))\n",
    "    print(\"{}번째 요소: {}\".format(number_input, list_number[number_input]))\n",
    "    \n",
    "    #제대로 1을 입력했으나 raise 키워드로 에러가 강제 발생\n",
    "    raise ValueError\n",
    "    \n",
    "except ValueError as exception:\n",
    "    print(\"정수 입력해야 합니다.\")\n",
    "    print(\"exception:\", exception)\n",
    "except IndexError as exception:\n",
    "    print(\"리스트 인덱스를  합니다.\")\n",
    "    print(\"exception:\", exception)\n",
    "except Exception as exception:\n",
    "    print(\"정의되지 않는 예외가 발생하였습니다.\")\n",
    "    print(\"exception:\", exception)"
   ]
  }
 ],
 "metadata": {
  "kernelspec": {
   "display_name": "Python 3 (ipykernel)",
   "language": "python",
   "name": "python3"
  },
  "language_info": {
   "codemirror_mode": {
    "name": "ipython",
    "version": 3
   },
   "file_extension": ".py",
   "mimetype": "text/x-python",
   "name": "python",
   "nbconvert_exporter": "python",
   "pygments_lexer": "ipython3",
   "version": "3.9.7"
  }
 },
 "nbformat": 4,
 "nbformat_minor": 5
}
