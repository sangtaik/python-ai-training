{
 "cells": [
  {
   "cell_type": "code",
   "execution_count": 1,
   "id": "7e0f0cc5",
   "metadata": {},
   "outputs": [],
   "source": [
    "import pandas as pd\n",
    "import json\n",
    "import requests\n",
    "from bs4 import BeautifulSoup\n",
    "\n",
    "url = 'http://apis.data.go.kr/1360000/AsosDalyInfoService/getWthrDataList'\n",
    "\n",
    "encoding_key = 'ubwhPrpU3nESjkfzHMX%2FqnqjzOEKs%2FpNeUOVuj15jlRdRP0LPOQ6G3l8uwJiXmSFhZ5iztqGT6qqYpngXfp2bw%3D%3D'\n",
    "\n",
    "queryParams = '?' + \\\n",
    "              'ServiceKey=' + encoding_key + \\\n",
    "              '&pageNo='+ '1' + \\\n",
    "              '&numOfRows='+ '999' + \\\n",
    "              '&dataType='+ 'JSON' + \\\n",
    "              '&dataCd='+ 'ASOS' + \\\n",
    "              '&dateCd='+ 'DAY' + \\\n",
    "              '&startDt='+ '20210101' + \\\n",
    "              '&endDt='+ '20210331' + \\\n",
    "              '&stnIds='+ '108' # \\\n",
    "\n",
    "\n",
    "result = requests.get(url + queryParams)\n",
    "js = json.loads(result.content)\n",
    "data = pd.DataFrame(js['response']['body']['items']['item'])\n",
    "\n",
    "# 지점번호(종관기상관측 지점 번호) stnId, 일자 tm\n",
    "# 평균 지면 온도 avgTs, 최소 최소 상대습도 minRhm, 합계 일조 시간 sumSsHr, \n",
    "# 평균 5cm 지중온도  avgCm5Te. 평균 20cm 지중온도 avgCm20Te, 1.5m 지중온도 avgM15Te\n",
    "# 평균 기온 avgTa, 최저기온 minTa, 최고기온 maxTa, 1시간 최다 일사량hr1MaxIcsr\n",
    "# 안개 계속 시간 sumFogDur, 일강수량 sumRn, \n",
    "li = ['stnId','tm','avgTa','minTa','maxTa','sumRn','maxWs','avgWs','ddMes']\n",
    "\n",
    "data.loc[:,li]\n",
    "\n",
    "data[li].to_csv(\"weather.csv\",index=False )"
   ]
  },
  {
   "cell_type": "code",
   "execution_count": null,
   "id": "4acf32b0",
   "metadata": {},
   "outputs": [],
   "source": []
  }
 ],
 "metadata": {
  "kernelspec": {
   "display_name": "Python 3 (ipykernel)",
   "language": "python",
   "name": "python3"
  },
  "language_info": {
   "codemirror_mode": {
    "name": "ipython",
    "version": 3
   },
   "file_extension": ".py",
   "mimetype": "text/x-python",
   "name": "python",
   "nbconvert_exporter": "python",
   "pygments_lexer": "ipython3",
   "version": "3.9.7"
  }
 },
 "nbformat": 4,
 "nbformat_minor": 5
}
