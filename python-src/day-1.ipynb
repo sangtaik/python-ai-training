{
 "cells": [
  {
   "cell_type": "markdown",
   "id": "147a73a5",
   "metadata": {},
   "source": [
    "### 식별자\n",
    "1. python keyword"
   ]
  },
  {
   "cell_type": "code",
   "execution_count": null,
   "id": "408690b0",
   "metadata": {},
   "outputs": [],
   "source": [
    "# 키워드 확인\n",
    "import keyword\n",
    "print(keyword.kwlist)\n",
    "keyword."
   ]
  },
  {
   "cell_type": "markdown",
   "id": "26eeed24",
   "metadata": {},
   "source": [
    "## print"
   ]
  },
  {
   "cell_type": "code",
   "execution_count": null,
   "id": "0b386951",
   "metadata": {},
   "outputs": [],
   "source": [
    "print(\"# 하나만 출력\")\n",
    "print('Hello python Programming!!')\n",
    "print()\n",
    "\n",
    "#여러 개를 출력\n",
    "print(10, 20, \"test\")\n",
    "print()\n",
    "\n",
    "# 빈줄 출력\n",
    "print(\"아무것도 출력 하지 않음\")\n",
    "print()\n",
    "print(\"확인\")"
   ]
  },
  {
   "cell_type": "markdown",
   "id": "5ccbee66",
   "metadata": {},
   "source": [
    "### 이스케이프 문자"
   ]
  },
  {
   "cell_type": "code",
   "execution_count": null,
   "id": "42bcb0eb",
   "metadata": {},
   "outputs": [],
   "source": [
    "# 문자열\n",
    "print(\"문자열 출력\")\n",
    "print(\"문자 \\\" 출력\") # \\를 사용하여 특수 문자(ex \")를 표시\n",
    "print(\"문자 \\\" \\t출 \\n\\' 력 \\\" \")"
   ]
  },
  {
   "cell_type": "markdown",
   "id": "5eae9a52",
   "metadata": {},
   "source": [
    "### 여러 줄 출력"
   ]
  },
  {
   "cell_type": "code",
   "execution_count": null,
   "id": "28d38b76",
   "metadata": {},
   "outputs": [],
   "source": [
    "print(\"동해물과 백두산이\\n마르고 닳도록\\n하나님이 보우하사\")\n",
    "print('-------------')\n",
    "print(\"\"\"동해물과 백두산이\n",
    "마르고 닳도록\n",
    "하나님이 보우하사\"\"\")\n",
    "print('-------------')\n",
    "print(\"\"\"\\\n",
    "동해물과 백두산이\n",
    "마르고 닳도록\n",
    "하나님이 보우하사\\\n",
    "\"\"\")"
   ]
  },
  {
   "cell_type": "code",
   "execution_count": null,
   "id": "085ca177",
   "metadata": {},
   "outputs": [],
   "source": [
    "### 문자열 연산 : +, *"
   ]
  },
  {
   "cell_type": "code",
   "execution_count": null,
   "id": "75a73e86",
   "metadata": {},
   "outputs": [],
   "source": [
    "print(\"hello\" + \"test\")\n",
    "print(\"hello\" * 4)\n",
    "#print(\"hello\" + 1) #error\n",
    "print(\"hello\" + \"1\")"
   ]
  },
  {
   "cell_type": "code",
   "execution_count": null,
   "id": "8a969711",
   "metadata": {},
   "outputs": [],
   "source": [
    "#문자열 선택 : 문자열 [] => 인덱스 숫자, 인덱스는 0부터 시작\n",
    "print(\"안녕하세요\")\n",
    "print(\"안녕하세요\"[0]) # 첫글자\n",
    "print(\"안녕하세요\"[-1]) # 마지막 글자\n",
    "print(\"안녕하세요\"[-2]) # 마지막에서 2번째 글자\n",
    "print(\"안녕하세요\"[0:2]) # 범위로 글자 0, 1 출력\n",
    "print(\"안녕하세요\"[:2]) # 범위로 글자 0~2 출력\n",
    "print(\"안녕하세요\"[2:]) # 2부터 끝까지 출력\n",
    "print(\"안녕하세요\"[:len(\"안녕하세요\")-2])"
   ]
  },
  {
   "cell_type": "markdown",
   "id": "be0f8032",
   "metadata": {},
   "source": [
    "### 숫자연산"
   ]
  },
  {
   "cell_type": "code",
   "execution_count": null,
   "id": "c0f4e715",
   "metadata": {},
   "outputs": [],
   "source": [
    "print(40+20)\n",
    "a = 3\n",
    "b = 2\n",
    "print(a, \"/\", b, '=', a/b) # 나눈 값 :float\n",
    "print(a, \"//\", b, '=', a//b) #나눈 몫 :int\n",
    "print(a, \"%\", b, '=', a%b) #나머지 :int\n",
    "print(a, \"**\", b, '=', a**b) #거듭제곱 :int"
   ]
  },
  {
   "cell_type": "markdown",
   "id": "819dfba3",
   "metadata": {},
   "source": [
    "### 복합연산자"
   ]
  },
  {
   "cell_type": "code",
   "execution_count": null,
   "id": "b4428206",
   "metadata": {},
   "outputs": [],
   "source": [
    "a = 10\n",
    "str1 = 'hello'\n",
    "a+=100\n",
    "print(a)\n",
    "str1 += '!!'\n",
    "print(\"str : \", str1)\n",
    "str1 *= 2\n",
    "print(\"str : \", str1)"
   ]
  },
  {
   "cell_type": "code",
   "execution_count": null,
   "id": "b0bf8145",
   "metadata": {},
   "outputs": [],
   "source": [
    "print(1,2,3)\n",
    "print(1,2,3,sep='/', end='aa')\n",
    "print(\"==\", 1,2,3,sep='/', end = '/n')"
   ]
  },
  {
   "cell_type": "code",
   "execution_count": null,
   "id": "4df02026",
   "metadata": {},
   "outputs": [],
   "source": [
    "input_data = input('숫자 입력 : ')\n",
    "print(type(input_data))\n",
    "\n",
    "#형변환 \n",
    "typeinput = int(input_data) + 10\n",
    "print(type(typeinput))"
   ]
  },
  {
   "cell_type": "code",
   "execution_count": 3,
   "id": "98eac591",
   "metadata": {},
   "outputs": [
    {
     "name": "stdout",
     "output_type": "stream",
     "text": [
      "실수 입력 : 10.123\n",
      "10.123\n",
      "20.123 101.230\n"
     ]
    }
   ],
   "source": [
    "#문: 키보드로부터 실수를 입력받아 실수형으로 변환하여\n",
    "# 입력된 숫자에 10을 더한값, 10*더한 값을 출력하세요.\n",
    "import decimal\n",
    "input_decimal = input('실수 입력 : ')\n",
    "print(input_decimal)\n",
    "\n",
    "results1 = decimal.Decimal(input_decimal) + 10\n",
    "results2 = decimal.Decimal(input_decimal) * 10\n",
    "print(results1, results2)"
   ]
  },
  {
   "cell_type": "code",
   "execution_count": null,
   "id": "ef38d9af",
   "metadata": {},
   "outputs": [],
   "source": []
  },
  {
   "cell_type": "code",
   "execution_count": 2,
   "id": "1a9d68d7",
   "metadata": {},
   "outputs": [
    {
     "name": "stdout",
     "output_type": "stream",
     "text": [
      "실수 입력 : 10.123\n",
      "10.123\n",
      "20.122999999999998 101.22999999999999\n"
     ]
    }
   ],
   "source": [
    "input_data = input('실수 입력 : ')\n",
    "print(input_data, flush=True)\n",
    "\n",
    "results1 = float(input_data) + 10\n",
    "results2 = float(input_data) * 10\n",
    "print(results1, results2)"
   ]
  },
  {
   "cell_type": "code",
   "execution_count": 12,
   "id": "274d3685",
   "metadata": {},
   "outputs": [
    {
     "name": "stdout",
     "output_type": "stream",
     "text": [
      "실수 입력 : 10.123\n",
      "10.123\n",
      "20 101\n"
     ]
    }
   ],
   "source": [
    "input_num = float(input('실수 입력 : '))\n",
    "print(input_num)\n",
    "\n",
    "results1 = input_num + 10\n",
    "results2 = input_num * 10\n",
    "# 결과를 주의깊게 확인할 것\n",
    "print(int(results1), int(results2))"
   ]
  },
  {
   "cell_type": "markdown",
   "id": "d2d53375",
   "metadata": {},
   "source": [
    "### 실수와 문자"
   ]
  },
  {
   "cell_type": "code",
   "execution_count": 20,
   "id": "670dcfd0",
   "metadata": {},
   "outputs": [
    {
     "name": "stdout",
     "output_type": "stream",
     "text": [
      "1\n",
      "1.1\n",
      "1.1 1.1\n",
      "2.2\n",
      "1.1 1.1 1.1 1.1 1.1 1.1 1.1 1.1 1.1 1.1 \n"
     ]
    }
   ],
   "source": [
    "a = 1.1\n",
    "a_1 = '1.1'\n",
    "\n",
    "print(int(1.1))\n",
    "print(float(a_1)) #error\n",
    "\n",
    "print(str(a) + ' ' + a_1)\n",
    "print(a + float(a_1))\n",
    "\n",
    "print((str(a) + ' ') * 10)"
   ]
  },
  {
   "cell_type": "code",
   "execution_count": 35,
   "id": "e19093e7",
   "metadata": {},
   "outputs": [
    {
     "name": "stdout",
     "output_type": "stream",
     "text": [
      "<class 'str'>\n",
      "1. 6기 파이썬 인공지능 과정 시작일 2022-02-28!\n",
      "2. 6기 파이썬 인공지능 과정 시작일 2022-02-28!\n"
     ]
    }
   ],
   "source": [
    "string = \"파이썬 인공지능!\"\n",
    "print(type(string))\n",
    "\n",
    "#문자열 관련 함수 : format()\n",
    "string.format()\n",
    "print(\"1. {} 파이썬 인공지능 과정 시작일 {}!\".format('6기', '2022-02-28'))\n",
    "\n",
    "print(\"2. {} 파이썬 인공지능 과정 시작일 {}!\".\\\n",
    "        format('6기', '2022-02-28'))"
   ]
  },
  {
   "cell_type": "code",
   "execution_count": 38,
   "id": "07d08c32",
   "metadata": {},
   "outputs": [
    {
     "name": "stdout",
     "output_type": "stream",
     "text": [
      "10 + 20 = 30\n",
      "1 2\n",
      "<class 'str'>\n",
      "test 1 python\n"
     ]
    }
   ],
   "source": [
    "a = 10\n",
    "b = 20\n",
    "print(\"{} + {} = {}\".format(a,b, a+b))\n",
    "print(\"{} {}\".format(1,2,3,4))\n",
    "#print(\"{} {}\".format(1)) # error\n",
    "\n",
    "string = \"{} {} {}\"\n",
    "print(type(string))\n",
    "print(string.format('test',1, 'python'))"
   ]
  },
  {
   "cell_type": "code",
   "execution_count": 47,
   "id": "c875a5d9",
   "metadata": {},
   "outputs": [
    {
     "name": "stdout",
     "output_type": "stream",
     "text": [
      "##52##\n",
      "##   52##\n",
      "##00052##\n",
      "##-0052##\n",
      "##+0052##\n",
      "##+52##\n",
      "## 52##\n",
      "##-52##\n"
     ]
    }
   ],
   "source": [
    "#숫자 편집\n",
    "print(\"##{:d}##\".format(52))\n",
    "print(\"##{:5d}##\".format(52))\n",
    "print(\"##{:05d}##\".format(52))\n",
    "print(\"##{:05d}##\".format(-52))\n",
    "\n",
    "#기호 표시\n",
    "print(\"##{:+05d}##\".format(52))\n",
    "print(\"##{:+d}##\".format(52))\n",
    "print(\"##{: d}##\".format(52))\n",
    "print(\"##{: d}##\".format(-52))"
   ]
  },
  {
   "cell_type": "markdown",
   "id": "991082ee",
   "metadata": {},
   "source": [
    "### 문자열 함수"
   ]
  },
  {
   "cell_type": "code",
   "execution_count": null,
   "id": "475adcc2",
   "metadata": {},
   "outputs": [],
   "source": [
    "input_str = \" 안녕, Hello, test \"\n",
    "print(\"/{}/\".format(input_str))\n",
    "print(\"/{}/\".format(input_str.strip()))\n",
    "print(\"/{}/\".format(input_str.lstrip()))\n",
    "print(\"/{}/\".format(input_str.rstrip()))\n",
    "print(\"/{}/\".format(input_str.upper()))\n",
    "print(\"/{}/\".format(input_str.lower()))"
   ]
  },
  {
   "cell_type": "markdown",
   "id": "6a71c6cd",
   "metadata": {},
   "source": [
    "### 문자열 구성함수"
   ]
  },
  {
   "cell_type": "code",
   "execution_count": 62,
   "id": "1aff8725",
   "metadata": {},
   "outputs": [
    {
     "name": "stdout",
     "output_type": "stream",
     "text": [
      "False\n",
      "True\n",
      "True\n",
      "False\n",
      "False\n",
      "False\n"
     ]
    }
   ],
   "source": [
    "# is00()\n",
    "# alnum() 문장 전부가 알파벳 또는 숫자로만 구성되어 있는지 확인\n",
    "str_1 = 'Hello Python Programming'\n",
    "str_2 = 'HelloPythonProgramming'\n",
    "print(str_1.isalnum()) #공백이 있어도 False\n",
    "print(str_2.isalnum()) \n",
    "print(\"10\".isdigit())\n",
    "print(\"10f\".isdigit())\n",
    "print(str_1.isupper())\n",
    "print(str_2.islower())"
   ]
  },
  {
   "cell_type": "markdown",
   "id": "92690100",
   "metadata": {},
   "source": [
    "### 문자열 찾기"
   ]
  },
  {
   "cell_type": "code",
   "execution_count": 79,
   "id": "9326aacf",
   "metadata": {},
   "outputs": [
    {
     "name": "stdout",
     "output_type": "stream",
     "text": [
      "4\n",
      "16\n",
      "16\n",
      "-1\n",
      "True\n",
      "False\n",
      "['Hello', 'Python', 'Programming']\n",
      "0\n",
      "2\n"
     ]
    }
   ],
   "source": [
    "str_1 = 'Hello Python Programming'\n",
    "output_a = \"안녕? 하이 안녕하세요.\"\n",
    "print(str_1.find('o'))\n",
    "print(str_1.find('gram'))\n",
    "print(str_1.rfind('gram'))\n",
    "print(output_a.find('o')) # 문자열이 없으면 -1 반환\n",
    "\n",
    "# 문자열 in 연산자\n",
    "print(\"hello\" in \"hello hello\")\n",
    "print(\"hello1\" in \"hello hello\")\n",
    "\n",
    "# 문자열 자르기\n",
    "print(str_1.split())\n",
    "print(str_1.count('hello'))\n",
    "print(str_1.count('m'))"
   ]
  },
  {
   "cell_type": "markdown",
   "id": "3d1667a1",
   "metadata": {},
   "source": [
    "### 과제 104 page"
   ]
  },
  {
   "cell_type": "code",
   "execution_count": 98,
   "id": "3610ca22",
   "metadata": {
    "scrolled": true
   },
   "outputs": [
    {
     "name": "stdout",
     "output_type": "stream",
     "text": [
      "52 273\n",
      "52 <class 'int'>\n",
      "52\n"
     ]
    }
   ],
   "source": [
    "print(\"{} {}\".format(52, 273))\n",
    "print(\"{} {}\".format(52, type(273)))\n",
    "# \"{} {} {}\".format(52, type(273)) # error\n",
    "print(\"{}\".format(52, 273))"
   ]
  },
  {
   "cell_type": "code",
   "execution_count": null,
   "id": "c9b2a853",
   "metadata": {},
   "outputs": [],
   "source": [
    "# 함수와 그기능 연결\n",
    "#split() -> 문자열을 특정문자로 자릅니다.\n",
    "#upper() -> 문자열을 대문자로 변환합니다. \n",
    "#lower() -> 문자열을 소문자로 변환합니다.\n",
    "#strip() -> 문자열 양옆의 공백을 제거합니다."
   ]
  },
  {
   "cell_type": "code",
   "execution_count": 90,
   "id": "f2369ca3",
   "metadata": {},
   "outputs": [
    {
     "name": "stdout",
     "output_type": "stream",
     "text": [
      "> 1번째 숫자 : 100\n",
      "> 2번째 숫자 : 200\n",
      "\n",
      "100 + 200 = 300\n"
     ]
    }
   ],
   "source": [
    "a= input(\"> 1번째 숫자 : \")\n",
    "b= input(\"> 2번째 숫자 : \")\n",
    "print()\n",
    "print(\"{} + {} = {}\".format(a, b, int(a)+int(b)))# error"
   ]
  },
  {
   "cell_type": "code",
   "execution_count": 91,
   "id": "62101184",
   "metadata": {},
   "outputs": [
    {
     "name": "stdout",
     "output_type": "stream",
     "text": [
      "A 지점: hello\n",
      "B 지점: HELLO\n"
     ]
    }
   ],
   "source": [
    "string = \"hello\"\n",
    "string.upper()\n",
    "print(\"A 지점:\", string)\n",
    "print(\"B 지점:\", string.upper())\n"
   ]
  },
  {
   "cell_type": "code",
   "execution_count": 97,
   "id": "ebbbcd42",
   "metadata": {},
   "outputs": [
    {
     "name": "stdout",
     "output_type": "stream",
     "text": [
      "> 1번째 숫자 : 5\n",
      "> 2번째 숫자 : 2\n",
      "5 + 2 = 7\n",
      "5 * 2 = 10\n",
      "> 문자열 입력 : hi\n",
      "hi\n",
      "['hi']\n",
      "hihihihihi\n"
     ]
    }
   ],
   "source": [
    "# 1. 키보드에서 정수를 입력받아  input_a 변수에 저장하세요\n",
    "# 2. 키보드에서 정수를 입력받아 input_b 변수에 저장하세요\n",
    "# 3. 두 변수의 합과 곱을  format()함수를 이용하여 출력하세요\n",
    "# 4. 키보드에서 문자열(공백 포함)을 입력받아 input_str에 저장하세요\n",
    "# 5. input_str에서 공백을 제거하고 출력 하세요\n",
    "# 6. input_str 을 공백을 기준으로 단어로 분리하세요\n",
    "# 7. input_str 을 input_a 수만큼 반복해서 출력하세요\n",
    "input_a= input(\"> 1번째 숫자 : \")\n",
    "input_b= input(\"> 2번째 숫자 : \")\n",
    "cal_p = int(input_a) + int(input_b)\n",
    "cal_x = int(input_a) * int(input_b)\n",
    "print(\"{} + {} = {}\".format(input_a, input_b, cal_p))\n",
    "print(\"{} * {} = {}\".format(input_a, input_b, cal_x))\n",
    "\n",
    "input_str= input(\"> 문자열 입력 : \")\n",
    "print(input_str.strip())\n",
    "print(input_str.split())\n",
    "print(str(input_str) * int(input_a))"
   ]
  },
  {
   "cell_type": "code",
   "execution_count": null,
   "id": "56c7fc03",
   "metadata": {},
   "outputs": [],
   "source": []
  }
 ],
 "metadata": {
  "kernelspec": {
   "display_name": "Python 3 (ipykernel)",
   "language": "python",
   "name": "python3"
  },
  "language_info": {
   "codemirror_mode": {
    "name": "ipython",
    "version": 3
   },
   "file_extension": ".py",
   "mimetype": "text/x-python",
   "name": "python",
   "nbconvert_exporter": "python",
   "pygments_lexer": "ipython3",
   "version": "3.9.7"
  }
 },
 "nbformat": 4,
 "nbformat_minor": 5
}
