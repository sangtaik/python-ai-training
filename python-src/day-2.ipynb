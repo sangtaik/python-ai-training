{
 "cells": [
  {
   "cell_type": "code",
   "execution_count": 1,
   "id": "8589f2a3",
   "metadata": {},
   "outputs": [
    {
     "name": "stdout",
     "output_type": "stream",
     "text": [
      "True 실행\n"
     ]
    }
   ],
   "source": [
    "# if 표현식 :\n",
    "# True인 경우 실행 \n",
    "if True:\n",
    "    print(\"True 실행\")\n",
    "    \n",
    "if False:\n",
    "    print(\"False 실행\")\n"
   ]
  },
  {
   "cell_type": "code",
   "execution_count": 1,
   "id": "e9af5912",
   "metadata": {},
   "outputs": [
    {
     "name": "stdout",
     "output_type": "stream",
     "text": [
      "숫자 입력 : 10\n",
      "양수\n"
     ]
    }
   ],
   "source": [
    "# 키보드에서 숫자를 입력 받아 양수이면 \"양수\"\n",
    "# 음수이면 \"음수\", 0이면 zero를 출력\n",
    "# input() -> 문자열을 반환, 숫자로 변환\n",
    "\n",
    "input_num = int(input(\"숫자 입력 : \"))\n",
    "\n",
    "if (input_num < 0):\n",
    "    print(\"음수\")\n",
    "elif (input_num == 0):\n",
    "    print(\"zero\")\n",
    "else:\n",
    "    print(\"양수\")"
   ]
  },
  {
   "cell_type": "code",
   "execution_count": null,
   "id": "68e3290b",
   "metadata": {},
   "outputs": [],
   "source": [
    "# 입력을 10+20의 형식으로 입력받아 두 수의 합을 구하세요\n",
    "input_data = input(\"10 + 20의 형식으로 입력 \").split()\n",
    "print(input_data)\n",
    "\n",
    "int(input_data[0]) + int(input_data[2])"
   ]
  },
  {
   "cell_type": "code",
   "execution_count": null,
   "id": "53168402",
   "metadata": {},
   "outputs": [],
   "source": [
    "# 날짜와 시간을 구하는 모듈\n",
    "import datetime\n",
    "now = datetime.datetime.now()\n",
    "print(now)\n",
    "print(\"{}년 {}월 {}일 {}시 {}분 {}초\".format(now.year,\n",
    "                                  now.month, now.day,\n",
    "                                  now.hour, now.minute,\n",
    "                                  now.second))"
   ]
  },
  {
   "cell_type": "code",
   "execution_count": null,
   "id": "1f016f09",
   "metadata": {},
   "outputs": [],
   "source": [
    "# 입력 받은 숫자가 짝수인지 홀수인지 출력\n",
    "num = input(\"정수 입력 :\")\n",
    "\n",
    "last_num = int(num[-1])\n",
    "\n",
    "if (last_num % 2) == 0:\n",
    "    print(\"입력받은 수 {}는 짝수\".format(num))\n",
    "else :\n",
    "    print(\"입력받은 수 {}는 홀수\".format(num))"
   ]
  },
  {
   "cell_type": "code",
   "execution_count": null,
   "id": "491dae4b",
   "metadata": {},
   "outputs": [],
   "source": [
    "# 문자 in 문자열 연산자를 사용 : 문자가 문자열에 잇는지 확인\n",
    "num = input(\"정수 입력 :\")\n",
    "\n",
    "last_num = num[-1]\n",
    "\n",
    "if last_num in \"02368\":\n",
    "    print(\"입력받은 수 {}는 짝수\".format(num))\n",
    "elif last_num in \"13579\" :\n",
    "    print(\"입력받은 수 {}는 홀수\".format(num))\n",
    "else :\n",
    "    print(\"입력받은 수 {}는 오류\".format(num))"
   ]
  },
  {
   "cell_type": "code",
   "execution_count": null,
   "id": "5273c93d",
   "metadata": {},
   "outputs": [],
   "source": [
    "# 키보드에서 숫자와 부호를 입력하여 변수에 저장한 후 기호에 따라 두수를 계산\n",
    "#num1 = int(input(\"숫자 입력 \"))\n",
    "#buho = input(\"부호 입력 \")\n",
    "#num2 = int(input(\"숫자 입력 \"))\n",
    "input_data = input(\"계산식 입력 : 10 + 20:\").split()\n",
    "num1 = int(input_data[0])\n",
    "buho = input_data[1]\n",
    "num2 = int(input_data[2])\n",
    "\n",
    "if buho in \"+-*/\":\n",
    "    if buho == '+':\n",
    "        result = num1 + num2\n",
    "    elif buho == '-':\n",
    "        result = num1 - num2\n",
    "    elif buho == '*':\n",
    "        result = num1 * num2\n",
    "    elif buho == '/':\n",
    "        if num2 != 0:\n",
    "            result = num1 / num2\n",
    "        else:\n",
    "            print(\"0으로 나눌 수 없습니다.\")\n",
    "    else:\n",
    "        print(\"ERR: 사용할 수 없는 부호입니다.\")\n",
    "        \n",
    "    print(result)\n",
    "else :\n",
    "    print(\"사용할 수 없는 부호입니다.+, -, *, /만 사용 가능합니다.\")"
   ]
  },
  {
   "cell_type": "code",
   "execution_count": null,
   "id": "08a19e99",
   "metadata": {},
   "outputs": [],
   "source": [
    "# 입력 받은 숫자가 짝수인지 홀수인지 출력\n",
    "num = input(\"정수 입력 :\")\n",
    "\n",
    "last_num = int(num[-1])\n",
    "\n",
    "if (last_num % 2) == 0:\n",
    "    pass #기능 구현을 안했을 때, 쓰는 키워드\n",
    "else :\n",
    "    pass"
   ]
  },
  {
   "cell_type": "markdown",
   "id": "4ea3d7ac",
   "metadata": {},
   "source": [
    "### List"
   ]
  },
  {
   "cell_type": "code",
   "execution_count": null,
   "id": "eb1eedab",
   "metadata": {},
   "outputs": [],
   "source": [
    "# 선언 : List [elements, elements, ...]\n",
    "# 여러 개의 자료가 저장된 오브젝트\n",
    "a_list = [1,2,3,4,5,6]\n",
    "b_list = [11, 12, 13]\n",
    "\n",
    "print(a_list[0])\n",
    "print(a_list[2:4])\n",
    "print(a_list + b_list)\n",
    "print(len(a_list))\n",
    "print(b_list * 3)"
   ]
  },
  {
   "cell_type": "code",
   "execution_count": null,
   "id": "a29fc0d3",
   "metadata": {},
   "outputs": [],
   "source": [
    "#append() : list의 마지막에 자료 추가\n",
    "a_list.append(b_list)\n",
    "a_list"
   ]
  },
  {
   "cell_type": "code",
   "execution_count": null,
   "id": "e44a2f3a",
   "metadata": {},
   "outputs": [],
   "source": [
    "a_list.append('test')\n",
    "a_list"
   ]
  },
  {
   "cell_type": "code",
   "execution_count": null,
   "id": "cfb6db9e",
   "metadata": {},
   "outputs": [],
   "source": [
    "# list.insert() : 해당하는 값 추가\n",
    "a_list.insert(8, '삽입')\n",
    "a_list"
   ]
  },
  {
   "cell_type": "code",
   "execution_count": null,
   "id": "de2bba02",
   "metadata": {},
   "outputs": [],
   "source": [
    "a_list = [1, 2, 3]\n",
    "b_list = [4, 5, 6]\n",
    "print(a_list + b_list)\n",
    "print(a_list)\n",
    "\n",
    "# extend() A 리스트에 B 리스트 요소를 추가\n",
    "a_list.extend(b_list)\n",
    "print(\"a_list.extend(b_list) :\", a_list)"
   ]
  },
  {
   "cell_type": "code",
   "execution_count": 5,
   "id": "b9ca7e87",
   "metadata": {},
   "outputs": [
    {
     "name": "stdout",
     "output_type": "stream",
     "text": [
      "[1, 4, 5, 6]\n",
      "[1, 4, 6]\n",
      "[1, 2, 6]\n"
     ]
    }
   ],
   "source": [
    "# 리스트 요소 삽입 : append(), insert(), extend()\n",
    "# 리스트의 요소를 제거 : del(), pop(삭제할 인덱스)\n",
    "a_list.pop(1)\n",
    "print(a_list)\n",
    "\n",
    "del a_list[2]\n",
    "print(a_list)\n",
    "\n",
    "a_list = [1,2,3,4,5,6]\n",
    "del a_list[2:5]\n",
    "print(a_list)"
   ]
  },
  {
   "cell_type": "code",
   "execution_count": 4,
   "id": "b1c9cd0a",
   "metadata": {},
   "outputs": [
    {
     "name": "stdout",
     "output_type": "stream",
     "text": [
      "[1, 3, 4, 5, 6]\n"
     ]
    }
   ],
   "source": [
    "a_list = [1,2,3,4,5,6]\n",
    "a_list.remove(2)\n",
    "print(a_list)"
   ]
  },
  {
   "cell_type": "code",
   "execution_count": 3,
   "id": "af460acb",
   "metadata": {},
   "outputs": [
    {
     "name": "stdout",
     "output_type": "stream",
     "text": [
      "[]\n"
     ]
    }
   ],
   "source": [
    "#모두 삭제하기\n",
    "a_list = [1,2,3,4,5,6]\n",
    "a_list.clear()\n",
    "print(a_list)"
   ]
  },
  {
   "cell_type": "code",
   "execution_count": 8,
   "id": "bf78f2fb",
   "metadata": {},
   "outputs": [
    {
     "name": "stdout",
     "output_type": "stream",
     "text": [
      "False\n",
      "False\n"
     ]
    }
   ],
   "source": [
    "# 리스트 내부에 요속 있는지 확인\n",
    "a_list = [23, 56, 78, 45]\n",
    "print(111 in a_list)\n",
    "list_b= ['a', 'b', 10]\n",
    "print('1' in list_b)"
   ]
  },
  {
   "cell_type": "code",
   "execution_count": 11,
   "id": "11a144ac",
   "metadata": {},
   "outputs": [
    {
     "name": "stdout",
     "output_type": "stream",
     "text": [
      "23\n",
      "56\n",
      "78\n",
      "45\n",
      "H e l l o   w e l c o m e ! ! \n",
      "0\n",
      "1\n",
      "2\n",
      "3\n",
      "4\n"
     ]
    }
   ],
   "source": [
    "# 반복문 : for 요소 in 반복자료:\n",
    "for item in a_list:\n",
    "    print(item)\n",
    "\n",
    "for char in \"Hello welcome!!\":\n",
    "    print(char, end=' ')\n",
    "print()\n",
    "\n",
    "# range(number): 0에서 숫자 전까지 값을 반환\n",
    "for i in range(5):\n",
    "    print(i)"
   ]
  },
  {
   "cell_type": "code",
   "execution_count": 15,
   "id": "e712f628",
   "metadata": {},
   "outputs": [
    {
     "name": "stdout",
     "output_type": "stream",
     "text": [
      "5개의 숫자를 입력해주세요 0번째 :10\n",
      "5개의 숫자를 입력해주세요 1번째 :20\n",
      "5개의 숫자를 입력해주세요 2번째 :30\n",
      "5개의 숫자를 입력해주세요 3번째 :40\n",
      "5개의 숫자를 입력해주세요 4번째 :50\n",
      "150\n"
     ]
    }
   ],
   "source": [
    "# 키보드 숫자 5개를 입력 받아 리스트에 저장한 후\n",
    "# 입력된 수의 합을 구하시오\n",
    "list_num = []\n",
    "\n",
    "for i in range(5):\n",
    "    num = int(input(\"5개의 숫자를 입력해주세요 {}번째 :\".format(i)))\n",
    "    list_num.append(num)\n",
    "\n",
    "total = 0\n",
    "for number in list_num:\n",
    "    total += number\n",
    "\n",
    "print(total)\n"
   ]
  },
  {
   "cell_type": "code",
   "execution_count": 17,
   "id": "4c008156",
   "metadata": {},
   "outputs": [
    {
     "name": "stdout",
     "output_type": "stream",
     "text": [
      "1\n",
      "2\n",
      "3\n",
      "4\n",
      "5\n",
      "6\n",
      "7\n",
      "8\n",
      "9\n"
     ]
    }
   ],
   "source": [
    "list_of_list = [\n",
    "    [1,2,3],\n",
    "    [4, 5, 6, 7],\n",
    "    [8, 9]\n",
    "]\n",
    "\n",
    "for list_a in list_of_list:\n",
    "    for num in list_a:\n",
    "        print(num)\n"
   ]
  },
  {
   "cell_type": "code",
   "execution_count": 20,
   "id": "8cd36539",
   "metadata": {},
   "outputs": [
    {
     "name": "stdout",
     "output_type": "stream",
     "text": [
      "[[1, 4, 7], [2, 5, 8], [3, 6, 9]]\n"
     ]
    }
   ],
   "source": [
    "numbers = [1,2,3, 4, 5, 6, 7, 8, 9]\n",
    "output = [[], [], []]\n",
    "for number in numbers:\n",
    "    output[(number%3)-1].append(number)\n",
    "print(output)"
   ]
  },
  {
   "cell_type": "markdown",
   "id": "b3b2f787",
   "metadata": {},
   "source": [
    "### dictionary 딕셔너리 "
   ]
  },
  {
   "cell_type": "code",
   "execution_count": 5,
   "id": "cc9d5430",
   "metadata": {},
   "outputs": [
    {
     "name": "stdout",
     "output_type": "stream",
     "text": [
      "7D 건조 망고\n",
      "건조 망고\n"
     ]
    }
   ],
   "source": [
    "# dictionary 선언\n",
    "dictionary = {\n",
    "    \"name\" : \"7D 건조 망고\",\n",
    "    \"type\" : \"당절임\",\n",
    "    \"ingredient\" : [\"망고\",\"설탕\",\"메타종이황산나트륨\", \"치자황색소\"],\n",
    "    \"origin\" : \"필리핀\"\n",
    "}\n",
    "\n",
    "print(dictionary[\"name\"])\n",
    "print(dictionary[\"name\"][3:])"
   ]
  },
  {
   "cell_type": "code",
   "execution_count": 20,
   "id": "8ac7a394",
   "metadata": {},
   "outputs": [
    {
     "name": "stdout",
     "output_type": "stream",
     "text": [
      "조루소\n",
      "철사람\n",
      "타예스\n",
      "톨\n",
      "닥터이상한\n",
      "헐쿵\n",
      "안소니 루소\t조루소\t\n",
      "철사람\t타예스\t톨\t닥터이상한\t헐쿵\t\n"
     ]
    }
   ],
   "source": [
    "# dictionary 값이 리스트\n",
    "dict_b = {\n",
    "    \"director\" : ['안소니 루소', '조루소'],\n",
    "    \"cast\" : [\"철사람\", \"타예스\", \"톨\", \"닥터이상한\", \"헐쿵\"]\n",
    "}\n",
    "\n",
    "print(dict_b[\"director\"][1])\n",
    "\n",
    "for cast in dict_b[\"cast\"]:\n",
    "    print(cast)\n",
    "    \n",
    "for key in dict_b:\n",
    "    #print(dict_b[key])\n",
    "    for item in dict_b[key]:\n",
    "        print(item, end='\\t')\n",
    "    print()"
   ]
  },
  {
   "cell_type": "code",
   "execution_count": 26,
   "id": "3d4a3141",
   "metadata": {},
   "outputs": [
    {
     "data": {
      "text/plain": [
       "{'director': ['안소니 루소', '조루소'],\n",
       " 'cast': ['철사람', '타예스', '톨', '닥터이상한', '헐쿵'],\n",
       " 'money': [1000, 2000, 3000]}"
      ]
     },
     "execution_count": 26,
     "metadata": {},
     "output_type": "execute_result"
    }
   ],
   "source": [
    "# Dictionary에 값 추가  dict[새로운 키] = 새로운 값\n",
    "dict_b[\"money\"] = [1000, 2000, 3000]\n",
    "dict_b"
   ]
  },
  {
   "cell_type": "code",
   "execution_count": 27,
   "id": "22ad9b6a",
   "metadata": {},
   "outputs": [
    {
     "name": "stdout",
     "output_type": "stream",
     "text": [
      "{'director': ['안소니 루소', '조루소'], 'cast': ['철사람', '타예스', '톨', '닥터이상한', '헐쿵']}\n"
     ]
    }
   ],
   "source": [
    "del dict_b[\"money\"]\n",
    "print(dict_b)"
   ]
  },
  {
   "cell_type": "code",
   "execution_count": 28,
   "id": "e070647d",
   "metadata": {},
   "outputs": [
    {
     "data": {
      "text/plain": [
       "False"
      ]
     },
     "execution_count": 28,
     "metadata": {},
     "output_type": "execute_result"
    }
   ],
   "source": [
    "\"money\" in dict_b"
   ]
  },
  {
   "cell_type": "code",
   "execution_count": 32,
   "id": "d882c717",
   "metadata": {},
   "outputs": [
    {
     "name": "stdout",
     "output_type": "stream",
     "text": [
      "> 접근하고자 하는 키 : origin\n",
      "필리핀\n",
      "값 None\n",
      "존재하지 않는 키에 접근했었습니다.\n"
     ]
    }
   ],
   "source": [
    "# dictionary 선언\n",
    "dictionary = {\n",
    "    \"name\" : \"7D 건조 망고\",\n",
    "    \"type\" : \"당절임\",\n",
    "    \"ingredient\" : [\"망고\",\"설탕\",\"메타종이황산나트륨\", \"치자황색소\"],\n",
    "    \"origin\" : \"필리핀\"\n",
    "}\n",
    "\n",
    "key = input(\"> 접근하고자 하는 키 : \")\n",
    "\n",
    "if key in dictionary:\n",
    "    print(dictionary[key])\n",
    "else:\n",
    "    print(\"존재하지 않는 키에 접근하고 있습니다.\")\n",
    "\n",
    "value = dictionary.get(\"존재하지 않는 키\")\n",
    "print(\"값\", value)\n",
    "\n",
    "if value == None:\n",
    "    print(\"존재하지 않는 키에 접근했었습니다.\")"
   ]
  },
  {
   "cell_type": "code",
   "execution_count": 49,
   "id": "9526cb8c",
   "metadata": {},
   "outputs": [
    {
     "name": "stdout",
     "output_type": "stream",
     "text": [
      "name  :  7D 건조 망고\n",
      "type  :  당절임\n",
      "ingredient  :  ['망고', '설탕', '메타종이황산나트륨', '치자황색소']\n",
      "origin  :  필리핀\n",
      "<class 'str'>\n",
      "<class 'str'>\n",
      "<class 'list'>\n",
      "<class 'str'>\n",
      "망고\n",
      "설탕\n",
      "메타종이황산나트륨\n",
      "치자황색소\n"
     ]
    }
   ],
   "source": [
    "for key in dictionary:\n",
    "    print(str(key), \" : \", dictionary[key])\n",
    "\n",
    "# 1. 딕셔너리의 자료를 하나씩 가져온다.\n",
    "# 2. 가져온 자료의 데이터 타입을 출력한다.\n",
    "# 3. 자료의 타입이 리스트이면 리스트의 값을 출력한다.\n",
    "for key, value in dictionary.items():\n",
    "    print(type(value))\n",
    "    \n",
    "for key, value in dictionary.items():\n",
    "    if type(value) ==list:\n",
    "        for item in value:\n",
    "            print(item)"
   ]
  },
  {
   "cell_type": "code",
   "execution_count": 85,
   "id": "9e862959",
   "metadata": {},
   "outputs": [
    {
     "name": "stdout",
     "output_type": "stream",
     "text": [
      "# 우리 동네 애완동물들\n",
      "구름   5 살\n",
      "초코   3 살\n",
      "아지   1 살\n",
      "호랑이   1 살\n",
      " 구름 5살\n",
      " 초코 3살\n",
      " 아지 1살\n",
      " 호랑이 1살\n"
     ]
    }
   ],
   "source": [
    "pets = [\n",
    "    {'name':'구름', 'age':5},\n",
    "    {'name':'초코', 'age':3},\n",
    "    {'name':'아지', 'age':1},\n",
    "    {'name':'호랑이', 'age':1}\n",
    "]\n",
    "print(\"# 우리 동네 애완동물들\")\n",
    "\n",
    "# 방법 1\n",
    "for dict_a in pets:\n",
    "    print(dict_a[\"name\"], \" \", dict_a[\"age\"], \"살\")\n",
    "\n",
    "# 방법 2\n",
    "for item in pets:\n",
    "    for key, value in item.items():\n",
    "        print(\" {}\".format(value), end='')\n",
    "    print('살', end='\\n')"
   ]
  },
  {
   "cell_type": "code",
   "execution_count": 87,
   "id": "6f63d798",
   "metadata": {},
   "outputs": [
    {
     "name": "stdout",
     "output_type": "stream",
     "text": [
      "{1: 3, 2: 4, 6: 1, 8: 2, 4: 3, 3: 3, 9: 3, 5: 2, 7: 2}\n",
      "{1: 3, 2: 4, 6: 1, 8: 2, 4: 3, 3: 3, 9: 3, 5: 2, 7: 2}\n"
     ]
    }
   ],
   "source": [
    "numbers = [1,2,6,8,4,3,2,1,9,5,4,9,7,2,1,3,5,4,8,9,7,2,3]\n",
    "count = {}\n",
    "\n",
    "#방법 1\n",
    "for item in numbers:\n",
    "    if count.get(item):\n",
    "        count[item] = int(count[item]) + 1\n",
    "    else:\n",
    "        count[item] = 1\n",
    "\n",
    "print(count)\n",
    "\n",
    "# 방법 2\n",
    "for number in numbers:\n",
    "    # 가져온 nuber의 값이 딕셔너리의 키의 값에 잇는지 확인\n",
    "    if number in count:\n",
    "        # 있으면 다음 자료 가져옴\n",
    "        pass\n",
    "    else:\n",
    "        # 없으면 숫자의 갯수를 구함, 딕셔너리에 추가\n",
    "        cnt = 0\n",
    "        for check_num in numbers:\n",
    "            if number == check_num:\n",
    "                cnt += 1\n",
    "        count[number] = cnt\n",
    "print(count)"
   ]
  },
  {
   "cell_type": "code",
   "execution_count": 90,
   "id": "1f71c60a",
   "metadata": {},
   "outputs": [
    {
     "name": "stdout",
     "output_type": "stream",
     "text": [
      "name  :  기사\n",
      "level  :  12\n",
      "sword  :  불꽃의 검\n",
      "armor  :  풀플레이트\n",
      "skill  :  베기\n",
      "skill  :  세게 베기\n",
      "skill  :  아주 세게 베기\n"
     ]
    }
   ],
   "source": [
    "character = {\n",
    "    \"name\" : \"기사\",\n",
    "    \"level\" : 12 ,\n",
    "    \"items\" : {\n",
    "        \"sword\" : \"불꽃의 검\",\n",
    "        \"armor\" : \"풀플레이트\",\n",
    "    },\n",
    "    \n",
    "    \"skill\" : [\"베기\", \"세게 베기\", \"아주 세게 베기\"]\n",
    "}\n",
    "\n",
    "for key, value in character.items():\n",
    "    if type(value) == list:\n",
    "        for item in value:\n",
    "            print(key, \" : \", item)\n",
    "    elif type(value) == dict:\n",
    "        '''for item in value:\n",
    "            print(key, \" : \", value[item])'''\n",
    "        for item_key, item_value in value.items():\n",
    "            print(item_key, ' : ', item_value )\n",
    "    else :\n",
    "        print(key, \" : \", value)"
   ]
  },
  {
   "cell_type": "markdown",
   "id": "d7ec9713",
   "metadata": {},
   "source": [
    "### 반복문 for, while"
   ]
  },
  {
   "cell_type": "code",
   "execution_count": 97,
   "id": "9e19509f",
   "metadata": {},
   "outputs": [
    {
     "name": "stdout",
     "output_type": "stream",
     "text": [
      "0 : 40\n",
      "1 : 50\n",
      "2 : 60\n",
      "3 : 70\n",
      "total :  220\n",
      "3 : 70\n",
      "2 : 60\n",
      "1 : 50\n",
      "0 : 40\n",
      "1\n",
      "3\n",
      "5\n",
      "7\n",
      "9\n"
     ]
    }
   ],
   "source": [
    "# for와 range() 함수 사용\n",
    "array = [40, 50, 60, 70]\n",
    "\n",
    "total = 0\n",
    "for i in range(len(array)):\n",
    "    total += array[i]\n",
    "    print(\"{} : {}\".format(i, array[i]))\n",
    "print(\"total : \", total)\n",
    "\n",
    "for i in reversed(range(len(array))):\n",
    "    print(\"{} : {}\".format(i, array[i]))\n",
    "    \n",
    "for i in range(1,10,2):\n",
    "    print(i)"
   ]
  },
  {
   "cell_type": "code",
   "execution_count": 108,
   "id": "cc9e8575",
   "metadata": {},
   "outputs": [
    {
     "name": "stdout",
     "output_type": "stream",
     "text": [
      "숫자를 여러 개 입력하세요. (1, 10, 20...) :1,2,3,4\n",
      "입력받은 총합은 :  10\n"
     ]
    }
   ],
   "source": [
    "# 키보드에서 임의의 숫자를 입력받아 리스트에 저장한 후\n",
    "# 저장된 숫자의 총합을 구하세요\n",
    "total = 0\n",
    "\n",
    "inputs = input(\"숫자를 여러 개 입력하세요. (1, 10, 20...) :\")\n",
    "lists = inputs.split(',')\n",
    "for number in lists:\n",
    "    total += int(number)\n",
    "print(\"입력받은 총합은 : \", total)\n",
    "    "
   ]
  },
  {
   "cell_type": "code",
   "execution_count": 137,
   "id": "b7fe47f6",
   "metadata": {},
   "outputs": [
    {
     "name": "stdout",
     "output_type": "stream",
     "text": [
      "0 {'id': 0, 'name': 'john', 'score': '87'}\n",
      "1 {'id': 1, 'name': 'zelan', 'score': '76'}\n",
      "2 {'id': 2, 'name': 'sike', 'score': '100'}\n",
      "3 {'id': 3, 'name': 'kumamoto', 'score': '20'}\n",
      "4 {'id': 4, 'name': 'pole', 'score': '50'}\n",
      "5 {'id': 5, 'name': 'zamba', 'score': '70'}\n",
      "6 {'id': 6, 'name': 'hoi', 'score': '100'}\n",
      "7 {'id': 7, 'name': 'alli', 'score': '90'}\n",
      "8 {'id': 8, 'name': 'mao', 'score': '90'}\n",
      "9 {'id': 9, 'name': 'julia', 'score': '10'}\n",
      "인원 : 10, 평균 : 69.30\n",
      "id  :  0\n",
      "name  :  john\n",
      "score  :  87\n",
      "id  :  1\n",
      "name  :  zelan\n",
      "score  :  76\n",
      "id  :  2\n",
      "name  :  sike\n",
      "score  :  100\n",
      "id  :  3\n",
      "name  :  kumamoto\n",
      "score  :  20\n",
      "id  :  4\n",
      "name  :  pole\n",
      "score  :  50\n",
      "id  :  5\n",
      "name  :  zamba\n",
      "score  :  70\n",
      "id  :  6\n",
      "name  :  hoi\n",
      "score  :  100\n",
      "id  :  7\n",
      "name  :  alli\n",
      "score  :  90\n",
      "id  :  8\n",
      "name  :  mao\n",
      "score  :  90\n",
      "id  :  9\n",
      "name  :  julia\n",
      "score  :  10\n"
     ]
    }
   ],
   "source": [
    "# 문 키보드에서 이름과 성적을 입력받아 딕셔너리에 저장\n",
    "# 총 10명 \n",
    "# 이름이 딕셔너리의 키로 점수가 딕셔너리의 값으로 저장\n",
    "# 총인원수, 평균을 구하세요.\n",
    "#dict_student = {}\n",
    "\n",
    "dict_student = {\n",
    "  0 :{'id': 0, 'name': 'john', 'score': '87'}\n",
    ", 1 :{'id': 1, 'name': 'zelan', 'score': '76'}\n",
    ", 2 :{'id': 2, 'name': 'sike', 'score': '100'}\n",
    ", 3 :{'id': 3, 'name': 'kumamoto', 'score': '20'}\n",
    ", 4 :{'id': 4, 'name': 'pole', 'score': '50'}\n",
    ", 5 :{'id': 5, 'name': 'zamba', 'score': '70'}\n",
    ", 6 :{'id': 6, 'name': 'hoi', 'score': '100'}\n",
    ", 7 :{'id': 7, 'name': 'alli', 'score': '90'}\n",
    ", 8 :{'id': 8, 'name': 'mao', 'score': '90'}\n",
    ", 9 :{'id': 9, 'name': 'julia', 'score': '10'}\n",
    "}\n",
    "\n",
    "count = 10\n",
    "\n",
    "'''\n",
    "for i in range(count):\n",
    "    dict_a = {}\n",
    "    inputs = input(\"{}, 이름과 성적을 입력하세요.\".format(i))\n",
    "    student = inputs.split(\",\")\n",
    "    dict_a[\"id\"] = i\n",
    "    dict_a[\"name\"] = student[0]\n",
    "    dict_a[\"score\"] = student[1]\n",
    "    dict_student[i] = dict_a\n",
    "'''\n",
    "\n",
    "\n",
    "total = 0\n",
    "cnt = 0\n",
    "for key, value in dict_student.items():\n",
    "    cnt += 1\n",
    "    print(key, value)\n",
    "    for elements in value:\n",
    "        if elements == \"score\":\n",
    "            total += int(value[elements])\n",
    "print(\"인원 : {}, 평균 : {:3.2f}\".format(cnt, total/count))\n",
    "\n",
    "for key, value in dict_student.items():\n",
    "        for item_key, item_value in value.items():\n",
    "            print(item_key, ' : ', item_value )\n"
   ]
  },
  {
   "cell_type": "code",
   "execution_count": null,
   "id": "d3f59639",
   "metadata": {},
   "outputs": [],
   "source": []
  }
 ],
 "metadata": {
  "kernelspec": {
   "display_name": "Python 3 (ipykernel)",
   "language": "python",
   "name": "python3"
  },
  "language_info": {
   "codemirror_mode": {
    "name": "ipython",
    "version": 3
   },
   "file_extension": ".py",
   "mimetype": "text/x-python",
   "name": "python",
   "nbconvert_exporter": "python",
   "pygments_lexer": "ipython3",
   "version": "3.9.7"
  }
 },
 "nbformat": 4,
 "nbformat_minor": 5
}
