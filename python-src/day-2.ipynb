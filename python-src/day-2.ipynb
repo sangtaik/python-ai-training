{
 "cells": [
  {
   "cell_type": "code",
   "execution_count": 1,
   "id": "8589f2a3",
   "metadata": {},
   "outputs": [
    {
     "name": "stdout",
     "output_type": "stream",
     "text": [
      "True 실행\n"
     ]
    }
   ],
   "source": [
    "# if 표현식 :\n",
    "# True인 경우 실행 \n",
    "if True:\n",
    "    print(\"True 실행\")\n",
    "    \n",
    "if False:\n",
    "    print(\"False 실행\")\n"
   ]
  },
  {
   "cell_type": "code",
   "execution_count": 2,
   "id": "e9af5912",
   "metadata": {},
   "outputs": [
    {
     "name": "stdout",
     "output_type": "stream",
     "text": [
      "숫자 입력 : 10+2\n"
     ]
    },
    {
     "ename": "ValueError",
     "evalue": "invalid literal for int() with base 10: '10+2'",
     "output_type": "error",
     "traceback": [
      "\u001b[1;31m---------------------------------------------------------------------------\u001b[0m",
      "\u001b[1;31mValueError\u001b[0m                                Traceback (most recent call last)",
      "\u001b[1;32m~\\AppData\\Local\\Temp/ipykernel_1996/3782276353.py\u001b[0m in \u001b[0;36m<module>\u001b[1;34m\u001b[0m\n\u001b[0;32m      3\u001b[0m \u001b[1;31m# input() -> 문자열을 반환, 숫자로 변환\u001b[0m\u001b[1;33m\u001b[0m\u001b[1;33m\u001b[0m\u001b[0m\n\u001b[0;32m      4\u001b[0m \u001b[1;33m\u001b[0m\u001b[0m\n\u001b[1;32m----> 5\u001b[1;33m \u001b[0minput_num\u001b[0m \u001b[1;33m=\u001b[0m \u001b[0mint\u001b[0m\u001b[1;33m(\u001b[0m\u001b[0minput\u001b[0m\u001b[1;33m(\u001b[0m\u001b[1;34m\"숫자 입력 : \"\u001b[0m\u001b[1;33m)\u001b[0m\u001b[1;33m)\u001b[0m\u001b[1;33m\u001b[0m\u001b[1;33m\u001b[0m\u001b[0m\n\u001b[0m\u001b[0;32m      6\u001b[0m \u001b[1;33m\u001b[0m\u001b[0m\n\u001b[0;32m      7\u001b[0m \u001b[1;32mif\u001b[0m \u001b[1;33m(\u001b[0m\u001b[0minput_num\u001b[0m \u001b[1;33m<\u001b[0m \u001b[1;36m0\u001b[0m\u001b[1;33m)\u001b[0m\u001b[1;33m:\u001b[0m\u001b[1;33m\u001b[0m\u001b[1;33m\u001b[0m\u001b[0m\n",
      "\u001b[1;31mValueError\u001b[0m: invalid literal for int() with base 10: '10+2'"
     ]
    }
   ],
   "source": [
    "# 키보드에서 숫자를 입력 받아 양수이면 \"양수\"\n",
    "# 음수이면 \"음수\", 0이면 zero를 출력\n",
    "# input() -> 문자열을 반환, 숫자로 변환\n",
    "\n",
    "input_num = int(input(\"숫자 입력 : \"))\n",
    "\n",
    "if (input_num < 0):\n",
    "    print(\"음수\")\n",
    "elif (input_num == 0):\n",
    "    print(\"zero\")\n",
    "else:\n",
    "    print(\"양수\")"
   ]
  },
  {
   "cell_type": "code",
   "execution_count": null,
   "id": "68e3290b",
   "metadata": {},
   "outputs": [],
   "source": [
    "# 입력을 10+20의 형식으로 입력받아 두 수의 합을 구하세요\n",
    "input_data = input(\"10 + 20의 형식으로 입력 \").split()\n",
    "print(input_data)\n",
    "\n",
    "int(input_data[0]) + int(input_data[2])"
   ]
  },
  {
   "cell_type": "code",
   "execution_count": null,
   "id": "53168402",
   "metadata": {},
   "outputs": [],
   "source": [
    "# 날짜와 시간을 구하는 모듈\n",
    "import datetime\n",
    "now = datetime.datetime.now()\n",
    "print(now)\n",
    "print(\"{}년 {}월 {}일 {}시 {}분 {}초\".format(now.year,\n",
    "                                  now.month, now.day,\n",
    "                                  now.hour, now.minute,\n",
    "                                  now.second))"
   ]
  },
  {
   "cell_type": "code",
   "execution_count": null,
   "id": "1f016f09",
   "metadata": {},
   "outputs": [],
   "source": [
    "# 입력 받은 숫자가 짝수인지 홀수인지 출력\n",
    "num = input(\"정수 입력 :\")\n",
    "\n",
    "last_num = int(num[-1])\n",
    "\n",
    "if (last_num % 2) == 0:\n",
    "    print(\"입력받은 수 {}는 짝수\".format(num))\n",
    "else :\n",
    "    print(\"입력받은 수 {}는 홀수\".format(num))"
   ]
  },
  {
   "cell_type": "code",
   "execution_count": null,
   "id": "491dae4b",
   "metadata": {},
   "outputs": [],
   "source": [
    "# 문자 in 문자열 연산자를 사용 : 문자가 문자열에 잇는지 확인\n",
    "num = input(\"정수 입력 :\")\n",
    "\n",
    "last_num = num[-1]\n",
    "\n",
    "if last_num in \"02368\":\n",
    "    print(\"입력받은 수 {}는 짝수\".format(num))\n",
    "elif last_num in \"13579\" :\n",
    "    print(\"입력받은 수 {}는 홀수\".format(num))\n",
    "else :\n",
    "    print(\"입력받은 수 {}는 오류\".format(num))"
   ]
  },
  {
   "cell_type": "code",
   "execution_count": null,
   "id": "5273c93d",
   "metadata": {},
   "outputs": [],
   "source": [
    "# 키보드에서 숫자와 부호를 입력하여 변수에 저장한 후 기호에 따라 두수를 계산\n",
    "#num1 = int(input(\"숫자 입력 \"))\n",
    "#buho = input(\"부호 입력 \")\n",
    "#num2 = int(input(\"숫자 입력 \"))\n",
    "input_data = input(\"계산식 입력 : 10 + 20:\").split()\n",
    "num1 = int(input_data[0])\n",
    "buho = input_data[1]\n",
    "num2 = int(input_data[2])\n",
    "\n",
    "if buho in \"+-*/\":\n",
    "    if buho == '+':\n",
    "        result = num1 + num2\n",
    "    elif buho == '-':\n",
    "        result = num1 - num2\n",
    "    elif buho == '*':\n",
    "        result = num1 * num2\n",
    "    elif buho == '/':\n",
    "        if num2 != 0:\n",
    "            result = num1 / num2\n",
    "        else:\n",
    "            print(\"0으로 나눌 수 없습니다.\")\n",
    "    else:\n",
    "        print(\"ERR: 사용할 수 없는 부호입니다.\")\n",
    "        \n",
    "    print(result)\n",
    "else :\n",
    "    print(\"사용할 수 없는 부호입니다.+, -, *, /만 사용 가능합니다.\")"
   ]
  },
  {
   "cell_type": "code",
   "execution_count": null,
   "id": "08a19e99",
   "metadata": {},
   "outputs": [],
   "source": [
    "# 입력 받은 숫자가 짝수인지 홀수인지 출력\n",
    "num = input(\"정수 입력 :\")\n",
    "\n",
    "last_num = int(num[-1])\n",
    "\n",
    "if (last_num % 2) == 0:\n",
    "    pass #기능 구현을 안했을 때, 쓰는 키워드\n",
    "else :\n",
    "    pass"
   ]
  },
  {
   "cell_type": "markdown",
   "id": "4ea3d7ac",
   "metadata": {},
   "source": [
    "### List"
   ]
  },
  {
   "cell_type": "code",
   "execution_count": null,
   "id": "eb1eedab",
   "metadata": {},
   "outputs": [],
   "source": [
    "# 선언 : List [elements, elements, ...]\n",
    "# 여러 개의 자료가 저장된 오브젝트\n",
    "a_list = [1,2,3,4,5,6]\n",
    "b_list = [11, 12, 13]\n",
    "\n",
    "print(a_list[0])\n",
    "print(a_list[2:4])\n",
    "print(a_list + b_list)\n",
    "print(len(a_list))\n",
    "print(b_list * 3)"
   ]
  },
  {
   "cell_type": "code",
   "execution_count": null,
   "id": "a29fc0d3",
   "metadata": {},
   "outputs": [],
   "source": [
    "#append() : list의 마지막에 자료 추가\n",
    "a_list.append(b_list)\n",
    "a_list"
   ]
  },
  {
   "cell_type": "code",
   "execution_count": null,
   "id": "e44a2f3a",
   "metadata": {},
   "outputs": [],
   "source": [
    "a_list.append('test')\n",
    "a_list"
   ]
  },
  {
   "cell_type": "code",
   "execution_count": null,
   "id": "cfb6db9e",
   "metadata": {},
   "outputs": [],
   "source": [
    "# list.insert() : 해당하는 값 추가\n",
    "a_list.insert(8, '삽입')\n",
    "a_list"
   ]
  },
  {
   "cell_type": "code",
   "execution_count": null,
   "id": "de2bba02",
   "metadata": {},
   "outputs": [],
   "source": [
    "a_list = [1, 2, 3]\n",
    "b_list = [4, 5, 6]\n",
    "print(a_list + b_list)\n",
    "print(a_list)\n",
    "\n",
    "# extend() A 리스트에 B 리스트 요소를 추가\n",
    "a_list.extend(b_list)\n",
    "print(\"a_list.extend(b_list) :\", a_list)"
   ]
  },
  {
   "cell_type": "code",
   "execution_count": 5,
   "id": "b9ca7e87",
   "metadata": {},
   "outputs": [
    {
     "name": "stdout",
     "output_type": "stream",
     "text": [
      "[1, 4, 5, 6]\n",
      "[1, 4, 6]\n",
      "[1, 2, 6]\n"
     ]
    }
   ],
   "source": [
    "# 리스트 요소 삽입 : append(), insert(), extend()\n",
    "# 리스트의 요소를 제거 : del(), pop(삭제할 인덱스)\n",
    "a_list.pop(1)\n",
    "print(a_list)\n",
    "\n",
    "del a_list[2]\n",
    "print(a_list)\n",
    "\n",
    "a_list = [1,2,3,4,5,6]\n",
    "del a_list[2:5]\n",
    "print(a_list)"
   ]
  },
  {
   "cell_type": "code",
   "execution_count": 4,
   "id": "b1c9cd0a",
   "metadata": {},
   "outputs": [
    {
     "name": "stdout",
     "output_type": "stream",
     "text": [
      "[1, 3, 4, 5, 6]\n"
     ]
    }
   ],
   "source": [
    "a_list = [1,2,3,4,5,6]\n",
    "a_list.remove(2)\n",
    "print(a_list)"
   ]
  },
  {
   "cell_type": "code",
   "execution_count": 3,
   "id": "af460acb",
   "metadata": {},
   "outputs": [
    {
     "name": "stdout",
     "output_type": "stream",
     "text": [
      "[]\n"
     ]
    }
   ],
   "source": [
    "#모두 삭제하기\n",
    "a_list = [1,2,3,4,5,6]\n",
    "a_list.clear()\n",
    "print(a_list)"
   ]
  },
  {
   "cell_type": "code",
   "execution_count": 8,
   "id": "bf78f2fb",
   "metadata": {},
   "outputs": [
    {
     "name": "stdout",
     "output_type": "stream",
     "text": [
      "False\n",
      "False\n"
     ]
    }
   ],
   "source": [
    "# 리스트 내부에 요속 있는지 확인\n",
    "a_list = [23, 56, 78, 45]\n",
    "print(111 in a_list)\n",
    "list_b= ['a', 'b', 10]\n",
    "print('1' in list_b)"
   ]
  },
  {
   "cell_type": "code",
   "execution_count": 11,
   "id": "11a144ac",
   "metadata": {},
   "outputs": [
    {
     "name": "stdout",
     "output_type": "stream",
     "text": [
      "23\n",
      "56\n",
      "78\n",
      "45\n",
      "H e l l o   w e l c o m e ! ! \n",
      "0\n",
      "1\n",
      "2\n",
      "3\n",
      "4\n"
     ]
    }
   ],
   "source": [
    "# 반복문 : for 요소 in 반복자료:\n",
    "for item in a_list:\n",
    "    print(item)\n",
    "\n",
    "for char in \"Hello welcome!!\":\n",
    "    print(char, end=' ')\n",
    "print()\n",
    "\n",
    "# range(number): 0에서 숫자 전까지 값을 반환\n",
    "for i in range(5):\n",
    "    print(i)"
   ]
  },
  {
   "cell_type": "code",
   "execution_count": 15,
   "id": "e712f628",
   "metadata": {},
   "outputs": [
    {
     "name": "stdout",
     "output_type": "stream",
     "text": [
      "5개의 숫자를 입력해주세요 0번째 :10\n",
      "5개의 숫자를 입력해주세요 1번째 :20\n",
      "5개의 숫자를 입력해주세요 2번째 :30\n",
      "5개의 숫자를 입력해주세요 3번째 :40\n",
      "5개의 숫자를 입력해주세요 4번째 :50\n",
      "150\n"
     ]
    }
   ],
   "source": [
    "# 키보드 숫자 5개를 입력 받아 리스트에 저장한 후\n",
    "# 입력된 수의 합을 구하시오\n",
    "list_num = []\n",
    "\n",
    "for i in range(5):\n",
    "    num = int(input(\"5개의 숫자를 입력해주세요 {}번째 :\".format(i)))\n",
    "    list_num.append(num)\n",
    "\n",
    "total = 0\n",
    "for number in list_num:\n",
    "    total += number\n",
    "\n",
    "print(total)\n"
   ]
  },
  {
   "cell_type": "code",
   "execution_count": 17,
   "id": "4c008156",
   "metadata": {},
   "outputs": [
    {
     "name": "stdout",
     "output_type": "stream",
     "text": [
      "1\n",
      "2\n",
      "3\n",
      "4\n",
      "5\n",
      "6\n",
      "7\n",
      "8\n",
      "9\n"
     ]
    }
   ],
   "source": [
    "list_of_list = [\n",
    "    [1,2,3],\n",
    "    [4, 5, 6, 7],\n",
    "    [8, 9]\n",
    "]\n",
    "\n",
    "for list_a in list_of_list:\n",
    "    for num in list_a:\n",
    "        print(num)\n"
   ]
  },
  {
   "cell_type": "code",
   "execution_count": 20,
   "id": "8cd36539",
   "metadata": {},
   "outputs": [
    {
     "name": "stdout",
     "output_type": "stream",
     "text": [
      "[[1, 4, 7], [2, 5, 8], [3, 6, 9]]\n"
     ]
    }
   ],
   "source": [
    "numbers = [1,2,3, 4, 5, 6, 7, 8, 9]\n",
    "output = [[], [], []]\n",
    "for number in numbers:\n",
    "    output[(number%3)-1].append(number)\n",
    "print(output)"
   ]
  },
  {
   "cell_type": "code",
   "execution_count": null,
   "id": "5404d3a6",
   "metadata": {},
   "outputs": [],
   "source": []
  }
 ],
 "metadata": {
  "kernelspec": {
   "display_name": "Python 3 (ipykernel)",
   "language": "python",
   "name": "python3"
  },
  "language_info": {
   "codemirror_mode": {
    "name": "ipython",
    "version": 3
   },
   "file_extension": ".py",
   "mimetype": "text/x-python",
   "name": "python",
   "nbconvert_exporter": "python",
   "pygments_lexer": "ipython3",
   "version": "3.9.7"
  }
 },
 "nbformat": 4,
 "nbformat_minor": 5
}
