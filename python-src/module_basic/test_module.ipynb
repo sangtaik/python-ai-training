{
 "cells": [
  {
   "cell_type": "code",
   "execution_count": 3,
   "id": "c84262b1",
   "metadata": {},
   "outputs": [
    {
     "name": "stdout",
     "output_type": "stream",
     "text": [
      "test module_name__ 출력 :  __main__\n",
      "test module :  314.1592\n",
      "test module :  62.83184\n"
     ]
    }
   ],
   "source": [
    "# test_module.py\n",
    "\n",
    "PI= 3.141592\n",
    "\n",
    "def number_input():\n",
    "    output = input(\"숫자 이력 : \")\n",
    "    return float(output)\n",
    "\n",
    "def get_circum(radius):\n",
    "    return PI * 2 * radius\n",
    "\n",
    "def get_area(radius):\n",
    "    return PI * radius * radius\n",
    "\n",
    "# python test_module.py를 실행할 때만 실행되는 구문\n",
    "# 함수를 선언한 자기자신만 사용할 수 있다.\n",
    "if __name__ == \"__main__\":\n",
    "    print(\"test module_name__ 출력 : \", __name__)\n",
    "    print(\"test module : \", get_area(10))\n",
    "    print(\"test module : \", get_circum(10))\n",
    "    \n",
    "if __name__ == \"test_module\":\n",
    "    print(\"main module_name__ 출력 : \", __name__)\n",
    "    print(\"main module : \", get_area(10))\n",
    "    print(\"main module : \", get_circum(10))"
   ]
  },
  {
   "cell_type": "code",
   "execution_count": null,
   "id": "9b34932e",
   "metadata": {},
   "outputs": [],
   "source": []
  }
 ],
 "metadata": {
  "kernelspec": {
   "display_name": "Python 3 (ipykernel)",
   "language": "python",
   "name": "python3"
  },
  "language_info": {
   "codemirror_mode": {
    "name": "ipython",
    "version": 3
   },
   "file_extension": ".py",
   "mimetype": "text/x-python",
   "name": "python",
   "nbconvert_exporter": "python",
   "pygments_lexer": "ipython3",
   "version": "3.9.7"
  }
 },
 "nbformat": 4,
 "nbformat_minor": 5
}
