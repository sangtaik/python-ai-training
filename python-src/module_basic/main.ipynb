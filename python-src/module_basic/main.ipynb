{
 "cells": [
  {
   "cell_type": "code",
   "execution_count": null,
   "id": "f5173bf5",
   "metadata": {},
   "outputs": [
    {
     "name": "stdout",
     "output_type": "stream",
     "text": [
      "test modlue_name__ 출력 :  test_module\n",
      "메인의 __name__ 출력 :  __main__\n",
      "\n"
     ]
    }
   ],
   "source": [
    "import test_module as test\n",
    "\n",
    "print(\"메인의 __name__ 출력 : \", __name__)\n",
    "print()\n",
    "radius = test.number_input()\n",
    "print(test.get_area(radius))\n",
    "print(test.get_circum(radius))"
   ]
  },
  {
   "cell_type": "code",
   "execution_count": null,
   "id": "69fae204",
   "metadata": {},
   "outputs": [],
   "source": []
  },
  {
   "cell_type": "code",
   "execution_count": null,
   "id": "e9eda02d",
   "metadata": {},
   "outputs": [],
   "source": []
  }
 ],
 "metadata": {
  "kernelspec": {
   "display_name": "Python 3 (ipykernel)",
   "language": "python",
   "name": "python3"
  },
  "language_info": {
   "codemirror_mode": {
    "name": "ipython",
    "version": 3
   },
   "file_extension": ".py",
   "mimetype": "text/x-python",
   "name": "python",
   "nbconvert_exporter": "python",
   "pygments_lexer": "ipython3",
   "version": "3.9.7"
  }
 },
 "nbformat": 4,
 "nbformat_minor": 5
}
