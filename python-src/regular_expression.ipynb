{
 "cells": [
  {
   "cell_type": "code",
   "execution_count": 3,
   "id": "ceb13639",
   "metadata": {},
   "outputs": [
    {
     "name": "stdout",
     "output_type": "stream",
     "text": [
      "<re.Match object; span=(0, 6), match='python'>\n",
      "None\n",
      "정규식에 맞습니다.\n"
     ]
    }
   ],
   "source": [
    "import re\n",
    "p = re.compile('[a-z]+')\n",
    "\n",
    "#정규식에 맞으면 match 객체 반환\n",
    "match_good = p.match(\"python\")\n",
    "print(match_good)\n",
    "\n",
    "#정규식에 맞지 않다면, None을 반환\n",
    "match_bad = p.match(\"3 python\")\n",
    "print(match_bad)\n",
    "\n",
    "# 정규식에 맞는지 안 맞는지 확인\n",
    "if match_good:\n",
    "    print(\"정규식에 맞습니다.\")\n",
    "else :\n",
    "    print(\"정규식에 맞지 않습니다.\")"
   ]
  },
  {
   "cell_type": "code",
   "execution_count": 5,
   "id": "d731bf3f",
   "metadata": {},
   "outputs": [
    {
     "name": "stdout",
     "output_type": "stream",
     "text": [
      "<re.Match object; span=(2, 8), match='python'>\n",
      "None\n"
     ]
    }
   ],
   "source": [
    "#정규식에 합당하면 object 반환\n",
    "m = p.search(\"3 python\")\n",
    "print(m)\n",
    "\n",
    "#정규식에 맞는 값을 찾을 수 없으면, None을 반환\n",
    "m = p.search(\"312\")\n",
    "print(m)"
   ]
  },
  {
   "cell_type": "code",
   "execution_count": 6,
   "id": "8a026bf9",
   "metadata": {},
   "outputs": [
    {
     "name": "stdout",
     "output_type": "stream",
     "text": [
      "['life', 'is', 'too', 'short']\n"
     ]
    }
   ],
   "source": [
    "result = p.findall(\"life is too short\")\n",
    "\n",
    "# list 반환 \n",
    "print(result)"
   ]
  },
  {
   "cell_type": "code",
   "execution_count": 16,
   "id": "0aae3d69",
   "metadata": {},
   "outputs": [
    {
     "name": "stdout",
     "output_type": "stream",
     "text": [
      "<callable_iterator object at 0x000002A4D8DEB460>\n",
      "<re.Match object; span=(0, 4), match='life'>\n",
      "life\n",
      "0\n",
      "4\n",
      "(0, 4)\n",
      "<re.Match object; span=(5, 7), match='is'>\n",
      "is\n",
      "5\n",
      "7\n",
      "(5, 7)\n",
      "<re.Match object; span=(8, 11), match='too'>\n",
      "too\n",
      "8\n",
      "11\n",
      "(8, 11)\n",
      "<re.Match object; span=(12, 17), match='short'>\n",
      "short\n",
      "12\n",
      "17\n",
      "(12, 17)\n"
     ]
    }
   ],
   "source": [
    "result = p.finditer(\"life is too short\")\n",
    "\n",
    "# callable_iterator object 반환 \n",
    "print(result)\n",
    "\n",
    "for m in result: \n",
    "    print(m) # match object 반환\n",
    "    print(m.group())\n",
    "    print(m.start())\n",
    "    print(m.end())\n",
    "    print(m.span())\n",
    "\n",
    "\n"
   ]
  },
  {
   "cell_type": "code",
   "execution_count": null,
   "id": "4cd9696a",
   "metadata": {},
   "outputs": [],
   "source": []
  }
 ],
 "metadata": {
  "kernelspec": {
   "display_name": "Python 3 (ipykernel)",
   "language": "python",
   "name": "python3"
  },
  "language_info": {
   "codemirror_mode": {
    "name": "ipython",
    "version": 3
   },
   "file_extension": ".py",
   "mimetype": "text/x-python",
   "name": "python",
   "nbconvert_exporter": "python",
   "pygments_lexer": "ipython3",
   "version": "3.9.7"
  }
 },
 "nbformat": 4,
 "nbformat_minor": 5
}
