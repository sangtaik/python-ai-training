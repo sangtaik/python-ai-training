{
 "cells": [
  {
   "cell_type": "code",
   "execution_count": 3,
   "id": "0739e675",
   "metadata": {},
   "outputs": [
    {
     "name": "stdout",
     "output_type": "stream",
     "text": [
      "<re.Match object; span=(0, 6), match='python'>\n",
      "None\n",
      "정규식에 맞습니다.\n"
     ]
    }
   ],
   "source": [
    "import re\n",
    "p = re.compile('[a-z]+')\n",
    "\n",
    "#정규식에 맞으면 match 객체 반환\n",
    "match_good = p.match(\"python\")\n",
    "print(match_good)\n",
    "\n",
    "#정규식에 맞지 않다면, None을 반환\n",
    "match_bad = p.match(\"3 python\")\n",
    "print(match_bad)\n",
    "\n",
    "# 정규식에 맞는지 안 맞는지 확인\n",
    "if match_good:\n",
    "    print(\"정규식에 맞습니다.\")\n",
    "else :\n",
    "    print(\"정규식에 맞지 않습니다.\")"
   ]
  },
  {
   "cell_type": "code",
   "execution_count": 5,
   "id": "15b6508d",
   "metadata": {},
   "outputs": [
    {
     "name": "stdout",
     "output_type": "stream",
     "text": [
      "<re.Match object; span=(2, 8), match='python'>\n",
      "None\n"
     ]
    }
   ],
   "source": [
    "#정규식에 합당하면 object 반환\n",
    "m = p.search(\"3 python\")\n",
    "print(m)\n",
    "\n",
    "#정규식에 맞는 값을 찾을 수 없으면, None을 반환\n",
    "m = p.search(\"312\")\n",
    "print(m)"
   ]
  },
  {
   "cell_type": "code",
   "execution_count": null,
   "id": "15ed01af",
   "metadata": {},
   "outputs": [],
   "source": []
  }
 ],
 "metadata": {
  "kernelspec": {
   "display_name": "Python 3 (ipykernel)",
   "language": "python",
   "name": "python3"
  },
  "language_info": {
   "codemirror_mode": {
    "name": "ipython",
    "version": 3
   },
   "file_extension": ".py",
   "mimetype": "text/x-python",
   "name": "python",
   "nbconvert_exporter": "python",
   "pygments_lexer": "ipython3",
   "version": "3.9.7"
  }
 },
 "nbformat": 4,
 "nbformat_minor": 5
}
