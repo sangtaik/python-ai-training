{
 "cells": [
  {
   "cell_type": "markdown",
   "id": "257370dc",
   "metadata": {},
   "source": [
    "### while"
   ]
  },
  {
   "cell_type": "code",
   "execution_count": 1,
   "id": "bbae06c7",
   "metadata": {},
   "outputs": [
    {
     "ename": "IndentationError",
     "evalue": "unexpected indent (Temp/ipykernel_7860/4036030694.py, line 3)",
     "output_type": "error",
     "traceback": [
      "\u001b[1;36m  File \u001b[1;32m\"C:\\Users\\sangt\\AppData\\Local\\Temp/ipykernel_7860/4036030694.py\"\u001b[1;36m, line \u001b[1;32m3\u001b[0m\n\u001b[1;33m    print(\".\", end='')\u001b[0m\n\u001b[1;37m    ^\u001b[0m\n\u001b[1;31mIndentationError\u001b[0m\u001b[1;31m:\u001b[0m unexpected indent\n"
     ]
    }
   ],
   "source": [
    "# 중지하려면 컨트롤(Ctrl) + C 키를 누르세요.\n",
    "# while True: #무한 반복\n",
    "    print(\".\", end='')\n",
    "    "
   ]
  },
  {
   "cell_type": "code",
   "execution_count": null,
   "id": "b3a4f7e0",
   "metadata": {},
   "outputs": [],
   "source": [
    "# 1. while 반복문을 for 반복문처럼 반복하기\n",
    "i = 0\n",
    "while i < 10:\n",
    "    print(\"{}번째 반복입니다.\".format(i))\n",
    "    i+=1"
   ]
  },
  {
   "cell_type": "code",
   "execution_count": null,
   "id": "4af228b8",
   "metadata": {},
   "outputs": [],
   "source": [
    "# list에 값이 존재하면 해당하는 값을 삭제\n",
    "list_test = [1, 2, 1, 2]\n",
    "value = 2\n",
    "\n",
    "#list_test 내부에 value가 있다면 반복\n",
    "while value in list_test:\n",
    "    list_test.remove(value)\n",
    "    \n",
    "print(list_test)"
   ]
  },
  {
   "cell_type": "code",
   "execution_count": null,
   "id": "a5686e56",
   "metadata": {},
   "outputs": [],
   "source": [
    "import time\n",
    "\n",
    "number = 0 \n",
    "\n",
    "#5초 동안 반복합니다.\n",
    "target_tick = time.time() + 5\n",
    "while time.time() < target_tick:\n",
    "    number +=1\n",
    "    \n",
    "print(\"5초동안 {}번 반복했습니다.\".format(number))"
   ]
  },
  {
   "cell_type": "code",
   "execution_count": null,
   "id": "467a525e",
   "metadata": {},
   "outputs": [],
   "source": [
    "# break  : 반복문 탈출\n",
    "# continue : 반복문은 유지하지만, continue뒤에 코드는 실행 안함\n",
    "\n",
    "while True:\n",
    "    input_data = input(\"문자 입력 \")\n",
    "    if input_data =='y':\n",
    "        break\n",
    "    if input_data =='c':\n",
    "        continue\n",
    "        print(\"이 문장은 출력되지 않습니다..\")\n",
    "    else :\n",
    "        print(input_data)"
   ]
  },
  {
   "cell_type": "code",
   "execution_count": null,
   "id": "c12e9268",
   "metadata": {},
   "outputs": [],
   "source": [
    "#문 ->, 키보드에서 숫자 부호 숫자를 입력받아 계산하는 프로그램 작성\n",
    "# 10 + 20 -> 10 + 20 = 30형식으로 출력\n",
    "# 처음 자료에 'q'가 입력되면 프로그램 종료\n",
    "# 부호는 '+, -, *, /' 이외의 부호가 입력되면 계속\n",
    "# 처음 자료가 숫자 또는 'q'가 아니면 계속 입력\n",
    "#1. 반복문, 2. 계산식을 입력받음, 입력자료를 리스트로 변경\n",
    "# 3. 처음 자료가 q이면 반복문 탈출\n",
    "# 아니면 처음 자료와 마지막 자료가 숫자인지 확인 -> int로 변환\n",
    "# 4 부호에 따라 계산식 출력\n",
    "\n",
    "while True:\n",
    "    input_data = input(\"계산식 입력 (10 + 20), 종료: 'q' \").split()\n",
    "    if input_data[0] =='q':\n",
    "        break\n",
    "        \n",
    "    if len(input_data) < 3:\n",
    "        print(\"인자 값이 모자릅니다.( 숫자 부호 숫자)\")\n",
    "        continue\n",
    "    if not (input_data[0].isdigit() and input_data[2].isdigit()):\n",
    "        continue \n",
    "    # 부호는 '+, -, *, /' 이외의 부호가 입력되면 계속\n",
    "    if not input_data[1] in \"+-/*\":\n",
    "        continue\n",
    "        \n",
    "    num1 = int(input_data[0])\n",
    "    buho = input_data[1]\n",
    "    num2 = int(input_data[2])\n",
    "    if buho == '+':\n",
    "        result = num1 + num2\n",
    "    elif buho == '-':\n",
    "        result = num1 - num2\n",
    "    elif buho == '*':\n",
    "        result = num1 * num2\n",
    "    elif buho == '/':\n",
    "        result = num1 / num2\n",
    "    else :\n",
    "        continue\n",
    "            \n",
    "    print(\"{} {} {} = {}\".format(num1, buho, num2, result))\n"
   ]
  },
  {
   "cell_type": "code",
   "execution_count": null,
   "id": "44a2e784",
   "metadata": {},
   "outputs": [],
   "source": [
    "# 이름과 성적을 입력받아 딕셔너리에 저장한 후\n",
    "# 인원수, 성적 총합계, 평균을 구하세요.\n",
    "# 입력의 종료는 이름에 'q'가 입력되면 입력 종료\n",
    "dict_student = {}\n",
    "'''\n",
    "dict_student = {\n",
    "  0 :{'id': 0, 'name': 'john', 'score': '87'}\n",
    ", 1 :{'id': 1, 'name': 'zelan', 'score': '76'}\n",
    ", 2 :{'id': 2, 'name': 'sike', 'score': '100'}\n",
    ", 3 :{'id': 3, 'name': 'kumamoto', 'score': '20'}\n",
    ", 4 :{'id': 4, 'name': 'pole', 'score': '50'}\n",
    ", 5 :{'id': 5, 'name': 'zamba', 'score': '70'}\n",
    ", 6 :{'id': 6, 'name': 'hoi', 'score': '100'}\n",
    ", 7 :{'id': 7, 'name': 'alli', 'score': '90'}\n",
    ", 8 :{'id': 8, 'name': 'mao', 'score': '90'}\n",
    ", 9 :{'id': 9, 'name': 'julia', 'score': '10'}\n",
    "}\n",
    "\n",
    "'''\n",
    "i = 0\n",
    "\n",
    "while True:\n",
    "    dict_a = {}\n",
    "\n",
    "    input_data = input(\"{}, 이름과 성적을 입력하세요. 종료: 'q'\\\n",
    "                    각 이름과 성적은 ','로 구분합니다. \".format(i))\n",
    "    if input_data[0] =='q':\n",
    "        break\n",
    "        \n",
    "    if len(input_data) < 2:\n",
    "        print(\"인자 값이 모자릅니다.( 이름, 성적)\")\n",
    "        continue\n",
    "        \n",
    "    student = input_data.split(\",\")\n",
    "    print(student)\n",
    "    if not (student[1].strip().isdigit()):\n",
    "        print(\"성적값은 정수로 입력해야 합니다.)\")\n",
    "        continue \n",
    "        \n",
    "    dict_a[\"id\"] = i\n",
    "    dict_a[\"name\"] = student[0]\n",
    "    dict_a[\"score\"] = student[1]\n",
    "    dict_student[i] = dict_a\n",
    "    i += 1\n",
    "\n",
    "\n",
    "total = 0\n",
    "cnt = 0\n",
    "for key, value in dict_student.items():\n",
    "    cnt += 1\n",
    "    print(key, value)\n",
    "    for elements in value:\n",
    "        if elements == \"score\":\n",
    "            total += int(value[elements])\n",
    "print(\"인원 : {}, 총합 : {} , 평균 : {:3.2f}\".format(cnt, total, total/cnt))\n",
    "\n",
    "for key, value in dict_student.items():\n",
    "        for item_key, item_value in value.items():\n",
    "            print(item_key, ' : ', item_value )\n"
   ]
  },
  {
   "cell_type": "markdown",
   "id": "f63dc034",
   "metadata": {},
   "source": [
    "### 함수"
   ]
  },
  {
   "cell_type": "code",
   "execution_count": null,
   "id": "b5e8c839",
   "metadata": {},
   "outputs": [],
   "source": [
    "# 4-4 리스트 관련 함수 : min(리스트), max(리스트), sum(리스트)\n",
    "numbers = [22,44,11,55,77]\n",
    "print(\"numbers의 최소값 : \", min(numbers))\n",
    "print(\"numbers의 최대값 : \", max(numbers))\n",
    "print(\"numbers의 합 : \", sum(numbers))\n",
    "print(\"numbers의 평균 : \", sum(numbers)/len(numbers))"
   ]
  },
  {
   "cell_type": "code",
   "execution_count": null,
   "id": "2a262f8e",
   "metadata": {},
   "outputs": [],
   "source": [
    "# reversed() 함수 : 리스트 내부의 요소를 반대로 출력할 때 사용\n",
    "# 정확하게는 제네레이터를 반환함\n",
    "\n",
    "list_a = [1, 2, 3, 4 ,5]\n",
    "list_reverse = reversed(list_a)\n",
    "\n",
    "print(\"list_a\", list_a)\n",
    "print(\"list_reverse: \", list_reverse)\n",
    "print(\"list_reverse: \", list(list_reverse))\n",
    "#다시 출력하면 아무것도 나오지 않는다.\n",
    "#이는 제네러이터이기 때문이다.\n",
    "print(\"list_reverse: \", list(list_reverse)) \n",
    "print(\"list_reverse: \", list_a)\n",
    "\n",
    "print(\"range(5) : \", range(5))\n",
    "print(\"range(5) : \", list(range(5)))\n",
    "      \n",
    "print(type(int('1')), type('1'))"
   ]
  },
  {
   "cell_type": "markdown",
   "id": "de895f1d",
   "metadata": {},
   "source": [
    "제너레이터는 반복자(iterator)와 같은 루프의 작용을 컨트롤하기 위해 쓰여지는 특별한 함수 또는 루틴이다. 사실 모든 제너레이터는 반복자이다. 제너레이터는 배열이나 리스트를 리턴하는 함수와 비슷하며, 호출을 할 수 있는 파라메터를 가지고 있고, 연속적인 값들을 만들어 낸다. 하지만 한번에 모든 값을 포함한 배열을 만들어서 리턴하는 대신에 yield 구문을 이용해 한 번 호출될 때마다 하나의 값만을 리턴하고, 이런 이유로 일반 반복자에 비해 아주 작은 메모리를 필요로 한다. 간단히 얘기하면 제너레이터는 반복자와 같은 역할을 하는 함수이다."
   ]
  },
  {
   "cell_type": "code",
   "execution_count": null,
   "id": "129574cd",
   "metadata": {},
   "outputs": [],
   "source": [
    "\n",
    "temp = reversed([1, 2, 3, 4, 5])\n",
    "print(\"111 temp : \", temp)\n",
    "for i in temp:\n",
    "    print(\"첫 번째 반복문 : {}\".format(i))\n",
    "print(\"222 temp : \", temp)\n",
    "for i in temp:\n",
    "    print(\"두 번째 반복문 : {} \".format(i))\n",
    "print(\"333 temp : \", temp)"
   ]
  },
  {
   "cell_type": "code",
   "execution_count": null,
   "id": "84739bec",
   "metadata": {},
   "outputs": [],
   "source": [
    "# Shellow Copy , Deep Copy\n",
    "list_a = [1, 2, 3, 4, 5]\n",
    "\n",
    "# Shellow Copy : 다른 리스트를 변경했는데, 내용이 변함 \n",
    "list_cp = list_a\n",
    "print(list_cp, list_a)\n",
    "list_cp[0] = 100\n",
    "print(list_cp, list_a)\n",
    "\n",
    "# list의 copy()는 Deep Copy\n",
    "# Deep Copy : 별도로 복사했기 때문에, 내용이 변하지 않음\n",
    "list_aa = list_a.copy() # 자료를 복사\n",
    "list_aa[0] = 300\n",
    "list_aa.append(5)\n",
    "print(list_aa, list_a)\n"
   ]
  },
  {
   "cell_type": "code",
   "execution_count": null,
   "id": "7826d4bc",
   "metadata": {},
   "outputs": [],
   "source": [
    "import copy\n",
    "list_origin = [1, 2, 3, 4, 5]\n",
    "\n",
    "# copy의 copy는 Shellow Copy이다. 라고 하던데...\n",
    "# 결과가 deep으로 나오는 이유는?\n",
    "list_shellow = copy.copy(list_origin) # 자료를 복사\n",
    "list_shellow[0] = 300\n",
    "list_shellow.append(5)\n",
    "print(list_shellow, list_origin)\n",
    "\n",
    "#깊은 복사는 내부에 객체들까지 모두 새롭게 copy 되는 것입니다.\n",
    "# copy.deepcopy메소드가 해결해줍니다.\n",
    "# Deep Copy : 별도로 복사했기 때문에, 내용이 변하지 않음\n",
    "list_deep = copy.deepcopy(list_origin)\n",
    "list_deep.append(5)\n",
    "print(list_deep, list_origin)"
   ]
  },
  {
   "cell_type": "code",
   "execution_count": null,
   "id": "585c400a",
   "metadata": {},
   "outputs": [],
   "source": [
    "#zip(object_a, object_b) : a와 b의 요소를 묶어서 반환\n",
    "list_a = [1, 2, 3, 4, 5]\n",
    "list_b = [100, 200, 300, 400, 500]\n",
    "for a_value, b_value in zip(list_a, list_b):\n",
    "    print(a_value, b_value)"
   ]
  },
  {
   "cell_type": "code",
   "execution_count": 2,
   "id": "e848bdb5",
   "metadata": {},
   "outputs": [
    {
     "name": "stdout",
     "output_type": "stream",
     "text": [
      "0 1\n",
      "1 2\n",
      "2 3\n",
      "3 4\n",
      "4 5\n",
      "0 100\n",
      "1 200\n",
      "2 300\n",
      "3 400\n",
      "4 500\n"
     ]
    }
   ],
   "source": [
    "#zip(object_a, object_b) : a와 b의 요소를 묶어서 반환\n",
    "list_a = [1, 2, 3, 4, 5]\n",
    "list_b = [100, 200, 300, 400, 500]\n",
    "for i, value in enumerate(list_a):\n",
    "    print(i, value)\n",
    "    \n",
    "for i, value in enumerate(list_b):\n",
    "    print(i, value)"
   ]
  },
  {
   "cell_type": "code",
   "execution_count": 3,
   "id": "07da8e8f",
   "metadata": {},
   "outputs": [
    {
     "name": "stdout",
     "output_type": "stream",
     "text": [
      "[0, 2, 4, 6, 8, 10, 12, 14, 16, 18]\n",
      "[1, 3, 5, 7, 9, 11, 13, 15, 17, 19]\n",
      "[0, 8, 16, 24, 32]\n"
     ]
    }
   ],
   "source": [
    "# [반복문 사용 ] : 리스트 내포\n",
    "array = []\n",
    "for i in range(0, 20, 2):\n",
    "    array.append(i)\n",
    "print(array)\n",
    "\n",
    "# 리스트 이름 = [표현식 for 반복자 in 반복값]\n",
    "array1 = [i+1 for i in range(0,20,2)]\n",
    "print(array1)\n",
    "\n",
    "# 리스트 이름 = [표현식 for 반복자 in 반복값 if 조건문]\n",
    "array1 = [i*2 for i in range(0,20,2) if i%4==0]\n",
    "print(array1)"
   ]
  },
  {
   "cell_type": "code",
   "execution_count": 4,
   "id": "73921dec",
   "metadata": {},
   "outputs": [
    {
     "name": "stdout",
     "output_type": "stream",
     "text": [
      "1부터 100까지 짝수의 합 :  2550\n",
      "1부터 100까지 홀수의 합 :  2500\n"
     ]
    }
   ],
   "source": [
    "# 문 1부터 100까지 홀수의 합과 짝수의 합을 구하세요.\n",
    "\n",
    "print(\"1부터 100까지 짝수의 합 : \",\n",
    "      sum([i for i in range(1,101,1) if i%2==0]))\n",
    "print(\"1부터 100까지 홀수의 합 : \",\n",
    "      sum([i for i in range(1,101,1) if i%2==1]))"
   ]
  },
  {
   "cell_type": "code",
   "execution_count": 11,
   "id": "7cfe9429",
   "metadata": {},
   "outputs": [
    {
     "name": "stdout",
     "output_type": "stream",
     "text": [
      "1:2:3:4:5\n",
      "아무 문자나 입력(공백 필요)ㅁ ㅁ ㅁ\n",
      "['ㅁ', 'ㅁ', 'ㅁ']\n",
      "ㅁ--ㅁ--ㅁ\n",
      "split ---\n",
      "['ㅁ', 'ㅁ', 'ㅁ']\n"
     ]
    }
   ],
   "source": [
    "# 문자열.join(리스트(요소는 문자열)) -> 문자열\n",
    "join_str = ':'.join(['1','2','3','4','5'])\n",
    "print(join_str)\n",
    "\n",
    "input_data1 = input(\"아무 문자나 입력(공백 필요)\").split()\n",
    "print(input_data1)\n",
    "print('--'.join(input_data1))\n",
    "\n",
    "print('split ---')\n",
    "print(('--').join(input_data1).split('--'))"
   ]
  },
  {
   "cell_type": "code",
   "execution_count": 15,
   "id": "a792986d",
   "metadata": {},
   "outputs": [
    {
     "name": "stdout",
     "output_type": "stream",
     "text": [
      "reversed number :  <list_reverseiterator object at 0x000002C040F39160>\n",
      "5\n",
      "4\n",
      "3\n",
      "2\n",
      "1\n"
     ]
    },
    {
     "ename": "StopIteration",
     "evalue": "",
     "output_type": "error",
     "traceback": [
      "\u001b[1;31m---------------------------------------------------------------------------\u001b[0m",
      "\u001b[1;31mStopIteration\u001b[0m                             Traceback (most recent call last)",
      "\u001b[1;32m~\\AppData\\Local\\Temp/ipykernel_7860/951128129.py\u001b[0m in \u001b[0;36m<module>\u001b[1;34m\u001b[0m\n\u001b[0;32m      7\u001b[0m     \u001b[0mprint\u001b[0m\u001b[1;33m(\u001b[0m\u001b[0mnext\u001b[0m\u001b[1;33m(\u001b[0m\u001b[0mr_num\u001b[0m\u001b[1;33m)\u001b[0m\u001b[1;33m)\u001b[0m\u001b[1;33m\u001b[0m\u001b[1;33m\u001b[0m\u001b[0m\n\u001b[0;32m      8\u001b[0m \u001b[1;31m# StopIteration Error 발생\u001b[0m\u001b[1;33m\u001b[0m\u001b[1;33m\u001b[0m\u001b[0m\n\u001b[1;32m----> 9\u001b[1;33m \u001b[0mprint\u001b[0m\u001b[1;33m(\u001b[0m\u001b[0mnext\u001b[0m\u001b[1;33m(\u001b[0m\u001b[0mr_num\u001b[0m\u001b[1;33m)\u001b[0m\u001b[1;33m)\u001b[0m \u001b[1;31m# 더 이상 가져올 자료 없음\u001b[0m\u001b[1;33m\u001b[0m\u001b[1;33m\u001b[0m\u001b[0m\n\u001b[0m",
      "\u001b[1;31mStopIteration\u001b[0m: "
     ]
    }
   ],
   "source": [
    "#이터레이터, 제네레이터 함수\n",
    "numbers = [1, 2, 3, 4, 5]\n",
    "r_num = reversed(numbers)\n",
    "\n",
    "print(\"reversed number : \", r_num)\n",
    "for i in range(5):\n",
    "    print(next(r_num))\n",
    "# StopIteration Error 발생\n",
    "print(next(r_num)) # 더 이상 가져올 자료 없음"
   ]
  },
  {
   "cell_type": "code",
   "execution_count": null,
   "id": "47a41aa6",
   "metadata": {},
   "outputs": [],
   "source": []
  }
 ],
 "metadata": {
  "kernelspec": {
   "display_name": "Python 3 (ipykernel)",
   "language": "python",
   "name": "python3"
  },
  "language_info": {
   "codemirror_mode": {
    "name": "ipython",
    "version": 3
   },
   "file_extension": ".py",
   "mimetype": "text/x-python",
   "name": "python",
   "nbconvert_exporter": "python",
   "pygments_lexer": "ipython3",
   "version": "3.9.7"
  }
 },
 "nbformat": 4,
 "nbformat_minor": 5
}
