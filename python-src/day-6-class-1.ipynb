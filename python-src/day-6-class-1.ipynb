{
 "cells": [
  {
   "cell_type": "code",
   "execution_count": 3,
   "id": "68a848db",
   "metadata": {},
   "outputs": [
    {
     "name": "stdout",
     "output_type": "stream",
     "text": [
      "A - 생성\n",
      "A - 소멸\n",
      "B - 생성\n",
      "B - 소멸\n",
      "C - 생성\n"
     ]
    },
    {
     "data": {
      "text/plain": [
       "<__main__.Test at 0x2315bb15f40>"
      ]
     },
     "execution_count": 3,
     "metadata": {},
     "output_type": "execute_result"
    }
   ],
   "source": [
    "## 생성자 \n",
    "## 소멸자\n",
    "\n",
    "class Test:\n",
    "    def __init__(self, name):\n",
    "        self.name = name\n",
    "        print(\"{} - 생성\".format(self.name))\n",
    "    def __del__(self):\n",
    "        print(\"{} - 소멸\".format(self.name))\n",
    "        \n",
    "Test(\"A\")\n",
    "Test(\"B\")\n",
    "Test(\"C\")"
   ]
  },
  {
   "cell_type": "code",
   "execution_count": 12,
   "id": "152d1647",
   "metadata": {},
   "outputs": [
    {
     "name": "stdout",
     "output_type": "stream",
     "text": [
      "원의 둘레 : 62.83185307179586\n",
      "원의 넓이 : 314.1592653589793\n",
      "원의 반지름 : 10\n",
      "원의 반지름 : 5\n"
     ]
    }
   ],
   "source": [
    "# 게터, 세터 정의 방법 1\n",
    "# private 변수 : 클래스 내부에서만 접근 가능한 변수\n",
    "# private 변수 선언은 외부에서 접근 불가: __(언더바 * 2)를 앞에 붙여서 선언한다.\n",
    "# ex) __radius (private)\n",
    "# 외부에서 접근이 불가능하므로 게터 함수 및 세터 함수가 필요함\n",
    "import math\n",
    "\n",
    "class Circle:\n",
    "    def __init__(self, radius):\n",
    "        self.__radius = radius\n",
    "    def get_circum(self):\n",
    "        return 2* math.pi * self.__radius\n",
    "    def get_area(self):\n",
    "        return math.pi * (self.__radius**2)\n",
    "    # Geter 정의\n",
    "    def get_radius(self):\n",
    "        return self.__radius\n",
    "    # Seter 정의 \n",
    "    def set_radius(self, value):\n",
    "        self.__radius = value\n",
    "    \n",
    "circle = Circle(10)\n",
    "print(\"원의 둘레 :\", circle.get_circum())\n",
    "print(\"원의 넓이 :\", circle.get_area())\n",
    "#print(circle.radius) # 오류 발생\n",
    "print(\"원의 반지름 :\", circle.get_radius())\n",
    "circle.set_radius(5)\n",
    "print(\"원의 반지름 :\", circle.get_radius())"
   ]
  },
  {
   "cell_type": "code",
   "execution_count": 18,
   "id": "f056ef01",
   "metadata": {},
   "outputs": [
    {
     "name": "stdout",
     "output_type": "stream",
     "text": [
      "원의 반지름 : 10\n",
      "원의 반지름 : 2\n"
     ]
    }
   ],
   "source": [
    "# 게터, 세터 정의 방법 2\n",
    "# 게터, 세터 정의 방법 1과 같은 효과이지만 데코레이터를 사용하여 선언\n",
    "import math\n",
    "\n",
    "class Circle:\n",
    "    def __init__(self, radius):\n",
    "        self.__radius = radius\n",
    "    def get_circum(self):\n",
    "        return 2* math.pi * self.__radius\n",
    "    def get_area(self):\n",
    "        return math.pi * (self.__radius**2)\n",
    "    # Geter 정의\n",
    "    @property\n",
    "    def radius(self):\n",
    "        return self.__radius\n",
    "    # Seter 정의 \n",
    "    @radius.setter\n",
    "    def radius(self, value):\n",
    "        self.__radius = value\n",
    "    \n",
    "circle = Circle(10)\n",
    "#print(circle.radius) # 오류 발생\n",
    "print(\"원의 반지름 :\", circle.radius)\n",
    "circle.radius = 2\n",
    "print(\"원의 반지름 :\", circle.radius)"
   ]
  },
  {
   "cell_type": "code",
   "execution_count": 26,
   "id": "0e601e92",
   "metadata": {},
   "outputs": [
    {
     "name": "stdout",
     "output_type": "stream",
     "text": [
      "Parent clas __init__() __ 메서드 호출\n",
      "Child class __init__() __ 메서드 호출\n",
      "Child class test() 호출\n",
      "Parent class see() 호출\n",
      "테스트\n",
      "Parent clas __init__() __ 메서드 호출\n",
      "Parent class test() 호출\n"
     ]
    }
   ],
   "source": [
    "# 클래스 상속 : 부모의 모든 변수와 함수를 상속, 부모의 함수명과 같으면 재정의 함\n",
    "#\n",
    "class Parent:\n",
    "    def __init__(self):\n",
    "        self.value = \"테스트\"\n",
    "        print(\"Parent clas __init__() __ 메서드 호출\")\n",
    "    def test(self):\n",
    "        print(\"Parent class test() 호출\")\n",
    "    def see(self):\n",
    "        print(\"Parent class see() 호출\")\n",
    "\n",
    "class Child(Parent):\n",
    "    def __init__(self):\n",
    "        \n",
    "        # Parent init 함수는 자동으로 불러오지 않기 때문에 수동으로 호출해야 한다.\n",
    "        Parent.__init__(self) \n",
    "        print(\"Child class __init__() __ 메서드 호출\")\n",
    "    def test(self): ## Override(재정의) \n",
    "        print(\"Child class test() 호출\")\n",
    "        \n",
    "child = Child()\n",
    "child.test()\n",
    "child.see()\n",
    "print(child.value)\n",
    "parent = Parent()\n",
    "parent.test()"
   ]
  },
  {
   "cell_type": "code",
   "execution_count": null,
   "id": "78bc2f70",
   "metadata": {},
   "outputs": [],
   "source": []
  }
 ],
 "metadata": {
  "kernelspec": {
   "display_name": "Python 3 (ipykernel)",
   "language": "python",
   "name": "python3"
  },
  "language_info": {
   "codemirror_mode": {
    "name": "ipython",
    "version": 3
   },
   "file_extension": ".py",
   "mimetype": "text/x-python",
   "name": "python",
   "nbconvert_exporter": "python",
   "pygments_lexer": "ipython3",
   "version": "3.9.7"
  }
 },
 "nbformat": 4,
 "nbformat_minor": 5
}
