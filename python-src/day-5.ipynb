{
 "cells": [
  {
   "cell_type": "markdown",
   "id": "3aadd3f8",
   "metadata": {},
   "source": [
    "### 데코레이터(decorator)"
   ]
  },
  {
   "cell_type": "code",
   "execution_count": 3,
   "id": "00941312",
   "metadata": {},
   "outputs": [
    {
     "name": "stdout",
     "output_type": "stream",
     "text": [
      "함수 시작.\n",
      "hello\n",
      "함수 종료\n"
     ]
    }
   ],
   "source": [
    "def test(function):\n",
    "    def wrapper():\n",
    "        print(\"함수 시작.\")\n",
    "        function()\n",
    "        print(\"함수 종료\")\n",
    "    return wrapper\n",
    "\n",
    "# 데코레이터 함수 정의\n",
    "@test\n",
    "def hello():\n",
    "    print(\"hello\")\n",
    "    \n",
    "# 함수 호출\n",
    "hello()\n",
    "\n",
    "## 1. hello 함수 실행\n",
    "## 2. @test로 인하여 def test(function) 한 줄 실행 (function = hello 인 상태)\n",
    "## 3. def wrapper()는 정의이기 때문에 아직 실행 안함\n",
    "## 4. return wrapper 실행\n",
    "## 5. 그런데 return으로 wrapper함수가 실행되어야 하므로\n",
    "## 6. def wrapper에 있는 print등의 실행이 되게 된다.\n"
   ]
  },
  {
   "cell_type": "code",
   "execution_count": 5,
   "id": "226bf58b",
   "metadata": {},
   "outputs": [],
   "source": [
    "## class"
   ]
  },
  {
   "cell_type": "code",
   "execution_count": 10,
   "id": "77328e21",
   "metadata": {},
   "outputs": [
    {
     "name": "stdout",
     "output_type": "stream",
     "text": [
      "test 100 100 100 100\n",
      "윤인성 87 98 88 95\n",
      "연하진 92 98 96 98\n",
      "구지연 76 96 94 90\n",
      "나선주 98 92 96 92\n",
      "윤아린 95 98 98 98\n",
      "윤명월 64 88 92 92\n"
     ]
    }
   ],
   "source": [
    "class Student:\n",
    "    def __init__(self, name, korean, math, english, science):\n",
    "        self.name = name\n",
    "        self.korean = korean\n",
    "        self.math = math\n",
    "        self.english = english\n",
    "        self.science = science\n",
    "     \n",
    "a = Student('test', 100, 100, 100, 100)\n",
    "print(a.name, a.korean, a.math, a.english, a.science)    \n",
    "# 학생 리스트를 선언합니다.\n",
    "students = [\n",
    "    Student(\"윤인성\", 87, 98, 88, 95),\n",
    "    Student(\"연하진\", 92, 98, 96, 98),\n",
    "    Student(\"구지연\", 76, 96, 94, 90),\n",
    "    Student(\"나선주\", 98, 92, 96, 92),\n",
    "    Student(\"윤아린\", 95, 98, 98, 98),\n",
    "    Student(\"윤명월\", 64, 88, 92, 92),\n",
    "]\n",
    "\n",
    "for student in students:\n",
    "    print(student.name, student.korean, student.math, student.english, student.science)"
   ]
  },
  {
   "cell_type": "code",
   "execution_count": null,
   "id": "4d2bee30",
   "metadata": {},
   "outputs": [],
   "source": []
  }
 ],
 "metadata": {
  "kernelspec": {
   "display_name": "Python 3 (ipykernel)",
   "language": "python",
   "name": "python3"
  },
  "language_info": {
   "codemirror_mode": {
    "name": "ipython",
    "version": 3
   },
   "file_extension": ".py",
   "mimetype": "text/x-python",
   "name": "python",
   "nbconvert_exporter": "python",
   "pygments_lexer": "ipython3",
   "version": "3.9.7"
  }
 },
 "nbformat": 4,
 "nbformat_minor": 5
}
