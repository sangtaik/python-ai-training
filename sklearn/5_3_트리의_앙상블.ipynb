{
  "nbformat": 4,
  "nbformat_minor": 0,
  "metadata": {
    "colab": {
      "name": "5-3 트리의 앙상블.ipynb",
      "provenance": [],
      "collapsed_sections": []
    },
    "kernelspec": {
      "name": "python3",
      "display_name": "Python 3"
    },
    "language_info": {
      "name": "python"
    }
  },
  "cells": [
    {
      "cell_type": "code",
      "execution_count": 2,
      "metadata": {
        "colab": {
          "base_uri": "https://localhost:8080/"
        },
        "id": "iHGrRXFZ_4jl",
        "outputId": "8651057b-43cf-4bd2-a42e-9674f03f2c3b"
      },
      "outputs": [
        {
          "output_type": "stream",
          "name": "stdout",
          "text": [
            "[[ 9.4   1.9   3.51]\n",
            " [ 9.8   2.6   3.2 ]\n",
            " [ 9.8   2.3   3.26]\n",
            " ...\n",
            " [ 9.4   1.2   2.99]\n",
            " [12.8   1.1   3.34]\n",
            " [11.8   0.8   3.26]]\n"
          ]
        }
      ],
      "source": [
        "import numpy as np\n",
        "import pandas as pd\n",
        "from sklearn.model_selection import train_test_split\n",
        "\n",
        "wine = pd.read_csv('https://bit.ly/wine_csv_data')\n",
        "data = wine[['alcohol', 'sugar', 'pH']].to_numpy()\n",
        "target = wine['class'].to_numpy()\n",
        "train_input, test_input, train_target, test_target = train_test_split(\n",
        "    data, target, test_size = 0.2, random_state=42\n",
        ")\n",
        "\n",
        "print(data)"
      ]
    },
    {
      "cell_type": "code",
      "source": [
        "# 앙상블 훈련 중 하나인 랜덤 포레스트 모델을 사용\n",
        "from sklearn.model_selection import cross_validate\n",
        "from sklearn.ensemble import RandomForestClassifier\n",
        "\n",
        "rf = RandomForestClassifier(n_jobs=-1, random_state = 42)\n",
        "scores = cross_validate(rf, train_input, train_target,\n",
        "                       return_train_score=True, n_jobs = -1)\n",
        "print(np.mean(scores['train_score']), np.mean(scores['test_score']))"
      ],
      "metadata": {
        "colab": {
          "base_uri": "https://localhost:8080/"
        },
        "id": "VdYxJfU6AqRl",
        "outputId": "243e3525-60b7-4581-907c-8d927ac125b4"
      },
      "execution_count": 3,
      "outputs": [
        {
          "output_type": "stream",
          "name": "stdout",
          "text": [
            "0.9973541965122431 0.8905151032797809\n"
          ]
        }
      ]
    },
    {
      "cell_type": "code",
      "source": [
        "\n",
        "rf.fit(train_input, train_target)\n",
        "\n",
        "# [0.23167441 0.50039841 0.26792718]\n",
        "# 여전히 sugar가 0.5로 중요도가 가장 높다.\n",
        "# 하지만 alcohol이 0.23, pH가 0.26으로 비중이 많이 높아졌다.\n",
        "print(rf.feature_importances_)"
      ],
      "metadata": {
        "colab": {
          "base_uri": "https://localhost:8080/"
        },
        "id": "gdQo7bRbA959",
        "outputId": "603f3199-550f-4f58-ef04-c57955ab0ac1"
      },
      "execution_count": null,
      "outputs": [
        {
          "output_type": "stream",
          "name": "stdout",
          "text": [
            "[0.23167441 0.50039841 0.26792718]\n"
          ]
        }
      ]
    },
    {
      "cell_type": "code",
      "source": [
        "# oob 점수를 사용하면 교차 검증을 대신할 수 있다.\n",
        "rf = RandomForestClassifier(oob_score=True, n_jobs=-1, random_state = 42)\n",
        "rf.fit(train_input, train_target)\n",
        "print(rf.oob_score_)"
      ],
      "metadata": {
        "colab": {
          "base_uri": "https://localhost:8080/"
        },
        "id": "8lFF-mO7B5bt",
        "outputId": "887fd4b3-9560-4441-89c4-0c0755d67389"
      },
      "execution_count": null,
      "outputs": [
        {
          "output_type": "stream",
          "name": "stdout",
          "text": [
            "0.8934000384837406\n"
          ]
        }
      ]
    },
    {
      "cell_type": "code",
      "source": [
        "# Extra Tree는 랜덤 포레스트 모델와 다르게 \n",
        "# 중복되지 않는 자료(부트 스트랩)를 사용\n",
        "from sklearn.ensemble import ExtraTreesClassifier\n",
        "et = ExtraTreesClassifier(n_jobs = -1, random_state=42)\n",
        "scores = cross_validate(et, train_input, train_target,\n",
        "                        return_train_score=True, n_jobs=-1)\n",
        "print(np.mean(scores['train_score']), np.mean(scores['test_score']))"
      ],
      "metadata": {
        "colab": {
          "base_uri": "https://localhost:8080/"
        },
        "id": "TLn_QF9LC7cd",
        "outputId": "f84cdb09-4970-40e2-dd58-027a69508939"
      },
      "execution_count": null,
      "outputs": [
        {
          "output_type": "stream",
          "name": "stdout",
          "text": [
            "0.9974503966084433 0.8887848893166506\n"
          ]
        }
      ]
    },
    {
      "cell_type": "code",
      "source": [
        "et.fit(train_input, train_target)\n",
        "print(et.feature_importances_)"
      ],
      "metadata": {
        "colab": {
          "base_uri": "https://localhost:8080/"
        },
        "id": "laRLX1IXElNd",
        "outputId": "e5e2e730-d513-4d6b-c14e-4220d401d16e"
      },
      "execution_count": null,
      "outputs": [
        {
          "output_type": "stream",
          "name": "stdout",
          "text": [
            "[0.20183568 0.52242907 0.27573525]\n"
          ]
        }
      ]
    },
    {
      "cell_type": "code",
      "source": [
        "# 그레이디언트 부스팅\n",
        "# 깊이가 얕은 결정 트리를 사용하여 이진 트리의 오차를 보완하는 방식\n",
        "# 경사 하강법을 사용하여 트리를 앙상블에 추가함\n",
        "# 분류에서는 로지스틱 손실 함수를 사용하고 회귀에서는 평균 제곱 오차 함수를 사용\n",
        "# 일반적으로 높은 성능을 기대할 수 있다.\n",
        "\n",
        "from sklearn.ensemble import GradientBoostingClassifier\n",
        "gb = GradientBoostingClassifier(random_state = 42)\n",
        "scores = cross_validate(gb, train_input, train_target,\n",
        "                        return_train_score=True, n_jobs=-1)\n",
        "\n",
        "print(np.mean(scores['train_score']), np.mean(scores['test_score']))"
      ],
      "metadata": {
        "colab": {
          "base_uri": "https://localhost:8080/"
        },
        "id": "Eg_s4DPWFB4k",
        "outputId": "eabd1390-daf7-414a-9af0-97667b79e519"
      },
      "execution_count": null,
      "outputs": [
        {
          "output_type": "stream",
          "name": "stdout",
          "text": [
            "0.8881086892152563 0.8720430147331015\n"
          ]
        }
      ]
    },
    {
      "cell_type": "code",
      "source": [
        "# 결정 트리 개수를 500개로 증가하여 다시 실행\n",
        "# learning_rate의 default 값이 0.1\n",
        "# n_jobs 매개변수는 없다.\n",
        "gb = GradientBoostingClassifier(n_estimators=500, learning_rate=0.2,\n",
        "                                random_state = 42)\n",
        "scores = cross_validate(gb, train_input, train_target,\n",
        "                        return_train_score=True, n_jobs=-1)\n",
        "\n",
        "print(np.mean(scores['train_score']), np.mean(scores['test_score']))"
      ],
      "metadata": {
        "colab": {
          "base_uri": "https://localhost:8080/"
        },
        "id": "vTZ4pvX1GYuk",
        "outputId": "abbd882d-d7f9-4884-b48e-2863c8a7ff98"
      },
      "execution_count": null,
      "outputs": [
        {
          "output_type": "stream",
          "name": "stdout",
          "text": [
            "0.9464595437171814 0.8780082549788999\n"
          ]
        }
      ]
    },
    {
      "cell_type": "code",
      "source": [
        "gb.fit(train_input, train_target)\n",
        "print(gb.feature_importances_)"
      ],
      "metadata": {
        "colab": {
          "base_uri": "https://localhost:8080/"
        },
        "id": "RMoL4qgrKM5E",
        "outputId": "f38b6b6f-fea7-43cc-ddd5-b14e818a0750"
      },
      "execution_count": null,
      "outputs": [
        {
          "output_type": "stream",
          "name": "stdout",
          "text": [
            "[0.15872278 0.68010884 0.16116839]\n"
          ]
        }
      ]
    },
    {
      "cell_type": "code",
      "source": [
        "# 히스토그램 기반 그레이디언트 부스팅(Histogram-based Gradient Boosting)\n",
        "# 정형 데이터를 다루는데 인기있는 알고리즘\n",
        "# 그래이디언트 부스팅의 속도와 성능을 더욱 개선함.\n",
        "# 입력 특성을 256개의 구간을 나누고, 하나를 떼어놓고, 누락된 값을 위하여 사용함\n",
        "# - 입력에 누락된 늑성이 있더라도 전처리할 필요가 없다는 것이 특징\n",
        "#from sklearn.experimental import enable_hist_gradient_boosting\n",
        "from sklearn.ensemble import HistGradientBoostingClassifier\n",
        "\n",
        "hgb = HistGradientBoostingClassifier(random_state=42)\n",
        "scores = cross_validate(hgb, train_input, train_target,\n",
        "                        return_train_score = True)\n",
        "print(np.mean(scores['train_score']), np.mean(scores['test_score']))"
      ],
      "metadata": {
        "colab": {
          "base_uri": "https://localhost:8080/"
        },
        "id": "DjQTTO7dNPdU",
        "outputId": "1da17813-fa4e-4695-8395-b05901c4562d"
      },
      "execution_count": null,
      "outputs": [
        {
          "output_type": "stream",
          "name": "stdout",
          "text": [
            "0.9321723946453317 0.8801241948619236\n"
          ]
        }
      ]
    },
    {
      "cell_type": "code",
      "source": [
        "# 히스토그램 기반 그레이디언트 부스팅의 특성 중요도를 계산하기 위해 permutation_importance 함수를 사용한다.\n",
        "# 이 함수는 특성을 하나씩 랜덤하게 섞어서 모델의 성능이 변화하는지를 관찰하며, 어떤 특성이 중요한지 계산한다.\n",
        "\n",
        "from sklearn.inspection import permutation_importance\n",
        "\n",
        "hgb = HistGradientBoostingClassifier(random_state=42)\n",
        "\n",
        "hgb.fit(train_input, train_target)\n",
        "\n",
        "# n_repeats : 랜덤하게 섞을 횟수를 지정, 기본값은 5\n",
        "# 질문 : 아니 근데, fit를 이미 한 상태에서 모델의 성능을 관찰해봐야 의미가 있는가?\n",
        "# 그렇다면 fit가 포함되어 있는 함수인가?\n",
        "result = permutation_importance(hgb, train_input, train_target,\n",
        "                                n_repeats=10, random_state=42, n_jobs=-1)\n",
        "\n",
        "print(result.importances_mean)"
      ],
      "metadata": {
        "colab": {
          "base_uri": "https://localhost:8080/"
        },
        "id": "DPFUkOhRPWoa",
        "outputId": "2ada2a7b-cedb-4e02-e122-c25ec904c27c"
      },
      "execution_count": null,
      "outputs": [
        {
          "output_type": "stream",
          "name": "stdout",
          "text": [
            "[0.08876275 0.23438522 0.08027708]\n"
          ]
        }
      ]
    },
    {
      "cell_type": "code",
      "source": [
        "# 테스트에서 특성 중요도를 계산해본다.\n",
        "result = permutation_importance(hgb, test_input, test_target,\n",
        "                                n_repeats=10, random_state=42, n_jobs=-1)\n",
        "\n",
        "print(result.importances_mean)"
      ],
      "metadata": {
        "colab": {
          "base_uri": "https://localhost:8080/"
        },
        "id": "R05NqRVYRm4p",
        "outputId": "e7bae7e3-53a3-4751-d81f-4f64ac47c023"
      },
      "execution_count": null,
      "outputs": [
        {
          "output_type": "stream",
          "name": "stdout",
          "text": [
            "[0.05969231 0.20238462 0.049     ]\n"
          ]
        }
      ]
    },
    {
      "cell_type": "code",
      "source": [
        "# 최종적으로 테스트 세트에서의 성능은?\n",
        "print(hgb.score(test_input, test_target))\n",
        "\n",
        "print(scores['train_score'])\n",
        "print(scores['test_score'])"
      ],
      "metadata": {
        "colab": {
          "base_uri": "https://localhost:8080/"
        },
        "id": "e-eCZQhfR2_Y",
        "outputId": "18ab9550-85bb-4d85-d2dd-ff1770435ec3"
      },
      "execution_count": null,
      "outputs": [
        {
          "output_type": "stream",
          "name": "stdout",
          "text": [
            "0.8723076923076923\n",
            "[0.93192206 0.93216262 0.92857143 0.93265993 0.93554594]\n",
            "[0.87115385 0.88365385 0.90279115 0.86621752 0.87680462]\n"
          ]
        }
      ]
    },
    {
      "cell_type": "code",
      "source": [
        "print(np.mean(scores['train_score']), np.mean(scores['test_score']))"
      ],
      "metadata": {
        "colab": {
          "base_uri": "https://localhost:8080/"
        },
        "id": "C5bMpF-FSFCg",
        "outputId": "17c8101b-8b12-4886-c987-448f282400e4"
      },
      "execution_count": null,
      "outputs": [
        {
          "output_type": "stream",
          "name": "stdout",
          "text": [
            "0.9321723946453317 0.8801241948619236\n"
          ]
        }
      ]
    },
    {
      "cell_type": "code",
      "source": [
        "print(result)"
      ],
      "metadata": {
        "colab": {
          "base_uri": "https://localhost:8080/"
        },
        "id": "rafSCLAXSUdZ",
        "outputId": "19447e7a-2695-4686-e9cc-85962e99c819"
      },
      "execution_count": null,
      "outputs": [
        {
          "output_type": "stream",
          "name": "stdout",
          "text": [
            "{'importances_mean': array([0.05969231, 0.20238462, 0.049     ]), 'importances_std': array([0.004     , 0.007938  , 0.00453846]), 'importances': array([[0.06230769, 0.05769231, 0.05538462, 0.05538462, 0.06076923,\n",
            "        0.06076923, 0.06846154, 0.06230769, 0.05461538, 0.05923077],\n",
            "       [0.20076923, 0.2       , 0.21153846, 0.20076923, 0.20307692,\n",
            "        0.18923077, 0.19615385, 0.19461538, 0.21384615, 0.21384615],\n",
            "       [0.05692308, 0.04692308, 0.05076923, 0.04769231, 0.04692308,\n",
            "        0.05      , 0.04384615, 0.04692308, 0.04307692, 0.05692308]])}\n",
            "[0. 1.]\n"
          ]
        }
      ]
    },
    {
      "cell_type": "code",
      "source": [
        "##################\n",
        "# 사이킷럿 외에 제공하는 히스토그램 부스팅 알고리즘을 구현한 라이브러리\n",
        "# 1. XGBoost : cross_validate() 함수 사용 가능\n",
        "##################\n",
        "\n",
        "from xgboost import XGBClassifier\n",
        "xgb = XGBClassifier(tree_method='hist', random_state=42)\n",
        "scores = cross_validate(xgb, train_input, train_target, return_train_score=True)\n",
        "print(np.mean(scores['train_score']), np.mean(scores['test_score']))"
      ],
      "metadata": {
        "id": "Ut9GVlrEStdQ",
        "colab": {
          "base_uri": "https://localhost:8080/"
        },
        "outputId": "7ca31c4a-0ad5-4c2f-b184-ec22992873f5"
      },
      "execution_count": 6,
      "outputs": [
        {
          "output_type": "stream",
          "name": "stdout",
          "text": [
            "0.8824322471423747 0.8726214185237284\n"
          ]
        }
      ]
    },
    {
      "cell_type": "code",
      "source": [
        "##################\n",
        "# 사이킷럿 외에 제공하는 히스토그램 부스팅 알고리즘을 구현한 라이브러리\n",
        "# 2. Lightgbm : cross_validate() 함수 사용 가능\n",
        "##################\n",
        "from lightgbm import LGBMClassifier\n",
        "lgb = LGBMClassifier(random_state=42)\n",
        "scores = cross_validate(lgb, train_input, train_target, return_train_score=True, n_jobs=-1)\n",
        "print(np.mean(scores['train_score']), np.mean(scores['test_score']))"
      ],
      "metadata": {
        "colab": {
          "base_uri": "https://localhost:8080/"
        },
        "id": "8P0ZyBJ45s1K",
        "outputId": "69ebf7b0-713f-418a-ba42-81affbce73a8"
      },
      "execution_count": 7,
      "outputs": [
        {
          "output_type": "stream",
          "name": "stdout",
          "text": [
            "0.9338079582727165 0.8789710890649293\n"
          ]
        }
      ]
    },
    {
      "cell_type": "code",
      "source": [
        ""
      ],
      "metadata": {
        "id": "0C-9iwY36xp5"
      },
      "execution_count": null,
      "outputs": []
    }
  ]
}