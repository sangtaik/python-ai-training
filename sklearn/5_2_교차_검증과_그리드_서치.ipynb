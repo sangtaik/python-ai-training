{
  "nbformat": 4,
  "nbformat_minor": 0,
  "metadata": {
    "colab": {
      "name": "5-2 교차 검증과 그리드 서치.ipynb",
      "provenance": [],
      "collapsed_sections": []
    },
    "kernelspec": {
      "name": "python3",
      "display_name": "Python 3"
    },
    "language_info": {
      "name": "python"
    }
  },
  "cells": [
    {
      "cell_type": "markdown",
      "source": [
        "\"하나 하나 모델을 만들기보다, 미리 모델별로 만들어놓고,\n",
        "모델별로 비교할 수 없을까? 가장 좋은 답변을 얻는 것으로 선택하면 되지 않는가?\"\n",
        "- 주의 : 여기서 말하는 모델은 '알고리즘'이 아니라 하이퍼 파라매터이다.\n",
        "\n",
        "훈련 세트: 60%, 검증 세트: 20%, 테스트 세트: 20%\n",
        "이렇게 구성하면 모델은 테스트 세트가 없더라도 기대값을 구축할 수 있습니다.\n",
        "훈련 데이터가 아주 많다면 몇 %로도 전체 데이터를 대표할 수 있습니다."
      ],
      "metadata": {
        "id": "cphgSkkhabE8"
      }
    },
    {
      "cell_type": "code",
      "execution_count": 1,
      "metadata": {
        "colab": {
          "base_uri": "https://localhost:8080/"
        },
        "id": "DA9tfVQ5aR_S",
        "outputId": "2b95c1bd-33c7-4b22-a647-eab9862535a8"
      },
      "outputs": [
        {
          "output_type": "stream",
          "name": "stdout",
          "text": [
            "(4157, 3) (1040, 3)\n"
          ]
        }
      ],
      "source": [
        "# 검증 세트를 생성\n",
        "import pandas as pd\n",
        "wine = pd.read_csv('https://bit.ly/wine_csv_data')\n",
        "\n",
        "data = wine[['alcohol', 'sugar', 'pH']].to_numpy()\n",
        "target = wine['class'].to_numpy()\n",
        "\n",
        "# test_size로 0.2, 즉 20%를 테스트 데이터로 분류한다.\n",
        "from sklearn.model_selection import train_test_split\n",
        "train_input, test_input, train_target, test_target = train_test_split(data, target, test_size=0.2, random_state=42)\n",
        "\n",
        "# test_size로 0.2, 즉 20%를 검증 데이터로 분류한다.\n",
        "sub_input, val_input, sub_target, val_target = train_test_split(train_input, train_target, test_size=0.2, random_state=42)\n",
        "\n",
        "print(sub_input.shape, val_input.shape)"
      ]
    },
    {
      "cell_type": "code",
      "source": [
        "from sklearn.tree import DecisionTreeClassifier\n",
        "dt = DecisionTreeClassifier(random_state = 42)\n",
        "dt.fit(sub_input, sub_target)\n",
        "\n",
        "# 테스트\n",
        "print(dt.score(sub_input, sub_target))\n",
        "\n",
        "# 검증 \n",
        "print(dt.score(val_input, val_target))"
      ],
      "metadata": {
        "colab": {
          "base_uri": "https://localhost:8080/"
        },
        "id": "-Ffm-F-Bc9hJ",
        "outputId": "2bbc7def-b555-4776-a617-8b2209d762f2"
      },
      "execution_count": 3,
      "outputs": [
        {
          "output_type": "stream",
          "name": "stdout",
          "text": [
            "0.9971133028626413\n",
            "0.864423076923077\n"
          ]
        }
      ]
    },
    {
      "cell_type": "markdown",
      "source": [
        "하지만 검증 데이터가 편향되거나, 학습데이터가 줄어 문제가 될 수 있다.\n",
        "이럴 때는 3-폴드 교차 검증을 하면 보완이 된다.\n",
        "\n",
        "3/1로 데이터를 나누고, A, B, C 이렇게 3등분한 후, 목적을 변경하는 것\n",
        "\n",
        "1. A, B : 훈련, C : 검증\n",
        "2. A, C : 훈련, B : 검증\n",
        "3. B, C : 훈련, A : 검증\n",
        "\n",
        "물론 3등분이 아니라 5 등분, 10등분도 가능하며, cross_validate라는 함수를 사용한다."
      ],
      "metadata": {
        "id": "XHggUutweXjJ"
      }
    },
    {
      "cell_type": "code",
      "source": [
        "\n",
        "# cross_validae는 기본적으로 5등분을 한다.\n",
        "from sklearn.model_selection import cross_validate\n",
        "scores = cross_validate(dt, train_input, train_target)\n",
        "print(scores)"
      ],
      "metadata": {
        "colab": {
          "base_uri": "https://localhost:8080/"
        },
        "id": "yqPcN5_zdrqa",
        "outputId": "b3f0ac29-56fe-4c7a-98f8-b87f383b2293"
      },
      "execution_count": 4,
      "outputs": [
        {
          "output_type": "stream",
          "name": "stdout",
          "text": [
            "{'fit_time': array([0.03991556, 0.02719712, 0.03321028, 0.041008  , 0.03126287]), 'score_time': array([0.00125289, 0.0011301 , 0.00175476, 0.00114799, 0.00925684]), 'test_score': array([0.86923077, 0.84615385, 0.87680462, 0.84889317, 0.83541867])}\n"
          ]
        }
      ]
    },
    {
      "cell_type": "code",
      "source": [
        "import numpy as  np\n",
        "\n",
        "# 검증 폴드의 점수\n",
        "print(np.mean(scores['test_score']))"
      ],
      "metadata": {
        "colab": {
          "base_uri": "https://localhost:8080/"
        },
        "id": "i3pPG6wYfkIr",
        "outputId": "3725ab9b-7833-43ed-ecb8-8fe875952532"
      },
      "execution_count": 5,
      "outputs": [
        {
          "output_type": "stream",
          "name": "stdout",
          "text": [
            "0.855300214703487\n"
          ]
        }
      ]
    },
    {
      "cell_type": "code",
      "source": [
        "# cross_validae는 기본적으로 5등분을 한다.\n",
        "# 훈련 세트를 섞기 위해서 StratifiedKFold 를 사용한다.\n",
        "from sklearn.model_selection import cross_validate\n",
        "from sklearn.model_selection import StratifiedKFold\n",
        "\n",
        "scores = cross_validate(dt, train_input, train_target, cv = StratifiedKFold())\n",
        "print(np.mean(scores['test_score']))"
      ],
      "metadata": {
        "colab": {
          "base_uri": "https://localhost:8080/"
        },
        "id": "9GErTusBogSl",
        "outputId": "2a6d45f7-8453-40fe-c574-43f08e0c54e1"
      },
      "execution_count": 6,
      "outputs": [
        {
          "output_type": "stream",
          "name": "stdout",
          "text": [
            "0.855300214703487\n"
          ]
        }
      ]
    },
    {
      "cell_type": "code",
      "source": [
        "# cross_validae는 기본적으로 5등분을 한다.\n",
        "# 훈련 세트를 섞기 위해서 StratifiedKFold 를 사용한다.\n",
        "# 10등분을 사용하기 위해서 n_splits\n",
        "from sklearn.model_selection import cross_validate\n",
        "from sklearn.model_selection import StratifiedKFold\n",
        "\n",
        "splitter = StratifiedKFold(n_splits = 10, shuffle = True, random_state = 42)\n",
        "scores = cross_validate(dt, train_input, train_target, cv = splitter)\n",
        "print(np.mean(scores['test_score']))"
      ],
      "metadata": {
        "colab": {
          "base_uri": "https://localhost:8080/"
        },
        "id": "ojJ1whNjpkA_",
        "outputId": "4b8cf204-85ea-4219-ab13-7723f6c018d1"
      },
      "execution_count": 7,
      "outputs": [
        {
          "output_type": "stream",
          "name": "stdout",
          "text": [
            "0.8574181117533719\n"
          ]
        }
      ]
    },
    {
      "cell_type": "code",
      "source": [
        "# 하이퍼 파라미터 : 사용자가 직접 지정해야 하는 파라미터\n",
        "# 하이퍼 파라미터를 최적의 값으로 튜닝할 수 있다!\n",
        "# GridSearch 클래스를 사용하여, 하이퍼파라미터 탐색과 교차 검증을 한 번에 수행합니다.\n",
        "\n",
        "from sklearn.model_selection import GridSearchCV\n",
        "\n",
        "# 교차검증할 매개변수는 min_impurity_decrease 이며, 0.0001을 비롯하여 5건의 파라미터를 테스트\n",
        "# n_jobs : 병렬 실행에 사용할 CPU의 코어 수 , -1인 경우, 시스템의 모든 코어를 사용합니다. \n",
        "params = {'min_impurity_decrease': [0.0001, 0.0002, 0.0003, 0.0004, 0.0005]}\n",
        "gs = GridSearchCV(DecisionTreeClassifier(random_state=42), params, n_jobs = -1)\n",
        "gs.fit(train_input, train_target)"
      ],
      "metadata": {
        "colab": {
          "base_uri": "https://localhost:8080/"
        },
        "id": "NcHUOajMuld9",
        "outputId": "aa6a6707-058b-4d99-e00d-7ee7a59077cb"
      },
      "execution_count": 8,
      "outputs": [
        {
          "output_type": "execute_result",
          "data": {
            "text/plain": [
              "GridSearchCV(estimator=DecisionTreeClassifier(random_state=42), n_jobs=-1,\n",
              "             param_grid={'min_impurity_decrease': [0.0001, 0.0002, 0.0003,\n",
              "                                                   0.0004, 0.0005]})"
            ]
          },
          "metadata": {},
          "execution_count": 8
        }
      ]
    },
    {
      "cell_type": "code",
      "source": [
        "# 모르는 것 있으면 질문 많이 할 것... 여기가 가장 키 포인트네.\n",
        "# 1. 질문 1: 전체 훈련 세트를 사용한다고 했는데, 사용하는 모델이 무슨 모델 들인가요?\n",
        "# GridSearchCV(DecisionTreeClassifier()에서 Tree 구조임을 알 수 있다.\n",
        "# 책에서 말하는 모델과, 알고리즘을 혼용해서 이야기하는데, 주의할 것\n",
        "# 정확하게 말하면 1개의 알고리즘에서 여러개의 하이퍼파라미터를 테스트하면서 찾는 것이다.\n",
        "\n",
        "# 가장 좋은 훈련 점수\n",
        "dt = gs.best_estimator_\n",
        "print(dt.score(train_input, train_target))\n",
        "# print(dt.score(test_input, test_target))\n",
        "# print(dt.score(sub_input, sub_target))\n",
        "# print(dt.score(val_input, val_target))\n",
        "\n",
        "# 가장 최적의 매개변수는 min_impurity_decrease 이며, 0.0001이 가장 좋은 값이다.\n",
        "print(gs.best_params_)\n",
        "\n",
        "# 5번의 교차 검증으로 얻은 테스트 점수 출력\n",
        "print(gs.cv_results_['mean_test_score'])\n",
        "\n",
        "# argmax() 함수를 사용하면 가장 큰 값의 인덱스를 구할 수 있다.\n",
        "# 이 값이 최상의 검증 점수를 만든 매개변수 조합\n",
        "best_index = np.argmax(gs.cv_results_['mean_test_score'])\n",
        "print(gs.cv_results_['params'][best_index])"
      ],
      "metadata": {
        "colab": {
          "base_uri": "https://localhost:8080/"
        },
        "id": "mz6xx0yszG5f",
        "outputId": "41d7abe9-afca-4372-db77-9c22e8062298"
      },
      "execution_count": 12,
      "outputs": [
        {
          "output_type": "stream",
          "name": "stdout",
          "text": [
            "0.9615162593804117\n",
            "0.8653846153846154\n",
            "0.9600673562665384\n",
            "0.9673076923076923\n",
            "{'min_impurity_decrease': 0.0001}\n",
            "[0.86819297 0.86453617 0.86492226 0.86780891 0.86761605]\n",
            "{'min_impurity_decrease': 0.0001}\n"
          ]
        }
      ]
    },
    {
      "cell_type": "code",
      "source": [
        "# min_impurity_decrease : 불순도 감소 최소량 지정\n",
        "# max_depth : 트리의 깊이 제한\n",
        "# min_samples_split : 노드를 나누기 위한 최소 샘플 수\n",
        "\n",
        "params = {'min_impurity_decrease': np.arange(0.0001, 0.001, 0.0001),    # 0.0001만큼 증가하며, 0.0001 ~ 0.0009까지 (0.001은 포함안됨)\n",
        "          'max_depth': range(5, 20, 1),                                 # 5에서 20까지 1만큼 증가한 배열 (20은 제외한 정수 값)\n",
        "          'min_samples_split': range(2, 100, 10)}                       # 2에서 100까지 10만큼 증가한 배열 (100은 제외한 값)\n",
        "\n",
        "print(np.arange(0.0001, 0.001, 0.0001))\n",
        "print(list(range(5, 20, 1)))\n",
        "print(list(range(2, 100, 10)))"
      ],
      "metadata": {
        "colab": {
          "base_uri": "https://localhost:8080/"
        },
        "id": "hGcsj6_XzW2Z",
        "outputId": "be7f8a8f-57bd-4c4a-889b-dc06e0044dd9"
      },
      "execution_count": null,
      "outputs": [
        {
          "output_type": "stream",
          "name": "stdout",
          "text": [
            "[0.0001 0.0002 0.0003 0.0004 0.0005 0.0006 0.0007 0.0008 0.0009]\n",
            "[5, 6, 7, 8, 9, 10, 11, 12, 13, 14, 15, 16, 17, 18, 19]\n",
            "[2, 12, 22, 32, 42, 52, 62, 72, 82, 92]\n"
          ]
        }
      ]
    },
    {
      "cell_type": "code",
      "source": [
        "# cv값은 default로 min_impurity_decrease값마다 5건의 5-폴드 교차 검증을 한다.\n",
        "# 따라서 9 * 15 * 10 * 5 = 만들어지는 모델 수가 6750개나 된다. \n",
        "gs = GridSearchCV(DecisionTreeClassifier(random_state = 42), params, n_jobs = -1)\n",
        "gs.fit(train_input, train_target)\n"
      ],
      "metadata": {
        "colab": {
          "base_uri": "https://localhost:8080/"
        },
        "id": "EJZH9MiC-rYL",
        "outputId": "7ec4f86b-08f3-4023-9151-68fa233b1086"
      },
      "execution_count": null,
      "outputs": [
        {
          "output_type": "stream",
          "name": "stdout",
          "text": [
            "0.892053107562055\n"
          ]
        }
      ]
    },
    {
      "cell_type": "code",
      "source": [
        "# 최상의 매개변수 조합\n",
        "print(gs.best_params_)\n",
        "\n",
        "# 최상의 교차 검증 점수 확인\n",
        "print(np.max(gs.cv_results_['mean_test_score']))\n",
        "\n",
        "# 가장 좋은 훈련 점수\n",
        "dt = gs.best_estimator_\n",
        "print(dt.score(train_input, train_target))\n"
      ],
      "metadata": {
        "colab": {
          "base_uri": "https://localhost:8080/"
        },
        "id": "ZATi453EEJnN",
        "outputId": "6f225b6b-2cf9-48ff-f60e-8c1565371265"
      },
      "execution_count": null,
      "outputs": [
        {
          "output_type": "stream",
          "name": "stdout",
          "text": [
            "{'max_depth': 14, 'min_impurity_decrease': 0.0004, 'min_samples_split': 12}\n",
            "0.8683865773302731\n",
            "0.892053107562055\n"
          ]
        }
      ]
    },
    {
      "cell_type": "markdown",
      "source": [
        "랜덤 서치(Random Search) :\n",
        "    \n",
        "    매개변수 값의 목록을 전달하는 것이 아니라, 매개 변수를 샘플링할 수 잇는 확률 분포 객체를 전달합니다\n",
        "\n",
        "확률 분포(probability distribution) :\n",
        "    \n",
        "    확률 변수(random variable)가 특정한 값을 가질 확률을 나타내는 함수"
      ],
      "metadata": {
        "id": "WxEoIidlFkoN"
      }
    },
    {
      "cell_type": "code",
      "source": [
        "# 주어진 범위에서 고르게 값을 뽑으며 이것을 '균등 분포에서 샘플링한다.'라고 합니다.\n",
        "# randint는 정수값을 뽑아내고, uniform은 실수값을 뽑는다.\n",
        "from scipy.stats import uniform, randint\n",
        "\n",
        "# 10개의 정수를 샘플링한다.\n",
        "# rvs(random variable sampling)는 샘플링 횟수이다. \n",
        "rgen = randint(0, 10)   # 0, 1, 2, 3, ... , 9에서 값을 뽑아온다.\n",
        "print(rgen.rvs(10)) # 10개를 샘플링한다.\n",
        "\n",
        "# 1000개를 샘플링한다.\n",
        "np.unique(rgen.rvs(1000), return_counts=True)\n",
        "\n"
      ],
      "metadata": {
        "colab": {
          "base_uri": "https://localhost:8080/"
        },
        "id": "X4VtGONeEy7Z",
        "outputId": "2f24c5ae-d717-4804-e556-b8a603728a59"
      },
      "execution_count": null,
      "outputs": [
        {
          "output_type": "stream",
          "name": "stdout",
          "text": [
            "[6 9 4 5 9 0 4 8 9 4]\n"
          ]
        },
        {
          "output_type": "execute_result",
          "data": {
            "text/plain": [
              "(array([0, 1, 2, 3, 4, 5, 6, 7, 8, 9]),\n",
              " array([ 97, 123,  76,  91, 100,  98, 102, 109,  93, 111]))"
            ]
          },
          "metadata": {},
          "execution_count": 21
        }
      ]
    },
    {
      "cell_type": "code",
      "source": [
        "# 실수를 샘플링한다.\n",
        "# 0 ~ 1까지 10개의 샘플링을 한다.\n",
        "ugen = uniform(0, 1)\n",
        "ugen.rvs(10)"
      ],
      "metadata": {
        "colab": {
          "base_uri": "https://localhost:8080/"
        },
        "id": "QMahGIhhGtOl",
        "outputId": "0c48786d-200e-4cfb-d096-6d91910adce6"
      },
      "execution_count": null,
      "outputs": [
        {
          "output_type": "execute_result",
          "data": {
            "text/plain": [
              "array([0.15497792, 0.2094355 , 0.61495123, 0.19714651, 0.33414859,\n",
              "       0.55077452, 0.52850318, 0.0202418 , 0.23093209, 0.34048124])"
            ]
          },
          "metadata": {},
          "execution_count": 22
        }
      ]
    },
    {
      "cell_type": "code",
      "source": [
        "# min_impurity_decrease : 불순도 감소 최소량 지정\n",
        "# max_depth : 트리의 깊이 제한\n",
        "# min_samples_split : 노드를 나누기 위한 최소 샘플 수\n",
        "# min_samples_leaf : 리프노드가 되기 위한 최소 샘플의 개수, 노드가 분할할 때, 생성되는 자식의 노드 샘플 값이 이보다 작으면 분할하지 않는다.\n",
        "params = {'min_impurity_decrease': uniform(0.0001, 0.001),\n",
        "          'max_depth': randint(20, 50),\n",
        "          'min_samples_split': randint(2, 25),                      \n",
        "          'min_samples_leaf' : randint(1, 25),\n",
        "          }\n"
      ],
      "metadata": {
        "id": "jpRauA2DHsxV"
      },
      "execution_count": null,
      "outputs": []
    },
    {
      "cell_type": "code",
      "source": [
        "from sklearn.model_selection import RandomizedSearchCV\n",
        "gs = RandomizedSearchCV(DecisionTreeClassifier(random_state=42), params,\n",
        "                        n_iter=100, n_jobs=-1, random_state=42)\n",
        "gs.fit(train_input, train_target)"
      ],
      "metadata": {
        "colab": {
          "base_uri": "https://localhost:8080/"
        },
        "id": "RbAzmvlrIbqv",
        "outputId": "a94acae6-adb2-429f-83c0-c87d43661d29"
      },
      "execution_count": null,
      "outputs": [
        {
          "output_type": "execute_result",
          "data": {
            "text/plain": [
              "RandomizedSearchCV(estimator=DecisionTreeClassifier(random_state=42),\n",
              "                   n_iter=100, n_jobs=-1,\n",
              "                   param_distributions={'max_depth': <scipy.stats._distn_infrastructure.rv_frozen object at 0x7fa370dba490>,\n",
              "                                        'min_impurity_decrease': <scipy.stats._distn_infrastructure.rv_frozen object at 0x7fa370dbadd0>,\n",
              "                                        'min_samples_leaf': <scipy.stats._distn_infrastructure.rv_frozen object at 0x7fa370dba290>,\n",
              "                                        'min_samples_split': <scipy.stats._distn_infrastructure.rv_frozen object at 0x7fa370dba990>},\n",
              "                   random_state=42)"
            ]
          },
          "metadata": {},
          "execution_count": 28
        }
      ]
    },
    {
      "cell_type": "code",
      "source": [
        "# 최적의 매개변수 조합\n",
        "# {'max_depth': 39, 'min_impurity_decrease': 0.00034102546602601173, 'min_samples_leaf': 7, 'min_samples_split': 13)\n",
        "print(gs.best_params_)\n",
        "\n",
        "# 최고의 교차 검증 점수\n",
        "print(np.max(gs.cv_results_['mean_test_score']))\n",
        "\n",
        "# 최적의 하이퍼 파라매터로 테스트 세트의 성능을 확인해보자.\n",
        "dt = gs.best_estimator_\n",
        "print(dt.score(test_input, test_target))\n"
      ],
      "metadata": {
        "colab": {
          "base_uri": "https://localhost:8080/"
        },
        "id": "MaxC72XEJMV7",
        "outputId": "83f4191f-9a50-4c84-9e2c-ae545d411eb0"
      },
      "execution_count": null,
      "outputs": [
        {
          "output_type": "stream",
          "name": "stdout",
          "text": [
            "{'max_depth': 39, 'min_impurity_decrease': 0.00034102546602601173, 'min_samples_leaf': 7, 'min_samples_split': 13}\n",
            "0.8695428296438884\n",
            "0.86\n"
          ]
        }
      ]
    },
    {
      "cell_type": "code",
      "source": [
        ""
      ],
      "metadata": {
        "id": "g9yzkQszKjGp"
      },
      "execution_count": null,
      "outputs": []
    }
  ]
}