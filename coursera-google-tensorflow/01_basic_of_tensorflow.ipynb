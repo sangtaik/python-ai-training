{
 "cells": [
  {
   "cell_type": "markdown",
   "id": "5f59a57d",
   "metadata": {},
   "source": [
    "### 참조 : https://codetorial.net/tensorflow/basics_of_tensor.html"
   ]
  },
  {
   "cell_type": "markdown",
   "id": "5e7b1c66",
   "metadata": {},
   "source": [
    "#### 텐서 (Tensor)는 다차원 배열 (Multi-dimensional Array)입니다.\n",
    "#### 텐서 (Tensor)는 벡터 (Vector)와 행렬 (Matrix)을 일반화한 것이며, 3차원 이상으로 확장 가능\n",
    "#### 텐서 (Tensor)는 TensorFlow의 가장 주요한 객체이며, TensorFlow의 작업은 주로 텐서의 연산으로 이루어집니다.\n",
    "#### 즉, TensorFlow는 텐서 (Tensor)를 정의하고 연산을 수행하도록 하는 프레임워크 (Framework)입니다."
   ]
  },
  {
   "cell_type": "code",
   "execution_count": 5,
   "id": "e266666d",
   "metadata": {},
   "outputs": [
    {
     "name": "stdout",
     "output_type": "stream",
     "text": [
      "tf.Tensor(0, shape=(), dtype=int32)\n",
      "tf.Tensor(1, shape=(), dtype=int32)\n",
      "tf.Tensor(2, shape=(), dtype=int32)\n",
      "tf.Tensor(3, shape=(), dtype=int32)\n"
     ]
    }
   ],
   "source": [
    "import tensorflow as tf\n",
    "\n",
    "# 상수 선언\n",
    "scalar = tf.constant(1)\n",
    "vector = tf.constant([1, 2, 3])\n",
    "matrix = tf.constant([[1, 2, 3], [4, 5, 6], [7, 8, 9]])\n",
    "tensor = tf.constant([[[1, 2, 3], [4, 5, 6], [7, 8, 9]],\n",
    "                    [[1, 2, 3], [4, 5, 6], [7, 8, 9]],\n",
    "                    [[1, 2, 3], [4, 5, 6], [7, 8, 9]]])\n",
    "\n",
    "print(tf.rank(scalar))\n",
    "print(tf.rank(vector))\n",
    "print(tf.rank(matrix))\n",
    "print(tf.rank(tensor))"
   ]
  },
  {
   "cell_type": "code",
   "execution_count": 4,
   "id": "c70065ec",
   "metadata": {},
   "outputs": [
    {
     "name": "stdout",
     "output_type": "stream",
     "text": [
      "tf.Tensor([0.], shape=(1,), dtype=float32)\n",
      "tf.Tensor([0. 0.], shape=(2,), dtype=float32)\n",
      "tf.Tensor(\n",
      "[[0. 0. 0.]\n",
      " [0. 0. 0.]], shape=(2, 3), dtype=float32)\n"
     ]
    }
   ],
   "source": [
    "a = tf.zeros(1)\n",
    "b = tf.zeros([2])\n",
    "c = tf.zeros([2, 3])\n",
    "\n",
    "print(a)\n",
    "print(b)\n",
    "print(c)"
   ]
  },
  {
   "cell_type": "markdown",
   "id": "a3c96f33",
   "metadata": {},
   "source": [
    "텐서 (Tensor)는 NumPy 어레이와 비슷하지만,\n",
    "\n",
    "텐서는 GPU, TPU와 같은 가속기에서 사용할 수 있고,\n",
    "\n",
    "텐서는 값을 변경할 수 없습니다."
   ]
  },
  {
   "cell_type": "code",
   "execution_count": 3,
   "id": "4d11bc66",
   "metadata": {},
   "outputs": [
    {
     "name": "stdout",
     "output_type": "stream",
     "text": [
      "tf.Tensor([1 2 3], shape=(3,), dtype=int32)\n",
      "[1 2 3]\n"
     ]
    }
   ],
   "source": [
    "### 텐서를 NumPy 어레이로\n",
    "### 텐서의 numpy() 메서드를 사용해서 텐서를 NumPy 어레이로 변환할 수 있습니다.\n",
    "import tensorflow as tf\n",
    "\n",
    "a = tf.constant([1, 2, 3])\n",
    "\n",
    "print(a)\n",
    "print(a.numpy())"
   ]
  },
  {
   "cell_type": "code",
   "execution_count": null,
   "id": "fec67da6",
   "metadata": {},
   "outputs": [],
   "source": [
    "### NumPy 어레이를 텐서로\n",
    "### 반대로, 다양한 TensorFlow 연산은 자동으로 NumPy 어레이를 텐서로 변환합니다.\n",
    "import numpy as np\n",
    "\n",
    "b = np.ones(3)\n",
    "\n",
    "print(b)\n",
    "print(tf.multiply(b, 3))"
   ]
  }
 ],
 "metadata": {
  "kernelspec": {
   "display_name": "Python 3 (ipykernel)",
   "language": "python",
   "name": "python3"
  },
  "language_info": {
   "codemirror_mode": {
    "name": "ipython",
    "version": 3
   },
   "file_extension": ".py",
   "mimetype": "text/x-python",
   "name": "python",
   "nbconvert_exporter": "python",
   "pygments_lexer": "ipython3",
   "version": "3.9.7"
  }
 },
 "nbformat": 4,
 "nbformat_minor": 5
}
