{
 "cells": [
  {
   "cell_type": "markdown",
   "id": "a8c39a3b",
   "metadata": {},
   "source": [
    "#### https://codetorial.net/tensorflow/simple_neural_network.html"
   ]
  },
  {
   "cell_type": "code",
   "execution_count": 2,
   "id": "2f43ab30",
   "metadata": {},
   "outputs": [],
   "source": [
    "## 1) Neural Network 구성하기\n",
    "#  Tensorflow의 가장 간단한 Neural Network를 구현합니다.\\\n",
    "import tensorflow as tf\n",
    "from tensorflow import keras\n",
    "import numpy as np\n",
    "\n",
    "# 모델 생성\n",
    "# input_shape : 입력 노드의 개수, 양의 정수로 설정\n",
    "# units : 뉴런 또는 출력 노드의 개수를 의미하며, 양의 정수로 설정\n",
    "# units = 1이면 input 1개 -> output 1개\n",
    "# units = 2이면 input 1개 -> output 2개\n",
    "model = keras.Sequential([keras.layers.Dense(units=1, input_shape=[1])])\n",
    "\n",
    "# 모델 만들기\n",
    "model.compile(loss='mean_squared_error', optimizer='sgd')"
   ]
  },
  {
   "cell_type": "code",
   "execution_count": null,
   "id": "bd2362d5",
   "metadata": {},
   "outputs": [],
   "source": []
  }
 ],
 "metadata": {
  "kernelspec": {
   "display_name": "Python 3 (ipykernel)",
   "language": "python",
   "name": "python3"
  },
  "language_info": {
   "codemirror_mode": {
    "name": "ipython",
    "version": 3
   },
   "file_extension": ".py",
   "mimetype": "text/x-python",
   "name": "python",
   "nbconvert_exporter": "python",
   "pygments_lexer": "ipython3",
   "version": "3.9.7"
  }
 },
 "nbformat": 4,
 "nbformat_minor": 5
}
