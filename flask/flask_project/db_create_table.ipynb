{
 "cells": [
  {
   "cell_type": "code",
   "execution_count": 1,
   "id": "4032f50c",
   "metadata": {},
   "outputs": [
    {
     "ename": "ModuleNotFoundError",
     "evalue": "No module named 'pymysql'",
     "output_type": "error",
     "traceback": [
      "\u001b[1;31m---------------------------------------------------------------------------\u001b[0m",
      "\u001b[1;31mModuleNotFoundError\u001b[0m                       Traceback (most recent call last)",
      "\u001b[1;32m~\\AppData\\Local\\Temp/ipykernel_1240/340750671.py\u001b[0m in \u001b[0;36m<module>\u001b[1;34m\u001b[0m\n\u001b[0;32m      1\u001b[0m \u001b[1;31m#create table\u001b[0m\u001b[1;33m\u001b[0m\u001b[1;33m\u001b[0m\u001b[0m\n\u001b[0;32m      2\u001b[0m \u001b[1;32mfrom\u001b[0m \u001b[0mselect\u001b[0m \u001b[1;32mimport\u001b[0m \u001b[0mselect\u001b[0m\u001b[1;33m\u001b[0m\u001b[1;33m\u001b[0m\u001b[0m\n\u001b[1;32m----> 3\u001b[1;33m \u001b[1;32mimport\u001b[0m \u001b[0mpymysql\u001b[0m\u001b[1;33m\u001b[0m\u001b[1;33m\u001b[0m\u001b[0m\n\u001b[0m\u001b[0;32m      4\u001b[0m \u001b[1;33m\u001b[0m\u001b[0m\n\u001b[0;32m      5\u001b[0m db = pymysql.connect(host='localhost', user='root', db='python',\n",
      "\u001b[1;31mModuleNotFoundError\u001b[0m: No module named 'pymysql'"
     ]
    }
   ],
   "source": [
    "#!/usr/bin/env python\n",
    "# coding: utf-8\n",
    "\n",
    "# In[1]:\n",
    "\n",
    "\n",
    "#create table\n",
    "from select import select\n",
    "import pymysql\n",
    "\n",
    "db = pymysql.connect(host='localhost', user='root', db='python',\n",
    "                     password='password', charset='utf8')\n",
    "curs = db.cursor()\n",
    "\n",
    "sql = '''create table sample (\n",
    "    column01 varchar(50),\n",
    "    column02 varchar(50),\n",
    "    column03 varchar(50))\n",
    "'''\n",
    "\n",
    "curs.execute(sql)\n",
    "\n",
    "\n",
    "sql = \"select * from sample\"\n",
    "curs.execute(sql)\n",
    "\n",
    "sql = \"insert into sample (column01, column02,column03)values ('aa', 'bb', 'cc')\"\n",
    "curs.execute(sql)\n",
    "db.commit()\n",
    "\n",
    "sql = \"select * from sample\"\n",
    "curs.execute(sql)\n",
    "\n",
    "rows = curs.fetchall()\n",
    "print(rows)\n",
    "\n",
    "for row in rows:\n",
    "    print(row)\n",
    "\n",
    "db.commit()\n",
    "db.close()\n"
   ]
  },
  {
   "cell_type": "code",
   "execution_count": 2,
   "id": "12decdf9",
   "metadata": {},
   "outputs": [
    {
     "ename": "ModuleNotFoundError",
     "evalue": "No module named 'pymysql'",
     "output_type": "error",
     "traceback": [
      "\u001b[1;31m---------------------------------------------------------------------------\u001b[0m",
      "\u001b[1;31mModuleNotFoundError\u001b[0m                       Traceback (most recent call last)",
      "\u001b[1;32m~\\AppData\\Local\\Temp/ipykernel_1240/565668306.py\u001b[0m in \u001b[0;36m<module>\u001b[1;34m\u001b[0m\n\u001b[0;32m      1\u001b[0m \u001b[1;32mfrom\u001b[0m \u001b[0mselect\u001b[0m \u001b[1;32mimport\u001b[0m \u001b[0mselect\u001b[0m\u001b[1;33m\u001b[0m\u001b[1;33m\u001b[0m\u001b[0m\n\u001b[1;32m----> 2\u001b[1;33m \u001b[1;32mimport\u001b[0m \u001b[0mpymysql\u001b[0m\u001b[1;33m\u001b[0m\u001b[1;33m\u001b[0m\u001b[0m\n\u001b[0m\u001b[0;32m      3\u001b[0m \u001b[1;33m\u001b[0m\u001b[0m\n\u001b[0;32m      4\u001b[0m \u001b[1;33m\u001b[0m\u001b[0m\n\u001b[0;32m      5\u001b[0m db = pymysql.connect(host='localhost', user='root', db='python',\n",
      "\u001b[1;31mModuleNotFoundError\u001b[0m: No module named 'pymysql'"
     ]
    }
   ],
   "source": [
    "from select import select\n",
    "import pymysql\n",
    "\n",
    "\n",
    "db = pymysql.connect(host='localhost', user='root', db='python',\n",
    "                     password='password', charset='utf8')\n",
    "curs = db.cursor()\n",
    "\n",
    "sql = '''\n",
    "update sample set column01 = 'cc', column02 = 'bb'\n",
    "where column01 = 'aa';\n",
    "'''\n",
    "curs.execute(sql)\n",
    "\n",
    "rows = curs.fetchall()\n",
    "\n",
    "for row in rows:\n",
    "    print(row)\n",
    "    \n",
    "db.commit()\n",
    "db.close()"
   ]
  },
  {
   "cell_type": "code",
   "execution_count": 3,
   "id": "8564cb5f",
   "metadata": {},
   "outputs": [
    {
     "ename": "ModuleNotFoundError",
     "evalue": "No module named 'pymysql'",
     "output_type": "error",
     "traceback": [
      "\u001b[1;31m---------------------------------------------------------------------------\u001b[0m",
      "\u001b[1;31mModuleNotFoundError\u001b[0m                       Traceback (most recent call last)",
      "\u001b[1;32m~\\AppData\\Local\\Temp/ipykernel_1240/3519256394.py\u001b[0m in \u001b[0;36m<module>\u001b[1;34m\u001b[0m\n\u001b[0;32m      1\u001b[0m \u001b[1;32mfrom\u001b[0m \u001b[0mselect\u001b[0m \u001b[1;32mimport\u001b[0m \u001b[0mselect\u001b[0m\u001b[1;33m\u001b[0m\u001b[1;33m\u001b[0m\u001b[0m\n\u001b[1;32m----> 2\u001b[1;33m \u001b[1;32mimport\u001b[0m \u001b[0mpymysql\u001b[0m\u001b[1;33m\u001b[0m\u001b[1;33m\u001b[0m\u001b[0m\n\u001b[0m\u001b[0;32m      3\u001b[0m \u001b[1;33m\u001b[0m\u001b[0m\n\u001b[0;32m      4\u001b[0m \u001b[1;33m\u001b[0m\u001b[0m\n\u001b[0;32m      5\u001b[0m db = pymysql.connect(host='localhost', user='root', db='python',\n",
      "\u001b[1;31mModuleNotFoundError\u001b[0m: No module named 'pymysql'"
     ]
    }
   ],
   "source": [
    "from select import select\n",
    "import pymysql\n",
    "\n",
    "\n",
    "db = pymysql.connect(host='localhost', user='root', db='python',\n",
    "                     password='password', charset='utf8')\n",
    "curs = db.cursor()\n",
    "\n",
    "sql = '''\n",
    "delete from sample where column01 = 'cc';\n",
    "'''\n",
    "curs.execute(sql)\n",
    "\n",
    "rows = curs.fetchall()\n",
    "\n",
    "for row in rows:\n",
    "    print(row)\n",
    "    \n",
    "db.commit()\n",
    "db.close()"
   ]
  },
  {
   "cell_type": "code",
   "execution_count": 4,
   "id": "3f825800",
   "metadata": {},
   "outputs": [
    {
     "ename": "ModuleNotFoundError",
     "evalue": "No module named 'pymysql'",
     "output_type": "error",
     "traceback": [
      "\u001b[1;31m---------------------------------------------------------------------------\u001b[0m",
      "\u001b[1;31mModuleNotFoundError\u001b[0m                       Traceback (most recent call last)",
      "\u001b[1;32m~\\AppData\\Local\\Temp/ipykernel_1240/3998184416.py\u001b[0m in \u001b[0;36m<module>\u001b[1;34m\u001b[0m\n\u001b[0;32m      1\u001b[0m \u001b[1;32mfrom\u001b[0m \u001b[0mselect\u001b[0m \u001b[1;32mimport\u001b[0m \u001b[0mselect\u001b[0m\u001b[1;33m\u001b[0m\u001b[1;33m\u001b[0m\u001b[0m\n\u001b[1;32m----> 2\u001b[1;33m \u001b[1;32mimport\u001b[0m \u001b[0mpymysql\u001b[0m\u001b[1;33m\u001b[0m\u001b[1;33m\u001b[0m\u001b[0m\n\u001b[0m\u001b[0;32m      3\u001b[0m \u001b[1;33m\u001b[0m\u001b[0m\n\u001b[0;32m      4\u001b[0m \u001b[1;33m\u001b[0m\u001b[0m\n\u001b[0;32m      5\u001b[0m db = pymysql.connect(host='localhost', user='root', db='python',\n",
      "\u001b[1;31mModuleNotFoundError\u001b[0m: No module named 'pymysql'"
     ]
    }
   ],
   "source": [
    "from select import select\n",
    "import pymysql\n",
    "\n",
    "\n",
    "db = pymysql.connect(host='localhost', user='root', db='python',\n",
    "                     password='password', charset='utf8')\n",
    "curs = db.cursor()\n",
    "\n",
    "sql = '''\n",
    "delete from sample where column01 = 'cc';\n",
    "'''\n",
    "curs.execute(sql)\n",
    "\n",
    "rows = curs.fetchall()\n",
    "\n",
    "for row in rows:\n",
    "    print(row)\n",
    "    \n",
    "db.rollback()\n",
    "db.close()"
   ]
  },
  {
   "cell_type": "code",
   "execution_count": null,
   "id": "a7491f41",
   "metadata": {},
   "outputs": [],
   "source": [
    "import pymysql\n",
    "\n",
    "db = pymysql.connect(host='localhost', user='root', \n",
    "                     db='python', password='passwd', charset='utf8')\n",
    "curs = db.cursor()\n",
    "\n",
    "sql = '''\n",
    "delete from sample \n",
    "where column01 = 'cc'\n",
    "'''\n",
    "curs.execute(sql)\n",
    "\n",
    "sql = \"select * from sample\";\n",
    "curs.execute(sql)\n",
    "\n",
    "rows = curs.fetchall()\n",
    "print('rollback before \\n', rows)\n",
    "\n",
    "db.rollback()   #  작업 원 위치\n",
    "\n",
    "sql = \"select * from sample\";\n",
    "curs.execute(sql)\n",
    "\n",
    "rows = curs.fetchall()\n",
    "print('rollback  after \\n', rows)\n",
    "\n",
    "sql='''insert into sample (column01, column02, column03) \n",
    "        values ('dd' ,'bb12','cc12')\n",
    "    '''\n",
    "curs.execute(sql)\n",
    "\n",
    "sql = \"select * from sample\";\n",
    "curs.execute(sql)\n",
    "\n",
    "rows = curs.fetchall()\n",
    "print(rows)\n",
    "\n",
    "db.commit()\n",
    "db.close()"
   ]
  }
 ],
 "metadata": {
  "kernelspec": {
   "display_name": "Python 3 (ipykernel)",
   "language": "python",
   "name": "python3"
  },
  "language_info": {
   "codemirror_mode": {
    "name": "ipython",
    "version": 3
   },
   "file_extension": ".py",
   "mimetype": "text/x-python",
   "name": "python",
   "nbconvert_exporter": "python",
   "pygments_lexer": "ipython3",
   "version": "3.9.7"
  }
 },
 "nbformat": 4,
 "nbformat_minor": 5
}
