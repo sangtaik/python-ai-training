{
 "cells": [
  {
   "cell_type": "code",
   "execution_count": 1,
   "id": "4804b8f9",
   "metadata": {},
   "outputs": [],
   "source": [
    "# create table\n",
    "from select import select\n",
    "import pymysql\n",
    "\n",
    "db = pymysql.connect(host='localhost', user='root',\n",
    "                     db='python', password='passwd', charset='utf8')\n",
    "curs = db.cursor()\n",
    "\n",
    "sql = '''create table sample (\n",
    "    column01 varchar(50), \n",
    "    column02 varchar(50), \n",
    "    column03 varchar(50))\n",
    "'''\n",
    "\n",
    "curs.execute(sql)\n",
    "\n",
    "# sql = \"select * from sample\";\n",
    "# curs.execute(sql)\n",
    "\n",
    "# rows = curs.fetchall()\n",
    "# print(rows)\n",
    "\n",
    "# db.commit()\n",
    "db.close()"
   ]
  },
  {
   "cell_type": "code",
   "execution_count": 2,
   "id": "bcdd9cda",
   "metadata": {},
   "outputs": [
    {
     "name": "stdout",
     "output_type": "stream",
     "text": [
      "()\n"
     ]
    }
   ],
   "source": [
    "db = pymysql.connect(host='localhost', user='root',\n",
    "                     db='python', password='passwd', charset='utf8')\n",
    "curs = db.cursor()\n",
    "\n",
    "sql = \"select * from sample\";\n",
    "curs.execute(sql)\n",
    "\n",
    "rows = curs.fetchall()\n",
    "print(rows)\n",
    "\n",
    "db.commit()\n",
    "db.close()"
   ]
  },
  {
   "cell_type": "code",
   "execution_count": 9,
   "id": "7165efff",
   "metadata": {},
   "outputs": [
    {
     "name": "stdout",
     "output_type": "stream",
     "text": [
      "(('aa', 'bb', 'cc'), ('aa12', 'bb12', 'cc12'))\n"
     ]
    }
   ],
   "source": [
    "# insert\n",
    "import pymysql\n",
    "\n",
    "db = pymysql.connect(host='localhost', user='root', db='python', \n",
    "                     password='passwd', charset='utf8')\n",
    "curs = db.cursor()\n",
    "\n",
    "sql='''insert into sample (column01, column02, column03) \n",
    "        values ('aa12' ,'bb12','cc12')\n",
    "    '''\n",
    "\n",
    "curs.execute(sql)\n",
    "\n",
    "sql = \"select * from sample\";\n",
    "curs.execute(sql)\n",
    "\n",
    "rows = curs.fetchall()\n",
    "print(rows)\n",
    "\n",
    "db.commit()\n",
    "db.close()\n"
   ]
  },
  {
   "cell_type": "code",
   "execution_count": 12,
   "id": "d04649be",
   "metadata": {},
   "outputs": [
    {
     "name": "stdout",
     "output_type": "stream",
     "text": [
      "('aa', 'bb', 'cc')\n"
     ]
    }
   ],
   "source": [
    "# 여러개의 row 검색 : select\n",
    "db = pymysql.connect(host='localhost', user='root', db='python', \n",
    "                     password='passwd', charset='utf8')\n",
    "curs = db.cursor()\n",
    "\n",
    "# sql = \"select * from sample\";\n",
    "sql = \"select * from sample where column01 = 'aa' \";\n",
    "\n",
    "curs.execute(sql)\n",
    "\n",
    "rows = curs.fetchall()\n",
    "for row in rows:\n",
    "    print(row)\n",
    "\n",
    "db.commit()\n",
    "db.close()"
   ]
  },
  {
   "cell_type": "code",
   "execution_count": 13,
   "id": "cd9bbdad",
   "metadata": {},
   "outputs": [
    {
     "name": "stdout",
     "output_type": "stream",
     "text": [
      "(('cc', 'bb', 'cc'), ('aa12', 'bb12', 'cc12'))\n"
     ]
    }
   ],
   "source": [
    "# update\n",
    "import pymysql\n",
    "\n",
    "db = pymysql.connect(host='localhost', user='root', \n",
    "                     db='python', password='passwd', charset='utf8')\n",
    "curs = db.cursor()\n",
    "\n",
    "sql = '''\n",
    "update sample set column01 = 'cc', column02 = 'bb'\n",
    "where column01 = 'aa';\n",
    "'''\n",
    "\n",
    "curs.execute(sql)\n",
    "\n",
    "sql = \"select * from sample\";\n",
    "curs.execute(sql)\n",
    "\n",
    "rows = curs.fetchall()\n",
    "print(rows)\n",
    "\n",
    "db.commit()\n",
    "db.close()"
   ]
  },
  {
   "cell_type": "code",
   "execution_count": 16,
   "id": "169c1198",
   "metadata": {},
   "outputs": [
    {
     "name": "stdout",
     "output_type": "stream",
     "text": [
      "rollback before \n",
      " (('aa12', 'bb12', 'cc12'), ('aa', 'bb12', 'cc12'))\n",
      "rollback  after \n",
      " (('cc', 'bb', 'cc'), ('aa12', 'bb12', 'cc12'), ('aa', 'bb12', 'cc12'))\n",
      "(('cc', 'bb', 'cc'), ('aa12', 'bb12', 'cc12'), ('aa', 'bb12', 'cc12'), ('dd', 'bb12', 'cc12'))\n"
     ]
    }
   ],
   "source": [
    "# delete\n",
    "import pymysql\n",
    "\n",
    "db = pymysql.connect(host='localhost', user='root', \n",
    "                     db='python', password='passwd', charset='utf8')\n",
    "curs = db.cursor()\n",
    "\n",
    "sql = '''\n",
    "delete from sample \n",
    "where column01 = 'cc'\n",
    "'''\n",
    "curs.execute(sql)\n",
    "\n",
    "sql = \"select * from sample\";\n",
    "curs.execute(sql)\n",
    "\n",
    "rows = curs.fetchall()\n",
    "print('rollback before \\n', rows)\n",
    "\n",
    "db.rollback()   #  작업 원 위치\n",
    "\n",
    "sql = \"select * from sample\";\n",
    "curs.execute(sql)\n",
    "\n",
    "rows = curs.fetchall()\n",
    "print('rollback  after \\n', rows)\n",
    "\n",
    "sql='''insert into sample (column01, column02, column03) \n",
    "        values ('dd' ,'bb12','cc12')\n",
    "    '''\n",
    "curs.execute(sql)\n",
    "\n",
    "sql = \"select * from sample\";\n",
    "curs.execute(sql)\n",
    "\n",
    "rows = curs.fetchall()\n",
    "print(rows)\n",
    "\n",
    "db.commit()\n",
    "db.close()"
   ]
  }
 ],
 "metadata": {
  "kernelspec": {
   "display_name": "Python 3 (ipykernel)",
   "language": "python",
   "name": "python3"
  },
  "language_info": {
   "codemirror_mode": {
    "name": "ipython",
    "version": 3
   },
   "file_extension": ".py",
   "mimetype": "text/x-python",
   "name": "python",
   "nbconvert_exporter": "python",
   "pygments_lexer": "ipython3",
   "version": "3.9.7"
  }
 },
 "nbformat": 4,
 "nbformat_minor": 5
}
