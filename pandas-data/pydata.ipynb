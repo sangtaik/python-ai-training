{
 "cells": [
  {
   "cell_type": "markdown",
   "id": "3b1ad624-27a8-472a-8054-3edff2bcb6fb",
   "metadata": {},
   "source": [
    "# Heading"
   ]
  },
  {
   "cell_type": "markdown",
   "id": "8e80243d-8cae-433f-bee3-3baad8804a0f",
   "metadata": {},
   "source": [
    "## Heading 2"
   ]
  },
  {
   "cell_type": "code",
   "execution_count": 2,
   "id": "d0816d57-1a04-49ab-81fb-35a15b5fecd7",
   "metadata": {},
   "outputs": [
    {
     "ename": "SyntaxError",
     "evalue": "invalid syntax (1852450934.py, line 8)",
     "output_type": "error",
     "traceback": [
      "\u001b[1;36m  Input \u001b[1;32mIn [2]\u001b[1;36m\u001b[0m\n\u001b[1;33m    g582 = \"(MCI \\xbf\\xa1\\xb7\\xaf! \\xb9\\xae\\xc0\\xda\\xbf\\xad\\xc0\\xbb \\xc3\\xa3\\xc0\\xbb \\xbc\\xf6 \\xbe\\xf8\\xbd\\xc0\\xb4\\xcf\\xb4\\xd9)\"; // 0x47c5bc\u001b[0m\n\u001b[1;37m                                                                                                                                  ^\u001b[0m\n\u001b[1;31mSyntaxError\u001b[0m\u001b[1;31m:\u001b[0m invalid syntax\n"
     ]
    }
   ],
   "source": [
    "s = \"a\\xac\\u1234\\u20ac\\U00008000\"\n",
    "# ... #     ^^^^ two-digit hex escape\n",
    "# ... #         ^^^^^^ four-digit Unicode escape\n",
    "# ... #                     ^^^^^^^^^^ eight-digit Unicode escape\n",
    "\n",
    "[ord(c) for c in s]"
   ]
  },
  {
   "cell_type": "code",
   "execution_count": 18,
   "id": "bbdee3e8-742f-46b3-a037-2fa9874b5041",
   "metadata": {},
   "outputs": [
    {
     "data": {
      "text/plain": [
       "[191,\n",
       " 161,\n",
       " 183,\n",
       " 175,\n",
       " 185,\n",
       " 174,\n",
       " 192,\n",
       " 218,\n",
       " 191,\n",
       " 173,\n",
       " 192,\n",
       " 187,\n",
       " 195,\n",
       " 163,\n",
       " 192,\n",
       " 187,\n",
       " 188,\n",
       " 246,\n",
       " 190,\n",
       " 248,\n",
       " 189,\n",
       " 192,\n",
       " 180,\n",
       " 207,\n",
       " 180,\n",
       " 217]"
      ]
     },
     "execution_count": 18,
     "metadata": {},
     "output_type": "execute_result"
    }
   ],
   "source": [
    "g582 = \"\\xbf\\xa1\\xb7\\xaf\\xb9\\xae\\xc0\\xda\\xbf\\xad\\xc0\\xbb\\xc3\\xa3\\xc0\\xbb\\xbc\\xf6\\xbe\\xf8\\xbd\\xc0\\xb4\\xcf\\xb4\\xd9\";\n",
    "[ord(c) for c in g582]"
   ]
  },
  {
   "cell_type": "code",
   "execution_count": 15,
   "id": "1e4524dc-8333-4304-bd11-549ffa1607f5",
   "metadata": {},
   "outputs": [
    {
     "name": "stdout",
     "output_type": "stream",
     "text": [
      "(MCI 에러! 문자열을 찾을 수 없습니다)\n"
     ]
    }
   ],
   "source": [
    "# create by sangtaik 2022.03.22\n",
    "# hexa character -> cp949 string convert example\n",
    "g582 = \"(MCI \\xbf\\xa1\\xb7\\xaf! \\xb9\\xae\\xc0\\xda\\xbf\\xad\\xc0\\xbb \\xc3\\xa3\\xc0\\xbb \\xbc\\xf6 \\xbe\\xf8\\xbd\\xc0\\xb4\\xcf\\xb4\\xd9)\"\n",
    "\n",
    "fixed = g582.encode('latin1').decode('cp949')\n",
    "\n",
    "# it will be printed : (MCI 에러! 문자열을 찾을 수 없습니다)\n",
    "print(fixed)"
   ]
  },
  {
   "cell_type": "code",
   "execution_count": null,
   "id": "65fdd0dc-f679-48a3-b995-563b93a53010",
   "metadata": {},
   "outputs": [],
   "source": [
    "a"
   ]
  }
 ],
 "metadata": {
  "kernelspec": {
   "display_name": "pydata",
   "language": "python",
   "name": "pydata"
  },
  "language_info": {
   "codemirror_mode": {
    "name": "ipython",
    "version": 3
   },
   "file_extension": ".py",
   "mimetype": "text/x-python",
   "name": "python",
   "nbconvert_exporter": "python",
   "pygments_lexer": "ipython3",
   "version": "3.9.7"
  }
 },
 "nbformat": 4,
 "nbformat_minor": 5
}
