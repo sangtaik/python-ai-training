{
 "cells": [
  {
   "cell_type": "code",
   "execution_count": 1,
   "id": "a09bc6c9",
   "metadata": {},
   "outputs": [],
   "source": [
    "# 데이터 사전처리\n",
    "# 누락 데이터 처리\n",
    "# 1. 누락 데이터 확인\n",
    "import pandas as pd\n",
    "import seaborn as sns"
   ]
  },
  {
   "cell_type": "code",
   "execution_count": 2,
   "id": "7e2612d9",
   "metadata": {},
   "outputs": [
    {
     "name": "stdout",
     "output_type": "stream",
     "text": [
      "<class 'pandas.core.frame.DataFrame'>\n",
      "RangeIndex: 891 entries, 0 to 890\n",
      "Data columns (total 15 columns):\n",
      " #   Column       Non-Null Count  Dtype   \n",
      "---  ------       --------------  -----   \n",
      " 0   survived     891 non-null    int64   \n",
      " 1   pclass       891 non-null    int64   \n",
      " 2   sex          891 non-null    object  \n",
      " 3   age          714 non-null    float64 \n",
      " 4   sibsp        891 non-null    int64   \n",
      " 5   parch        891 non-null    int64   \n",
      " 6   fare         891 non-null    float64 \n",
      " 7   embarked     889 non-null    object  \n",
      " 8   class        891 non-null    category\n",
      " 9   who          891 non-null    object  \n",
      " 10  adult_male   891 non-null    bool    \n",
      " 11  deck         203 non-null    category\n",
      " 12  embark_town  889 non-null    object  \n",
      " 13  alive        891 non-null    object  \n",
      " 14  alone        891 non-null    bool    \n",
      "dtypes: bool(2), category(2), float64(2), int64(4), object(5)\n",
      "memory usage: 80.7+ KB\n"
     ]
    }
   ],
   "source": [
    "# titanic 데이터 load\n",
    "df = sns.load_dataset('titanic')\n",
    "df.info()   # 데이터프레임의 데이터의 인덱스의 갯수와 컬럼별 데이터의 갯수 및 자료 타입"
   ]
  },
  {
   "cell_type": "code",
   "execution_count": 50,
   "id": "e50ce47d",
   "metadata": {},
   "outputs": [
    {
     "name": "stdout",
     "output_type": "stream",
     "text": [
      "NaN    688\n",
      "C       59\n",
      "B       47\n",
      "D       33\n",
      "E       32\n",
      "A       15\n",
      "F       13\n",
      "G        4\n",
      "Name: deck, dtype: int64\n",
      "891\n"
     ]
    }
   ],
   "source": [
    "# deck 컬럼이 누락 데이터가 존재하는 것을 확인\n",
    "# deck 컬럼의 누락데이터가 몇개인지 확인 : value_counts(dropna=False)\n",
    "print(df.deck.value_counts(dropna=False))  # 컬럼의 유일한 값들의 갯수, Nan 688개가 존재\n",
    "print(len(df))  # 전체 행의 갯수는 : 891 개"
   ]
  },
  {
   "cell_type": "code",
   "execution_count": null,
   "id": "175164a6",
   "metadata": {},
   "outputs": [],
   "source": [
    "# 누락 데이터를 직접 찾는 방법 : .isnull(), .notnull()\n",
    "print(df.head().isnull())   # null이면 True, 아니면 False\n",
    "print(df.head().notnull())  # null이면 False,  아니면 True\n",
    "\n",
    "# 누락데이터의 갯수 확인\n",
    "print(df.head().isnull().sum(axis=0))"
   ]
  },
  {
   "cell_type": "code",
   "execution_count": 32,
   "id": "9e2ed0d6",
   "metadata": {},
   "outputs": [
    {
     "name": "stdout",
     "output_type": "stream",
     "text": [
      "survived : 0\n",
      "pclass : 0\n",
      "sex : 0\n",
      "age : 177\n",
      "sibsp : 0\n",
      "parch : 0\n",
      "fare : 0\n",
      "embarked : 2\n",
      "class : 0\n",
      "who : 0\n",
      "adult_male : 0\n",
      "deck : 688\n",
      "embark_town : 2\n",
      "alive : 0\n",
      "alone : 0\n"
     ]
    }
   ],
   "source": [
    "# isnull(),  value_counts() -> 각 열의 값에 누락변수가 몇개씩 존재하는지 확인\n",
    "miss_df = df.isnull()   # null이면 True, 아니면 False\n",
    "\n",
    "for col in miss_df.columns:\n",
    "    miss_count = miss_df[col].value_counts()  # 각 열의 Nan 갯수\n",
    "    \n",
    "    try:\n",
    "        print(\"{} : {}\".format(col, miss_count[True]))\n",
    "    except:\n",
    "        print(\"{} : {}\".format(col, 0))\n",
    "#         print(\"error : \", Exception)\n",
    "    "
   ]
  },
  {
   "cell_type": "code",
   "execution_count": 36,
   "id": "a17211ef",
   "metadata": {},
   "outputs": [
    {
     "data": {
      "text/plain": [
       "Index(['survived', 'pclass', 'sex', 'age', 'sibsp', 'parch', 'fare',\n",
       "       'embarked', 'class', 'who', 'adult_male', 'embark_town', 'alive',\n",
       "       'alone'],\n",
       "      dtype='object')"
      ]
     },
     "execution_count": 36,
     "metadata": {},
     "output_type": "execute_result"
    }
   ],
   "source": [
    "# 누락 데이터 처리 \n",
    "# Nan 데이터가 500개 이상인 컬럼을 삭제 - deck 688이므로 삭제\n",
    "df_thresh =df.dropna(axis=1, thresh=500)\n",
    "df_thresh.columns   # deck 컬럼이 삭제된 자료"
   ]
  },
  {
   "cell_type": "code",
   "execution_count": null,
   "id": "9578fb92",
   "metadata": {},
   "outputs": [],
   "source": [
    "# age 컬럼에 Nan이 있는 인덱스(행)을 제거\n",
    "df_age = df_thresh.dropna(axis=0, how='any')\n",
    "print(df_age.columns)\n",
    "print(df_age.info())"
   ]
  },
  {
   "cell_type": "code",
   "execution_count": null,
   "id": "33d5f664",
   "metadata": {},
   "outputs": [],
   "source": [
    "# 누락 데이터 치환  .fillna(값, inplace=True), fillna(method='ffill' 또는 'bfill')\n",
    "df['age'].head(10)\n",
    "\n",
    "# age 의 누락 데이터에 age의 평균값으로 치환\n",
    "df_age = df.copy()\n",
    "mean_age = df_age['age'].mean(axis=0)\n",
    "df_age['age'].fillna(mean_age, inplace=True)\n",
    "\n",
    "print(df_age['age'].head(10))\n",
    "\n",
    "# age를 가장 많은 나이로 변경\n",
    "df_age = df.copy()\n",
    "mean_age = df_age['age'].max(axis=0)\n",
    "df_age['age'].fillna(mean_age, inplace=True)\n",
    "\n",
    "print(df_age['age'].head(10))"
   ]
  },
  {
   "cell_type": "code",
   "execution_count": 47,
   "id": "a9be874a",
   "metadata": {},
   "outputs": [
    {
     "data": {
      "text/plain": [
       "825     Queenstown\n",
       "826    Southampton\n",
       "827      Cherbourg\n",
       "828     Queenstown\n",
       "829     Queenstown\n",
       "Name: embark_town, dtype: object"
      ]
     },
     "execution_count": 47,
     "metadata": {},
     "output_type": "execute_result"
    }
   ],
   "source": [
    "# embark_town : 825행부터 829 행까지 정보를 확인\n",
    "df['embark_town'][825:830]\n",
    "\n",
    "# 가장 빈번하게 나오는 값으로 대체 \n",
    "most_data = df['embark_town'].value_counts(dropna=True).idxmax() # dropna=True -> default\n",
    "\n",
    "df_embark = df.copy()\n",
    "df_embark['embark_town'].fillna(most_data, inplace=True)\n",
    "df_embark['embark_town'][825:830]\n",
    "\n",
    "# 근접한 (이웃) 값으로 대체 \n",
    "df_embark = df.copy()\n",
    "df_embark['embark_town'].fillna(method='ffill', inplace=True)\n",
    "df_embark['embark_town'][825:830]"
   ]
  },
  {
   "cell_type": "code",
   "execution_count": null,
   "id": "46de971a",
   "metadata": {},
   "outputs": [],
   "source": [
    "df = pd.DataFrame( {'c1': ['a','a','b','a','b'],\n",
    "                   'c2' : [1,1,1,2,2],\n",
    "                   'c3': [1,1,2,2,2]})\n",
    "\n",
    "print(df); print()\n",
    "\n",
    "# 중복 데이터 확인 .duplicated(), True or False 를 반환 \n",
    "print(df.duplicated())  # DataFrame의 경우 행 단위의 중복 확인\n",
    "print(df['c2'].duplicated())  # Series의 경우 컬럼의 중복 확인\n",
    "\n",
    "# 중복 행 데이터를 제거 : .drop_duplicates()\n",
    "df2 = df.drop_duplicates()\n",
    "print(df2); print()\n",
    "\n",
    "# 컬럼을 기준으로 중복 행 제거\n",
    "df3 = df.drop_duplicates(subset=['c2','c3'])\n",
    "print(df3)"
   ]
  },
  {
   "cell_type": "code",
   "execution_count": 64,
   "id": "93eb126b",
   "metadata": {},
   "outputs": [
    {
     "name": "stdout",
     "output_type": "stream",
     "text": [
      "<class 'pandas.core.frame.DataFrame'>\n",
      "RangeIndex: 891 entries, 0 to 890\n",
      "Data columns (total 15 columns):\n",
      " #   Column       Non-Null Count  Dtype   \n",
      "---  ------       --------------  -----   \n",
      " 0   survived     891 non-null    int64   \n",
      " 1   pclass       891 non-null    int64   \n",
      " 2   sex          891 non-null    object  \n",
      " 3   age          714 non-null    float64 \n",
      " 4   sibsp        891 non-null    int64   \n",
      " 5   parch        891 non-null    int64   \n",
      " 6   fare         891 non-null    float64 \n",
      " 7   embarked     889 non-null    object  \n",
      " 8   class        891 non-null    category\n",
      " 9   who          891 non-null    object  \n",
      " 10  adult_male   891 non-null    bool    \n",
      " 11  deck         203 non-null    category\n",
      " 12  embark_town  889 non-null    object  \n",
      " 13  alive        891 non-null    object  \n",
      " 14  alone        891 non-null    bool    \n",
      "dtypes: bool(2), category(2), float64(2), int64(4), object(5)\n",
      "memory usage: 80.7+ KB\n",
      "<class 'pandas.core.frame.DataFrame'>\n",
      "Int64Index: 714 entries, 0 to 890\n",
      "Data columns (total 15 columns):\n",
      " #   Column       Non-Null Count  Dtype   \n",
      "---  ------       --------------  -----   \n",
      " 0   survived     714 non-null    int64   \n",
      " 1   pclass       714 non-null    int64   \n",
      " 2   sex          714 non-null    object  \n",
      " 3   age          714 non-null    float64 \n",
      " 4   sibsp        714 non-null    int64   \n",
      " 5   parch        714 non-null    int64   \n",
      " 6   fare         714 non-null    float64 \n",
      " 7   embarked     712 non-null    object  \n",
      " 8   class        714 non-null    category\n",
      " 9   who          714 non-null    object  \n",
      " 10  adult_male   714 non-null    bool    \n",
      " 11  deck         184 non-null    category\n",
      " 12  embark_town  712 non-null    object  \n",
      " 13  alive        714 non-null    object  \n",
      " 14  alone        714 non-null    bool    \n",
      "dtypes: bool(2), category(2), float64(2), int64(4), object(5)\n",
      "memory usage: 70.2+ KB\n",
      "<class 'pandas.core.frame.DataFrame'>\n",
      "Int64Index: 88 entries, 0 to 851\n",
      "Data columns (total 15 columns):\n",
      " #   Column       Non-Null Count  Dtype   \n",
      "---  ------       --------------  -----   \n",
      " 0   survived     88 non-null     int64   \n",
      " 1   pclass       88 non-null     int64   \n",
      " 2   sex          88 non-null     object  \n",
      " 3   age          88 non-null     float64 \n",
      " 4   sibsp        88 non-null     int64   \n",
      " 5   parch        88 non-null     int64   \n",
      " 6   fare         88 non-null     float64 \n",
      " 7   embarked     88 non-null     object  \n",
      " 8   class        88 non-null     category\n",
      " 9   who          88 non-null     object  \n",
      " 10  adult_male   88 non-null     bool    \n",
      " 11  deck         29 non-null     category\n",
      " 12  embark_town  88 non-null     object  \n",
      " 13  alive        88 non-null     object  \n",
      " 14  alone        88 non-null     bool    \n",
      "dtypes: bool(2), category(2), float64(2), int64(4), object(5)\n",
      "memory usage: 9.1+ KB\n",
      "<class 'pandas.core.frame.DataFrame'>\n",
      "Int64Index: 678 entries, 0 to 890\n",
      "Data columns (total 15 columns):\n",
      " #   Column       Non-Null Count  Dtype   \n",
      "---  ------       --------------  -----   \n",
      " 0   survived     678 non-null    int64   \n",
      " 1   pclass       678 non-null    int64   \n",
      " 2   sex          678 non-null    object  \n",
      " 3   age          678 non-null    float64 \n",
      " 4   sibsp        678 non-null    int64   \n",
      " 5   parch        678 non-null    int64   \n",
      " 6   fare         678 non-null    float64 \n",
      " 7   embarked     676 non-null    object  \n",
      " 8   class        678 non-null    category\n",
      " 9   who          678 non-null    object  \n",
      " 10  adult_male   678 non-null    bool    \n",
      " 11  deck         183 non-null    category\n",
      " 12  embark_town  676 non-null    object  \n",
      " 13  alive        678 non-null    object  \n",
      " 14  alone        678 non-null    bool    \n",
      "dtypes: bool(2), category(2), float64(2), int64(4), object(5)\n",
      "memory usage: 66.7+ KB\n"
     ]
    }
   ],
   "source": [
    "# titanic 데이터를 load 해서 \n",
    "titanic = sns.load_dataset('titanic')\n",
    "titanic.info()\n",
    "# age 컬럼이 Nan이면 행을 삭제하고 age 컬럼을 기준으로 중복을 제거한 데이터프레임을 추출\n",
    "titanic = titanic.dropna(subset=['age'], how='any', axis=0, inplace=True)\n",
    "titanic.info()\n",
    "\n",
    "#age 컬럼을 기준으로 중복을 제거한 데이터프레임을 추출\n",
    "titanic_age =titanic.drop_duplicates(subset=['age'])\n",
    "titanic_age.info()\n",
    "\n",
    "# 모든 컬럼의 값이 같은 행을 제거\n",
    "titanic_dup = titanic.drop_duplicates()\n",
    "titanic_dup.info()"
   ]
  }
 ],
 "metadata": {
  "kernelspec": {
   "display_name": "Python 3 (ipykernel)",
   "language": "python",
   "name": "python3"
  },
  "language_info": {
   "codemirror_mode": {
    "name": "ipython",
    "version": 3
   },
   "file_extension": ".py",
   "mimetype": "text/x-python",
   "name": "python",
   "nbconvert_exporter": "python",
   "pygments_lexer": "ipython3",
   "version": "3.9.7"
  }
 },
 "nbformat": 4,
 "nbformat_minor": 5
}
