{
 "cells": [
  {
   "cell_type": "code",
   "execution_count": 2,
   "id": "52d1a25d",
   "metadata": {},
   "outputs": [],
   "source": [
    "import numpy as np"
   ]
  },
  {
   "cell_type": "code",
   "execution_count": 6,
   "id": "93a28652",
   "metadata": {},
   "outputs": [
    {
     "name": "stdout",
     "output_type": "stream",
     "text": [
      "[1. 2. 3.] [ 5. 10. 15.]\n",
      "<class 'numpy.ndarray'> <class 'numpy.ndarray'>\n"
     ]
    }
   ],
   "source": [
    "# 1 차원 배열 생성\n",
    "x1 = np.array([1.0, 2.0, 3.0])\n",
    "x2 = np.array([5.0, 10.0, 15.0])\n",
    "print(x1, x2)\n",
    "print(type(x1), type(x2))\n",
    "\n",
    "# list로 보이지만 실제로는 array 타입"
   ]
  },
  {
   "cell_type": "code",
   "execution_count": 7,
   "id": "aad6d1ec",
   "metadata": {},
   "outputs": [
    {
     "name": "stdout",
     "output_type": "stream",
     "text": [
      "[[1. 2.]\n",
      " [3. 4.]] [[ 5. 10.]\n",
      " [15. 20.]]\n",
      "<class 'numpy.ndarray'> <class 'numpy.ndarray'>\n"
     ]
    }
   ],
   "source": [
    "# 2차원 배열 생성\n",
    "y1 = np.array([[1.0, 2.0], [3.0, 4.0]])\n",
    "y2 = np.array([[5.0, 10.0], [15.0, 20.0]])\n",
    "\n",
    "print(y1, y2)\n",
    "print(type(y1), type(y2))"
   ]
  },
  {
   "cell_type": "code",
   "execution_count": 8,
   "id": "3272fd69",
   "metadata": {},
   "outputs": [
    {
     "name": "stdout",
     "output_type": "stream",
     "text": [
      "1.0\n",
      "1.0\n"
     ]
    }
   ],
   "source": [
    "# numpy 원소에 접근 x1[0] -> 1.0\n",
    "print(x1[0])\n",
    "print(y1[0][0])"
   ]
  },
  {
   "cell_type": "code",
   "execution_count": 11,
   "id": "b333c8c1",
   "metadata": {},
   "outputs": [
    {
     "name": "stdout",
     "output_type": "stream",
     "text": [
      "[1. 2. 3.] <class 'numpy.ndarray'>\n"
     ]
    }
   ],
   "source": [
    "# list를 numpy array type으로 변경\n",
    "a_list = [1.0, 2.0, 3.0]\n",
    "a_np = np.array(a_list)\n",
    "print(a_np, type(a_np))"
   ]
  },
  {
   "cell_type": "code",
   "execution_count": 17,
   "id": "095677d3",
   "metadata": {},
   "outputs": [
    {
     "name": "stdout",
     "output_type": "stream",
     "text": [
      "1 (15,) 15\n",
      "2 (4, 5) 20\n",
      "3 (2, 2, 5) 20 int32 4\n",
      "2 (4, 5) 20 float64 8\n"
     ]
    }
   ],
   "source": [
    "# numpy array 생성\n",
    "arr = np.arange(15)\n",
    "print(arr.ndim, arr.shape, arr.size)\n",
    "\n",
    "# 2차원 reshape를 한 경우 확인\n",
    "arr = np.arange(20).reshape(4, 5)\n",
    "print(arr.ndim, arr.shape, arr.size)\n",
    "\n",
    "# 3차원으로 reshape를 한 경우 확인\n",
    "arr = np.arange(20).reshape(2, 2, 5)\n",
    "print(arr.ndim, arr.shape, arr.size,\n",
    "      arr.dtype.name, arr.dtype.itemsize)\n",
    "\n",
    "# float형 사용\n",
    "arr = np.arange(-5, 5, 0.5).reshape(4,5)\n",
    "print(arr.ndim, arr.shape, arr.size,\n",
    "      arr.dtype.name, arr.dtype.itemsize)"
   ]
  },
  {
   "cell_type": "code",
   "execution_count": 36,
   "id": "838e88fe",
   "metadata": {},
   "outputs": [
    {
     "name": "stdout",
     "output_type": "stream",
     "text": [
      "[[5.e-324 5.e-324 5.e-324]\n",
      " [5.e-324 5.e-324 5.e-324]\n",
      " [5.e-324 5.e-324 5.e-324]\n",
      " [5.e-324 5.e-324 5.e-324]]\n",
      "[0. 0. 0. 0. 0.]\n",
      "[[0. 0. 0.]\n",
      " [0. 0. 0.]]\n",
      "[[1. 1. 1. 1.]\n",
      " [1. 1. 1. 1.]\n",
      " [1. 1. 1. 1.]] float64 float64 8\n",
      "[[1 1 1 1]\n",
      " [1 1 1 1]\n",
      " [1 1 1 1]] int32 int32 4\n",
      "[[1 1 1 1]\n",
      " [1 1 1 1]\n",
      " [1 1 1 1]] int64 int64 8\n",
      "[['1' '1' '1' '1']\n",
      " ['1' '1' '1' '1']\n",
      " ['1' '1' '1' '1']] <U4 str128 16\n"
     ]
    }
   ],
   "source": [
    "# numpy 특이한 값\n",
    "# infinity 무한대를 표현 : inf로 표시\n",
    "# not a number 정의할 수 없는 숫자 : nan으로 표시\n",
    "\n",
    "# 배열 생성 : array\n",
    "arr = np.empty((4,3)) # 4 by 3 배열 생성, -> 알 수 없는 값이 들어옴\n",
    "print(arr)\n",
    "\n",
    "# 초기값을 부여하면서 array 생성\n",
    "arr = np.zeros(5)\n",
    "print(arr)\n",
    "\n",
    "arr = np.zeros((2,3))\n",
    "print(arr)\n",
    "\n",
    "# 1로 초기화 \n",
    "arr = np.ones((3, 4))\n",
    "print(arr, arr.dtype, arr.dtype.name, arr.dtype.itemsize)\n",
    "\n",
    "# 1로 초기화하는데 int 형식으로 초기화\n",
    "arr = np.ones((3, 4), dtype='i')\n",
    "print(arr, arr.dtype, arr.dtype.name, arr.dtype.itemsize)\n",
    "\n",
    "arr = np.ones((3, 4), dtype='i8')\n",
    "print(arr, arr.dtype, arr.dtype.name, arr.dtype.itemsize)\n",
    "\n",
    "# 1로 초기화하는데 문자 형식으로 초기화\n",
    "arr = np.ones((3, 4), dtype='U4') # U4 : 문자(4byte)\n",
    "print(arr, arr.dtype, arr.dtype.name, arr.dtype.itemsize)"
   ]
  },
  {
   "cell_type": "code",
   "execution_count": 37,
   "id": "6b751fd7",
   "metadata": {},
   "outputs": [
    {
     "name": "stdout",
     "output_type": "stream",
     "text": [
      "['' '' '' '' ''] <U4 str128 16\n",
      "[1. 1. 1. 1. 1.] float32 float32 4\n"
     ]
    }
   ],
   "source": [
    "# 문자로 초기화하고\n",
    "a = np.zeros(5, dtype='U4')\n",
    "print(a, arr.dtype, arr.dtype.name, arr.dtype.itemsize)\n",
    "\n",
    "# 그것을 1로 다시 재초기화 한다.\n",
    "arr = np.ones_like(a, dtype='f')\n",
    "print(arr, arr.dtype, arr.dtype.name, arr.dtype.itemsize)"
   ]
  },
  {
   "cell_type": "code",
   "execution_count": 49,
   "id": "8aa6bbf5",
   "metadata": {},
   "outputs": [
    {
     "name": "stdout",
     "output_type": "stream",
     "text": [
      "[ 6. 12. 18.]\n",
      "\n",
      "[ -4.  -8. -12.]\n",
      "\n",
      "[ 5. 20. 45.]\n",
      "\n",
      "[0.2 0.2 0.2]\n",
      "\n",
      "[[ 6. 12.]\n",
      " [18. 24.]]\n",
      "\n",
      "[[ -4.  -8.]\n",
      " [-12. -16.]]\n",
      "\n",
      "[[ 5. 20.]\n",
      " [45. 80.]]\n",
      "\n",
      "[[0.2 0.2]\n",
      " [0.2 0.2]]\n",
      "\n",
      "[[0. 0.]\n",
      " [2. 2.]]\n",
      "\n",
      "[[2. 4.]\n",
      " [4. 6.]]\n",
      "\n",
      "[[-1. -4.]\n",
      " [-3. -8.]]\n",
      "\n",
      "[[-1. -1.]\n",
      " [-3. -2.]]\n",
      "\n",
      "[1. 2. 3. 4.]\n",
      "[[1. 2.]\n",
      " [3. 4.]]\n"
     ]
    }
   ],
   "source": [
    "# array 연산\n",
    "x1 = np.array([1.0, 2.0, 3.0])\n",
    "y1 = np.array([5.0, 10.0, 15.0])\n",
    "\n",
    "x2 = np.array([[1.0, 2.0], [3.0, 4.0]])\n",
    "y2 = np.array([[5.0, 10.0], [15.0, 20.0]])\n",
    "\n",
    "z1 = np.array([-1.0, -2.0])\n",
    "z2 = np.array([[5.0], [10.0], [15.0]])\n",
    "\n",
    "print(x1 + y1); print()\n",
    "print(x1 - y1); print()\n",
    "print(x1 * y1); print()\n",
    "print(x1 / y1); print()\n",
    "\n",
    "print(x2 + y2); print()\n",
    "print(x2 - y2); print()\n",
    "print(x2 * y2); print()\n",
    "print(x2 / y2); print()\n",
    "\n"
   ]
  },
  {
   "cell_type": "code",
   "execution_count": 52,
   "id": "a488e3e3",
   "metadata": {},
   "outputs": [
    {
     "name": "stdout",
     "output_type": "stream",
     "text": [
      "[[0. 0.]\n",
      " [2. 2.]]\n",
      "\n",
      "[[2. 4.]\n",
      " [4. 6.]]\n",
      "\n",
      "[[-1. -4.]\n",
      " [-3. -8.]]\n",
      "\n",
      "[[-1. -1.]\n",
      " [-3. -2.]]\n",
      "\n",
      "[1. 4. 9.]\n",
      "\n",
      "[False  True  True]\n",
      "\n",
      "[1. 2. 3. 4.]\n",
      "[[1. 2.]\n",
      " [3. 4.]]\n",
      "[[1. 2.]\n",
      " [3. 4.]]\n"
     ]
    }
   ],
   "source": [
    "x1 = np.array([1.0, 2.0, 3.0])\n",
    "x2 = np.array([[1.0, 2.0], [3.0, 4.0]])\n",
    "z1 = np.array([-1.0, -2.0])\n",
    "\n",
    "# 사로 행열이 맞지 않으면, broad cast가 실행된다.\n",
    "# z1은 2차원 배열이 없으나, x2 - z1이 가능하다.\n",
    "print(x2 + z1); print()\n",
    "print(x2 - z1); print()\n",
    "print(x2 * z1); print()\n",
    "print(x2 / z1); print()\n",
    "print(x1 ** 2); print()\n",
    "print(x1 >=2); print()\n",
    "\n",
    "# 배열의 형변환\n",
    "# x2는 2차원 배열이나 -> 1차원으로 줄임ㅈ\n",
    "print(x2.flatten()) # 평탄화 시킴 : 모든 차수의 배열을 1차원으로\n",
    "print(x2.reshape(2,2))\n",
    "\n",
    "# 코드 한 줄에 평탄화 후에 resape까지 완료\n",
    "print(x2.flatten().reshape(2,2))"
   ]
  },
  {
   "cell_type": "code",
   "execution_count": 61,
   "id": "db6e30f5",
   "metadata": {},
   "outputs": [
    {
     "name": "stdout",
     "output_type": "stream",
     "text": [
      "[ 0  1  4  9 16 25 36 49 64 81]\n",
      "4\n",
      "[ 9 16] None\n",
      "[81 64 49 36 25 16  9  4  1  0]\n",
      "[  0   1  -4   9 -16  25  36  49  64  81]\n"
     ]
    }
   ],
   "source": [
    "# array indexing\n",
    "# indexcing, slicing and iterating\n",
    "\n",
    "a = np.arange(10)**2 # 0  1  4  9 16 25 36 49 64 81 즉 n^2로 초기화(n=1,2,3...)\n",
    "print(a)\n",
    "\n",
    "print(a[3:5], print(a[2])) # 3, 4번째 값\n",
    "\n",
    "# reverse 나열\n",
    "print(a[::-1]) # start : end : -1 (step) 뒤에서 출력 \n",
    "a[0:6:2] = -a[0:6:2] # start : end : step\n",
    "print(a)"
   ]
  },
  {
   "cell_type": "code",
   "execution_count": 62,
   "id": "ed45365d",
   "metadata": {},
   "outputs": [
    {
     "name": "stdout",
     "output_type": "stream",
     "text": [
      "1 2 -3 10 -15 26 37 50 65 82 [[ 1  2  3  4  5]\n",
      " [ 6  7  8  9 10]\n",
      " [11 12 13 14 15]\n",
      " [16 17 18 19 20]]\n",
      "7\n",
      "[[ 1  2  3  4  5]\n",
      " [ 6  7  8  9 10]]\n"
     ]
    }
   ],
   "source": [
    "# 반복문\n",
    "for x in a:\n",
    "    print(x+1, end=' ')\n",
    "    \n",
    "a = np.arange(1, 21, 1).reshape(4, 5)\n",
    "print(a)\n",
    "print(a[1,1]) # 7\n",
    "print(a[:2,]) # [행, 열] # rows 0, 1이 출력"
   ]
  },
  {
   "cell_type": "code",
   "execution_count": 71,
   "id": "40d4e45a",
   "metadata": {},
   "outputs": [
    {
     "name": "stdout",
     "output_type": "stream",
     "text": [
      "[0 1 2 3 4 5]\n",
      "[ 0.          0.84147098  0.90929743  0.14112001 -0.7568025  -0.95892427] [ 1.          0.54030231 -0.41614684 -0.9899925  -0.65364362  0.28366219]\n",
      "[-4.60517019 -2.81341072 -2.20727491 -1.83258146 -1.56064775 -1.34707365\n",
      " -1.17118298 -1.02165125 -0.89159812 -0.77652879 -0.67334455 -0.5798185\n",
      " -0.49429632 -0.41551544 -0.34249031 -0.27443685 -0.21072103 -0.15082289\n",
      " -0.09431068 -0.04082199]\n",
      "[10  5  6]\n",
      "[4 3 4]\n"
     ]
    }
   ],
   "source": [
    "# numpy 일반 함수\n",
    "a = np.arange(0, 6, 1) # array[0,1,2,3,4,5]\n",
    "print(a)\n",
    "print(np.sin(a), np.cos(a))\n",
    "\n",
    "a = np.arange(0.01, 1, 0.05)\n",
    "print(np.log(a))\n",
    "\n",
    "a1 = np.array([10,3,4])\n",
    "a2 = np.array([4,5,6])\n",
    "\n",
    "# 값 비교\n",
    "print(np.maximum(a1, a2))\n",
    "print(np.minimum(a1, a2))"
   ]
  },
  {
   "cell_type": "code",
   "execution_count": 80,
   "id": "2ef11e8b",
   "metadata": {},
   "outputs": [
    {
     "name": "stdout",
     "output_type": "stream",
     "text": [
      "17\n",
      "15\n",
      "[61 80 53 75 92]\n",
      "[2 3 3 2 3 3 3 0 3 3]\n",
      "[[0.05371506 0.56549797 0.25444535]\n",
      " [0.31514916 0.83339475 0.13943893]]\n",
      "[[-0.74902056 -1.12389942 -1.03101393]\n",
      " [-0.48556318 -0.21998652 -0.35533328]]\n"
     ]
    }
   ],
   "source": [
    "# array의 합\n",
    "print(np.sum(a1))\n",
    "print(np.sum(a2))\n",
    "\n",
    "# 랜덤 선택\n",
    "print(np.random.choice(100, 5)) # 0에서 100사이의 수 중에서 5개의 숫자를 램덤 선택\n",
    "print(np.random.choice(5, 10, p=[0.1, 0, 0.3, 0.6, 0])) # 0에서 10사이의 수 중에서 5개의 숫자를 p확률에 따라서 선택\n",
    "print(np.random.rand(2,3))\n",
    "print(np.random.randn(2,3))"
   ]
  },
  {
   "cell_type": "code",
   "execution_count": 79,
   "id": "34188688",
   "metadata": {},
   "outputs": [
    {
     "name": "stdout",
     "output_type": "stream",
     "text": [
      "6\n",
      "1\n",
      "=== [2 0 1]\n"
     ]
    }
   ],
   "source": [
    "# \n",
    "a = np.array([6,1,3,2,4,5])\n",
    "print(a[np.argmax(a)]) # np.argmax(array) : 가장 큰 값의 인덱스 반환 : 값이 제일 큰 것은 6이고, index는 1\n",
    "print(a[np.argmin(a)]) # np.argmin(array) : 가장 작은 값의 인덱스 반환\n",
    "\n",
    "a = np.array([[0.1, 0.8, 0.2], \n",
    "              [0.3, 0.2, 0.5], \n",
    "              [0.9, 0.5, 0.3]])\n",
    "\n",
    "# index를 각각 2, 0, 1을 반환했음. \n",
    "# 0.9가 rows 2이기 때문에 인덱스 2 반환, 즉(columns 0인 값에서 가장 큰 값은 [2, 0]에 있다.) \n",
    "# 0.8이 0.2, 0.5보다 크기 때문에 인덱스 0 반환\n",
    "# 0.5가 0.2, 0.3보다 크기 때문에 인덱스 1 반환\n",
    "print(\"===\", np.argmax(a, axis=0)) "
   ]
  },
  {
   "cell_type": "code",
   "execution_count": 93,
   "id": "028248e1",
   "metadata": {},
   "outputs": [
    {
     "name": "stdout",
     "output_type": "stream",
     "text": [
      "3\n",
      "6\n",
      "9\n",
      "12\n",
      "15\n",
      "18\n",
      "\n",
      "1\n",
      "5\n",
      "9\n",
      "13\n",
      "17\n",
      "\n",
      "9\n"
     ]
    }
   ],
   "source": [
    "# 다음 행렬과 같은 배열이 있다.\n",
    "x= np.array([1,2,3,4,5,6,7,8,9,10,11,12,13,14,15,16,17,18,19,20])\n",
    "\n",
    "# 이 배열에서 3의 배수를 찾아라\n",
    "for num in x:\n",
    "    if num % 3 == 0:\n",
    "        print(num)\n",
    "        \n",
    "        \n",
    "print()\n",
    "# 이 배열에서 4로 나누면 1이 남는 수를 찾아라\n",
    "for num in x:\n",
    "    if num % 4 == 1:\n",
    "        print(num)\n",
    "\n",
    "print()\n",
    "# 이베열에서 3으로 나누면 나누어지고 4로 나누면 1이 남는 수를 찾아라\n",
    "for num in x:\n",
    "    if (num % 3 == 0) & (num % 4 == 1):\n",
    "        print(num)"
   ]
  },
  {
   "cell_type": "code",
   "execution_count": 91,
   "id": "9b913d60",
   "metadata": {},
   "outputs": [
    {
     "name": "stdout",
     "output_type": "stream",
     "text": [
      "[ 3  6  9 12 15 18]\n",
      "[ 1  5  9 13 17]\n",
      "[9]\n"
     ]
    }
   ],
   "source": [
    "# 방법 2\n",
    "arr = np.arange(1,21,1)\n",
    "print(arr[arr%3==0])\n",
    "print(arr[arr%4==1])\n",
    "print(arr[(arr%3==0) & (arr%4==1)])"
   ]
  },
  {
   "cell_type": "code",
   "execution_count": null,
   "id": "3e6c3db5",
   "metadata": {},
   "outputs": [],
   "source": []
  }
 ],
 "metadata": {
  "kernelspec": {
   "display_name": "Python 3 (ipykernel)",
   "language": "python",
   "name": "python3"
  },
  "language_info": {
   "codemirror_mode": {
    "name": "ipython",
    "version": 3
   },
   "file_extension": ".py",
   "mimetype": "text/x-python",
   "name": "python",
   "nbconvert_exporter": "python",
   "pygments_lexer": "ipython3",
   "version": "3.9.7"
  }
 },
 "nbformat": 4,
 "nbformat_minor": 5
}
