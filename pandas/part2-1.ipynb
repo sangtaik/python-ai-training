{
 "cells": [
  {
   "cell_type": "code",
   "execution_count": 1,
   "id": "c9188ac5",
   "metadata": {},
   "outputs": [],
   "source": [
    "import pandas as pd"
   ]
  },
  {
   "cell_type": "code",
   "execution_count": 4,
   "id": "562b895e",
   "metadata": {},
   "outputs": [
    {
     "data": {
      "text/plain": [
       "[   Unnamed: 0  c0  c1  c2  c3\n",
       " 0           0   0   1   4   7\n",
       " 1           1   1   2   5   8\n",
       " 2           2   2   3   6   9,\n",
       "          name  year        developer  opensource\n",
       " 0       NumPy  2006  Travis Oliphant        True\n",
       " 1  matplotlib  2003   John D. Hunter        True\n",
       " 2      pandas  2008    Wes Mckinneye        True]"
      ]
     },
     "execution_count": 4,
     "metadata": {},
     "output_type": "execute_result"
    }
   ],
   "source": [
    "tables = pd.read_html('./dataset/sample.html')\n",
    "tables"
   ]
  },
  {
   "cell_type": "code",
   "execution_count": null,
   "id": "b115ae04",
   "metadata": {},
   "outputs": [],
   "source": [
    "# table 갯수 확인\n",
    "print(len(tables))\n",
    "\n",
    "for i in range(len(tables)):\n",
    "    print(tables[i])\n",
    "    print()\n",
    "    "
   ]
  },
  {
   "cell_type": "code",
   "execution_count": null,
   "id": "b38529da",
   "metadata": {},
   "outputs": [],
   "source": [
    "df = tables[1]\n",
    "print(df) \n",
    "\n",
    "# name 컬럼을 인덱스로 설정  기존 데이터 변경\n",
    "df.set_index('name', inplace=True)\n",
    "print(df)"
   ]
  },
  {
   "cell_type": "code",
   "execution_count": 17,
   "id": "038ec5c5",
   "metadata": {},
   "outputs": [
    {
     "name": "stdout",
     "output_type": "stream",
     "text": [
      "<class 'pandas.core.frame.DataFrame'>\n",
      "Index: 3 entries, NumPy to pandas\n",
      "Data columns (total 3 columns):\n",
      " #   Column      Non-Null Count  Dtype \n",
      "---  ------      --------------  ----- \n",
      " 0   year        3 non-null      int64 \n",
      " 1   developer   3 non-null      object\n",
      " 2   opensource  3 non-null      bool  \n",
      "dtypes: bool(1), int64(1), object(1)\n",
      "memory usage: 183.0+ bytes\n"
     ]
    },
    {
     "data": {
      "text/html": [
       "<div>\n",
       "<style scoped>\n",
       "    .dataframe tbody tr th:only-of-type {\n",
       "        vertical-align: middle;\n",
       "    }\n",
       "\n",
       "    .dataframe tbody tr th {\n",
       "        vertical-align: top;\n",
       "    }\n",
       "\n",
       "    .dataframe thead th {\n",
       "        text-align: right;\n",
       "    }\n",
       "</style>\n",
       "<table border=\"1\" class=\"dataframe\">\n",
       "  <thead>\n",
       "    <tr style=\"text-align: right;\">\n",
       "      <th></th>\n",
       "      <th>year</th>\n",
       "      <th>developer</th>\n",
       "      <th>opensource</th>\n",
       "    </tr>\n",
       "    <tr>\n",
       "      <th>name</th>\n",
       "      <th></th>\n",
       "      <th></th>\n",
       "      <th></th>\n",
       "    </tr>\n",
       "  </thead>\n",
       "  <tbody>\n",
       "    <tr>\n",
       "      <th>NumPy</th>\n",
       "      <td>2006</td>\n",
       "      <td>Travis Oliphant</td>\n",
       "      <td>True</td>\n",
       "    </tr>\n",
       "    <tr>\n",
       "      <th>pandas</th>\n",
       "      <td>2008</td>\n",
       "      <td>Wes Mckinneye</td>\n",
       "      <td>True</td>\n",
       "    </tr>\n",
       "  </tbody>\n",
       "</table>\n",
       "</div>"
      ],
      "text/plain": [
       "        year        developer  opensource\n",
       "name                                     \n",
       "NumPy   2006  Travis Oliphant        True\n",
       "pandas  2008    Wes Mckinneye        True"
      ]
     },
     "execution_count": 17,
     "metadata": {},
     "output_type": "execute_result"
    }
   ],
   "source": [
    "# 'Numpy'  인덱스행의 정보만 출력\n",
    "df.loc[ 'NumPy', :]\n",
    "# year가 2006 이후인 자료만 검색\n",
    "df.info()\n",
    "df.loc[ df.year >= 2006 , :]"
   ]
  },
  {
   "cell_type": "code",
   "execution_count": 18,
   "id": "59d5e186",
   "metadata": {},
   "outputs": [],
   "source": [
    "# 데이터프레임 자료를 csv 파일로 저장 \n",
    "data = { 'name': ['Jerry', 'Riah', 'Paul'] , \n",
    "       'algol' : ['a','b', 'c'] }\n",
    "df = pd.DataFrame(data )"
   ]
  },
  {
   "cell_type": "code",
   "execution_count": 21,
   "id": "d6d562f9",
   "metadata": {},
   "outputs": [],
   "source": [
    "df.to_csv(\"./dataset/to_csv_sa\")"
   ]
  },
  {
   "cell_type": "code",
   "execution_count": 22,
   "id": "8e98e5e7",
   "metadata": {},
   "outputs": [],
   "source": [
    "# 여러 개의  파일을 엑셀로 저장\n",
    "# 판다스 DataFrame() 함수로 데이터프레임 변환. 변수 df1, df2에 저장 \n",
    "data1 = {'name' : [ 'Jerry', 'Riah', 'Paul'],\n",
    "         'algol' : [ \"A\", \"A+\", \"B\"],\n",
    "         'basic' : [ \"C\", \"B\", \"B+\"],\n",
    "          'c++' : [ \"B+\", \"C\", \"C+\"]}\n",
    "\n",
    "data2 = {'c0':[1,2,3], \n",
    "         'c1':[4,5,6], \n",
    "         'c2':[7,8,9], \n",
    "         'c3':[10,11,12], \n",
    "         'c4':[13,14,15]}"
   ]
  },
  {
   "cell_type": "code",
   "execution_count": 24,
   "id": "eded05e9",
   "metadata": {},
   "outputs": [],
   "source": [
    "df1 = pd.DataFrame(data1)\n",
    "df2 = pd.DataFrame(data2)\n",
    "\n",
    "# df1의 'name' 컬럼을 인덱스로 설정\n",
    "df1.set_index('name', inplace=True)\n",
    "# df2의 'c0' 컬럼을 인덱스로 설정\n",
    "df2.set_index('c0', inplace=True)"
   ]
  },
  {
   "cell_type": "code",
   "execution_count": 25,
   "id": "69c968d8",
   "metadata": {},
   "outputs": [],
   "source": [
    "# ExcelWriter를 사용하여 두 개의 파일을 하나의 엑셀 파일에 저장\n",
    "writer = pd.ExcelWriter(\"./dataset/two_excel.xlsx\")\n",
    "df1.to_excel(writer, sheet_name='df1')\n",
    "df2.to_excel(writer, sheet_name='df2')    \n",
    "writer.save()"
   ]
  }
 ],
 "metadata": {
  "kernelspec": {
   "display_name": "Python 3 (ipykernel)",
   "language": "python",
   "name": "python3"
  },
  "language_info": {
   "codemirror_mode": {
    "name": "ipython",
    "version": 3
   },
   "file_extension": ".py",
   "mimetype": "text/x-python",
   "name": "python",
   "nbconvert_exporter": "python",
   "pygments_lexer": "ipython3",
   "version": "3.9.7"
  }
 },
 "nbformat": 4,
 "nbformat_minor": 5
}
