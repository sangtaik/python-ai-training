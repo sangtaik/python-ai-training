{
 "cells": [
  {
   "cell_type": "code",
   "execution_count": 1,
   "id": "98c89231",
   "metadata": {},
   "outputs": [],
   "source": [
    "import numpy as np\n",
    "import cv2\n",
    "import sys"
   ]
  },
  {
   "cell_type": "code",
   "execution_count": 22,
   "id": "9da21428",
   "metadata": {},
   "outputs": [
    {
     "name": "stdout",
     "output_type": "stream",
     "text": [
      "480 640\n"
     ]
    }
   ],
   "source": [
    "src = cv2.imread('./fig/puppy.bmp')\n",
    "\n",
    "affine = np.array([[2, 1, 0],\n",
    "                    [0, 1, 0]], np.float32)\n",
    "\n",
    "# print(affine)\n",
    "# warpAffine(src, M, dsize[, dst[, flags[, borderMode[, borderValue]]]]) -> dst\n",
    "# src: 입력영상\n",
    "# M: affine transform matrix (size: 2 x 3)\n",
    "# dsize: 출력영상 크기, (0, 0) = 입력영상크기로 출력\n",
    "# borderValue: 값이 없는 영역을 채우는 값, default  = 0\n",
    "h, w = src.shape[:2]\n",
    "print(h, w)\n",
    "dst = cv2.warpAffine(src, affine, (int(2*w), h))\n",
    "\n",
    "cv2.imshow('src', src)\n",
    "cv2.imshow('dst', dst)\n",
    "\n",
    "cv2.waitKey()\n",
    "cv2.destroyAllWindows()"
   ]
  },
  {
   "cell_type": "code",
   "execution_count": 27,
   "id": "48f6bce3",
   "metadata": {},
   "outputs": [],
   "source": [
    "src = cv2.imread('./fig/rose.jpg')\n",
    "\n",
    "dst1 = cv2.resize(src, (1920, 1280), interpolation = cv2.INTER_LINEAR)\n",
    "dst2 = cv2.resize(src, (1920, 1280), interpolation = cv2.INTER_NEAREST)\n",
    "dst3 = cv2.resize(src, (1920, 1280), interpolation = cv2.INTER_CUBIC)\n",
    "\n",
    "\n",
    "\n",
    "cv2.imshow('src', src)\n",
    "cv2.imshow('Bilinear', dst1)\n",
    "cv2.imshow('Nearest', dst2)\n",
    "cv2.imshow('Cubic', dst3)\n",
    "\n",
    "\n",
    "\n",
    "cv2.waitKey()\n",
    "cv2.destroyAllWindows()"
   ]
  },
  {
   "cell_type": "code",
   "execution_count": 30,
   "id": "a38afd51",
   "metadata": {},
   "outputs": [],
   "source": [
    "## 회전변환, Rotation matrix\n",
    "src = cv2.imread('fig/puppy.bmp')\n",
    "\n",
    "# getRotationMatrix2D(center, angle, scale) -> retval\n",
    "# center: 영상의 center\n",
    "# angle: 회전각도\n",
    "# scale: 확대율\n",
    "h, w = src.shape[:2]\n",
    "\n",
    "rot_affine = cv2.getRotationMatrix2D((w//2, h//2), 30, 1)\n",
    "dst = cv2.warpAffine(src, rot_affine, (0, 0))\n",
    "\n",
    "\n",
    "cv2.imshow('src', src)\n",
    "cv2.imshow('dst', dst)\n",
    "\n",
    "cv2.waitKey()\n",
    "cv2.destroyAllWindows()\n"
   ]
  },
  {
   "cell_type": "code",
   "execution_count": null,
   "id": "f7be1bc9",
   "metadata": {},
   "outputs": [],
   "source": []
  }
 ],
 "metadata": {
  "kernelspec": {
   "display_name": "Python 3 (ipykernel)",
   "language": "python",
   "name": "python3"
  },
  "language_info": {
   "codemirror_mode": {
    "name": "ipython",
    "version": 3
   },
   "file_extension": ".py",
   "mimetype": "text/x-python",
   "name": "python",
   "nbconvert_exporter": "python",
   "pygments_lexer": "ipython3",
   "version": "3.9.7"
  }
 },
 "nbformat": 4,
 "nbformat_minor": 5
}
