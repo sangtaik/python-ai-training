{
 "cells": [
  {
   "cell_type": "code",
   "execution_count": 1,
   "id": "e3076bf4-b05d-45a4-be72-da809930e9e6",
   "metadata": {},
   "outputs": [],
   "source": [
    "# 우선 복습부터\n",
    "import cv2\n",
    "import numpy as np\n",
    "import sys"
   ]
  },
  {
   "cell_type": "code",
   "execution_count": 5,
   "id": "ccf002ed-d0eb-4bb9-a22c-b336b5f318b1",
   "metadata": {},
   "outputs": [],
   "source": [
    "src = cv2.imread('./fig/puppy.bmp')\n",
    "\n",
    "M = np.array([[1, 0, 0],\n",
    "              [0, 1, 0]], np.float32)\n",
    "\n",
    "# (0, 0)은 동영상 크기 그대로 사용한다는 의미\n",
    "dst = cv2.warpAffine(src, M, (0, 0)) \n",
    "# 비율로 확배하는 법\n",
    "dst_resize = cv2.resize(src, (0, 0), None, fx = 2, fy = 2, interpolation = cv2.INTER_NEAREST)\n",
    "\n",
    "h, w = src.shape[:2]\n",
    "cp = (w/h, h/2)\n",
    "M_rotation = cv2.getRotationMatrix2D(cp, 20, 1)\n",
    "dst_rotation = cv2.warpAffine(src, M_rotation, (0, 0))\n",
    "\n",
    "cv2.imshow('src', src)\n",
    "cv2.imshow('dst', dst)\n",
    "cv2.imshow('dst_resize', dst_resize)\n",
    "cv2.imshow('dst_rotation', dst_rotation)\n",
    "\n",
    "cv2.waitKey()\n",
    "cv2.destroyAllWindows()"
   ]
  },
  {
   "cell_type": "code",
   "execution_count": 6,
   "id": "aee16276-e8ee-4126-b037-4570476afa89",
   "metadata": {},
   "outputs": [],
   "source": [
    "import sys\n",
    "import numpy as np\n",
    "import cv2\n",
    "\n",
    "\n",
    "src = cv2.imread('fig/checkerboard.png')\n",
    "\n",
    "if src is None:\n",
    "    print('Image load failed!')\n",
    "    sys.exit()\n",
    "\n",
    "\n",
    "h, w = src.shape[:2]\n",
    "\n",
    "srcQuad = np.array([[217, 50], [691, 47], [830, 517], [67, 526]], np.float32)\n",
    "dstQuad = np.array([[0, 0], [w-1, 0], [w-1, h-1], [0, h-1]], np.float32)\n",
    "\n",
    "pers = cv2.getPerspectiveTransform(srcQuad, dstQuad)\n",
    "dst = cv2.warpPerspective(src, pers, (w, h))\n",
    "\n",
    "cv2.imshow('src', src)\n",
    "cv2.imshow('dst', dst)\n",
    "cv2.waitKey()\n",
    "cv2.destroyAllWindows()"
   ]
  },
  {
   "cell_type": "code",
   "execution_count": 13,
   "id": "bdfe3c05-842b-4a73-8a8a-c4e27f4e841a",
   "metadata": {},
   "outputs": [],
   "source": [
    "src = cv2.imread('./fig/blue_eyes.png')\n",
    "\n",
    "kernel_3 = np.ones((3, 3), np.float32)/9.\n",
    "kernel_5 = np.ones((3, 3), np.float32)/25.\n",
    "\n",
    "dst3 = cv2.filter2D(src, -1, kernel_3)\n",
    "dst5 = cv2.filter2D(src, -1, kernel_5)\n",
    "\n",
    "dst_blur = cv2.blur(src, (11, 11))\n",
    "dst_Gaussian = cv2.GaussianBlur(src, (0, 0), 1) \n",
    "dst_bilateral = cv2.bilateralFilter(src, -1, 10, 5)\n",
    "\n",
    "cv2.imshow('src', src)\n",
    "cv2.imshow('dst3', dst3)\n",
    "cv2.imshow('dst5', dst5)\n",
    "cv2.imshow('dst_blur', dst_blur)\n",
    "cv2.imshow('dst_Gaussian', dst_Gaussian)\n",
    "cv2.imshow('dst_bilateral', dst_bilateral)\n",
    "\n",
    "\n",
    "cv2.waitKey()\n",
    "cv2.destroyAllWindows()"
   ]
  },
  {
   "cell_type": "code",
   "execution_count": 17,
   "id": "00d2aa33-c5d9-4240-8f58-0026af664d9c",
   "metadata": {},
   "outputs": [],
   "source": [
    "src = cv2.imread('./fig/field.bmp')\n",
    "\n",
    "src_hsv = cv2.cvtColor(src, cv2.COLOR_BGR2HSV)\n",
    "h, s, v = cv2.split(src_hsv)\n",
    "\n",
    "v_equal = cv2.equalizeHist(v)\n",
    "v_norm = cv2.normalize(v, None, 0, 255, cv2.NORM_MINMAX)\n",
    "\n",
    "src_equal = cv2.merge((h, s, v_equal))\n",
    "src_norm = cv2.merge((h, s, v_norm))\n",
    "\n",
    "src_equal = cv2.cvtColor(src_equal, cv2.COLOR_HSV2BGR)\n",
    "src_norm = cv2.cvtColor(src_norm, cv2.COLOR_HSV2BGR)\n",
    "\n",
    "cv2.imshow('src', src)\n",
    "cv2.imshow('src_equal', src_equal)\n",
    "cv2.imshow('src_norm', src_norm)\n",
    "\n",
    "cv2.waitKey()\n",
    "cv2.destroyAllWindows()"
   ]
  },
  {
   "cell_type": "code",
   "execution_count": 20,
   "id": "56517557-5000-482b-91c9-6d9cc24ed635",
   "metadata": {},
   "outputs": [
    {
     "ename": "error",
     "evalue": "OpenCV(4.5.5) D:\\a\\opencv-python\\opencv-python\\opencv\\modules\\highgui\\src\\window.cpp:862: error: (-215:Assertion failed) trackbar in function 'cv::getTrackbarPos'\n",
     "output_type": "error",
     "traceback": [
      "\u001b[1;31m---------------------------------------------------------------------------\u001b[0m",
      "\u001b[1;31merror\u001b[0m                                     Traceback (most recent call last)",
      "Input \u001b[1;32mIn [20]\u001b[0m, in \u001b[0;36mcall_track\u001b[1;34m(pos)\u001b[0m\n\u001b[0;32m      1\u001b[0m \u001b[38;5;28;01mdef\u001b[39;00m \u001b[38;5;21mcall_track\u001b[39m(pos):\n\u001b[0;32m      2\u001b[0m     hmin \u001b[38;5;241m=\u001b[39m cv2\u001b[38;5;241m.\u001b[39mgetTrackbarPos(\u001b[38;5;124m'\u001b[39m\u001b[38;5;124mmin\u001b[39m\u001b[38;5;124m'\u001b[39m, \u001b[38;5;124m'\u001b[39m\u001b[38;5;124msrc\u001b[39m\u001b[38;5;124m'\u001b[39m)\n\u001b[1;32m----> 3\u001b[0m     hmax \u001b[38;5;241m=\u001b[39m \u001b[43mcv2\u001b[49m\u001b[38;5;241;43m.\u001b[39;49m\u001b[43mgetTrackbarPos\u001b[49m\u001b[43m(\u001b[49m\u001b[38;5;124;43m'\u001b[39;49m\u001b[38;5;124;43mmax\u001b[39;49m\u001b[38;5;124;43m'\u001b[39;49m\u001b[43m,\u001b[49m\u001b[43m \u001b[49m\u001b[38;5;124;43m'\u001b[39;49m\u001b[38;5;124;43msrc\u001b[39;49m\u001b[38;5;124;43m'\u001b[39;49m\u001b[43m)\u001b[49m\n\u001b[0;32m      4\u001b[0m     dst \u001b[38;5;241m=\u001b[39m cv2\u001b[38;5;241m.\u001b[39minRange(src_hsv, (hmin, \u001b[38;5;241m150\u001b[39m, \u001b[38;5;241m0\u001b[39m), (hmax, \u001b[38;5;241m255\u001b[39m, \u001b[38;5;241m255\u001b[39m))\n\u001b[0;32m      5\u001b[0m     cv2\u001b[38;5;241m.\u001b[39mimshow(\u001b[38;5;124m'\u001b[39m\u001b[38;5;124msrc\u001b[39m\u001b[38;5;124m'\u001b[39m, dst)\n",
      "\u001b[1;31merror\u001b[0m: OpenCV(4.5.5) D:\\a\\opencv-python\\opencv-python\\opencv\\modules\\highgui\\src\\window.cpp:862: error: (-215:Assertion failed) trackbar in function 'cv::getTrackbarPos'\n"
     ]
    }
   ],
   "source": [
    "\n",
    "def call_track(pos):\n",
    "    hmin = cv2.getTrackbarPos('min', 'src')\n",
    "    hmax = cv2.getTrackbarPos('max', 'src')\n",
    "    dst = cv2.inRange(src_hsv, (hmin, 150, 0), (hmax, 255, 255))\n",
    "    cv2.imshow('src', dst)\n",
    "\n",
    "src = cv2.imread('./fig/palette_round.jpg')\n",
    "\n",
    "src_hsv = cv2.cvtColor(src, cv2.COLOR_BGR2HSV)\n",
    "\n",
    "cv2.imshow('src', src)\n",
    "cv2.createTrackbar('min', 'src', 50, 179, call_track)\n",
    "cv2.createTrackbar('max', 'src', 80, 179, call_track)\n",
    "\n",
    "cv2.waitKey()\n",
    "cv2.destroyAllWindows()\n"
   ]
  },
  {
   "cell_type": "code",
   "execution_count": 7,
   "id": "f39c8baf-1f05-4b62-995d-6e5ba2b4dc96",
   "metadata": {},
   "outputs": [
    {
     "data": {
      "image/png": "[encoded data removed]",
      "text/plain": [
       "<Figure size 432x288 with 1 Axes>"
      ]
     },
     "metadata": {
      "needs_background": "light"
     },
     "output_type": "display_data"
    }
   ],
   "source": [
    "# 우선 복습부터\n",
    "import cv2\n",
    "import numpy as np\n",
    "import sys\n",
    "\n",
    "import matplotlib.pyplot as plt\n",
    "\n",
    "src = cv2.imread('./fig/green.png', cv2.IMREAD_REDUCED_COLOR_4)\n",
    "\n",
    "src_ycrcb = cv2.cvtColor(src, cv2.COLOR_BGR2YCrCb)\n",
    "x, y, w, h = cv2.selectROI(src)\n",
    "crop = src_ycrcb[y:y+h, x:x+w]\n",
    "channels = [1, 2]\n",
    "ranges = [0, 256, 0, 256]\n",
    "\n",
    "hist = cv2.calcHist([crop], channels, None, [256, 256], ranges)\n",
    "backproj = cv2.calcBackProject([src_ycrcb], channels, hist, ranges, 1)\n",
    "\n",
    "dst = cv2.copyTo(src, backproj)\n",
    "\n",
    "cv2.imshow('src', src)\n",
    "cv2.imshow('backproj', backproj)\n",
    "cv2.imshow('dst', dst)\n",
    "\n",
    "plt.imshow(hist)\n",
    "plt.show()\n",
    "\n",
    "cv2.waitKey()\n",
    "cv2.destroyAllWindows()\n"
   ]
  },
  {
   "cell_type": "code",
   "execution_count": 2,
   "id": "d6d69280-6364-4eb7-88c6-8cd936e76513",
   "metadata": {},
   "outputs": [],
   "source": [
    "cap = cv2.VideoCapture(0)\n",
    "\n",
    "if not cap.isOpened():\n",
    "    print('video open failed')\n",
    "    sys.exit()\n",
    "    \n",
    "w = int(cap.get(cv2.CAP_PROP_FRAME_WIDTH))\n",
    "h = int(cap.get(cv2.CAP_PROP_FRAME_HEIGHT))\n",
    "fps = int(cap.get(cv2.CAP_PROP_FPS))\n",
    "fourcc = cv2.VideoWriter_fourcc(*'DIVX')\n",
    "        \n",
    "out = cv2.VideoWriter('output.avi', fourcc, fps, (200, 100))\n",
    "\n",
    "while True:\n",
    "        ret, frame = cap.read()\n",
    "        \n",
    "        if not ret:\n",
    "            print('frame read failed')\n",
    "            break\n",
    "        \n",
    "        cv2.imshow('frame', frame)\n",
    "        \n",
    "        key = cv2.waitKey(30)\n",
    "        if key == 27 or key == ord('q'): \n",
    "            break\n",
    "        \n",
    "cap.release()\n",
    "out.release()\n",
    "cv2.destroyAllWindows()\n"
   ]
  },
  {
   "cell_type": "code",
   "execution_count": 4,
   "id": "79eadbb8-a080-4057-af9c-5bf6dc15caf7",
   "metadata": {},
   "outputs": [
    {
     "name": "stdout",
     "output_type": "stream",
     "text": [
      "402 142\n",
      "361 144\n",
      "158 328\n",
      "103 332\n",
      "104 332\n",
      "106 332\n",
      "108 332\n",
      "110 331\n",
      "112 330\n",
      "112 330\n",
      "112 330\n",
      "112 330\n",
      "112 330\n",
      "112 330\n",
      "243 178\n"
     ]
    }
   ],
   "source": [
    "def call_mouse(event, x, y, flags, param):\n",
    "    global oldx, oldy\n",
    "    if event == cv2.EVENT_LBUTTONDOWN:\n",
    "        oldx, oldy = x, y\n",
    "        print(x, y)\n",
    "\n",
    "cap = cv2.VideoCapture(0)\n",
    "\n",
    "if not cap.isOpened():\n",
    "    print('video open failed')\n",
    "    sys.exit()\n",
    "    \n",
    "w = int(cap.get(cv2.CAP_PROP_FRAME_WIDTH))\n",
    "h = int(cap.get(cv2.CAP_PROP_FRAME_HEIGHT))\n",
    "fps = int(cap.get(cv2.CAP_PROP_FPS))\n",
    "fourcc = cv2.VideoWriter_fourcc(*'DIVX')\n",
    "        \n",
    "out = cv2.VideoWriter('output.avi', fourcc, fps, (200, 100))\n",
    "\n",
    "\n",
    "\n",
    "while True:\n",
    "        ret, frame = cap.read()\n",
    "        \n",
    "        if not ret:\n",
    "            print('frame read failed')\n",
    "            break\n",
    "        \n",
    "        cv2.imshow('frame', frame)\n",
    "        cv2.setMouseCallback('frame', call_mouse, frame)\n",
    "        \n",
    "        key = cv2.waitKey(30)\n",
    "        if key == 27 or key == ord('q'): \n",
    "            break\n",
    "        \n",
    "cap.release()\n",
    "out.release()\n",
    "cv2.destroyAllWindows()\n"
   ]
  },
  {
   "cell_type": "code",
   "execution_count": null,
   "id": "a6d4f665-dea8-412a-9eeb-a8f24c87e339",
   "metadata": {},
   "outputs": [],
   "source": []
  }
 ],
 "metadata": {
  "kernelspec": {
   "display_name": "Python 3 (ipykernel)",
   "language": "python",
   "name": "python3"
  },
  "language_info": {
   "codemirror_mode": {
    "name": "ipython",
    "version": 3
   },
   "file_extension": ".py",
   "mimetype": "text/x-python",
   "name": "python",
   "nbconvert_exporter": "python",
   "pygments_lexer": "ipython3",
   "version": "3.9.7"
  }
 },
 "nbformat": 4,
 "nbformat_minor": 5
}
