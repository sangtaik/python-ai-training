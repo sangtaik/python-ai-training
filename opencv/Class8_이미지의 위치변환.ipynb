{
 "cells": [
  {
   "cell_type": "code",
   "execution_count": 1,
   "id": "2311d7ec",
   "metadata": {},
   "outputs": [
    {
     "name": "stdout",
     "output_type": "stream",
     "text": [
      "[0 1 2 3 4 5 6 7]\n"
     ]
    }
   ],
   "source": [
    "import numpy as np\n",
    "\n",
    "x = np.arange(8)\n",
    "print(x)"
   ]
  },
  {
   "cell_type": "code",
   "execution_count": 3,
   "id": "b2d7811e",
   "metadata": {},
   "outputs": [
    {
     "name": "stdout",
     "output_type": "stream",
     "text": [
      "[ 0.   1.5  3.   4.5  6.   7.5  9.  10.5]\n"
     ]
    }
   ],
   "source": [
    "# 곱하면 값이 손실된다.(8개 -> 5개)\n",
    "tx = x*1.5\n",
    "print(tx)"
   ]
  },
  {
   "cell_type": "code",
   "execution_count": 4,
   "id": "44029634",
   "metadata": {},
   "outputs": [
    {
     "name": "stdout",
     "output_type": "stream",
     "text": [
      "[ 0  1  2  3  4  5  6  7  8  9 10 11 12 13 14 15]\n"
     ]
    }
   ],
   "source": [
    "# 나누면 값이 손실되지 않는다.(16개 -> 16개)\n",
    "x1 = np.arange(16)\n",
    "print(x1)"
   ]
  },
  {
   "cell_type": "code",
   "execution_count": 5,
   "id": "69b9a7ad",
   "metadata": {},
   "outputs": [
    {
     "name": "stdout",
     "output_type": "stream",
     "text": [
      "[ 0.          0.66666667  1.33333333  2.          2.66666667  3.33333333\n",
      "  4.          4.66666667  5.33333333  6.          6.66666667  7.33333333\n",
      "  8.          8.66666667  9.33333333 10.        ]\n"
     ]
    }
   ],
   "source": [
    "tx1 = x1/1.5\n",
    "print(tx1)"
   ]
  },
  {
   "cell_type": "code",
   "execution_count": null,
   "id": "980395bb",
   "metadata": {},
   "outputs": [],
   "source": [
    "# 따라서 큰 화면을 준비하고, 축소하는게 더 좋다. "
   ]
  }
 ],
 "metadata": {
  "kernelspec": {
   "display_name": "Python 3 (ipykernel)",
   "language": "python",
   "name": "python3"
  },
  "language_info": {
   "codemirror_mode": {
    "name": "ipython",
    "version": 3
   },
   "file_extension": ".py",
   "mimetype": "text/x-python",
   "name": "python",
   "nbconvert_exporter": "python",
   "pygments_lexer": "ipython3",
   "version": "3.9.7"
  }
 },
 "nbformat": 4,
 "nbformat_minor": 5
}
