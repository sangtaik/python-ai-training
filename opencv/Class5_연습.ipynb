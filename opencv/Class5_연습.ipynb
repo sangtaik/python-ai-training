{
 "cells": [
  {
   "cell_type": "code",
   "execution_count": 1,
   "id": "ccdb48ed",
   "metadata": {},
   "outputs": [],
   "source": [
    "import numpy as np\n",
    "import cv2\n",
    "import sys \n",
    "\n",
    "import matplotlib.pyplot as plt\n",
    "import os"
   ]
  },
  {
   "cell_type": "code",
   "execution_count": null,
   "id": "3192817a",
   "metadata": {},
   "outputs": [],
   "source": [
    "img = cv2.imread('./fig/PD_MRI.jpeg')\n",
    "\n",
    "print(img.shape)\n",
    "\n",
    "if img is None:\n",
    "    print('image read failed')\n",
    "    sys.exit()\n",
    "    \n",
    "cv2.namedWindow('image', cv2.WINDOW_AUTOSIZE)\n",
    "cv2.imshow('image', img)\n",
    "\n",
    "while True:\n",
    "    key = cv2.waitKey()\n",
    "    \n",
    "    if key == 27 or key == ord('q'):\n",
    "        break\n",
    "        \n",
    "cv2.destroyAllWindows()"
   ]
  },
  {
   "cell_type": "code",
   "execution_count": null,
   "id": "b31eb3df",
   "metadata": {},
   "outputs": [],
   "source": [
    "img_lists = os.listdir('./fig/images/')\n",
    "#print(img_list)\n",
    "\n",
    "img_path = []\n",
    "for i in img_lists:\n",
    "    img_name = './fig/images/' + i\n",
    "    img_path.append(img_name)\n",
    "    \n",
    "cv2.namedWindow('scene', cv2.WINDOW_NORMAL)\n",
    "cv2.setWindowProperty('scene', cv2.WND_PROP_FULLSCREEN,\n",
    "                      cv2.WINDOW_FULLSCREEN)\n",
    "idx = 0\n",
    "while True:\n",
    "    img = cv2.imread(img_path[idx])\n",
    "    if img is None:\n",
    "        print('image read failed')\n",
    "        break\n",
    "    cv2.imshow('scene', img)\n",
    "    \n",
    "    if cv2.waitKey(3000) == 27:\n",
    "        break\n",
    "    idx += 1\n",
    "    \n",
    "    if idx >= len(img_path):\n",
    "        idx = 0\n",
    "\n",
    "cv2.destroyAllWindows()"
   ]
  },
  {
   "cell_type": "code",
   "execution_count": null,
   "id": "003b4a90",
   "metadata": {},
   "outputs": [],
   "source": []
  },
  {
   "cell_type": "code",
   "execution_count": null,
   "id": "553331f5",
   "metadata": {},
   "outputs": [],
   "source": [
    "\n",
    "def mouse_call(event, x, y, flags, param):\n",
    "    global oldx, oldy\n",
    "    \n",
    "    if event == cv2.EVENT_LBUTTONDOWN:\n",
    "        oldx, oldy = x, y\n",
    "        #print('left button down = {}, {}'.format(x, y))\n",
    "        \n",
    "    elif event == cv2.EVENT_MOUSEMOVE:\n",
    "        if flags & cv2.EVENT_FLAG_LBUTTON: # 버튼을 누르면 동작. &는 ==랑 같은 의미로 쓰임\n",
    "            #print('Mouse moved = {}, {}'.format(x, y))\n",
    "            cv2.line(img, (oldx, oldy), (x, y), (0, 0, 0), 4, cv2.LINE_AA)\n",
    "            cv2.imshow('img', img)\n",
    "            oldx, oldy = x, y\n",
    "        \n",
    "img = np.ones((600, 800, 3), np.uint8)*255\n",
    "\n",
    "cv2.namedWindow('img')\n",
    "# setMouseCallback(windowName, onMouse [, param]) -> None\n",
    "    # windowName = 마우스 이벤트를 수행할 창 이름\n",
    "    # onMouse : callback 함수 이름\n",
    "    # param : 콜백 함수에 전달할 데이터\n",
    "cv2.setMouseCallback('img', mouse_call, img)\n",
    "\n",
    "while True:\n",
    "    key = cv2.waitKey()\n",
    "    if key == 27:\n",
    "        break\n",
    "    elif key == ord('s'):\n",
    "        cv2.imwrite('./fig/sign_output.png', img)\n",
    "\n",
    "cv2.destroyAllWindows()"
   ]
  },
  {
   "cell_type": "code",
   "execution_count": 20,
   "id": "12c5e88b",
   "metadata": {},
   "outputs": [],
   "source": [
    "# 트랙바 사용 : 알파 채널 사용\n",
    "\n",
    "def call_track(pos):\n",
    "    img = img1*pos\n",
    "    cv2.imshow('image', img)\n",
    "\n",
    "img_alpha = cv2.imread('./fig/imgbin_sunglasses_1.png', cv2.IMREAD_UNCHANGED)\n",
    "img = img_alpha[:,:,-1]\n",
    "img[img>0] = 1\n",
    "img1 = img.copy()\n",
    "\n",
    "cv2.namedWindow('image')\n",
    "cv2.createTrackbar('level', 'image', 0, 255, call_track)\n",
    "\n",
    "cv2.imshow('image', img)\n",
    "\n",
    "cv2.waitKey()\n",
    "cv2.destroyAllWindows()"
   ]
  },
  {
   "cell_type": "code",
   "execution_count": null,
   "id": "6f054fe7",
   "metadata": {},
   "outputs": [],
   "source": []
  }
 ],
 "metadata": {
  "kernelspec": {
   "display_name": "Python 3 (ipykernel)",
   "language": "python",
   "name": "python3"
  },
  "language_info": {
   "codemirror_mode": {
    "name": "ipython",
    "version": 3
   },
   "file_extension": ".py",
   "mimetype": "text/x-python",
   "name": "python",
   "nbconvert_exporter": "python",
   "pygments_lexer": "ipython3",
   "version": "3.9.7"
  }
 },
 "nbformat": 4,
 "nbformat_minor": 5
}
