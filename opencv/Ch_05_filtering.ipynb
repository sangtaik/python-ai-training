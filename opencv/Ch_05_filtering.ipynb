{
 "cells": [
  {
   "cell_type": "code",
   "execution_count": 1,
   "id": "1691997b",
   "metadata": {},
   "outputs": [],
   "source": [
    "import numpy as np\n",
    "import sys\n",
    "import cv2"
   ]
  },
  {
   "cell_type": "markdown",
   "id": "ba13d84e",
   "metadata": {},
   "source": [
    "## 평균값 filter (mean filter)"
   ]
  },
  {
   "cell_type": "code",
   "execution_count": null,
   "id": "5d840a67",
   "metadata": {},
   "outputs": [],
   "source": [
    "# cv2.filter2D(src, ddepth, kernel[, dst[, anchor[, delta[, borderType]]]]) -> dst\n",
    "# src: 입력영상\n",
    "# ddepth: 출력영상의 타입 (cv2.CV_8U, cv2.CV_32F, cv2.CV_64F), \n",
    "#     -1 => 입력영상과 같은 타입\n",
    "# kernel: filter 행렬, 실수형\n",
    "# anchor: (-1, -1)  필터의 중앙점\n",
    "# delta:   더할 값\n",
    "# borderType: 가장자리 픽셀확장 방식\n",
    "# dst: 출력영상\n",
    "\n",
    "# blur(src, ksize[, dst[, anchor[, borderType]]]) -> dst\n",
    "# src: 입력영상\n",
    "# ksize: mean filter kernel size"
   ]
  },
  {
   "cell_type": "code",
   "execution_count": 8,
   "id": "bc70a892",
   "metadata": {},
   "outputs": [],
   "source": [
    "import sys\n",
    "import numpy as np\n",
    "import cv2\n",
    "\n",
    "\n",
    "src = cv2.imread('fig/blue_eyes.png', 1)\n",
    "\n",
    "if src is None:\n",
    "    print('Image load failed!')\n",
    "    sys.exit()\n",
    "\n",
    "# kernel_3 = np.ones((3, 3), dtype=np.float64) / 9.\n",
    "# kernel_5 = np.ones((5, 5), dtype=np.float64) / 25.\n",
    "\n",
    "# dst = cv2.filter2D(src, -1, kernel_3)\n",
    "# dst = cv2.blur(src, (3, 3))\n",
    "\n",
    "\n",
    "cv2.imshow('src', src)\n",
    "\n",
    "for ksize in (3, 5, 7, 9):\n",
    "    dst = cv2.blur(src, (ksize, ksize))\n",
    "        \n",
    "    text = '{} x {}'. format(ksize, ksize)\n",
    "    cv2.putText(dst, text, (10, 30), cv2.FONT_HERSHEY_SIMPLEX,\n",
    "               1, 0, 2, cv2.LINE_AA)\n",
    "    \n",
    "    cv2.imshow('dst', dst)\n",
    "    cv2.waitKey()\n",
    "\n",
    "\n",
    "# cv2.imshow('dst', dst)\n",
    "# cv2.waitKey()\n",
    "\n",
    "cv2.destroyAllWindows()"
   ]
  },
  {
   "cell_type": "markdown",
   "id": "003f146f",
   "metadata": {},
   "source": [
    " ##  가우시안 (Gaussian) 필터 "
   ]
  },
  {
   "cell_type": "code",
   "execution_count": null,
   "id": "bcb9db28",
   "metadata": {},
   "outputs": [],
   "source": [
    "# GaussianBlur(src, ksize, sigmaX[, dst[, sigmaY[, borderType]]]) -> dst\n",
    "# src: 입력영상\n",
    "# ksize: mean filter kernel size, (0, 0) 자동으로 결정\n",
    "# sigmaX:  gaussian x 방향의 sigma\n",
    "# sigmaY:  gaussian y 방향의 sigma"
   ]
  },
  {
   "cell_type": "code",
   "execution_count": 3,
   "id": "5a685ea1",
   "metadata": {},
   "outputs": [],
   "source": [
    "import sys\n",
    "import numpy as np\n",
    "import cv2\n",
    "\n",
    "\n",
    "src = cv2.imread('fig/blue_eyes.png', cv2.IMREAD_GRAYSCALE)\n",
    "\n",
    "dst_gaussian = cv2.GaussianBlur(src, (0, 0), 1)\n",
    "dst_mean = cv2.blur(src, (7, 7))\n",
    "\n",
    "cv2.imshow('src', src)\n",
    "cv2.imshow('dst_gaussian', dst_gaussian)\n",
    "cv2.imshow('dst_mean', dst_mean)\n",
    "cv2.waitKey()\n",
    "\n",
    "cv2.destroyAllWindows()"
   ]
  },
  {
   "cell_type": "markdown",
   "id": "7097e687",
   "metadata": {},
   "source": [
    "## Sharpening"
   ]
  },
  {
   "cell_type": "code",
   "execution_count": 6,
   "id": "984065dc",
   "metadata": {},
   "outputs": [],
   "source": [
    "import sys\n",
    "import numpy as np\n",
    "import cv2\n",
    "\n",
    "src = cv2.imread('fig/blue_eyes.png', cv2.IMREAD_GRAYSCALE)\n",
    "\n",
    "if src is None:\n",
    "    print('Image read failed!')\n",
    "    sys.exit()\n",
    "\n",
    "blr = cv2.GaussianBlur(src, (0, 0), 2)\n",
    "dst = cv2.addWeighted(src, 2, blr, -1, 0)\n",
    "# dst = np.clip(2.0*src - blr, 0, 255).astype(np.uint8)\n",
    "\n",
    "\n",
    "cv2.imshow('src', src)\n",
    "cv2.imshow('dst', dst)\n",
    "cv2.waitKey()\n",
    "\n",
    "cv2.destroyAllWindows()\n",
    "\n",
    "######### Color 영상\n",
    "src = cv2.imread('fig/blue_eyes.png')\n",
    "\n",
    "if src is None:\n",
    "    print('Image read failed!')\n",
    "    sys.exit()\n",
    "\n",
    "src_ycrcb = cv2.cvtColor(src, cv2.COLOR_BGR2YCrCb)\n",
    "\n",
    "##  소숫점 연산\n",
    "src_f = src_ycrcb[:, :, 0].astype(np.float32)\n",
    "blr = cv2.GaussianBlur(src_f, (0, 0), 2.0)\n",
    "\n",
    "src_ycrcb[:, :, 0] = np.clip(2. * src_f - blr, 0, 255).astype(np.uint8)\n",
    "\n",
    "dst = cv2.cvtColor(src_ycrcb, cv2.COLOR_YCrCb2BGR)\n",
    "\n",
    "cv2.imshow('src', src)\n",
    "cv2.imshow('dst', dst)\n",
    "cv2.waitKey()\n",
    "\n",
    "cv2.destroyAllWindows()\n"
   ]
  },
  {
   "cell_type": "markdown",
   "id": "26a9c5bc",
   "metadata": {},
   "source": [
    "## 잡음제거 필터 (Median filter)"
   ]
  },
  {
   "cell_type": "code",
   "execution_count": null,
   "id": "79d15f31",
   "metadata": {},
   "outputs": [],
   "source": [
    "## medianBlur(src, ksize[, dst]) -> dst\n",
    "# src: 입력영상\n",
    "# ksize: median filter kernel size\n",
    "\n",
    "## \n",
    "# np.random.choice(a, size=None, replace=True, p=None)\n",
    "# a: 샘플링 할 값 집합\n",
    "# size: 샘플링 사이즈\n",
    "# replace: 복원추출 유무\n",
    "# p: 각 값들의 추출 확률"
   ]
  },
  {
   "cell_type": "code",
   "execution_count": 10,
   "id": "0178443c",
   "metadata": {},
   "outputs": [
    {
     "name": "stdout",
     "output_type": "stream",
     "text": [
      "(553, 840)\n",
      "int32\n",
      "(553, 840)\n",
      "<class 'numpy.ndarray'>\n",
      "uint8\n"
     ]
    }
   ],
   "source": [
    "import sys\n",
    "import numpy as np\n",
    "import cv2\n",
    "\n",
    "src = cv2.imread('fig/blue_eyes.png', cv2.IMREAD_GRAYSCALE)\n",
    "print(src.shape)\n",
    "\n",
    "if src is None:\n",
    "    print('Image load failed!')\n",
    "    sys.exit()\n",
    "\n",
    "Salt_pepper_noise_1 = np.random.choice((0, 255), src.shape, p = (0.99, 0.01))\n",
    "Salt_pepper_noise_2 = np.random.choice((0, 255), src.shape, p = (0.99, 0.01))\n",
    "# print(type(Salt_pepper_noise_1))\n",
    "print(Salt_pepper_noise_1.dtype) # int32\n",
    "\n",
    "\n",
    "src_noise = src + Salt_pepper_noise_1 - Salt_pepper_noise_2\n",
    "src_noise = np.clip(src_noise, 0, 255).astype(np.uint8)\n",
    "\n",
    "print(src_noise.shape)\n",
    "print(type(src_noise))\n",
    "print(src_noise.dtype)\n",
    "\n",
    "dst = cv2.medianBlur(src_noise, 3)\n",
    "\n",
    "cv2.imshow('src', src)\n",
    "cv2.imshow('src_noise', src_noise)\n",
    "cv2.imshow('dst', dst)\n",
    "\n",
    "\n",
    "cv2.waitKey()\n",
    "\n",
    "cv2.destroyAllWindows()\n"
   ]
  },
  {
   "cell_type": "markdown",
   "id": "ec393c59",
   "metadata": {},
   "source": [
    "## 양방향 필터"
   ]
  },
  {
   "cell_type": "code",
   "execution_count": null,
   "id": "39d1e4b8",
   "metadata": {},
   "outputs": [],
   "source": [
    "# bilateralFilter(src, d, sigmaColor, sigmaSpace[, dst[, borderType]]) -> dst\n",
    "# src: 입력영상\n",
    "# d: -1로 설정\n",
    "# sigmaColor: 색공간의 표준편차\n",
    "# sigmaSpace: 좌표공간의표준편차\n",
    "# dst:\n",
    "# borderType: 가장자리 픽셀확장 방식"
   ]
  },
  {
   "cell_type": "code",
   "execution_count": 11,
   "id": "3bf85f67",
   "metadata": {
    "scrolled": true
   },
   "outputs": [
    {
     "ename": "TypeError",
     "evalue": "ord() expected a character, but string of length 0 found",
     "output_type": "error",
     "traceback": [
      "\u001b[1;31m---------------------------------------------------------------------------\u001b[0m",
      "\u001b[1;31mTypeError\u001b[0m                                 Traceback (most recent call last)",
      "\u001b[1;32m<ipython-input-11-05ed536957b1>\u001b[0m in \u001b[0;36m<module>\u001b[1;34m\u001b[0m\n\u001b[0;32m     17\u001b[0m \u001b[1;33m\u001b[0m\u001b[0m\n\u001b[0;32m     18\u001b[0m \u001b[1;32mwhile\u001b[0m \u001b[1;32mTrue\u001b[0m\u001b[1;33m:\u001b[0m\u001b[1;33m\u001b[0m\u001b[1;33m\u001b[0m\u001b[0m\n\u001b[1;32m---> 19\u001b[1;33m     \u001b[1;32mif\u001b[0m \u001b[0mcv2\u001b[0m\u001b[1;33m.\u001b[0m\u001b[0mwaitKey\u001b[0m\u001b[1;33m(\u001b[0m\u001b[1;33m)\u001b[0m \u001b[1;33m==\u001b[0m \u001b[0mord\u001b[0m\u001b[1;33m(\u001b[0m\u001b[1;34m''\u001b[0m\u001b[1;33m)\u001b[0m\u001b[1;33m:\u001b[0m\u001b[1;33m\u001b[0m\u001b[1;33m\u001b[0m\u001b[0m\n\u001b[0m\u001b[0;32m     20\u001b[0m         \u001b[1;32mbreak\u001b[0m\u001b[1;33m\u001b[0m\u001b[1;33m\u001b[0m\u001b[0m\n\u001b[0;32m     21\u001b[0m \u001b[1;33m\u001b[0m\u001b[0m\n",
      "\u001b[1;31mTypeError\u001b[0m: ord() expected a character, but string of length 0 found"
     ]
    }
   ],
   "source": [
    "import sys\n",
    "import numpy as np\n",
    "import cv2\n",
    "\n",
    "src = cv2.imread('fig/blue_eyes.png', cv2.IMREAD_GRAYSCALE)\n",
    "\n",
    "if src is None:\n",
    "    print('Image load failed!')\n",
    "    sys.exit()\n",
    "\n",
    "dst_Gaussian = cv2.GaussianBlur(src, (0, 0), 5.0)\n",
    "dst_bilteral = cv2.bilateralFilter(src, -1, 10, 5)\n",
    "\n",
    "cv2.imshow('src', src)\n",
    "cv2.imshow('dst_Gaussian', dst_Gaussian)\n",
    "cv2.imshow('dst_bilteral', dst_bilteral)\n",
    "\n",
    "while True:\n",
    "    if cv2.waitKey() == 27:\n",
    "        break\n",
    "\n",
    "cv2.destroyAllWindows()"
   ]
  },
  {
   "cell_type": "markdown",
   "id": "842f9cd0",
   "metadata": {},
   "source": [
    "## Cartoon 이미지 만들기"
   ]
  },
  {
   "cell_type": "code",
   "execution_count": 3,
   "id": "91bc0dd3",
   "metadata": {},
   "outputs": [
    {
     "name": "stdout",
     "output_type": "stream",
     "text": [
      "50.8005 ms\n"
     ]
    }
   ],
   "source": [
    "import numpy as np\n",
    "import cv2\n",
    "import sys\n",
    "\n",
    "time = cv2.TickMeter()\n",
    "time.start()\n",
    "\n",
    "img = cv2.imread('./fig/son.jpg')\n",
    "\n",
    "if img is None:\n",
    "    print('image read failed')\n",
    "    sys.exit()\n",
    "    \n",
    "blr = cv2.GaussianBlur(img, (0, 0), 2)\n",
    "edge = 255 - cv2.Canny(img, 100, 200)\n",
    "edge = cv2.cvtColor(edge, cv2.COLOR_GRAY2BGR)\n",
    "\n",
    "dst = cv2.bitwise_and(blr, edge)\n",
    "\n",
    "cv2.imshow('img', img)\n",
    "cv2.imshow('dst', dst)\n",
    "\n",
    "time.stop()\n",
    "\n",
    "print(time.getTimeMilli(), 'ms')\n",
    "\n",
    "\n",
    "cv2.waitKey()\n",
    "cv2.destroyAllWindows()"
   ]
  },
  {
   "cell_type": "code",
   "execution_count": null,
   "id": "b2406e3e",
   "metadata": {},
   "outputs": [],
   "source": []
  }
 ],
 "metadata": {
  "kernelspec": {
   "display_name": "Python 3 (ipykernel)",
   "language": "python",
   "name": "python3"
  },
  "language_info": {
   "codemirror_mode": {
    "name": "ipython",
    "version": 3
   },
   "file_extension": ".py",
   "mimetype": "text/x-python",
   "name": "python",
   "nbconvert_exporter": "python",
   "pygments_lexer": "ipython3",
   "version": "3.9.7"
  }
 },
 "nbformat": 4,
 "nbformat_minor": 5
}
