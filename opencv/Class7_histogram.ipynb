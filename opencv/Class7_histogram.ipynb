{
 "cells": [
  {
   "cell_type": "code",
   "execution_count": 2,
   "id": "1251ede3",
   "metadata": {},
   "outputs": [],
   "source": [
    "import numpy as np\n",
    "import cv2\n",
    "import sys \n",
    "\n",
    "import matplotlib.pyplot as plt\n",
    "import os"
   ]
  },
  {
   "cell_type": "code",
   "execution_count": 15,
   "id": "7629650c",
   "metadata": {},
   "outputs": [
    {
     "data": {
      "image/png": "[encoded data removed]",
      "text/plain": [
       "<Figure size 432x288 with 1 Axes>"
      ]
     },
     "metadata": {
      "needs_background": "light"
     },
     "output_type": "display_data"
    }
   ],
   "source": [
    "src = cv2.imread('./fig/lenna.bmp', cv2.IMREAD_COLOR)\n",
    "\n",
    "# cv2.calcHist()\n",
    "# images : 입체영상 리스트(리스트 형식으로 입력)\n",
    "# channels : 채널리스트, 3 채널의 경우 [0, 1, 2]\n",
    "# mask : 마스크 영상입력, 영상전체는 None으로 지정\n",
    "# histSize : 히스토그램 빈의 크기\n",
    "# range : 히스토그램 min, max값\n",
    "# hist : 계산된 히스토그램\n",
    "# accumulate : 기존의 히스토그림을 누적할 경우 True\n",
    "hist_b = cv2.calcHist([src], [0], None, [256], [0, 256])\n",
    "hist_g = cv2.calcHist([src], [1], None, [256], [0, 256])\n",
    "hist_r = cv2.calcHist([src], [2], None, [256], [0, 256])\n",
    "\n",
    "#print(hist)\n",
    "#print(hist.shape)\n",
    "\n",
    "cv2.imshow('src', src)\n",
    "plt.plot(hist_b, c = 'b', label = 'blue channel')\n",
    "plt.plot(hist_g, c = 'g', label = 'green channel')\n",
    "plt.plot(hist_r, c = 'r', label = 'red channel')\n",
    "\n",
    "plt.show()\n",
    "\n",
    "cv2.waitKey()\n",
    "cv2.destroyAllWindows()"
   ]
  },
  {
   "cell_type": "code",
   "execution_count": 23,
   "id": "21083166",
   "metadata": {},
   "outputs": [
    {
     "name": "stdout",
     "output_type": "stream",
     "text": [
      "(256, 1)\n",
      "(200, 256)\n"
     ]
    }
   ],
   "source": [
    "def getGrayHistImage(hist):\n",
    "    \n",
    "    # 비어있는 하얀 창 생성, 200, 256 (h, w) numpy 좌표계로 생성\n",
    "    imgHist = np.full((200, 256), 255, np.uint8)\n",
    "\n",
    "    print(imgHist.shape) # (200, 256)\n",
    "    histMax = np.max(hist)\n",
    "\n",
    "    \n",
    "    for x in range(256):\n",
    "        # x가 1씩 증가하므로, 수학 좌표계로는 (x, 0)\n",
    "        # 그러나 opencv에서는 왼쪽 위가 (0, 0)이기 때문에 \n",
    "        # imgae height값(200)이 수학 좌표의 0이 된다.   \n",
    "        pt1 = (x, 200) \n",
    "        # y를 200 등분한다. histmax로 나눴으나,\n",
    "        # y가 200보다 클 수 없다.\n",
    "        pt2 = (x, 200 - int(hist[x, 0]*200/histMax)) \n",
    "        cv2.line(imgHist, pt1, pt2, 0)  # 직선으로 선이 이어진다.\n",
    "        \n",
    "    return imgHist\n",
    "        \n",
    "# 사진 크기는 256 * 256 (w, h)\n",
    "src = cv2.imread('./fig/lenna.bmp', cv2.IMREAD_GRAYSCALE)\n",
    "\n",
    "hist = cv2.calcHist([src], [0], None, [256], [0, 256])\n",
    "#print(hist)\n",
    "print(hist.shape)  # (256, 1) 크기\n",
    "histImg = getGrayHistImage(hist)\n",
    "\n",
    "cv2.imshow('src', src)\n",
    "cv2.imshow('histImg', histImg)\n",
    "\n",
    "\n",
    "\n",
    "cv2.waitKey()\n",
    "cv2.destroyAllWindows()"
   ]
  },
  {
   "cell_type": "code",
   "execution_count": 2,
   "id": "b941088e",
   "metadata": {},
   "outputs": [
    {
     "name": "stdout",
     "output_type": "stream",
     "text": [
      "100.0 184.0 (369, 80)\n"
     ]
    },
    {
     "ename": "AttributeError",
     "evalue": "module 'cv2' has no attribute 'COLOR_BGRA2YCrCb'",
     "output_type": "error",
     "traceback": [
      "\u001b[1;31m---------------------------------------------------------------------------\u001b[0m",
      "\u001b[1;31mAttributeError\u001b[0m                            Traceback (most recent call last)",
      "\u001b[1;32m~\\AppData\\Local\\Temp/ipykernel_15636/2287076314.py\u001b[0m in \u001b[0;36m<module>\u001b[1;34m\u001b[0m\n\u001b[0;32m     19\u001b[0m \u001b[1;33m\u001b[0m\u001b[0m\n\u001b[0;32m     20\u001b[0m \u001b[1;31m# convert from RGB color-space to YCrCb\u001b[0m\u001b[1;33m\u001b[0m\u001b[1;33m\u001b[0m\u001b[0m\n\u001b[1;32m---> 21\u001b[1;33m \u001b[0mycrcb_img\u001b[0m \u001b[1;33m=\u001b[0m \u001b[0mcv2\u001b[0m\u001b[1;33m.\u001b[0m\u001b[0mcvtColor\u001b[0m\u001b[1;33m(\u001b[0m\u001b[0msrc\u001b[0m\u001b[1;33m,\u001b[0m \u001b[0mcv2\u001b[0m\u001b[1;33m.\u001b[0m\u001b[0mCOLOR_BGRA2YCrCb\u001b[0m\u001b[1;33m)\u001b[0m\u001b[1;33m\u001b[0m\u001b[1;33m\u001b[0m\u001b[0m\n\u001b[0m\u001b[0;32m     22\u001b[0m \u001b[1;31m# equalize the histogram of the Y channel\u001b[0m\u001b[1;33m\u001b[0m\u001b[1;33m\u001b[0m\u001b[0m\n\u001b[0;32m     23\u001b[0m \u001b[0mycrcb_img\u001b[0m\u001b[1;33m[\u001b[0m\u001b[1;33m:\u001b[0m\u001b[1;33m,\u001b[0m \u001b[1;33m:\u001b[0m\u001b[1;33m,\u001b[0m \u001b[1;36m0\u001b[0m\u001b[1;33m]\u001b[0m \u001b[1;33m=\u001b[0m \u001b[0mcv2\u001b[0m\u001b[1;33m.\u001b[0m\u001b[0mequalizeHist\u001b[0m\u001b[1;33m(\u001b[0m\u001b[0mycrcb_img\u001b[0m\u001b[1;33m[\u001b[0m\u001b[1;33m:\u001b[0m\u001b[1;33m,\u001b[0m \u001b[1;33m:\u001b[0m\u001b[1;33m,\u001b[0m \u001b[1;36m0\u001b[0m\u001b[1;33m]\u001b[0m\u001b[1;33m)\u001b[0m\u001b[1;33m\u001b[0m\u001b[1;33m\u001b[0m\u001b[0m\n",
      "\u001b[1;31mAttributeError\u001b[0m: module 'cv2' has no attribute 'COLOR_BGRA2YCrCb'"
     ]
    }
   ],
   "source": [
    "import numpy as np\n",
    "import cv2\n",
    "import sys\n",
    "\n",
    "import matplotlib.pyplot as plt\n",
    "\n",
    "# 히스토그램 노멀라이저\n",
    "\n",
    "src = cv2.imread('./fig/manjang.jpg', cv2.IMREAD_REDUCED_GRAYSCALE_2)\n",
    "\n",
    "smin, smax, _, _ = cv2.minMaxLoc(src)\n",
    "\n",
    "print(smin, smax, _,)\n",
    "\n",
    "# 클리핑 (0, 255) 범위로 값 조절\n",
    "dst_norm_cv = cv2.normalize(src, None, 0, 255, cv2.NORM_MINMAX, -1)\n",
    "dst_norm = np.clip(255*(src - smin)/(smax-smin) + 0, 0, 255).astype(np.uint8)\n",
    "dst_equal = cv2.equalizeHist(src)\n",
    "\n",
    "cv2.imshow('src', src)\n",
    "cv2.imshow('dst_norm', dst_norm)\n",
    "cv2.imshow('dst_norm_cv', dst_norm_cv)\n",
    "cv2.imshow('dst_equal', dst_equal)\n",
    "\n",
    "\n",
    "src_hist = cv2.calcHist([src], [0], None, [256], [0, 256])\n",
    "\n",
    "plt.plot(src_hist)\n",
    "plt.show()\n",
    "\n",
    "cv2.waitKey()\n",
    "cv2.destroyAllWindows()"
   ]
  },
  {
   "cell_type": "code",
   "execution_count": 3,
   "id": "91beecfc",
   "metadata": {},
   "outputs": [
    {
     "name": "stdout",
     "output_type": "stream",
     "text": [
      "0.0 230.0 (2, 152)\n"
     ]
    },
    {
     "data": {
      "image/png": "[encoded data removed]",
      "text/plain": [
       "<Figure size 432x288 with 1 Axes>"
      ]
     },
     "metadata": {
      "needs_background": "light"
     },
     "output_type": "display_data"
    }
   ],
   "source": [
    "# 칼라사진(alpha 값 있는 png)를 노멀라이저, 이퀄라이저 해보기\n",
    "import numpy as np\n",
    "import cv2\n",
    "import sys\n",
    "\n",
    "import matplotlib.pyplot as plt\n",
    "\n",
    "# 히스토그램 노멀라이저\n",
    "\n",
    "src = cv2.imread('./fig/flowers.jpg', 1)\n",
    "\n",
    "# 가우시안 블러 사용 \\\n",
    "blur= cv2.GaussianBlur(src, (0, 0), 3)\n",
    "shirink = np.clip(125*(src - smin)/(smax-smin) + 0, 0, 255).astype(np.uint8)\n",
    "shirink2 = np.clip(src*0.3 + 0, 0, 255).astype(np.uint8)\n",
    "shirink3 = cv2.normalize(src, None, 100, 200, cv2.NORM_MINMAX, -1)\n",
    "smin, smax, _, _ = cv2.minMaxLoc(shirink[3])\n",
    "\n",
    "print(smin, smax, _,)\n",
    "\n",
    "# 클리핑 (0, 255) 범위로 값 조절\n",
    "\n",
    "dst_norm = np.clip(255*(shirink - smin)/(smax-smin) + 0, 0, 255).astype(np.uint8)\n",
    "dst_norm_cv = cv2.normalize(shirink, None, 0, 255, cv2.NORM_MINMAX, -1)\n",
    "\n",
    "# convert from RGB color-space to YCrCb\n",
    "ycrcb_img = cv2.cvtColor(shirink, cv2.COLOR_BGR2YCrCb)\n",
    "\n",
    "# equalize the histogram of the Y channel\n",
    "ycrcb_img[:, :, 0] = cv2.equalizeHist(ycrcb_img[:, :, 0])\n",
    "\n",
    "# convert back to RGB color-space from YCrCb\n",
    "dst_equal = cv2.cvtColor(ycrcb_img, cv2.COLOR_YCrCb2BGR)\n",
    "\n",
    "\n",
    "cv2.imshow('src', src)\n",
    "cv2.imshow('blur', blur)\n",
    "cv2.imshow('shirink', shirink)\n",
    "cv2.imshow('shirink2', shirink2)\n",
    "cv2.imshow('shirink3', shirink3)\n",
    "cv2.imshow('dst_norm', dst_norm)\n",
    "cv2.imshow('dst_norm_cv', dst_norm_cv)\n",
    "cv2.imshow('dst_equal', dst_equal)\n",
    "\n",
    "\n",
    "src_hist = cv2.calcHist([src], [0], None, [256], [0, 256])\n",
    "\n",
    "plt.plot(src_hist)\n",
    "plt.show()\n",
    "\n",
    "cv2.waitKey()\n",
    "cv2.destroyAllWindows()"
   ]
  },
  {
   "cell_type": "code",
   "execution_count": null,
   "id": "e33d3a1a",
   "metadata": {},
   "outputs": [],
   "source": [
    "# 칼라사진(alpha 값 있는 png)를 HSV 방식으로 노멀라이저, 이퀄라이저 해보기\n",
    "import numpy as np\n",
    "import cv2\n",
    "import sys\n",
    "\n",
    "import matplotlib.pyplot as plt\n",
    "\n",
    "src = cv2.imread('./fig/manjang.jpg', cv2.IMREAD_UNCHANGED)\n",
    "src = cv2.resize(src, dsize=(640, 480), interpolation=cv2.INTER_AREA)\n",
    "\n",
    "src_hsv = cv2.cvtColor(src, cv2.COLOR_BGR2HSV)\n",
    "\n",
    "h, s, v = cv2.split(src_hsv)\n",
    "\n",
    "norm = cv2.normalize(v, None, 0, 255, cv2.NORM_MINMAX, -1)\n",
    "equal = cv2.equalizeHist(v)\n",
    "src_Gaussian = cv2.GaussianBlur(equal, (0, 0), 2)\n",
    "\n",
    "src_norm = cv2.merge((h, s, norm))\n",
    "src_equal = cv2.merge((h, s, equal))\n",
    "src_Gaussian = cv2.merge((h, s, src_Gaussian))\n",
    "\n",
    "src_norm = cv2.cvtColor(src_norm, cv2.COLOR_HSV2BGR)\n",
    "src_equal = cv2.cvtColor(src_equal, cv2.COLOR_HSV2BGR)\n",
    "src_Gaussian = cv2.cvtColor(src_Gaussian, cv2.COLOR_HSV2BGR)\n",
    "\n",
    "cv2.imshow('src', src)\n",
    "cv2.imshow('src_norm', src_norm)\n",
    "cv2.imshow('src_equal', src_equal)\n",
    "cv2.imshow('src_Gaussian', src_Gaussian)\n",
    "\n",
    "\n",
    "cv2.waitKey()\n",
    "cv2.destroyAllWindows()"
   ]
  }
 ],
 "metadata": {
  "kernelspec": {
   "display_name": "Python 3 (ipykernel)",
   "language": "python",
   "name": "python3"
  },
  "language_info": {
   "codemirror_mode": {
    "name": "ipython",
    "version": 3
   },
   "file_extension": ".py",
   "mimetype": "text/x-python",
   "name": "python",
   "nbconvert_exporter": "python",
   "pygments_lexer": "ipython3",
   "version": "3.9.7"
  }
 },
 "nbformat": 4,
 "nbformat_minor": 5
}
