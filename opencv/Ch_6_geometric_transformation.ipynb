{
 "cells": [
  {
   "cell_type": "markdown",
   "id": "437713a2",
   "metadata": {},
   "source": [
    "# 기하학적 변환 (Geometric transformation)"
   ]
  },
  {
   "cell_type": "markdown",
   "id": "fae6de7a",
   "metadata": {},
   "source": [
    "## 이동변환 (translate)"
   ]
  },
  {
   "cell_type": "code",
   "execution_count": null,
   "id": "8e51c948",
   "metadata": {},
   "outputs": [],
   "source": [
    "# warpAffine(src, M, dsize[, dst[, flags[, borderMode[, borderValue]]]]) -> dst\n",
    "# src: 입력영상\n",
    "# M: affine transform matrix (size: 2 x 3)\n",
    "# dsize: 출력영상 크기, (0, 0) = 입력영상크기로 출력\n",
    "# borderValue: 값이 없는 영역을 채우는 값, default  = 0"
   ]
  },
  {
   "cell_type": "code",
   "execution_count": 1,
   "id": "d61d6c1f",
   "metadata": {},
   "outputs": [],
   "source": [
    "import sys\n",
    "import numpy as np\n",
    "import cv2\n",
    "\n",
    "\n",
    "src = cv2.imread('fig/puppy.bmp')\n",
    "\n",
    "if src is None:\n",
    "    print('Image load failed!')\n",
    "    sys.exit()\n",
    "\n",
    "affine = np.array([[1, 0, 200],\n",
    "                [0, 1, -100]], dtype=np.float32)\n",
    "\n",
    "dst = cv2.warpAffine(src, affine, (0, 0))\n",
    "\n",
    "cv2.imshow('src', src)\n",
    "cv2.imshow('dst', dst)\n",
    "cv2.waitKey()\n",
    "cv2.destroyAllWindows()"
   ]
  },
  {
   "cell_type": "markdown",
   "id": "c9cb2721",
   "metadata": {},
   "source": [
    "## 영상확대 (Scaling)"
   ]
  },
  {
   "cell_type": "code",
   "execution_count": null,
   "id": "aa191838",
   "metadata": {},
   "outputs": [],
   "source": [
    "# resize(src, dsize[, dst[, fx[, fy[, interpolation]]]]) -> dst\n",
    "# src: 입력영상\n",
    "# dsize: 출력영상의 크기\n",
    "# fx, fy: 0, 0\n",
    "# interpolation"
   ]
  },
  {
   "cell_type": "code",
   "execution_count": 23,
   "id": "f6f12cd1",
   "metadata": {},
   "outputs": [
    {
     "name": "stdout",
     "output_type": "stream",
     "text": [
      "(461, 600, 3)\n"
     ]
    }
   ],
   "source": [
    "import sys\n",
    "import numpy as np\n",
    "import cv2\n",
    "\n",
    "\n",
    "src = cv2.imread('fig/rose.jpg') # src.shape=(320, 480)\n",
    "print(src.shape)\n",
    "if src is None:\n",
    "    print('Image load failed!')\n",
    "    sys.exit()\n",
    "\n",
    "dst1 = cv2.resize(src, (1920, 1280), interpolation=cv2.INTER_NEAREST)\n",
    "dst2 = cv2.resize(src, (1920, 1280))  # cv2.INTER_LINEAR (Bilinear)\n",
    "dst3 = cv2.resize(src, (1920, 1280), interpolation=cv2.INTER_CUBIC)\n",
    "dst4 = cv2.resize(src, (1920, 1280), interpolation=cv2.INTER_LANCZOS4)\n",
    "\n",
    "cv2.imshow('src', src)\n",
    "cv2.imshow('INTER_NEAREST', dst1[800:1600, 800:1200])\n",
    "cv2.imshow('Bilinear', dst2[800:1600, 800:1200])\n",
    "cv2.imshow('INTER_CUBIC', dst3[800:1600, 800:1200])\n",
    "cv2.imshow('INTER_LANCZOS4', dst4[800:1600, 800:1200])\n",
    "cv2.waitKey()\n",
    "cv2.destroyAllWindows()\n"
   ]
  },
  {
   "cell_type": "markdown",
   "id": "269f9969",
   "metadata": {},
   "source": [
    "## 회전변환 (Rotation)"
   ]
  },
  {
   "cell_type": "code",
   "execution_count": null,
   "id": "a2255905",
   "metadata": {},
   "outputs": [],
   "source": [
    "# warpAffine(src, M, dsize[, dst[, flags[, borderMode[, borderValue]]]]) -> dst\n",
    "# src: 입력영상\n",
    "# M: affine transform matrix (size: 2 x 3)\n",
    "# dsize: 출력영상 크기, (0, 0) = 입력영상크기로 출력\n",
    "# borderValue: 값이 없는 영역을 채우는 값, default  = 0\n",
    "\n",
    "# getRotationMatrix2D(center, angle, scale) -> retval\n",
    "# center: 영상의 center\n",
    "# angle: 회전각도\n",
    "# scale: 확대율"
   ]
  },
  {
   "cell_type": "code",
   "execution_count": 35,
   "id": "2605b0f7",
   "metadata": {},
   "outputs": [
    {
     "data": {
      "text/plain": [
       "<ufunc 'cos'>"
      ]
     },
     "execution_count": 35,
     "metadata": {},
     "output_type": "execute_result"
    }
   ],
   "source": [
    "import sys\n",
    "# import math\n",
    "import numpy as np\n",
    "import cv2\n",
    "\n",
    "\n",
    "src = cv2.imread('fig/puppy.bmp')\n",
    "\n",
    "if src is None:\n",
    "    print('Image load failed!')\n",
    "    sys.exit()\n",
    "\n",
    "# rad = 20 * np.pi / 180\n",
    "# affine = np.array([[np.cos(rad), np.sin(rad), 0],\n",
    "#                 [-np.sin(rad), np.cos(rad), 0]], dtype=np.float32)\n",
    "\n",
    "cp = (src.shape[1] / 2, src.shape[0] / 2)\n",
    "\n",
    "affine = cv2.getRotationMatrix2D(cp, 20, 1)\n",
    "\n",
    "dst = cv2.warpAffine(src, affine, (0, 0))\n",
    "\n",
    "cv2.imshow('src', src)\n",
    "cv2.imshow('dst', dst)\n",
    "cv2.waitKey()\n",
    "\n",
    "cv2.destroyAllWindows()\n"
   ]
  },
  {
   "cell_type": "markdown",
   "id": "78eeba78",
   "metadata": {},
   "source": [
    "## Shearing"
   ]
  },
  {
   "cell_type": "code",
   "execution_count": 10,
   "id": "f661d2df",
   "metadata": {},
   "outputs": [],
   "source": [
    "import sys\n",
    "import numpy as np\n",
    "import cv2\n",
    "\n",
    "\n",
    "src = cv2.imread('fig/puppy.bmp')\n",
    "\n",
    "if src is None:\n",
    "    print('Image load failed!')\n",
    "    sys.exit()\n",
    "\n",
    "aff = np.array([[1, 0, 0],\n",
    "                [0.2, 1, 0]], dtype=np.float32)\n",
    "\n",
    "h, w = src.shape[:2]\n",
    "dst = cv2.warpAffine(src, aff, (w + int(h * 0.2), h))\n",
    "\n",
    "cv2.imshow('src', src)\n",
    "cv2.imshow('dst', dst)\n",
    "cv2.waitKey()\n",
    "cv2.destroyAllWindows()\n"
   ]
  },
  {
   "cell_type": "markdown",
   "id": "c24be489",
   "metadata": {},
   "source": [
    "## Warp perspective"
   ]
  },
  {
   "cell_type": "code",
   "execution_count": null,
   "id": "8e4a7eb1",
   "metadata": {},
   "outputs": [],
   "source": [
    "# getPerspectiveTransform(src, dst[, solveMethod]) -> retval\n",
    "# src: 입력영상의 4개 좌표점, numpy array shape(4,2)\n",
    "# dst: 출력영상의 4개 좌표점, numpy array shape(4,2)"
   ]
  },
  {
   "cell_type": "code",
   "execution_count": 15,
   "id": "c7bfff44",
   "metadata": {},
   "outputs": [
    {
     "name": "stdout",
     "output_type": "stream",
     "text": [
      "781 63\n"
     ]
    }
   ],
   "source": [
    "import sys\n",
    "import numpy as np\n",
    "import cv2\n",
    "\n",
    "\n",
    "src = cv2.imread('fig/checkerboard.png')\n",
    "\n",
    "if src is None:\n",
    "    print('Image load failed!')\n",
    "    sys.exit()\n",
    "\n",
    "\n",
    "h, w = src.shape[:2]\n",
    "\n",
    "srcQuad = np.array([[217, 50], [691, 47], [830, 517], [67, 526]], np.float32)\n",
    "dstQuad = np.array([[0, 0], [w-1, 0], [w-1, h-1], [0, h-1]], np.float32)\n",
    "\n",
    "pers = cv2.getPerspectiveTransform(srcQuad, dstQuad)\n",
    "dst = cv2.warpPerspective(src, pers, (w, h))\n",
    "\n",
    "cv2.imshow('src', src)\n",
    "cv2.imshow('dst', dst)\n",
    "cv2.waitKey()\n",
    "cv2.destroyAllWindows()"
   ]
  },
  {
   "cell_type": "markdown",
   "id": "8ec28a88",
   "metadata": {},
   "source": [
    "##  Remapping"
   ]
  },
  {
   "cell_type": "code",
   "execution_count": null,
   "id": "bac76744",
   "metadata": {},
   "outputs": [],
   "source": [
    "# remap(src, map1, map2, interpolation[, dst[, borderMode[, borderValue]]]) -> dst"
   ]
  },
  {
   "cell_type": "code",
   "execution_count": 19,
   "id": "8e39a551",
   "metadata": {},
   "outputs": [
    {
     "name": "stdout",
     "output_type": "stream",
     "text": [
      "[[  0.   0.   0. ...   0.   0.   0.]\n",
      " [  1.   1.   1. ...   1.   1.   1.]\n",
      " [  2.   2.   2. ...   2.   2.   2.]\n",
      " ...\n",
      " [597. 597. 597. ... 597. 597. 597.]\n",
      " [598. 598. 598. ... 598. 598. 598.]\n",
      " [599. 599. 599. ... 599. 599. 599.]]\n",
      "(600, 498)\n",
      "[[ 0.          0.          0.         ...  0.          0.\n",
      "   0.        ]\n",
      " [ 0.03124491  0.03124491  0.03124491 ...  0.03124491  0.03124491\n",
      "   0.03124491]\n",
      " [ 0.06245932  0.06245932  0.06245932 ...  0.06245932  0.06245932\n",
      "   0.06245932]\n",
      " ...\n",
      " [-0.19210428 -0.19210428 -0.19210428 ... -0.19210428 -0.19210428\n",
      "  -0.19210428]\n",
      " [-0.16134752 -0.16134752 -0.16134752 ... -0.16134752 -0.16134752\n",
      "  -0.16134752]\n",
      " [-0.13043322 -0.13043322 -0.13043322 ... -0.13043322 -0.13043322\n",
      "  -0.13043322]]\n"
     ]
    }
   ],
   "source": [
    "import sys\n",
    "import numpy as np\n",
    "import cv2\n",
    "\n",
    "\n",
    "src = cv2.imread('fig/bamboo.jpg')\n",
    "#\n",
    "if src is None:\n",
    "    print('Image load failed!')\n",
    "    sys.exit()\n",
    "\n",
    "h, w = src.shape[:2]\n",
    "\n",
    "map2, map1 = np.indices((h, w), dtype=np.float32)\n",
    "print(map2)\n",
    "print(map2.shape)\n",
    "map1 = map1 + 10 * np.sin(map2/32)\n",
    "\n",
    "print(np.sin(map2/32))\n",
    "dst = cv2.remap(src, map1, map2, cv2.INTER_CUBIC, borderMode=cv2.BORDER_DEFAULT)\n",
    "\n",
    "cv2.imshow('src', src)\n",
    "cv2.imshow('dst', dst)\n",
    "cv2.waitKey()\n",
    "\n",
    "cv2.destroyAllWindows()"
   ]
  }
 ],
 "metadata": {
  "kernelspec": {
   "display_name": "Python 3 (ipykernel)",
   "language": "python",
   "name": "python3"
  },
  "language_info": {
   "codemirror_mode": {
    "name": "ipython",
    "version": 3
   },
   "file_extension": ".py",
   "mimetype": "text/x-python",
   "name": "python",
   "nbconvert_exporter": "python",
   "pygments_lexer": "ipython3",
   "version": "3.9.7"
  }
 },
 "nbformat": 4,
 "nbformat_minor": 5
}
